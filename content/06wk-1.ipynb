{
 "cells": [
  {
   "cell_type": "raw",
   "id": "ad1945b3-1584-4f25-899b-dfe818de00e6",
   "metadata": {
    "vscode": {
     "languageId": "raw"
    }
   },
   "source": [
    "---\n",
    "title: \"06wk-1: [Python] -- tuple // 숙제\"\n",
    "author: \"최규빈\"\n",
    "date: \"04/08/2025\"\n",
    "draft: false\n",
    "---"
   ]
  },
  {
   "cell_type": "markdown",
   "id": "3b82c9fb-a4b4-43df-a23b-38397d2e716a",
   "metadata": {},
   "source": [
    "{{<video https://youtu.be/playlist?list=PLQqh36zP38-y1PyNPBekfkwY6-rRDaT8H&si=XPelTsOsEl1qkGPX >}}"
   ]
  },
  {
   "cell_type": "markdown",
   "id": "60807274-0c3e-4032-ade3-028190fd8984",
   "metadata": {},
   "source": [
    "## 1. `tuple`\n"
   ]
  },
  {
   "cell_type": "markdown",
   "id": "521fad7d-b0e3-477f-8bfb-5e6db6ac0180",
   "metadata": {},
   "source": [
    "### A. 선언\n"
   ]
  },
  {
   "cell_type": "markdown",
   "id": "278177d6-28af-43d5-b466-2b4037dc41d2",
   "metadata": {},
   "source": [
    "`-` 소괄호를 이용하여 선언한다. "
   ]
  },
  {
   "cell_type": "code",
   "execution_count": 88,
   "id": "efccc731-19c7-4fc9-9c83-e52599a65912",
   "metadata": {},
   "outputs": [
    {
     "data": {
      "text/plain": [
       "(1, 2, 3)"
      ]
     },
     "execution_count": 88,
     "metadata": {},
     "output_type": "execute_result"
    }
   ],
   "source": [
    "a=(1,2,3)\n",
    "a"
   ]
  },
  {
   "cell_type": "code",
   "execution_count": 89,
   "id": "bc14cde8-c7e7-43a2-95a2-7f9c58e81a55",
   "metadata": {},
   "outputs": [
    {
     "data": {
      "text/plain": [
       "tuple"
      ]
     },
     "execution_count": 89,
     "metadata": {},
     "output_type": "execute_result"
    }
   ],
   "source": [
    "type(a)"
   ]
  },
  {
   "cell_type": "markdown",
   "id": "873ddc82-1420-4fdc-84fc-635004e7ec0e",
   "metadata": {},
   "source": [
    "`-` 생략가능하다는 점이 포인트이다."
   ]
  },
  {
   "cell_type": "code",
   "execution_count": 90,
   "id": "14d62e71-d1de-423b-80a7-191efb2e6ca1",
   "metadata": {},
   "outputs": [
    {
     "data": {
      "text/plain": [
       "(1, 2, 3)"
      ]
     },
     "execution_count": 90,
     "metadata": {},
     "output_type": "execute_result"
    }
   ],
   "source": [
    "a=1,2,3\n",
    "a"
   ]
  },
  {
   "cell_type": "code",
   "execution_count": 91,
   "id": "cdd85753-44ff-48fe-b687-4264ca34e04b",
   "metadata": {},
   "outputs": [
    {
     "data": {
      "text/plain": [
       "tuple"
      ]
     },
     "execution_count": 91,
     "metadata": {},
     "output_type": "execute_result"
    }
   ],
   "source": [
    "type(a)"
   ]
  },
  {
   "cell_type": "markdown",
   "id": "3e5ef733-c9ab-44c3-b0e5-9b53961b3d9d",
   "metadata": {},
   "source": [
    "`-` 원소가 하나인 튜플을 만들고 싶다면?"
   ]
  },
  {
   "cell_type": "code",
   "execution_count": 92,
   "id": "690dbcbe-e632-4be8-a137-18bb33188041",
   "metadata": {},
   "outputs": [
    {
     "data": {
      "text/plain": [
       "(1,)"
      ]
     },
     "execution_count": 92,
     "metadata": {},
     "output_type": "execute_result"
    }
   ],
   "source": [
    "a=(1,)\n",
    "a"
   ]
  },
  {
   "cell_type": "markdown",
   "id": "9f8d3551-fc16-4529-a3d1-277536fab294",
   "metadata": {},
   "source": [
    "### B. 연산\n"
   ]
  },
  {
   "cell_type": "markdown",
   "id": "8126fcba-b3fe-4e0d-876f-32c2904091d2",
   "metadata": {},
   "source": [
    "\n",
    "`-` 리스트와 동일"
   ]
  },
  {
   "cell_type": "code",
   "execution_count": 93,
   "id": "9d001fd8-3259-42d1-a640-78f8150b440c",
   "metadata": {},
   "outputs": [
    {
     "data": {
      "text/plain": [
       "(1, 2, 3, 4, 5)"
      ]
     },
     "execution_count": 93,
     "metadata": {},
     "output_type": "execute_result"
    }
   ],
   "source": [
    "(1,2)+(3,4,5)"
   ]
  },
  {
   "cell_type": "code",
   "execution_count": 94,
   "id": "a1e244e9-be4d-465f-a348-a2ebcfe8bc20",
   "metadata": {},
   "outputs": [
    {
     "data": {
      "text/plain": [
       "(1, 2, 1, 2)"
      ]
     },
     "execution_count": 94,
     "metadata": {},
     "output_type": "execute_result"
    }
   ],
   "source": [
    "(1,2)*2"
   ]
  },
  {
   "cell_type": "markdown",
   "id": "299b299d-38b2-4490-8517-b73a4082565f",
   "metadata": {},
   "source": [
    "### C. 인덱싱\n"
   ]
  },
  {
   "cell_type": "markdown",
   "id": "2ec77d6e-fd4c-476b-96a3-a1c52bd27869",
   "metadata": {},
   "source": [
    "\n",
    "`-` 리스트와 동일"
   ]
  },
  {
   "cell_type": "code",
   "execution_count": 95,
   "id": "6be5ee9e-9a75-4a58-a270-dda0be5cb902",
   "metadata": {},
   "outputs": [
    {
     "data": {
      "text/plain": [
       "(1, 2, 3, -4, -5)"
      ]
     },
     "execution_count": 95,
     "metadata": {},
     "output_type": "execute_result"
    }
   ],
   "source": [
    "a=(1,2,3,-4,-5)\n",
    "a"
   ]
  },
  {
   "cell_type": "code",
   "execution_count": 96,
   "id": "a0e20c2c-2939-42c2-bf3f-df06c2c8265c",
   "metadata": {},
   "outputs": [
    {
     "data": {
      "text/plain": [
       "-5"
      ]
     },
     "execution_count": 96,
     "metadata": {},
     "output_type": "execute_result"
    }
   ],
   "source": [
    "a[-1]"
   ]
  },
  {
   "cell_type": "code",
   "execution_count": 97,
   "id": "e0782f53-51d3-476f-849a-eaaa0568b4e4",
   "metadata": {},
   "outputs": [
    {
     "data": {
      "text/plain": [
       "(3, -4, -5)"
      ]
     },
     "execution_count": 97,
     "metadata": {},
     "output_type": "execute_result"
    }
   ],
   "source": [
    "a[-3:]"
   ]
  },
  {
   "cell_type": "markdown",
   "id": "748745c9",
   "metadata": {},
   "source": [
    "### D. 리스트 vs 튜플"
   ]
  },
  {
   "cell_type": "markdown",
   "id": "0672e9d0-4822-4508-9b37-ce934d96a5c2",
   "metadata": {},
   "source": [
    "`-` 공통점: (1) 컨테이너형타입이라는 점, 그리고 (2) 연산 및 인덱싱을 하는 방법은 리스트와 같음 \n",
    "\n",
    "- 차이점1: \\[\\] 대신에 ()를 사용한다. \n",
    "- 차이점2: 불변형이다. (원소의 값을 바꿀 수 없음) \n",
    "- 차이점3: 하나의 원소를 선언할 때는 (1,)와 같이 해야 한다. \n",
    "- 차이점4: 의미가 명확할때는 튜플의 ()를 생략가능하다."
   ]
  },
  {
   "cell_type": "markdown",
   "id": "e49b6c5e-9e33-430a-a30b-7d5a65a0819a",
   "metadata": {},
   "source": [
    "`-` 튜플은 컨테이너형 자료라는 점에서 리스트와 비슷하다. "
   ]
  },
  {
   "cell_type": "code",
   "execution_count": 67,
   "id": "a05efa44-2bec-4b9d-813f-4caffb2a97fa",
   "metadata": {},
   "outputs": [],
   "source": [
    "a=(4,6,'pencil', 3.2+4.6j, [3,4])"
   ]
  },
  {
   "cell_type": "code",
   "execution_count": 68,
   "id": "77881e90-9f49-4ae2-bd57-1bba0c57e04b",
   "metadata": {},
   "outputs": [
    {
     "data": {
      "text/plain": [
       "str"
      ]
     },
     "execution_count": 68,
     "metadata": {},
     "output_type": "execute_result"
    }
   ],
   "source": [
    "type(a[2])"
   ]
  },
  {
   "cell_type": "code",
   "execution_count": 69,
   "id": "07cc6646-3ff7-497f-bd52-2448dd266a9b",
   "metadata": {},
   "outputs": [
    {
     "data": {
      "text/plain": [
       "complex"
      ]
     },
     "execution_count": 69,
     "metadata": {},
     "output_type": "execute_result"
    }
   ],
   "source": [
    "type(a[3])"
   ]
  },
  {
   "cell_type": "markdown",
   "id": "acd7f5d1-d504-4189-bd49-51a73ebec973",
   "metadata": {},
   "source": [
    "`-` 튜플과 리스트는 `+` 와 `*` 가 같은 의미를 가진다. "
   ]
  },
  {
   "cell_type": "code",
   "execution_count": 70,
   "id": "f4e34e5f-c835-44eb-9b25-41bf3968a7e2",
   "metadata": {},
   "outputs": [
    {
     "data": {
      "text/plain": [
       "(1, 2, 3, 4, 5)"
      ]
     },
     "execution_count": 70,
     "metadata": {},
     "output_type": "execute_result"
    }
   ],
   "source": [
    "(1,2) + (3,4,5)"
   ]
  },
  {
   "cell_type": "code",
   "execution_count": 71,
   "id": "ab7eca32-823e-45be-9561-10c5af37f48b",
   "metadata": {},
   "outputs": [
    {
     "data": {
      "text/plain": [
       "(1, 2, 1, 2)"
      ]
     },
     "execution_count": 71,
     "metadata": {},
     "output_type": "execute_result"
    }
   ],
   "source": [
    "(1,2) * 2"
   ]
  },
  {
   "cell_type": "markdown",
   "id": "4f528d79-4ab6-4ad3-bd65-f73f2681db88",
   "metadata": {},
   "source": [
    "`-` 튜플은 리스트와 인덱싱을 하는 방법이 같다. "
   ]
  },
  {
   "cell_type": "code",
   "execution_count": 72,
   "id": "4839e6ed-2b9d-4da8-a85d-72782f807d98",
   "metadata": {},
   "outputs": [
    {
     "data": {
      "text/plain": [
       "(21, 31)"
      ]
     },
     "execution_count": 72,
     "metadata": {},
     "output_type": "execute_result"
    }
   ],
   "source": [
    "tpl = (11,21,31)\n",
    "tpl[1:]"
   ]
  },
  {
   "cell_type": "markdown",
   "id": "824877a3-bb8e-4990-bfd1-2a0e4d89fd6b",
   "metadata": {},
   "source": [
    "`-` 차이점2: 튜플은 불변형이라는 점에서 리스트와 다르다."
   ]
  },
  {
   "cell_type": "code",
   "execution_count": 75,
   "id": "4e38972f-e103-48bc-8f40-5bf4b9108860",
   "metadata": {},
   "outputs": [],
   "source": [
    "a=(4,6,'pencil', 3.2+4.6j, [3,4])"
   ]
  },
  {
   "cell_type": "code",
   "execution_count": 77,
   "id": "4958e2c7-2ccb-47ac-a2bf-e8601885da36",
   "metadata": {},
   "outputs": [
    {
     "ename": "TypeError",
     "evalue": "'tuple' object does not support item assignment",
     "output_type": "error",
     "traceback": [
      "\u001b[31m---------------------------------------------------------------------------\u001b[39m",
      "\u001b[31mTypeError\u001b[39m                                 Traceback (most recent call last)",
      "\u001b[36mCell\u001b[39m\u001b[36m \u001b[39m\u001b[32mIn[77]\u001b[39m\u001b[32m, line 1\u001b[39m\n\u001b[32m----> \u001b[39m\u001b[32m1\u001b[39m \u001b[43ma\u001b[49m\u001b[43m[\u001b[49m\u001b[32;43m2\u001b[39;49m\u001b[43m]\u001b[49m = \u001b[33m'\u001b[39m\u001b[33mPencil\u001b[39m\u001b[33m'\u001b[39m\n",
      "\u001b[31mTypeError\u001b[39m: 'tuple' object does not support item assignment"
     ]
    }
   ],
   "source": [
    "a[2] = 'Pencil'"
   ]
  },
  {
   "cell_type": "markdown",
   "id": "8cfcd3c8-33d5-4acd-ba76-eec7e6ff8d78",
   "metadata": {},
   "source": [
    "참고로 a를 튜플이 아니라 리스트로 선언하면 값이 잘 바뀐다."
   ]
  },
  {
   "cell_type": "code",
   "execution_count": 78,
   "id": "b92b482e-72de-488d-8420-6162edae4ff3",
   "metadata": {},
   "outputs": [],
   "source": [
    "a=[4,6,'pencil', 3.2+4.6j, [3,4]]"
   ]
  },
  {
   "cell_type": "code",
   "execution_count": 81,
   "id": "bf3f2f36-15a5-44ab-98eb-b1182be46aa0",
   "metadata": {},
   "outputs": [],
   "source": [
    "a[2]='Pencil'"
   ]
  },
  {
   "cell_type": "code",
   "execution_count": 82,
   "id": "17c0478a-33a0-4059-b9ec-6cd5742f2c08",
   "metadata": {},
   "outputs": [
    {
     "data": {
      "text/plain": [
       "[4, 6, 'Pencil', (3.2+4.6j), [3, 4]]"
      ]
     },
     "execution_count": 82,
     "metadata": {},
     "output_type": "execute_result"
    }
   ],
   "source": [
    "a"
   ]
  },
  {
   "cell_type": "markdown",
   "id": "b7ce70d8-8772-4012-a982-ce50ba47c408",
   "metadata": {},
   "source": [
    "`-` 차이점3: 하나의 원소로 이루어진 튜플을 만들때는 쉼표를 붙여야 함."
   ]
  },
  {
   "cell_type": "code",
   "execution_count": 83,
   "id": "11eb9b25-7d9c-46be-87be-eb2f579cf464",
   "metadata": {},
   "outputs": [
    {
     "data": {
      "text/plain": [
       "[1, 2, 3, 4]"
      ]
     },
     "execution_count": 83,
     "metadata": {},
     "output_type": "execute_result"
    }
   ],
   "source": [
    "[1]+[2,3,4]"
   ]
  },
  {
   "cell_type": "code",
   "execution_count": 84,
   "id": "08b64aef-fb61-49f0-8a92-1c4d92ad05a2",
   "metadata": {},
   "outputs": [
    {
     "data": {
      "text/plain": [
       "(1, 2, 3, 4)"
      ]
     },
     "execution_count": 84,
     "metadata": {},
     "output_type": "execute_result"
    }
   ],
   "source": [
    "(1,)+(2,3,4)"
   ]
  },
  {
   "cell_type": "markdown",
   "id": "c13d5906-4a54-43e7-94a5-2b9723e50fa5",
   "metadata": {},
   "source": [
    "`-` 차이점4: 의미가 명확할때 튜플의 괄호는 생략가능하다. (이게\n",
    "중요합니다)"
   ]
  },
  {
   "cell_type": "code",
   "execution_count": 85,
   "id": "94dc772d-b4e9-485c-b9bb-9406b705602a",
   "metadata": {},
   "outputs": [
    {
     "data": {
      "text/plain": [
       "(1, 2)"
      ]
     },
     "execution_count": 85,
     "metadata": {},
     "output_type": "execute_result"
    }
   ],
   "source": [
    "a=1,2\n",
    "a"
   ]
  },
  {
   "cell_type": "markdown",
   "id": "595452aa-0b08-4af3-a53c-35153cbf0980",
   "metadata": {},
   "source": [
    "의미가 명확할때 생략해야함"
   ]
  },
  {
   "cell_type": "code",
   "execution_count": 86,
   "id": "c9b46e46-4010-4166-86f1-12a14158b19d",
   "metadata": {},
   "outputs": [
    {
     "data": {
      "text/plain": [
       "(1, 5, 4, 5)"
      ]
     },
     "execution_count": 86,
     "metadata": {},
     "output_type": "execute_result"
    }
   ],
   "source": [
    "1,2 + 3,4,5 "
   ]
  },
  {
   "cell_type": "code",
   "execution_count": 87,
   "id": "2279df01-40e3-4e16-8653-a75cd45c9dd3",
   "metadata": {},
   "outputs": [
    {
     "data": {
      "text/plain": [
       "(1, 2, 3, 4, 5)"
      ]
     },
     "execution_count": 87,
     "metadata": {},
     "output_type": "execute_result"
    }
   ],
   "source": [
    "(1,2) + (3,4,5) "
   ]
  },
  {
   "cell_type": "markdown",
   "id": "95700267-9da9-46a0-a774-e554ab3bb7d8",
   "metadata": {},
   "source": [
    "### E. 슬기로운 튜플사용 ($\\star$)\n"
   ]
  },
  {
   "cell_type": "markdown",
   "id": "781e4018-3219-4eb6-85c5-858598a91443",
   "metadata": {},
   "source": [
    "`# 예제` – 여러변수를 동시에 출력하고 싶을 경우 (다중출력?)"
   ]
  },
  {
   "cell_type": "markdown",
   "id": "0c3059b9-4556-4220-acf4-2e12be44d725",
   "metadata": {},
   "source": [
    "변수를 아래와 같이 선언하였다고 하자."
   ]
  },
  {
   "cell_type": "code",
   "execution_count": 107,
   "id": "a3a60495-96cb-4921-b5b5-2a2cb64e23aa",
   "metadata": {},
   "outputs": [],
   "source": [
    "a=1\n",
    "b=2\n",
    "c=3"
   ]
  },
  {
   "cell_type": "markdown",
   "id": "df061aa5-9880-42fd-a701-a1a31ddf7e66",
   "metadata": {},
   "source": [
    "선언된 값을 확인하려면?"
   ]
  },
  {
   "cell_type": "code",
   "execution_count": 108,
   "id": "5d71a267-0556-4c8a-9622-b6e5ee641fdc",
   "metadata": {},
   "outputs": [
    {
     "data": {
      "text/plain": [
       "1"
      ]
     },
     "execution_count": 108,
     "metadata": {},
     "output_type": "execute_result"
    }
   ],
   "source": [
    "a"
   ]
  },
  {
   "cell_type": "code",
   "execution_count": 109,
   "id": "db1d6782-44ec-4cbd-ac00-bfd7470c6035",
   "metadata": {},
   "outputs": [
    {
     "data": {
      "text/plain": [
       "2"
      ]
     },
     "execution_count": 109,
     "metadata": {},
     "output_type": "execute_result"
    }
   ],
   "source": [
    "b"
   ]
  },
  {
   "cell_type": "code",
   "execution_count": 110,
   "id": "f0328808-38e8-441e-b816-44a648629f94",
   "metadata": {},
   "outputs": [
    {
     "data": {
      "text/plain": [
       "3"
      ]
     },
     "execution_count": 110,
     "metadata": {},
     "output_type": "execute_result"
    }
   ],
   "source": [
    "c"
   ]
  },
  {
   "cell_type": "markdown",
   "id": "9ad86487-cad8-4ced-9add-7ce1f4b10018",
   "metadata": {},
   "source": [
    "튜플을 이용하면?"
   ]
  },
  {
   "cell_type": "code",
   "execution_count": 111,
   "id": "4763a5b4-3c53-41ed-8195-18c9d7369f72",
   "metadata": {},
   "outputs": [
    {
     "data": {
      "text/plain": [
       "(1, 2, 3)"
      ]
     },
     "execution_count": 111,
     "metadata": {},
     "output_type": "execute_result"
    }
   ],
   "source": [
    "a,b,c # 괄호하나 생략하는것이 이렇게 편하다.."
   ]
  },
  {
   "cell_type": "markdown",
   "id": "81a232a8-38cf-4f79-afc2-e6d955a905e8",
   "metadata": {},
   "source": [
    "`#`\n"
   ]
  },
  {
   "cell_type": "markdown",
   "id": "43aa11c8-053e-401d-a70b-be6424410a03",
   "metadata": {},
   "source": [
    "`# 예제2` – 다중할당1 (여러개의 변수를 동시에 선언하고 싶을 경우)"
   ]
  },
  {
   "cell_type": "markdown",
   "id": "4500ec2f-4751-492d-a428-5df56cfe2061",
   "metadata": {},
   "source": [
    "아래와 같이 `=`를 5번 쓰면 5개의 변수를 선언할 수 있다."
   ]
  },
  {
   "cell_type": "code",
   "execution_count": 112,
   "id": "8484fd4a-2c26-495b-a103-c48a48d915d6",
   "metadata": {},
   "outputs": [],
   "source": [
    "name = 'Tom'\n",
    "age = 20 \n",
    "sex = 'M'\n",
    "height = 180\n",
    "weight = 70"
   ]
  },
  {
   "cell_type": "markdown",
   "id": "8d12738a-3385-4050-a64d-87c3b3eaac16",
   "metadata": {},
   "source": [
    "튜플을 이용하면 좀더 간단히 하나의 `=` 로도 아래와 같이 선언할 수 있다."
   ]
  },
  {
   "cell_type": "code",
   "execution_count": 118,
   "id": "fd9c6193-7cf7-443b-887f-45b516c9a1e0",
   "metadata": {},
   "outputs": [],
   "source": [
    "name, age, sex, height, weight = 'Tom', 20, 'M', 180, 70  # 다중할당"
   ]
  },
  {
   "cell_type": "markdown",
   "id": "40ab382b-3390-48c9-a90f-dd25840ef100",
   "metadata": {},
   "source": [
    "`#`\n"
   ]
  },
  {
   "cell_type": "markdown",
   "id": "d22ad847",
   "metadata": {},
   "source": [
    "`# 예제3` – 다중할당2, 위도와 경도"
   ]
  },
  {
   "cell_type": "code",
   "execution_count": 119,
   "id": "7999d6a5-fbc0-422e-80c8-25aec8eec4e0",
   "metadata": {},
   "outputs": [
    {
     "data": {
      "text/plain": [
       "(37, 127)"
      ]
     },
     "execution_count": 119,
     "metadata": {},
     "output_type": "execute_result"
    }
   ],
   "source": [
    "coor = (37,127) # 서울 \n",
    "coor"
   ]
  },
  {
   "cell_type": "code",
   "execution_count": 124,
   "id": "517541a1-eff4-4a64-9ec2-ece853d66e30",
   "metadata": {},
   "outputs": [],
   "source": [
    "lat, long = coor # 다중할당"
   ]
  },
  {
   "cell_type": "code",
   "execution_count": 125,
   "id": "b1b93305-dfc5-4151-9a97-e8fdf415dabb",
   "metadata": {},
   "outputs": [
    {
     "data": {
      "text/plain": [
       "37"
      ]
     },
     "execution_count": 125,
     "metadata": {},
     "output_type": "execute_result"
    }
   ],
   "source": [
    "lat "
   ]
  },
  {
   "cell_type": "code",
   "execution_count": 126,
   "id": "ff02e312-217a-48d5-b3c3-f3619e0f874a",
   "metadata": {},
   "outputs": [
    {
     "data": {
      "text/plain": [
       "127"
      ]
     },
     "execution_count": 126,
     "metadata": {},
     "output_type": "execute_result"
    }
   ],
   "source": [
    "long "
   ]
  },
  {
   "cell_type": "markdown",
   "id": "e09dbb26-ed35-4a5c-af15-bc980640479e",
   "metadata": {},
   "source": [
    "`#`\n"
   ]
  },
  {
   "cell_type": "markdown",
   "id": "f89bd165",
   "metadata": {},
   "source": [
    "\n",
    "`# 잠깐만` – 다중할당은 꼭 튜플에서만 가능한가?\n",
    "\n",
    "그건 아니다…"
   ]
  },
  {
   "cell_type": "code",
   "execution_count": 133,
   "id": "110781c3-01c4-4a57-afc6-ec82d470c658",
   "metadata": {},
   "outputs": [
    {
     "data": {
      "text/plain": [
       "(1, 2, 3)"
      ]
     },
     "execution_count": 133,
     "metadata": {},
     "output_type": "execute_result"
    }
   ],
   "source": [
    "[x,y,z] = [1,2,3] \n",
    "x,y,z # 다중출력 "
   ]
  },
  {
   "cell_type": "code",
   "execution_count": 31,
   "id": "f450a3db-672c-4550-84a4-b2cd83704875",
   "metadata": {},
   "outputs": [],
   "source": [
    "[x,y] = 'hi'\n",
    "x,y "
   ]
  },
  {
   "cell_type": "markdown",
   "id": "a5a3c86e-786c-4dd5-b668-adf9d088badf",
   "metadata": {},
   "source": [
    "튜플과 같이 사용하면 가독성이 극대화 (그래서 다중할당은 거의 튜플과\n",
    "세트로 사용함)"
   ]
  },
  {
   "cell_type": "code",
   "execution_count": 141,
   "id": "533f4400-1606-4d25-881f-2e95957b91f2",
   "metadata": {},
   "outputs": [
    {
     "data": {
      "text/plain": [
       "(1, 2, 3)"
      ]
     },
     "execution_count": 141,
     "metadata": {},
     "output_type": "execute_result"
    }
   ],
   "source": [
    "x,y,z = 1,2,3\n",
    "x,y,z # 다중출력 "
   ]
  },
  {
   "cell_type": "code",
   "execution_count": 142,
   "id": "98ef9545-5224-4860-96cf-e5eafdd0da5e",
   "metadata": {},
   "outputs": [
    {
     "data": {
      "text/plain": [
       "('h', 'i')"
      ]
     },
     "execution_count": 142,
     "metadata": {},
     "output_type": "execute_result"
    }
   ],
   "source": [
    "x,y = 'hi'\n",
    "x,y "
   ]
  },
  {
   "cell_type": "markdown",
   "id": "c1e919f6-afb5-4f48-8f9a-01f74a844576",
   "metadata": {},
   "source": [
    "`#`\n"
   ]
  },
  {
   "cell_type": "markdown",
   "id": "6d6c6c32",
   "metadata": {},
   "source": [
    "\n",
    "`# 예제` – 임시변수 사용없이 두 변수의 값을 교환"
   ]
  },
  {
   "cell_type": "code",
   "execution_count": 158,
   "id": "6bfb7100-8899-4e59-83b1-c9b59e59126d",
   "metadata": {},
   "outputs": [],
   "source": [
    "a=10\n",
    "b=20"
   ]
  },
  {
   "cell_type": "code",
   "execution_count": 159,
   "id": "7cee1ba9-f3b7-4df9-9a6c-474dc6825e2f",
   "metadata": {},
   "outputs": [
    {
     "data": {
      "text/plain": [
       "(10, 20)"
      ]
     },
     "execution_count": 159,
     "metadata": {},
     "output_type": "execute_result"
    }
   ],
   "source": [
    "a,b"
   ]
  },
  {
   "cell_type": "code",
   "execution_count": 160,
   "id": "72c438ae-1bc8-4cee-a8ca-8ff9af1d6e22",
   "metadata": {},
   "outputs": [],
   "source": [
    "a,b = b,a "
   ]
  },
  {
   "cell_type": "code",
   "execution_count": 161,
   "id": "64ca830e-686c-4693-9bf9-1f72eec0f882",
   "metadata": {},
   "outputs": [
    {
     "data": {
      "text/plain": [
       "(20, 10)"
      ]
     },
     "execution_count": 161,
     "metadata": {},
     "output_type": "execute_result"
    }
   ],
   "source": [
    "a,b"
   ]
  },
  {
   "cell_type": "markdown",
   "id": "c7ea50b2-592e-4514-8c47-516438e1929e",
   "metadata": {},
   "source": [
    "`#`\n"
   ]
  },
  {
   "cell_type": "markdown",
   "id": "56e92b8e",
   "metadata": {},
   "source": [
    "\n",
    "`# 예제` – for문과 튜플"
   ]
  },
  {
   "cell_type": "code",
   "execution_count": 186,
   "id": "3aa4ce6a-62c8-4754-bd08-9fbc913dad06",
   "metadata": {},
   "outputs": [
    {
     "data": {
      "text/plain": [
       "[['guebin', 202112345, 'M'],\n",
       " ['iu', 202254321, 'F'],\n",
       " ['hodong', 202011223, 'M']]"
      ]
     },
     "execution_count": 186,
     "metadata": {},
     "output_type": "execute_result"
    }
   ],
   "source": [
    "lst = [['guebin', 202112345, 'M'],\n",
    "       ['iu',202254321, 'F'],\n",
    "       ['hodong', 202011223, 'M']]\n",
    "lst"
   ]
  },
  {
   "cell_type": "code",
   "execution_count": 190,
   "id": "2dc3aa32-7626-4f18-b9a8-0d252aa886cf",
   "metadata": {},
   "outputs": [
    {
     "name": "stdout",
     "output_type": "stream",
     "text": [
      "guebin 202112345\n",
      "iu 202254321\n",
      "hodong 202011223\n"
     ]
    }
   ],
   "source": [
    "for name,studentid,sex in lst: \n",
    "    print(name,studentid)"
   ]
  },
  {
   "cell_type": "markdown",
   "id": "293cb9f8-a94e-4474-b30b-bc17349f14e0",
   "metadata": {},
   "source": [
    "`#`\n"
   ]
  },
  {
   "cell_type": "markdown",
   "id": "faa8a1d9",
   "metadata": {},
   "source": [
    "\n",
    "`# 예제` – for문과 튜플, dummy variable `_`"
   ]
  },
  {
   "cell_type": "code",
   "execution_count": 199,
   "id": "3b6d3887-a8d6-4fbc-845e-b1cb82c18ad2",
   "metadata": {},
   "outputs": [
    {
     "name": "stdout",
     "output_type": "stream",
     "text": [
      "202112345\n",
      "202254321\n",
      "202011223\n"
     ]
    }
   ],
   "source": [
    "for name,studentid,sex in lst: \n",
    "    print(studentid)"
   ]
  },
  {
   "cell_type": "code",
   "execution_count": 200,
   "id": "c5616e98-f351-400a-9809-243ea0fc351b",
   "metadata": {},
   "outputs": [
    {
     "name": "stdout",
     "output_type": "stream",
     "text": [
      "202112345\n",
      "202254321\n",
      "202011223\n"
     ]
    }
   ],
   "source": [
    "for _,studentid,_ in lst: \n",
    "    print(studentid)"
   ]
  },
  {
   "cell_type": "code",
   "execution_count": 201,
   "id": "56f7fe03-4113-4fc1-937b-5306960ada95",
   "metadata": {},
   "outputs": [
    {
     "name": "stdout",
     "output_type": "stream",
     "text": [
      "M\n",
      "F\n",
      "M\n"
     ]
    }
   ],
   "source": [
    "for _,_,sex in lst: \n",
    "    print(sex)"
   ]
  },
  {
   "cell_type": "code",
   "execution_count": 203,
   "id": "a476d124-9b6a-42b7-adb4-071c76efeb13",
   "metadata": {},
   "outputs": [
    {
     "name": "stdout",
     "output_type": "stream",
     "text": [
      "guebin M\n",
      "iu F\n",
      "hodong M\n"
     ]
    }
   ],
   "source": [
    "for name,_,sex in lst: \n",
    "    print(name,sex)"
   ]
  },
  {
   "cell_type": "code",
   "execution_count": 204,
   "id": "9218b160-49b0-404c-af48-f40a282ab914",
   "metadata": {},
   "outputs": [
    {
     "name": "stdout",
     "output_type": "stream",
     "text": [
      "guebin\n",
      "iu\n",
      "hodong\n"
     ]
    }
   ],
   "source": [
    "for name,_,_  in lst: \n",
    "    print(name)"
   ]
  },
  {
   "cell_type": "markdown",
   "id": "f09f6a59-9056-485a-93f6-5426440b9b86",
   "metadata": {},
   "source": [
    "`#`\n"
   ]
  },
  {
   "cell_type": "markdown",
   "id": "960721c1-b65a-428e-97a9-f696688c2320",
   "metadata": {},
   "source": [
    "### F. 튜플을 왜 쓸까? – 제 생각..\n"
   ]
  },
  {
   "cell_type": "markdown",
   "id": "386113c4",
   "metadata": {},
   "source": [
    "\n",
    "`-` 질문: 리스트를 쓰지 않고 왜 튜플을 써야하나?\n"
   ]
  },
  {
   "cell_type": "markdown",
   "id": "05becca2",
   "metadata": {},
   "source": [
    "\n",
    "`-` 답변1: (책의 설명)\n",
    "\n",
    "-   초보적인 설명: 실수로 값을 바꾸는걸 방지할 수 있다.\n",
    "-   더 정확한 설명: 빠르다, 여러사람과 작업하기 유리하다.\n"
   ]
  },
  {
   "cell_type": "markdown",
   "id": "d68aff51",
   "metadata": {},
   "source": [
    "`-` 답변2: 괄호를 생략할 수 있기 때문에, 리스트 말고 튜플을 쓰면 편함.\n",
    "\n",
    "-   소괄호의 생략 + 언패킹 $\\Rightarrow$ 엄청난 가독성.\n",
    "-   컴공과 사람들 의견: 튜플 + 언패킹 $\\Rightarrow$ 엄청난 가독성 $\\Rightarrow$ 충격 $\\Rightarrow$ “파이썬 편하더라고요..”\n"
   ]
  },
  {
   "cell_type": "markdown",
   "id": "b5643112-c13a-4760-af18-97a8c6659529",
   "metadata": {},
   "source": [
    "### G. 연습문제들"
   ]
  },
  {
   "cell_type": "markdown",
   "id": "69d23188",
   "metadata": {},
   "source": [
    "\n",
    "`# 문제`. 길이가 1인 튜플을 만들어 자신의 학번을 저장하라. 길이가 1인 튜플을 만들어 자신의 영문이름을 저장하라. 두 튜플을 + 연산자로 합쳐아래와 같은 출력결과를 얻어라. 최종 결과는 예를들면 아래와 같아야 한다."
   ]
  },
  {
   "cell_type": "code",
   "execution_count": null,
   "id": "ad72b32b-c54a-44e7-ab50-6881f07c1d14",
   "metadata": {},
   "outputs": [],
   "source": [
    "('2021-43052', 'GuebinChoi')"
   ]
  },
  {
   "cell_type": "markdown",
   "id": "8b7fcc24-4da5-4d68-9e88-30dfb3a6e3d2",
   "metadata": {},
   "source": [
    "(풀이)"
   ]
  },
  {
   "cell_type": "code",
   "execution_count": 1,
   "id": "d3e7e7fb",
   "metadata": {},
   "outputs": [
    {
     "data": {
      "text/plain": [
       "('2021-43052', 'GuebinChoi')"
      ]
     },
     "execution_count": 1,
     "metadata": {},
     "output_type": "execute_result"
    }
   ],
   "source": [
    "a=  ('2021-43052', )\n",
    "b= ('GuebinChoi',)\n",
    "a+b"
   ]
  },
  {
   "cell_type": "markdown",
   "id": "6c980f5d-382f-4cf3-92f3-34f8fcb09902",
   "metadata": {},
   "source": [
    "`파이썬프로그래밍 수강생`. 아래는 파이썬프로그래밍 수강생들의 학번,이름, 출석점수, 과제점수, 중간고사점수, 기말고사점수를 저장한 중첩리스트이다."
   ]
  },
  {
   "cell_type": "code",
   "execution_count": 3,
   "id": "70733665-7fb6-43c1-ba03-2f772b3ae17a",
   "metadata": {},
   "outputs": [
    {
     "data": {
      "text/plain": [
       "[['2021-43052', 'GuebinChoi', 5, 10, 20, 25],\n",
       " ['2019-12342', 'Heung-min Son', 10, 15, 30, 15],\n",
       " ['2018-32234', 'hynn', 7, 20, 30, 15],\n",
       " ['2022-42323', 'Minji', 8, 20, 20, 35],\n",
       " ['2023-55342', 'Hanni', 7, 20, 30, 35],\n",
       " ['2022-46624', 'Danielle', 3, 15, 30, 40],\n",
       " ['2022-11239', 'Haerin', 10, 20, 30, 40],\n",
       " ['2022-32114', 'Hyein', 10, 20, 20, 35]]"
      ]
     },
     "execution_count": 3,
     "metadata": {},
     "output_type": "execute_result"
    }
   ],
   "source": [
    "lst = [['2021-43052', 'GuebinChoi', 5, 10, 20, 25],\n",
    "       ['2019-12342', 'Heung-min Son', 10, 15, 30, 15],\n",
    "       ['2018-32234', 'hynn', 7, 20, 30, 15],\n",
    "       ['2022-42323', 'Minji', 8, 20, 20, 35],\n",
    "       ['2023-55342', 'Hanni', 7, 20, 30, 35],\n",
    "       ['2022-46624', 'Danielle', 3, 15, 30, 40],\n",
    "       ['2022-11239', 'Haerin', 10, 20, 30, 40],\n",
    "       ['2022-32114', 'Hyein', 10, 20, 20, 35]]\n",
    "lst "
   ]
  },
  {
   "cell_type": "markdown",
   "id": "08357699-be60-4bd7-a467-23e7a04d5581",
   "metadata": {},
   "source": [
    "`# 문제`. 파이썬프로그래밍 수강생의 수는 모두 몇명인가?\n"
   ]
  },
  {
   "cell_type": "markdown",
   "id": "59f2a91d",
   "metadata": {},
   "source": [
    "\n",
    "(풀이)"
   ]
  },
  {
   "cell_type": "code",
   "execution_count": 5,
   "id": "e180fd7e-3918-4595-a739-516d2e7ada8f",
   "metadata": {},
   "outputs": [
    {
     "data": {
      "text/plain": [
       "8"
      ]
     },
     "execution_count": 5,
     "metadata": {},
     "output_type": "execute_result"
    }
   ],
   "source": [
    "len(lst)"
   ]
  },
  {
   "cell_type": "markdown",
   "id": "e020134a-41d4-4f3e-8c24-61d57c6dfb4a",
   "metadata": {},
   "source": [
    "`# 문제`. 전북대학교 지침에 따라 출석점수가 7보다 작은 학생은 (즉 `출석점수 < 7` 일 경우) F학점을 부여하게 되어있다. 이 기준에 따르면 F를 받는 학생은 모두 몇명인가?\n"
   ]
  },
  {
   "cell_type": "markdown",
   "id": "48ebeb5c",
   "metadata": {},
   "source": [
    "\n",
    "(풀이)"
   ]
  },
  {
   "cell_type": "code",
   "execution_count": 10,
   "id": "12fc846a",
   "metadata": {},
   "outputs": [
    {
     "data": {
      "text/plain": [
       "2"
      ]
     },
     "execution_count": 10,
     "metadata": {},
     "output_type": "execute_result"
    }
   ],
   "source": [
    "sum([student[2]<7 for student in lst])"
   ]
  },
  {
   "cell_type": "markdown",
   "id": "550da170-028d-4cb7-b484-e116c0e98f05",
   "metadata": {},
   "source": [
    "(풀이2)"
   ]
  },
  {
   "cell_type": "code",
   "execution_count": 13,
   "id": "bb2f5cee-decb-4186-824b-388356584906",
   "metadata": {},
   "outputs": [
    {
     "data": {
      "text/plain": [
       "2"
      ]
     },
     "execution_count": 13,
     "metadata": {},
     "output_type": "execute_result"
    }
   ],
   "source": [
    "sum([att<7 for _,_,att,_,_,_ in lst])"
   ]
  },
  {
   "cell_type": "markdown",
   "id": "0fef5743-b1f6-46cb-9dbb-72e00e122bd5",
   "metadata": {},
   "source": [
    "(풀이3)"
   ]
  },
  {
   "cell_type": "code",
   "execution_count": 14,
   "id": "145a5f07-76ed-4ffd-b37a-04409630c76d",
   "metadata": {},
   "outputs": [
    {
     "data": {
      "text/plain": [
       "2"
      ]
     },
     "execution_count": 14,
     "metadata": {},
     "output_type": "execute_result"
    }
   ],
   "source": [
    "sum([att<7 for _,_,att,*other in lst])"
   ]
  },
  {
   "cell_type": "markdown",
   "id": "46c7125a-fb27-41f9-ba5a-612eba32261c",
   "metadata": {},
   "source": [
    "`# 문제`. 파이썬프로그래밍 수업의 경우 `출석+과제점수 < 21` 일 경우 F학점을 부여한다고 한다. 이 기준에 따르면 F를 받는 학생은 모두 몇명인가?\n"
   ]
  },
  {
   "cell_type": "markdown",
   "id": "8de9151c",
   "metadata": {},
   "source": [
    "\n",
    "(풀이)"
   ]
  },
  {
   "cell_type": "code",
   "execution_count": 32,
   "id": "83115afa",
   "metadata": {},
   "outputs": [
    {
     "data": {
      "text/plain": [
       "2"
      ]
     },
     "execution_count": 32,
     "metadata": {},
     "output_type": "execute_result"
    }
   ],
   "source": [
    "sum([sum(l[2:4])<21 for l in lst])"
   ]
  },
  {
   "cell_type": "markdown",
   "id": "bc107006-e230-4f6f-a7f4-902fdabda078",
   "metadata": {},
   "source": [
    "`# 문제`. 리스트의 정렬순서를 \\[학번, 이름, …, 기말고사점수\\] 가 아니라\n",
    "\\[이름, 학번, … , 기말고사점수\\] 와 같이 되도록 변경하는 코드를\n",
    "작성하라.\n",
    "\n",
    "(출력예시)"
   ]
  },
  {
   "cell_type": "code",
   "execution_count": 33,
   "id": "e92b90e9-5bc6-4413-a856-b0c5d821fae5",
   "metadata": {},
   "outputs": [
    {
     "data": {
      "text/plain": [
       "[['GuebinChoi', '2021-43052', 5, 10, 20, 25],\n",
       " ['Heung-min Son', '2019-12342', 10, 15, 30, 15],\n",
       " ['hynn', '2018-32234', 7, 20, 30, 15],\n",
       " ['Minji', '2022-42323', 8, 20, 20, 35],\n",
       " ['Hanni', '2023-55342', 7, 20, 30, 35],\n",
       " ['Danielle', '2022-46624', 3, 15, 30, 40],\n",
       " ['Haerin', '2022-11239', 10, 20, 30, 40],\n",
       " ['Hyein', '2022-32114', 10, 20, 20, 35]]"
      ]
     },
     "execution_count": 33,
     "metadata": {},
     "output_type": "execute_result"
    }
   ],
   "source": [
    "[['GuebinChoi', '2021-43052', 5, 10, 20, 25],\n",
    " ['Heung-min Son', '2019-12342', 10, 15, 30, 15],\n",
    " ['hynn', '2018-32234', 7, 20, 30, 15],\n",
    " ['Minji', '2022-42323', 8, 20, 20, 35],\n",
    " ['Hanni', '2023-55342', 7, 20, 30, 35],\n",
    " ['Danielle', '2022-46624', 3, 15, 30, 40],\n",
    " ['Haerin', '2022-11239', 10, 20, 30, 40],\n",
    " ['Hyein', '2022-32114', 10, 20, 20, 35]]"
   ]
  },
  {
   "cell_type": "markdown",
   "id": "387ec966-21ba-4e79-9ab1-68e22d04ff23",
   "metadata": {},
   "source": [
    "(풀이)"
   ]
  },
  {
   "cell_type": "code",
   "execution_count": 39,
   "id": "6735cd14",
   "metadata": {},
   "outputs": [
    {
     "data": {
      "text/plain": [
       "[['GuebinChoi', '2021-43052', 5, 10, 20, 25],\n",
       " ['Heung-min Son', '2019-12342', 10, 15, 30, 15],\n",
       " ['hynn', '2018-32234', 7, 20, 30, 15],\n",
       " ['Minji', '2022-42323', 8, 20, 20, 35],\n",
       " ['Hanni', '2023-55342', 7, 20, 30, 35],\n",
       " ['Danielle', '2022-46624', 3, 15, 30, 40],\n",
       " ['Haerin', '2022-11239', 10, 20, 30, 40],\n",
       " ['Hyein', '2022-32114', 10, 20, 20, 35]]"
      ]
     },
     "execution_count": 39,
     "metadata": {},
     "output_type": "execute_result"
    }
   ],
   "source": [
    "[[b,a,c,e,f,g] for a,b,c,e,f,g in lst]"
   ]
  },
  {
   "cell_type": "markdown",
   "id": "ce6d8b1f-070c-4d72-8369-93f76a91b6f1",
   "metadata": {},
   "source": [
    "# 2. 숙제 "
   ]
  },
  {
   "cell_type": "markdown",
   "id": "0dfbe04f-46d5-4c45-ad5a-a8172192398d",
   "metadata": {},
   "source": [
    "아래의 보기중 실행결과의 자료형이 튜플인 것을 모두 골라라. \n",
    "\n",
    "1. `(1)`\n",
    "2. `(1,)`\n",
    "3. `(1)+(2)`\n",
    "4. `(1,)+(2,)`\n",
    "5. `1+2,`\n",
    "6. `(1+2,)`"
   ]
  },
  {
   "cell_type": "code",
   "execution_count": 41,
   "id": "956722f6-85c4-4835-b070-3b52a39d515d",
   "metadata": {},
   "outputs": [],
   "source": [
    "# 2,4,5,6"
   ]
  }
 ],
 "metadata": {
  "kernelspec": {
   "display_name": "Python 3 (ipykernel)",
   "language": "python",
   "name": "python3"
  },
  "language_info": {
   "codemirror_mode": {
    "name": "ipython",
    "version": 3
   },
   "file_extension": ".py",
   "mimetype": "text/x-python",
   "name": "python",
   "nbconvert_exporter": "python",
   "pygments_lexer": "ipython3",
   "version": "3.13.2"
  }
 },
 "nbformat": 4,
 "nbformat_minor": 5
}
