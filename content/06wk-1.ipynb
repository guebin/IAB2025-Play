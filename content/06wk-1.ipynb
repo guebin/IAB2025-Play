{
 "cells": [
  {
   "cell_type": "raw",
   "id": "ad1945b3-1584-4f25-899b-dfe818de00e6",
   "metadata": {
    "vscode": {
     "languageId": "raw"
    }
   },
   "source": [
    "---\n",
    "title: \"06wk-1: [Python] -- tuple, 잡기술\"\n",
    "author: \"최규빈\"\n",
    "date: \"04/08/2025\"\n",
    "draft: false\n",
    "---"
   ]
  },
  {
   "cell_type": "markdown",
   "id": "60807274-0c3e-4032-ade3-028190fd8984",
   "metadata": {},
   "source": [
    "## 1. `tuple`\n"
   ]
  },
  {
   "cell_type": "markdown",
   "id": "748745c9",
   "metadata": {},
   "source": [
    "\n",
    "### A. 리스트 vs 튜플\n"
   ]
  },
  {
   "cell_type": "markdown",
   "id": "c36885a0",
   "metadata": {},
   "source": [
    "\n",
    "`-` 공통점: (1) 컨테이너형타입이라는 점, 그리고 (2) 연산 및 인덱싱을 하는 방법은 리스트와 같음 \n",
    "\n",
    "- 차이점1: \\[\\] 대신에 ()를 사용한다. \n",
    "- 차이점2: 불변형이다. (원소의 값을 바꿀 수 없음) \n",
    "- 차이점3: 하나의 원소를 선언할 때는 (1,)와 같이 해야 한다. \n",
    "- 차이점4: 의미가 명확할때는 튜플의 ()를 생략가능하다.\n",
    "\n",
    "`-` 컨테이너형이라는 것이 무슨의미?"
   ]
  },
  {
   "cell_type": "code",
   "execution_count": 39,
   "id": "a05efa44-2bec-4b9d-813f-4caffb2a97fa",
   "metadata": {},
   "outputs": [],
   "source": [
    "a=(4,6,'pencil', 3.2+4.6j, [3,4])"
   ]
  },
  {
   "cell_type": "code",
   "execution_count": 41,
   "id": "77881e90-9f49-4ae2-bd57-1bba0c57e04b",
   "metadata": {},
   "outputs": [],
   "source": [
    "type(a[2])"
   ]
  },
  {
   "cell_type": "code",
   "execution_count": 42,
   "id": "07cc6646-3ff7-497f-bd52-2448dd266a9b",
   "metadata": {},
   "outputs": [],
   "source": [
    "type(a[3])"
   ]
  },
  {
   "cell_type": "markdown",
   "id": "acd7f5d1-d504-4189-bd49-51a73ebec973",
   "metadata": {},
   "source": [
    "`-` 연산의 유사성"
   ]
  },
  {
   "cell_type": "code",
   "execution_count": 43,
   "id": "f4e34e5f-c835-44eb-9b25-41bf3968a7e2",
   "metadata": {},
   "outputs": [],
   "source": [
    "(1,2) + (3,4,5)"
   ]
  },
  {
   "cell_type": "code",
   "execution_count": 44,
   "id": "ab7eca32-823e-45be-9561-10c5af37f48b",
   "metadata": {},
   "outputs": [],
   "source": [
    "(1,2) * 2"
   ]
  },
  {
   "cell_type": "markdown",
   "id": "4f528d79-4ab6-4ad3-bd65-f73f2681db88",
   "metadata": {},
   "source": [
    "`-` 인덱싱의 유사성"
   ]
  },
  {
   "cell_type": "code",
   "execution_count": 47,
   "id": "4839e6ed-2b9d-4da8-a85d-72782f807d98",
   "metadata": {},
   "outputs": [],
   "source": [
    "tpl = (11,21,31)\n",
    "tpl[1:]"
   ]
  },
  {
   "cell_type": "markdown",
   "id": "824877a3-bb8e-4990-bfd1-2a0e4d89fd6b",
   "metadata": {},
   "source": [
    "`-` 차이점2: 불변형이라는 것은 무슨의미?"
   ]
  },
  {
   "cell_type": "code",
   "execution_count": 13,
   "id": "4958e2c7-2ccb-47ac-a2bf-e8601885da36",
   "metadata": {},
   "outputs": [],
   "source": [
    "a[2] = 'Pencil'"
   ]
  },
  {
   "cell_type": "markdown",
   "id": "8cfcd3c8-33d5-4acd-ba76-eec7e6ff8d78",
   "metadata": {},
   "source": [
    "참고로 a를 튜플이 아니라 리스트로 선언하면 값이 잘 바뀐다."
   ]
  },
  {
   "cell_type": "code",
   "execution_count": 14,
   "id": "b92b482e-72de-488d-8420-6162edae4ff3",
   "metadata": {},
   "outputs": [],
   "source": [
    "a=[4,6,'pencil', 3.2+4.6j, [3,4]]"
   ]
  },
  {
   "cell_type": "code",
   "execution_count": 15,
   "id": "9176b4eb-5d4d-4a4e-8895-031c915f97b7",
   "metadata": {},
   "outputs": [],
   "source": [
    "a[2]"
   ]
  },
  {
   "cell_type": "code",
   "execution_count": 16,
   "id": "bf3f2f36-15a5-44ab-98eb-b1182be46aa0",
   "metadata": {},
   "outputs": [],
   "source": [
    "a[2]='Pencil'"
   ]
  },
  {
   "cell_type": "code",
   "execution_count": 17,
   "id": "17c0478a-33a0-4059-b9ec-6cd5742f2c08",
   "metadata": {},
   "outputs": [],
   "source": [
    "a"
   ]
  },
  {
   "cell_type": "markdown",
   "id": "b7ce70d8-8772-4012-a982-ce50ba47c408",
   "metadata": {},
   "source": [
    "`-` 차이점3: 하나의 원소로 이루어진 튜플을 만들때는 쉼표를 붙여야 함."
   ]
  },
  {
   "cell_type": "code",
   "execution_count": 238,
   "id": "11eb9b25-7d9c-46be-87be-eb2f579cf464",
   "metadata": {},
   "outputs": [],
   "source": [
    "[1]+[2,3,4]"
   ]
  },
  {
   "cell_type": "code",
   "execution_count": 239,
   "id": "08b64aef-fb61-49f0-8a92-1c4d92ad05a2",
   "metadata": {},
   "outputs": [],
   "source": [
    "(1,)+(2,3,4)"
   ]
  },
  {
   "cell_type": "markdown",
   "id": "c13d5906-4a54-43e7-94a5-2b9723e50fa5",
   "metadata": {},
   "source": [
    "`-` 차이점4: 의미가 명확할때 튜플의 괄호는 생략가능하다. (이게\n",
    "중요합니다)"
   ]
  },
  {
   "cell_type": "code",
   "execution_count": 26,
   "id": "94dc772d-b4e9-485c-b9bb-9406b705602a",
   "metadata": {},
   "outputs": [],
   "source": [
    "a=1,2\n",
    "a"
   ]
  },
  {
   "cell_type": "markdown",
   "id": "595452aa-0b08-4af3-a53c-35153cbf0980",
   "metadata": {},
   "source": [
    "의미가 명확할때 생략해야함"
   ]
  },
  {
   "cell_type": "code",
   "execution_count": 240,
   "id": "c9b46e46-4010-4166-86f1-12a14158b19d",
   "metadata": {},
   "outputs": [],
   "source": [
    "1,2 + 3,4,5 "
   ]
  },
  {
   "cell_type": "code",
   "execution_count": 241,
   "id": "2279df01-40e3-4e16-8653-a75cd45c9dd3",
   "metadata": {},
   "outputs": [],
   "source": [
    "(1,2) + (3,4,5) "
   ]
  },
  {
   "cell_type": "markdown",
   "id": "9e792c00-8476-4db8-a5c5-5db6d56ba406",
   "metadata": {},
   "source": [
    "### B. 선언\n"
   ]
  },
  {
   "cell_type": "markdown",
   "id": "1a3dccfa",
   "metadata": {},
   "source": [
    "`-` 소괄호를 이용하여 선언한다. "
   ]
  },
  {
   "cell_type": "code",
   "execution_count": 35,
   "id": "efccc731-19c7-4fc9-9c83-e52599a65912",
   "metadata": {},
   "outputs": [],
   "source": [
    "a=(1,2,3)\n",
    "a"
   ]
  },
  {
   "cell_type": "code",
   "execution_count": 36,
   "id": "bc14cde8-c7e7-43a2-95a2-7f9c58e81a55",
   "metadata": {},
   "outputs": [],
   "source": [
    "type(a)"
   ]
  },
  {
   "cell_type": "markdown",
   "id": "41bb9dd9-7987-4d96-a3dd-a29f3eaf5980",
   "metadata": {},
   "source": [
    "`-` 생략가능하다는 점이 포인트이다."
   ]
  },
  {
   "cell_type": "code",
   "execution_count": 37,
   "id": "14d62e71-d1de-423b-80a7-191efb2e6ca1",
   "metadata": {},
   "outputs": [],
   "source": [
    "a=1,2,3\n",
    "a"
   ]
  },
  {
   "cell_type": "code",
   "execution_count": 38,
   "id": "cdd85753-44ff-48fe-b687-4264ca34e04b",
   "metadata": {},
   "outputs": [],
   "source": [
    "type(a)"
   ]
  },
  {
   "cell_type": "markdown",
   "id": "339fe300-5bce-4805-bd54-9d4e88fb7506",
   "metadata": {},
   "source": [
    "`-` 원소가 하나인 튜플을 만들고 싶다면?"
   ]
  },
  {
   "cell_type": "code",
   "execution_count": 39,
   "id": "690dbcbe-e632-4be8-a137-18bb33188041",
   "metadata": {},
   "outputs": [],
   "source": [
    "a=(1,)\n",
    "a"
   ]
  },
  {
   "cell_type": "markdown",
   "id": "6a238d1d-d105-4f2b-a5d1-fd70c48e5439",
   "metadata": {},
   "source": [
    "### C. 연산\n"
   ]
  },
  {
   "cell_type": "markdown",
   "id": "faf36d57",
   "metadata": {},
   "source": [
    "\n",
    "`-` 리스트와 동일"
   ]
  },
  {
   "cell_type": "code",
   "execution_count": 40,
   "id": "9d001fd8-3259-42d1-a640-78f8150b440c",
   "metadata": {},
   "outputs": [],
   "source": [
    "(1,2)+(3,4,5)"
   ]
  },
  {
   "cell_type": "code",
   "execution_count": 41,
   "id": "a1e244e9-be4d-465f-a348-a2ebcfe8bc20",
   "metadata": {},
   "outputs": [],
   "source": [
    "(1,2)*2"
   ]
  },
  {
   "cell_type": "markdown",
   "id": "8e59be7b-01c9-4985-a901-090ab637a98c",
   "metadata": {},
   "source": [
    "### D. 인덱싱\n"
   ]
  },
  {
   "cell_type": "markdown",
   "id": "29ec3493",
   "metadata": {},
   "source": [
    "\n",
    "`-` 리스트와 동일"
   ]
  },
  {
   "cell_type": "code",
   "execution_count": 42,
   "id": "6be5ee9e-9a75-4a58-a270-dda0be5cb902",
   "metadata": {},
   "outputs": [],
   "source": [
    "a=(1,2,3,-4,-5)\n",
    "a"
   ]
  },
  {
   "cell_type": "code",
   "execution_count": 43,
   "id": "a0e20c2c-2939-42c2-bf3f-df06c2c8265c",
   "metadata": {},
   "outputs": [],
   "source": [
    "a[-1]"
   ]
  },
  {
   "cell_type": "code",
   "execution_count": 44,
   "id": "e0782f53-51d3-476f-849a-eaaa0568b4e4",
   "metadata": {},
   "outputs": [],
   "source": [
    "a[-3:]"
   ]
  },
  {
   "cell_type": "markdown",
   "id": "95700267-9da9-46a0-a774-e554ab3bb7d8",
   "metadata": {},
   "source": [
    "### E. 슬기로운 튜플사용 ($\\star$)\n"
   ]
  },
  {
   "cell_type": "markdown",
   "id": "b9f74f83",
   "metadata": {},
   "source": [
    "\n",
    "`# 예제` – 여러변수를 동시에 출력하고 싶을 경우 (다중출력?)\n",
    "\n",
    "변수를 아래와 같이 선언하였다고 하자."
   ]
  },
  {
   "cell_type": "code",
   "execution_count": 99,
   "id": "a3a60495-96cb-4921-b5b5-2a2cb64e23aa",
   "metadata": {},
   "outputs": [],
   "source": [
    "a=1\n",
    "b=2\n",
    "c=3"
   ]
  },
  {
   "cell_type": "markdown",
   "id": "df061aa5-9880-42fd-a701-a1a31ddf7e66",
   "metadata": {},
   "source": [
    "선언된 값을 확인하려면?"
   ]
  },
  {
   "cell_type": "code",
   "execution_count": 100,
   "id": "5d71a267-0556-4c8a-9622-b6e5ee641fdc",
   "metadata": {},
   "outputs": [],
   "source": [
    "a"
   ]
  },
  {
   "cell_type": "code",
   "execution_count": 101,
   "id": "db1d6782-44ec-4cbd-ac00-bfd7470c6035",
   "metadata": {},
   "outputs": [],
   "source": [
    "b"
   ]
  },
  {
   "cell_type": "code",
   "execution_count": 102,
   "id": "f0328808-38e8-441e-b816-44a648629f94",
   "metadata": {},
   "outputs": [],
   "source": [
    "c"
   ]
  },
  {
   "cell_type": "markdown",
   "id": "9ad86487-cad8-4ced-9add-7ce1f4b10018",
   "metadata": {},
   "source": [
    "튜플을 이용하면?"
   ]
  },
  {
   "cell_type": "code",
   "execution_count": 103,
   "id": "4763a5b4-3c53-41ed-8195-18c9d7369f72",
   "metadata": {},
   "outputs": [],
   "source": [
    "a,b,c # 괄호하나 생략하는것이 이렇게 편하다.."
   ]
  },
  {
   "cell_type": "markdown",
   "id": "81a232a8-38cf-4f79-afc2-e6d955a905e8",
   "metadata": {},
   "source": [
    "`#`\n"
   ]
  },
  {
   "cell_type": "markdown",
   "id": "bdd6e414",
   "metadata": {},
   "source": [
    "\n",
    "`# 예제2` – 다중할당1 (여러개의 변수를 동시에 선언하고 싶을 경우)\n",
    "\n",
    "아래와 같이 `=`를 5번 쓰면 5개의 변수를 선언할 수 있다."
   ]
  },
  {
   "cell_type": "code",
   "execution_count": 105,
   "id": "8484fd4a-2c26-495b-a103-c48a48d915d6",
   "metadata": {},
   "outputs": [],
   "source": [
    "name = 'Tom'\n",
    "age = 20 \n",
    "sex = 'M'\n",
    "height = 180\n",
    "weight = 70"
   ]
  },
  {
   "cell_type": "markdown",
   "id": "8d12738a-3385-4050-a64d-87c3b3eaac16",
   "metadata": {},
   "source": [
    "튜플을 이용하면 좀더 간단히 하나의 `=` 로도 아래와 같이 선언할 수 있다."
   ]
  },
  {
   "cell_type": "code",
   "execution_count": 115,
   "id": "fd9c6193-7cf7-443b-887f-45b516c9a1e0",
   "metadata": {},
   "outputs": [],
   "source": [
    "name, age, sex, height, weight = 'Tom', 20, 'M', 180, 70  # 다중할당"
   ]
  },
  {
   "cell_type": "markdown",
   "id": "40ab382b-3390-48c9-a90f-dd25840ef100",
   "metadata": {},
   "source": [
    "`#`\n"
   ]
  },
  {
   "cell_type": "markdown",
   "id": "d22ad847",
   "metadata": {},
   "source": [
    "\n",
    "`# 예제2` – 다중할당2, 위도와 경도"
   ]
  },
  {
   "cell_type": "code",
   "execution_count": null,
   "id": "7999d6a5-fbc0-422e-80c8-25aec8eec4e0",
   "metadata": {},
   "outputs": [],
   "source": [
    "coor = (37,127) # 서울 \n",
    "coor"
   ]
  },
  {
   "cell_type": "code",
   "execution_count": 114,
   "id": "517541a1-eff4-4a64-9ec2-ece853d66e30",
   "metadata": {},
   "outputs": [],
   "source": [
    "lat, long = coor # 다중할당"
   ]
  },
  {
   "cell_type": "code",
   "execution_count": 112,
   "id": "b1b93305-dfc5-4151-9a97-e8fdf415dabb",
   "metadata": {},
   "outputs": [],
   "source": [
    "lat "
   ]
  },
  {
   "cell_type": "code",
   "execution_count": 113,
   "id": "ff02e312-217a-48d5-b3c3-f3619e0f874a",
   "metadata": {},
   "outputs": [],
   "source": [
    "long "
   ]
  },
  {
   "cell_type": "markdown",
   "id": "e09dbb26-ed35-4a5c-af15-bc980640479e",
   "metadata": {},
   "source": [
    "`#`\n"
   ]
  },
  {
   "cell_type": "markdown",
   "id": "f89bd165",
   "metadata": {},
   "source": [
    "\n",
    "`# 잠깐만` – 다중할당은 꼭 튜플에서만 가능한가?\n",
    "\n",
    "그건 아니다…"
   ]
  },
  {
   "cell_type": "code",
   "execution_count": 30,
   "id": "110781c3-01c4-4a57-afc6-ec82d470c658",
   "metadata": {},
   "outputs": [],
   "source": [
    "[x,y,z] = [1,2,3] \n",
    "x,y,z # 다중출력 "
   ]
  },
  {
   "cell_type": "code",
   "execution_count": 31,
   "id": "f450a3db-672c-4550-84a4-b2cd83704875",
   "metadata": {},
   "outputs": [],
   "source": [
    "[x,y] = 'hi'\n",
    "x,y "
   ]
  },
  {
   "cell_type": "markdown",
   "id": "a5a3c86e-786c-4dd5-b668-adf9d088badf",
   "metadata": {},
   "source": [
    "튜플과 같이 사용하면 가독성이 극대화 (그래서 다중할당은 거의 튜플과\n",
    "세트로 사용함)"
   ]
  },
  {
   "cell_type": "code",
   "execution_count": 32,
   "id": "533f4400-1606-4d25-881f-2e95957b91f2",
   "metadata": {},
   "outputs": [],
   "source": [
    "x,y,z = 1,2,3\n",
    "x,y,z # 다중출력 "
   ]
  },
  {
   "cell_type": "code",
   "execution_count": 33,
   "id": "98ef9545-5224-4860-96cf-e5eafdd0da5e",
   "metadata": {},
   "outputs": [],
   "source": [
    "x,y = 'hi'\n",
    "x,y "
   ]
  },
  {
   "cell_type": "markdown",
   "id": "c1e919f6-afb5-4f48-8f9a-01f74a844576",
   "metadata": {},
   "source": [
    "`#`\n"
   ]
  },
  {
   "cell_type": "markdown",
   "id": "6d6c6c32",
   "metadata": {},
   "source": [
    "\n",
    "`# 예제` – 임시변수 사용없이 두 변수의 값을 교환"
   ]
  },
  {
   "cell_type": "code",
   "execution_count": 144,
   "id": "6bfb7100-8899-4e59-83b1-c9b59e59126d",
   "metadata": {},
   "outputs": [],
   "source": [
    "a=10\n",
    "b=20"
   ]
  },
  {
   "cell_type": "code",
   "execution_count": 145,
   "id": "7cee1ba9-f3b7-4df9-9a6c-474dc6825e2f",
   "metadata": {},
   "outputs": [],
   "source": [
    "a,b"
   ]
  },
  {
   "cell_type": "code",
   "execution_count": 146,
   "id": "72c438ae-1bc8-4cee-a8ca-8ff9af1d6e22",
   "metadata": {},
   "outputs": [],
   "source": [
    "a,b = b,a "
   ]
  },
  {
   "cell_type": "code",
   "execution_count": 147,
   "id": "64ca830e-686c-4693-9bf9-1f72eec0f882",
   "metadata": {},
   "outputs": [],
   "source": [
    "a,b"
   ]
  },
  {
   "cell_type": "markdown",
   "id": "c7ea50b2-592e-4514-8c47-516438e1929e",
   "metadata": {},
   "source": [
    "`#`\n"
   ]
  },
  {
   "cell_type": "markdown",
   "id": "56e92b8e",
   "metadata": {},
   "source": [
    "\n",
    "`# 예제` – for문과 튜플"
   ]
  },
  {
   "cell_type": "code",
   "execution_count": 148,
   "id": "53c619f3-7d19-4a13-a910-139df4ade6f7",
   "metadata": {},
   "outputs": [],
   "source": [
    "lst = [['guebin', 202112345, 'M'],\n",
    "       ['iu',202254321, 'F'],\n",
    "       ['hodong', 202011223, 'M']]\n",
    "lst"
   ]
  },
  {
   "cell_type": "code",
   "execution_count": 149,
   "id": "f58dac9f-af36-4b3d-b0d8-f25df92e1860",
   "metadata": {},
   "outputs": [],
   "source": [
    "lst[0]"
   ]
  },
  {
   "cell_type": "code",
   "execution_count": 39,
   "id": "2dc3aa32-7626-4f18-b9a8-0d252aa886cf",
   "metadata": {},
   "outputs": [
    {
     "name": "stdout",
     "output_type": "stream",
     "text": [
      "guebin M\n",
      "iu F\n",
      "hodong M"
     ]
    }
   ],
   "source": [
    "for name,studentid,sex in lst: \n",
    "    print(name,sex)"
   ]
  },
  {
   "cell_type": "markdown",
   "id": "293cb9f8-a94e-4474-b30b-bc17349f14e0",
   "metadata": {},
   "source": [
    "`#`\n"
   ]
  },
  {
   "cell_type": "markdown",
   "id": "faa8a1d9",
   "metadata": {},
   "source": [
    "\n",
    "`# 예제` – for문과 튜플, dummy variable `_`"
   ]
  },
  {
   "cell_type": "code",
   "execution_count": 155,
   "id": "0f0e1b4c-47b5-429a-afef-42635f7bbc56",
   "metadata": {},
   "outputs": [
    {
     "name": "stdout",
     "output_type": "stream",
     "text": [
      "202112345\n",
      "202254321\n",
      "202011223"
     ]
    }
   ],
   "source": [
    "for name,studentid,sex in lst: \n",
    "    print(studentid)"
   ]
  },
  {
   "cell_type": "code",
   "execution_count": 156,
   "id": "c5616e98-f351-400a-9809-243ea0fc351b",
   "metadata": {},
   "outputs": [
    {
     "name": "stdout",
     "output_type": "stream",
     "text": [
      "202112345\n",
      "202254321\n",
      "202011223"
     ]
    }
   ],
   "source": [
    "for _,studentid,_ in lst: \n",
    "    print(studentid)"
   ]
  },
  {
   "cell_type": "code",
   "execution_count": 157,
   "id": "56f7fe03-4113-4fc1-937b-5306960ada95",
   "metadata": {},
   "outputs": [
    {
     "name": "stdout",
     "output_type": "stream",
     "text": [
      "M\n",
      "F\n",
      "M"
     ]
    }
   ],
   "source": [
    "for _,_,sex in lst: \n",
    "    print(sex)"
   ]
  },
  {
   "cell_type": "code",
   "execution_count": 158,
   "id": "a476d124-9b6a-42b7-adb4-071c76efeb13",
   "metadata": {},
   "outputs": [
    {
     "name": "stdout",
     "output_type": "stream",
     "text": [
      "guebin M\n",
      "iu F\n",
      "hodong M"
     ]
    }
   ],
   "source": [
    "for name,_,sex in lst: \n",
    "    print(name,sex)"
   ]
  },
  {
   "cell_type": "code",
   "execution_count": 168,
   "id": "9218b160-49b0-404c-af48-f40a282ab914",
   "metadata": {},
   "outputs": [
    {
     "name": "stdout",
     "output_type": "stream",
     "text": [
      "guebin\n",
      "iu\n",
      "hodong"
     ]
    }
   ],
   "source": [
    "for name,_,_  in lst: \n",
    "    print(name)"
   ]
  },
  {
   "cell_type": "markdown",
   "id": "f09f6a59-9056-485a-93f6-5426440b9b86",
   "metadata": {},
   "source": [
    "`#`\n"
   ]
  },
  {
   "cell_type": "markdown",
   "id": "960721c1-b65a-428e-97a9-f696688c2320",
   "metadata": {},
   "source": [
    "### F. 튜플을 왜 쓸까? – 제 생각..\n"
   ]
  },
  {
   "cell_type": "markdown",
   "id": "386113c4",
   "metadata": {},
   "source": [
    "\n",
    "`-` 질문: 리스트를 쓰지 않고 왜 튜플을 써야하나?\n"
   ]
  },
  {
   "cell_type": "markdown",
   "id": "05becca2",
   "metadata": {},
   "source": [
    "\n",
    "`-` 답변1: (책의 설명)\n",
    "\n",
    "-   초보적인 설명: 실수로 값을 바꾸는걸 방지할 수 있다.\n",
    "-   더 정확한 설명: 빠르다, 여러사람과 작업하기 유리하다.\n"
   ]
  },
  {
   "cell_type": "markdown",
   "id": "d68aff51",
   "metadata": {},
   "source": [
    "`-` 답변2: 괄호를 생략할 수 있기 때문에, 리스트 말고 튜플을 쓰면 편함.\n",
    "\n",
    "-   소괄호의 생략 + 언패킹 $\\Rightarrow$ 엄청난 가독성.\n",
    "-   컴공과 사람들 의견: 튜플 + 언패킹 $\\Rightarrow$ 엄청난 가독성 $\\Rightarrow$ 충격 $\\Rightarrow$ “파이썬 편하더라고요..”\n"
   ]
  },
  {
   "cell_type": "markdown",
   "id": "b5643112-c13a-4760-af18-97a8c6659529",
   "metadata": {},
   "source": [
    "### G. 연습문제들"
   ]
  },
  {
   "cell_type": "markdown",
   "id": "69d23188",
   "metadata": {},
   "source": [
    "\n",
    "`# 문제`. 길이가 1인 튜플을 만들어 자신의 학번을 저장하라. 길이가 1인 튜플을 만들어 자신의 영문이름을 저장하라. 두 튜플을 + 연산자로 합쳐아래와 같은 출력결과를 얻어라. 최종 결과는 예를들면 아래와 같아야 한다."
   ]
  },
  {
   "cell_type": "code",
   "execution_count": null,
   "id": "ad72b32b-c54a-44e7-ab50-6881f07c1d14",
   "metadata": {},
   "outputs": [],
   "source": [
    "('2021-43052', 'GuebinChoi')"
   ]
  },
  {
   "cell_type": "markdown",
   "id": "8b7fcc24-4da5-4d68-9e88-30dfb3a6e3d2",
   "metadata": {},
   "source": [
    "(풀이)"
   ]
  },
  {
   "cell_type": "code",
   "execution_count": null,
   "id": "d3e7e7fb",
   "metadata": {},
   "outputs": [],
   "source": []
  },
  {
   "cell_type": "code",
   "execution_count": null,
   "id": "60062dd5",
   "metadata": {},
   "outputs": [],
   "source": []
  },
  {
   "cell_type": "markdown",
   "id": "6c980f5d-382f-4cf3-92f3-34f8fcb09902",
   "metadata": {},
   "source": [
    "`파이썬프로그래밍 수강생`. 아래는 파이썬프로그래밍 수강생들의 학번,이름, 출석점수, 과제점수, 중간고사점수, 기말고사점수를 저장한 중첩리스트이다."
   ]
  },
  {
   "cell_type": "code",
   "execution_count": 215,
   "id": "70733665-7fb6-43c1-ba03-2f772b3ae17a",
   "metadata": {},
   "outputs": [],
   "source": [
    "lst = [['2021-43052', 'GuebinChoi', 5, 10, 20, 25],\n",
    "       ['2019-12342', 'Heung-min Son', 10, 15, 30, 15],\n",
    "       ['2018-32234', 'hynn', 7, 20, 30, 15],\n",
    "       ['2022-42323', 'Minji', 8, 20, 20, 35],\n",
    "       ['2023-55342', 'Hanni', 7, 20, 30, 35],\n",
    "       ['2022-46624', 'Danielle', 3, 15, 30, 40],\n",
    "       ['2022-11239', 'Haerin', 10, 20, 30, 40],\n",
    "       ['2022-32114', 'Hyein', 10, 20, 20, 35]]\n",
    "lst "
   ]
  },
  {
   "cell_type": "markdown",
   "id": "08357699-be60-4bd7-a467-23e7a04d5581",
   "metadata": {},
   "source": [
    "`# 문제`. 파이썬프로그래밍 수강생의 수는 모두 몇명인가?\n"
   ]
  },
  {
   "cell_type": "markdown",
   "id": "59f2a91d",
   "metadata": {},
   "source": [
    "\n",
    "(풀이)"
   ]
  },
  {
   "cell_type": "code",
   "execution_count": 217,
   "id": "e180fd7e-3918-4595-a739-516d2e7ada8f",
   "metadata": {},
   "outputs": [],
   "source": [
    "len(lst)"
   ]
  },
  {
   "cell_type": "markdown",
   "id": "e020134a-41d4-4f3e-8c24-61d57c6dfb4a",
   "metadata": {},
   "source": [
    "`# 문제`. 전북대학교 지침에 따라 출석점수가 7보다 작은 학생은 (즉 `출석점수 < 7` 일 경우) F학점을 부여하게 되어있다. 이 기준에 따르면 F를 받는 학생은 모두 몇명인가?\n"
   ]
  },
  {
   "cell_type": "markdown",
   "id": "48ebeb5c",
   "metadata": {},
   "source": [
    "\n",
    "(풀이)"
   ]
  },
  {
   "cell_type": "code",
   "execution_count": null,
   "id": "12fc846a",
   "metadata": {},
   "outputs": [],
   "source": []
  },
  {
   "cell_type": "code",
   "execution_count": null,
   "id": "62fec4aa",
   "metadata": {},
   "outputs": [],
   "source": []
  },
  {
   "cell_type": "markdown",
   "id": "46c7125a-fb27-41f9-ba5a-612eba32261c",
   "metadata": {},
   "source": [
    "`# 문제`. 파이썬프로그래밍 수업의 경우 `출석+레포트 < 21` 일 경우 F학점을 부여한다고 한다. 이 기준에 따르면 F를 받는 학생은 모두 몇명인가?\n"
   ]
  },
  {
   "cell_type": "markdown",
   "id": "8de9151c",
   "metadata": {},
   "source": [
    "\n",
    "(풀이)"
   ]
  },
  {
   "cell_type": "code",
   "execution_count": null,
   "id": "83115afa",
   "metadata": {},
   "outputs": [],
   "source": []
  },
  {
   "cell_type": "code",
   "execution_count": null,
   "id": "f8bcba3c",
   "metadata": {},
   "outputs": [],
   "source": []
  },
  {
   "cell_type": "markdown",
   "id": "bc107006-e230-4f6f-a7f4-902fdabda078",
   "metadata": {},
   "source": [
    "`# 문제`. 리스트의 정렬순서를 \\[학번, 이름, …, 기말고사점수\\] 가 아니라\n",
    "\\[이름, 학번, … , 기말고사점수\\] 와 같이 되도록 변경하는 코드를\n",
    "작성하라.\n",
    "\n",
    "(출력예시)"
   ]
  },
  {
   "cell_type": "code",
   "execution_count": 234,
   "id": "e92b90e9-5bc6-4413-a856-b0c5d821fae5",
   "metadata": {},
   "outputs": [],
   "source": [
    "[['GuebinChoi', '2021-43052', 5, 10, 20, 25],\n",
    " ['Heung-min Son', '2019-12342', 10, 15, 30, 15],\n",
    " ['hynn', '2018-32234', 7, 20, 30, 15],\n",
    " ['Minji', '2022-42323', 8, 20, 20, 35],\n",
    " ['Hanni', '2023-55342', 7, 20, 30, 35],\n",
    " ['Danielle', '2022-46624', 3, 15, 30, 40],\n",
    " ['Haerin', '2022-11239', 10, 20, 30, 40],\n",
    " ['Hyein', '2022-32114', 10, 20, 20, 35]]"
   ]
  },
  {
   "cell_type": "markdown",
   "id": "387ec966-21ba-4e79-9ab1-68e22d04ff23",
   "metadata": {},
   "source": [
    "(풀이)"
   ]
  },
  {
   "cell_type": "code",
   "execution_count": null,
   "id": "6735cd14",
   "metadata": {},
   "outputs": [],
   "source": []
  },
  {
   "cell_type": "code",
   "execution_count": null,
   "id": "f1789500",
   "metadata": {},
   "outputs": [],
   "source": []
  },
  {
   "cell_type": "markdown",
   "id": "ebdc3f1b-0f3a-4795-9061-128d801dbb24",
   "metadata": {},
   "source": [
    "## 4. 잡기술 (하지만 유용해)\n"
   ]
  },
  {
   "cell_type": "markdown",
   "id": "90a30aae",
   "metadata": {},
   "source": [
    "### A. 인덱싱고급 (스트라이딩)\n"
   ]
  },
  {
   "cell_type": "markdown",
   "id": "ea8981e7",
   "metadata": {},
   "source": [
    "\n",
    "`-` 스트라이딩 \\[start:end:step\\]"
   ]
  },
  {
   "cell_type": "code",
   "execution_count": null,
   "id": "14919ad4-76cb-442f-a360-292a5fc15c0b",
   "metadata": {},
   "outputs": [],
   "source": [
    "lst = list('abcdefghijk')\n",
    "lst"
   ]
  },
  {
   "cell_type": "code",
   "execution_count": null,
   "id": "488cad8a-c6d4-4439-a758-43951d3cadce",
   "metadata": {},
   "outputs": [],
   "source": [
    "len(lst)"
   ]
  },
  {
   "cell_type": "code",
   "execution_count": 255,
   "id": "2d9de92f-1faa-4d0b-adf9-6df70f86cc4f",
   "metadata": {},
   "outputs": [],
   "source": [
    "lst[0:9:2]"
   ]
  },
  {
   "cell_type": "markdown",
   "id": "eb07c57b-ed85-4201-b5c4-307b248ea956",
   "metadata": {},
   "source": [
    "`-` 생략"
   ]
  },
  {
   "cell_type": "code",
   "execution_count": 22,
   "id": "28587648-2691-4cf0-af24-ad613b3fb649",
   "metadata": {},
   "outputs": [],
   "source": [
    "lst[0:9]\n",
    "#lst[0:9:]\n",
    "#lst[0:9:1]"
   ]
  },
  {
   "cell_type": "code",
   "execution_count": 256,
   "id": "141d85f2-bafb-4892-a78e-c3a098d20dc2",
   "metadata": {},
   "outputs": [],
   "source": [
    "lst[1::3]"
   ]
  },
  {
   "cell_type": "code",
   "execution_count": 257,
   "id": "145f4404-2efc-43c5-a750-f2d3ce983fbc",
   "metadata": {},
   "outputs": [],
   "source": [
    "lst[:8:3]"
   ]
  },
  {
   "cell_type": "markdown",
   "id": "4af3eb68-280b-4fe2-9568-b8f7d3e7188a",
   "metadata": {},
   "source": [
    "`# 예제1`: 짝수/홀수 원소 추출\n",
    "\n",
    "아래와 같은 문자열이 있다고 하자."
   ]
  },
  {
   "cell_type": "code",
   "execution_count": 26,
   "id": "3d30a78d-f9b8-4823-93bd-f2da0fff35cd",
   "metadata": {},
   "outputs": [],
   "source": [
    "lst = list('abcdefghijk')\n",
    "lst"
   ]
  },
  {
   "cell_type": "markdown",
   "id": "3aca71be-bd1c-42c2-89f5-f50b57a9b82b",
   "metadata": {},
   "source": [
    "`index = 0,2,4, ...` 에 해당하는 원소를 출력하라."
   ]
  },
  {
   "cell_type": "code",
   "execution_count": null,
   "id": "eabeaeb0",
   "metadata": {},
   "outputs": [],
   "source": []
  },
  {
   "cell_type": "markdown",
   "id": "1f34aec2-cbbf-4913-b0f4-db675f76b01e",
   "metadata": {},
   "source": [
    "`index = 1,4,7 ...` 에 해당하는 원소를 출력하라."
   ]
  },
  {
   "cell_type": "code",
   "execution_count": null,
   "id": "6b109f30",
   "metadata": {},
   "outputs": [],
   "source": []
  },
  {
   "cell_type": "markdown",
   "id": "cf169ee7-f9c5-4fb3-a97f-d601efd6b694",
   "metadata": {},
   "source": [
    "`#`\n",
    "\n",
    "`# 예제2` – 세로로..\n",
    "\n",
    "------------------------------------------------------------------------\n",
    "\n",
    "(예제2를 위한 예비학습) 문자열에서 `\\n`을 출력하면 출력시 줄바꿈이\n",
    "일어난다."
   ]
  },
  {
   "cell_type": "code",
   "execution_count": 264,
   "id": "3946a78e-2232-4681-b1de-ec50bbc50364",
   "metadata": {},
   "outputs": [
    {
     "name": "stdout",
     "output_type": "stream",
     "text": [
      "1행\n",
      "2행\n",
      "3행"
     ]
    }
   ],
   "source": [
    "print('1행\\n2행\\n3행')"
   ]
  },
  {
   "cell_type": "markdown",
   "id": "67fbeb82-14ae-457a-87f6-088321d39ac3",
   "metadata": {},
   "source": [
    "예비학습 끝\n",
    "\n",
    "------------------------------------------------------------------------\n",
    "\n",
    "아래와 같은 문자열이 있다고 하자."
   ]
  },
  {
   "cell_type": "code",
   "execution_count": 265,
   "id": "8042529b-9882-486a-9413-83ff223802b8",
   "metadata": {},
   "outputs": [
    {
     "name": "stdout",
     "output_type": "stream",
     "text": [
      "너같이사랑스럽고\n",
      "또예쁘고도멋지고\n",
      "속훤히보이는너알\n",
      "았어그동안고마웠\n",
      "지정말정말사랑해"
     ]
    }
   ],
   "source": [
    "txt = '너같이사랑스럽고\\n또예쁘고도멋지고\\n속훤히보이는너알\\n았어그동안고마웠\\n지정말정말사랑해'\n",
    "print(txt)"
   ]
  },
  {
   "cell_type": "markdown",
   "id": "44b12a61-4d8a-4299-aca7-3b39a6c76321",
   "metadata": {},
   "source": [
    "위 문자열을 세로로 읽는 코드를 작성하라. (9칸씩 점프하면서 읽으면 된다)\n",
    "\n",
    "(풀이)"
   ]
  },
  {
   "cell_type": "code",
   "execution_count": null,
   "id": "79cbf16e",
   "metadata": {},
   "outputs": [],
   "source": []
  },
  {
   "cell_type": "code",
   "execution_count": null,
   "id": "854d5dad",
   "metadata": {},
   "outputs": [],
   "source": []
  },
  {
   "cell_type": "markdown",
   "id": "0acfdae2-fb86-4872-82a3-a6a6f0842ab7",
   "metadata": {},
   "source": [
    "`#`\n",
    "\n",
    "`-` step = -1 이면?"
   ]
  },
  {
   "cell_type": "code",
   "execution_count": 268,
   "id": "d1d62d83-5372-465a-845b-b320d4cd239b",
   "metadata": {},
   "outputs": [],
   "source": [
    "lst"
   ]
  },
  {
   "cell_type": "code",
   "execution_count": 270,
   "id": "2166d11f-1b75-48c0-9ae6-ce365f3480c2",
   "metadata": {},
   "outputs": [],
   "source": [
    "lst[::-1]"
   ]
  },
  {
   "cell_type": "markdown",
   "id": "9a45a170-ddf8-4b7b-9f1f-80c1bf9a578a",
   "metadata": {},
   "source": [
    "`-` 스트라이딩으로 `step = -1` 옵션 주기 vs 리스트의 `.reverse()` 메소드 이용하기\n"
   ]
  },
  {
   "cell_type": "markdown",
   "id": "cd4e19b9",
   "metadata": {},
   "source": [
    "\n",
    "관찰1: reverse 메소드는 리스트 자체를 변화시킴"
   ]
  },
  {
   "cell_type": "code",
   "execution_count": 281,
   "id": "c677a43c-65dd-4511-a75f-08d7e085f95c",
   "metadata": {},
   "outputs": [],
   "source": [
    "lst = list('abcdefgh')\n",
    "lst"
   ]
  },
  {
   "cell_type": "code",
   "execution_count": 282,
   "id": "ef96ab82-71c6-4f13-9785-92e73ff15dbc",
   "metadata": {},
   "outputs": [],
   "source": [
    "lst.reverse()  \n",
    "lst"
   ]
  },
  {
   "cell_type": "markdown",
   "id": "76006ec1-8f82-4268-ab26-c231fba00989",
   "metadata": {},
   "source": [
    "관찰2: \\[::-1\\]는 리스트는 변화시키지 않음"
   ]
  },
  {
   "cell_type": "code",
   "execution_count": 2,
   "id": "65a2cd78-f60f-46aa-9b12-283955d3b543",
   "metadata": {},
   "outputs": [
    {
     "data": {
      "text/plain": [
       "['a', 'b', 'c', 'd', 'e', 'f', 'g', 'h']"
      ]
     },
     "execution_count": 2,
     "metadata": {},
     "output_type": "execute_result"
    }
   ],
   "source": [
    "lst = list('abcdefgh')\n",
    "lst"
   ]
  },
  {
   "cell_type": "code",
   "execution_count": 3,
   "id": "710e1ea9-c8c1-4d6b-9705-edbffdbf6d76",
   "metadata": {},
   "outputs": [
    {
     "data": {
      "text/plain": [
       "['h', 'g', 'f', 'e', 'd', 'c', 'b', 'a']"
      ]
     },
     "execution_count": 3,
     "metadata": {},
     "output_type": "execute_result"
    }
   ],
   "source": [
    "lst[::-1]"
   ]
  },
  {
   "cell_type": "code",
   "execution_count": 4,
   "id": "9fbadae4-e858-4067-954d-e79263dd654e",
   "metadata": {},
   "outputs": [
    {
     "data": {
      "text/plain": [
       "['a', 'b', 'c', 'd', 'e', 'f', 'g', 'h']"
      ]
     },
     "execution_count": 4,
     "metadata": {},
     "output_type": "execute_result"
    }
   ],
   "source": [
    "lst"
   ]
  },
  {
   "cell_type": "markdown",
   "id": "df35c035-7798-486f-8076-243e7ebdd4c0",
   "metadata": {},
   "source": [
    "`-` -step 은 쓰기 까다롭다.\n"
   ]
  },
  {
   "cell_type": "markdown",
   "id": "21f33094",
   "metadata": {},
   "source": [
    "(예제) 처음과 끝을 생략하지 않고 아래와 동일한 효과를 주는 코드를 만들어 보자.\n"
   ]
  },
  {
   "cell_type": "code",
   "execution_count": 8,
   "id": "662ea686",
   "metadata": {},
   "outputs": [
    {
     "data": {
      "text/plain": [
       "['h', 'g', 'f', 'e', 'd', 'c', 'b', 'a']"
      ]
     },
     "execution_count": 8,
     "metadata": {},
     "output_type": "execute_result"
    }
   ],
   "source": [
    "lst[::-1]"
   ]
  },
  {
   "cell_type": "markdown",
   "id": "cbee2d8c",
   "metadata": {},
   "source": [
    "(풀이)\n",
    "\n",
    "결국 lst\\[?:?:-1\\]의 꼴에서 적당히 ?의 값을 채우면 된다."
   ]
  },
  {
   "cell_type": "markdown",
   "id": "5e44d4e7-c7eb-4f25-a793-8c9b6199cf6c",
   "metadata": {},
   "source": [
    "| None |  a  |  b  |  c  |  d  |  e  |  f  |  g  |  h  | None |\n",
    "|:----:|:---:|:---:|:---:|:---:|:---:|:---:|:---:|:---:|:----:|\n",
    "|  ?   |  0  |  1  |  2  |  3  |  4  |  5  |  6  |  7  |  8   |\n",
    "|  -9  | -8  | -7  | -6  | -5  | -4  | -3  | -2  | -1  |  ?   |"
   ]
  },
  {
   "cell_type": "markdown",
   "id": "b0a0e3ce",
   "metadata": {},
   "source": [
    "### C. 컴프리헨션 고급 (if문이 포함된 컴프리헨션)\n",
    "\n",
    "`-` 예제: 제곱수중에서 12로 나누어 떨어지는 수만 원소로 가지는 리스트를\n",
    "만들고 싶다.\n",
    "\n",
    "-   제곱수: 1,4,9,16,25,36, …\n",
    "-   12로 나누어 떨어지는 수: 36, …\n",
    "\n",
    "(예비학습1)"
   ]
  },
  {
   "cell_type": "code",
   "execution_count": null,
   "id": "bc59f248",
   "metadata": {},
   "outputs": [],
   "source": [
    "12 % 4 # %는 나머지를 계산하는 연산자, 12를 4로 나누면 나머지가 0"
   ]
  },
  {
   "cell_type": "code",
   "execution_count": null,
   "id": "6e3c8ccc",
   "metadata": {},
   "outputs": [],
   "source": [
    "12 % 5 # %는 나머지를 계산하는 연산자, 12를 5로 나누면 나머지가 2"
   ]
  },
  {
   "cell_type": "markdown",
   "id": "66d17710",
   "metadata": {},
   "source": [
    "(예비학습2)"
   ]
  },
  {
   "cell_type": "code",
   "execution_count": null,
   "id": "cdd8dffd",
   "metadata": {},
   "outputs": [],
   "source": [
    "a = 2 ## a에 2를 \"대입\" 하라. "
   ]
  },
  {
   "cell_type": "code",
   "execution_count": null,
   "id": "cefd74a7",
   "metadata": {},
   "outputs": [],
   "source": [
    "a == 2 # a에 들어있는 값이 2인지 \"test\"하라."
   ]
  },
  {
   "cell_type": "code",
   "execution_count": null,
   "id": "e8f2da38",
   "metadata": {},
   "outputs": [],
   "source": [
    "a == 3 # a에 들어있는 값이 3인지 \"test\"하라."
   ]
  },
  {
   "cell_type": "markdown",
   "id": "3448759b",
   "metadata": {},
   "source": [
    "(예비학습3) if문"
   ]
  },
  {
   "cell_type": "code",
   "execution_count": null,
   "id": "3391e605",
   "metadata": {},
   "outputs": [],
   "source": [
    "a= 3 \n",
    "if a%2 == 0: \n",
    "    a_is='even' ## a%2==0 이 true일 경우만 실행된다. \n",
    "else:\n",
    "    a_is='odd' ## a%2==0 이 false일 경우만 실행된다. "
   ]
  },
  {
   "cell_type": "code",
   "execution_count": null,
   "id": "af06e74c",
   "metadata": {},
   "outputs": [],
   "source": [
    "a,a_is"
   ]
  },
  {
   "cell_type": "markdown",
   "id": "ae8ecf93",
   "metadata": {},
   "source": [
    "(풀이1) - 비어있는 리스트를 만들고 $\\to$ for문 + if문"
   ]
  },
  {
   "cell_type": "code",
   "execution_count": null,
   "id": "cd8234ac",
   "metadata": {},
   "outputs": [],
   "source": [
    "lst = list()\n",
    "for i in range(1,101): \n",
    "    if i**2 % 12 == 0:\n",
    "        lst.append(i**2)"
   ]
  },
  {
   "cell_type": "code",
   "execution_count": null,
   "id": "27bc7665",
   "metadata": {},
   "outputs": [],
   "source": [
    "lst"
   ]
  },
  {
   "cell_type": "markdown",
   "id": "223d99d0",
   "metadata": {},
   "source": [
    "(풀이2) - if문이 포함된 리스트컴프리헨션"
   ]
  },
  {
   "cell_type": "code",
   "execution_count": null,
   "id": "a818ccf9",
   "metadata": {},
   "outputs": [],
   "source": [
    "[i**2 for i in range(1,101) if i**2 % 12 == 0]"
   ]
  },
  {
   "cell_type": "markdown",
   "id": "f0555217",
   "metadata": {},
   "source": [
    "### D. 함수고급 (if문이 포함된 리턴)\n",
    "\n",
    "`-` 홀수/짝수를 판별하는 함수 만들기 1"
   ]
  },
  {
   "cell_type": "code",
   "execution_count": 9,
   "id": "51fd31ad",
   "metadata": {},
   "outputs": [],
   "source": [
    "def test(x): \n",
    "    if x % 2 == 0: \n",
    "        return 'even'\n",
    "    else:\n",
    "        return 'odd'"
   ]
  },
  {
   "cell_type": "code",
   "execution_count": 10,
   "id": "57f3bd05",
   "metadata": {},
   "outputs": [
    {
     "data": {
      "text/plain": [
       "'odd'"
      ]
     },
     "execution_count": 10,
     "metadata": {},
     "output_type": "execute_result"
    }
   ],
   "source": [
    "test(5)"
   ]
  },
  {
   "cell_type": "markdown",
   "id": "adafc81d",
   "metadata": {},
   "source": [
    "(사용)"
   ]
  },
  {
   "cell_type": "code",
   "execution_count": 11,
   "id": "771b61ee",
   "metadata": {},
   "outputs": [
    {
     "data": {
      "text/plain": [
       "['odd', 'even', 'odd', 'even', 'odd', 'even', 'odd', 'even', 'odd', 'even']"
      ]
     },
     "execution_count": 11,
     "metadata": {},
     "output_type": "execute_result"
    }
   ],
   "source": [
    "[test(l) for l in list(range(1,11))]"
   ]
  },
  {
   "cell_type": "markdown",
   "id": "d888b6da",
   "metadata": {},
   "source": [
    "`-` 홀수/짝수를 판별하는 함수 만들기 2"
   ]
  },
  {
   "cell_type": "code",
   "execution_count": 12,
   "id": "233574c1",
   "metadata": {},
   "outputs": [],
   "source": [
    "def test(x):\n",
    "    return 'even' if x % 2 == 0 else 'odd'"
   ]
  },
  {
   "cell_type": "code",
   "execution_count": 13,
   "id": "6a05a482",
   "metadata": {},
   "outputs": [
    {
     "data": {
      "text/plain": [
       "'even'"
      ]
     },
     "execution_count": 13,
     "metadata": {},
     "output_type": "execute_result"
    }
   ],
   "source": [
    "test(4)"
   ]
  },
  {
   "cell_type": "markdown",
   "id": "cf55819d",
   "metadata": {},
   "source": [
    "(사용)"
   ]
  },
  {
   "cell_type": "code",
   "execution_count": 14,
   "id": "b8c3b851",
   "metadata": {},
   "outputs": [
    {
     "data": {
      "text/plain": [
       "['odd', 'even', 'odd', 'even', 'odd', 'even', 'odd', 'even', 'odd', 'even']"
      ]
     },
     "execution_count": 14,
     "metadata": {},
     "output_type": "execute_result"
    }
   ],
   "source": [
    "[test(l) for l in list(range(1,11))]"
   ]
  },
  {
   "cell_type": "markdown",
   "id": "91537ded-f0a4-45b4-8050-e66fc58446ec",
   "metadata": {},
   "source": [
    "### E. len함수\n"
   ]
  },
  {
   "cell_type": "markdown",
   "id": "544a7d9d",
   "metadata": {},
   "source": [
    "\n",
    "`-` 0차원 자료형은 len함수가 동작하지 않음"
   ]
  },
  {
   "cell_type": "code",
   "execution_count": 302,
   "id": "35920273-f134-408f-9273-16c6b0a9c364",
   "metadata": {},
   "outputs": [],
   "source": [
    "a=1 \n",
    "len(a)"
   ]
  },
  {
   "cell_type": "code",
   "execution_count": 303,
   "id": "7bb1717e-91fb-4e3a-8c8a-fb3f6784bc90",
   "metadata": {},
   "outputs": [],
   "source": [
    "a=True\n",
    "len(a)"
   ]
  },
  {
   "cell_type": "code",
   "execution_count": 304,
   "id": "7bdbf52c-a8b6-46f2-8441-0ff720ab4cca",
   "metadata": {},
   "outputs": [],
   "source": [
    "a=3.14\n",
    "len(a)"
   ]
  },
  {
   "cell_type": "markdown",
   "id": "78876f91-c250-4a08-8c4c-6a504bb41c7f",
   "metadata": {},
   "source": [
    "> note: 이것이 어떠한 수학적인 의미를 가지거나 0차원의 본질적진리를\n",
    "> 뜻하는 것은 아님. R에서는 1,3.14,TRUE의 길이가 1로 존재함.\n",
    "\n",
    "`-` 1차원 자료형은 len함수가 동작"
   ]
  },
  {
   "cell_type": "code",
   "execution_count": 305,
   "id": "dd23e37b-5a2b-49ca-9410-510bfac0292a",
   "metadata": {},
   "outputs": [],
   "source": [
    "a='guebin'\n",
    "len(a)"
   ]
  },
  {
   "cell_type": "code",
   "execution_count": 306,
   "id": "42abac73-4847-486f-952c-fc15690091a6",
   "metadata": {},
   "outputs": [],
   "source": [
    "a=[1,2,3,4,5,6]\n",
    "len(a)"
   ]
  },
  {
   "cell_type": "code",
   "execution_count": 307,
   "id": "a8558d6d-57c5-4ec7-a80a-dfa8fa330ed7",
   "metadata": {},
   "outputs": [],
   "source": [
    "a=1,2,3,4,5,6 \n",
    "len(a)"
   ]
  },
  {
   "cell_type": "code",
   "execution_count": 309,
   "id": "8c0f7282-5a68-4487-b4d0-49620344aef7",
   "metadata": {},
   "outputs": [],
   "source": [
    "a=range(10)\n",
    "len(a)"
   ]
  },
  {
   "cell_type": "markdown",
   "id": "fc26ca30-8476-474d-b732-e5575da48c6e",
   "metadata": {},
   "source": [
    "`-` 길이가 1인 1차원 자료형과 0차원 자료형은 다른것임"
   ]
  },
  {
   "cell_type": "code",
   "execution_count": 310,
   "id": "0a4bc57d-2df5-4555-ac97-14894cd2de3f",
   "metadata": {},
   "outputs": [],
   "source": [
    "a='g'\n",
    "len(a)"
   ]
  },
  {
   "cell_type": "code",
   "execution_count": 311,
   "id": "f31533ca-3c83-4a7c-804a-5ce7c89d073a",
   "metadata": {},
   "outputs": [],
   "source": [
    "a=[1]\n",
    "len(a)"
   ]
  },
  {
   "cell_type": "code",
   "execution_count": 312,
   "id": "b54c99c6-0ec6-4924-8fca-694c6233aae2",
   "metadata": {},
   "outputs": [],
   "source": [
    "a=(1,)\n",
    "len(a)"
   ]
  },
  {
   "cell_type": "code",
   "execution_count": 313,
   "id": "1d5db16e-c8ea-4907-a0d6-7e754a2f7ec4",
   "metadata": {},
   "outputs": [],
   "source": [
    "a=range(1)\n",
    "len(a)"
   ]
  },
  {
   "cell_type": "markdown",
   "id": "fe1b10f7-0fe1-4845-acaf-bedf53343b52",
   "metadata": {},
   "source": [
    "`-` 길이가 0인 1차원 자료형도 존재함"
   ]
  },
  {
   "cell_type": "code",
   "execution_count": 315,
   "id": "140bed4a-6b3e-439b-a0d3-c700a75e0464",
   "metadata": {},
   "outputs": [],
   "source": [
    "a=''\n",
    "len(a)"
   ]
  },
  {
   "cell_type": "code",
   "execution_count": 316,
   "id": "a3dc8fd3-a1ef-4f21-a755-696b3fd076dd",
   "metadata": {},
   "outputs": [],
   "source": [
    "a=[]\n",
    "len(a)"
   ]
  },
  {
   "cell_type": "code",
   "execution_count": 317,
   "id": "f70d7bef-3868-45ed-af2f-f65e6caf7ad4",
   "metadata": {},
   "outputs": [],
   "source": [
    "a=()\n",
    "len(a)"
   ]
  },
  {
   "cell_type": "code",
   "execution_count": 318,
   "id": "e11dc040-77e3-4b77-8dd6-a60f3534f7c1",
   "metadata": {},
   "outputs": [],
   "source": [
    "a=range(0)\n",
    "len(a)"
   ]
  }
 ],
 "metadata": {
  "kernelspec": {
   "display_name": "Python 3 (ipykernel)",
   "language": "python",
   "name": "python3"
  },
  "language_info": {
   "codemirror_mode": {
    "name": "ipython",
    "version": 3
   },
   "file_extension": ".py",
   "mimetype": "text/x-python",
   "name": "python",
   "nbconvert_exporter": "python",
   "pygments_lexer": "ipython3",
   "version": "3.13.2"
  }
 },
 "nbformat": 4,
 "nbformat_minor": 5
}
