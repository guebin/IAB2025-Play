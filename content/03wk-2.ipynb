{
 "cells": [
  {
   "cell_type": "raw",
   "id": "166554cd-c2ca-4f91-bd76-3e52c1c8dd96",
   "metadata": {
    "vscode": {
     "languageId": "raw"
    }
   },
   "source": [
    "---\n",
    "title: \"03wk-2: if, if-else, ,if-elseif-else\"\n",
    "author: \"최규빈\"\n",
    "date: \"03/20/2025\"\n",
    "draft: false\n",
    "---"
   ]
  },
  {
   "cell_type": "markdown",
   "id": "3eee58d4-c0e2-488e-8d5c-2e9eec11831c",
   "metadata": {},
   "source": [
    "## 1. `if`"
   ]
  },
  {
   "cell_type": "markdown",
   "id": "ed04b60b-21a4-42f3-a9ea-01d7199bccd7",
   "metadata": {},
   "source": [
    "`# 예제1` -- if문은 `if (조건문) 표현식`의 형태로 사용한다. "
   ]
  },
  {
   "cell_type": "code",
   "execution_count": 7,
   "id": "0982f16a-1951-4efc-9a1b-d5dae4436e69",
   "metadata": {},
   "outputs": [
    {
     "name": "stdout",
     "output_type": "stream",
     "text": [
      "[1] \"a는 양수\"\n"
     ]
    }
   ],
   "source": [
    "a= 2\n",
    "if (a>0) print('a는 양수') "
   ]
  },
  {
   "cell_type": "markdown",
   "id": "6c88a410-ba23-4fe5-b92f-07d0c61ea735",
   "metadata": {},
   "source": [
    "`#`"
   ]
  },
  {
   "cell_type": "markdown",
   "id": "cd70518b-1fb6-42ed-9d79-5fdf48b14326",
   "metadata": {},
   "source": [
    "`# 예제2` -- space를 임의로 넣어도 OK "
   ]
  },
  {
   "cell_type": "code",
   "execution_count": 8,
   "id": "4e98b98d-5d60-4342-9741-3928d2be1b77",
   "metadata": {},
   "outputs": [
    {
     "name": "stdout",
     "output_type": "stream",
     "text": [
      "[1] \"a는 양수\"\n"
     ]
    }
   ],
   "source": [
    "a=10\n",
    "if    (a>0)    print('a는 양수') "
   ]
  },
  {
   "cell_type": "code",
   "execution_count": 9,
   "id": "83941bd6-c02a-4971-8c04-a46d03836528",
   "metadata": {},
   "outputs": [
    {
     "name": "stdout",
     "output_type": "stream",
     "text": [
      "[1] \"a는 양수\"\n"
     ]
    }
   ],
   "source": [
    "a=10\n",
    "if  (a>0)    print('a는 양수') "
   ]
  },
  {
   "cell_type": "markdown",
   "id": "4ade17b0-62e6-4d6a-9f71-4ef1ccc4c2ce",
   "metadata": {},
   "source": [
    "`#`"
   ]
  },
  {
   "cell_type": "markdown",
   "id": "68310640-8369-4110-8af6-bf8c4aee104a",
   "metadata": {},
   "source": [
    "`# 예제3` -- enter 를 임의로 넣어도 OK"
   ]
  },
  {
   "cell_type": "code",
   "execution_count": 13,
   "id": "7c73e1bc-7b7a-4313-83cc-1620996b1256",
   "metadata": {},
   "outputs": [
    {
     "name": "stdout",
     "output_type": "stream",
     "text": [
      "[1] \"a는양수\"\n"
     ]
    }
   ],
   "source": [
    "a=10\n",
    "if (a>0)\n",
    "    print('a는양수')"
   ]
  },
  {
   "cell_type": "code",
   "execution_count": 18,
   "id": "f5e08975-4173-46d7-a2bd-2ab7f1f21b24",
   "metadata": {},
   "outputs": [
    {
     "name": "stdout",
     "output_type": "stream",
     "text": [
      "[1] \"a는양수\"\n"
     ]
    }
   ],
   "source": [
    "a=10\n",
    "if (a>0) \n",
    "    \n",
    "    \n",
    "    print('a는양수')"
   ]
  },
  {
   "cell_type": "code",
   "execution_count": 19,
   "id": "406ac215-1556-4e67-b132-e206f85e0aad",
   "metadata": {},
   "outputs": [
    {
     "name": "stdout",
     "output_type": "stream",
     "text": [
      "[1] \"a는양수\"\n"
     ]
    }
   ],
   "source": [
    "a=10\n",
    "if \n",
    "    \n",
    "    \n",
    "    (a>0) \n",
    "    \n",
    "    \n",
    "    print('a는양수')"
   ]
  },
  {
   "cell_type": "markdown",
   "id": "73d1fdc7-0afd-451c-8f58-e9d5458df947",
   "metadata": {},
   "source": [
    "`#`"
   ]
  },
  {
   "cell_type": "markdown",
   "id": "a4d804cd-e7a0-45e6-ae70-7d7ac0bcef9a",
   "metadata": {},
   "source": [
    "`# 예제4` -- if가 만족될떄 내릴 명령이 2개이상이면 중괄호를 이용하라. "
   ]
  },
  {
   "cell_type": "markdown",
   "id": "1e3c823e-aa98-46ab-8848-40b3aa3a7834",
   "metadata": {},
   "source": [
    "*잘못된 사용*"
   ]
  },
  {
   "cell_type": "code",
   "execution_count": 20,
   "id": "0289bc77-e038-4030-8ef3-aad3c00d1950",
   "metadata": {},
   "outputs": [
    {
     "name": "stdout",
     "output_type": "stream",
     "text": [
      "[1] \"a는양수\"\n",
      "[1] \"양수인 a의 값은 아래와 같다.\"\n",
      "[1] 10\n"
     ]
    }
   ],
   "source": [
    "a=10 \n",
    "if (a>0)\n",
    "    print('a는양수')\n",
    "    print('양수인 a의 값은 아래와 같다.') \n",
    "    print(a) "
   ]
  },
  {
   "cell_type": "code",
   "execution_count": 21,
   "id": "a128607f-66fd-4f7a-8efd-5aadddbba2c3",
   "metadata": {},
   "outputs": [
    {
     "name": "stdout",
     "output_type": "stream",
     "text": [
      "[1] \"양수인 a의 값은 아래와 같다.\"\n",
      "[1] -10\n"
     ]
    }
   ],
   "source": [
    "a=-10 \n",
    "if (a>0)\n",
    "    print('a는양수') ## \n",
    "    print('양수인 a의 값은 아래와 같다.') \n",
    "    print(a) "
   ]
  },
  {
   "cell_type": "markdown",
   "id": "2d646d7f-2490-48c4-b127-2c9b8685882f",
   "metadata": {},
   "source": [
    "> 컴퓨터에게 내릴 명령이 2개이상일 경우? $\\to$ `{}`을 이용한다. 위의 코드들은 잘못된 코드이다. (에러메시지는 뜨지 않았지만)"
   ]
  },
  {
   "cell_type": "markdown",
   "id": "7127e11c-ff7c-4b7d-851c-d765b9420d00",
   "metadata": {},
   "source": [
    "*올바른 사용법: `{}`를 이용하여 명령들을 묶는다.*"
   ]
  },
  {
   "cell_type": "code",
   "execution_count": 23,
   "id": "38d6a25a-45a5-480b-b843-e4850f4e3627",
   "metadata": {},
   "outputs": [
    {
     "name": "stdout",
     "output_type": "stream",
     "text": [
      "[1] \"a는양수\"\n",
      "[1] \"양수인 a의 값은 아래와 같다.\"\n",
      "[1] 10\n"
     ]
    }
   ],
   "source": [
    "a=10 \n",
    "if (a>0){\n",
    "    print('a는양수')\n",
    "    print('양수인 a의 값은 아래와 같다.') \n",
    "    print(a) \n",
    "}"
   ]
  },
  {
   "cell_type": "code",
   "execution_count": 24,
   "id": "79016f3c-eb1d-4c26-8022-a3611fb7200d",
   "metadata": {},
   "outputs": [],
   "source": [
    "a=-10 \n",
    "if (a>0){\n",
    "    print('a는양수') ## \n",
    "    print('양수인 a의 값은 아래와 같다.') \n",
    "    print(a)\n",
    "}"
   ]
  },
  {
   "cell_type": "markdown",
   "id": "b7e48b76-61ea-45ab-8215-32b914dde07c",
   "metadata": {},
   "source": [
    "`#`"
   ]
  },
  {
   "cell_type": "markdown",
   "id": "39ac9b03-4247-4e47-be15-bce0a0db7fcf",
   "metadata": {},
   "source": [
    "`# 예제5` -- 중괄호를 묶는 방식"
   ]
  },
  {
   "cell_type": "markdown",
   "id": "66926c0f-9fbe-4f72-9b0c-41b3389d0702",
   "metadata": {},
   "source": [
    "아래와 같이 중괄호를 묶어도 상관없다. "
   ]
  },
  {
   "cell_type": "code",
   "execution_count": 29,
   "id": "a4bab9e4-57b0-4905-9d05-6a940fdf612b",
   "metadata": {},
   "outputs": [
    {
     "name": "stdout",
     "output_type": "stream",
     "text": [
      "[1] \"a는양수\"\n",
      "[1] \"양수인 a의 값은 아래와 같다.\"\n",
      "[1] 10\n"
     ]
    }
   ],
   "source": [
    "a=10\n",
    "if (a>0)\n",
    "{\n",
    "    print('a는양수')\n",
    "    print('양수인 a의 값은 아래와 같다.') \n",
    "    print(a) \n",
    "}"
   ]
  },
  {
   "cell_type": "code",
   "execution_count": 30,
   "id": "a483b6c2-7e5e-4d98-af31-27acb2fbf8ea",
   "metadata": {},
   "outputs": [
    {
     "name": "stdout",
     "output_type": "stream",
     "text": [
      "[1] \"a는양수\"\n",
      "[1] \"양수인 a의 값은 아래와 같다.\"\n",
      "[1] 10\n"
     ]
    }
   ],
   "source": [
    "a=10\n",
    "if (a>0)\n",
    "{\n",
    "    print('a는양수')\n",
    "    \n",
    "    print('양수인 a의 값은 아래와 같다.') \n",
    "    \n",
    "    \n",
    "    print(a)}"
   ]
  },
  {
   "cell_type": "code",
   "execution_count": 34,
   "id": "dea9df36-a14b-42eb-9cc2-33363e5c85cc",
   "metadata": {},
   "outputs": [
    {
     "name": "stdout",
     "output_type": "stream",
     "text": [
      "[1] \"a는양수\"\n",
      "[1] \"양수인 a의 값은 아래와 같다.\"\n",
      "[1] 10\n"
     ]
    }
   ],
   "source": [
    "a=10\n",
    "if (a>0){\n",
    "    print('a는양수')\n",
    "    \n",
    "            print('양수인 a의 값은 아래와 같다.') \n",
    "       \n",
    "print(a)\n",
    "                }"
   ]
  },
  {
   "cell_type": "markdown",
   "id": "838b718d-081d-4fce-8901-78c50411124e",
   "metadata": {},
   "source": [
    "- 가능은 하지만 굳이 위와 같은 방식으로 중괄호를 만들 필요는 없다.. "
   ]
  },
  {
   "cell_type": "markdown",
   "id": "334d4179-03c0-49c6-a14e-82ab262f905a",
   "metadata": {},
   "source": [
    "`#`"
   ]
  },
  {
   "cell_type": "markdown",
   "id": "3441b6cc-e26e-4b62-a2cc-60655942ca5b",
   "metadata": {},
   "source": [
    "`# 예제6` -- R은 첫원소만 참이면 참이라 판단함"
   ]
  },
  {
   "cell_type": "code",
   "execution_count": 41,
   "id": "98c81600-ea4a-4062-845a-6faf6b048db4",
   "metadata": {},
   "outputs": [
    {
     "data": {
      "text/plain": [
       "[1]  10 -10"
      ]
     },
     "metadata": {},
     "output_type": "display_data"
    }
   ],
   "source": [
    "a=c(10,-10)\n",
    "a"
   ]
  },
  {
   "cell_type": "code",
   "execution_count": 42,
   "id": "0be5dfc5-11fb-4ac5-a2d2-0c9d76c56170",
   "metadata": {},
   "outputs": [
    {
     "data": {
      "text/plain": [
       "[1]  TRUE FALSE"
      ]
     },
     "metadata": {},
     "output_type": "display_data"
    }
   ],
   "source": [
    "a>0"
   ]
  },
  {
   "cell_type": "markdown",
   "id": "649e0ea6-a38a-45d8-aa9d-767de52d6a69",
   "metadata": {},
   "source": [
    "`a>0`은 참일까 거짓일까? $\\to$ R은 첫번째 원소가 참이면 참이라고 판단한다. "
   ]
  },
  {
   "cell_type": "code",
   "execution_count": 53,
   "id": "dff722d5-0401-4531-9ff1-5c1ffe891c0a",
   "metadata": {},
   "outputs": [
    {
     "name": "stderr",
     "output_type": "stream",
     "text": [
      "Warning message in if (a > 0) {:\n",
      "“the condition has length > 1 and only the first element will be used”\n"
     ]
    },
    {
     "name": "stdout",
     "output_type": "stream",
     "text": [
      "[1] \"a는 양수이다\"\n",
      "[1] \"양수인 a의 값은 아래와 같다.\"\n",
      "[1]  10 -10\n"
     ]
    }
   ],
   "source": [
    "a=c(10,-10)\n",
    "if (a>0){\n",
    "    print('a는 양수이다')\n",
    "    print('양수인 a의 값은 아래와 같다.')\n",
    "    print(a)\n",
    "}"
   ]
  },
  {
   "cell_type": "markdown",
   "id": "7d47b199-b64a-4e0e-b0f9-443c0a9c77a7",
   "metadata": {},
   "source": [
    "- 이러한 코드를 작성하지 말자. "
   ]
  },
  {
   "cell_type": "markdown",
   "id": "d9a953ed-76da-41b6-a430-b3c603add4c1",
   "metadata": {},
   "source": [
    "`#`"
   ]
  },
  {
   "cell_type": "markdown",
   "id": "3dd28770-404a-4bdb-b231-e9201a0faace",
   "metadata": {},
   "source": [
    "## 2. `if-else`"
   ]
  },
  {
   "cell_type": "markdown",
   "id": "a8f7c5e7-ff25-4db9-b1c7-043ca1ecf508",
   "metadata": {},
   "source": [
    "`# 예제1` -- if문은 `if (조건문) 표현식1 else 표현식2`의 형태로 실행한다. "
   ]
  },
  {
   "cell_type": "code",
   "execution_count": 63,
   "id": "ff984a40-28f5-4067-a0ea-1c9f05d7d767",
   "metadata": {},
   "outputs": [
    {
     "data": {
      "text/plain": [
       "[1] 0.6931472"
      ]
     },
     "metadata": {},
     "output_type": "display_data"
    }
   ],
   "source": [
    "x=2\n",
    "if (x>0) log(x) else print('x는양수이어야함')"
   ]
  },
  {
   "cell_type": "code",
   "execution_count": 64,
   "id": "9c4f4985-a881-4bb4-b1de-1c860073f34e",
   "metadata": {},
   "outputs": [
    {
     "data": {
      "text/plain": [
       "[1] 0"
      ]
     },
     "metadata": {},
     "output_type": "display_data"
    }
   ],
   "source": [
    "x=1\n",
    "if (x>0) log(x) else print('x는양수이어야함')"
   ]
  },
  {
   "cell_type": "code",
   "execution_count": 65,
   "id": "1faec6dd-27cf-455e-84e3-386321a1a20d",
   "metadata": {},
   "outputs": [
    {
     "name": "stdout",
     "output_type": "stream",
     "text": [
      "[1] \"x는양수이어야함\"\n"
     ]
    }
   ],
   "source": [
    "x=0\n",
    "if (x>0) log(x) else print('x는양수이어야함')"
   ]
  },
  {
   "cell_type": "code",
   "execution_count": 66,
   "id": "23927b26-79b8-4a9b-9df8-c8c334ce2502",
   "metadata": {},
   "outputs": [
    {
     "name": "stdout",
     "output_type": "stream",
     "text": [
      "[1] \"x는양수이어야함\"\n"
     ]
    }
   ],
   "source": [
    "x=-1\n",
    "if (x>0) log(x) else print('x는양수이어야함')"
   ]
  },
  {
   "cell_type": "markdown",
   "id": "f352969b-82f8-4588-8d9e-ba8801d3bc1d",
   "metadata": {},
   "source": [
    "`#`"
   ]
  },
  {
   "cell_type": "markdown",
   "id": "d109b858-438c-4988-8935-94b230ce1048",
   "metadata": {},
   "source": [
    "`# 예제2` -- `if` 문과 `if~else` 문은 다른기능이다. ($\\star\\star\\star$)"
   ]
  },
  {
   "cell_type": "markdown",
   "id": "cab5ac61-8d27-4341-9c10-ab1eb7952f7a",
   "metadata": {},
   "source": [
    "`-` 아래와 같이 사용해보자. "
   ]
  },
  {
   "cell_type": "code",
   "execution_count": 72,
   "id": "7d1d515d-71a8-4516-b216-eb4c9c53a9d1",
   "metadata": {},
   "outputs": [
    {
     "ename": "ERROR",
     "evalue": "Error in parse(text = x, srcfile = src): <text>:4:1: unexpected 'else'\n3:     log(x) \n4: else\n   ^\n",
     "output_type": "error",
     "traceback": [
      "Error in parse(text = x, srcfile = src): <text>:4:1: unexpected 'else'\n3:     log(x) \n4: else\n   ^\nTraceback:\n"
     ]
    }
   ],
   "source": [
    "x=10\n",
    "if (x>0)\n",
    "    log(x) \n",
    "else \n",
    "    print('x는 양수이어야함')"
   ]
  },
  {
   "cell_type": "markdown",
   "id": "d2e48f41-cd3e-4a1f-b2c3-fbddd988f707",
   "metadata": {},
   "source": [
    "- ?? 왜 에러가 나는가? "
   ]
  },
  {
   "cell_type": "markdown",
   "id": "e1ed4e41-4d85-4bf4-adcf-9ca50f860a65",
   "metadata": {},
   "source": [
    "`-` 아래는 잘 실행된다. "
   ]
  },
  {
   "cell_type": "code",
   "execution_count": 70,
   "id": "fb123718-95ab-4922-b677-a52526270158",
   "metadata": {},
   "outputs": [
    {
     "name": "stdout",
     "output_type": "stream",
     "text": [
      "[1] \"x는양수이어야함\"\n"
     ]
    }
   ],
   "source": [
    "if (x>0)    log(x)     else           print('x는양수이어야함')"
   ]
  },
  {
   "cell_type": "code",
   "execution_count": 71,
   "id": "2a1cb6bf-b92d-411e-82a8-5882f34f655c",
   "metadata": {},
   "outputs": [
    {
     "name": "stdout",
     "output_type": "stream",
     "text": [
      "[1] \"x는양수이어야함\"\n"
     ]
    }
   ],
   "source": [
    "if (x>0)    log(x)     else\n",
    "    print('x는양수이어야함')"
   ]
  },
  {
   "cell_type": "markdown",
   "id": "16ab9907-fb67-46ba-ac23-00c0f60a8573",
   "metadata": {},
   "source": [
    "`-` 보통은 아래와 같이 사용한다. "
   ]
  },
  {
   "cell_type": "code",
   "execution_count": 76,
   "id": "9e334e7e-1bf5-449e-a45b-6edd6e36cce1",
   "metadata": {},
   "outputs": [
    {
     "name": "stdout",
     "output_type": "stream",
     "text": [
      "[1] \"x는 양수이어야함\"\n"
     ]
    }
   ],
   "source": [
    "x=0\n",
    "if(x>0){\n",
    "    log(x) \n",
    "}else{\n",
    "    print('x는 양수이어야함')\n",
    "}"
   ]
  },
  {
   "cell_type": "markdown",
   "id": "55964ce0-8302-4eb5-ba72-b3264d05a8c4",
   "metadata": {},
   "source": [
    "`-` 결국 한줄에 다 말하거나, 말을 하다가 끊어버리면 된다. // 한줄씩 끊어서 컴퓨터가 읽을떄 `if`문이 완성되면 안된다.."
   ]
  },
  {
   "cell_type": "markdown",
   "id": "b72604ba-ae7c-404c-b161-39cf95c6f77b",
   "metadata": {},
   "source": [
    "`-` 아래와 같은것들도 가능 (말이 끊김)"
   ]
  },
  {
   "cell_type": "code",
   "execution_count": 77,
   "id": "f7a0e6d9-656b-4588-8b89-7ee1912ad7a1",
   "metadata": {},
   "outputs": [
    {
     "name": "stdout",
     "output_type": "stream",
     "text": [
      "[1] \"x는 양수이어야함\"\n"
     ]
    }
   ],
   "source": [
    "x=0\n",
    "if (x>0){\n",
    "    \n",
    "log(x) \n",
    "    }else{\n",
    "print('x는 양수이어야함')\n",
    "        }"
   ]
  },
  {
   "cell_type": "markdown",
   "id": "97ad0a59-64aa-463c-806b-1116cdd0d720",
   "metadata": {},
   "source": [
    "`-` 아래는 불가능 "
   ]
  },
  {
   "cell_type": "code",
   "execution_count": 78,
   "id": "f2d2a625-a1a7-4f86-a047-952ed4702850",
   "metadata": {},
   "outputs": [
    {
     "ename": "ERROR",
     "evalue": "Error in parse(text = x, srcfile = src): <text>:5:1: unexpected 'else'\n4: }\n5: else\n   ^\n",
     "output_type": "error",
     "traceback": [
      "Error in parse(text = x, srcfile = src): <text>:5:1: unexpected 'else'\n4: }\n5: else\n   ^\nTraceback:\n"
     ]
    }
   ],
   "source": [
    "x=0\n",
    "if (x>0){\n",
    "    log(x) \n",
    "}\n",
    "else{\n",
    "    print('x는 양수이어야함')\n",
    "}"
   ]
  },
  {
   "cell_type": "markdown",
   "id": "4d9774b5-abcd-4cce-b81b-5db9e7327b1f",
   "metadata": {},
   "source": [
    "- 중괄호만 친다고 해결되는게 아님"
   ]
  },
  {
   "cell_type": "markdown",
   "id": "98bf7822-d652-40e8-b393-923ad183f7f2",
   "metadata": {},
   "source": [
    "`-` 결국 아래와 같은 코드를 권장함. (저는 무조건 이렇게만 씁니당)"
   ]
  },
  {
   "cell_type": "code",
   "execution_count": 80,
   "id": "a678bd5a-e51e-49f5-9483-e38b1e42aced",
   "metadata": {},
   "outputs": [
    {
     "name": "stdout",
     "output_type": "stream",
     "text": [
      "[1] \"x는 양수이어야함\"\n"
     ]
    }
   ],
   "source": [
    "x=0\n",
    "if(x>0){\n",
    "    log(x) \n",
    "}else{\n",
    "    print('x는 양수이어야함')\n",
    "}"
   ]
  },
  {
   "cell_type": "markdown",
   "id": "fb7099d4-1814-4b77-abc8-843349944213",
   "metadata": {},
   "source": [
    "`#`"
   ]
  },
  {
   "cell_type": "markdown",
   "id": "80c670f9-de14-41d6-b775-b8f01f87bc43",
   "metadata": {},
   "source": [
    "## 3. `if-elseif-else` "
   ]
  },
  {
   "cell_type": "markdown",
   "id": "9a304088-65c7-4fab-8014-0a5681a5cc14",
   "metadata": {},
   "source": [
    "`# 예제1` "
   ]
  },
  {
   "cell_type": "code",
   "execution_count": 84,
   "id": "706affc3-ac5e-4284-b27c-f4979f3d8a29",
   "metadata": {},
   "outputs": [
    {
     "name": "stdout",
     "output_type": "stream",
     "text": [
      "[1] 2.302585\n"
     ]
    }
   ],
   "source": [
    "x=10 \n",
    "if (x>0){\n",
    "    print(log(x))\n",
    "}else{\n",
    "    if(x==0){\n",
    "        x=1e-100\n",
    "        print('x=0에서는 log(x)가 정의되지 않으므로 x=1e-100의 값으로 바꾸어 계산하겠습니다.')\n",
    "        print(log(x))\n",
    "    }else{ \n",
    "        print('x가음수입니다.')\n",
    "    }\n",
    "}"
   ]
  },
  {
   "cell_type": "code",
   "execution_count": 85,
   "id": "3f188f09-cb8f-45c9-9ed3-029d37d75c74",
   "metadata": {},
   "outputs": [
    {
     "name": "stdout",
     "output_type": "stream",
     "text": [
      "[1] \"x=0에서는 log(x)가 정의되지 않으므로 x=1e-100의 값으로 바꾸어 계산하겠습니다.\"\n"
     ]
    },
    {
     "data": {
      "text/plain": [
       "[1] -230.2585"
      ]
     },
     "metadata": {},
     "output_type": "display_data"
    }
   ],
   "source": [
    "x=0\n",
    "if (x>0){\n",
    "    print(log(x))\n",
    "}else{\n",
    "    if(x==0){\n",
    "        x=1e-100\n",
    "        print('x=0에서는 log(x)가 정의되지 않으므로 x=1e-100의 값으로 바꾸어 계산하겠습니다.')\n",
    "        print(log(x))\n",
    "    }else{ \n",
    "        print('x가음수입니다.')\n",
    "    }\n",
    "}"
   ]
  },
  {
   "cell_type": "code",
   "execution_count": 93,
   "id": "7125a6be-7b65-4ed8-bd7f-27117cfe014f",
   "metadata": {},
   "outputs": [
    {
     "name": "stdout",
     "output_type": "stream",
     "text": [
      "[1] \"x가음수입니다.\"\n"
     ]
    }
   ],
   "source": [
    "x=-1\n",
    "if (x>0){\n",
    "    print(log(x))\n",
    "}else{\n",
    "    if(x==0){\n",
    "        x=1e-100\n",
    "        print('x=0에서는 log(x)가 정의되지 않으므로 x=1e-100의 값으로 바꾸어 계산하겠습니다.')\n",
    "        print(log(x))\n",
    "    }else{ \n",
    "        print('x가음수입니다.')\n",
    "    }\n",
    "}"
   ]
  },
  {
   "cell_type": "markdown",
   "id": "ae33aeec-805b-4fbe-995a-e1212142cf8d",
   "metadata": {},
   "source": [
    "`#`"
   ]
  },
  {
   "cell_type": "markdown",
   "id": "8b3ce17d-07f6-40a7-9484-cb9d52de03f0",
   "metadata": {},
   "source": [
    "`# 예제2` -- 예제1과 아래는 같은 코드이다."
   ]
  },
  {
   "cell_type": "code",
   "execution_count": 16,
   "id": "9f0be66e-0fea-4166-8441-a4dc65ed6c65",
   "metadata": {},
   "outputs": [
    {
     "name": "stdout",
     "output_type": "stream",
     "text": [
      "[1] 2.302585\n"
     ]
    }
   ],
   "source": [
    "x=10 \n",
    "if (x>0){\n",
    "    print(log(x))\n",
    "}else if(x==0){\n",
    "    x=1e-100\n",
    "    print('x=0에서는 log(x)가 정의되지 않으므로 x=1e-100의 값으로 바꾸어 계산하겠습니다.')\n",
    "    print(log(x))\n",
    "}else{ \n",
    "    print('x가음수입니다.')\n",
    "}"
   ]
  },
  {
   "cell_type": "code",
   "execution_count": 17,
   "id": "8a73f147-5511-4853-b0fa-f2ad5016620f",
   "metadata": {},
   "outputs": [
    {
     "name": "stdout",
     "output_type": "stream",
     "text": [
      "[1] \"x=0에서는 log(x)가 정의되지 않으므로 x=1e-100의 값으로 바꾸어 계산하겠습니다.\"\n",
      "[1] -230.2585\n"
     ]
    }
   ],
   "source": [
    "x=0\n",
    "if (x>0){\n",
    "    print(log(x))\n",
    "}else if(x==0){\n",
    "    x=1e-100\n",
    "    print('x=0에서는 log(x)가 정의되지 않으므로 x=1e-100의 값으로 바꾸어 계산하겠습니다.')\n",
    "    print(log(x))\n",
    "}else{ \n",
    "    print('x가음수입니다.')\n",
    "}\n"
   ]
  },
  {
   "cell_type": "code",
   "execution_count": 19,
   "id": "c0b6a4db-f397-4005-ac1f-1802c6d7413d",
   "metadata": {},
   "outputs": [
    {
     "name": "stdout",
     "output_type": "stream",
     "text": [
      "[1] \"x가음수입니다.\"\n"
     ]
    }
   ],
   "source": [
    "x=-1\n",
    "if (x>0){\n",
    "    print(log(x))\n",
    "}else if(x==0){\n",
    "    x=1e-100\n",
    "    print('x=0에서는 log(x)가 정의되지 않으므로 x=1e-100의 값으로 바꾸어 계산하겠습니다.')\n",
    "    print(log(x))\n",
    "}else{ \n",
    "    print('x가음수입니다.')\n",
    "}"
   ]
  },
  {
   "cell_type": "markdown",
   "id": "9703c896-211d-48d4-9793-89d91aad1be0",
   "metadata": {},
   "source": [
    "`#`"
   ]
  }
 ],
 "metadata": {
  "kernelspec": {
   "display_name": "R",
   "language": "R",
   "name": "ir"
  },
  "language_info": {
   "codemirror_mode": "r",
   "file_extension": ".r",
   "mimetype": "text/x-r-source",
   "name": "R",
   "pygments_lexer": "r",
   "version": "4.4.2"
  }
 },
 "nbformat": 4,
 "nbformat_minor": 5
}
