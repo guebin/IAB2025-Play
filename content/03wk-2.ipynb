{
  "metadata": {
    "kernelspec": {
      "name": "webR",
      "display_name": "R (webR)",
      "language": "R"
    },
    "language_info": {
      "name": "R",
      "version": "4.3.3",
      "mimetype": "text/x-rsrc",
      "file_extension": ".R"
    }
  },
  "nbformat_minor": 5,
  "nbformat": 4,
  "cells": [
    {
      "id": "166554cd-c2ca-4f91-bd76-3e52c1c8dd96",
      "cell_type": "raw",
      "source": "---\ntitle: \"03wk-2: if, if-else, if-elseif-else // 숙제\"\nauthor: \"최규빈\"\ndate: \"03/20/2025\"\ndraft: false\n---",
      "metadata": {
        "vscode": {
          "languageId": "raw"
        }
      }
    },
    {
      "id": "574fc02c",
      "cell_type": "markdown",
      "source": "{{<video https://youtu.be/playlist?list=PLQqh36zP38-zqBbIkuYq0MZhlr1Edvs3E&si=ldRRpcc2ZFr5fIjD >}}",
      "metadata": {}
    },
    {
      "id": "3eee58d4-c0e2-488e-8d5c-2e9eec11831c",
      "cell_type": "markdown",
      "source": "## 1. `if`",
      "metadata": {}
    },
    {
      "id": "ed04b60b-21a4-42f3-a9ea-01d7199bccd7",
      "cell_type": "markdown",
      "source": "`# 예제1` -- if문은 `if (조건문) 표현식`의 형태로 사용한다. ",
      "metadata": {}
    },
    {
      "id": "0982f16a-1951-4efc-9a1b-d5dae4436e69",
      "cell_type": "code",
      "source": "a = 2\nif (a>0) print('a는 양수') ",
      "metadata": {
        "vscode": {
          "languageId": "r"
        }
      },
      "outputs": [
        {
          "name": "stdout",
          "output_type": "stream",
          "text": "[1] \"a는 양수\"\n"
        }
      ],
      "execution_count": 1
    },
    {
      "id": "6c88a410-ba23-4fe5-b92f-07d0c61ea735",
      "cell_type": "markdown",
      "source": "`#`",
      "metadata": {}
    },
    {
      "id": "cd70518b-1fb6-42ed-9d79-5fdf48b14326",
      "cell_type": "markdown",
      "source": "`# 예제2` -- space를 임의로 넣어도 OK ",
      "metadata": {}
    },
    {
      "id": "4e98b98d-5d60-4342-9741-3928d2be1b77",
      "cell_type": "code",
      "source": "a=10\nif    (a>0)    print('a는 양수') ",
      "metadata": {
        "vscode": {
          "languageId": "r"
        }
      },
      "outputs": [
        {
          "name": "stdout",
          "output_type": "stream",
          "text": "[1] \"a는 양수\"\n"
        }
      ],
      "execution_count": 11
    },
    {
      "id": "83941bd6-c02a-4971-8c04-a46d03836528",
      "cell_type": "code",
      "source": "a=10\nif  (a>0)    print('a는 양수') ",
      "metadata": {
        "vscode": {
          "languageId": "r"
        }
      },
      "outputs": [
        {
          "name": "stdout",
          "output_type": "stream",
          "text": "[1] \"a는 양수\"\n"
        }
      ],
      "execution_count": 10
    },
    {
      "id": "80f3c152-104f-48a4-bceb-4fd323f4e701",
      "cell_type": "code",
      "source": "a=10\nif(a>0)    print('a는 양수') ",
      "metadata": {
        "vscode": {
          "languageId": "r"
        }
      },
      "outputs": [
        {
          "name": "stdout",
          "output_type": "stream",
          "text": "[1] \"a는 양수\"\n"
        }
      ],
      "execution_count": 9
    },
    {
      "id": "4ade17b0-62e6-4d6a-9f71-4ef1ccc4c2ce",
      "cell_type": "markdown",
      "source": "`#`",
      "metadata": {}
    },
    {
      "id": "68310640-8369-4110-8af6-bf8c4aee104a",
      "cell_type": "markdown",
      "source": "`# 예제3` -- enter 를 임의로 넣어도 OK",
      "metadata": {}
    },
    {
      "id": "7c73e1bc-7b7a-4313-83cc-1620996b1256",
      "cell_type": "code",
      "source": "a=10\nif (a>0)\n    print('a는양수')",
      "metadata": {
        "vscode": {
          "languageId": "r"
        }
      },
      "outputs": [
        {
          "name": "stdout",
          "output_type": "stream",
          "text": "[1] \"a는양수\"\n"
        }
      ],
      "execution_count": 12
    },
    {
      "id": "f5e08975-4173-46d7-a2bd-2ab7f1f21b24",
      "cell_type": "code",
      "source": "a=10\nif (a>0) \n    \n    \n    print('a는양수')",
      "metadata": {
        "vscode": {
          "languageId": "r"
        }
      },
      "outputs": [
        {
          "name": "stdout",
          "output_type": "stream",
          "text": "[1] \"a는양수\"\n"
        }
      ],
      "execution_count": 13
    },
    {
      "id": "406ac215-1556-4e67-b132-e206f85e0aad",
      "cell_type": "code",
      "source": "a=10\nif \n    \n    \n    (a>0) \n    \n    \n    print('a는양수')",
      "metadata": {
        "vscode": {
          "languageId": "r"
        }
      },
      "outputs": [
        {
          "name": "stdout",
          "output_type": "stream",
          "text": "[1] \"a는양수\"\n"
        }
      ],
      "execution_count": 14
    },
    {
      "id": "73d1fdc7-0afd-451c-8f58-e9d5458df947",
      "cell_type": "markdown",
      "source": "`#`",
      "metadata": {}
    },
    {
      "id": "a4d804cd-e7a0-45e6-ae70-7d7ac0bcef9a",
      "cell_type": "markdown",
      "source": "`# 예제4` -- if가 만족될때 내릴 명령이 2개이상이면 중괄호를 이용하라. ",
      "metadata": {}
    },
    {
      "id": "1e3c823e-aa98-46ab-8848-40b3aa3a7834",
      "cell_type": "markdown",
      "source": "*잘못된 사용*",
      "metadata": {}
    },
    {
      "id": "0289bc77-e038-4030-8ef3-aad3c00d1950",
      "cell_type": "code",
      "source": "a=10 \nif (a>0)\n    print('a는양수')\n    print('양수인 a의 값은 아래와 같다.') \n    print(a) ",
      "metadata": {
        "vscode": {
          "languageId": "r"
        }
      },
      "outputs": [
        {
          "name": "stdout",
          "output_type": "stream",
          "text": "[1] \"a는양수\"\n,[1] \"양수인 a의 값은 아래와 같다.\"\n,[1] 10\n"
        }
      ],
      "execution_count": 17
    },
    {
      "id": "a128607f-66fd-4f7a-8efd-5aadddbba2c3",
      "cell_type": "code",
      "source": "a=-10 \nif (a>0)\n    print('a는양수')\n    print('양수인 a의 값은 아래와 같다.') \n    print(a) ",
      "metadata": {
        "vscode": {
          "languageId": "r"
        }
      },
      "outputs": [
        {
          "name": "stdout",
          "output_type": "stream",
          "text": "[1] \"양수인 a의 값은 아래와 같다.\"\n,[1] -10\n"
        }
      ],
      "execution_count": 23
    },
    {
      "id": "2d646d7f-2490-48c4-b127-2c9b8685882f",
      "cell_type": "markdown",
      "source": "> 컴퓨터에게 내릴 명령이 2개이상일 경우? $\\to$ `{}`을 이용한다. 위의 코드들은 잘못된 코드이다. (에러메시지는 뜨지 않았지만)",
      "metadata": {}
    },
    {
      "id": "7127e11c-ff7c-4b7d-851c-d765b9420d00",
      "cell_type": "markdown",
      "source": "*올바른 사용법: `{}`를 이용하여 명령들을 묶는다.*",
      "metadata": {}
    },
    {
      "id": "38d6a25a-45a5-480b-b843-e4850f4e3627",
      "cell_type": "code",
      "source": "a=10 \nif (a>0){\n    print('a는양수')\n    print('양수인 a의 값은 아래와 같다.') \n    print(a) \n}",
      "metadata": {
        "vscode": {
          "languageId": "r"
        }
      },
      "outputs": [
        {
          "name": "stdout",
          "output_type": "stream",
          "text": "[1] \"a는양수\"\n,[1] \"양수인 a의 값은 아래와 같다.\"\n,[1] 10\n"
        }
      ],
      "execution_count": 24
    },
    {
      "id": "79016f3c-eb1d-4c26-8022-a3611fb7200d",
      "cell_type": "code",
      "source": "a=-10 \nif (a>0){\n    print('a는양수') ## \n    print('양수인 a의 값은 아래와 같다.') \n    print(a)\n}",
      "metadata": {
        "vscode": {
          "languageId": "r"
        }
      },
      "outputs": [],
      "execution_count": 25
    },
    {
      "id": "b7e48b76-61ea-45ab-8215-32b914dde07c",
      "cell_type": "markdown",
      "source": "`#`",
      "metadata": {}
    },
    {
      "id": "39ac9b03-4247-4e47-be15-bce0a0db7fcf",
      "cell_type": "markdown",
      "source": "`# 예제5` -- 중괄호를 묶는 방식",
      "metadata": {}
    },
    {
      "id": "66926c0f-9fbe-4f72-9b0c-41b3389d0702",
      "cell_type": "markdown",
      "source": "아래와 같이 중괄호를 묶어도 상관없다. ",
      "metadata": {}
    },
    {
      "id": "a4bab9e4-57b0-4905-9d05-6a940fdf612b",
      "cell_type": "code",
      "source": "a=10\nif (a>0)\n{\n    print('a는양수')\n    print('양수인 a의 값은 아래와 같다.') \n    print(a) \n}",
      "metadata": {
        "vscode": {
          "languageId": "r"
        }
      },
      "outputs": [
        {
          "name": "stdout",
          "output_type": "stream",
          "text": "[1] \"a는양수\"\n,[1] \"양수인 a의 값은 아래와 같다.\"\n,[1] 10\n"
        }
      ],
      "execution_count": 30
    },
    {
      "id": "a483b6c2-7e5e-4d98-af31-27acb2fbf8ea",
      "cell_type": "code",
      "source": "a=10\nif (a>0)\n{\n    print('a는양수')\n    \n    print('양수인 a의 값은 아래와 같다.') \n    \n    \n    print(a)}",
      "metadata": {
        "vscode": {
          "languageId": "r"
        }
      },
      "outputs": [
        {
          "name": "stdout",
          "output_type": "stream",
          "text": "[1] \"a는양수\"\n,[1] \"양수인 a의 값은 아래와 같다.\"\n,[1] 10\n"
        }
      ],
      "execution_count": 31
    },
    {
      "id": "dea9df36-a14b-42eb-9cc2-33363e5c85cc",
      "cell_type": "code",
      "source": "a=10\nif (a>0){\n    print('a는양수')\n    \n            print('양수인 a의 값은 아래와 같다.') \n       \nprint(a)\n                }",
      "metadata": {
        "vscode": {
          "languageId": "r"
        }
      },
      "outputs": [
        {
          "name": "stdout",
          "output_type": "stream",
          "text": "[1] \"a는양수\"\n,[1] \"양수인 a의 값은 아래와 같다.\"\n,[1] 10\n"
        }
      ],
      "execution_count": 32
    },
    {
      "id": "838b718d-081d-4fce-8901-78c50411124e",
      "cell_type": "markdown",
      "source": "- 가능은 하지만 굳이 위와 같은 방식으로 중괄호를 만들 필요는 없다.. ",
      "metadata": {}
    },
    {
      "id": "334d4179-03c0-49c6-a14e-82ab262f905a",
      "cell_type": "markdown",
      "source": "`#`",
      "metadata": {}
    },
    {
      "id": "3dd28770-404a-4bdb-b231-e9201a0faace",
      "cell_type": "markdown",
      "source": "## 2. `if-else`",
      "metadata": {}
    },
    {
      "id": "a8f7c5e7-ff25-4db9-b1c7-043ca1ecf508",
      "cell_type": "markdown",
      "source": "`# 예제1` -- if문은 `if (조건문) 표현식1 else 표현식2`의 형태로 실행한다. ",
      "metadata": {}
    },
    {
      "id": "9c4f4985-a881-4bb4-b1de-1c860073f34e",
      "cell_type": "code",
      "source": "x=2\nif (x>0) log(x) else print('x는양수이어야함')",
      "metadata": {
        "vscode": {
          "languageId": "r"
        }
      },
      "outputs": [
        {
          "data": {
            "text/plain": [
              "[1] 0.6931472"
            ]
          },
          "execution_count": 47,
          "metadata": {},
          "output_type": "execute_result"
        }
      ],
      "execution_count": 47
    },
    {
      "id": "1faec6dd-27cf-455e-84e3-386321a1a20d",
      "cell_type": "code",
      "source": "x=0\nif (x>0) log(x) else print('x는양수이어야함')",
      "metadata": {
        "vscode": {
          "languageId": "r"
        }
      },
      "outputs": [
        {
          "name": "stdout",
          "output_type": "stream",
          "text": "[1] \"x는양수이어야함\"\n"
        }
      ],
      "execution_count": 48
    },
    {
      "id": "23927b26-79b8-4a9b-9df8-c8c334ce2502",
      "cell_type": "code",
      "source": "x= -1\nif (x>0) log(x) else print('x는양수이어야함')",
      "metadata": {
        "vscode": {
          "languageId": "r"
        }
      },
      "outputs": [
        {
          "name": "stdout",
          "output_type": "stream",
          "text": "[1] \"x는양수이어야함\"\n"
        }
      ],
      "execution_count": 49
    },
    {
      "id": "f352969b-82f8-4588-8d9e-ba8801d3bc1d",
      "cell_type": "markdown",
      "source": "`#`",
      "metadata": {}
    },
    {
      "id": "d109b858-438c-4988-8935-94b230ce1048",
      "cell_type": "markdown",
      "source": "`# 예제2` -- `if` 문과 `if~else` 문은 다른기능이다. ($\\star\\star\\star$)",
      "metadata": {}
    },
    {
      "id": "cab5ac61-8d27-4341-9c10-ab1eb7952f7a",
      "cell_type": "markdown",
      "source": "`-` 아래와 같이 사용해보자. ",
      "metadata": {}
    },
    {
      "id": "0eedc267-2481-4d0e-af59-640be1e6a3e9",
      "cell_type": "code",
      "source": "x=10\nif (x>0)\n    log(x) \nelse \n    print('x는 양수이어야함')",
      "metadata": {
        "vscode": {
          "languageId": "r"
        }
      },
      "outputs": [
        {
          "name": "stderr",
          "output_type": "stream",
          "text": "Error: Error in Unknown source: <text>:4:1: unexpected 'else'\n,3:     log(x) \n,4: else\n,   ^\n"
        }
      ],
      "execution_count": 71
    },
    {
      "id": "d2e48f41-cd3e-4a1f-b2c3-fbddd988f707",
      "cell_type": "markdown",
      "source": "- ?? 왜 에러가 나는가? ",
      "metadata": {}
    },
    {
      "id": "e1ed4e41-4d85-4bf4-adcf-9ca50f860a65",
      "cell_type": "markdown",
      "source": "`-` 아래는 잘 실행된다. ",
      "metadata": {}
    },
    {
      "id": "fb123718-95ab-4922-b677-a52526270158",
      "cell_type": "code",
      "source": "if (x>0)    log(x)     else           print('x는양수이어야함')",
      "metadata": {
        "vscode": {
          "languageId": "r"
        }
      },
      "outputs": [
        {
          "data": {
            "text/plain": [
              "[1] 2.302585"
            ]
          },
          "execution_count": 72,
          "metadata": {},
          "output_type": "execute_result"
        }
      ],
      "execution_count": 72
    },
    {
      "id": "2a1cb6bf-b92d-411e-82a8-5882f34f655c",
      "cell_type": "code",
      "source": "if (x>0)    log(x)     else\n    print('x는양수이어야함')",
      "metadata": {
        "vscode": {
          "languageId": "r"
        }
      },
      "outputs": [
        {
          "data": {
            "text/plain": [
              "[1] 2.302585"
            ]
          },
          "execution_count": 74,
          "metadata": {},
          "output_type": "execute_result"
        }
      ],
      "execution_count": 74
    },
    {
      "id": "16ab9907-fb67-46ba-ac23-00c0f60a8573",
      "cell_type": "markdown",
      "source": "`-` 보통은 아래와 같이 사용한다. ",
      "metadata": {}
    },
    {
      "id": "9e334e7e-1bf5-449e-a45b-6edd6e36cce1",
      "cell_type": "code",
      "source": "x=0\nif(x>0){\n    log(x) \n}else{\n    print('x는 양수이어야함')\n}",
      "metadata": {
        "vscode": {
          "languageId": "r"
        }
      },
      "outputs": [
        {
          "name": "stdout",
          "output_type": "stream",
          "text": "[1] \"x는 양수이어야함\"\n"
        }
      ],
      "execution_count": 76
    },
    {
      "id": "55964ce0-8302-4eb5-ba72-b3264d05a8c4",
      "cell_type": "markdown",
      "source": "`-` 결국 한줄에 다 말하거나, 말을 하다가 끊어버리면 된다. // 한줄씩 끊어서 컴퓨터가 읽을떄 `if`문이 완성되면 안된다..",
      "metadata": {}
    },
    {
      "id": "b72604ba-ae7c-404c-b161-39cf95c6f77b",
      "cell_type": "markdown",
      "source": "`-` 아래와 같은것들도 가능",
      "metadata": {}
    },
    {
      "id": "f7a0e6d9-656b-4588-8b89-7ee1912ad7a1",
      "cell_type": "code",
      "source": "x=0\nif (x>0){\n    \nlog(x) \n    }else{\nprint('x는 양수이어야함')\n        }",
      "metadata": {
        "vscode": {
          "languageId": "r"
        }
      },
      "outputs": [
        {
          "name": "stdout",
          "output_type": "stream",
          "text": "[1] \"x는 양수이어야함\"\n"
        }
      ],
      "execution_count": 78
    },
    {
      "id": "97ad0a59-64aa-463c-806b-1116cdd0d720",
      "cell_type": "markdown",
      "source": "`-` 아래는 불가능 ",
      "metadata": {}
    },
    {
      "id": "f2d2a625-a1a7-4f86-a047-952ed4702850",
      "cell_type": "code",
      "source": "x=0\nif (x>0){\n    log(x) \n}\nelse{\n    print('x는 양수이어야함')\n}",
      "metadata": {
        "vscode": {
          "languageId": "r"
        }
      },
      "outputs": [
        {
          "name": "stderr",
          "output_type": "stream",
          "text": "Error: Error in Unknown source: <text>:5:1: unexpected 'else'\n,4: }\n,5: else\n,   ^\n"
        }
      ],
      "execution_count": 79
    },
    {
      "id": "4d9774b5-abcd-4cce-b81b-5db9e7327b1f",
      "cell_type": "markdown",
      "source": "- 중괄호만 친다고 해결되는게 아님",
      "metadata": {}
    },
    {
      "id": "98bf7822-d652-40e8-b393-923ad183f7f2",
      "cell_type": "markdown",
      "source": "`-` 결국 아래와 같은 코드를 권장함. (저는 무조건 이렇게만 씁니당)",
      "metadata": {}
    },
    {
      "id": "a678bd5a-e51e-49f5-9483-e38b1e42aced",
      "cell_type": "code",
      "source": "x=0\nif(x>0){\n    log(x) \n}else{\n    print('x는 양수이어야함')\n}",
      "metadata": {
        "vscode": {
          "languageId": "r"
        }
      },
      "outputs": [
        {
          "name": "stdout",
          "output_type": "stream",
          "text": "[1] \"x는 양수이어야함\"\n"
        }
      ],
      "execution_count": 80
    },
    {
      "id": "fb7099d4-1814-4b77-abc8-843349944213",
      "cell_type": "markdown",
      "source": "`#`",
      "metadata": {}
    },
    {
      "id": "80c670f9-de14-41d6-b775-b8f01f87bc43",
      "cell_type": "markdown",
      "source": "## 3. `if-elseif-else` ",
      "metadata": {}
    },
    {
      "id": "9a304088-65c7-4fab-8014-0a5681a5cc14",
      "cell_type": "markdown",
      "source": "`# 예제1` ",
      "metadata": {}
    },
    {
      "id": "706affc3-ac5e-4284-b27c-f4979f3d8a29",
      "cell_type": "code",
      "source": "x=10 \nif (x>0){\n    print(log(x))\n}else{\n    if(x==0){\n        x=1e-100\n        print('x=0에서는 log(x)가 정의되지 않으므로 x=1e-100의 값으로 바꾸어 계산하겠습니다.')\n        print(log(x))\n    }else{ \n        print('x가음수입니다.')\n    }\n}",
      "metadata": {
        "vscode": {
          "languageId": "r"
        }
      },
      "outputs": [
        {
          "name": "stdout",
          "output_type": "stream",
          "text": "[1] 2.302585\n"
        }
      ],
      "execution_count": 89
    },
    {
      "id": "3f188f09-cb8f-45c9-9ed3-029d37d75c74",
      "cell_type": "code",
      "source": "x=0\nif (x>0){\n    print(log(x))\n}else{\n    if(x==0){\n        x=1e-100\n        print('x=0에서는 log(x)가 정의되지 않으므로 x=1e-100의 값으로 바꾸어 계산하겠습니다.')\n        print(log(x))\n    }else{ \n        print('x가음수입니다.')\n    }\n}",
      "metadata": {
        "vscode": {
          "languageId": "r"
        }
      },
      "outputs": [
        {
          "name": "stdout",
          "output_type": "stream",
          "text": "[1] \"x=0에서는 log(x)가 정의되지 않으므로 x=1e-100의 값으로 바꾸어 계산하겠습니다.\"\n,[1] -230.2585\n"
        }
      ],
      "execution_count": 93
    },
    {
      "id": "7125a6be-7b65-4ed8-bd7f-27117cfe014f",
      "cell_type": "code",
      "source": "x=-1\nif (x>0){\n    print(log(x))\n}else{\n    if(x==0){\n        x=1e-100\n        print('x=0에서는 log(x)가 정의되지 않으므로 x=1e-100의 값으로 바꾸어 계산하겠습니다.')\n        print(log(x))\n    }else{\n        print('x가음수입니다.')\n    }\n}",
      "metadata": {
        "vscode": {
          "languageId": "r"
        }
      },
      "outputs": [
        {
          "name": "stdout",
          "output_type": "stream",
          "text": "[1] \"x가음수입니다.\"\n"
        }
      ],
      "execution_count": 94
    },
    {
      "id": "ae33aeec-805b-4fbe-995a-e1212142cf8d",
      "cell_type": "markdown",
      "source": "`#`",
      "metadata": {}
    },
    {
      "id": "8b3ce17d-07f6-40a7-9484-cb9d52de03f0",
      "cell_type": "markdown",
      "source": "`# 예제2` -- 예제1과 아래는 같은 코드이다.",
      "metadata": {}
    },
    {
      "id": "9f0be66e-0fea-4166-8441-a4dc65ed6c65",
      "cell_type": "code",
      "source": "x=10 \nif (x>0){\n    print(log(x))\n}else if(x==0){\n    x=1e-100\n    print('x=0에서는 log(x)가 정의되지 않으므로 x=1e-100의 값으로 바꾸어 계산하겠습니다.')\n    print(log(x))\n}else{ \n    print('x가음수입니다.')\n}",
      "metadata": {
        "vscode": {
          "languageId": "r"
        }
      },
      "outputs": [
        {
          "name": "stdout",
          "output_type": "stream",
          "text": "[1] 2.302585\n"
        }
      ],
      "execution_count": 100
    },
    {
      "id": "8a73f147-5511-4853-b0fa-f2ad5016620f",
      "cell_type": "code",
      "source": "x=0\nif (x>0){\n    print(log(x))\n}else if(x==0){\n    x=1e-100\n    print('x=0에서는 log(x)가 정의되지 않으므로 x=1e-100의 값으로 바꾸어 계산하겠습니다.')\n    print(log(x))\n}else{ \n    print('x가음수입니다.')\n}\n",
      "metadata": {
        "vscode": {
          "languageId": "r"
        }
      },
      "outputs": [
        {
          "name": "stdout",
          "output_type": "stream",
          "text": "[1] \"x=0에서는 log(x)가 정의되지 않으므로 x=1e-100의 값으로 바꾸어 계산하겠습니다.\"\n,[1] -230.2585\n"
        }
      ],
      "execution_count": 101
    },
    {
      "id": "c0b6a4db-f397-4005-ac1f-1802c6d7413d",
      "cell_type": "code",
      "source": "x=-1\nif (x>0){\n    print(log(x))\n}else if(x==0){\n    x=1e-100\n    print('x=0에서는 log(x)가 정의되지 않으므로 x=1e-100의 값으로 바꾸어 계산하겠습니다.')\n    print(log(x))\n}else{ \n    print('x가음수입니다.')\n}",
      "metadata": {
        "vscode": {
          "languageId": "r"
        }
      },
      "outputs": [
        {
          "name": "stdout",
          "output_type": "stream",
          "text": "[1] \"x가음수입니다.\"\n"
        }
      ],
      "execution_count": 102
    },
    {
      "id": "9703c896-211d-48d4-9793-89d91aad1be0",
      "cell_type": "markdown",
      "source": "`#`",
      "metadata": {}
    },
    {
      "id": "a7d0e824-db44-4bcf-8332-dd43292c49f9",
      "cell_type": "markdown",
      "source": "## 4. 숙제 ",
      "metadata": {}
    },
    {
      "id": "4420e6e7-f564-4132-a85d-01756988980b",
      "cell_type": "markdown",
      "source": "`1`. 아래의 코드를 관찰하고 올바르게 고쳐라. ",
      "metadata": {}
    },
    {
      "id": "3e2adbea-7964-47d9-ab10-bbf871fb9200",
      "cell_type": "code",
      "source": "x=-1\nif (x>0){\n    print(log(x))\n}\nelse if(x==0){\n    x=1e-100\n    print('x=0에서는 log(x)가 정의되지 않으므로 x=1e-100의 값으로 바꾸어 계산하겠습니다.')\n    print(log(x))\n}else{ \n    print('x가음수입니다.')\n}",
      "metadata": {
        "vscode": {
          "languageId": "r"
        },
        "trusted": true
      },
      "outputs": [
        {
          "name": "stderr",
          "output_type": "stream",
          "text": "Error: Error in Unknown source: <text>:5:1: unexpected 'else'\n4: }\n5: else\n   ^\n"
        }
      ],
      "execution_count": 1
    },
    {
      "id": "6ad4b07a-6086-4c73-bfb7-9fd67be6f1e1",
      "cell_type": "markdown",
      "source": "`(풀이)`",
      "metadata": {}
    },
    {
      "id": "ccdba6ec-eb1f-41ab-a607-e8f3fc3da690",
      "cell_type": "code",
      "source": "x=-1\nif (x>0){\n    print(log(x))\n}else if(x==0){\n    x=1e-100\n    print('x=0에서는 log(x)가 정의되지 않으므로 x=1e-100의 값으로 바꾸어 계산하겠습니다.')\n    print(log(x))\n}else{ \n    print('x가음수입니다.')\n}",
      "metadata": {
        "trusted": true
      },
      "outputs": [
        {
          "name": "stdout",
          "output_type": "stream",
          "text": "[1] \"x가음수입니다.\"\n"
        }
      ],
      "execution_count": 2
    },
    {
      "id": "b082f467-695d-4118-b057-cbab2c2a459d",
      "cell_type": "markdown",
      "source": "`2`. 함수 `check`가 올바르게 동작하도록 코드를 수정하라. ",
      "metadata": {}
    },
    {
      "id": "c09c3520-9b42-4664-82fd-548db4fa704e",
      "cell_type": "code",
      "source": "check<- function(x){\n    if(x%%2==0){\n        print(\"x는 2의 배수\")\n    }else if(x%%3==0){\n        print(\"x는 3의 배수\")\n    }else if(x%%6==0){\n        print(\"x는 2의 배수\")\n        print(\"x는 3의 배수\")\n    }else{\n        print(\"x는 3의 배수도 아니고, 2의 배수도 아니다\")\n    }\n}",
      "metadata": {
        "vscode": {
          "languageId": "r"
        },
        "trusted": true
      },
      "outputs": [],
      "execution_count": 3
    },
    {
      "id": "9106f504-465b-4294-9dbc-f2be51764643",
      "cell_type": "code",
      "source": "check(3)",
      "metadata": {
        "vscode": {
          "languageId": "r"
        },
        "trusted": true
      },
      "outputs": [
        {
          "name": "stdout",
          "output_type": "stream",
          "text": "[1] \"x는 3의 배수\"\n"
        }
      ],
      "execution_count": 4
    },
    {
      "id": "5bf89489-0e47-4ad3-a466-38ea3650ca76",
      "cell_type": "code",
      "source": "check(4)",
      "metadata": {
        "vscode": {
          "languageId": "r"
        },
        "trusted": true
      },
      "outputs": [
        {
          "name": "stdout",
          "output_type": "stream",
          "text": "[1] \"x는 2의 배수\"\n"
        }
      ],
      "execution_count": 5
    },
    {
      "id": "ca26ee4c-8fe3-4d5d-83f5-462b9bb26fcf",
      "cell_type": "code",
      "source": "check(5)",
      "metadata": {
        "vscode": {
          "languageId": "r"
        },
        "trusted": true
      },
      "outputs": [
        {
          "name": "stdout",
          "output_type": "stream",
          "text": "[1] \"x는 3의 배수도 아니고, 2의 배수도 아니다\"\n"
        }
      ],
      "execution_count": 6
    },
    {
      "id": "0543a60f-ceff-4e4a-8c0a-6a0e8cb2586c",
      "cell_type": "code",
      "source": "check(6) # 여기가 이상하게 나옴..",
      "metadata": {
        "vscode": {
          "languageId": "r"
        },
        "trusted": true
      },
      "outputs": [
        {
          "name": "stdout",
          "output_type": "stream",
          "text": "[1] \"x는 2의 배수\"\n"
        }
      ],
      "execution_count": 7
    },
    {
      "id": "b7ecd1cf-d912-4df4-8ab9-9a7db3b2b4d8",
      "cell_type": "code",
      "source": "check(7)",
      "metadata": {
        "vscode": {
          "languageId": "r"
        },
        "trusted": true
      },
      "outputs": [
        {
          "name": "stdout",
          "output_type": "stream",
          "text": "[1] \"x는 3의 배수도 아니고, 2의 배수도 아니다\"\n"
        }
      ],
      "execution_count": 8
    },
    {
      "id": "933f7644-2a07-4056-829b-8bab45644828",
      "cell_type": "markdown",
      "source": "`(풀이)`",
      "metadata": {}
    },
    {
      "id": "983185b5-b427-445a-8ff3-c8e4e6ae3649",
      "cell_type": "code",
      "source": "check<- function(x){\n    if(x%%6==0){\n        print(\"x는 2의 배수\")\n        print(\"x는 3의 배수\")\n    }else if(x%%2==0){\n        print(\"x는 2의 배수\")\n    }else if(x%%3==0){\n        print(\"x는 3의 배수\")\n    }else{\n        print(\"x는 3의 배수도 아니고, 2의 배수도 아니다\")\n    }\n}",
      "metadata": {
        "trusted": true
      },
      "outputs": [],
      "execution_count": 10
    },
    {
      "id": "b3c972ca-86c2-47ad-bda9-6a463d1d1f71",
      "cell_type": "code",
      "source": "check(3)",
      "metadata": {
        "vscode": {
          "languageId": "r"
        },
        "trusted": true
      },
      "outputs": [
        {
          "name": "stdout",
          "output_type": "stream",
          "text": "[1] \"x는 3의 배수\"\n"
        }
      ],
      "execution_count": 11
    },
    {
      "id": "fd76a2a5-f39c-4a10-bdc8-6bd46c207065",
      "cell_type": "code",
      "source": "check(4)",
      "metadata": {
        "vscode": {
          "languageId": "r"
        },
        "trusted": true
      },
      "outputs": [
        {
          "name": "stdout",
          "output_type": "stream",
          "text": "[1] \"x는 2의 배수\"\n"
        }
      ],
      "execution_count": 12
    },
    {
      "id": "84bb9257-335d-4c4a-a55d-7319a246f3ed",
      "cell_type": "code",
      "source": "check(5)",
      "metadata": {
        "vscode": {
          "languageId": "r"
        },
        "trusted": true
      },
      "outputs": [
        {
          "name": "stdout",
          "output_type": "stream",
          "text": "[1] \"x는 3의 배수도 아니고, 2의 배수도 아니다\"\n"
        }
      ],
      "execution_count": 13
    },
    {
      "id": "27c0efd8-c45f-4d9c-b394-865e9b45e878",
      "cell_type": "code",
      "source": "check(6) # 이제 잘나옴",
      "metadata": {
        "vscode": {
          "languageId": "r"
        },
        "trusted": true
      },
      "outputs": [
        {
          "name": "stdout",
          "output_type": "stream",
          "text": "[1] \"x는 2의 배수\"\n[1] \"x는 3의 배수\"\n"
        }
      ],
      "execution_count": 16
    },
    {
      "id": "207f77bb-c688-48e0-a0f3-4501af289b92",
      "cell_type": "code",
      "source": "check(7)",
      "metadata": {
        "vscode": {
          "languageId": "r"
        },
        "trusted": true
      },
      "outputs": [
        {
          "name": "stdout",
          "output_type": "stream",
          "text": "[1] \"x는 3의 배수도 아니고, 2의 배수도 아니다\"\n"
        }
      ],
      "execution_count": 17
    }
  ]
}