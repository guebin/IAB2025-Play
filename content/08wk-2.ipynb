{
 "cells": [
  {
   "cell_type": "raw",
   "id": "c9212092-0f91-4d84-8ec5-72ee6552f88e",
   "metadata": {
    "vscode": {
     "languageId": "raw"
    }
   },
   "source": [
    "---\n",
    "title: \"08wk-1: [Python] -- R문법 복습? \"\n",
    "author: \"최규빈\"\n",
    "date: \"04/24/2025\"\n",
    "draft: false\n",
    "---"
   ]
  },
  {
   "cell_type": "code",
   "execution_count": 6,
   "id": "a4270ae5-5995-42c8-b022-0d2258b649f4",
   "metadata": {},
   "outputs": [],
   "source": [
    "import numpy as np"
   ]
  },
  {
   "cell_type": "markdown",
   "id": "a86220d6-3911-4aa4-a335-258b1c582a5d",
   "metadata": {},
   "source": [
    "## 1. 수능문제 "
   ]
  },
  {
   "cell_type": "markdown",
   "id": "d3494305-517a-4a61-9aaa-d506f4ad3175",
   "metadata": {},
   "source": [
    "**`2024수능-19`.** 함수 $f(x) = \\sin \\frac{\\pi}{4} x$ 할 때, $0 < x < 16$에서 부등식  \n",
    "\n",
    "$$\n",
    "f(2+x) f(2-x) < \\frac{1}{4}\n",
    "$$\n",
    "\n",
    "을 만족시키는 모든 자연수 $x$의 값의 합을 구하시오. **[3점]**"
   ]
  },
  {
   "cell_type": "markdown",
   "id": "6d493a76-89bc-4033-81ce-d6d603e568d8",
   "metadata": {},
   "source": [
    "(풀이)"
   ]
  },
  {
   "cell_type": "code",
   "execution_count": 19,
   "id": "36b295b3-9c76-415f-9a72-6d20de8fde7d",
   "metadata": {
    "vscode": {
     "languageId": "r"
    }
   },
   "outputs": [],
   "source": [
    "f = function(x){\n",
    "   sin(pi/4 *x) \n",
    "}"
   ]
  },
  {
   "cell_type": "code",
   "execution_count": 34,
   "id": "32a7f7c5-5111-4160-abbe-eda6f98f2757",
   "metadata": {
    "vscode": {
     "languageId": "r"
    }
   },
   "outputs": [
    {
     "data": {
      "text/plain": [
       " [1]  1  2  3  4  5  6  7  8  9 10 11 12 13 14 15"
      ]
     },
     "execution_count": 34,
     "metadata": {},
     "output_type": "execute_result"
    }
   ],
   "source": [
    "x = 1:15\n",
    "x"
   ]
  },
  {
   "cell_type": "code",
   "execution_count": 35,
   "id": "c7e58d61-b1bc-48f7-a232-f2e207d6bc3f",
   "metadata": {
    "vscode": {
     "languageId": "r"
    }
   },
   "outputs": [
    {
     "data": {
      "text/plain": [
       " [1] FALSE  TRUE FALSE FALSE FALSE  TRUE FALSE FALSE FALSE  TRUE FALSE FALSE\n",
       "[13] FALSE  TRUE FALSE"
      ]
     },
     "execution_count": 35,
     "metadata": {},
     "output_type": "execute_result"
    }
   ],
   "source": [
    "f(2+x) * f(2-x) < 1/4"
   ]
  },
  {
   "cell_type": "code",
   "execution_count": 48,
   "id": "f1bde811-f146-4338-b13a-eb2301a46943",
   "metadata": {
    "vscode": {
     "languageId": "r"
    }
   },
   "outputs": [
    {
     "data": {
      "text/plain": [
       "[1]  2  6 10 14"
      ]
     },
     "execution_count": 48,
     "metadata": {},
     "output_type": "execute_result"
    }
   ],
   "source": [
    "x[f(2+x) * f(2-x) < 1/4]"
   ]
  },
  {
   "cell_type": "code",
   "execution_count": 49,
   "id": "f5d99ebf-1c3c-4e6b-82cc-c0a174db8d77",
   "metadata": {
    "vscode": {
     "languageId": "r"
    }
   },
   "outputs": [
    {
     "data": {
      "text/plain": [
       "[1] 32"
      ]
     },
     "execution_count": 49,
     "metadata": {},
     "output_type": "execute_result"
    }
   ],
   "source": [
    "sum(x[f(2+x) * f(2-x) < 1/4])"
   ]
  },
  {
   "cell_type": "markdown",
   "id": "52e618af-52e4-4566-bc91-64f0c659c04d",
   "metadata": {},
   "source": [
    "**`2025수능-6`.** $\\cos \\left(\\frac{\\pi}{2} + \\theta \\right) = -\\frac{1}{5}$\n",
    "일 때, $\\frac{\\sin\\theta}{1 - \\cos^2\\theta}$\n",
    "의 값은? **[3점]**\n",
    "\n",
    "1. $-5$  \n",
    "2. $-\\sqrt{5}$  \n",
    "3. $0$\n",
    "4. $\\sqrt{5}$\n",
    "5. $5$"
   ]
  },
  {
   "cell_type": "markdown",
   "id": "412f4937-102d-4621-99e8-be2fadde2ec2",
   "metadata": {},
   "source": [
    "`(풀이)`"
   ]
  },
  {
   "cell_type": "code",
   "execution_count": 45,
   "id": "04fc519a-890a-491e-a4fa-ae24e8f47714",
   "metadata": {},
   "outputs": [],
   "source": [
    "theta = 2.94"
   ]
  },
  {
   "cell_type": "code",
   "execution_count": 46,
   "id": "d31559bd-c960-4784-8c34-d76999a79e60",
   "metadata": {},
   "outputs": [
    {
     "data": {
      "text/plain": [
       "[1] -0.20023"
      ]
     },
     "execution_count": 46,
     "metadata": {},
     "output_type": "execute_result"
    }
   ],
   "source": [
    "cos(pi/2+theta) # 이 값이 -0.2 정도가 되어야 할텐데?"
   ]
  },
  {
   "cell_type": "markdown",
   "id": "be3822c8-121a-4c2c-ba08-09fa226ab37c",
   "metadata": {},
   "source": [
    "반복계산을 하다보니까 $\\theta \\approx 2.94$ 인듯 "
   ]
  },
  {
   "cell_type": "code",
   "execution_count": 58,
   "id": "e41878fc-672f-46f7-a14d-2dbd0fdc02a0",
   "metadata": {},
   "outputs": [
    {
     "data": {
      "text/plain": [
       "[1] 4.994257"
      ]
     },
     "execution_count": 58,
     "metadata": {},
     "output_type": "execute_result"
    }
   ],
   "source": [
    "sin(theta)/(1-cos(theta)^2)"
   ]
  },
  {
   "cell_type": "markdown",
   "id": "a2bd4c6d-8f6a-4bc4-a517-353ea7faec58",
   "metadata": {},
   "source": [
    "## 2. 벡터인덱싱 "
   ]
  },
  {
   "cell_type": "markdown",
   "id": "e2442cb5-7e1c-4c2a-9121-f263b80888ee",
   "metadata": {},
   "source": [
    "`# 예제1` -- 양수의 원소를 뽑는다. "
   ]
  },
  {
   "cell_type": "code",
   "execution_count": 137,
   "id": "d95446b8-7771-4b5d-9f9e-f2cadce2a18f",
   "metadata": {
    "vscode": {
     "languageId": "r"
    }
   },
   "outputs": [
    {
     "data": {
      "text/plain": [
       "[1]  1  2 -2  4  5 -5  6"
      ]
     },
     "execution_count": 137,
     "metadata": {},
     "output_type": "execute_result"
    }
   ],
   "source": [
    "x<-c(1,2,-2,4,5,-5,6)\n",
    "x"
   ]
  },
  {
   "cell_type": "code",
   "execution_count": 141,
   "id": "ec5f1ef4-e149-430a-b5d1-09382f953e80",
   "metadata": {
    "vscode": {
     "languageId": "r"
    }
   },
   "outputs": [
    {
     "data": {
      "text/plain": [
       "[1]  TRUE  TRUE FALSE  TRUE  TRUE FALSE  TRUE"
      ]
     },
     "execution_count": 141,
     "metadata": {},
     "output_type": "execute_result"
    }
   ],
   "source": [
    "x>0"
   ]
  },
  {
   "cell_type": "code",
   "execution_count": 142,
   "id": "b6b5e174-1357-4a51-a26c-d4b604f9d716",
   "metadata": {
    "vscode": {
     "languageId": "r"
    }
   },
   "outputs": [
    {
     "data": {
      "text/plain": [
       "[1] 1 2 4 5 6"
      ]
     },
     "execution_count": 142,
     "metadata": {},
     "output_type": "execute_result"
    }
   ],
   "source": [
    "x[x>0]"
   ]
  },
  {
   "cell_type": "markdown",
   "id": "ea345077-0d4d-4765-b864-367d6f213b7e",
   "metadata": {},
   "source": [
    "`#`"
   ]
  },
  {
   "cell_type": "markdown",
   "id": "23b46737-11f3-4a7c-9d9a-6418045f6b7a",
   "metadata": {},
   "source": [
    "`# 예제2` -- 3보다 큰 원소를 뽑는 방법"
   ]
  },
  {
   "cell_type": "code",
   "execution_count": 143,
   "id": "9522b95a-dd27-4dfe-a11b-292866dfca9f",
   "metadata": {
    "vscode": {
     "languageId": "r"
    }
   },
   "outputs": [
    {
     "data": {
      "text/plain": [
       "[1]  1  2 -2  4  5 -5  6"
      ]
     },
     "execution_count": 143,
     "metadata": {},
     "output_type": "execute_result"
    }
   ],
   "source": [
    "x<-c(1,2,-2,4,5,-5,6)\n",
    "x"
   ]
  },
  {
   "cell_type": "code",
   "execution_count": 149,
   "id": "961a9c8b-1be8-45cf-b266-77f260f858ca",
   "metadata": {
    "vscode": {
     "languageId": "r"
    }
   },
   "outputs": [
    {
     "data": {
      "text/plain": [
       "[1] 4 5 6"
      ]
     },
     "execution_count": 149,
     "metadata": {},
     "output_type": "execute_result"
    }
   ],
   "source": [
    "x[x>3]"
   ]
  },
  {
   "cell_type": "markdown",
   "id": "f73c483a-f70d-4785-9a93-c7e8f4b0d157",
   "metadata": {},
   "source": [
    "`#`"
   ]
  },
  {
   "cell_type": "markdown",
   "id": "f2fa992a-8f53-4a86-b33a-1ad9f8db4e59",
   "metadata": {},
   "source": [
    "`# 예제3` -- 3번째 원소를 뽑는방법"
   ]
  },
  {
   "cell_type": "code",
   "execution_count": 150,
   "id": "d937f5c3-4532-4567-a900-fb7a8f30899d",
   "metadata": {
    "vscode": {
     "languageId": "r"
    }
   },
   "outputs": [
    {
     "data": {
      "text/plain": [
       "[1]  1  2 -2  4  5 -5  6"
      ]
     },
     "execution_count": 150,
     "metadata": {},
     "output_type": "execute_result"
    }
   ],
   "source": [
    "x<-c(1,2,-2,4,5,-5,6)\n",
    "x"
   ]
  },
  {
   "cell_type": "code",
   "execution_count": 152,
   "id": "a01d311b-1fa6-453f-ad80-88e8bd4c779e",
   "metadata": {
    "vscode": {
     "languageId": "r"
    }
   },
   "outputs": [
    {
     "data": {
      "text/plain": [
       "[1] FALSE FALSE  TRUE FALSE FALSE FALSE FALSE"
      ]
     },
     "execution_count": 152,
     "metadata": {},
     "output_type": "execute_result"
    }
   ],
   "source": [
    "arr = c(FALSE, FALSE, TRUE, FALSE, FALSE, FALSE, FALSE)\n",
    "arr"
   ]
  },
  {
   "cell_type": "code",
   "execution_count": 153,
   "id": "24800170-e8fb-49c0-a22a-5b55e051de60",
   "metadata": {
    "vscode": {
     "languageId": "r"
    }
   },
   "outputs": [
    {
     "data": {
      "text/plain": [
       "[1] -2"
      ]
     },
     "execution_count": 153,
     "metadata": {},
     "output_type": "execute_result"
    }
   ],
   "source": [
    "x[arr]"
   ]
  },
  {
   "cell_type": "markdown",
   "id": "ed199bb7-9925-4d7a-9b67-5538de7cb455",
   "metadata": {},
   "source": [
    "`#`"
   ]
  },
  {
   "cell_type": "markdown",
   "id": "41bb7cb6-2c7f-4e8f-a6de-c123c669e1d3",
   "metadata": {},
   "source": [
    "`# 예제4` -- 값이 -2인 원소를 뽑아라. "
   ]
  },
  {
   "cell_type": "code",
   "execution_count": 154,
   "id": "2538edb7-dbf0-48ca-a721-13ec654dd16f",
   "metadata": {
    "vscode": {
     "languageId": "r"
    }
   },
   "outputs": [
    {
     "data": {
      "text/plain": [
       "[1]  1  2 -2  4  5 -5  6"
      ]
     },
     "execution_count": 154,
     "metadata": {},
     "output_type": "execute_result"
    }
   ],
   "source": [
    "x<-c(1,2,-2,4,5,-5,6)\n",
    "x"
   ]
  },
  {
   "cell_type": "code",
   "execution_count": 157,
   "id": "39477fbb-7e26-4433-a990-bb3a7190d27a",
   "metadata": {
    "vscode": {
     "languageId": "r"
    }
   },
   "outputs": [
    {
     "data": {
      "text/plain": [
       "[1] -2"
      ]
     },
     "execution_count": 157,
     "metadata": {},
     "output_type": "execute_result"
    }
   ],
   "source": [
    "x[x == -2]"
   ]
  },
  {
   "cell_type": "markdown",
   "id": "b656344e-b0d6-4a75-adda-d1f03f375246",
   "metadata": {},
   "source": [
    "`#` "
   ]
  },
  {
   "cell_type": "markdown",
   "id": "c1d9ab38-058c-4f7c-b98a-0ae6c8cb33ab",
   "metadata": {},
   "source": [
    "`# 예제5` -- 값이 -1.5와 가장 가까운 원소를 뽑아라. "
   ]
  },
  {
   "cell_type": "code",
   "execution_count": 162,
   "id": "4fec999b-37e1-4adb-9fad-ef84d0bcbfbd",
   "metadata": {
    "vscode": {
     "languageId": "r"
    }
   },
   "outputs": [
    {
     "data": {
      "text/plain": [
       "[1]  2.5  3.5 -0.5  5.5  6.5 -3.5  7.5"
      ]
     },
     "execution_count": 162,
     "metadata": {},
     "output_type": "execute_result"
    }
   ],
   "source": [
    "x - (-1.5)"
   ]
  },
  {
   "cell_type": "code",
   "execution_count": 163,
   "id": "07db1d26-4453-4504-8d53-3bc60f691348",
   "metadata": {
    "vscode": {
     "languageId": "r"
    }
   },
   "outputs": [
    {
     "data": {
      "text/plain": [
       "[1] 2.5 3.5 0.5 5.5 6.5 3.5 7.5"
      ]
     },
     "execution_count": 163,
     "metadata": {},
     "output_type": "execute_result"
    }
   ],
   "source": [
    "abs(x - (-1.5))"
   ]
  },
  {
   "cell_type": "code",
   "execution_count": 164,
   "id": "dfaaadda-762c-42b5-866e-4aa2b64e10ed",
   "metadata": {
    "vscode": {
     "languageId": "r"
    }
   },
   "outputs": [
    {
     "data": {
      "text/plain": [
       "[1] 0.5"
      ]
     },
     "execution_count": 164,
     "metadata": {},
     "output_type": "execute_result"
    }
   ],
   "source": [
    "min(abs(x - (-1.5)))"
   ]
  },
  {
   "cell_type": "code",
   "execution_count": 167,
   "id": "31aad268-015d-4aa5-8d68-946a1199e9bd",
   "metadata": {
    "vscode": {
     "languageId": "r"
    }
   },
   "outputs": [
    {
     "data": {
      "text/plain": [
       "[1] FALSE FALSE  TRUE FALSE FALSE FALSE FALSE"
      ]
     },
     "execution_count": 167,
     "metadata": {},
     "output_type": "execute_result"
    }
   ],
   "source": [
    "abs(x - (-1.5)) == min(abs(x - (-1.5)))"
   ]
  },
  {
   "cell_type": "code",
   "execution_count": 169,
   "id": "8c4ee1c9-d1c7-4514-aeda-2362fae4a004",
   "metadata": {
    "vscode": {
     "languageId": "r"
    }
   },
   "outputs": [
    {
     "data": {
      "text/plain": [
       "[1] -2"
      ]
     },
     "execution_count": 169,
     "metadata": {},
     "output_type": "execute_result"
    }
   ],
   "source": [
    "x[abs(x - (-1.5)) == min(abs(x - (-1.5)))]"
   ]
  },
  {
   "cell_type": "markdown",
   "id": "ff22d1cb-87ba-407f-b763-a52c28009fce",
   "metadata": {},
   "source": [
    "`#` "
   ]
  },
  {
   "cell_type": "markdown",
   "id": "9d67bcb1-02bf-443f-9cf2-f94c49f595f0",
   "metadata": {},
   "source": [
    "`# 예제6` -- 값이 0.5와 가장 가까운 원소를 뽑아라."
   ]
  },
  {
   "cell_type": "code",
   "execution_count": 180,
   "id": "3db67464-8b2f-4480-9fdc-d7ab7ded2ba0",
   "metadata": {
    "vscode": {
     "languageId": "r"
    }
   },
   "outputs": [
    {
     "data": {
      "text/plain": [
       "  [1] -0.311304729  0.196110860 -0.191987399  0.632793486  0.407982410\n",
       "  [6]  0.864718044 -0.352966617 -1.406632984  0.930323376 -0.211177345\n",
       " [11]  0.174489842 -1.038388188 -1.130694552  0.162414718  0.857153460\n",
       " [16]  0.405123384  0.026784113 -1.026959835 -0.462168583 -0.375374318\n",
       " [21]  1.591985359 -0.064623494  0.478029165 -0.045583822  2.478326033\n",
       " [26]  0.331902286  0.499881633  0.119367202  0.007451714  0.725801470\n",
       " [31]  0.656933182  0.073287602 -1.415772205 -0.477024858  1.221302265\n",
       " [36] -0.398021993  0.546331883 -0.324018146  0.330657882 -0.360152774\n",
       " [41]  1.331364124 -0.672527606 -0.437897514  1.105811374 -0.232983468\n",
       " [46]  0.793021899 -0.618798438 -0.654156632  1.826482099 -0.409432487\n",
       " [51]  1.081860665  0.657260779  0.338851369  0.051188750  0.133293222\n",
       " [56] -2.143363730 -0.932413327  1.259017917  0.560828441  0.549731458\n",
       " [61]  0.374222028  1.212201517 -0.766937380  0.738233964 -0.213323397\n",
       " [66]  0.449868009  0.834543548  1.008085221 -1.548439118 -0.162223345\n",
       " [71] -0.294176392 -2.081089322  0.744885524  0.859101047  0.325550519\n",
       " [76] -0.504631524 -0.053201153 -2.081642005  0.063341785 -0.032805806\n",
       " [81]  0.890016964 -2.011684049  0.615605307  0.611636798 -1.394488649\n",
       " [86] -0.665951804 -0.638994227  1.245491526  1.603119132 -1.859557340\n",
       " [91] -1.349329167 -0.168900117  1.378241904 -0.663119091  0.016505925\n",
       " [96] -0.808047477 -0.008849918 -1.174490950 -0.385805036  0.008856681"
      ]
     },
     "execution_count": 180,
     "metadata": {},
     "output_type": "execute_result"
    }
   ],
   "source": [
    "x = rnorm(100)\n",
    "x"
   ]
  },
  {
   "cell_type": "code",
   "execution_count": 185,
   "id": "2736d6b4-bc2f-442e-8364-c790a5f0fef2",
   "metadata": {
    "vscode": {
     "languageId": "r"
    }
   },
   "outputs": [
    {
     "data": {
      "text/plain": [
       "[1] 0.4998816"
      ]
     },
     "execution_count": 185,
     "metadata": {},
     "output_type": "execute_result"
    }
   ],
   "source": [
    "x[abs(x - 0.5) == min(abs(x - 0.5))]"
   ]
  },
  {
   "cell_type": "markdown",
   "id": "2ddd2f4a-85ae-4f4f-ba7a-70ae1cce773b",
   "metadata": {},
   "source": [
    "`#`"
   ]
  },
  {
   "cell_type": "markdown",
   "id": "d8f2af64-ea25-410e-854d-aaf3811d1821",
   "metadata": {},
   "source": [
    "## 3. 연산 "
   ]
  },
  {
   "cell_type": "markdown",
   "id": "360d29b8-5d5c-4e51-bbf5-33b2f3a76862",
   "metadata": {},
   "source": [
    "`# 예제` -- 아래의 벡터를 고려하자. "
   ]
  },
  {
   "cell_type": "code",
   "execution_count": 13,
   "id": "e2807db3-d88c-477b-9c18-13d1fdb1be2e",
   "metadata": {},
   "outputs": [],
   "source": [
    "set.seed(43052)\n",
    "x = rnorm(100)"
   ]
  },
  {
   "cell_type": "markdown",
   "id": "f46c2dd3-3d62-44f1-8e17-7c9f750ff8f0",
   "metadata": {},
   "source": [
    "`(1)` `x`의 원소중 그 값이 양수인 것은 모두 몇개인가? "
   ]
  },
  {
   "cell_type": "code",
   "execution_count": 14,
   "id": "857d8b37-da3c-4d67-83cb-7a78e43acbaa",
   "metadata": {},
   "outputs": [
    {
     "data": {
      "text/plain": [
       "[1] 59"
      ]
     },
     "execution_count": 14,
     "metadata": {},
     "output_type": "execute_result"
    }
   ],
   "source": [
    "sum(x>0)"
   ]
  },
  {
   "cell_type": "markdown",
   "id": "da97d5b2-492c-42b0-8e75-d7131e713665",
   "metadata": {},
   "source": [
    "`(2)` `x`의 평균을 구하여라. "
   ]
  },
  {
   "cell_type": "code",
   "execution_count": 18,
   "id": "486a2e04-dfc9-42c1-9d3d-7d5dd1cd1567",
   "metadata": {},
   "outputs": [
    {
     "data": {
      "text/plain": [
       "[1] 0.1044026"
      ]
     },
     "execution_count": 18,
     "metadata": {},
     "output_type": "execute_result"
    }
   ],
   "source": [
    "mean(x)"
   ]
  },
  {
   "cell_type": "markdown",
   "id": "2dbcdd65-c192-47fe-8c5e-9e47fa7ffe06",
   "metadata": {},
   "source": [
    "`(3)` `x`의 원소중 평균과 가장 가까운 값을 구하여라. "
   ]
  },
  {
   "cell_type": "code",
   "execution_count": 60,
   "id": "64b7fc52-b451-4164-b3ae-beccc3c15bb9",
   "metadata": {},
   "outputs": [],
   "source": [
    "idx = which.min(dist)\n",
    "# idx 는 dist의 최소값이 존재하는 위치(index)가 저장되어 있음"
   ]
  },
  {
   "cell_type": "code",
   "execution_count": 61,
   "id": "935ed727-438a-4d3a-90ef-c0b831dfe149",
   "metadata": {},
   "outputs": [
    {
     "data": {
      "text/plain": [
       "[1] 0.102093"
      ]
     },
     "execution_count": 61,
     "metadata": {},
     "output_type": "execute_result"
    }
   ],
   "source": [
    "x[idx]"
   ]
  },
  {
   "cell_type": "markdown",
   "id": "69e94e58-51c4-476f-a4c8-1cedc5e01457",
   "metadata": {},
   "source": [
    "`# 예제` -- 아래의 벡터를 고려하자. "
   ]
  },
  {
   "cell_type": "code",
   "execution_count": 96,
   "id": "5246ec18-e100-44c5-aba5-94a296b54683",
   "metadata": {},
   "outputs": [
    {
     "data": {
      "text/plain": [
       " [1]  8 55 56 41 88 39 59 65 51 87 49 14 98 78  4 11 64  9 16 33 60 22 53 76 45\n",
       "[26] 63 13 95 80 81 21 38 12 28  3 73 93 97 96 90  7 84 10 32 18 79 57 89 68 31"
      ]
     },
     "execution_count": 96,
     "metadata": {},
     "output_type": "execute_result"
    }
   ],
   "source": [
    "set.seed(43052)\n",
    "x = sample(1:100,50)\n",
    "x"
   ]
  },
  {
   "cell_type": "markdown",
   "id": "88a068f7-efed-4654-abb2-3cbc65193fed",
   "metadata": {},
   "source": [
    "`(1)` `x`의 원소중 짝수는 몇개 있는가? "
   ]
  },
  {
   "cell_type": "code",
   "execution_count": 97,
   "id": "24343a41-71a2-4736-959c-a18100fa1649",
   "metadata": {},
   "outputs": [
    {
     "data": {
      "text/plain": [
       "[1] 23"
      ]
     },
     "execution_count": 97,
     "metadata": {},
     "output_type": "execute_result"
    }
   ],
   "source": [
    "50 - sum(x %% 2)"
   ]
  },
  {
   "cell_type": "code",
   "execution_count": 98,
   "id": "a485cadd-6c41-4554-b632-77333a4c59f2",
   "metadata": {},
   "outputs": [
    {
     "data": {
      "text/plain": [
       "[1] 23"
      ]
     },
     "execution_count": 98,
     "metadata": {},
     "output_type": "execute_result"
    }
   ],
   "source": [
    "sum((x %% 2) == 0)"
   ]
  },
  {
   "cell_type": "markdown",
   "id": "6d48b232-a8e7-4da7-9f58-1ff640009764",
   "metadata": {},
   "source": [
    "`(2)` `x`의 원소중 가장 작은 홀수는 무엇인가? "
   ]
  },
  {
   "cell_type": "code",
   "execution_count": 103,
   "id": "5e38cca7-001b-4f86-8b44-a343b89cd925",
   "metadata": {},
   "outputs": [
    {
     "data": {
      "text/plain": [
       "[1] 3"
      ]
     },
     "execution_count": 103,
     "metadata": {},
     "output_type": "execute_result"
    }
   ],
   "source": [
    "min(x[(x %% 2) == 1])"
   ]
  },
  {
   "cell_type": "markdown",
   "id": "822b1bf0-7da5-4dc8-9114-00781f593cf8",
   "metadata": {},
   "source": [
    "`2010(나)6월평가원-4`. 실수 $a$ 가  \n",
    "$$\n",
    "\\frac{2^a + 2^{-a}}{2^a - 2^{-a}} = -2\n",
    "$$\n",
    "를 만족시킬 때, $4^a + 4^{-a}$ 의 값은?\n",
    "\n",
    "1. $ \\frac{5}{2} $  \n",
    "2. $ \\frac{10}{3} $  \n",
    "3. $ \\frac{17}{4} $  \n",
    "4. $ \\frac{26}{5} $  \n",
    "5. $ \\frac{37}{6} $"
   ]
  },
  {
   "cell_type": "markdown",
   "id": "59bc5973-8154-4e3a-9299-a698fa2f5442",
   "metadata": {},
   "source": [
    "(풀이)"
   ]
  },
  {
   "cell_type": "code",
   "execution_count": 122,
   "id": "5ae6d649-cdb8-4892-949d-0f2d0f1d9ca7",
   "metadata": {},
   "outputs": [
    {
     "data": {
      "image/png": "[encoded data removed]",
      "text/plain": [
       "<Figure of size 1008x756>"
      ]
     },
     "metadata": {
      "image/png": {
       "height": 567,
       "width": 756
      }
     },
     "output_type": "display_data"
    }
   ],
   "source": [
    "a = seq(from=-2, to =-0.1, 0.0001)\n",
    "f<- function(a){\n",
    "    up = 2^(a) + 2^(-a)\n",
    "    down = 2^(a) - 2^(-a) \n",
    "    up/down \n",
    "}\n",
    "plot(a,f(a))\n",
    "abline(h=-2,col=2)\n",
    "#( 2^(a) + 2^(-a) ) / (2^(a) - 2^(-a))"
   ]
  },
  {
   "cell_type": "code",
   "execution_count": 123,
   "id": "1dc7db59-b6b6-40d3-9f06-f2a8ca6015de",
   "metadata": {},
   "outputs": [
    {
     "data": {
      "text/plain": [
       "[1] -0.7925"
      ]
     },
     "execution_count": 123,
     "metadata": {},
     "output_type": "execute_result"
    }
   ],
   "source": [
    "a[which.min(abs(f(a)+2))]"
   ]
  },
  {
   "cell_type": "code",
   "execution_count": 125,
   "id": "bd22459f-052b-41b4-81b6-fa8c49d89ce4",
   "metadata": {},
   "outputs": [
    {
     "data": {
      "text/plain": [
       "[1] -1.999961"
      ]
     },
     "execution_count": 125,
     "metadata": {},
     "output_type": "execute_result"
    }
   ],
   "source": [
    "f(-0.7925)"
   ]
  },
  {
   "cell_type": "code",
   "execution_count": 128,
   "id": "aaae103d-cb57-4855-be5c-b914074d13e7",
   "metadata": {},
   "outputs": [
    {
     "data": {
      "text/plain": [
       "[1] 3.333403"
      ]
     },
     "execution_count": 128,
     "metadata": {},
     "output_type": "execute_result"
    }
   ],
   "source": [
    "4^(-0.7925) + 4^(0.7925)"
   ]
  },
  {
   "cell_type": "code",
   "execution_count": 129,
   "id": "b561c703-1cbd-4fc1-beba-88076981dcb3",
   "metadata": {},
   "outputs": [
    {
     "data": {
      "text/plain": [
       "[1] 2.500000 3.333333 4.250000 5.200000 6.166667"
      ]
     },
     "execution_count": 129,
     "metadata": {},
     "output_type": "execute_result"
    }
   ],
   "source": [
    "c(5/2,10/3,17/4, 26/5, 37/6)"
   ]
  },
  {
   "cell_type": "markdown",
   "id": "b61c0c50-173a-4c34-af45-2f76dc563fbf",
   "metadata": {},
   "source": [
    "`2024수능-16`. 방정식 $3^{x-8} = \\left(\\frac{1}{27}\\right)^x$ 을 만족시키는 실수 $x$의 값을 구하시오. **[3점]**"
   ]
  },
  {
   "cell_type": "markdown",
   "id": "2b407332-73c7-4e24-a236-1dcacce34cd1",
   "metadata": {},
   "source": [
    "`(풀이)`"
   ]
  },
  {
   "cell_type": "code",
   "execution_count": 133,
   "id": "21897ff9-f20d-431e-8469-71f965125e7c",
   "metadata": {},
   "outputs": [
    {
     "data": {
      "text/plain": [
       "[1] 2"
      ]
     },
     "execution_count": 133,
     "metadata": {},
     "output_type": "execute_result"
    }
   ],
   "source": [
    "x = seq(from = -5, to=5, by =0.1)\n",
    "l = 3^(x-8) - (1/27)^x\n",
    "x[which.min(abs(l))]"
   ]
  },
  {
   "cell_type": "code",
   "execution_count": 3,
   "id": "869636c1-736f-421e-acf3-6a11fe1760bd",
   "metadata": {},
   "outputs": [
    {
     "data": {
      "text/plain": [
       "array([-5. , -4.9, -4.8, -4.7, -4.6, -4.5, -4.4, -4.3, -4.2, -4.1, -4. ,\n",
       "       -3.9, -3.8, -3.7, -3.6, -3.5, -3.4, -3.3, -3.2, -3.1, -3. , -2.9,\n",
       "       -2.8, -2.7, -2.6, -2.5, -2.4, -2.3, -2.2, -2.1, -2. , -1.9, -1.8,\n",
       "       -1.7, -1.6, -1.5, -1.4, -1.3, -1.2, -1.1, -1. , -0.9, -0.8, -0.7,\n",
       "       -0.6, -0.5, -0.4, -0.3, -0.2, -0.1,  0. ,  0.1,  0.2,  0.3,  0.4,\n",
       "        0.5,  0.6,  0.7,  0.8,  0.9,  1. ,  1.1,  1.2,  1.3,  1.4,  1.5,\n",
       "        1.6,  1.7,  1.8,  1.9,  2. ,  2.1,  2.2,  2.3,  2.4,  2.5,  2.6,\n",
       "        2.7,  2.8,  2.9,  3. ,  3.1,  3.2,  3.3,  3.4,  3.5,  3.6,  3.7,\n",
       "        3.8,  3.9,  4. ,  4.1,  4.2,  4.3,  4.4,  4.5,  4.6,  4.7,  4.8,\n",
       "        4.9,  5. ])"
      ]
     },
     "execution_count": 3,
     "metadata": {},
     "output_type": "execute_result"
    }
   ],
   "source": [
    "x = np.linspace(-5,5,101)\n",
    "x"
   ]
  },
  {
   "cell_type": "markdown",
   "id": "918e6231-5420-4b4f-b77c-5b06a874ff40",
   "metadata": {},
   "source": [
    "## 4. 반복문 "
   ]
  },
  {
   "cell_type": "markdown",
   "id": "325d0921-86ae-42f6-8f2c-24df58e68db7",
   "metadata": {},
   "source": [
    "`2021(가)9월평가원-10`. 수열 $\\{a_n\\}$은 $a_1 = 12$이고, 모든 자연수 $n$에 대하여  \n",
    "$$\n",
    "a_{n+1} + a_n = (-1)^{n+1} \\times n\n",
    "$$\n",
    "을 만족시킨다. $a_k > a_1$인 자연수 $k$의 최소값은?\n",
    "\n",
    "1. 2  \n",
    "2. 4  \n",
    "3. 6  \n",
    "4. 8 \n",
    "5. 10"
   ]
  },
  {
   "cell_type": "markdown",
   "id": "40869342-240b-492b-b868-f72285db2108",
   "metadata": {},
   "source": [
    "`(풀이)`"
   ]
  },
  {
   "cell_type": "code",
   "execution_count": 138,
   "id": "76ce34ef-19af-45ff-a187-3dd38a048a02",
   "metadata": {},
   "outputs": [
    {
     "data": {
      "text/plain": [
       "NULL"
      ]
     },
     "execution_count": 138,
     "metadata": {},
     "output_type": "execute_result"
    }
   ],
   "source": [
    "a = c()\n",
    "a"
   ]
  },
  {
   "cell_type": "code",
   "execution_count": 143,
   "id": "297fbfd9-ad22-461f-bfcf-cd1f129217cd",
   "metadata": {},
   "outputs": [
    {
     "data": {
      "text/plain": [
       " [1]   8  10  12  14  16  18  20  22  24  26  28  30  32  34  36  38  40  42  44\n",
       "[20]  46  48  50  52  54  56  58  60  62  64  66  68  70  72  74  76  78  80  82\n",
       "[39]  84  86  88  90  92  94  96  98 100"
      ]
     },
     "execution_count": 143,
     "metadata": {},
     "output_type": "execute_result"
    }
   ],
   "source": [
    "a = c() \n",
    "a[1] = 12\n",
    "for(n in 1:100){\n",
    "    a[n+1] = - a[n] + (-1)^(n+1) * n \n",
    "}\n",
    "(1:100)[a>a[1]]"
   ]
  },
  {
   "cell_type": "markdown",
   "id": "6d52f6c2-33c6-4218-979c-5eb5fe8236f1",
   "metadata": {},
   "source": [
    "답은 8"
   ]
  },
  {
   "cell_type": "markdown",
   "id": "6fa9d2b0-487d-401a-b946-4ca072b185b2",
   "metadata": {},
   "source": [
    "`2007(나)6월평가원-14`. 다음은 어느 회사의 연봉에 대한 규정이다.  \n",
    "\n",
    "(가) 입사 첫째 해 연봉은 $a$원이고, 입사 19년째 해까지의 연봉은 해마다 직전 연봉에서 8%씩 인상된다.  \n",
    "\n",
    "(나) 입사 20년째 해부터의 연봉은 입사 19년째 해 연봉의 $2/3$로 한다.  \n",
    "\n",
    "이 회사에 입사한 사람이 28년 동안 근무하여 받는 연봉의 총합은? (단, $1.08^{18} = 4$로 계산한다.)  \n",
    "\n",
    "1. $\\frac{101}{2} a$  \n",
    "2. $\\frac{111}{2} a$  \n",
    "3. $\\frac{121}{2} a$  \n",
    "4. $\\frac{131}{2} a$ \n",
    "5. $\\frac{141}{2} a$  "
   ]
  },
  {
   "cell_type": "markdown",
   "id": "9a3fe099-598c-4fac-90cd-53f2b1384dce",
   "metadata": {},
   "source": [
    "`(풀이)`"
   ]
  },
  {
   "cell_type": "code",
   "execution_count": 151,
   "id": "26852ba0-0626-461f-83df-3ddaffeeb08d",
   "metadata": {},
   "outputs": [
    {
     "data": {
      "text/plain": [
       "[1] 65.42238"
      ]
     },
     "execution_count": 151,
     "metadata": {},
     "output_type": "execute_result"
    }
   ],
   "source": [
    "a = 1\n",
    "sal = c()\n",
    "sal[1] = a\n",
    "for(y in 2:19){\n",
    "    sal[y] <- sal[y-1] * 1.08 \n",
    "}\n",
    "for(y in 20:28){\n",
    "    sal[y] <- sal[19] * 2/3 \n",
    "}\n",
    "sum(sal)"
   ]
  }
 ],
 "metadata": {
  "kernelspec": {
   "display_name": "Python 3 (ipykernel)",
   "language": "python",
   "name": "python3"
  },
  "language_info": {
   "codemirror_mode": {
    "name": "ipython",
    "version": 3
   },
   "file_extension": ".py",
   "mimetype": "text/x-python",
   "name": "python",
   "nbconvert_exporter": "python",
   "pygments_lexer": "ipython3",
   "version": "3.13.2"
  }
 },
 "nbformat": 4,
 "nbformat_minor": 5
}
