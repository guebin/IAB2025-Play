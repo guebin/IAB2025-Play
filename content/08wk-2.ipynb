{
 "cells": [
  {
   "cell_type": "raw",
   "id": "c9212092-0f91-4d84-8ec5-72ee6552f88e",
   "metadata": {
    "vscode": {
     "languageId": "raw"
    }
   },
   "source": [
    "---\n",
    "title: \"08wk-2: [Python] -- R복습 / numpy (1)\"\n",
    "author: \"최규빈\"\n",
    "date: \"04/24/2025\"\n",
    "draft: false\n",
    "---"
   ]
  },
  {
   "cell_type": "code",
   "execution_count": 1,
   "id": "a4270ae5-5995-42c8-b022-0d2258b649f4",
   "metadata": {},
   "outputs": [],
   "source": [
    "import numpy as np"
   ]
  },
  {
   "cell_type": "markdown",
   "id": "a86220d6-3911-4aa4-a335-258b1c582a5d",
   "metadata": {},
   "source": [
    "## 1. 수능문제 "
   ]
  },
  {
   "cell_type": "markdown",
   "id": "d3494305-517a-4a61-9aaa-d506f4ad3175",
   "metadata": {},
   "source": [
    "**`2024수능-19`.** 함수 $f(x) = \\sin \\frac{\\pi}{4} x$ 할 때, $0 < x < 16$에서 부등식  \n",
    "\n",
    "$$\n",
    "f(2+x) f(2-x) < \\frac{1}{4}\n",
    "$$\n",
    "\n",
    "을 만족시키는 모든 자연수 $x$의 값의 합을 구하시오. **[3점]**"
   ]
  },
  {
   "cell_type": "markdown",
   "id": "6d493a76-89bc-4033-81ce-d6d603e568d8",
   "metadata": {},
   "source": [
    "(풀이) -- R"
   ]
  },
  {
   "cell_type": "code",
   "execution_count": 1,
   "id": "36b295b3-9c76-415f-9a72-6d20de8fde7d",
   "metadata": {
    "vscode": {
     "languageId": "r"
    }
   },
   "outputs": [],
   "source": [
    "f = function(x){\n",
    "   sin(pi/4 *x) \n",
    "}"
   ]
  },
  {
   "cell_type": "code",
   "execution_count": 2,
   "id": "32a7f7c5-5111-4160-abbe-eda6f98f2757",
   "metadata": {
    "vscode": {
     "languageId": "r"
    }
   },
   "outputs": [
    {
     "data": {
      "text/plain": [
       " [1]  1  2  3  4  5  6  7  8  9 10 11 12 13 14 15"
      ]
     },
     "execution_count": 2,
     "metadata": {},
     "output_type": "execute_result"
    }
   ],
   "source": [
    "x = 1:15\n",
    "x"
   ]
  },
  {
   "cell_type": "code",
   "execution_count": 4,
   "id": "c7e58d61-b1bc-48f7-a232-f2e207d6bc3f",
   "metadata": {
    "vscode": {
     "languageId": "r"
    }
   },
   "outputs": [
    {
     "data": {
      "text/plain": [
       " [1] FALSE  TRUE FALSE FALSE FALSE  TRUE FALSE FALSE FALSE  TRUE FALSE FALSE\n",
       "[13] FALSE  TRUE FALSE"
      ]
     },
     "execution_count": 4,
     "metadata": {},
     "output_type": "execute_result"
    }
   ],
   "source": [
    "f(2+x) * f(2-x) < 1/4"
   ]
  },
  {
   "cell_type": "code",
   "execution_count": 48,
   "id": "f1bde811-f146-4338-b13a-eb2301a46943",
   "metadata": {
    "vscode": {
     "languageId": "r"
    }
   },
   "outputs": [
    {
     "data": {
      "text/plain": [
       "[1]  2  6 10 14"
      ]
     },
     "execution_count": 48,
     "metadata": {},
     "output_type": "execute_result"
    }
   ],
   "source": [
    "x[f(2+x) * f(2-x) < 1/4]"
   ]
  },
  {
   "cell_type": "code",
   "execution_count": 5,
   "id": "f5d99ebf-1c3c-4e6b-82cc-c0a174db8d77",
   "metadata": {
    "vscode": {
     "languageId": "r"
    }
   },
   "outputs": [
    {
     "data": {
      "text/plain": [
       "[1] 32"
      ]
     },
     "execution_count": 5,
     "metadata": {},
     "output_type": "execute_result"
    }
   ],
   "source": [
    "sum(x[f(2+x) * f(2-x) < 1/4])"
   ]
  },
  {
   "cell_type": "markdown",
   "id": "7b604f44-a3cf-4c89-9da2-aaa1b34e237a",
   "metadata": {},
   "source": [
    "(풀이) -- Python"
   ]
  },
  {
   "cell_type": "code",
   "execution_count": 11,
   "id": "e0e19f91-63c8-411f-b83b-270048d772ab",
   "metadata": {},
   "outputs": [],
   "source": [
    "import numpy as np"
   ]
  },
  {
   "cell_type": "code",
   "execution_count": 61,
   "id": "1585a844-f081-43fa-94aa-87f9b92940d8",
   "metadata": {},
   "outputs": [],
   "source": [
    "f = lambda x: np.sin(np.pi/4 *x)\n",
    "# def f(x):\n",
    "#     return np.sin(np.pi/4 *x)"
   ]
  },
  {
   "cell_type": "code",
   "execution_count": 62,
   "id": "45ad448c-5b3b-44c8-a0c2-deb84c9e45f5",
   "metadata": {},
   "outputs": [
    {
     "data": {
      "text/plain": [
       "array([ 1,  2,  3,  4,  5,  6,  7,  8,  9, 10, 11, 12, 13, 14, 15])"
      ]
     },
     "execution_count": 62,
     "metadata": {},
     "output_type": "execute_result"
    }
   ],
   "source": [
    "x = np.array(range(1,16))\n",
    "# x= np.array(list(range(1,16)))\n",
    "x"
   ]
  },
  {
   "cell_type": "code",
   "execution_count": 63,
   "id": "a54143da-9541-466e-9958-a41ac9457aac",
   "metadata": {},
   "outputs": [
    {
     "data": {
      "text/plain": [
       "array([False,  True, False, False, False,  True, False, False, False,\n",
       "        True, False, False, False,  True, False])"
      ]
     },
     "execution_count": 63,
     "metadata": {},
     "output_type": "execute_result"
    }
   ],
   "source": [
    "f(2+x) * f(2-x) < 1/4"
   ]
  },
  {
   "cell_type": "code",
   "execution_count": 64,
   "id": "9e8b227e-62d5-4cf5-b570-b6bb586e0b3f",
   "metadata": {},
   "outputs": [
    {
     "data": {
      "text/plain": [
       "array([ 2,  6, 10, 14])"
      ]
     },
     "execution_count": 64,
     "metadata": {},
     "output_type": "execute_result"
    }
   ],
   "source": [
    "x[f(2+x) * f(2-x) < 1/4]"
   ]
  },
  {
   "cell_type": "code",
   "execution_count": 65,
   "id": "947b6776-d1cb-4a06-9f71-85f835365091",
   "metadata": {
    "vscode": {
     "languageId": "r"
    }
   },
   "outputs": [
    {
     "data": {
      "text/plain": [
       "np.int32(32)"
      ]
     },
     "execution_count": 65,
     "metadata": {},
     "output_type": "execute_result"
    }
   ],
   "source": [
    "sum(x[f(2+x) * f(2-x) < 1/4])"
   ]
  },
  {
   "cell_type": "markdown",
   "id": "52e618af-52e4-4566-bc91-64f0c659c04d",
   "metadata": {},
   "source": [
    "**`2025수능-6`.** $\\cos \\left(\\frac{\\pi}{2} + \\theta \\right) = -\\frac{1}{5}$\n",
    "일 때, $\\frac{\\sin\\theta}{1 - \\cos^2\\theta}$\n",
    "의 값은? **[3점]**\n",
    "\n",
    "1. $-5$  \n",
    "2. $-\\sqrt{5}$  \n",
    "3. $0$\n",
    "4. $\\sqrt{5}$\n",
    "5. $5$"
   ]
  },
  {
   "cell_type": "markdown",
   "id": "412f4937-102d-4621-99e8-be2fadde2ec2",
   "metadata": {},
   "source": [
    "`(풀이)` -- R"
   ]
  },
  {
   "cell_type": "code",
   "execution_count": 3,
   "id": "04fc519a-890a-491e-a4fa-ae24e8f47714",
   "metadata": {},
   "outputs": [],
   "source": [
    "theta = 2.94"
   ]
  },
  {
   "cell_type": "code",
   "execution_count": 4,
   "id": "d31559bd-c960-4784-8c34-d76999a79e60",
   "metadata": {},
   "outputs": [
    {
     "data": {
      "text/plain": [
       "[1] -0.20023"
      ]
     },
     "execution_count": 4,
     "metadata": {},
     "output_type": "execute_result"
    }
   ],
   "source": [
    "cos(pi/2+theta) # 이 값이 -0.2 정도가 되어야 할텐데?"
   ]
  },
  {
   "cell_type": "markdown",
   "id": "be3822c8-121a-4c2c-ba08-09fa226ab37c",
   "metadata": {},
   "source": [
    "반복계산을 하다보니까 $\\theta \\approx 2.94$ 인듯 "
   ]
  },
  {
   "cell_type": "code",
   "execution_count": 5,
   "id": "e41878fc-672f-46f7-a14d-2dbd0fdc02a0",
   "metadata": {},
   "outputs": [
    {
     "data": {
      "text/plain": [
       "[1] 4.994257"
      ]
     },
     "execution_count": 5,
     "metadata": {},
     "output_type": "execute_result"
    }
   ],
   "source": [
    "sin(theta)/(1-cos(theta)^2)"
   ]
  },
  {
   "cell_type": "markdown",
   "id": "631ce2b7-3768-493a-a73e-14d82e409552",
   "metadata": {},
   "source": [
    "`(풀이)` -- Python"
   ]
  },
  {
   "cell_type": "code",
   "execution_count": 3,
   "id": "ea08a47e-6542-4ca2-9d42-545209a9eb33",
   "metadata": {},
   "outputs": [],
   "source": [
    "import numpy as np"
   ]
  },
  {
   "cell_type": "code",
   "execution_count": 1,
   "id": "54a7bf3a-23ac-4ef7-8214-2f9fb8894f04",
   "metadata": {},
   "outputs": [],
   "source": [
    "theta = 2.94"
   ]
  },
  {
   "cell_type": "code",
   "execution_count": 4,
   "id": "5ba63ef4-956a-4017-8061-2ff5c42d089a",
   "metadata": {},
   "outputs": [
    {
     "data": {
      "text/plain": [
       "np.float64(-0.20022998472177103)"
      ]
     },
     "execution_count": 4,
     "metadata": {},
     "output_type": "execute_result"
    }
   ],
   "source": [
    "np.cos(np.pi/2+theta) # 이 값이 -0.2 정도가 되어야 할텐데?"
   ]
  },
  {
   "cell_type": "markdown",
   "id": "2dc4a4b9-7d67-4d12-96ce-aad3ffec4130",
   "metadata": {},
   "source": [
    "반복계산을 하다보니까 $\\theta \\approx 2.94$ 인듯 "
   ]
  },
  {
   "cell_type": "code",
   "execution_count": 8,
   "id": "af1f9475-d73a-4284-be4e-24990bd5a429",
   "metadata": {},
   "outputs": [
    {
     "data": {
      "text/plain": [
       "np.float64(4.99425698598313)"
      ]
     },
     "execution_count": 8,
     "metadata": {},
     "output_type": "execute_result"
    }
   ],
   "source": [
    "np.sin(theta)/(1-np.cos(theta)**2)"
   ]
  },
  {
   "cell_type": "markdown",
   "id": "a2bd4c6d-8f6a-4bc4-a517-353ea7faec58",
   "metadata": {},
   "source": [
    "## 2. 벡터인덱싱 "
   ]
  },
  {
   "cell_type": "code",
   "execution_count": 9,
   "id": "84ff3d9a-4d3e-458d-80be-5279ddb8f093",
   "metadata": {},
   "outputs": [],
   "source": [
    "import numpy as np"
   ]
  },
  {
   "cell_type": "markdown",
   "id": "e2442cb5-7e1c-4c2a-9121-f263b80888ee",
   "metadata": {},
   "source": [
    "`# 예제1` -- 양수의 원소를 뽑는다. "
   ]
  },
  {
   "cell_type": "code",
   "execution_count": 10,
   "id": "09a4eaf4-b904-4194-891f-d54f31ad06c7",
   "metadata": {
    "vscode": {
     "languageId": "r"
    }
   },
   "outputs": [
    {
     "data": {
      "text/plain": [
       "array([ 1,  2, -2,  4,  5, -5,  6])"
      ]
     },
     "execution_count": 10,
     "metadata": {},
     "output_type": "execute_result"
    }
   ],
   "source": [
    "x = np.array([1,2,-2,4,5,-5,6])\n",
    "x"
   ]
  },
  {
   "cell_type": "code",
   "execution_count": 11,
   "id": "4efc48f7-dec1-4671-be1e-147b3e2b7a8d",
   "metadata": {},
   "outputs": [
    {
     "data": {
      "text/plain": [
       "array([ True,  True, False,  True,  True, False,  True])"
      ]
     },
     "execution_count": 11,
     "metadata": {},
     "output_type": "execute_result"
    }
   ],
   "source": [
    "x>0"
   ]
  },
  {
   "cell_type": "code",
   "execution_count": 12,
   "id": "50e1eabc-09ff-45d4-ad16-226ad2a2d09e",
   "metadata": {},
   "outputs": [
    {
     "data": {
      "text/plain": [
       "array([1, 2, 4, 5, 6])"
      ]
     },
     "execution_count": 12,
     "metadata": {},
     "output_type": "execute_result"
    }
   ],
   "source": [
    "x[x>0]"
   ]
  },
  {
   "cell_type": "markdown",
   "id": "ea345077-0d4d-4765-b864-367d6f213b7e",
   "metadata": {},
   "source": [
    "`#`"
   ]
  },
  {
   "cell_type": "markdown",
   "id": "23b46737-11f3-4a7c-9d9a-6418045f6b7a",
   "metadata": {},
   "source": [
    "`# 예제2` -- 3보다 큰 원소를 뽑는 방법"
   ]
  },
  {
   "cell_type": "code",
   "execution_count": 13,
   "id": "9522b95a-dd27-4dfe-a11b-292866dfca9f",
   "metadata": {
    "vscode": {
     "languageId": "r"
    }
   },
   "outputs": [
    {
     "data": {
      "text/plain": [
       "array([ 1,  2, -2,  4,  5, -5,  6])"
      ]
     },
     "execution_count": 13,
     "metadata": {},
     "output_type": "execute_result"
    }
   ],
   "source": [
    "x = np.array([1,2,-2,4,5,-5,6])\n",
    "x"
   ]
  },
  {
   "cell_type": "code",
   "execution_count": 14,
   "id": "961a9c8b-1be8-45cf-b266-77f260f858ca",
   "metadata": {
    "vscode": {
     "languageId": "r"
    }
   },
   "outputs": [
    {
     "data": {
      "text/plain": [
       "array([4, 5, 6])"
      ]
     },
     "execution_count": 14,
     "metadata": {},
     "output_type": "execute_result"
    }
   ],
   "source": [
    "x[x>3]"
   ]
  },
  {
   "cell_type": "markdown",
   "id": "f73c483a-f70d-4785-9a93-c7e8f4b0d157",
   "metadata": {},
   "source": [
    "`#`"
   ]
  },
  {
   "cell_type": "markdown",
   "id": "f2fa992a-8f53-4a86-b33a-1ad9f8db4e59",
   "metadata": {},
   "source": [
    "`# 예제3` -- 3번째 원소를 뽑는방법"
   ]
  },
  {
   "cell_type": "code",
   "execution_count": 16,
   "id": "d937f5c3-4532-4567-a900-fb7a8f30899d",
   "metadata": {
    "vscode": {
     "languageId": "r"
    }
   },
   "outputs": [
    {
     "data": {
      "text/plain": [
       "array([ 1,  2, -2,  4,  5, -5,  6])"
      ]
     },
     "execution_count": 16,
     "metadata": {},
     "output_type": "execute_result"
    }
   ],
   "source": [
    "x = np.array([1,2,-2,4,5,-5,6])\n",
    "x"
   ]
  },
  {
   "cell_type": "code",
   "execution_count": 19,
   "id": "a01d311b-1fa6-453f-ad80-88e8bd4c779e",
   "metadata": {
    "vscode": {
     "languageId": "r"
    }
   },
   "outputs": [
    {
     "data": {
      "text/plain": [
       "array([False, False,  True, False, False, False, False])"
      ]
     },
     "execution_count": 19,
     "metadata": {},
     "output_type": "execute_result"
    }
   ],
   "source": [
    "arr = np.array([False, False, True, False, False, False, False])\n",
    "arr"
   ]
  },
  {
   "cell_type": "code",
   "execution_count": 20,
   "id": "24800170-e8fb-49c0-a22a-5b55e051de60",
   "metadata": {
    "vscode": {
     "languageId": "r"
    }
   },
   "outputs": [
    {
     "data": {
      "text/plain": [
       "array([-2])"
      ]
     },
     "execution_count": 20,
     "metadata": {},
     "output_type": "execute_result"
    }
   ],
   "source": [
    "x[arr]"
   ]
  },
  {
   "cell_type": "markdown",
   "id": "ed199bb7-9925-4d7a-9b67-5538de7cb455",
   "metadata": {},
   "source": [
    "`#`"
   ]
  },
  {
   "cell_type": "markdown",
   "id": "41bb7cb6-2c7f-4e8f-a6de-c123c669e1d3",
   "metadata": {},
   "source": [
    "`# 예제4` -- 값이 -2인 원소를 뽑아라. "
   ]
  },
  {
   "cell_type": "code",
   "execution_count": 23,
   "id": "2538edb7-dbf0-48ca-a721-13ec654dd16f",
   "metadata": {
    "vscode": {
     "languageId": "r"
    }
   },
   "outputs": [
    {
     "data": {
      "text/plain": [
       "array([ 1,  2, -2,  4,  5, -5,  6])"
      ]
     },
     "execution_count": 23,
     "metadata": {},
     "output_type": "execute_result"
    }
   ],
   "source": [
    "x = np.array((1,2,-2,4,5,-5,6))\n",
    "x"
   ]
  },
  {
   "cell_type": "code",
   "execution_count": 25,
   "id": "ae630ad9-3759-40de-b618-ae68d619f9d1",
   "metadata": {},
   "outputs": [
    {
     "data": {
      "text/plain": [
       "array([-2])"
      ]
     },
     "execution_count": 25,
     "metadata": {},
     "output_type": "execute_result"
    }
   ],
   "source": [
    "x[x == -2]"
   ]
  },
  {
   "cell_type": "markdown",
   "id": "b656344e-b0d6-4a75-adda-d1f03f375246",
   "metadata": {},
   "source": [
    "`#` "
   ]
  },
  {
   "cell_type": "markdown",
   "id": "c1d9ab38-058c-4f7c-b98a-0ae6c8cb33ab",
   "metadata": {},
   "source": [
    "`# 예제5` -- 값이 -1.5와 가장 가까운 원소를 뽑아라. "
   ]
  },
  {
   "cell_type": "markdown",
   "id": "225c6b38-94f5-44a7-94a9-fcd90009447e",
   "metadata": {},
   "source": [
    "(풀이1)"
   ]
  },
  {
   "cell_type": "code",
   "execution_count": 26,
   "id": "e295f40a-5d13-4134-b36e-48412a5cda39",
   "metadata": {},
   "outputs": [
    {
     "data": {
      "text/plain": [
       "array([ 1,  2, -2,  4,  5, -5,  6])"
      ]
     },
     "execution_count": 26,
     "metadata": {},
     "output_type": "execute_result"
    }
   ],
   "source": [
    "x = np.array((1,2,-2,4,5,-5,6))\n",
    "x"
   ]
  },
  {
   "cell_type": "code",
   "execution_count": 27,
   "id": "2b39f73f-1adf-481c-8d72-6dc315315ee0",
   "metadata": {},
   "outputs": [
    {
     "data": {
      "text/plain": [
       "array([ 2.5,  3.5, -0.5,  5.5,  6.5, -3.5,  7.5])"
      ]
     },
     "execution_count": 27,
     "metadata": {},
     "output_type": "execute_result"
    }
   ],
   "source": [
    "x - (-1.5)"
   ]
  },
  {
   "cell_type": "code",
   "execution_count": 28,
   "id": "c723d78c-f0e1-456a-b1cd-98df77e987e3",
   "metadata": {},
   "outputs": [
    {
     "data": {
      "text/plain": [
       "array([2.5, 3.5, 0.5, 5.5, 6.5, 3.5, 7.5])"
      ]
     },
     "execution_count": 28,
     "metadata": {},
     "output_type": "execute_result"
    }
   ],
   "source": [
    "abs(x - (-1.5))"
   ]
  },
  {
   "cell_type": "code",
   "execution_count": 31,
   "id": "3be1dbf3-fcab-4085-ad0d-938072203f14",
   "metadata": {},
   "outputs": [
    {
     "data": {
      "text/plain": [
       "array([False, False,  True, False, False, False, False])"
      ]
     },
     "execution_count": 31,
     "metadata": {},
     "output_type": "execute_result"
    }
   ],
   "source": [
    "abs(x - (-1.5)) == min(abs(x - (-1.5)))"
   ]
  },
  {
   "cell_type": "code",
   "execution_count": 32,
   "id": "60e19fa4-f0bd-439f-a2b9-1001832636e5",
   "metadata": {},
   "outputs": [
    {
     "data": {
      "text/plain": [
       "array([-2])"
      ]
     },
     "execution_count": 32,
     "metadata": {},
     "output_type": "execute_result"
    }
   ],
   "source": [
    "x[abs(x - (-1.5)) == min(abs(x - (-1.5)))]"
   ]
  },
  {
   "cell_type": "markdown",
   "id": "02aba19b-6272-4271-8b49-e4311d43bbc5",
   "metadata": {},
   "source": [
    "(풀이2)"
   ]
  },
  {
   "cell_type": "code",
   "execution_count": 33,
   "id": "4144b1c9-af7d-4f2f-b40f-f582219e3cd2",
   "metadata": {},
   "outputs": [
    {
     "data": {
      "text/plain": [
       "array([ 1,  2, -2,  4,  5, -5,  6])"
      ]
     },
     "execution_count": 33,
     "metadata": {},
     "output_type": "execute_result"
    }
   ],
   "source": [
    "x = np.array((1,2,-2,4,5,-5,6))\n",
    "x"
   ]
  },
  {
   "cell_type": "code",
   "execution_count": 38,
   "id": "281c154f-c910-43d3-a8c2-c753bd611d9d",
   "metadata": {},
   "outputs": [
    {
     "data": {
      "text/plain": [
       "np.int32(2)"
      ]
     },
     "execution_count": 38,
     "metadata": {},
     "output_type": "execute_result"
    }
   ],
   "source": [
    "np.argmin(abs(x - (-1.5)))"
   ]
  },
  {
   "cell_type": "code",
   "execution_count": 39,
   "id": "13af4856-c708-474f-ae15-809775e908f1",
   "metadata": {},
   "outputs": [
    {
     "data": {
      "text/plain": [
       "np.int32(-2)"
      ]
     },
     "execution_count": 39,
     "metadata": {},
     "output_type": "execute_result"
    }
   ],
   "source": [
    "x[np.argmin(abs(x - (-1.5)))]"
   ]
  },
  {
   "cell_type": "markdown",
   "id": "ff22d1cb-87ba-407f-b763-a52c28009fce",
   "metadata": {},
   "source": [
    "`#` "
   ]
  },
  {
   "cell_type": "markdown",
   "id": "9d67bcb1-02bf-443f-9cf2-f94c49f595f0",
   "metadata": {},
   "source": [
    "`# 예제6` -- 값이 0.5와 가장 가까운 원소를 뽑아라."
   ]
  },
  {
   "cell_type": "code",
   "execution_count": 42,
   "id": "3db67464-8b2f-4480-9fdc-d7ab7ded2ba0",
   "metadata": {
    "vscode": {
     "languageId": "r"
    }
   },
   "outputs": [
    {
     "data": {
      "text/plain": [
       "array([-0.55549182,  1.135786  ,  0.22488222, -0.27828521,  0.31068053,\n",
       "       -0.84615565, -1.06123884, -2.31023264, -1.0778794 , -0.66878153,\n",
       "        1.64599888,  0.00993931,  1.65980788,  0.96042669, -2.86658526,\n",
       "        2.034347  ,  1.80625502, -0.16519044,  1.19241176,  0.38260825,\n",
       "       -0.27403661,  1.65076625, -0.40343291, -2.02631684,  0.01365176,\n",
       "        1.04271385,  0.92079969, -1.52455003, -1.07817949, -0.03206049,\n",
       "        0.32152143, -0.62012408,  0.49889869, -1.01910041,  0.88194355,\n",
       "        0.02572674, -0.39642517,  0.50727392, -0.12259257,  1.21927153,\n",
       "       -2.1291978 , -0.46889021, -0.67331983, -1.28200754, -0.47672535,\n",
       "       -0.50068836, -1.84971734,  1.1355189 ,  0.38128017, -0.42444266,\n",
       "        1.45208803, -0.20620405,  0.07597739, -0.07526696, -0.63209592,\n",
       "        0.70175138,  0.20299937, -0.91183719, -0.60483135,  0.37805421,\n",
       "       -1.19670774,  0.47363231,  0.28659428,  1.00122163, -0.30186951,\n",
       "        0.75026228,  1.01250358, -0.34074013,  0.38256699, -0.67904123,\n",
       "       -0.58000617, -0.1756565 , -0.6490659 , -0.58708219, -0.09953991,\n",
       "       -0.04566179,  0.65090341, -0.19099064, -0.8320224 ,  0.03526678,\n",
       "        1.38999487, -2.51090913,  0.4489458 , -0.42371785, -1.1491281 ,\n",
       "       -0.91249818, -0.1346099 ,  0.50149025, -1.52023722, -0.1528213 ,\n",
       "        0.50149835, -0.27008287, -1.45674315, -0.62041124,  1.62022929,\n",
       "       -1.15825033,  0.35336406, -0.13698548, -1.04901816, -0.60020016])"
      ]
     },
     "execution_count": 42,
     "metadata": {},
     "output_type": "execute_result"
    }
   ],
   "source": [
    "x = np.random.normal(size=100)\n",
    "x"
   ]
  },
  {
   "cell_type": "code",
   "execution_count": 46,
   "id": "8a1bf0b5-bbf6-47a2-86fd-e2ece053b0b7",
   "metadata": {},
   "outputs": [
    {
     "data": {
      "text/plain": [
       "np.float64(0.4988986892032787)"
      ]
     },
     "execution_count": 46,
     "metadata": {},
     "output_type": "execute_result"
    }
   ],
   "source": [
    "x[np.argmin(abs(x - 0.5))]"
   ]
  },
  {
   "cell_type": "markdown",
   "id": "2ddd2f4a-85ae-4f4f-ba7a-70ae1cce773b",
   "metadata": {},
   "source": [
    "`#`"
   ]
  },
  {
   "cell_type": "markdown",
   "id": "d8f2af64-ea25-410e-854d-aaf3811d1821",
   "metadata": {},
   "source": [
    "## 3. 연산 "
   ]
  },
  {
   "cell_type": "markdown",
   "id": "360d29b8-5d5c-4e51-bbf5-33b2f3a76862",
   "metadata": {},
   "source": [
    "`# 예제` -- 아래의 벡터를 고려하자. "
   ]
  },
  {
   "cell_type": "code",
   "execution_count": 49,
   "id": "ff5d2cd3-abe6-4077-b1dd-db3bc671b52c",
   "metadata": {},
   "outputs": [],
   "source": [
    "x = np.random.normal(size=100)"
   ]
  },
  {
   "cell_type": "markdown",
   "id": "f46c2dd3-3d62-44f1-8e17-7c9f750ff8f0",
   "metadata": {},
   "source": [
    "`(1)` `x`의 원소중 그 값이 양수인 것은 모두 몇개인가? "
   ]
  },
  {
   "cell_type": "code",
   "execution_count": 52,
   "id": "db931e9c-0b32-4990-8da4-08c7d12ba3fc",
   "metadata": {},
   "outputs": [
    {
     "data": {
      "text/plain": [
       "np.int32(53)"
      ]
     },
     "execution_count": 52,
     "metadata": {},
     "output_type": "execute_result"
    }
   ],
   "source": [
    "sum(x > 0)"
   ]
  },
  {
   "cell_type": "markdown",
   "id": "da97d5b2-492c-42b0-8e75-d7131e713665",
   "metadata": {},
   "source": [
    "`(2)` `x`의 평균을 구하여라. "
   ]
  },
  {
   "cell_type": "code",
   "execution_count": 55,
   "id": "5ba82691-709f-44cd-839a-478357db98ad",
   "metadata": {},
   "outputs": [
    {
     "data": {
      "text/plain": [
       "np.float64(0.03420819894888085)"
      ]
     },
     "execution_count": 55,
     "metadata": {},
     "output_type": "execute_result"
    }
   ],
   "source": [
    "np.mean(x)"
   ]
  },
  {
   "cell_type": "code",
   "execution_count": 57,
   "id": "772cbc6c-74a3-45de-bc37-52e2d828529b",
   "metadata": {},
   "outputs": [
    {
     "data": {
      "text/plain": [
       "np.float64(0.03420819894888085)"
      ]
     },
     "execution_count": 57,
     "metadata": {},
     "output_type": "execute_result"
    }
   ],
   "source": [
    "x.mean()"
   ]
  },
  {
   "cell_type": "markdown",
   "id": "2dbcdd65-c192-47fe-8c5e-9e47fa7ffe06",
   "metadata": {},
   "source": [
    "`(3)` `x`의 원소중 평균과 가장 가까운 값을 구하여라. "
   ]
  },
  {
   "cell_type": "code",
   "execution_count": 60,
   "id": "9a89c694-5e3c-4f53-b392-0f2f9ef08ba5",
   "metadata": {},
   "outputs": [
    {
     "data": {
      "text/plain": [
       "np.int32(85)"
      ]
     },
     "execution_count": 60,
     "metadata": {},
     "output_type": "execute_result"
    }
   ],
   "source": [
    "np.argmin(abs(x - np.mean(x)))"
   ]
  },
  {
   "cell_type": "code",
   "execution_count": 61,
   "id": "ab8f8ffb-8c07-4d5a-83a9-2cff81bc1c31",
   "metadata": {},
   "outputs": [
    {
     "data": {
      "text/plain": [
       "np.float64(0.03368043239281483)"
      ]
     },
     "execution_count": 61,
     "metadata": {},
     "output_type": "execute_result"
    }
   ],
   "source": [
    "x[85]"
   ]
  },
  {
   "cell_type": "markdown",
   "id": "69e94e58-51c4-476f-a4c8-1cedc5e01457",
   "metadata": {},
   "source": [
    "`# 예제` -- 아래의 벡터를 고려하자. "
   ]
  },
  {
   "cell_type": "code",
   "execution_count": 73,
   "id": "f5d321f5-63eb-4ae4-a24d-5c2ce2d3c692",
   "metadata": {},
   "outputs": [
    {
     "data": {
      "text/plain": [
       "array([70, 23, 57, 34, 32, 62, 77, 56, 98, 13, 97, 95, 67,  7, 40, 89, 35,\n",
       "       39, 32,  7,  7, 98, 11, 99, 56, 32, 50,  4, 23, 64, 68, 81, 26, 60,\n",
       "       73, 84, 36, 31,  9,  2, 14, 40, 34, 61, 66, 99, 62, 15, 16, 48])"
      ]
     },
     "execution_count": 73,
     "metadata": {},
     "output_type": "execute_result"
    }
   ],
   "source": [
    "x = np.random.randint(1,101,size=50)\n",
    "x"
   ]
  },
  {
   "cell_type": "markdown",
   "id": "88a068f7-efed-4654-abb2-3cbc65193fed",
   "metadata": {},
   "source": [
    "`(1)` `x`의 원소중 짝수는 몇개 있는가? "
   ]
  },
  {
   "cell_type": "code",
   "execution_count": 98,
   "id": "c033685a-ec22-4fef-a5fc-828f138b04b9",
   "metadata": {},
   "outputs": [
    {
     "data": {
      "text/plain": [
       "np.int32(27)"
      ]
     },
     "execution_count": 98,
     "metadata": {},
     "output_type": "execute_result"
    }
   ],
   "source": [
    "sum((x% 2) == 0)"
   ]
  },
  {
   "cell_type": "code",
   "execution_count": 99,
   "id": "728b120c-ecb1-4947-8dd3-1334687b58cd",
   "metadata": {},
   "outputs": [
    {
     "data": {
      "text/plain": [
       "np.int32(27)"
      ]
     },
     "execution_count": 99,
     "metadata": {},
     "output_type": "execute_result"
    }
   ],
   "source": [
    "50- sum(x%2)"
   ]
  },
  {
   "cell_type": "markdown",
   "id": "6d48b232-a8e7-4da7-9f58-1ff640009764",
   "metadata": {},
   "source": [
    "`(2)` `x`의 원소중 가장 작은 홀수는 무엇인가? "
   ]
  },
  {
   "cell_type": "markdown",
   "id": "4445acce-69dc-41eb-b33c-0a737bedeab9",
   "metadata": {},
   "source": [
    "(풀이1)"
   ]
  },
  {
   "cell_type": "code",
   "execution_count": 88,
   "id": "9bab5e36-07cd-4878-a8e5-12c7eb08d777",
   "metadata": {},
   "outputs": [
    {
     "data": {
      "text/plain": [
       "array([70, 23, 57, 34, 32, 62, 77, 56, 98, 13, 97, 95, 67,  7, 40, 89, 35,\n",
       "       39, 32,  7,  7, 98, 11, 99, 56, 32, 50,  4, 23, 64, 68, 81, 26, 60,\n",
       "       73, 84, 36, 31,  9,  2, 14, 40, 34, 61, 66, 99, 62, 15, 16, 48])"
      ]
     },
     "execution_count": 88,
     "metadata": {},
     "output_type": "execute_result"
    }
   ],
   "source": [
    "x"
   ]
  },
  {
   "cell_type": "code",
   "execution_count": 101,
   "id": "52ddadb5-e580-4b5c-a2dd-a6077bc4aa08",
   "metadata": {},
   "outputs": [
    {
     "data": {
      "text/plain": [
       "np.int32(7)"
      ]
     },
     "execution_count": 101,
     "metadata": {},
     "output_type": "execute_result"
    }
   ],
   "source": [
    "min(x[x%2 == 1])"
   ]
  },
  {
   "cell_type": "markdown",
   "id": "99591bab-4747-4d88-9e2e-b1b637eaa322",
   "metadata": {},
   "source": [
    "(풀이2)"
   ]
  },
  {
   "cell_type": "code",
   "execution_count": 106,
   "id": "6aebd482-2f26-4f7d-b675-c4757d4dae11",
   "metadata": {},
   "outputs": [
    {
     "data": {
      "text/plain": [
       "array([ 2,  4,  7,  7,  7,  9, 11, 13, 14, 15, 16, 23, 23, 26, 31, 32, 32,\n",
       "       32, 34, 34, 35, 36, 39, 40, 40, 48, 50, 56, 56, 57, 60, 61, 62, 62,\n",
       "       64, 66, 67, 68, 70, 73, 77, 81, 84, 89, 95, 97, 98, 98, 99, 99])"
      ]
     },
     "execution_count": 106,
     "metadata": {},
     "output_type": "execute_result"
    }
   ],
   "source": [
    "x = np.sort(x)\n",
    "x"
   ]
  },
  {
   "cell_type": "code",
   "execution_count": 109,
   "id": "9c110474-3fd2-496d-a1fb-94811ef67902",
   "metadata": {},
   "outputs": [
    {
     "data": {
      "text/plain": [
       "array([ 7,  7,  7,  9, 11, 13, 15, 23, 23, 31, 35, 39, 57, 61, 67, 73, 77,\n",
       "       81, 89, 95, 97, 99, 99])"
      ]
     },
     "execution_count": 109,
     "metadata": {},
     "output_type": "execute_result"
    }
   ],
   "source": [
    "x[x%2 == 1]"
   ]
  },
  {
   "cell_type": "markdown",
   "id": "816dac5c-52f6-4c3c-be4e-50ae7a69329e",
   "metadata": {},
   "source": [
    "답은 7"
   ]
  },
  {
   "cell_type": "markdown",
   "id": "822b1bf0-7da5-4dc8-9114-00781f593cf8",
   "metadata": {},
   "source": [
    "`2010(나)6월평가원-4`. 실수 $a$ 가  \n",
    "$$\n",
    "\\frac{2^a + 2^{-a}}{2^a - 2^{-a}} = -2\n",
    "$$\n",
    "를 만족시킬 때, $4^a + 4^{-a}$ 의 값은?\n",
    "\n",
    "1. $\\frac{5}{2}$  \n",
    "2. $\\frac{10}{3}$  \n",
    "3. $\\frac{17}{4}$  \n",
    "4. $\\frac{26}{5}$  \n",
    "5. $\\frac{37}{6}$"
   ]
  },
  {
   "cell_type": "markdown",
   "id": "59bc5973-8154-4e3a-9299-a698fa2f5442",
   "metadata": {},
   "source": [
    "(풀이) -- R"
   ]
  },
  {
   "cell_type": "code",
   "execution_count": 4,
   "id": "5ae6d649-cdb8-4892-949d-0f2d0f1d9ca7",
   "metadata": {},
   "outputs": [
    {
     "data": {
      "image/png": "[encoded data removed]",
      "text/plain": [
       "<Figure of size 1008x756>"
      ]
     },
     "metadata": {
      "image/png": {
       "height": 567,
       "width": 756
      }
     },
     "output_type": "display_data"
    }
   ],
   "source": [
    "a = seq(from=-2, to =-0.1, 0.0001)\n",
    "f<- function(a){\n",
    "    up = 2^(a) + 2^(-a)\n",
    "    down = 2^(a) - 2^(-a) \n",
    "    up/down \n",
    "}\n",
    "plot(a,f(a))\n",
    "abline(h=-2,col=2)"
   ]
  },
  {
   "cell_type": "code",
   "execution_count": 9,
   "id": "5b40b63d-46b4-4227-a1ef-bbb08c535756",
   "metadata": {},
   "outputs": [
    {
     "data": {
      "text/plain": [
       "[1] -0.7925"
      ]
     },
     "execution_count": 9,
     "metadata": {},
     "output_type": "execute_result"
    }
   ],
   "source": [
    "a[which.min(abs(f(a) -(-2)))]"
   ]
  },
  {
   "cell_type": "code",
   "execution_count": 10,
   "id": "bd22459f-052b-41b4-81b6-fa8c49d89ce4",
   "metadata": {},
   "outputs": [
    {
     "data": {
      "text/plain": [
       "[1] -1.999961"
      ]
     },
     "execution_count": 10,
     "metadata": {},
     "output_type": "execute_result"
    }
   ],
   "source": [
    "f(-0.7925)"
   ]
  },
  {
   "cell_type": "code",
   "execution_count": 11,
   "id": "aaae103d-cb57-4855-be5c-b914074d13e7",
   "metadata": {},
   "outputs": [
    {
     "data": {
      "text/plain": [
       "[1] 3.333403"
      ]
     },
     "execution_count": 11,
     "metadata": {},
     "output_type": "execute_result"
    }
   ],
   "source": [
    "4^(-0.7925) + 4^(0.7925)"
   ]
  },
  {
   "cell_type": "markdown",
   "id": "bfad3a1c-906c-42a6-96a8-e0c2f4536333",
   "metadata": {},
   "source": [
    "(풀이) -- Python"
   ]
  },
  {
   "cell_type": "code",
   "execution_count": 16,
   "id": "8118d1a8-b4ee-440e-87f3-77de2354f78a",
   "metadata": {},
   "outputs": [
    {
     "name": "stderr",
     "output_type": "stream",
     "text": [
      "Matplotlib is building the font cache; this may take a moment.\n"
     ]
    }
   ],
   "source": [
    "import numpy as np\n",
    "import matplotlib.pyplot as plt "
   ]
  },
  {
   "cell_type": "code",
   "execution_count": 13,
   "id": "c6522e63-719b-41cc-9657-6e0a5b595973",
   "metadata": {},
   "outputs": [],
   "source": [
    "a = np.linspace(-2,-0.1,10001)"
   ]
  },
  {
   "cell_type": "code",
   "execution_count": 14,
   "id": "e166b7cf-dce6-4b1c-919f-0fc135b0f6e1",
   "metadata": {},
   "outputs": [],
   "source": [
    "def f(a):\n",
    "    up = 2**(a) + 2**(-a)\n",
    "    down = 2**(a) - 2**(-a) \n",
    "    return up/down "
   ]
  },
  {
   "cell_type": "code",
   "execution_count": 17,
   "id": "34a8ba49-5fbd-4932-a519-dec2291613f7",
   "metadata": {},
   "outputs": [
    {
     "data": {
      "text/plain": [
       "[<matplotlib.lines.Line2D at 0x402a4f0>]"
      ]
     },
     "execution_count": 17,
     "metadata": {},
     "output_type": "execute_result"
    },
    {
     "data": {
      "image/png": "[encoded data removed]",
      "text/plain": [
       "<Figure size 640x480 with 1 Axes>"
      ]
     },
     "metadata": {},
     "output_type": "display_data"
    }
   ],
   "source": [
    "plt.plot(a,f(a))"
   ]
  },
  {
   "cell_type": "code",
   "execution_count": 21,
   "id": "2a3fb19b-641a-4ca1-b3d0-6e4d00dfd3bf",
   "metadata": {},
   "outputs": [
    {
     "data": {
      "text/plain": [
       "np.int32(6355)"
      ]
     },
     "execution_count": 21,
     "metadata": {},
     "output_type": "execute_result"
    }
   ],
   "source": [
    "np.argmin(abs(f(a) - (-2)))"
   ]
  },
  {
   "cell_type": "code",
   "execution_count": 22,
   "id": "b0b18d84-83c2-4805-b695-4eab2767fcec",
   "metadata": {},
   "outputs": [
    {
     "data": {
      "text/plain": [
       "np.float64(-0.7925500000000001)"
      ]
     },
     "execution_count": 22,
     "metadata": {},
     "output_type": "execute_result"
    }
   ],
   "source": [
    "a[6355]"
   ]
  },
  {
   "cell_type": "code",
   "execution_count": 26,
   "id": "4aaec8f8-df08-4828-a512-8aaf8cc451d6",
   "metadata": {},
   "outputs": [
    {
     "data": {
      "text/plain": [
       "3.3335875011060594"
      ]
     },
     "execution_count": 26,
     "metadata": {},
     "output_type": "execute_result"
    }
   ],
   "source": [
    "4**(-0.79255) + 4**(0.79255)"
   ]
  },
  {
   "cell_type": "markdown",
   "id": "b61c0c50-173a-4c34-af45-2f76dc563fbf",
   "metadata": {},
   "source": [
    "`2024수능-16`. 방정식 $3^{x-8} = \\left(\\frac{1}{27}\\right)^x$ 을 만족시키는 실수 $x$의 값을 구하시오. **[3점]**"
   ]
  },
  {
   "cell_type": "markdown",
   "id": "2b407332-73c7-4e24-a236-1dcacce34cd1",
   "metadata": {},
   "source": [
    "(풀이) -- R"
   ]
  },
  {
   "cell_type": "code",
   "execution_count": 133,
   "id": "21897ff9-f20d-431e-8469-71f965125e7c",
   "metadata": {},
   "outputs": [
    {
     "data": {
      "text/plain": [
       "[1] 2"
      ]
     },
     "execution_count": 133,
     "metadata": {},
     "output_type": "execute_result"
    }
   ],
   "source": [
    "x = seq(from = -5, to=5, by =0.1)\n",
    "l = 3^(x-8) - (1/27)^x\n",
    "x[which.min(abs(l))]"
   ]
  },
  {
   "cell_type": "markdown",
   "id": "dd5fd5fc-825d-4771-9198-88b12dfd1013",
   "metadata": {},
   "source": [
    "(풀이) -- Python"
   ]
  },
  {
   "cell_type": "code",
   "execution_count": 31,
   "id": "4f55843a-5f5d-4d62-be04-18222819f257",
   "metadata": {},
   "outputs": [
    {
     "data": {
      "text/plain": [
       "np.int32(70)"
      ]
     },
     "execution_count": 31,
     "metadata": {},
     "output_type": "execute_result"
    }
   ],
   "source": [
    "x = np.linspace(-5,5,101)\n",
    "l = 3**(x-8) - (1/27)**x \n",
    "np.argmin(abs(l))"
   ]
  },
  {
   "cell_type": "code",
   "execution_count": 32,
   "id": "a50df398-d6a6-4894-8255-ed7a162c503d",
   "metadata": {},
   "outputs": [
    {
     "data": {
      "text/plain": [
       "np.float64(2.0)"
      ]
     },
     "execution_count": 32,
     "metadata": {},
     "output_type": "execute_result"
    }
   ],
   "source": [
    "x[70]"
   ]
  },
  {
   "cell_type": "markdown",
   "id": "918e6231-5420-4b4f-b77c-5b06a874ff40",
   "metadata": {},
   "source": [
    "## 4. 반복문 "
   ]
  },
  {
   "cell_type": "markdown",
   "id": "325d0921-86ae-42f6-8f2c-24df58e68db7",
   "metadata": {},
   "source": [
    "`2021(가)9월평가원-10`. 수열 $\\{a_n\\}$은 $a_1 = 12$이고, 모든 자연수 $n$에 대하여  \n",
    "$$\n",
    "a_{n+1} + a_n = (-1)^{n+1} \\times n\n",
    "$$\n",
    "을 만족시킨다. $a_k > a_1$인 자연수 $k$의 최소값은?\n",
    "\n",
    "1. $2$  \n",
    "2. $4$  \n",
    "3. $6$  \n",
    "4. $8$ \n",
    "5. $10$"
   ]
  },
  {
   "cell_type": "markdown",
   "id": "40869342-240b-492b-b868-f72285db2108",
   "metadata": {},
   "source": [
    "(풀이) -- R "
   ]
  },
  {
   "cell_type": "code",
   "execution_count": 1,
   "id": "76ce34ef-19af-45ff-a187-3dd38a048a02",
   "metadata": {},
   "outputs": [
    {
     "data": {
      "text/plain": [
       "NULL"
      ]
     },
     "execution_count": 1,
     "metadata": {},
     "output_type": "execute_result"
    }
   ],
   "source": [
    "a = c()\n",
    "a"
   ]
  },
  {
   "cell_type": "code",
   "execution_count": 2,
   "id": "8db11171-b3ee-40a7-80f1-1fbcae6e5b75",
   "metadata": {},
   "outputs": [],
   "source": [
    "a = c() \n",
    "a[1] = 12\n",
    "for(n in 1:100){\n",
    "    a[n+1] = - a[n] + (-1)^(n+1) * n \n",
    "}"
   ]
  },
  {
   "cell_type": "code",
   "execution_count": 3,
   "id": "5eb0efcf-41b8-45ff-be94-9f7255fd38c7",
   "metadata": {},
   "outputs": [
    {
     "data": {
      "text/plain": [
       " [1]   8  10  12  14  16  18  20  22  24  26  28  30  32  34  36  38  40  42  44\n",
       "[20]  46  48  50  52  54  56  58  60  62  64  66  68  70  72  74  76  78  80  82\n",
       "[39]  84  86  88  90  92  94  96  98 100"
      ]
     },
     "execution_count": 3,
     "metadata": {},
     "output_type": "execute_result"
    }
   ],
   "source": [
    "(1:100)[a > a[1]]"
   ]
  },
  {
   "cell_type": "markdown",
   "id": "6d52f6c2-33c6-4218-979c-5eb5fe8236f1",
   "metadata": {},
   "source": [
    "답은 8"
   ]
  },
  {
   "cell_type": "code",
   "execution_count": 4,
   "id": "e9d39e32-ada1-47dd-919d-64ed83a94ae8",
   "metadata": {},
   "outputs": [
    {
     "data": {
      "text/plain": [
       "  [1]    12   -11     9    -6     2     3    -9    16   -24    33   -43    54\n",
       " [13]   -66    79   -93   108  -124   141  -159   178  -198   219  -241   264\n",
       " [25]  -288   313  -339   366  -394   423  -453   484  -516   549  -583   618\n",
       " [37]  -654   691  -729   768  -808   849  -891   934  -978  1023 -1069  1116\n",
       " [49] -1164  1213 -1263  1314 -1366  1419 -1473  1528 -1584  1641 -1699  1758\n",
       " [61] -1818  1879 -1941  2004 -2068  2133 -2199  2266 -2334  2403 -2473  2544\n",
       " [73] -2616  2689 -2763  2838 -2914  2991 -3069  3148 -3228  3309 -3391  3474\n",
       " [85] -3558  3643 -3729  3816 -3904  3993 -4083  4174 -4266  4359 -4453  4548\n",
       " [97] -4644  4741 -4839  4938 -5038"
      ]
     },
     "execution_count": 4,
     "metadata": {},
     "output_type": "execute_result"
    }
   ],
   "source": [
    "a"
   ]
  },
  {
   "cell_type": "markdown",
   "id": "58cd4c17-c999-4845-bd79-d98c28c461b8",
   "metadata": {},
   "source": [
    "(풀이) -- Python"
   ]
  },
  {
   "cell_type": "code",
   "execution_count": 15,
   "id": "a73f88ad-5329-492c-acdc-a369ba91142f",
   "metadata": {},
   "outputs": [],
   "source": [
    "import numpy as np"
   ]
  },
  {
   "cell_type": "code",
   "execution_count": 12,
   "id": "f0a38b67-3592-48c1-9b68-e4ad8ad929be",
   "metadata": {},
   "outputs": [],
   "source": [
    "a = []\n",
    "a = a + [12]"
   ]
  },
  {
   "cell_type": "code",
   "execution_count": 13,
   "id": "83cce771-0ea0-48dc-9f4b-e33626ab638b",
   "metadata": {},
   "outputs": [],
   "source": [
    "for n in range(1,101):\n",
    "    a.append(-a[-1] + (-1)**(n+1) * n)"
   ]
  },
  {
   "cell_type": "code",
   "execution_count": 26,
   "id": "b03018b9-1bcc-427e-982c-534bf7a85d79",
   "metadata": {},
   "outputs": [
    {
     "data": {
      "text/plain": [
       "array([  8,  10,  12,  14,  16,  18,  20,  22,  24,  26,  28,  30,  32,\n",
       "        34,  36,  38,  40,  42,  44,  46,  48,  50,  52,  54,  56,  58,\n",
       "        60,  62,  64,  66,  68,  70,  72,  74,  76,  78,  80,  82,  84,\n",
       "        86,  88,  90,  92,  94,  96,  98, 100])"
      ]
     },
     "execution_count": 26,
     "metadata": {},
     "output_type": "execute_result"
    }
   ],
   "source": [
    "np.array(range(1,102))[np.array(a) > a[0]]"
   ]
  },
  {
   "cell_type": "markdown",
   "id": "6fa9d2b0-487d-401a-b946-4ca072b185b2",
   "metadata": {},
   "source": [
    "`2007(나)6월평가원-14`. 다음은 어느 회사의 연봉에 대한 규정이다.  \n",
    "\n",
    "(가) 입사 첫째 해 연봉은 $a$원이고, 입사 19년째 해까지의 연봉은 해마다 직전 연봉에서 8%씩 인상된다.  \n",
    "\n",
    "(나) 입사 20년째 해부터의 연봉은 입사 19년째 해 연봉의 $2/3$로 한다.  \n",
    "\n",
    "이 회사에 입사한 사람이 28년 동안 근무하여 받는 연봉의 총합은? (단, $1.08^{18} = 4$로 계산한다.)  \n",
    "\n",
    "1. $\\frac{101}{2} a$  \n",
    "2. $\\frac{111}{2} a$  \n",
    "3. $\\frac{121}{2} a$  \n",
    "4. $\\frac{131}{2} a$ \n",
    "5. $\\frac{141}{2} a$  "
   ]
  },
  {
   "cell_type": "markdown",
   "id": "9a3fe099-598c-4fac-90cd-53f2b1384dce",
   "metadata": {},
   "source": [
    "(풀이) -- R"
   ]
  },
  {
   "cell_type": "code",
   "execution_count": 151,
   "id": "26852ba0-0626-461f-83df-3ddaffeeb08d",
   "metadata": {},
   "outputs": [
    {
     "data": {
      "text/plain": [
       "[1] 65.42238"
      ]
     },
     "execution_count": 151,
     "metadata": {},
     "output_type": "execute_result"
    }
   ],
   "source": [
    "a = 1\n",
    "sal = c()\n",
    "sal[1] = a\n",
    "for(y in 2:19){\n",
    "    sal[y] <- sal[y-1] * 1.08 \n",
    "}\n",
    "for(y in 20:28){\n",
    "    sal[y] <- sal[19] * 2/3 \n",
    "}\n",
    "sum(sal)"
   ]
  },
  {
   "cell_type": "markdown",
   "id": "7a27d9a4-e01d-4846-9f76-4465081828a1",
   "metadata": {},
   "source": [
    "(풀이) -- Python"
   ]
  },
  {
   "cell_type": "code",
   "execution_count": 33,
   "id": "560d0d3a-5d73-453b-af5c-41f6f693d625",
   "metadata": {},
   "outputs": [],
   "source": [
    "sal = [1] \n",
    "for y in range(18):\n",
    "    sal.append(sal[-1]*1.08)\n",
    "s19 = sal[-1]\n",
    "for y in range(9):\n",
    "    sal.append(s19*2/3)"
   ]
  },
  {
   "cell_type": "code",
   "execution_count": 34,
   "id": "f1cc6812-46c2-4418-9eb1-f9bc6bc91deb",
   "metadata": {},
   "outputs": [
    {
     "data": {
      "text/plain": [
       "65.42238023410619"
      ]
     },
     "execution_count": 34,
     "metadata": {},
     "output_type": "execute_result"
    }
   ],
   "source": [
    "sum(sal)"
   ]
  }
 ],
 "metadata": {
  "kernelspec": {
   "display_name": "Python 3 (ipykernel)",
   "language": "python",
   "name": "python3"
  },
  "language_info": {
   "codemirror_mode": {
    "name": "ipython",
    "version": 3
   },
   "file_extension": ".py",
   "mimetype": "text/x-python",
   "name": "python",
   "nbconvert_exporter": "python",
   "pygments_lexer": "ipython3",
   "version": "3.13.2"
  }
 },
 "nbformat": 4,
 "nbformat_minor": 5
}
