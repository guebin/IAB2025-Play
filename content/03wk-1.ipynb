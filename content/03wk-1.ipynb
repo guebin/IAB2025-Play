{
  "metadata": {
    "kernelspec": {
      "name": "webR",
      "display_name": "R (webR)",
      "language": "R"
    },
    "language_info": {
      "name": "R",
      "version": "4.3.3",
      "mimetype": "text/x-rsrc",
      "file_extension": ".R"
    }
  },
  "nbformat_minor": 5,
  "nbformat": 4,
  "cells": [
    {
      "id": "5882ba20",
      "cell_type": "raw",
      "source": "---\ntitle: \"03wk-1: 문제풀이 (아홉개의 공, 100개의 라커) // 숙제\"\nauthor: \"최규빈\"\ndate: \"03/18/2025\"\ndraft: false\n---",
      "metadata": {
        "vscode": {
          "languageId": "raw"
        }
      }
    },
    {
      "id": "8d0959d8-6dfe-437d-afc8-7faebab5ae29",
      "cell_type": "markdown",
      "source": "{{<video https://youtu.be/playlist?list=PLQqh36zP38-yTnSK1xmG0VqX2wCLRpYtu&si=czTHCiGsSOZPeUVt >}}",
      "metadata": {
        "vscode": {
          "languageId": "r"
        }
      }
    },
    {
      "id": "8322628e-f4cb-4774-8a12-31fdca1cae75",
      "cell_type": "markdown",
      "source": "## 1. 문제풀이",
      "metadata": {}
    },
    {
      "id": "d896d8cd-3548-4871-a7fe-c09de52abd18",
      "cell_type": "markdown",
      "source": "`# 예제 1` --  아홉개의 공\n\n아홉개의 공이있다. 이 가운데 여덟개는 무게가 같고 하나는 남은 하나는 좀 더 무겁다. 우리에게는 저울이 하나 있는데 이 저울로는 왼쪽의 공들이 무거운지 오른쪽의 공들이 무거운지밖에 알아낼 수 없다. 이 저울을 딱 두번만 사용하여 가장 무거운 공을 찾아내는 알고리즘을 `solution` 함수로 정리하여 제시하라. 공들의 무게는 길이가 9인 벡터로 온다고 가정한다. 출력은 가장 무거운 공이 위치한 index를 리턴하도록 한다.\n\n다음은 `solution` 함수를 실제로 구현하여 사용한 예시이다.",
      "metadata": {}
    },
    {
      "id": "b5209510-4500-427d-b2f0-8793500239e0",
      "cell_type": "markdown",
      "source": "```R\nsolution(c(2,1,1,1,1,1,1,1,1))\n> 1\n```",
      "metadata": {},
      "attachments": {}
    },
    {
      "id": "e4d8033e-3461-4901-8cd6-ee9d4bf4e5c7",
      "cell_type": "markdown",
      "source": "```R\nsolution(c(2,2,5,2,2,2,2,2,2))\n> 3\n```",
      "metadata": {},
      "attachments": {}
    },
    {
      "id": "48352e9f-ffd7-4d3f-8801-adbfc6413e81",
      "cell_type": "markdown",
      "source": "`(풀이)`",
      "metadata": {}
    },
    {
      "id": "f6d55e50-f659-4b72-9cf1-fa1015e552d5",
      "cell_type": "code",
      "source": "solution <- function(x){\n    l = x[1:3]\n    m = x[4:6]\n    r = x[7:9]\n    if(sum(l)>sum(m)){\n        if(x[1]>x[2]){\n            idx = 1 \n        }else if(x[1]<x[2]){\n            idx = 2 \n        }else{\n            idx = 3 \n        }\n    }else if(sum(l)<sum(m)){\n        if(x[4]>x[5]){\n            idx = 4 \n        }else if(x[4]<x[5]){\n            idx = 5\n        }else{\n            idx = 6 \n        }\n    }else{\n        if(x[7]>x[8]){\n            idx = 7 \n        }else if(x[7]<x[8]){\n            idx = 8\n        }else{\n            idx = 9 \n        }\n    }\n    return(idx)\n}",
      "metadata": {
        "vscode": {
          "languageId": "r"
        }
      },
      "outputs": [],
      "execution_count": 117
    },
    {
      "id": "e39a24cf-94d4-4f56-a55f-618e92c68f8d",
      "cell_type": "code",
      "source": "solution(c(2,1,1,1,1,1,1,1,1))",
      "metadata": {
        "vscode": {
          "languageId": "r"
        }
      },
      "outputs": [
        {
          "data": {
            "text/html": [
              "1"
            ],
            "text/latex": [
              "1"
            ],
            "text/markdown": [
              "1"
            ],
            "text/plain": [
              "[1] 1"
            ]
          },
          "metadata": {},
          "output_type": "display_data"
        }
      ],
      "execution_count": 120
    },
    {
      "id": "69760874-b825-4f6a-9c3a-856c0787755e",
      "cell_type": "code",
      "source": "solution(c(2,2,5,2,2,2,2,2,2))",
      "metadata": {
        "vscode": {
          "languageId": "r"
        }
      },
      "outputs": [
        {
          "data": {
            "text/html": [
              "3"
            ],
            "text/latex": [
              "3"
            ],
            "text/markdown": [
              "3"
            ],
            "text/plain": [
              "[1] 3"
            ]
          },
          "metadata": {},
          "output_type": "display_data"
        }
      ],
      "execution_count": 121
    },
    {
      "id": "21f359c0-22b1-4e10-b9f7-ff3859766754",
      "cell_type": "markdown",
      "source": "`#`",
      "metadata": {}
    },
    {
      "id": "78e87b6f-f002-4c3a-8414-1eb11b787b0e",
      "cell_type": "markdown",
      "source": "`# 예제 2` -- 100개의 라커 ",
      "metadata": {}
    },
    {
      "id": "d9f7cff1-e949-40f5-ac12-30f7ce2165c5",
      "cell_type": "markdown",
      "source": "복도에 100개의 라커가 있다. 복도를 어떤 남자가 100개의 라커 문을 전부 연다. 그리고 나서 짝수 번호의 라커를 전부 닫는다. 그 다음에는 번호가 3의 배수인 라커를 순서대로 찾아다니며 열려 있으면 닫고, 닫혀 있으면 연다. 그 다음에는 번호가 4의 배수인 라커를 순서대로 찾아다니며 열려있으면 닫고, 닫혀있으면 연다. 이후에 5의 배수, 6의 배수 .. 인 라커를 순서대로 찾아다니며 행동을 반복한다. 이런식으로 복도를 100번 지나가면 열린 라커의 문은 몇개가 되겠는가?\n\n",
      "metadata": {}
    },
    {
      "id": "0679f679-c94e-41fd-9848-36a2543a8cc4",
      "cell_type": "code",
      "source": "#     라커1 라커2 라커3 라커4 라커5 라커6  ..... 라커100 \n# 1회  열    열    열   열   열    열    ..... 열 \n# 2회  열    닫    열   닫   열    닫    ..... 닫 \n# 3회  열    닫    닫   닫   열    열    ..... 닫 \n# 4회  열    닫    닫   열   열    열    ..... 닫 \n# ...\n\n# 알고리즘 \n# 1. 100개의 TRUE가 있는 벡터를 만듦. \n# 2. 100개의 TRUE가 있는 벡터에서 2,4,6,...,100 번쨰 원소를 선택하여 그 값을 반전시킴\n# 3. 100개의 TRUE가 있는 벡터에서 3,6,9,...,99 번쨰 원소를 선택하여 그 값을 반전시킴\n# ...\n# 100. 100개의 TRUE가 있는 벡터에서 100 번쨰 원소를 선택하여 그 값을 반전시킴",
      "metadata": {
        "vscode": {
          "languageId": "r"
        }
      },
      "outputs": [
        {
          "data": {
            "text/plain": [
              "NULL"
            ]
          },
          "execution_count": 91,
          "metadata": {},
          "output_type": "execute_result"
        }
      ],
      "execution_count": null
    },
    {
      "id": "3bd0d81b-f678-47bc-8103-9f6f8706df89",
      "cell_type": "markdown",
      "source": "`(예비학습)`",
      "metadata": {}
    },
    {
      "id": "e8f555f4-dba5-4aa3-a13f-e68a2281466a",
      "cell_type": "code",
      "source": "x = TRUE",
      "metadata": {
        "vscode": {
          "languageId": "r"
        }
      },
      "outputs": [],
      "execution_count": 57
    },
    {
      "id": "09fce1b1-e13d-4c8e-b40a-b48c7e5f18aa",
      "cell_type": "code",
      "source": "!x",
      "metadata": {
        "vscode": {
          "languageId": "r"
        }
      },
      "outputs": [
        {
          "data": {
            "text/plain": [
              "[1] FALSE"
            ]
          },
          "execution_count": 58,
          "metadata": {},
          "output_type": "execute_result"
        }
      ],
      "execution_count": 58
    },
    {
      "id": "e962efa8-8233-4205-b2f6-60863375297d",
      "cell_type": "code",
      "source": "x = c(TRUE, TRUE, FALSE)",
      "metadata": {
        "vscode": {
          "languageId": "r"
        }
      },
      "outputs": [],
      "execution_count": 59
    },
    {
      "id": "8fb5cf5b-0504-4f51-9a6f-3ee91cbbfcc8",
      "cell_type": "code",
      "source": "!x",
      "metadata": {
        "vscode": {
          "languageId": "r"
        }
      },
      "outputs": [
        {
          "data": {
            "text/plain": [
              "[1] FALSE FALSE  TRUE"
            ]
          },
          "execution_count": 61,
          "metadata": {},
          "output_type": "execute_result"
        }
      ],
      "execution_count": 61
    },
    {
      "id": "20c16f83-bbb6-4a68-bd94-4634f34d3f0e",
      "cell_type": "markdown",
      "source": "`(풀이)`",
      "metadata": {}
    },
    {
      "id": "7ab65c1d-ca9c-4897-b0da-927d1d6e3dd3",
      "cell_type": "code",
      "source": "flip <- function(x){\n    !x\n}",
      "metadata": {
        "vscode": {
          "languageId": "r"
        }
      },
      "outputs": [],
      "execution_count": 92
    },
    {
      "id": "ada9150b-202b-44aa-9255-1f7243af8ff5",
      "cell_type": "code",
      "source": "doors = rep(TRUE,100)\nfor(i in 2:100){\n    doors[(1:100) %% i == 0] = flip(doors[(1:100) %% i == 0])\n}\nsum(doors)",
      "metadata": {
        "vscode": {
          "languageId": "r"
        }
      },
      "outputs": [
        {
          "data": {
            "text/plain": [
              "[1] 10"
            ]
          },
          "execution_count": 93,
          "metadata": {},
          "output_type": "execute_result"
        }
      ],
      "execution_count": 93
    },
    {
      "id": "0ed05735-55b3-42d1-88a8-81494b90864d",
      "cell_type": "markdown",
      "source": "`#`",
      "metadata": {}
    },
    {
      "id": "3659d7f7",
      "cell_type": "markdown",
      "source": "## 2. 숙제",
      "metadata": {
        "vscode": {
          "languageId": "r"
        }
      }
    },
    {
      "id": "d8f196c9",
      "cell_type": "markdown",
      "source": "`1` – 세 개의 공 \n\n세 개의 공이 있다. 이 중 두 개는 무게가 같고, 하나는 더 가볍다. 우리는 저울을 한 번만 사용하여 가장 가벼운 공이 위치한 index를 찾아야 한다.\n\n이 문제를 해결하는 solution 함수를 작성하라. 공들의 무게는 길이가 3인 벡터로 주어진다고 가정한다. 출력은 가장 가벼운 공의 index가 되어야 한다.",
      "metadata": {}
    },
    {
      "id": "c527b576-4fc8-4506-8d4c-c152d5f6cfb0",
      "cell_type": "markdown",
      "source": "`(풀이)`",
      "metadata": {}
    },
    {
      "id": "89835aeb-7a37-4c1d-9277-caf81c3f1b32",
      "cell_type": "code",
      "source": "sol <- function(x){\n    idx = 0\n    if(x[1]<x[2]){\n        idx = 1 \n    }else if(x[1]>x[2]){\n        idx = 2 \n    }else{\n        idx = 3\n    }\n    return(idx)\n}",
      "metadata": {
        "trusted": true
      },
      "outputs": [],
      "execution_count": 4
    },
    {
      "id": "7faac4f9-0f61-41aa-89ad-ad36bbe7d7f6",
      "cell_type": "code",
      "source": "sol(c(1,1,0.5))",
      "metadata": {
        "trusted": true
      },
      "outputs": [
        {
          "execution_count": 5,
          "output_type": "execute_result",
          "data": {
            "text/plain": [
              "[1] 3"
            ]
          },
          "metadata": {}
        }
      ],
      "execution_count": 5
    },
    {
      "id": "7c206d1a",
      "cell_type": "markdown",
      "source": "`2` - 10개의 라커\n\n복도에 10개의 라커가 있다. 복도를 어떤 남자가 10개의 라커 문을 전부 연다. 그리고 나서 짝수 번호의 라커를 전부 닫는다. 그 다음에는 번호가 3의 배수인 라커를 순서대로 찾아다니며 열려 있으면 닫고, 닫혀 있으면 연다. 그 다음에는 번호가 4의 배수인 라커를 순서대로 찾아다니며 열려있으면 닫고, 닫혀있으면 연다. 열린 라커의 문은 몇개가 되겠는가?",
      "metadata": {
        "vscode": {
          "languageId": "r"
        }
      }
    },
    {
      "id": "af8904de-05cd-4f02-b3db-6acd1e207445",
      "cell_type": "code",
      "source": "doors = rep(TRUE,10)\ndoors",
      "metadata": {
        "trusted": true
      },
      "outputs": [
        {
          "execution_count": 9,
          "output_type": "execute_result",
          "data": {
            "text/plain": [
              " [1] TRUE TRUE TRUE TRUE TRUE TRUE TRUE TRUE TRUE TRUE"
            ]
          },
          "metadata": {}
        }
      ],
      "execution_count": 9
    },
    {
      "id": "52b76b9b-6f3a-491f-a1d8-a8a9c50346b8",
      "cell_type": "code",
      "source": "doors[seq(2,10,by=2)] = !doors[seq(2,10,by=2)]",
      "metadata": {
        "trusted": true
      },
      "outputs": [],
      "execution_count": 12
    },
    {
      "id": "0b02f209-ad15-4f1b-864b-f035805bbeac",
      "cell_type": "code",
      "source": "doors[seq(3,10,by=3)] = !doors[seq(3,10,by=3)]",
      "metadata": {
        "trusted": true
      },
      "outputs": [],
      "execution_count": 15
    },
    {
      "id": "be4c41c4-a2f7-4565-b75e-60bcd5b02da5",
      "cell_type": "code",
      "source": "doors[seq(4,10,by=4)] = !doors[seq(4,10,by=4)]",
      "metadata": {
        "trusted": true
      },
      "outputs": [],
      "execution_count": 16
    },
    {
      "id": "669afec5-5aa2-4ab3-9f44-06fcd26ba0e4",
      "cell_type": "code",
      "source": "sum(doors)",
      "metadata": {
        "trusted": true
      },
      "outputs": [
        {
          "execution_count": 18,
          "output_type": "execute_result",
          "data": {
            "text/plain": [
              "[1] 6"
            ]
          },
          "metadata": {}
        }
      ],
      "execution_count": 18
    },
    {
      "id": "03b121b4-5b2c-4318-8ff3-334e8c8ecb00",
      "cell_type": "markdown",
      "source": "*참고코드*",
      "metadata": {}
    },
    {
      "id": "10165a01-3296-4460-a70d-ebef421f7386",
      "cell_type": "markdown",
      "source": "1~10까지의 수 중에서 2의 배수이거나 3의배수를 뽑는 코드 ",
      "metadata": {}
    },
    {
      "id": "ae612df2-5d4a-4b17-b4b4-b41a2565e66f",
      "cell_type": "code",
      "source": "(1:10)[(1:10) %% 2 == 0] # 2의 배수를 뽑는 코드",
      "metadata": {
        "trusted": true
      },
      "outputs": [
        {
          "execution_count": 38,
          "output_type": "execute_result",
          "data": {
            "text/plain": [
              "[1]  2  4  6  8 10"
            ]
          },
          "metadata": {}
        }
      ],
      "execution_count": 38
    },
    {
      "id": "5ec9b08f-3053-4beb-b121-b050650e266d",
      "cell_type": "code",
      "source": "(1:10)[(1:10) %% 3 == 0] # 3의 배수를 뽑는 코드",
      "metadata": {
        "trusted": true
      },
      "outputs": [
        {
          "execution_count": 39,
          "output_type": "execute_result",
          "data": {
            "text/plain": [
              "[1] 3 6 9"
            ]
          },
          "metadata": {}
        }
      ],
      "execution_count": 39
    },
    {
      "id": "d98d0b68-b4d5-4744-a86e-9eacc8c1d408",
      "cell_type": "code",
      "source": "(1:10) %% 2 == 0 # 2의 배수 자리면 TRUE 그렇지 않으면 FALSE",
      "metadata": {
        "trusted": true
      },
      "outputs": [
        {
          "execution_count": 40,
          "output_type": "execute_result",
          "data": {
            "text/plain": [
              " [1] FALSE  TRUE FALSE  TRUE FALSE  TRUE FALSE  TRUE FALSE  TRUE"
            ]
          },
          "metadata": {}
        }
      ],
      "execution_count": 40
    },
    {
      "id": "a39ec1b4-566f-4113-8355-784220c1c3a4",
      "cell_type": "code",
      "source": "(1:10) %% 3 == 0 # 3의 배수 자리면 TRUE 그렇지 않으면 FALSE",
      "metadata": {
        "trusted": true
      },
      "outputs": [
        {
          "execution_count": 41,
          "output_type": "execute_result",
          "data": {
            "text/plain": [
              " [1] FALSE FALSE  TRUE FALSE FALSE  TRUE FALSE FALSE  TRUE FALSE"
            ]
          },
          "metadata": {}
        }
      ],
      "execution_count": 41
    },
    {
      "id": "510fe459-4b68-4398-bb6f-30c6b821777a",
      "cell_type": "code",
      "source": "(1:10)[((1:10) %% 2 == 0) | ((1:10) %% 3 == 0)] # 2의 배수이거나 3의 배수를 뽑는 코드",
      "metadata": {
        "trusted": true
      },
      "outputs": [
        {
          "execution_count": 42,
          "output_type": "execute_result",
          "data": {
            "text/plain": [
              "[1]  2  3  4  6  8  9 10"
            ]
          },
          "metadata": {}
        }
      ],
      "execution_count": 42
    }
  ]
}