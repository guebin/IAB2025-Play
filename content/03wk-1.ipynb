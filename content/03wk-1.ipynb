{
 "cells": [
  {
   "cell_type": "raw",
   "id": "5882ba20",
   "metadata": {
    "vscode": {
     "languageId": "raw"
    }
   },
   "source": [
    "---\n",
    "title: \"03wk-1: 문제풀이 (아홉개의 공, 100개의 라커) // 숙제\"\n",
    "author: \"최규빈\"\n",
    "date: \"03/18/2025\"\n",
    "draft: false\n",
    "---"
   ]
  },
  {
   "cell_type": "markdown",
   "id": "8d0959d8-6dfe-437d-afc8-7faebab5ae29",
   "metadata": {
    "vscode": {
     "languageId": "r"
    }
   },
   "source": [
    "{{<video https://youtu.be/playlist?list=PLQqh36zP38-yTnSK1xmG0VqX2wCLRpYtu&si=czTHCiGsSOZPeUVt >}}"
   ]
  },
  {
   "cell_type": "markdown",
   "id": "8322628e-f4cb-4774-8a12-31fdca1cae75",
   "metadata": {},
   "source": [
    "## 1. 문제풀이"
   ]
  },
  {
   "cell_type": "markdown",
   "id": "d896d8cd-3548-4871-a7fe-c09de52abd18",
   "metadata": {},
   "source": [
    "`# 예제 1` --  아홉개의 공\n",
    "\n",
    "아홉개의 공이있다. 이 가운데 여덟개는 무게가 같고 하나는 남은 하나는 좀 더 무겁다. 우리에게는 저울이 하나 있는데 이 저울로는 왼쪽의 공들이 무거운지 오른쪽의 공들이 무거운지밖에 알아낼 수 없다. 이 저울을 딱 두번만 사용하여 가장 무거운 공을 찾아내는 알고리즘을 `solution` 함수로 정리하여 제시하라. 공들의 무게는 길이가 9인 벡터로 온다고 가정한다. 출력은 가장 무거운 공이 위치한 index를 리턴하도록 한다.\n",
    "\n",
    "다음은 `solution` 함수를 실제로 구현하여 사용한 예시이다."
   ]
  },
  {
   "attachments": {},
   "cell_type": "markdown",
   "id": "b5209510-4500-427d-b2f0-8793500239e0",
   "metadata": {},
   "source": [
    "```R\n",
    "solution(c(2,1,1,1,1,1,1,1,1))\n",
    "> 1\n",
    "```"
   ]
  },
  {
   "attachments": {},
   "cell_type": "markdown",
   "id": "e4d8033e-3461-4901-8cd6-ee9d4bf4e5c7",
   "metadata": {},
   "source": [
    "```R\n",
    "solution(c(2,2,5,2,2,2,2,2,2))\n",
    "> 3\n",
    "```"
   ]
  },
  {
   "cell_type": "markdown",
   "id": "48352e9f-ffd7-4d3f-8801-adbfc6413e81",
   "metadata": {},
   "source": [
    "`(풀이)`"
   ]
  },
  {
   "cell_type": "code",
   "execution_count": 117,
   "id": "f6d55e50-f659-4b72-9cf1-fa1015e552d5",
   "metadata": {
    "vscode": {
     "languageId": "r"
    }
   },
   "outputs": [],
   "source": [
    "solution <- function(x){\n",
    "    l = x[1:3]\n",
    "    m = x[4:6]\n",
    "    r = x[7:9]\n",
    "    if(sum(l)>sum(m)){\n",
    "        if(x[1]>x[2]){\n",
    "            idx = 1 \n",
    "        }else if(x[1]<x[2]){\n",
    "            idx = 2 \n",
    "        }else{\n",
    "            idx = 3 \n",
    "        }\n",
    "    }else if(sum(l)<sum(m)){\n",
    "        if(x[4]>x[5]){\n",
    "            idx = 4 \n",
    "        }else if(x[4]<x[5]){\n",
    "            idx = 5\n",
    "        }else{\n",
    "            idx = 6 \n",
    "        }\n",
    "    }else{\n",
    "        if(x[7]>x[8]){\n",
    "            idx = 7 \n",
    "        }else if(x[7]<x[8]){\n",
    "            idx = 8\n",
    "        }else{\n",
    "            idx = 9 \n",
    "        }\n",
    "    }\n",
    "    return(idx)\n",
    "}"
   ]
  },
  {
   "cell_type": "code",
   "execution_count": 120,
   "id": "e39a24cf-94d4-4f56-a55f-618e92c68f8d",
   "metadata": {
    "vscode": {
     "languageId": "r"
    }
   },
   "outputs": [
    {
     "data": {
      "text/html": [
       "1"
      ],
      "text/latex": [
       "1"
      ],
      "text/markdown": [
       "1"
      ],
      "text/plain": [
       "[1] 1"
      ]
     },
     "metadata": {},
     "output_type": "display_data"
    }
   ],
   "source": [
    "solution(c(2,1,1,1,1,1,1,1,1))"
   ]
  },
  {
   "cell_type": "code",
   "execution_count": 121,
   "id": "69760874-b825-4f6a-9c3a-856c0787755e",
   "metadata": {
    "vscode": {
     "languageId": "r"
    }
   },
   "outputs": [
    {
     "data": {
      "text/html": [
       "3"
      ],
      "text/latex": [
       "3"
      ],
      "text/markdown": [
       "3"
      ],
      "text/plain": [
       "[1] 3"
      ]
     },
     "metadata": {},
     "output_type": "display_data"
    }
   ],
   "source": [
    "solution(c(2,2,5,2,2,2,2,2,2))"
   ]
  },
  {
   "cell_type": "markdown",
   "id": "21f359c0-22b1-4e10-b9f7-ff3859766754",
   "metadata": {},
   "source": [
    "`#`"
   ]
  },
  {
   "cell_type": "markdown",
   "id": "78e87b6f-f002-4c3a-8414-1eb11b787b0e",
   "metadata": {},
   "source": [
    "`# 예제 2` -- 100개의 라커 "
   ]
  },
  {
   "cell_type": "markdown",
   "id": "d9f7cff1-e949-40f5-ac12-30f7ce2165c5",
   "metadata": {},
   "source": [
    "복도에 100개의 라커가 있다. 복도를 어떤 남자가 100개의 라커 문을 전부 연다. 그리고 나서 짝수 번호의 라커를 전부 닫는다. 그 다음에는 번호가 3의 배수인 라커를 순서대로 찾아다니며 열려 있으면 닫고, 닫혀 있으면 연다. 그 다음에는 번호가 4의 배수인 라커를 순서대로 찾아다니며 열려있으면 닫고, 닫혀있으면 연다. 이후에 5의 배수, 6의 배수 .. 인 라커를 순서대로 찾아다니며 행동을 반복한다. 이런식으로 복도를 100번 지나가면 열린 라커의 문은 몇개가 되겠는가?\n",
    "\n"
   ]
  },
  {
   "cell_type": "code",
   "execution_count": null,
   "id": "0679f679-c94e-41fd-9848-36a2543a8cc4",
   "metadata": {
    "vscode": {
     "languageId": "r"
    }
   },
   "outputs": [
    {
     "data": {
      "text/plain": [
       "NULL"
      ]
     },
     "execution_count": 91,
     "metadata": {},
     "output_type": "execute_result"
    }
   ],
   "source": [
    "#     라커1 라커2 라커3 라커4 라커5 라커6  ..... 라커100 \n",
    "# 1회  열    열    열   열   열    열    ..... 열 \n",
    "# 2회  열    닫    열   닫   열    닫    ..... 닫 \n",
    "# 3회  열    닫    닫   닫   열    열    ..... 닫 \n",
    "# 4회  열    닫    닫   열   열    열    ..... 닫 \n",
    "# ...\n",
    "\n",
    "# 알고리즘 \n",
    "# 1. 100개의 TRUE가 있는 벡터를 만듦. \n",
    "# 2. 100개의 TRUE가 있는 벡터에서 2,4,6,...,100 번쨰 원소를 선택하여 그 값을 반전시킴\n",
    "# 3. 100개의 TRUE가 있는 벡터에서 3,6,9,...,99 번쨰 원소를 선택하여 그 값을 반전시킴\n",
    "# ...\n",
    "# 100. 100개의 TRUE가 있는 벡터에서 100 번쨰 원소를 선택하여 그 값을 반전시킴"
   ]
  },
  {
   "cell_type": "markdown",
   "id": "3bd0d81b-f678-47bc-8103-9f6f8706df89",
   "metadata": {},
   "source": [
    "`(예비학습)`"
   ]
  },
  {
   "cell_type": "code",
   "execution_count": 57,
   "id": "e8f555f4-dba5-4aa3-a13f-e68a2281466a",
   "metadata": {
    "vscode": {
     "languageId": "r"
    }
   },
   "outputs": [],
   "source": [
    "x = TRUE"
   ]
  },
  {
   "cell_type": "code",
   "execution_count": 58,
   "id": "09fce1b1-e13d-4c8e-b40a-b48c7e5f18aa",
   "metadata": {
    "vscode": {
     "languageId": "r"
    }
   },
   "outputs": [
    {
     "data": {
      "text/plain": [
       "[1] FALSE"
      ]
     },
     "execution_count": 58,
     "metadata": {},
     "output_type": "execute_result"
    }
   ],
   "source": [
    "!x"
   ]
  },
  {
   "cell_type": "code",
   "execution_count": 59,
   "id": "e962efa8-8233-4205-b2f6-60863375297d",
   "metadata": {
    "vscode": {
     "languageId": "r"
    }
   },
   "outputs": [],
   "source": [
    "x = c(TRUE, TRUE, FALSE)"
   ]
  },
  {
   "cell_type": "code",
   "execution_count": 61,
   "id": "8fb5cf5b-0504-4f51-9a6f-3ee91cbbfcc8",
   "metadata": {
    "vscode": {
     "languageId": "r"
    }
   },
   "outputs": [
    {
     "data": {
      "text/plain": [
       "[1] FALSE FALSE  TRUE"
      ]
     },
     "execution_count": 61,
     "metadata": {},
     "output_type": "execute_result"
    }
   ],
   "source": [
    "!x"
   ]
  },
  {
   "cell_type": "markdown",
   "id": "20c16f83-bbb6-4a68-bd94-4634f34d3f0e",
   "metadata": {},
   "source": [
    "`(풀이)`"
   ]
  },
  {
   "cell_type": "code",
   "execution_count": 92,
   "id": "7ab65c1d-ca9c-4897-b0da-927d1d6e3dd3",
   "metadata": {
    "vscode": {
     "languageId": "r"
    }
   },
   "outputs": [],
   "source": [
    "flip <- function(x){\n",
    "    !x\n",
    "}"
   ]
  },
  {
   "cell_type": "code",
   "execution_count": 93,
   "id": "ada9150b-202b-44aa-9255-1f7243af8ff5",
   "metadata": {
    "vscode": {
     "languageId": "r"
    }
   },
   "outputs": [
    {
     "data": {
      "text/plain": [
       "[1] 10"
      ]
     },
     "execution_count": 93,
     "metadata": {},
     "output_type": "execute_result"
    }
   ],
   "source": [
    "doors = rep(TRUE,100)\n",
    "for(i in 2:100){\n",
    "    doors[(1:100) %% i == 0] = flip(doors[(1:100) %% i == 0])\n",
    "}\n",
    "sum(doors)"
   ]
  },
  {
   "cell_type": "markdown",
   "id": "0ed05735-55b3-42d1-88a8-81494b90864d",
   "metadata": {},
   "source": [
    "`#`"
   ]
  },
  {
   "cell_type": "markdown",
   "id": "3659d7f7",
   "metadata": {
    "vscode": {
     "languageId": "r"
    }
   },
   "source": [
    "## 2. 숙제"
   ]
  },
  {
   "cell_type": "markdown",
   "id": "d8f196c9",
   "metadata": {},
   "source": [
    "`1` – 세 개의 공 \n",
    "\n",
    "세 개의 공이 있다. 이 중 두 개는 무게가 같고, 하나는 더 가볍다. 우리는 저울을 한 번만 사용하여 가장 가벼운 공이 위치한 index를 찾아야 한다.\n",
    "\n",
    "이 문제를 해결하는 solution 함수를 작성하라. 공들의 무게는 길이가 3인 벡터로 주어진다고 가정한다. 출력은 가장 가벼운 공의 index가 되어야 한다."
   ]
  },
  {
   "cell_type": "markdown",
   "id": "7c206d1a",
   "metadata": {
    "vscode": {
     "languageId": "r"
    }
   },
   "source": [
    "`2` - 10개의 라커\n",
    "\n",
    "복도에 10개의 라커가 있다. 복도를 어떤 남자가 10개의 라커 문을 전부 연다. 그리고 나서 짝수 번호의 라커를 전부 닫는다. 그 다음에는 번호가 3의 배수인 라커를 순서대로 찾아다니며 열려 있으면 닫고, 닫혀 있으면 연다. 그 다음에는 번호가 4의 배수인 라커를 순서대로 찾아다니며 열려있으면 닫고, 닫혀있으면 연다. 열린 라커의 문은 몇개가 되겠는가?"
   ]
  }
 ],
 "metadata": {
  "kernelspec": {
   "display_name": "R",
   "language": "R",
   "name": "ir"
  },
  "language_info": {
   "codemirror_mode": "r",
   "file_extension": ".r",
   "mimetype": "text/x-r-source",
   "name": "R",
   "pygments_lexer": "r",
   "version": "4.4.2"
  }
 },
 "nbformat": 4,
 "nbformat_minor": 5
}
