{
 "cells": [
  {
   "cell_type": "raw",
   "id": "57ce88a4-21ac-48b1-9916-235546aabd7e",
   "metadata": {
    "vscode": {
     "languageId": "raw"
    }
   },
   "source": [
    "---\n",
    "title: \"07wk-1: [Python] -- Oxford-III // 숙제\"\n",
    "author: \"최규빈\"\n",
    "date: \"04/15/2025\"\n",
    "draft: false\n",
    "---"
   ]
  },
  {
   "cell_type": "markdown",
   "id": "00921244-0b39-4e1e-8fdd-603a31579682",
   "metadata": {},
   "source": [
    "{{<video https://youtu.be/playlist?list=PLQqh36zP38-xKNrc_PYAylearTlhrP4sC&si=K8PgP8waiknpyAeh>}}"
   ]
  },
  {
   "cell_type": "markdown",
   "id": "3d981e7e-39c0-4dab-a7c9-49fc9412a800",
   "metadata": {},
   "source": [
    "## 1. Oxford-III"
   ]
  },
  {
   "cell_type": "markdown",
   "id": "e22ac3b7-edc8-4e8b-92d7-66f40377707f",
   "metadata": {},
   "source": [
    "`Oxford-III`: //\n",
    "[reference](https://www.robots.ox.ac.uk/~vgg/data/pets/)\n",
    "\n",
    "아래는 이미지 파일명들이 저장된 string을 불러오는 코드이다."
   ]
  },
  {
   "cell_type": "code",
   "execution_count": 110,
   "id": "a9d71dbf-0530-4601-a6ce-2cd0076acbe9",
   "metadata": {
    "tags": []
   },
   "outputs": [],
   "source": [
    "import requests\n",
    "url = 'https://raw.githubusercontent.com/guebin/PP2023/main/posts/01_PythonBasic/Oxford-IIIT.txt'\n",
    "txt = requests.get(url).content.decode()"
   ]
  },
  {
   "cell_type": "markdown",
   "id": "7fb46c93-d939-4dea-a82a-acaa36b6217e",
   "metadata": {},
   "source": [
    "txt의 출력 일부를 나타내면 아래와 같다.\n",
    "\n",
    "``` default\n",
    "'Abyssinian_1.jpg\\nAbyssinian_10.jpg\\nAbyssinian_100.jpg\\nAbyssinian_100.mat\\nAbyssinian_101.jpg\\nAbyssinian_101.mat\\nAbyssinian_102.jpg\\nAbyssinian_102.mat\\nAbyssinian_103.jpg\\nAbyssinian_104.jpg\\nAbyssinian_105.jpg\\nAbyssinian_106.jpg\\nAbyssinian_107.jpg\\nAbyssinian_108.jpg\\nAbyssinian_109.jpg\\nAbyssinian_11.jpg\\nAbyssinian_110.jpg\\nAbyssinian_111.jpg\\nAbyssinian_112.jpg\\nAbyssinian_113.jpg\\nAbyssinian_114.jpg\\nAbyssinian_115.jpg\\nAbyssinian_116.jpg\\nAbyssinian_117.jpg\\nAbyssinian_118.jpg\\nAbyssinian_119.jpg\\nAbyssinian_12.jpg\\nAbyssinian_120.jpg\\nAbyssinian_121.jpg\\nAbyssinian_122.jpg\\nAbyssinian_123.jpg\\nAbyssinian_124.jpg\\nAbyssinian_125.jpg\\nAbyssinian_126.jpg\\nAbyssinian_127.jpg\\nAbyssinian_128.jpg\\nAbyssinian_129.jpg\\nAbyssinian_13.jpg\\nAbyssinian_130.jpg\\nAbyssinian_131.jpg\\nAbyssinian_132.jpg\\n ....... \n",
    "```"
   ]
  },
  {
   "cell_type": "markdown",
   "id": "fbf0ca34-64ce-475a-888d-7f96871df22d",
   "metadata": {},
   "source": [
    "`(1)` 각 파일명은 `\\n`으로 구분되어있다. 위의 스트링을 분해하여 아래와 같은 리스트를 생성하고 `fname_list`에 저장하라."
   ]
  },
  {
   "cell_type": "markdown",
   "id": "c3671928-f50f-4787-aa71-ff33a7db1b2d",
   "metadata": {},
   "source": [
    "``` python\n",
    "# fname_list 의 출력결과는 아래와 같아야 한다. \n",
    "['Abyssinian_1.jpg','Abyssinian_10.jpg', ... ,'yorkshire_terrier_98.jpg', 'yorkshire_terrier_99.jpg']\n",
    "```"
   ]
  },
  {
   "cell_type": "markdown",
   "id": "180735cc-25a8-4419-9f64-3f9ec98f96fc",
   "metadata": {},
   "source": [
    "(풀이)"
   ]
  },
  {
   "cell_type": "code",
   "execution_count": null,
   "id": "342c23e2-399e-4fec-99f9-cb249bd25b3e",
   "metadata": {},
   "outputs": [],
   "source": []
  },
  {
   "cell_type": "markdown",
   "id": "1512eba5-e24e-49d4-bc00-8443ab28bf88",
   "metadata": {},
   "source": [
    "`(2)` `fname_list` 에는 총 몇개의 이미지파일명이 있는가?"
   ]
  },
  {
   "cell_type": "markdown",
   "id": "9517ae29-b785-45b2-92f8-d3b7f08d692d",
   "metadata": {},
   "source": [
    "(풀이)"
   ]
  },
  {
   "cell_type": "code",
   "execution_count": null,
   "id": "d40bc08b-3aed-4871-84e3-39ca5482db58",
   "metadata": {},
   "outputs": [],
   "source": []
  },
  {
   "cell_type": "markdown",
   "id": "500ed312-c2e2-4f49-a274-9896c032afac",
   "metadata": {},
   "source": [
    "`(3)` 각 이미지파일명은 아래와 같은 규칙으로 저장되어 있다.\n",
    "\n",
    "- 파일명의 첫글자가 대문자이면 고양이를 의미하고 첫글자가 소문자이면 강아지를 의미한다.\n",
    "\n",
    "이미지 파일명이 입력으로 오면 강아지인지 고양이인지 판단하여 'cat' or 'dog'를 리턴하는 함수 `f`를 구현하라."
   ]
  },
  {
   "cell_type": "markdown",
   "id": "8ce35628-ff07-4432-a793-7b5615742fb7",
   "metadata": {},
   "source": [
    "(함수사용예시)"
   ]
  },
  {
   "cell_type": "code",
   "execution_count": 52,
   "id": "6d3232fb-a74e-49e4-8abc-6390b1c013d0",
   "metadata": {
    "tags": []
   },
   "outputs": [
    {
     "data": {
      "text/plain": [
       "'dog'"
      ]
     },
     "execution_count": 52,
     "metadata": {},
     "output_type": "execute_result"
    }
   ],
   "source": [
    "f('yorkshire_terrier_99.jpg')"
   ]
  },
  {
   "cell_type": "code",
   "execution_count": 53,
   "id": "2936950a-75de-4bc9-b1f8-c8bd4149aceb",
   "metadata": {
    "tags": []
   },
   "outputs": [
    {
     "data": {
      "text/plain": [
       "'cat'"
      ]
     },
     "execution_count": 53,
     "metadata": {},
     "output_type": "execute_result"
    }
   ],
   "source": [
    "f('Abyssinian_1.jpg')"
   ]
  },
  {
   "cell_type": "markdown",
   "id": "549fb56b-f999-4694-a8d8-740b8da53252",
   "metadata": {},
   "source": [
    "(풀이)"
   ]
  },
  {
   "cell_type": "code",
   "execution_count": null,
   "id": "b00ff210-1f6a-4154-8007-23ad9b8b31cd",
   "metadata": {},
   "outputs": [],
   "source": []
  },
  {
   "cell_type": "code",
   "execution_count": null,
   "id": "d09e720d-4ad0-45a6-9b23-97c34f23936f",
   "metadata": {},
   "outputs": [],
   "source": []
  },
  {
   "cell_type": "markdown",
   "id": "963f13ac-7379-4d5b-86a7-d0f3a92bffca",
   "metadata": {},
   "source": [
    "`(4)` 위의 결과로 나온 `fname_list`를 입력으로 하고 리스트의 각 원소가 고양이를 의미하는 그림인지 강아지를 의미하는 그림인지 나타내는 리스트를 만들어라."
   ]
  },
  {
   "cell_type": "markdown",
   "id": "f9e76755-6ab8-4415-94e5-e715d28e20d6",
   "metadata": {},
   "source": [
    "``` python\n",
    "## 입력예시 \n",
    "['Abyssinian_1.jpg','Abyssinian_10.jpg',...,'yorkshire_terrier_98.jpg', 'yorkshire_terrier_99.jpg']\n",
    "\n",
    "## 출력예시\n",
    "['cat', 'cat', ... , 'dog', 'dog']\n",
    "```"
   ]
  },
  {
   "cell_type": "markdown",
   "id": "37913df6-f453-4175-92c0-a630cb2eb194",
   "metadata": {},
   "source": [
    "(풀이)"
   ]
  },
  {
   "cell_type": "code",
   "execution_count": null,
   "id": "bf72eed1-733c-4775-9d7a-06e9a1e2b76b",
   "metadata": {},
   "outputs": [],
   "source": []
  },
  {
   "cell_type": "code",
   "execution_count": null,
   "id": "ecf76e9e-4a67-428f-84cd-298cffb759e0",
   "metadata": {},
   "outputs": [],
   "source": []
  },
  {
   "cell_type": "code",
   "execution_count": null,
   "id": "e74fe639-593b-4cd8-81e5-46c51af3cb23",
   "metadata": {},
   "outputs": [],
   "source": []
  },
  {
   "cell_type": "markdown",
   "id": "3898316e-8583-4b5a-9765-989ec536e87f",
   "metadata": {},
   "source": [
    "`(5)` 강아지 그림과 고양이 그림이 각각 몇 장씩 포함되어 있는지 파악하는 코드를 구현하라."
   ]
  },
  {
   "cell_type": "markdown",
   "id": "a3bc6ba9-63a4-42e4-be94-97d223eef43e",
   "metadata": {},
   "source": [
    "(풀이)"
   ]
  },
  {
   "cell_type": "code",
   "execution_count": null,
   "id": "98c4edfa-d54f-497f-9784-8a2a7e8aefe6",
   "metadata": {},
   "outputs": [],
   "source": []
  },
  {
   "cell_type": "code",
   "execution_count": null,
   "id": "fdf8890b-dba9-4aa6-8cf7-6e2a589cda5e",
   "metadata": {},
   "outputs": [],
   "source": []
  },
  {
   "cell_type": "markdown",
   "id": "33f59e76-cfc9-4adf-91ee-8943df7d6e60",
   "metadata": {},
   "source": [
    "`(6)` 고양이 혹은 강아지의 각 종이 몇 장씩 포함되어있는지 구하라."
   ]
  },
  {
   "cell_type": "markdown",
   "id": "4f43116b-c954-4e97-b13e-7f7e1f6ca5ca",
   "metadata": {},
   "source": [
    "```Python\n",
    "# 출력예시\n",
    "[('havanese', 200),\n",
    " ('Abyssinian', 203),\n",
    " ('keeshond', 200),\n",
    " ('american_pit_bull_terrier', 200),\n",
    " ('pug', 200),\n",
    " ('Birman', 200),\n",
    " ('saint_bernard', 200),\n",
    " ('samoyed', 200),\n",
    " ('wheaten_terrier', 200),\n",
    " ('Ragdoll', 200),\n",
    " ('Bengal', 200),\n",
    " ('basset_hound', 200),\n",
    " ('beagle', 200),\n",
    " ('staffordshire_bull_terrier', 191),\n",
    " ('english_cocker_spaniel', 200),\n",
    " ('scottish_terrier', 199),\n",
    " ('yorkshire_terrier', 200),\n",
    " ('British_Shorthair', 200),\n",
    " ('boxer', 200),\n",
    " ('english_setter', 200),\n",
    " ('newfoundland', 200),\n",
    " ('Siamese', 200),\n",
    " ('miniature_pinscher', 200),\n",
    " ('Bombay', 200),\n",
    " ('japanese_chin', 200),\n",
    " ('Persian', 200),\n",
    " ('chihuahua', 200),\n",
    " ('Russian_Blue', 200),\n",
    " ('Maine_Coon', 200),\n",
    " ('american_bulldog', 200),\n",
    " ('leonberger', 200),\n",
    " ('german_shorthaired', 200),\n",
    " ('Sphynx', 200),\n",
    " ('shiba_inu', 200),\n",
    " ('pomeranian', 200),\n",
    " ('great_pyrenees', 200),\n",
    " ('Egyptian_Mau', 200)]\n",
    "```"
   ]
  },
  {
   "cell_type": "markdown",
   "id": "2bd98d40-9b03-4db9-8da3-3c2db3e706cd",
   "metadata": {},
   "source": [
    "(풀이)"
   ]
  },
  {
   "cell_type": "code",
   "execution_count": null,
   "id": "3b4b665f-b090-4445-a3b2-f902c9a49512",
   "metadata": {},
   "outputs": [],
   "source": []
  },
  {
   "cell_type": "markdown",
   "id": "f7cccca4-cc3c-4e10-8d48-23d3f1826e3c",
   "metadata": {},
   "source": [
    "## 2. 숙제"
   ]
  },
  {
   "cell_type": "code",
   "execution_count": 107,
   "id": "9edf56d8-1d71-488e-8a84-19779b3f6f6b",
   "metadata": {},
   "outputs": [
    {
     "data": {
      "text/plain": [
       "'saint_bernard_17.jpg\\nenglish_cocker_spaniel_15.jpg\\nEgyptian_Mau_81.jpg\\nstaffordshire_bull_terrier_149.jpg\\namerican_pit_bull_terrier_49.jpg\\nleonberger_125.jpg\\nminiature_pinscher_131.jpg\\nstaffordshire_bull_terrier_37.jpg\\namerican_bulldog_54.jpg\\nsaint_bernard_78.jpg\\nSiamese_176.jpg\\nboxer_131.jpg\\nAbyssinian_154.jpg\\nSiamese_145.jpg\\npug_77.jpg\\nbeagle_32.jpg\\nhavanese_45.jpg\\namerican_pit_bull_terrier_126.jpg\\nnewfoundland_49.jpg\\nenglish_setter_52.jpg\\nhavanese_73.jpg\\ngreat_pyrenees_131.jpg\\nBritish_Shorthair_15.jpg\\nbeagle_58.jpg\\nhavanese_175.jpg'"
      ]
     },
     "execution_count": 107,
     "metadata": {},
     "output_type": "execute_result"
    }
   ],
   "source": [
    "import requests\n",
    "import random\n",
    "url = 'https://raw.githubusercontent.com/guebin/PP2023/main/posts/01_PythonBasic/Oxford-IIIT.txt'\n",
    "fnames = requests.get(url).content.decode().split()\n",
    "random.shuffle(fnames)\n",
    "txt = \"\\n\".join(fnames[::300])\n",
    "txt"
   ]
  },
  {
   "cell_type": "markdown",
   "id": "cd27b402-60c8-4b8d-9321-d74ecd522b78",
   "metadata": {},
   "source": [
    "각 이미지파일명은 아래와 같은 규칙으로 저장되어 있다.\n",
    "\n",
    "- 각 파일명은 \\n으로 구분되어있다.\n",
    "- 파일명의 첫글자가 대문자이면 고양이를 의미하고 첫글자가 소문자이면 강아지를 의미한다.\n",
    "\n",
    "이 이미지에서 강아지는 모두 몇마리 있는가? "
   ]
  }
 ],
 "metadata": {
  "kernelspec": {
   "display_name": "Python 3 (ipykernel)",
   "language": "python",
   "name": "python3"
  },
  "language_info": {
   "codemirror_mode": {
    "name": "ipython",
    "version": 3
   },
   "file_extension": ".py",
   "mimetype": "text/x-python",
   "name": "python",
   "nbconvert_exporter": "python",
   "pygments_lexer": "ipython3",
   "version": "3.13.2"
  }
 },
 "nbformat": 4,
 "nbformat_minor": 5
}
