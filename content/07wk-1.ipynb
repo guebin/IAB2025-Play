{
 "cells": [
  {
   "cell_type": "raw",
   "id": "57ce88a4-21ac-48b1-9916-235546aabd7e",
   "metadata": {
    "vscode": {
     "languageId": "raw"
    }
   },
   "source": [
    "---\n",
    "title: \"07wk-1: [Python] -- Oxford-III, 딕셔너리\"\n",
    "author: \"최규빈\"\n",
    "date: \"04/15/2025\"\n",
    "draft: false\n",
    "---"
   ]
  },
  {
   "cell_type": "markdown",
   "id": "3d981e7e-39c0-4dab-a7c9-49fc9412a800",
   "metadata": {},
   "source": [
    "## 1. Oxford-III"
   ]
  },
  {
   "cell_type": "markdown",
   "id": "e22ac3b7-edc8-4e8b-92d7-66f40377707f",
   "metadata": {},
   "source": [
    "`Oxford-III`: //\n",
    "[reference](https://www.robots.ox.ac.uk/~vgg/data/pets/)\n",
    "\n",
    "아래는 이미지 파일명들이 저장된 string을 불러오는 코드이다."
   ]
  },
  {
   "cell_type": "code",
   "execution_count": 55,
   "id": "a9d71dbf-0530-4601-a6ce-2cd0076acbe9",
   "metadata": {
    "tags": []
   },
   "outputs": [],
   "source": [
    "import requests\n",
    "url = 'https://raw.githubusercontent.com/guebin/PP2023/main/posts/01_PythonBasic/Oxford-IIIT.txt'\n",
    "txt = requests.get(url).content.decode()"
   ]
  },
  {
   "cell_type": "markdown",
   "id": "7fb46c93-d939-4dea-a82a-acaa36b6217e",
   "metadata": {},
   "source": [
    "txt의 출력 일부를 나타내면 아래와 같다.\n",
    "\n",
    "``` default\n",
    "'Abyssinian_1.jpg\\nAbyssinian_10.jpg\\nAbyssinian_100.jpg\\nAbyssinian_100.mat\\nAbyssinian_101.jpg\\nAbyssinian_101.mat\\nAbyssinian_102.jpg\\nAbyssinian_102.mat\\nAbyssinian_103.jpg\\nAbyssinian_104.jpg\\nAbyssinian_105.jpg\\nAbyssinian_106.jpg\\nAbyssinian_107.jpg\\nAbyssinian_108.jpg\\nAbyssinian_109.jpg\\nAbyssinian_11.jpg\\nAbyssinian_110.jpg\\nAbyssinian_111.jpg\\nAbyssinian_112.jpg\\nAbyssinian_113.jpg\\nAbyssinian_114.jpg\\nAbyssinian_115.jpg\\nAbyssinian_116.jpg\\nAbyssinian_117.jpg\\nAbyssinian_118.jpg\\nAbyssinian_119.jpg\\nAbyssinian_12.jpg\\nAbyssinian_120.jpg\\nAbyssinian_121.jpg\\nAbyssinian_122.jpg\\nAbyssinian_123.jpg\\nAbyssinian_124.jpg\\nAbyssinian_125.jpg\\nAbyssinian_126.jpg\\nAbyssinian_127.jpg\\nAbyssinian_128.jpg\\nAbyssinian_129.jpg\\nAbyssinian_13.jpg\\nAbyssinian_130.jpg\\nAbyssinian_131.jpg\\nAbyssinian_132.jpg\\n ....... \n",
    "```"
   ]
  },
  {
   "cell_type": "markdown",
   "id": "fbf0ca34-64ce-475a-888d-7f96871df22d",
   "metadata": {},
   "source": [
    "`(1)` 각 파일명은 `\\n`으로 구분되어있다. 위의 스트링을 분해하여 아래와 같은 리스트를 생성하고 `fname_list`에 저장하라."
   ]
  },
  {
   "cell_type": "markdown",
   "id": "c3671928-f50f-4787-aa71-ff33a7db1b2d",
   "metadata": {},
   "source": [
    "``` python\n",
    "# fname_list 의 출력결과는 아래와 같아야 한다. \n",
    "['Abyssinian_1.jpg','Abyssinian_10.jpg', ... ,'yorkshire_terrier_98.jpg', 'yorkshire_terrier_99.jpg']\n",
    "```"
   ]
  },
  {
   "cell_type": "markdown",
   "id": "180735cc-25a8-4419-9f64-3f9ec98f96fc",
   "metadata": {},
   "source": [
    "(풀이)"
   ]
  },
  {
   "cell_type": "code",
   "execution_count": null,
   "id": "342c23e2-399e-4fec-99f9-cb249bd25b3e",
   "metadata": {},
   "outputs": [],
   "source": []
  },
  {
   "cell_type": "code",
   "execution_count": null,
   "id": "34620ac2-7744-421f-a2c0-0f05e200f29c",
   "metadata": {},
   "outputs": [],
   "source": []
  },
  {
   "cell_type": "markdown",
   "id": "1512eba5-e24e-49d4-bc00-8443ab28bf88",
   "metadata": {},
   "source": [
    "`(2)` `fname_list` 에는 총 몇개의 이미지파일명이 있는가?"
   ]
  },
  {
   "cell_type": "markdown",
   "id": "9517ae29-b785-45b2-92f8-d3b7f08d692d",
   "metadata": {},
   "source": [
    "(풀이)"
   ]
  },
  {
   "cell_type": "code",
   "execution_count": null,
   "id": "d40bc08b-3aed-4871-84e3-39ca5482db58",
   "metadata": {},
   "outputs": [],
   "source": []
  },
  {
   "cell_type": "markdown",
   "id": "500ed312-c2e2-4f49-a274-9896c032afac",
   "metadata": {},
   "source": [
    "`(3)` 각 이미지파일명은 아래와 같은 규칙으로 저장되어 있다.\n",
    "\n",
    "- 파일명의 첫글자가 대문자이면 고양이를 의미하고 첫글자가 소문자이면 강아지를 의미한다.\n",
    "\n",
    "이미지 파일명이 입력으로 오면 강아지인지 고양이인지 판단하여 ‘cat’ or ’dog’를 리턴하는 함수 `f`를 구현하라."
   ]
  },
  {
   "cell_type": "markdown",
   "id": "8ce35628-ff07-4432-a793-7b5615742fb7",
   "metadata": {},
   "source": [
    "(함수사용예시)"
   ]
  },
  {
   "cell_type": "code",
   "execution_count": 52,
   "id": "6d3232fb-a74e-49e4-8abc-6390b1c013d0",
   "metadata": {
    "tags": []
   },
   "outputs": [
    {
     "data": {
      "text/plain": [
       "'dog'"
      ]
     },
     "execution_count": 52,
     "metadata": {},
     "output_type": "execute_result"
    }
   ],
   "source": [
    "f('yorkshire_terrier_99.jpg')"
   ]
  },
  {
   "cell_type": "code",
   "execution_count": 53,
   "id": "2936950a-75de-4bc9-b1f8-c8bd4149aceb",
   "metadata": {
    "tags": []
   },
   "outputs": [
    {
     "data": {
      "text/plain": [
       "'cat'"
      ]
     },
     "execution_count": 53,
     "metadata": {},
     "output_type": "execute_result"
    }
   ],
   "source": [
    "f('Abyssinian_1.jpg')"
   ]
  },
  {
   "cell_type": "markdown",
   "id": "549fb56b-f999-4694-a8d8-740b8da53252",
   "metadata": {},
   "source": [
    "(풀이)"
   ]
  },
  {
   "cell_type": "code",
   "execution_count": null,
   "id": "b00ff210-1f6a-4154-8007-23ad9b8b31cd",
   "metadata": {},
   "outputs": [],
   "source": []
  },
  {
   "cell_type": "code",
   "execution_count": null,
   "id": "d09e720d-4ad0-45a6-9b23-97c34f23936f",
   "metadata": {},
   "outputs": [],
   "source": []
  },
  {
   "cell_type": "markdown",
   "id": "963f13ac-7379-4d5b-86a7-d0f3a92bffca",
   "metadata": {},
   "source": [
    "`(4)` 위의 결과로 나온 `fname_list`를 입력으로 하고 리스트의 각 원소가 고양이를 의미하는 그림인지 강아지를 의미하는 그림인지 나타내는 리스트를 만들어라."
   ]
  },
  {
   "cell_type": "markdown",
   "id": "f9e76755-6ab8-4415-94e5-e715d28e20d6",
   "metadata": {},
   "source": [
    "``` python\n",
    "## 입력예시 \n",
    "['Abyssinian_1.jpg','Abyssinian_10.jpg',...,'yorkshire_terrier_98.jpg', 'yorkshire_terrier_99.jpg']\n",
    "\n",
    "## 출력예시\n",
    "['cat', 'cat', ... , 'dog', 'dog']\n",
    "```"
   ]
  },
  {
   "cell_type": "markdown",
   "id": "37913df6-f453-4175-92c0-a630cb2eb194",
   "metadata": {},
   "source": [
    "(풀이)"
   ]
  },
  {
   "cell_type": "code",
   "execution_count": null,
   "id": "2b193906-2ff8-43a1-a9ae-b71905603607",
   "metadata": {},
   "outputs": [],
   "source": []
  },
  {
   "cell_type": "markdown",
   "id": "3898316e-8583-4b5a-9765-989ec536e87f",
   "metadata": {},
   "source": [
    "`(5)` 강아지 그림과 고양이 그림이 각각 몇 장씩 포함되어 있는지 파악하는 코드를 구현하라."
   ]
  },
  {
   "cell_type": "markdown",
   "id": "a3bc6ba9-63a4-42e4-be94-97d223eef43e",
   "metadata": {},
   "source": [
    "(풀이)"
   ]
  },
  {
   "cell_type": "code",
   "execution_count": null,
   "id": "25328f4b-bcf6-4b86-97a2-55ee8d767a7a",
   "metadata": {},
   "outputs": [],
   "source": []
  },
  {
   "cell_type": "code",
   "execution_count": null,
   "id": "e9bb9cfe-afca-41fd-9b99-690087b822f7",
   "metadata": {},
   "outputs": [],
   "source": []
  },
  {
   "cell_type": "markdown",
   "id": "33f59e76-cfc9-4adf-91ee-8943df7d6e60",
   "metadata": {},
   "source": [
    "`(6)` 고양이 혹은 강아지의 각 종이 몇 장씩 포함되어있는지 구하라."
   ]
  },
  {
   "cell_type": "markdown",
   "id": "4f43116b-c954-4e97-b13e-7f7e1f6ca5ca",
   "metadata": {},
   "source": [
    "```Python\n",
    "# 출력예시\n",
    "[('havanese', 200),\n",
    " ('Abyssinian', 203),\n",
    " ('keeshond', 200),\n",
    " ('american_pit_bull_terrier', 200),\n",
    " ('pug', 200),\n",
    " ('Birman', 200),\n",
    " ('saint_bernard', 200),\n",
    " ('samoyed', 200),\n",
    " ('wheaten_terrier', 200),\n",
    " ('Ragdoll', 200),\n",
    " ('Bengal', 200),\n",
    " ('basset_hound', 200),\n",
    " ('beagle', 200),\n",
    " ('staffordshire_bull_terrier', 191),\n",
    " ('english_cocker_spaniel', 200),\n",
    " ('scottish_terrier', 199),\n",
    " ('yorkshire_terrier', 200),\n",
    " ('British_Shorthair', 200),\n",
    " ('boxer', 200),\n",
    " ('english_setter', 200),\n",
    " ('newfoundland', 200),\n",
    " ('Siamese', 200),\n",
    " ('miniature_pinscher', 200),\n",
    " ('Bombay', 200),\n",
    " ('japanese_chin', 200),\n",
    " ('Persian', 200),\n",
    " ('chihuahua', 200),\n",
    " ('Russian_Blue', 200),\n",
    " ('Maine_Coon', 200),\n",
    " ('american_bulldog', 200),\n",
    " ('leonberger', 200),\n",
    " ('german_shorthaired', 200),\n",
    " ('Sphynx', 200),\n",
    " ('shiba_inu', 200),\n",
    " ('pomeranian', 200),\n",
    " ('great_pyrenees', 200),\n",
    " ('Egyptian_Mau', 200)]\n",
    "```"
   ]
  },
  {
   "cell_type": "markdown",
   "id": "2bd98d40-9b03-4db9-8da3-3c2db3e706cd",
   "metadata": {},
   "source": [
    "(풀이)"
   ]
  },
  {
   "cell_type": "code",
   "execution_count": null,
   "id": "3b4b665f-b090-4445-a3b2-f902c9a49512",
   "metadata": {},
   "outputs": [],
   "source": []
  },
  {
   "cell_type": "code",
   "execution_count": null,
   "id": "7ed3ef87-a99a-44c7-aa4b-d6a0bff286b3",
   "metadata": {},
   "outputs": [],
   "source": []
  },
  {
   "cell_type": "markdown",
   "id": "24728fa0-de38-4ce4-80f4-4dd3c7d9ef51",
   "metadata": {
    "tags": []
   },
   "source": [
    "## 2. 딕셔너리"
   ]
  },
  {
   "cell_type": "markdown",
   "id": "ced52fbf-4cfb-4729-91ab-a6fac1590242",
   "metadata": {},
   "source": [
    "### A. 선언 "
   ]
  },
  {
   "cell_type": "markdown",
   "id": "d6d94a2e-5639-4212-beae-6062f6f99a54",
   "metadata": {},
   "source": [
    "`-` 방법1: 가장 일반적 "
   ]
  },
  {
   "cell_type": "code",
   "execution_count": 1,
   "id": "55dc0758-d11c-4502-bcab-a6a24fe1d8bc",
   "metadata": {},
   "outputs": [
    {
     "data": {
      "text/plain": [
       "{'guebin': 49, 'hanni': 80}"
      ]
     },
     "execution_count": 1,
     "metadata": {},
     "output_type": "execute_result"
    }
   ],
   "source": [
    "dct = {'guebin':49, 'hanni':80}\n",
    "dct"
   ]
  },
  {
   "cell_type": "markdown",
   "id": "d71ed46a-3278-4ba3-9882-d44418549f09",
   "metadata": {},
   "source": [
    "`-` 방법2: `dict()` 이용 "
   ]
  },
  {
   "cell_type": "code",
   "execution_count": 2,
   "id": "5febe8ee-cdd4-4eb7-9dbf-d19dbc238d7d",
   "metadata": {},
   "outputs": [
    {
     "data": {
      "text/plain": [
       "{'guebin': 49, 'hanni': 80}"
      ]
     },
     "execution_count": 2,
     "metadata": {},
     "output_type": "execute_result"
    }
   ],
   "source": [
    "dct = dict(guebin=49, hanni=80)\n",
    "dct"
   ]
  },
  {
   "cell_type": "markdown",
   "id": "32b1827f-e373-4831-be84-893358b56ac4",
   "metadata": {},
   "source": [
    "`-` 방법3: 중첩된 리스트를 만든 뒤에 형태변환 "
   ]
  },
  {
   "cell_type": "code",
   "execution_count": 3,
   "id": "fec5e49b-fef4-4290-8abe-2621ef7e4f3b",
   "metadata": {},
   "outputs": [
    {
     "data": {
      "text/plain": [
       "[['guebin', 49], ['hanni', 80]]"
      ]
     },
     "execution_count": 3,
     "metadata": {},
     "output_type": "execute_result"
    }
   ],
   "source": [
    "_lst = [['guebin',49],['hanni',80]]\n",
    "_lst "
   ]
  },
  {
   "cell_type": "code",
   "execution_count": 4,
   "id": "e7fc40ef-6b41-4683-bc7d-61af3dce0c82",
   "metadata": {},
   "outputs": [
    {
     "data": {
      "text/plain": [
       "{'guebin': 49, 'hanni': 80}"
      ]
     },
     "execution_count": 4,
     "metadata": {},
     "output_type": "execute_result"
    }
   ],
   "source": [
    "dict(_lst)"
   ]
  },
  {
   "cell_type": "markdown",
   "id": "e367e925-f5b6-4cf9-b9df-b50f1af9ce9e",
   "metadata": {},
   "source": [
    "`-` 방법4: 중첩된 튜플을 만든 뒤에 형태변환 "
   ]
  },
  {
   "cell_type": "code",
   "execution_count": 5,
   "id": "1438bc72-f90c-404f-80e6-71e402579c46",
   "metadata": {},
   "outputs": [
    {
     "data": {
      "text/plain": [
       "(('guebin', 49), ('hanni', 80))"
      ]
     },
     "execution_count": 5,
     "metadata": {},
     "output_type": "execute_result"
    }
   ],
   "source": [
    "_tpl = ('guebin',49), ('hanni',80)\n",
    "_tpl"
   ]
  },
  {
   "cell_type": "code",
   "execution_count": 6,
   "id": "6f9eec27-4ad3-4631-8af7-21345674de77",
   "metadata": {},
   "outputs": [
    {
     "data": {
      "text/plain": [
       "{'guebin': 49, 'hanni': 80}"
      ]
     },
     "execution_count": 6,
     "metadata": {},
     "output_type": "execute_result"
    }
   ],
   "source": [
    "dict(_tpl)"
   ]
  },
  {
   "cell_type": "markdown",
   "id": "ead51171-2333-4f24-aab9-e067d31966d4",
   "metadata": {},
   "source": [
    "### B. 원소추출 "
   ]
  },
  {
   "cell_type": "markdown",
   "id": "18ab3328-6ab0-46e9-8b50-06b683b90521",
   "metadata": {},
   "source": [
    "`-` 원소의 위치로 추출할 수 없고, key로 추출해야 한다. "
   ]
  },
  {
   "cell_type": "code",
   "execution_count": 7,
   "id": "6d3222bc-709f-4d64-91ba-5d00b57641cf",
   "metadata": {},
   "outputs": [
    {
     "data": {
      "text/plain": [
       "{'guebin': 49, 'hanni': 80}"
      ]
     },
     "execution_count": 7,
     "metadata": {},
     "output_type": "execute_result"
    }
   ],
   "source": [
    "dct = {'guebin':49, 'hanni':80}\n",
    "dct"
   ]
  },
  {
   "cell_type": "markdown",
   "id": "64f6595b-95a2-4db3-9e64-bd4fe5f3a72b",
   "metadata": {},
   "source": [
    "guebin의 점수를 추출하고 싶다면? "
   ]
  },
  {
   "cell_type": "code",
   "execution_count": 8,
   "id": "df7079e7-b0dc-4704-b786-355f9f749b4b",
   "metadata": {},
   "outputs": [
    {
     "data": {
      "text/plain": [
       "49"
      ]
     },
     "execution_count": 8,
     "metadata": {},
     "output_type": "execute_result"
    }
   ],
   "source": [
    "dct['guebin']"
   ]
  },
  {
   "cell_type": "markdown",
   "id": "7412b5f9-0ab2-41d5-a7cb-d76bc13e5fed",
   "metadata": {},
   "source": [
    "`-` 만약에 dict가 아니라 list로 정보를 저장했다면? "
   ]
  },
  {
   "cell_type": "markdown",
   "id": "ac030790-95c8-40a6-a745-6cd3ebd595a8",
   "metadata": {},
   "source": [
    "(예제) 아래와 같은 리스트에서 guebin의 점수를 추출하고 싶다면? "
   ]
  },
  {
   "cell_type": "code",
   "execution_count": 9,
   "id": "3cde2d41-d7cd-485f-81fc-6b910efb8b6e",
   "metadata": {},
   "outputs": [
    {
     "data": {
      "text/plain": [
       "[['guebin', 49], ['hanni', 80]]"
      ]
     },
     "execution_count": 9,
     "metadata": {},
     "output_type": "execute_result"
    }
   ],
   "source": [
    "lst=[['guebin',49],['hanni',80]]\n",
    "lst"
   ]
  },
  {
   "cell_type": "markdown",
   "id": "89843b59-abe7-4904-b508-bd5ff961fbdc",
   "metadata": {},
   "source": [
    "(풀이1)"
   ]
  },
  {
   "cell_type": "code",
   "execution_count": 10,
   "id": "3f56e091-4a98-4336-beaf-42215af05784",
   "metadata": {},
   "outputs": [
    {
     "data": {
      "text/plain": [
       "49"
      ]
     },
     "execution_count": 10,
     "metadata": {},
     "output_type": "execute_result"
    }
   ],
   "source": [
    "lst[0][1] # guebin의 점수를 출력하란 의미"
   ]
  },
  {
   "cell_type": "markdown",
   "id": "fe70c96b-c75e-4c2e-8f14-0540e0063537",
   "metadata": {},
   "source": [
    "(풀이2) -- 진짜 최악"
   ]
  },
  {
   "cell_type": "code",
   "execution_count": 11,
   "id": "8f27e3af-948c-4c2c-b064-c8176c544eb9",
   "metadata": {},
   "outputs": [
    {
     "data": {
      "text/plain": [
       "[49]"
      ]
     },
     "execution_count": 11,
     "metadata": {},
     "output_type": "execute_result"
    }
   ],
   "source": [
    "[lst[i][1] for i in range(len(lst)) if lst[i][0] == 'guebin']"
   ]
  },
  {
   "cell_type": "markdown",
   "id": "691fe2ae-08f7-4a5a-b27b-47868253fbd4",
   "metadata": {},
   "source": [
    "(풀이3) -- 덜 최악"
   ]
  },
  {
   "cell_type": "code",
   "execution_count": 12,
   "id": "a7d485e3-26fb-4a5a-b99d-d9f8f0561e57",
   "metadata": {},
   "outputs": [
    {
     "data": {
      "text/plain": [
       "[49]"
      ]
     },
     "execution_count": 12,
     "metadata": {},
     "output_type": "execute_result"
    }
   ],
   "source": [
    "[score for name,score in lst if name == 'guebin']"
   ]
  },
  {
   "cell_type": "markdown",
   "id": "2494d4ff-b32b-4357-8e2c-e5547d16ffb8",
   "metadata": {},
   "source": [
    "`-` 'guebin'의 점수를 추출하는 코드 비교 "
   ]
  },
  {
   "cell_type": "code",
   "execution_count": 13,
   "id": "8e74e45c-b8d7-4025-9d01-630edc480e54",
   "metadata": {},
   "outputs": [
    {
     "data": {
      "text/plain": [
       "49"
      ]
     },
     "execution_count": 13,
     "metadata": {},
     "output_type": "execute_result"
    }
   ],
   "source": [
    "dct['guebin'] # 코드1: 단순하고, 가독성있음"
   ]
  },
  {
   "cell_type": "code",
   "execution_count": 14,
   "id": "2c318702-3e56-4a14-9c2c-266b576b03f9",
   "metadata": {},
   "outputs": [
    {
     "data": {
      "text/plain": [
       "49"
      ]
     },
     "execution_count": 14,
     "metadata": {},
     "output_type": "execute_result"
    }
   ],
   "source": [
    "lst[0][1] # 코드2: 단순하지만, 가독성이 있는건 아님"
   ]
  },
  {
   "cell_type": "code",
   "execution_count": 15,
   "id": "63b312f2-e7f9-4579-b801-efbe8a40218c",
   "metadata": {},
   "outputs": [
    {
     "data": {
      "text/plain": [
       "[49]"
      ]
     },
     "execution_count": 15,
     "metadata": {},
     "output_type": "execute_result"
    }
   ],
   "source": [
    "[lst[i][1] for i in range(len(lst)) if lst[i][0] =='guebin'] # 코드3: 단순하지도 않고, 가독성도 없음."
   ]
  },
  {
   "cell_type": "code",
   "execution_count": 16,
   "id": "e6be9770-96d7-4550-902e-5c51e91ec225",
   "metadata": {},
   "outputs": [
    {
     "data": {
      "text/plain": [
       "[49]"
      ]
     },
     "execution_count": 16,
     "metadata": {},
     "output_type": "execute_result"
    }
   ],
   "source": [
    "[score for name,score in lst if name=='guebin' ] # 코드4: 단순하지 않지만, 가독성은 있음"
   ]
  },
  {
   "cell_type": "markdown",
   "id": "3fefb758-13e0-4516-8a5d-92b314ddb671",
   "metadata": {},
   "source": [
    "### C. 원소추가, 변경, 삭제"
   ]
  },
  {
   "cell_type": "code",
   "execution_count": 17,
   "id": "1b80f180-9c53-411f-884d-1877d449b9b5",
   "metadata": {},
   "outputs": [
    {
     "data": {
      "text/plain": [
       "{'guebin': 49, 'hanni': 80}"
      ]
     },
     "execution_count": 17,
     "metadata": {},
     "output_type": "execute_result"
    }
   ],
   "source": [
    "dct={'guebin':49, 'hanni':80}\n",
    "dct"
   ]
  },
  {
   "cell_type": "markdown",
   "id": "64aca374-eccc-4174-b32f-3e3033817f38",
   "metadata": {},
   "source": [
    "`-` 원소에 접근: guebin의 점수 출력"
   ]
  },
  {
   "cell_type": "code",
   "execution_count": 18,
   "id": "ae385e25-cfb4-4e1b-9c85-6ee1f9ed4c5d",
   "metadata": {},
   "outputs": [
    {
     "data": {
      "text/plain": [
       "49"
      ]
     },
     "execution_count": 18,
     "metadata": {},
     "output_type": "execute_result"
    }
   ],
   "source": [
    "dct['guebin']"
   ]
  },
  {
   "cell_type": "markdown",
   "id": "d1f13203-00bc-4d01-8b06-8001f277c079",
   "metadata": {},
   "source": [
    "`-` 추가: hynn학생의 점수를 추가"
   ]
  },
  {
   "cell_type": "code",
   "execution_count": 19,
   "id": "714ec0a2-599b-4856-a4d5-8daa6e6076c8",
   "metadata": {},
   "outputs": [],
   "source": [
    "dct['hynn'] = 99"
   ]
  },
  {
   "cell_type": "code",
   "execution_count": 20,
   "id": "f3e13eba-ee90-4a6e-b13e-05befd792a19",
   "metadata": {},
   "outputs": [
    {
     "data": {
      "text/plain": [
       "{'guebin': 49, 'hanni': 80, 'hynn': 99}"
      ]
     },
     "execution_count": 20,
     "metadata": {},
     "output_type": "execute_result"
    }
   ],
   "source": [
    "dct"
   ]
  },
  {
   "cell_type": "markdown",
   "id": "240d0124-1acf-4fb6-8e09-bbf9f6c53972",
   "metadata": {},
   "source": [
    "`-` 변경: hanni의 점수를 변경 "
   ]
  },
  {
   "cell_type": "code",
   "execution_count": 21,
   "id": "e34f201e-f496-4aa3-bbc4-41a21a2af40e",
   "metadata": {},
   "outputs": [],
   "source": [
    "dct['hanni'] = 100 "
   ]
  },
  {
   "cell_type": "code",
   "execution_count": 22,
   "id": "2614f49f-2bf4-4076-8d92-b9b090070aea",
   "metadata": {},
   "outputs": [
    {
     "data": {
      "text/plain": [
       "{'guebin': 49, 'hanni': 100, 'hynn': 99}"
      ]
     },
     "execution_count": 22,
     "metadata": {},
     "output_type": "execute_result"
    }
   ],
   "source": [
    "dct"
   ]
  },
  {
   "cell_type": "markdown",
   "id": "0a505373-4017-4810-9276-7f7a4a36fce7",
   "metadata": {},
   "source": [
    "### D. 연산 "
   ]
  },
  {
   "cell_type": "markdown",
   "id": "340ce484-e13f-4b76-8758-17e3a4a1be23",
   "metadata": {},
   "source": [
    "`-` in연산 정도만 기억해도 좋음"
   ]
  },
  {
   "cell_type": "code",
   "execution_count": 25,
   "id": "0d039cb2-8aad-4bc0-81f2-e556de875e07",
   "metadata": {},
   "outputs": [
    {
     "data": {
      "text/plain": [
       "{'guebin': 49, 'hanni': 80}"
      ]
     },
     "execution_count": 25,
     "metadata": {},
     "output_type": "execute_result"
    }
   ],
   "source": [
    "dct = {'guebin':49, 'hanni':80} \n",
    "dct"
   ]
  },
  {
   "cell_type": "code",
   "execution_count": 26,
   "id": "d9ca34ee-a184-4ae1-b69a-dd69013f799c",
   "metadata": {},
   "outputs": [
    {
     "data": {
      "text/plain": [
       "True"
      ]
     },
     "execution_count": 26,
     "metadata": {},
     "output_type": "execute_result"
    }
   ],
   "source": [
    "'guebin' in dct"
   ]
  },
  {
   "cell_type": "code",
   "execution_count": 27,
   "id": "c86be92d-a4c7-47e0-bba3-a6b40b254ee9",
   "metadata": {},
   "outputs": [
    {
     "data": {
      "text/plain": [
       "True"
      ]
     },
     "execution_count": 27,
     "metadata": {},
     "output_type": "execute_result"
    }
   ],
   "source": [
    "'hanni' in dct"
   ]
  },
  {
   "cell_type": "code",
   "execution_count": 28,
   "id": "977dd5a6-1bc0-4b4b-8a00-cff154b630ad",
   "metadata": {},
   "outputs": [
    {
     "data": {
      "text/plain": [
       "False"
      ]
     },
     "execution_count": 28,
     "metadata": {},
     "output_type": "execute_result"
    }
   ],
   "source": [
    "'hynn' in dct"
   ]
  },
  {
   "cell_type": "markdown",
   "id": "e4b4b39d-eacb-4bbc-993f-d3a9aa1544c0",
   "metadata": {},
   "source": [
    "`-` in은 사실 다른자료형도 가능했음 "
   ]
  },
  {
   "cell_type": "markdown",
   "id": "2156c563-af40-433a-a16e-5b7e5cfe5355",
   "metadata": {},
   "source": [
    "(관찰1)"
   ]
  },
  {
   "cell_type": "code",
   "execution_count": 29,
   "id": "8573601c-8f74-4603-a329-2c4f4efe3fd6",
   "metadata": {},
   "outputs": [
    {
     "data": {
      "text/plain": [
       "False"
      ]
     },
     "execution_count": 29,
     "metadata": {},
     "output_type": "execute_result"
    }
   ],
   "source": [
    "'a' in 'guebin' "
   ]
  },
  {
   "cell_type": "code",
   "execution_count": 30,
   "id": "6ddb7895-8e58-404c-8dbe-03d45a31847e",
   "metadata": {},
   "outputs": [
    {
     "data": {
      "text/plain": [
       "True"
      ]
     },
     "execution_count": 30,
     "metadata": {},
     "output_type": "execute_result"
    }
   ],
   "source": [
    "'b' in 'guebin' "
   ]
  },
  {
   "cell_type": "code",
   "execution_count": 31,
   "id": "4dcb4047-4af6-471a-beaf-6d3b0ee63f40",
   "metadata": {},
   "outputs": [
    {
     "data": {
      "text/plain": [
       "False"
      ]
     },
     "execution_count": 31,
     "metadata": {},
     "output_type": "execute_result"
    }
   ],
   "source": [
    "'c' in 'guebin' "
   ]
  },
  {
   "cell_type": "markdown",
   "id": "5d0d394b-be97-4ce7-9c8b-e600f86ba3f5",
   "metadata": {},
   "source": [
    "(관찰2)"
   ]
  },
  {
   "cell_type": "code",
   "execution_count": 155,
   "id": "c3b33cd0-8f18-4ade-9a27-18b3721bd89f",
   "metadata": {},
   "outputs": [
    {
     "data": {
      "text/plain": [
       "(1, 2, 3)"
      ]
     },
     "execution_count": 155,
     "metadata": {},
     "output_type": "execute_result"
    }
   ],
   "source": [
    "tpl = 1,2,3 \n",
    "tpl"
   ]
  },
  {
   "cell_type": "code",
   "execution_count": 156,
   "id": "dea8e8de-6d7a-4bbb-9424-328675d24b46",
   "metadata": {},
   "outputs": [
    {
     "data": {
      "text/plain": [
       "True"
      ]
     },
     "execution_count": 156,
     "metadata": {},
     "output_type": "execute_result"
    }
   ],
   "source": [
    "1 in tpl"
   ]
  },
  {
   "cell_type": "code",
   "execution_count": 157,
   "id": "62a314e1-f94c-4b0a-84e1-3d724aa1d1fe",
   "metadata": {},
   "outputs": [
    {
     "data": {
      "text/plain": [
       "False"
      ]
     },
     "execution_count": 157,
     "metadata": {},
     "output_type": "execute_result"
    }
   ],
   "source": [
    "4 in tpl"
   ]
  },
  {
   "cell_type": "markdown",
   "id": "54beb0a1-027c-4af0-9fac-54213b0f035c",
   "metadata": {},
   "source": [
    "(관찰3)"
   ]
  },
  {
   "cell_type": "code",
   "execution_count": 135,
   "id": "a5441443-7870-45e7-87b6-cbd4aa71ed26",
   "metadata": {},
   "outputs": [
    {
     "data": {
      "text/plain": [
       "[['guebin', 49], ['hanni', 80], ['hynn', 99]]"
      ]
     },
     "execution_count": 135,
     "metadata": {},
     "output_type": "execute_result"
    }
   ],
   "source": [
    "lst = [['guebin',49],['hanni',80],['hynn',99]] \n",
    "lst"
   ]
  },
  {
   "cell_type": "code",
   "execution_count": 158,
   "id": "810e7192-94f2-4d03-887b-b8ac9e363233",
   "metadata": {},
   "outputs": [
    {
     "data": {
      "text/plain": [
       "True"
      ]
     },
     "execution_count": 158,
     "metadata": {},
     "output_type": "execute_result"
    }
   ],
   "source": [
    "['guebin',49] in lst"
   ]
  },
  {
   "cell_type": "markdown",
   "id": "b1b60b53-a2e0-438c-8999-f9d52340b8a4",
   "metadata": {},
   "source": [
    "`-` in연산자가 dict형에 사용되면 key를 기준으로 True, False를 판단한다. "
   ]
  },
  {
   "cell_type": "markdown",
   "id": "60396d44-0af9-42bb-b8d8-0e88288ff40d",
   "metadata": {},
   "source": [
    "### E. 딕셔너리 특수기능 "
   ]
  },
  {
   "cell_type": "markdown",
   "id": "df859033-a041-4818-b445-df2cdc49e28f",
   "metadata": {},
   "source": [
    "**(pop)**"
   ]
  },
  {
   "cell_type": "code",
   "execution_count": 164,
   "id": "f4f15679-6eec-4028-8e3a-c365f4075363",
   "metadata": {},
   "outputs": [
    {
     "data": {
      "text/plain": [
       "{'guebin': 49}"
      ]
     },
     "execution_count": 164,
     "metadata": {},
     "output_type": "execute_result"
    }
   ],
   "source": [
    "dct = {'guebin':49, 'hanni':80} \n",
    "dct.pop('hanni')\n",
    "dct"
   ]
  },
  {
   "cell_type": "markdown",
   "id": "0185e8c2-5bc9-49cd-92bd-a22ec83dc8a0",
   "metadata": {},
   "source": [
    "**(get)**"
   ]
  },
  {
   "cell_type": "code",
   "execution_count": 165,
   "id": "c334c2fc-a1a4-4506-bfa6-6080c84621ca",
   "metadata": {},
   "outputs": [
    {
     "data": {
      "text/plain": [
       "{'guebin': 49, 'hanni': 80}"
      ]
     },
     "execution_count": 165,
     "metadata": {},
     "output_type": "execute_result"
    }
   ],
   "source": [
    "dct = {'guebin':49, 'hanni':80} \n",
    "dct"
   ]
  },
  {
   "cell_type": "code",
   "execution_count": 149,
   "id": "b7d46a09-8390-42ea-8c84-1c85d65eed6f",
   "metadata": {},
   "outputs": [
    {
     "data": {
      "text/plain": [
       "49"
      ]
     },
     "execution_count": 149,
     "metadata": {},
     "output_type": "execute_result"
    }
   ],
   "source": [
    "dct.get('guebin') "
   ]
  },
  {
   "cell_type": "markdown",
   "id": "7a74af05-4b1c-415e-83d6-40f21ed6bdc7",
   "metadata": {},
   "source": [
    "아래와 같은 기능 "
   ]
  },
  {
   "cell_type": "code",
   "execution_count": 150,
   "id": "200195d2-b5e9-4c6c-a5f8-9ea5a3dd4d78",
   "metadata": {},
   "outputs": [
    {
     "data": {
      "text/plain": [
       "49"
      ]
     },
     "execution_count": 150,
     "metadata": {},
     "output_type": "execute_result"
    }
   ],
   "source": [
    "dct['guebin']"
   ]
  },
  {
   "cell_type": "markdown",
   "id": "d851b3ff-167a-48ba-8c4e-a1ae4325d3dd",
   "metadata": {},
   "source": [
    "미묘한 차이점이 존재함 "
   ]
  },
  {
   "cell_type": "code",
   "execution_count": 151,
   "id": "962da2c4-1b6e-47e9-b48f-afaabfab3117",
   "metadata": {},
   "outputs": [
    {
     "ename": "KeyError",
     "evalue": "'hynn'",
     "output_type": "error",
     "traceback": [
      "\u001b[0;31m---------------------------------------------------------------------------\u001b[0m",
      "\u001b[0;31mKeyError\u001b[0m                                  Traceback (most recent call last)",
      "Cell \u001b[0;32mIn[151], line 1\u001b[0m\n\u001b[0;32m----> 1\u001b[0m \u001b[43mdct\u001b[49m\u001b[43m[\u001b[49m\u001b[38;5;124;43m'\u001b[39;49m\u001b[38;5;124;43mhynn\u001b[39;49m\u001b[38;5;124;43m'\u001b[39;49m\u001b[43m]\u001b[49m \u001b[38;5;66;03m# hynn이 없어서 키에러 출력, 그런 key는 없다.. \u001b[39;00m\n",
      "\u001b[0;31mKeyError\u001b[0m: 'hynn'"
     ]
    }
   ],
   "source": [
    "dct['hynn'] # hynn이 없어서 키에러 출력, 그런 key는 없다.. "
   ]
  },
  {
   "cell_type": "code",
   "execution_count": 152,
   "id": "56d222e7-bc31-4dc3-9d23-1aea9dda5d30",
   "metadata": {},
   "outputs": [],
   "source": [
    "dct.get('hynn') # hynn이 없으면 아무것도 출력안함 "
   ]
  },
  {
   "cell_type": "markdown",
   "id": "24052aff-3a1d-4d03-b858-1d7ab262bffc",
   "metadata": {},
   "source": [
    "**(keys,values,items)**"
   ]
  },
  {
   "cell_type": "markdown",
   "id": "1a693391-5ec8-4a9e-9186-2ffd1757b924",
   "metadata": {},
   "source": [
    "`-` .keys()는 딕셔너리의 키를 리턴한다.  "
   ]
  },
  {
   "cell_type": "code",
   "execution_count": 33,
   "id": "fdb760f8-bc53-406e-a7ae-a97d5a533ec2",
   "metadata": {},
   "outputs": [
    {
     "data": {
      "text/plain": [
       "{'guebin': 49, 'hanni': 80}"
      ]
     },
     "execution_count": 33,
     "metadata": {},
     "output_type": "execute_result"
    }
   ],
   "source": [
    "dct = {'guebin':49, 'hanni':80} \n",
    "dct"
   ]
  },
  {
   "cell_type": "code",
   "execution_count": 34,
   "id": "0de79218-5f7e-4fdb-8e6c-2ea176bb32c4",
   "metadata": {},
   "outputs": [
    {
     "data": {
      "text/plain": [
       "dict_keys(['guebin', 'hanni'])"
      ]
     },
     "execution_count": 34,
     "metadata": {},
     "output_type": "execute_result"
    }
   ],
   "source": [
    "keys=dct.keys()\n",
    "keys"
   ]
  },
  {
   "cell_type": "markdown",
   "id": "517b7c58-9449-45fd-ac9d-7ab96bbe3bc1",
   "metadata": {},
   "source": [
    "`-` .values()는 딕셔너리의 값들을 리턴한다. "
   ]
  },
  {
   "cell_type": "code",
   "execution_count": 35,
   "id": "f76e4f3a-76a8-4012-a5dd-a072db88ce7e",
   "metadata": {},
   "outputs": [
    {
     "data": {
      "text/plain": [
       "dict_values([49, 80])"
      ]
     },
     "execution_count": 35,
     "metadata": {},
     "output_type": "execute_result"
    }
   ],
   "source": [
    "values = dct.values()\n",
    "values "
   ]
  },
  {
   "cell_type": "code",
   "execution_count": 37,
   "id": "17125319-20fb-42af-af39-accc504db7c0",
   "metadata": {},
   "outputs": [
    {
     "data": {
      "text/plain": [
       "dict_values"
      ]
     },
     "execution_count": 37,
     "metadata": {},
     "output_type": "execute_result"
    }
   ],
   "source": [
    "type(values)"
   ]
  },
  {
   "cell_type": "code",
   "execution_count": 38,
   "id": "1f1c6521-d5c9-4cc4-9f8d-d4fc2a04a6d7",
   "metadata": {},
   "outputs": [
    {
     "data": {
      "text/plain": [
       "[49, 80]"
      ]
     },
     "execution_count": 38,
     "metadata": {},
     "output_type": "execute_result"
    }
   ],
   "source": [
    "list(values)"
   ]
  },
  {
   "cell_type": "markdown",
   "id": "60b4ebfb-620a-4c22-8f56-21885a2e3bfd",
   "metadata": {},
   "source": [
    "`-` .items()는 딕셔너리의 (키,값)을 리턴한다. "
   ]
  },
  {
   "cell_type": "code",
   "execution_count": 39,
   "id": "c10fc308-61c0-4a89-9af1-d536c6eed756",
   "metadata": {},
   "outputs": [
    {
     "data": {
      "text/plain": [
       "dict_items([('guebin', 49), ('hanni', 80)])"
      ]
     },
     "execution_count": 39,
     "metadata": {},
     "output_type": "execute_result"
    }
   ],
   "source": [
    "items = dct.items()\n",
    "items "
   ]
  },
  {
   "cell_type": "code",
   "execution_count": 40,
   "id": "9db91763-3016-41cc-b032-581f7b1d83ae",
   "metadata": {},
   "outputs": [
    {
     "data": {
      "text/plain": [
       "dict_items"
      ]
     },
     "execution_count": 40,
     "metadata": {},
     "output_type": "execute_result"
    }
   ],
   "source": [
    "type(items)"
   ]
  },
  {
   "cell_type": "code",
   "execution_count": 41,
   "id": "4f76bb4e-9040-4f44-bb1f-edcf5fb6931d",
   "metadata": {},
   "outputs": [
    {
     "data": {
      "text/plain": [
       "[('guebin', 49), ('hanni', 80)]"
      ]
     },
     "execution_count": 41,
     "metadata": {},
     "output_type": "execute_result"
    }
   ],
   "source": [
    "list(items)"
   ]
  },
  {
   "cell_type": "markdown",
   "id": "a12da856-e8ff-4c13-be7c-2c3ffd31953a",
   "metadata": {},
   "source": [
    "### F. for문과 dict ($\\star$)"
   ]
  },
  {
   "cell_type": "code",
   "execution_count": 42,
   "id": "b8dde23b-504d-4a28-9e71-37d51616c6b0",
   "metadata": {},
   "outputs": [
    {
     "data": {
      "text/plain": [
       "{'guebin': 49, 'hanni': 80}"
      ]
     },
     "execution_count": 42,
     "metadata": {},
     "output_type": "execute_result"
    }
   ],
   "source": [
    "dct = {'guebin': 49, 'hanni': 80}\n",
    "dct"
   ]
  },
  {
   "cell_type": "markdown",
   "id": "c663aff8-4095-49b9-b2a8-c74b3ba74db4",
   "metadata": {},
   "source": [
    "(예시1) "
   ]
  },
  {
   "cell_type": "code",
   "execution_count": 43,
   "id": "d0e47066-f831-4797-8964-0b590533635f",
   "metadata": {},
   "outputs": [
    {
     "name": "stdout",
     "output_type": "stream",
     "text": [
      "guebin\n",
      "hanni\n"
     ]
    }
   ],
   "source": [
    "for k in dct.keys():\n",
    "    print(k)"
   ]
  },
  {
   "cell_type": "code",
   "execution_count": 44,
   "id": "39958ba3-8622-452c-b287-8ed59a9e3fdf",
   "metadata": {},
   "outputs": [
    {
     "name": "stdout",
     "output_type": "stream",
     "text": [
      "guebin\n",
      "hanni\n"
     ]
    }
   ],
   "source": [
    "for k in dct:\n",
    "    print(k)"
   ]
  },
  {
   "cell_type": "markdown",
   "id": "0d137368-e307-4eb0-947b-7fa78ab600ae",
   "metadata": {},
   "source": [
    "(예시2)"
   ]
  },
  {
   "cell_type": "code",
   "execution_count": 45,
   "id": "1bb4bb86-9b42-4fcd-a3a0-a38bdbd9db87",
   "metadata": {},
   "outputs": [
    {
     "name": "stdout",
     "output_type": "stream",
     "text": [
      "49\n",
      "80\n"
     ]
    }
   ],
   "source": [
    "for v in dct.values():\n",
    "    print(v)"
   ]
  },
  {
   "cell_type": "markdown",
   "id": "49dc4dc8-8ca0-4581-8cc1-6063897ebecb",
   "metadata": {},
   "source": [
    "(예시3)"
   ]
  },
  {
   "cell_type": "code",
   "execution_count": 46,
   "id": "139eaad4-f706-47c0-9a8e-a8aa629a331f",
   "metadata": {},
   "outputs": [
    {
     "name": "stdout",
     "output_type": "stream",
     "text": [
      "('guebin', 49)\n",
      "('hanni', 80)\n"
     ]
    }
   ],
   "source": [
    "for i in dct.items():\n",
    "    print(i)"
   ]
  },
  {
   "cell_type": "markdown",
   "id": "2cbd7d4b-136f-4de9-a7b5-1a9dff1cf6a6",
   "metadata": {},
   "source": [
    "(예시4)"
   ]
  },
  {
   "cell_type": "code",
   "execution_count": 48,
   "id": "34473685-a25c-4729-8de0-64bce66312c5",
   "metadata": {},
   "outputs": [
    {
     "name": "stdout",
     "output_type": "stream",
     "text": [
      "guebin 49\n",
      "hanni 80\n"
     ]
    }
   ],
   "source": [
    "for k,v in dct.items(): # 다중할당\n",
    "    print(k,v)"
   ]
  },
  {
   "cell_type": "markdown",
   "id": "7aceb304-1fc6-4c58-915d-e435829661a7",
   "metadata": {},
   "source": [
    "(예시5) -- {}의 중간고사 점수는 {}점 입니다."
   ]
  },
  {
   "cell_type": "code",
   "execution_count": 50,
   "id": "0205df8e-4ec0-4f4f-b1b0-caa361534123",
   "metadata": {},
   "outputs": [
    {
     "name": "stdout",
     "output_type": "stream",
     "text": [
      "guebin의 중간고사 점수는 49점 입니다.\n",
      "hanni의 중간고사 점수는 80점 입니다.\n"
     ]
    }
   ],
   "source": [
    "for name,score in dct.items():\n",
    "    print(f'{name}의 중간고사 점수는 {score}점 입니다.')"
   ]
  },
  {
   "cell_type": "markdown",
   "id": "d00a5483-421b-4daa-8d17-7c5424ecdc0c",
   "metadata": {},
   "source": [
    "### G. dict에서 key혹은 value만 뽑아내기 "
   ]
  },
  {
   "cell_type": "markdown",
   "id": "a0be0925-bf69-420b-8b9f-9a50f398fe4b",
   "metadata": {},
   "source": [
    "`-` 예제: 아래의 dict에서 key만 뽑아내고 싶다. "
   ]
  },
  {
   "cell_type": "code",
   "execution_count": 51,
   "id": "d8b56f1b-77d0-49e5-bc11-b49016468a08",
   "metadata": {},
   "outputs": [],
   "source": [
    "dct = {'guebin':49, 'hanni':80} "
   ]
  },
  {
   "cell_type": "markdown",
   "id": "d7e4b951-fcf0-4bc1-9008-cb0435cdebc7",
   "metadata": {},
   "source": [
    "(풀이1)"
   ]
  },
  {
   "cell_type": "code",
   "execution_count": 52,
   "id": "b9cb2892-d892-4939-93a2-f95e926309a9",
   "metadata": {},
   "outputs": [
    {
     "data": {
      "text/plain": [
       "['guebin', 'hanni']"
      ]
     },
     "execution_count": 52,
     "metadata": {},
     "output_type": "execute_result"
    }
   ],
   "source": [
    "list(dct)"
   ]
  },
  {
   "cell_type": "markdown",
   "id": "3a810b61-b3c3-4b8e-b537-21244862733a",
   "metadata": {},
   "source": [
    "(풀이2)"
   ]
  },
  {
   "cell_type": "code",
   "execution_count": 53,
   "id": "7e2e0a28-cc1e-4da9-8993-ce65d6f3f003",
   "metadata": {},
   "outputs": [
    {
     "data": {
      "text/plain": [
       "['guebin', 'hanni']"
      ]
     },
     "execution_count": 53,
     "metadata": {},
     "output_type": "execute_result"
    }
   ],
   "source": [
    "list(dct.keys())"
   ]
  },
  {
   "cell_type": "markdown",
   "id": "4c2054f5-9a69-4865-85ce-8538a9d2f8eb",
   "metadata": {},
   "source": [
    "(풀이3)"
   ]
  },
  {
   "cell_type": "code",
   "execution_count": 54,
   "id": "7cddce96-e414-4dca-b35e-222b7c8f7cce",
   "metadata": {},
   "outputs": [
    {
     "data": {
      "text/plain": [
       "['guebin', 'hanni']"
      ]
     },
     "execution_count": 54,
     "metadata": {},
     "output_type": "execute_result"
    }
   ],
   "source": [
    "[k for k in dct]"
   ]
  },
  {
   "cell_type": "markdown",
   "id": "d34f153c-da55-46e2-895b-8e251a8f261f",
   "metadata": {},
   "source": [
    "(풀이4)"
   ]
  },
  {
   "cell_type": "code",
   "execution_count": 55,
   "id": "8ed1d32e-fd2d-434e-9760-091b731df1fd",
   "metadata": {},
   "outputs": [
    {
     "data": {
      "text/plain": [
       "['guebin', 'hanni']"
      ]
     },
     "execution_count": 55,
     "metadata": {},
     "output_type": "execute_result"
    }
   ],
   "source": [
    "[k for k,v in dct.items()]"
   ]
  },
  {
   "cell_type": "markdown",
   "id": "2c523d4d-d5ef-405c-89f0-43703efbab58",
   "metadata": {},
   "source": [
    "`-` 예제: 아래의 dict에서 value만 뽑아내고 싶다. "
   ]
  },
  {
   "cell_type": "code",
   "execution_count": 56,
   "id": "7b5dc3e3-7a1c-4582-a4b1-1765768d1566",
   "metadata": {},
   "outputs": [],
   "source": [
    "dct = {'guebin':49, 'hanni':80} "
   ]
  },
  {
   "cell_type": "markdown",
   "id": "8f23a0ba-73eb-4481-ada8-ee19905d6af6",
   "metadata": {},
   "source": [
    "(풀이1)"
   ]
  },
  {
   "cell_type": "code",
   "execution_count": 57,
   "id": "e3a5b239-800b-4373-924e-686bf71dd2e4",
   "metadata": {},
   "outputs": [
    {
     "data": {
      "text/plain": [
       "[49, 80]"
      ]
     },
     "execution_count": 57,
     "metadata": {},
     "output_type": "execute_result"
    }
   ],
   "source": [
    "list(dct.values())"
   ]
  },
  {
   "cell_type": "markdown",
   "id": "abe464a3-f0ef-4722-aabf-f6a05246d003",
   "metadata": {},
   "source": [
    "(풀이2)"
   ]
  },
  {
   "cell_type": "code",
   "execution_count": 58,
   "id": "5105f6ab-68ac-4f4f-a568-4e9f34fba44b",
   "metadata": {},
   "outputs": [
    {
     "data": {
      "text/plain": [
       "[49, 80]"
      ]
     },
     "execution_count": 58,
     "metadata": {},
     "output_type": "execute_result"
    }
   ],
   "source": [
    "[dct[k] for k in dct]"
   ]
  },
  {
   "cell_type": "markdown",
   "id": "8f55d43e-cede-4602-a1cd-72d927c4b358",
   "metadata": {},
   "source": [
    "(풀이3)"
   ]
  },
  {
   "cell_type": "code",
   "execution_count": 106,
   "id": "ace73f42-7ac1-432a-a3f7-200f900dbb03",
   "metadata": {},
   "outputs": [
    {
     "data": {
      "text/plain": [
       "[49, 80]"
      ]
     },
     "execution_count": 106,
     "metadata": {},
     "output_type": "execute_result"
    }
   ],
   "source": [
    "[v for v in dct.values()]"
   ]
  },
  {
   "cell_type": "markdown",
   "id": "f72bbc00-fcd2-4cfa-a2c7-19decdaeea5f",
   "metadata": {},
   "source": [
    "(풀이4)"
   ]
  },
  {
   "cell_type": "code",
   "execution_count": 107,
   "id": "3aa499ff-da82-4ac4-a89b-58115b08c323",
   "metadata": {},
   "outputs": [
    {
     "data": {
      "text/plain": [
       "[49, 80]"
      ]
     },
     "execution_count": 107,
     "metadata": {},
     "output_type": "execute_result"
    }
   ],
   "source": [
    "[v for k,v in dct.items()]"
   ]
  }
 ],
 "metadata": {
  "kernelspec": {
   "display_name": "Python 3 (ipykernel)",
   "language": "python",
   "name": "python3"
  },
  "language_info": {
   "codemirror_mode": {
    "name": "ipython",
    "version": 3
   },
   "file_extension": ".py",
   "mimetype": "text/x-python",
   "name": "python",
   "nbconvert_exporter": "python",
   "pygments_lexer": "ipython3",
   "version": "3.13.2"
  }
 },
 "nbformat": 4,
 "nbformat_minor": 5
}
