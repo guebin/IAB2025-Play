{
 "cells": [
  {
   "cell_type": "raw",
   "id": "a76af35e-312c-4b43-be24-f327a126d29e",
   "metadata": {
    "vscode": {
     "languageId": "raw"
    }
   },
   "source": [
    "---\n",
    "title: \"중간고사 - R 예상문제\"\n",
    "author: \"최규빈\"\n",
    "date: \"05/08/2025\"\n",
    "draft: false\n",
    "---"
   ]
  },
  {
   "cell_type": "markdown",
   "id": "65ef23ef-cdf0-4a6e-b80f-df38f2fd80d9",
   "metadata": {},
   "source": [
    "## 1. 수열생성 -- 10점"
   ]
  },
  {
   "cell_type": "markdown",
   "id": "88668174-5567-49a0-8f6e-f8da7d86cc89",
   "metadata": {},
   "source": [
    "문제의 조건에 맞는 수열을 100개 생성하라. 즉 $a_1,a_2,\\dots,a_{100}$을 생성하라. "
   ]
  },
  {
   "cell_type": "markdown",
   "id": "4d1ffe3e-d282-42d9-8c9d-b7760a68f3d1",
   "metadata": {},
   "source": [
    "`(1)` $a_n = n+1$"
   ]
  },
  {
   "cell_type": "markdown",
   "id": "8f3ec808-e191-4ef1-b386-e946bb5e37a5",
   "metadata": {},
   "source": [
    "`(2)` $a_n = 2^{n-1}$"
   ]
  },
  {
   "cell_type": "markdown",
   "id": "ba91b648-07f9-440d-b2fc-f6c51d357663",
   "metadata": {},
   "source": [
    "`(3)` $a_n = \\begin{cases} 2n-1 &  n=3,6,9,...,99 \\\\ (0.8)^n & n=1,2,4,5,7,8,\\dots,100 \\end{cases}$"
   ]
  },
  {
   "cell_type": "markdown",
   "id": "b94f3173-ac71-4238-a961-98db6070a5b6",
   "metadata": {},
   "source": [
    "`(4)` $a_1=1, a_2=2$; $a_n = a_{n-1} + a_{n-2} , n \\geq 3$"
   ]
  },
  {
   "cell_type": "markdown",
   "id": "5fc3b64e-d561-4dbb-b797-440efc0055c0",
   "metadata": {},
   "source": [
    "`(5)` "
   ]
  },
  {
   "cell_type": "markdown",
   "id": "fd1d4f2c-2912-4139-9b1e-fe8461c32db6",
   "metadata": {},
   "source": [
    "## 2. 인덱싱 -- 10점"
   ]
  },
  {
   "cell_type": "markdown",
   "id": "94aa4413-7d56-4556-9f79-53ea05247b94",
   "metadata": {},
   "source": [
    "아래의 벡터를 고려하자. "
   ]
  },
  {
   "cell_type": "code",
   "execution_count": 5,
   "id": "2a2319f9-5d1f-4f66-b8e4-dc60b51f1124",
   "metadata": {},
   "outputs": [
    {
     "data": {
      "text/plain": [
       "  [1] -0.724154332 -0.786807067  0.322143867  1.245215545  0.541298135\n",
       "  [6]  1.644425736  1.010839968 -0.041093855  0.566219689  0.322589945\n",
       " [11]  0.744257098  1.318771443  1.741644032 -0.481877777 -0.212304360\n",
       " [16] -0.038340064 -0.670476111  1.116346318 -1.017367268 -2.764108407\n",
       " [21] -1.691021535 -0.286386675 -0.293329723 -0.439574695  1.187215542\n",
       " [26]  0.619075484  1.725469680  0.387946245  2.014429677 -1.858183602\n",
       " [31]  0.475627218 -1.522483833 -1.221104431  0.526176114  0.300794693\n",
       " [36]  0.419955219  0.774111400  1.118417590 -0.003518173 -1.339826327\n",
       " [41]  0.689804767  1.241655279  0.540903204 -0.090689478  0.899004061\n",
       " [46]  0.277964244  0.102093035  0.026743749 -1.366798404  1.725945031\n",
       " [51]  0.016568963  2.435175155  0.660768741  0.586336164  0.915387917\n",
       " [56]  1.032858015  0.487488367  0.983191955 -1.672555500 -2.391719134\n",
       " [61] -0.653742759  1.169355804  1.187078729 -1.099769071  0.175000573\n",
       " [66] -1.806541369  1.137909229 -0.041377066  1.669815049  1.063072588\n",
       " [71]  1.590954249 -1.385275254  1.108154509  1.154914467 -2.167338566\n",
       " [76] -0.174894345  1.213979381  0.722172855 -1.839824680  1.565277416\n",
       " [81]  0.883058660 -0.193202697 -0.805387640  0.115174290 -1.419227107\n",
       " [86] -1.347685370  0.338432430 -1.511701575 -0.969561843  1.854438960\n",
       " [91] -0.376556809  1.228923415 -1.326004497 -0.608823772  0.424967512\n",
       " [96]  1.027977993  0.143027357  1.539912811 -2.705749561 -2.271813360"
      ]
     },
     "metadata": {},
     "output_type": "display_data"
    }
   ],
   "source": [
    "set.seed(43052)\n",
    "x = rnorm(100)\n",
    "x"
   ]
  },
  {
   "cell_type": "markdown",
   "id": "54dd5110-1485-4891-a566-3381f3bd48f5",
   "metadata": {},
   "source": [
    "`(1)` 양수인 원소를 출력하라. "
   ]
  },
  {
   "cell_type": "markdown",
   "id": "9d2b46d5-1307-413c-8a3c-697c43275474",
   "metadata": {},
   "source": [
    "`(2)` 양수인 원소와 음수인 원소의 수를 구하라. "
   ]
  },
  {
   "cell_type": "markdown",
   "id": "446cbdd6-1492-4901-86fd-a997c93f001b",
   "metadata": {},
   "source": [
    "`(3)` $-0.2 <x <0.1$의 범위에 있는 원소의 합을 구하라. "
   ]
  },
  {
   "cell_type": "markdown",
   "id": "d3ede0e7-f149-4a43-a053-7740d1fb2a8b",
   "metadata": {},
   "source": [
    "`(4)` 평균과 가장 가까운 원소를 출력하라. "
   ]
  },
  {
   "cell_type": "markdown",
   "id": "6b21a685-09d4-4abe-9e3c-5a62880687dc",
   "metadata": {},
   "source": [
    "`(5)`"
   ]
  },
  {
   "cell_type": "markdown",
   "id": "451dd13e-eede-43c2-98fc-0a72b2861722",
   "metadata": {},
   "source": [
    "## 3. Matrix -- 15점"
   ]
  },
  {
   "cell_type": "markdown",
   "id": "ef2ad459-f5fa-4348-be08-479893fe357d",
   "metadata": {},
   "source": [
    "아래의 matrix를 고려하자. "
   ]
  },
  {
   "cell_type": "code",
   "execution_count": 16,
   "id": "31a1934b-b5cb-45c2-8397-6687748d2e69",
   "metadata": {},
   "outputs": [],
   "source": [
    "X = rnorm(200); \n",
    "dim(X) = c(20,10)"
   ]
  },
  {
   "cell_type": "markdown",
   "id": "5b5eb4d1-4f23-4f59-a6ad-2374b130584b",
   "metadata": {},
   "source": [
    "`(1)` 행별로 양수를 count하라. 가장 많은 숫자의 양수를 보유한 행은 무엇인가? "
   ]
  },
  {
   "cell_type": "markdown",
   "id": "31c331fb-dd4a-4af9-b3f1-b51c50bb4400",
   "metadata": {},
   "source": [
    "`(2)`"
   ]
  },
  {
   "cell_type": "markdown",
   "id": "b7ead362-df07-48cb-9659-5fc11329f63c",
   "metadata": {},
   "source": [
    "`(3)`"
   ]
  },
  {
   "cell_type": "markdown",
   "id": "b72f34c2-7aee-45fd-8cfe-40765d27fa19",
   "metadata": {},
   "source": [
    "## 4. 미공개 문제 -- 15점"
   ]
  }
 ],
 "metadata": {
  "kernelspec": {
   "display_name": "R",
   "language": "R",
   "name": "ir"
  },
  "language_info": {
   "codemirror_mode": "r",
   "file_extension": ".r",
   "mimetype": "text/x-r-source",
   "name": "R",
   "pygments_lexer": "r",
   "version": "4.4.2"
  }
 },
 "nbformat": 4,
 "nbformat_minor": 5
}
