{
 "cells": [
  {
   "cell_type": "raw",
   "id": "5882ba20",
   "metadata": {
    "vscode": {
     "languageId": "raw"
    }
   },
   "source": [
    "---\n",
    "title: \"02wk-2: 문제풀이\"\n",
    "author: \"최규빈\"\n",
    "date: \"03/11/2025\"\n",
    "draft: false\n",
    "---"
   ]
  },
  {
   "cell_type": "markdown",
   "id": "8322628e-f4cb-4774-8a12-31fdca1cae75",
   "metadata": {},
   "source": [
    "## 1. 문제풀이"
   ]
  },
  {
   "cell_type": "markdown",
   "id": "d896d8cd-3548-4871-a7fe-c09de52abd18",
   "metadata": {},
   "source": [
    "`# 예제` -- 아래의 벡터를 고려하자. "
   ]
  },
  {
   "cell_type": "code",
   "execution_count": 16,
   "id": "30e1235e-de8d-4918-a2d8-1aaa6c22d9e2",
   "metadata": {},
   "outputs": [],
   "source": [
    "set.seed(43052)\n",
    "x = rnorm(100)"
   ]
  },
  {
   "cell_type": "markdown",
   "id": "7be18577-25fc-4bb1-99e3-98c1cf6cbcfb",
   "metadata": {},
   "source": [
    "`(1)` `x`의 원소중 그 값이 양수인 것은 모두 몇개인가? "
   ]
  },
  {
   "cell_type": "markdown",
   "id": "920e2b34-9506-44df-94f5-606eb6c36563",
   "metadata": {},
   "source": [
    "`(2)` `x`의 평균을 구하여라. "
   ]
  },
  {
   "cell_type": "markdown",
   "id": "f93c5b45-3c37-4625-9be2-6aab3fa67dba",
   "metadata": {},
   "source": [
    "`(3)` `x`의 원소중 평균과 가장 가까운 값을 구하여라. "
   ]
  },
  {
   "cell_type": "markdown",
   "id": "a72ea94e-a499-4538-aca7-23631a2d1869",
   "metadata": {},
   "source": [
    "`#` "
   ]
  },
  {
   "cell_type": "markdown",
   "id": "9ddde433-e03e-4445-b19d-76b741765fd1",
   "metadata": {},
   "source": [
    "`# 예제` -- 아래의 벡터를 고려하자. "
   ]
  },
  {
   "cell_type": "code",
   "execution_count": 47,
   "id": "e9cd2533-40f8-48ae-aabd-2a6f6143bffe",
   "metadata": {},
   "outputs": [],
   "source": [
    "set.seed(43052)\n",
    "x = sample(1:100,50)"
   ]
  },
  {
   "cell_type": "markdown",
   "id": "5a8a1430-350c-4448-9075-cd39b97c6c10",
   "metadata": {},
   "source": [
    "`(1)` `x`의 원소중 짝수는 몇개 있는가? "
   ]
  },
  {
   "cell_type": "markdown",
   "id": "434991c0-ef49-4666-b2a7-190904e368a1",
   "metadata": {},
   "source": [
    "`(2)` `x`의 원소중 가장 작은 홀수는 무엇인가? "
   ]
  },
  {
   "cell_type": "markdown",
   "id": "9094cf0d-755f-4540-bdd0-b655085e17ea",
   "metadata": {},
   "source": [
    "`#` "
   ]
  },
  {
   "cell_type": "markdown",
   "id": "c246cfea-3ace-4ce0-8551-6b44b1220e72",
   "metadata": {},
   "source": [
    "`2010(나)6월평가원-4`. 실수 $a$ 가  \n",
    "$$\n",
    "\\frac{2^a + 2^{-a}}{2^a - 2^{-a}} = -2\n",
    "$$\n",
    "를 만족시킬 때, $4^a + 4^{-a}$ 의 값은?\n",
    "\n",
    "1. $ \\frac{5}{2} $  \n",
    "2. $ \\frac{10}{3} $  \n",
    "3. $ \\frac{17}{4} $  \n",
    "4. $ \\frac{26}{5} $  \n",
    "5. $ \\frac{37}{6} $"
   ]
  },
  {
   "cell_type": "markdown",
   "id": "d5d47aad-b12d-43d1-a253-42848d9a8382",
   "metadata": {},
   "source": [
    "(풀이)"
   ]
  },
  {
   "cell_type": "code",
   "execution_count": null,
   "id": "f71eb58e-55db-4f07-97ac-d5e72a9d27f7",
   "metadata": {},
   "outputs": [],
   "source": []
  },
  {
   "cell_type": "code",
   "execution_count": null,
   "id": "afe906de-96c1-417a-aa73-487ca94a0170",
   "metadata": {},
   "outputs": [],
   "source": []
  },
  {
   "cell_type": "markdown",
   "id": "b8a30090-c976-495b-a78a-9397a7e97da5",
   "metadata": {},
   "source": [
    "`2024수능-16`. 방정식 $3^{x-8} = \\left(\\frac{1}{27}\\right)^x$ 을 만족시키는 실수 $x$의 값을 구하시오. **[3점]**"
   ]
  },
  {
   "cell_type": "markdown",
   "id": "9bd864fd-a126-412d-9614-762daba9b011",
   "metadata": {},
   "source": [
    "(풀이)"
   ]
  },
  {
   "cell_type": "code",
   "execution_count": null,
   "id": "d5fd5298-d031-42bf-9af0-1cf89f9bb508",
   "metadata": {},
   "outputs": [],
   "source": []
  },
  {
   "cell_type": "code",
   "execution_count": null,
   "id": "86247adb-923b-4db0-9b54-4f9f385efca2",
   "metadata": {},
   "outputs": [],
   "source": []
  },
  {
   "cell_type": "markdown",
   "id": "39443bc3-4052-423f-b988-6af2aacf9ea7",
   "metadata": {},
   "source": [
    "`2021(가)9월평가원-10`. 수열 $\\{a_n\\}$은 $a_1 = 12$이고, 모든 자연수 $n$에 대하여  \n",
    "$$\n",
    "a_{n+1} + a_n = (-1)^{n+1} \\times n\n",
    "$$\n",
    "을 만족시킨다. $a_k > a_1$인 자연수 $k$의 최소값은?\n",
    "\n",
    "1. 2  \n",
    "2. 4  \n",
    "3. 6  \n",
    "4. 8 \n",
    "5. 10"
   ]
  },
  {
   "cell_type": "markdown",
   "id": "55535980-8130-49f9-a9cc-3de6643df630",
   "metadata": {},
   "source": [
    "`(풀이)`"
   ]
  },
  {
   "cell_type": "code",
   "execution_count": null,
   "id": "9118b6e7-c63d-4f82-9e8f-d50d946918d1",
   "metadata": {},
   "outputs": [],
   "source": []
  },
  {
   "cell_type": "markdown",
   "id": "ef15eb72-b946-4a7e-8c4b-fc98662e114a",
   "metadata": {},
   "source": [
    "`2007(나)6월평가원-14`. 다음은 어느 회사의 연봉에 대한 규정이다.  \n",
    "\n",
    "(가) 입사 첫째 해 연봉은 $a$원이고, 입사 19년째 해까지의 연봉은 해마다 직전 연봉에서 8%씩 인상된다.  \n",
    "\n",
    "(나) 입사 20년째 해부터의 연봉은 입사 19년째 해 연봉의 $2/3$로 한다.  \n",
    "\n",
    "이 회사에 입사한 사람이 28년 동안 근무하여 받는 연봉의 총합은? (단, $1.08^{18} = 4$로 계산한다.)  \n",
    "\n",
    "1. $\\frac{101}{2} a$  \n",
    "2. $\\frac{111}{2} a$  \n",
    "3. $\\frac{121}{2} a$  \n",
    "4. $\\frac{131}{2} a$ \n",
    "5. $\\frac{141}{2} a$  "
   ]
  },
  {
   "cell_type": "markdown",
   "id": "6da3b668-0999-4f79-a17e-5ef7c7118ef6",
   "metadata": {},
   "source": [
    "`(풀이)`"
   ]
  },
  {
   "cell_type": "code",
   "execution_count": null,
   "id": "e40d6e5b-5909-4454-9125-facbf6a37278",
   "metadata": {},
   "outputs": [],
   "source": []
  },
  {
   "cell_type": "markdown",
   "id": "9253e1a8-e100-444f-90ca-bc3f556bcacd",
   "metadata": {},
   "source": [
    "`2004(인)수능(홀)-19`. 자료 $x_1, x_2, \\dots, x_{100}$에 대하여 다음 과정을 순서대로 시행하였다.  \n",
    "\n",
    "(가) 처음 두 수 $x_1$과 $x_2$의 평균을 구한다.  \n",
    "\n",
    "(나) $x_3$을 추가하여 $x_1, x_2, x_3$의 평균을 구한다.  \n",
    "\n",
    "(다) $x_4$을 추가하여 $x_1, x_2, x_3, x_4$의 평균을 구한다.  \n",
    "\n",
    "...  \n",
    "\n",
    "$x_{100}$을 추가하여 $x_1, x_2, x_3, \\dots, x_{100}$의 평균을 구한다.  \n",
    "\n",
    "위의 과정을 시행할 결과, $x_1$과 $x_2$의 평균이 5이고, 자료 하나가 추가될 때마다 평균이 1씩 증가하였다. 이때 $x_{100}$의 값은?  \n",
    "\n",
    "1. 194  \n",
    "2. 196  \n",
    "3. 198  \n",
    "4. 200  \n",
    "5. 202  "
   ]
  },
  {
   "cell_type": "markdown",
   "id": "61fbd938-806f-4055-bfed-a4834fe920fe",
   "metadata": {},
   "source": [
    "`(풀이)`"
   ]
  },
  {
   "cell_type": "code",
   "execution_count": null,
   "id": "65e60263-8fbe-480c-9710-e701ec753075",
   "metadata": {},
   "outputs": [],
   "source": []
  }
 ],
 "metadata": {
  "kernelspec": {
   "display_name": "R",
   "language": "R",
   "name": "ir"
  },
  "language_info": {
   "codemirror_mode": "r",
   "file_extension": ".r",
   "mimetype": "text/x-r-source",
   "name": "R",
   "pygments_lexer": "r",
   "version": "4.4.2"
  }
 },
 "nbformat": 4,
 "nbformat_minor": 5
}
