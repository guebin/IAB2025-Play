{
 "cells": [
  {
   "cell_type": "raw",
   "id": "0055ed9c-7e86-4ce6-bcf0-f3b71eab8abf",
   "metadata": {
    "vscode": {
     "languageId": "raw"
    }
   },
   "source": [
    "---\n",
    "title: \"11wk-1: 중간고사 해설\"\n",
    "author: \"최규빈\"\n",
    "date: \"05/13/2025\"\n",
    "draft: false\n",
    "---"
   ]
  },
  {
   "cell_type": "markdown",
   "id": "e7263776-b5ed-43bf-a9c0-043162ef620a",
   "metadata": {},
   "source": [
    "{{<video https://youtu.be/playlist?list=PLQqh36zP38-xGy0Ikif2out7hNU4KXkiU&si=Qz-RqIYksu58k7GW>}}"
   ]
  },
  {
   "cell_type": "markdown",
   "id": "caf3d07c-f9e1-4fa6-acd1-65f7813c7af0",
   "metadata": {},
   "source": [
    "# R"
   ]
  },
  {
   "cell_type": "markdown",
   "id": "8205481b-4eb8-4d8b-8b04-d441d2e17cfe",
   "metadata": {},
   "source": [
    "## 1. 수열생성 -- 15점"
   ]
  },
  {
   "cell_type": "markdown",
   "id": "71a754bf-b9c0-4800-bcc0-10b399ae3952",
   "metadata": {},
   "source": [
    "> 문항당 3점"
   ]
  },
  {
   "cell_type": "markdown",
   "id": "cdb50f71-468b-4a6c-bf68-86eeea0c8239",
   "metadata": {},
   "source": [
    "문제의 조건에 맞는 수열을 100개 생성하라. 즉 $a_1,a_2,\\dots,a_{100}$을 생성하라. "
   ]
  },
  {
   "cell_type": "markdown",
   "id": "fb25033d-f4d7-4044-a138-8c43e2da6a7f",
   "metadata": {},
   "source": [
    "`(1)` $a_n = 2n-1$"
   ]
  },
  {
   "cell_type": "markdown",
   "id": "0efa6e93-a4d6-498f-811a-f2c25101ecca",
   "metadata": {},
   "source": [
    "`(풀이)`"
   ]
  },
  {
   "cell_type": "code",
   "execution_count": null,
   "id": "1a110eeb-52a7-4cc1-bccb-0f02a17a2c96",
   "metadata": {},
   "outputs": [],
   "source": [
    "n = 1:100\n",
    "an = 2*n -1 "
   ]
  },
  {
   "cell_type": "markdown",
   "id": "c9deb91c-5669-4b02-9505-4f214daf0344",
   "metadata": {},
   "source": [
    "`(2)` $a_n=\\frac{1}{n}$"
   ]
  },
  {
   "cell_type": "markdown",
   "id": "a5e564c4-656c-4c57-8ea2-8ccb4d9bbaa9",
   "metadata": {},
   "source": [
    "`(풀이)`"
   ]
  },
  {
   "cell_type": "code",
   "execution_count": 5,
   "id": "ec9ab30d-fc32-44c4-8a89-6e2c83edd2cd",
   "metadata": {},
   "outputs": [],
   "source": [
    "n = 1:100\n",
    "an = 1/n"
   ]
  },
  {
   "cell_type": "markdown",
   "id": "48fd8f9d-7e4f-4292-966c-b20536058d1a",
   "metadata": {},
   "source": [
    "`(3)` $a_n = (1/2)^{n}$"
   ]
  },
  {
   "cell_type": "markdown",
   "id": "2e1824cb-a33e-41b0-86e5-2d7e16b0bf3e",
   "metadata": {},
   "source": [
    "`(풀이)`"
   ]
  },
  {
   "cell_type": "code",
   "execution_count": 6,
   "id": "a2767354-49f4-4936-9b06-95631d39dce0",
   "metadata": {},
   "outputs": [],
   "source": [
    "n = 1:100\n",
    "an = (1/2)^n"
   ]
  },
  {
   "cell_type": "markdown",
   "id": "6c15b62b-bedd-4ca6-b48c-2a44fd393924",
   "metadata": {},
   "source": [
    "`(4)` $a_n = \\begin{cases} 0 &  n=2,4,6,...,100 \\\\ (1/2)^n & n=1,3,5,7,\\dots,99 \\end{cases}$"
   ]
  },
  {
   "cell_type": "markdown",
   "id": "8b3ca4c3-92d7-452b-ac13-71842f0d39b8",
   "metadata": {},
   "source": [
    "`(풀이)`"
   ]
  },
  {
   "cell_type": "code",
   "execution_count": 10,
   "id": "389a01ee-9b9d-4d1b-a818-b85c4a6b1471",
   "metadata": {},
   "outputs": [],
   "source": [
    "an = c()\n",
    "for(n in 1:100){\n",
    "    if(n%%2 ==0){\n",
    "        an[n] =0\n",
    "    }else{\n",
    "        an[n] = (1/2)^n\n",
    "    }\n",
    "}"
   ]
  },
  {
   "cell_type": "code",
   "execution_count": 15,
   "id": "fa685b63-dcc1-488d-afe7-7301c6b07295",
   "metadata": {},
   "outputs": [
    {
     "data": {
      "text/plain": [
       "[1] 0.50000 0.00000 0.12500 0.00000 0.03125"
      ]
     },
     "execution_count": 15,
     "metadata": {},
     "output_type": "execute_result"
    }
   ],
   "source": [
    "an[1:5]"
   ]
  },
  {
   "cell_type": "markdown",
   "id": "ba352b14-b29e-4879-a42f-e8be5a6cf7ef",
   "metadata": {},
   "source": [
    "`(5)` $a_1=1, a_2=2$; $a_n = a_{n-1} + a_{n-2} , n \\geq 3$"
   ]
  },
  {
   "cell_type": "markdown",
   "id": "4123b3db-567b-44f9-8c87-2baf39a25713",
   "metadata": {},
   "source": [
    "`(풀이)`"
   ]
  },
  {
   "cell_type": "code",
   "execution_count": 16,
   "id": "e01f961f-c488-42b4-8c0a-f31eee6c1b70",
   "metadata": {},
   "outputs": [
    {
     "data": {
      "text/plain": [
       "[1] 1 2 3 5 8"
      ]
     },
     "execution_count": 16,
     "metadata": {},
     "output_type": "execute_result"
    }
   ],
   "source": [
    "an = c(1,2)\n",
    "for(n in 3:100){\n",
    "    an[n] = an[n-1] + an[n-2]\n",
    "}\n",
    "an[1:5]"
   ]
  },
  {
   "cell_type": "markdown",
   "id": "5f67a5aa-ab28-4877-99ef-d8974e375ae7",
   "metadata": {},
   "source": [
    "## 2. 인덱싱 -- 15점"
   ]
  },
  {
   "cell_type": "markdown",
   "id": "1ccfc451-ce84-4860-8e75-86596063dbce",
   "metadata": {},
   "source": [
    "> 문항당 3점"
   ]
  },
  {
   "cell_type": "markdown",
   "id": "93e1f12d-853f-471a-8af7-3daed3969577",
   "metadata": {},
   "source": [
    "아래의 벡터를 고려하자. "
   ]
  },
  {
   "cell_type": "code",
   "execution_count": 17,
   "id": "3f18f794-2ce6-4c03-a177-ea2c1e563dbe",
   "metadata": {},
   "outputs": [
    {
     "data": {
      "text/plain": [
       "  [1] -0.724154332 -0.786807067  0.322143867  1.245215545  0.541298135\n",
       "  [6]  1.644425736  1.010839968 -0.041093855  0.566219689  0.322589945\n",
       " [11]  0.744257098  1.318771443  1.741644032 -0.481877777 -0.212304360\n",
       " [16] -0.038340064 -0.670476111  1.116346318 -1.017367268 -2.764108407\n",
       " [21] -1.691021535 -0.286386675 -0.293329723 -0.439574695  1.187215542\n",
       " [26]  0.619075484  1.725469680  0.387946245  2.014429677 -1.858183602\n",
       " [31]  0.475627218 -1.522483833 -1.221104431  0.526176114  0.300794693\n",
       " [36]  0.419955219  0.774111400  1.118417590 -0.003518173 -1.339826327\n",
       " [41]  0.689804767  1.241655279  0.540903204 -0.090689478  0.899004061\n",
       " [46]  0.277964244  0.102093035  0.026743749 -1.366798404  1.725945031\n",
       " [51]  0.016568963  2.435175155  0.660768741  0.586336164  0.915387917\n",
       " [56]  1.032858015  0.487488367  0.983191955 -1.672555500 -2.391719134\n",
       " [61] -0.653742759  1.169355804  1.187078729 -1.099769071  0.175000573\n",
       " [66] -1.806541369  1.137909229 -0.041377066  1.669815049  1.063072588\n",
       " [71]  1.590954249 -1.385275254  1.108154509  1.154914467 -2.167338566\n",
       " [76] -0.174894345  1.213979381  0.722172855 -1.839824680  1.565277416\n",
       " [81]  0.883058660 -0.193202697 -0.805387640  0.115174290 -1.419227107\n",
       " [86] -1.347685370  0.338432430 -1.511701575 -0.969561843  1.854438960\n",
       " [91] -0.376556809  1.228923415 -1.326004497 -0.608823772  0.424967512\n",
       " [96]  1.027977993  0.143027357  1.539912811 -2.705749561 -2.271813360"
      ]
     },
     "execution_count": 17,
     "metadata": {},
     "output_type": "execute_result"
    }
   ],
   "source": [
    "set.seed(43052)\n",
    "x = rnorm(100)\n",
    "x"
   ]
  },
  {
   "cell_type": "markdown",
   "id": "f71345b5-9211-4ed0-b569-d535aad6ca64",
   "metadata": {},
   "source": [
    "`(1)` 양수인 원소의 갯수를 count하라. "
   ]
  },
  {
   "cell_type": "markdown",
   "id": "5d54ca9a-282a-4625-b40f-2e847458f4be",
   "metadata": {},
   "source": [
    "`(풀이)`"
   ]
  },
  {
   "cell_type": "code",
   "execution_count": 19,
   "id": "e3d5d083-3a47-4cf5-9cad-c46d23cf1de0",
   "metadata": {},
   "outputs": [
    {
     "data": {
      "text/plain": [
       "[1] 59"
      ]
     },
     "execution_count": 19,
     "metadata": {},
     "output_type": "execute_result"
    }
   ],
   "source": [
    "sum(x>0)"
   ]
  },
  {
   "cell_type": "markdown",
   "id": "6717bc3f-2b63-4db4-a13e-05f35806fc13",
   "metadata": {},
   "source": [
    "`(2)` 양수인 원소의 합과 음수인 원소의 합을 구하라.  두 값의 절대값은 어느쪽이 더 큰가? "
   ]
  },
  {
   "cell_type": "markdown",
   "id": "b7eb8cb0-d000-416a-aa06-36da2cf08642",
   "metadata": {},
   "source": [
    "`(풀이)`"
   ]
  },
  {
   "cell_type": "code",
   "execution_count": 22,
   "id": "45946c8e-fa20-4375-9c7e-26d8e5e97ffe",
   "metadata": {},
   "outputs": [
    {
     "data": {
      "text/plain": [
       "[1] 54.05846"
      ]
     },
     "execution_count": 22,
     "metadata": {},
     "output_type": "execute_result"
    }
   ],
   "source": [
    "sum(x[x>0])"
   ]
  },
  {
   "cell_type": "code",
   "execution_count": 23,
   "id": "93cd067d-b64a-4e0b-8f34-52be43c37261",
   "metadata": {},
   "outputs": [
    {
     "data": {
      "text/plain": [
       "[1] -43.6182"
      ]
     },
     "execution_count": 23,
     "metadata": {},
     "output_type": "execute_result"
    }
   ],
   "source": [
    "sum(x[x<0])"
   ]
  },
  {
   "cell_type": "markdown",
   "id": "9ad0d896-2f5d-4e32-bda1-1c3a7b40af1a",
   "metadata": {},
   "source": [
    "`(3)` $-0.2 <x <0.1$의 범위에 있는 원소의 수를 count 하라. "
   ]
  },
  {
   "cell_type": "markdown",
   "id": "402e9b87-613a-4b84-98fb-b88bb6c29e4b",
   "metadata": {},
   "source": [
    "`(풀이)`"
   ]
  },
  {
   "cell_type": "code",
   "execution_count": 27,
   "id": "6122e831-b31b-41f4-b390-c0b26dbfaea2",
   "metadata": {},
   "outputs": [],
   "source": [
    "y = x[x > -0.2]"
   ]
  },
  {
   "cell_type": "code",
   "execution_count": 30,
   "id": "01810a30-ef61-483b-a87c-07f170da764d",
   "metadata": {},
   "outputs": [
    {
     "data": {
      "text/plain": [
       "[1] 9"
      ]
     },
     "execution_count": 30,
     "metadata": {},
     "output_type": "execute_result"
    }
   ],
   "source": [
    "sum(y<0.1)"
   ]
  },
  {
   "cell_type": "markdown",
   "id": "9091c7ef-22f7-4dce-9148-a9bc4aa1cad5",
   "metadata": {},
   "source": [
    "`(4)` 0.5와 가장 가까운 원소를 출력하라 ."
   ]
  },
  {
   "cell_type": "markdown",
   "id": "866be67d-1b27-4214-8ead-c776eda7e82d",
   "metadata": {},
   "source": [
    "`(풀이)`"
   ]
  },
  {
   "cell_type": "code",
   "execution_count": 32,
   "id": "71ded76d-34a5-4d04-9e32-60df01e87752",
   "metadata": {},
   "outputs": [
    {
     "data": {
      "text/plain": [
       "[1] 57"
      ]
     },
     "execution_count": 32,
     "metadata": {},
     "output_type": "execute_result"
    }
   ],
   "source": [
    "which.min(abs(x- 0.5))"
   ]
  },
  {
   "cell_type": "code",
   "execution_count": 33,
   "id": "8e8fd62b-07b8-41be-9084-253bf4bc79a8",
   "metadata": {},
   "outputs": [
    {
     "data": {
      "text/plain": [
       "[1] 0.4874884"
      ]
     },
     "execution_count": 33,
     "metadata": {},
     "output_type": "execute_result"
    }
   ],
   "source": [
    "x[57]"
   ]
  },
  {
   "cell_type": "markdown",
   "id": "83d9b2e3-b15b-43c0-99aa-a741c2d146be",
   "metadata": {},
   "source": [
    "`(5)` 평균과 가장 멀리있는 원소를 출력하라. "
   ]
  },
  {
   "cell_type": "markdown",
   "id": "3a168f8b-1f7a-4015-8f07-5da88acda8a6",
   "metadata": {},
   "source": [
    "`(풀이)`"
   ]
  },
  {
   "cell_type": "code",
   "execution_count": 34,
   "id": "6e594e2b-1a69-432c-866d-46898e94f971",
   "metadata": {},
   "outputs": [
    {
     "data": {
      "text/plain": [
       "[1] 20"
      ]
     },
     "execution_count": 34,
     "metadata": {},
     "output_type": "execute_result"
    }
   ],
   "source": [
    "which.max(abs(x- mean(x)))"
   ]
  },
  {
   "cell_type": "code",
   "execution_count": 35,
   "id": "fffff3d1-3b1e-4bb6-9483-e77d0c6dee63",
   "metadata": {},
   "outputs": [
    {
     "data": {
      "text/plain": [
       "[1] -2.764108"
      ]
     },
     "execution_count": 35,
     "metadata": {},
     "output_type": "execute_result"
    }
   ],
   "source": [
    "x[20]"
   ]
  },
  {
   "cell_type": "markdown",
   "id": "55b4b193-5aae-4fbd-b94f-7766175227e3",
   "metadata": {},
   "source": [
    "## 3. Matrix -- 20점"
   ]
  },
  {
   "cell_type": "markdown",
   "id": "3cef34e1-478f-4ee5-ad4d-3859fbfe3e61",
   "metadata": {},
   "source": [
    "> 문항당 5점"
   ]
  },
  {
   "cell_type": "markdown",
   "id": "ad4ce115-d38b-4f49-b226-256a54af9ef6",
   "metadata": {},
   "source": [
    "아래의 matrix를 고려하자. "
   ]
  },
  {
   "cell_type": "code",
   "execution_count": 36,
   "id": "31f6ab03-b5c7-46fb-a3c2-2b796b000baf",
   "metadata": {},
   "outputs": [],
   "source": [
    "X = rnorm(200); \n",
    "dim(X) = c(20,10)"
   ]
  },
  {
   "cell_type": "markdown",
   "id": "26433e84-a2e9-4f51-aa2e-fe1c454a88cc",
   "metadata": {},
   "source": [
    "`(1)` 열별로 양수를 count하라. "
   ]
  },
  {
   "cell_type": "markdown",
   "id": "255e84c4-9f8e-409f-acc7-4d8657cab7a8",
   "metadata": {},
   "source": [
    "`(풀이)`"
   ]
  },
  {
   "cell_type": "code",
   "execution_count": 43,
   "id": "58daeaff-ef3a-4f0c-877a-0f225e5a94f0",
   "metadata": {},
   "outputs": [
    {
     "data": {
      "text/plain": [
       " [1] 12 12  7 13 11  8  8 11  9 10"
      ]
     },
     "execution_count": 43,
     "metadata": {},
     "output_type": "execute_result"
    }
   ],
   "source": [
    "a = c()\n",
    "for(j in 1:10){\n",
    "    a[j] = sum(X[,j] > 0)    \n",
    "}\n",
    "a"
   ]
  },
  {
   "cell_type": "markdown",
   "id": "935f5f52-a4a8-4d5f-8821-901274cab057",
   "metadata": {},
   "source": [
    "`(2)` 가장 많은 숫자의 양수를 보유한 열은? "
   ]
  },
  {
   "cell_type": "code",
   "execution_count": 45,
   "id": "3436b4e0-043f-4181-85ed-6a6113e71291",
   "metadata": {},
   "outputs": [
    {
     "data": {
      "text/plain": [
       "[1] 4"
      ]
     },
     "execution_count": 45,
     "metadata": {},
     "output_type": "execute_result"
    }
   ],
   "source": [
    "which.max(a)"
   ]
  },
  {
   "cell_type": "markdown",
   "id": "5e124241-f139-4296-a14d-00ceeb5d95fa",
   "metadata": {},
   "source": [
    "`(3)` 행별로 최대값과 최소값을 구하라. "
   ]
  },
  {
   "cell_type": "markdown",
   "id": "9fba7655-5a5e-4600-9274-8d43c66381d3",
   "metadata": {},
   "source": [
    "`(풀이)`"
   ]
  },
  {
   "cell_type": "code",
   "execution_count": 47,
   "id": "792f8aa1-91e7-45f9-8627-194e085d5b89",
   "metadata": {},
   "outputs": [],
   "source": [
    "a = c()\n",
    "b = c()\n",
    "for(i in 1:20){\n",
    "    a[i] = max(X[i,])\n",
    "    b[i] = min(X[i,])\n",
    "}"
   ]
  },
  {
   "cell_type": "code",
   "execution_count": 48,
   "id": "b2ac2adf-cb18-4dfc-adb5-621c90ea6b36",
   "metadata": {},
   "outputs": [
    {
     "data": {
      "text/plain": [
       " [1] 2.0782276 0.9765560 1.4556490 1.5831809 0.7072966 2.0459338 1.2332443\n",
       " [8] 1.5590517 1.0431770 1.7608914 1.8330603 1.0409267 2.3305497 2.2062090\n",
       "[15] 0.7724140 2.4259680 1.1632968 1.4911815 0.9195254 1.1524438"
      ]
     },
     "execution_count": 48,
     "metadata": {},
     "output_type": "execute_result"
    }
   ],
   "source": [
    "a"
   ]
  },
  {
   "cell_type": "code",
   "execution_count": 49,
   "id": "13322c9f-9f28-4517-b741-6554db94ac2b",
   "metadata": {},
   "outputs": [
    {
     "data": {
      "text/plain": [
       " [1] -0.9063185 -2.2019410 -1.2226595 -2.1306331 -2.0470883 -1.7249115\n",
       " [7] -0.8926343 -2.7928363 -1.2140910 -1.7602147 -1.0219255 -1.6810861\n",
       "[13] -1.8325957 -1.3256536 -2.2049965 -1.4324366 -2.0865996 -0.8459714\n",
       "[19] -1.2273253 -1.3226180"
      ]
     },
     "execution_count": 49,
     "metadata": {},
     "output_type": "execute_result"
    }
   ],
   "source": [
    "b"
   ]
  },
  {
   "cell_type": "markdown",
   "id": "d3a9885d-a2ec-450f-8b8e-08e9dcafc6b1",
   "metadata": {},
   "source": [
    "`(4)` 최대값과 최소값이 차이가 가장 큰 행은? "
   ]
  },
  {
   "cell_type": "markdown",
   "id": "41ef4f0d-c47e-44eb-bc10-b260738fb558",
   "metadata": {},
   "source": [
    "`(풀이)`"
   ]
  },
  {
   "cell_type": "code",
   "execution_count": 52,
   "id": "2e58148f-f929-4625-b11f-8b3c2ea06186",
   "metadata": {},
   "outputs": [
    {
     "data": {
      "text/plain": [
       "[1] 8"
      ]
     },
     "execution_count": 52,
     "metadata": {},
     "output_type": "execute_result"
    }
   ],
   "source": [
    "which.max(a-b)"
   ]
  },
  {
   "cell_type": "markdown",
   "id": "a889be7c-5757-4390-9d85-6b8430ba681f",
   "metadata": {},
   "source": [
    "# Python"
   ]
  },
  {
   "cell_type": "code",
   "execution_count": 29,
   "id": "9c9a8675-4848-41fd-81f6-f01ae3127bfd",
   "metadata": {},
   "outputs": [
    {
     "name": "stderr",
     "output_type": "stream",
     "text": [
      "Matplotlib is building the font cache; this may take a moment.\n"
     ]
    }
   ],
   "source": [
    "import numpy as np\n",
    "import matplotlib.pyplot as plt"
   ]
  },
  {
   "cell_type": "markdown",
   "id": "7369cdce-79ee-47cf-a935-08b4e06771a7",
   "metadata": {},
   "source": [
    "## 1. 기본문법 -- 10점 "
   ]
  },
  {
   "cell_type": "markdown",
   "id": "34541ad0-a966-4a67-8780-c4c51c0b0f71",
   "metadata": {},
   "source": [
    "`(1)` 아래와 같이 두 변수 a,b에 값이 저장되어있다. 두 값을 임시변수 없이 교환하라. -- 2점"
   ]
  },
  {
   "cell_type": "code",
   "execution_count": 1,
   "id": "8243860c-6c32-4435-8923-70b874fe5852",
   "metadata": {},
   "outputs": [],
   "source": [
    "a = 1 \n",
    "b = 2"
   ]
  },
  {
   "cell_type": "markdown",
   "id": "5feeebe5-11ea-4033-af2d-badc00c193e9",
   "metadata": {},
   "source": [
    "`(풀이)`"
   ]
  },
  {
   "cell_type": "code",
   "execution_count": 2,
   "id": "309c5bfc-3287-4d22-8888-6af2dde33de9",
   "metadata": {},
   "outputs": [],
   "source": [
    "b,a = a,b "
   ]
  },
  {
   "cell_type": "code",
   "execution_count": 4,
   "id": "7071653d-72ee-41a1-9b9a-0e1fda3eb2de",
   "metadata": {},
   "outputs": [
    {
     "data": {
      "text/plain": [
       "(2, 1)"
      ]
     },
     "execution_count": 4,
     "metadata": {},
     "output_type": "execute_result"
    }
   ],
   "source": [
    "a,b"
   ]
  },
  {
   "cell_type": "markdown",
   "id": "cdcb7ea2-88e4-4e77-881b-2acaca76a936",
   "metadata": {},
   "source": [
    "`(2)` 컴프리헨션을 이용하여 아래와 같은 수열을 생성하라.  -- 2점"
   ]
  },
  {
   "cell_type": "markdown",
   "id": "48266b9a-65d4-4ca4-92a0-b369bc028c90",
   "metadata": {},
   "source": [
    "$$x_n = [3,6,9,\\dots,30]$$"
   ]
  },
  {
   "cell_type": "markdown",
   "id": "fb109629-30f9-4c87-9e4a-0ae8a6d9ca6e",
   "metadata": {},
   "source": [
    "`(풀이)`"
   ]
  },
  {
   "cell_type": "code",
   "execution_count": 22,
   "id": "99652cd1-b738-45d7-93c8-712372774668",
   "metadata": {},
   "outputs": [
    {
     "data": {
      "text/plain": [
       "[3, 6, 9, 12, 15, 18, 21, 24, 27, 30]"
      ]
     },
     "execution_count": 22,
     "metadata": {},
     "output_type": "execute_result"
    }
   ],
   "source": [
    "x = [3*n for n in range(1,11)]\n",
    "x"
   ]
  },
  {
   "cell_type": "markdown",
   "id": "028af4d8-d8f3-4f57-ab91-332c20213d69",
   "metadata": {},
   "source": [
    "`(3)` 짝수가 입력으로오면 \"짝수\" 를 리턴하고 홀수가 입력으로 오면 \"홀수\"를 리턴하는 함수를 구현하라. 아래는 구현된 함수를 사용한 예시이다. -- 2점"
   ]
  },
  {
   "cell_type": "markdown",
   "id": "2b279bb2-a96e-4723-b1c6-418fd28fb461",
   "metadata": {},
   "source": [
    "`(풀이)`"
   ]
  },
  {
   "cell_type": "code",
   "execution_count": 10,
   "id": "af1b13ea-85c9-463c-9968-a1e34540548f",
   "metadata": {},
   "outputs": [],
   "source": [
    "func = lambda x: \"짝수\" if x%2==0 else \"홀수\""
   ]
  },
  {
   "cell_type": "code",
   "execution_count": 14,
   "id": "8eb6ce6f-800b-4fca-98ce-4ccab14eb29f",
   "metadata": {},
   "outputs": [],
   "source": [
    "def func(x):\n",
    "    return \"짝수\" if x%2==0 else \"홀수\""
   ]
  },
  {
   "cell_type": "code",
   "execution_count": 17,
   "id": "9c3fa678-23ec-4816-a034-2a5b359f7c39",
   "metadata": {},
   "outputs": [],
   "source": [
    "def func(x):\n",
    "    if x%2 ==0:\n",
    "        return \"짝수\"\n",
    "    else:\n",
    "        return \"홀수\""
   ]
  },
  {
   "cell_type": "code",
   "execution_count": 18,
   "id": "20a40d75-4243-4ad6-a548-3668c470adaf",
   "metadata": {},
   "outputs": [
    {
     "data": {
      "text/plain": [
       "'짝수'"
      ]
     },
     "execution_count": 18,
     "metadata": {},
     "output_type": "execute_result"
    }
   ],
   "source": [
    "func(2)"
   ]
  },
  {
   "cell_type": "code",
   "execution_count": 19,
   "id": "141349c6-9222-4125-90e9-4bbd514b4e6b",
   "metadata": {},
   "outputs": [
    {
     "data": {
      "text/plain": [
       "'홀수'"
      ]
     },
     "execution_count": 19,
     "metadata": {},
     "output_type": "execute_result"
    }
   ],
   "source": [
    "func(3)"
   ]
  },
  {
   "cell_type": "markdown",
   "id": "1866d66f-f3b8-4fc6-ac1a-f45e23048598",
   "metadata": {},
   "source": [
    "`(4)` (2)에서 만든 $x_n$에 (3)의 함수를 적용하여 각 원소가 짝수인지 홀수인지 판단한뒤 그 결과를 아래와 같은 리스트로 만들어라. -- 2점"
   ]
  },
  {
   "cell_type": "code",
   "execution_count": 20,
   "id": "b883105c-ac42-4241-a5ab-a28095c053de",
   "metadata": {},
   "outputs": [
    {
     "data": {
      "text/plain": [
       "['홀수', '짝수', '홀수', '짝수', '홀수', '짝수', '홀수', '짝수', '홀수', '짝수']"
      ]
     },
     "execution_count": 20,
     "metadata": {},
     "output_type": "execute_result"
    }
   ],
   "source": [
    "['홀수', '짝수', '홀수', '짝수', '홀수', '짝수', '홀수', '짝수', '홀수', '짝수']"
   ]
  },
  {
   "cell_type": "markdown",
   "id": "fe86f0d7-dbff-45e3-83de-8a4911db2c0d",
   "metadata": {},
   "source": [
    "`(풀이)`"
   ]
  },
  {
   "cell_type": "code",
   "execution_count": 27,
   "id": "244e770c-40fa-4b15-849b-12ce58c9bcd4",
   "metadata": {},
   "outputs": [
    {
     "data": {
      "text/plain": [
       "['홀수', '짝수', '홀수', '짝수', '홀수', '짝수', '홀수', '짝수', '홀수', '짝수']"
      ]
     },
     "execution_count": 27,
     "metadata": {},
     "output_type": "execute_result"
    }
   ],
   "source": [
    "[func(xi) for xi in x]"
   ]
  },
  {
   "cell_type": "markdown",
   "id": "52b96f40-d4a2-4672-8b25-dded77d2d801",
   "metadata": {},
   "source": [
    "`(5)` 아래와 같은 array가 있다고 하자.  -- 2점"
   ]
  },
  {
   "cell_type": "code",
   "execution_count": 30,
   "id": "c8c73647-427a-4658-b61b-3ca1bcc7e0c0",
   "metadata": {},
   "outputs": [],
   "source": [
    "x = np.random.randn(100)\n",
    "y = np.random.randn(100)"
   ]
  },
  {
   "cell_type": "markdown",
   "id": "81a83303-dfcb-4bfa-a1b3-a60bae07b58d",
   "metadata": {},
   "source": [
    "$x_i > y_i$ 를 만족하는 원소는 몇개있는가? "
   ]
  },
  {
   "cell_type": "markdown",
   "id": "909ec930-6c7f-43ee-a3ee-a0d1000ebed5",
   "metadata": {},
   "source": [
    "`(풀이)`"
   ]
  },
  {
   "cell_type": "code",
   "execution_count": 33,
   "id": "4d4d4637-d251-41c6-a831-557c6334d3bc",
   "metadata": {},
   "outputs": [
    {
     "data": {
      "text/plain": [
       "np.int32(56)"
      ]
     },
     "execution_count": 33,
     "metadata": {},
     "output_type": "execute_result"
    }
   ],
   "source": [
    "sum(x > y)"
   ]
  },
  {
   "cell_type": "code",
   "execution_count": 35,
   "id": "bc8f8be1-06b6-4b88-919f-0db132e7e676",
   "metadata": {},
   "outputs": [
    {
     "data": {
      "text/plain": [
       "np.int32(56)"
      ]
     },
     "execution_count": 35,
     "metadata": {},
     "output_type": "execute_result"
    }
   ],
   "source": [
    "(x>y).sum()"
   ]
  },
  {
   "cell_type": "code",
   "execution_count": 36,
   "id": "41e98f4e-329c-43ff-bc85-43341584503c",
   "metadata": {},
   "outputs": [
    {
     "data": {
      "text/plain": [
       "np.int32(56)"
      ]
     },
     "execution_count": 36,
     "metadata": {},
     "output_type": "execute_result"
    }
   ],
   "source": [
    "np.sum(x>y)"
   ]
  },
  {
   "cell_type": "markdown",
   "id": "09ab6c28-f847-4b20-8b7f-1ed9ff4869df",
   "metadata": {},
   "source": [
    "## 2. 겹쳐서 그리기 -- 10점"
   ]
  },
  {
   "cell_type": "markdown",
   "id": "32bcaec1-ac98-4375-84a5-0177b7830e22",
   "metadata": {},
   "source": [
    "`(1)` $-2<x<2$ 에서 $\\cos(2x)$ 의 그래프와 $\\frac{1}{20}x+0.5$의 그래프를 겹쳐 그려라. 교점의 수가 몇개인가? -- 2점"
   ]
  },
  {
   "cell_type": "markdown",
   "id": "7731b503-5e8b-494b-b5e0-f0243c5d27f0",
   "metadata": {},
   "source": [
    "`(풀이)`"
   ]
  },
  {
   "cell_type": "code",
   "execution_count": 39,
   "id": "aaef437b-f64d-425d-a4ef-f3feac96c549",
   "metadata": {},
   "outputs": [
    {
     "data": {
      "text/plain": [
       "[<matplotlib.lines.Line2D at 0x3cb5958>]"
      ]
     },
     "execution_count": 39,
     "metadata": {},
     "output_type": "execute_result"
    },
    {
     "data": {
      "image/png": "[encoded data removed]",
      "text/plain": [
       "<Figure size 640x480 with 1 Axes>"
      ]
     },
     "metadata": {},
     "output_type": "display_data"
    }
   ],
   "source": [
    "x = np.linspace(-2,2,1001)\n",
    "plt.plot(x,np.cos(2*x))\n",
    "plt.plot(x,1/20*x + 0.5)"
   ]
  },
  {
   "cell_type": "markdown",
   "id": "a92cea22-857f-425b-817c-7bcc2e404b21",
   "metadata": {},
   "source": [
    "`(2)` $-2<x<2$ 에서 $\\cos(2x)$ 의 그래프와 $\\frac{1}{20}x+k$의 그래프를 겹쳐 그렸을때 두 그래프가 많은 교점을 같도록 상수 $k$의 값을 적절히 선택하라. (\"교점의 수$\\times$2\" 를 점수로 인정, 최대 8점까지 획득가능) -- 8점"
   ]
  },
  {
   "cell_type": "markdown",
   "id": "1abf78b9-cf35-4797-9ec3-6be1c96d6062",
   "metadata": {},
   "source": [
    "`(풀이)`"
   ]
  },
  {
   "cell_type": "code",
   "execution_count": 43,
   "id": "77063088-e7be-4065-a33a-8cb715fbea0f",
   "metadata": {},
   "outputs": [
    {
     "data": {
      "text/plain": [
       "[<matplotlib.lines.Line2D at 0x4c16978>]"
      ]
     },
     "execution_count": 43,
     "metadata": {},
     "output_type": "execute_result"
    },
    {
     "data": {
      "image/png": "[encoded data removed]",
      "text/plain": [
       "<Figure size 640x480 with 1 Axes>"
      ]
     },
     "metadata": {},
     "output_type": "display_data"
    }
   ],
   "source": [
    "x = np.linspace(-2,2,1001)\n",
    "plt.plot(x,np.cos(2*x))\n",
    "plt.plot(x,1/20*x - 0.85)"
   ]
  },
  {
   "cell_type": "markdown",
   "id": "cb58d15e-4869-4f1c-914a-c499ef1c6847",
   "metadata": {},
   "source": [
    "`#`"
   ]
  },
  {
   "cell_type": "markdown",
   "id": "7c68ef07-5ef6-4138-aa59-a5b1221eea76",
   "metadata": {},
   "source": [
    "## 3. Oxford-III -- 30점"
   ]
  },
  {
   "cell_type": "markdown",
   "id": "898c28a6-9b01-4b59-a0bb-51f703b35f72",
   "metadata": {},
   "source": [
    "> (1), (2) 를 풀지않고 바로 (3)만 풀어도 정답으로 인정함 "
   ]
  },
  {
   "cell_type": "markdown",
   "id": "707ae1d6-8928-40a9-9b77-7f96725d8fd5",
   "metadata": {},
   "source": [
    "`Oxford-III`: //\n",
    "[reference](https://www.robots.ox.ac.uk/~vgg/data/pets/)\n",
    "\n",
    "아래는 이미지 파일명을 불러오는 코드이다."
   ]
  },
  {
   "cell_type": "code",
   "execution_count": 44,
   "id": "983a4383-f7a5-4725-9704-cacdba344be2",
   "metadata": {
    "tags": []
   },
   "outputs": [],
   "source": [
    "import requests\n",
    "url = 'https://raw.githubusercontent.com/guebin/PP2023/main/posts/01_PythonBasic/Oxford-IIIT.txt'\n",
    "txt = requests.get(url).content.decode()\n",
    "flist = txt.split()"
   ]
  },
  {
   "cell_type": "code",
   "execution_count": 45,
   "id": "6179d3b5-64c3-4bf8-8c76-1cdf4fe50bf5",
   "metadata": {},
   "outputs": [
    {
     "data": {
      "text/plain": [
       "['Abyssinian_1.jpg',\n",
       " 'Abyssinian_10.jpg',\n",
       " 'Abyssinian_100.jpg',\n",
       " 'Abyssinian_100.mat',\n",
       " 'Abyssinian_101.jpg',\n",
       " 'Abyssinian_101.mat',\n",
       " 'Abyssinian_102.jpg',\n",
       " 'Abyssinian_102.mat',\n",
       " 'Abyssinian_103.jpg',\n",
       " 'Abyssinian_104.jpg']"
      ]
     },
     "execution_count": 45,
     "metadata": {},
     "output_type": "execute_result"
    }
   ],
   "source": [
    "flist[:10]"
   ]
  },
  {
   "attachments": {},
   "cell_type": "markdown",
   "id": "bdc4b75d-42e6-45ce-bfd8-3d76ca032ecd",
   "metadata": {},
   "source": [
    "`(1)` 각 이미지파일명은 아래와 같은 규칙으로 저장되어 있다. -- 10점\n",
    "\n",
    "- 파일명의 첫글자가 대문자이면 고양이를 의미하고 첫글자가 소문자이면 강아지를 의미한다.\n",
    "\n",
    "이와 같은 규칙을 명확하게 하기 위하여 고양이일 경우 앞에 파일명의 앞에 \"고양이_\" 를 붙이고 강아지일 경우 \"강아지_\"를 붙이고 싶다. 이를 구현하는 코드를 작성하라. "
   ]
  },
  {
   "cell_type": "markdown",
   "id": "1e48b8b9-d80f-4cf3-a1f2-9aafbff3df39",
   "metadata": {},
   "source": [
    "`(풀이)`"
   ]
  },
  {
   "cell_type": "code",
   "execution_count": 65,
   "id": "30ecdc05-7965-499f-801f-6f77bf64b752",
   "metadata": {},
   "outputs": [
    {
     "data": {
      "text/plain": [
       "['고양이_Abyssinian_1.jpg',\n",
       " '고양이_Abyssinian_10.jpg',\n",
       " '고양이_Abyssinian_100.jpg',\n",
       " '고양이_Abyssinian_100.mat',\n",
       " '고양이_Abyssinian_101.jpg']"
      ]
     },
     "execution_count": 65,
     "metadata": {},
     "output_type": "execute_result"
    }
   ],
   "source": [
    "def func(fname):\n",
    "    if fname[0].isupper():\n",
    "        return \"고양이_\"+fname\n",
    "    else:\n",
    "        return \"강아지_\"+fname\n",
    "flist = [func(fname) for fname in flist]\n",
    "flist[:5]"
   ]
  },
  {
   "cell_type": "markdown",
   "id": "34da2851-5d11-4f10-8a93-40d00b29a7b0",
   "metadata": {},
   "source": [
    "`(2)` 아래의 딕셔너리를 이용하여 (1)에서 얻은 리스트의 각 원소에 해당하는 종의 이름을 한글로 바꾸는 함수를 구현하라.  -- 10점"
   ]
  },
  {
   "cell_type": "code",
   "execution_count": 66,
   "id": "906c07f8-2f3e-44e2-b912-3777ac6f85b5",
   "metadata": {},
   "outputs": [],
   "source": [
    "breed_ko_dict = {\n",
    "    'Abyssinian': '아비시니안',\n",
    "    'Bengal': '벵갈',\n",
    "    'Birman': '버만',\n",
    "    'Bombay': '봄베이',\n",
    "    'British_Shorthair': '브리티시쇼트헤어',\n",
    "    'Egyptian_Mau': '이집션마우',\n",
    "    'Maine_Coon': '메인쿤',\n",
    "    'Persian': '페르시안',\n",
    "    'Ragdoll': '랙돌',\n",
    "    'Russian_Blue': '러시안블루',\n",
    "    'Siamese': '샴',\n",
    "    'Sphynx': '스핑크스',\n",
    "    'american_bulldog': '아메리칸불도그',\n",
    "    'american_pit_bull_terrier': '아메리칸핏불테리어',\n",
    "    'basset_hound': '바셋하운드',\n",
    "    'beagle': '비글',\n",
    "    'boxer': '복서',\n",
    "    'chihuahua': '치와와',\n",
    "    'english_cocker_spaniel': '잉글리시코커스패니얼',\n",
    "    'english_setter': '잉글리시세터',\n",
    "    'german_shorthaired': '저먼쇼트헤어드포인터',\n",
    "    'great_pyrenees': '그레이트피레니즈',\n",
    "    'havanese': '하바니즈',\n",
    "    'japanese_chin': '재패니즈친',\n",
    "    'keeshond': '키스혼드',\n",
    "    'leonberger': '레온버거',\n",
    "    'miniature_pinscher': '미니어처핀셔',\n",
    "    'newfoundland': '뉴펀들랜드',\n",
    "    'pomeranian': '포메라니안',\n",
    "    'pug': '퍼그',\n",
    "    'saint_bernard': '세인트버나드',\n",
    "    'samoyed': '사모예드',\n",
    "    'scottish_terrier': '스코티시테리어',\n",
    "    'shiba_inu': '시바이누',\n",
    "    'staffordshire_bull_terrier': '스태퍼드셔불테리어',\n",
    "    'wheaten_terrier': '휘튼테리어',\n",
    "    'yorkshire_terrier': '요크셔테리어'\n",
    "}"
   ]
  },
  {
   "cell_type": "markdown",
   "id": "44720a26-b1b2-46bb-b45f-7a2712e081dc",
   "metadata": {},
   "source": [
    "구현예시는 아래와 같다. "
   ]
  },
  {
   "cell_type": "code",
   "execution_count": 98,
   "id": "e885a7c5-d0b4-43c0-b1bf-fcca241b9a37",
   "metadata": {},
   "outputs": [
    {
     "data": {
      "text/plain": [
       "'강아지_스코티시테리어_98.jpg'"
      ]
     },
     "execution_count": 98,
     "metadata": {},
     "output_type": "execute_result"
    }
   ],
   "source": [
    "# 출력예시1\n",
    "func('강아지_scottish_terrier_98.jpg')"
   ]
  },
  {
   "cell_type": "code",
   "execution_count": 99,
   "id": "56e5da73-3061-4009-aa82-91d6f8861a82",
   "metadata": {},
   "outputs": [
    {
     "data": {
      "text/plain": [
       "'고양이_브리티시쇼트헤어_97.jpg'"
      ]
     },
     "execution_count": 99,
     "metadata": {},
     "output_type": "execute_result"
    }
   ],
   "source": [
    "# 출력예시2\n",
    "func('고양이_British_Shorthair_97.jpg')"
   ]
  },
  {
   "cell_type": "markdown",
   "id": "cf3ac203-3239-427a-806c-a4aa688a5f1a",
   "metadata": {},
   "source": [
    "`(풀이)`"
   ]
  },
  {
   "cell_type": "code",
   "execution_count": 96,
   "id": "e4ced470-598a-45f1-bc6a-e7e50caaef11",
   "metadata": {},
   "outputs": [],
   "source": [
    "def func(fname):\n",
    "    fname_list = fname.split(\"_\")\n",
    "    head = fname_list[0]\n",
    "    tail = fname_list[-1]\n",
    "    body = \"_\".join(fname_list[1:][:-1])\n",
    "    body_kor = breed_ko_dict[body]\n",
    "    return head + \"_\" + body_kor + \"_\" + tail"
   ]
  },
  {
   "cell_type": "code",
   "execution_count": 97,
   "id": "aa4b1ab4-31f1-434b-8f6a-6bedb5663dd9",
   "metadata": {},
   "outputs": [
    {
     "data": {
      "text/plain": [
       "'강아지_스코티시테리어_98.jpg'"
      ]
     },
     "execution_count": 97,
     "metadata": {},
     "output_type": "execute_result"
    }
   ],
   "source": [
    "func('강아지_scottish_terrier_98.jpg')"
   ]
  },
  {
   "cell_type": "markdown",
   "id": "dac205e3-84ff-45c5-99d9-df79aab0b6c0",
   "metadata": {},
   "source": [
    "`(3)` (2)에서 구현한 함수를 이용하여 flist의 모든 원소를 바꾸어라. "
   ]
  },
  {
   "cell_type": "markdown",
   "id": "159d4e98-3672-401c-aadb-3f952e613134",
   "metadata": {},
   "source": [
    "`(풀이)`"
   ]
  },
  {
   "cell_type": "code",
   "execution_count": 103,
   "id": "a58243cc-971f-4397-aca2-7356079132a7",
   "metadata": {},
   "outputs": [
    {
     "data": {
      "text/plain": [
       "['고양이_아비시니안_1.jpg',\n",
       " '고양이_아비시니안_10.jpg',\n",
       " '고양이_아비시니안_100.jpg',\n",
       " '고양이_아비시니안_100.mat',\n",
       " '고양이_아비시니안_101.jpg']"
      ]
     },
     "execution_count": 103,
     "metadata": {},
     "output_type": "execute_result"
    }
   ],
   "source": [
    "[func(fname) for fname in flist][:5]"
   ]
  }
 ],
 "metadata": {
  "kernelspec": {
   "display_name": "Python 3 (ipykernel)",
   "language": "python",
   "name": "python3"
  },
  "language_info": {
   "codemirror_mode": {
    "name": "ipython",
    "version": 3
   },
   "file_extension": ".py",
   "mimetype": "text/x-python",
   "name": "python",
   "nbconvert_exporter": "python",
   "pygments_lexer": "ipython3",
   "version": "3.13.2"
  }
 },
 "nbformat": 4,
 "nbformat_minor": 5
}
