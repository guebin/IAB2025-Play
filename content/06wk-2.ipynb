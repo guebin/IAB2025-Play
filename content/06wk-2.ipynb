{
 "cells": [
  {
   "cell_type": "raw",
   "id": "7038fb0a-9def-494b-a669-05958c39b87c",
   "metadata": {
    "vscode": {
     "languageId": "raw"
    }
   },
   "source": [
    "---\n",
    "title: \"06wk-2: [Python] -- 잡기술, 집합, 연습문제 // 숙제 \"\n",
    "author: \"최규빈\"\n",
    "date: \"04/11/2025\"\n",
    "draft: false\n",
    "---"
   ]
  },
  {
   "cell_type": "markdown",
   "id": "10e5f74a-0428-4a60-9ff4-3969fabbe3c8",
   "metadata": {},
   "source": [
    "{{<video https://youtu.be/playlist?list=PLQqh36zP38-xUUR8klS_hw2hhlSRmP3N0&si=gpuTfLfpJjc89mED >}}"
   ]
  },
  {
   "cell_type": "markdown",
   "id": "4dbaa2b3-861f-41f9-9c13-e26efab8f387",
   "metadata": {},
   "source": [
    "## 1. 잡기술 (하지만 유용해)\n"
   ]
  },
  {
   "cell_type": "markdown",
   "id": "2763223d-87c2-4e10-84dc-2b112f863b6a",
   "metadata": {},
   "source": [
    "### A. 인덱싱고급 (스트라이딩)\n"
   ]
  },
  {
   "cell_type": "markdown",
   "id": "1fffedaf-b7ec-411a-9d45-0e6948a583e7",
   "metadata": {},
   "source": [
    "\n",
    "`-` 스트라이딩 \\[start:end:step\\]"
   ]
  },
  {
   "cell_type": "code",
   "execution_count": 72,
   "id": "9dd4f4ba-cb11-4037-b7c4-d316cf6e8242",
   "metadata": {},
   "outputs": [
    {
     "data": {
      "text/plain": [
       "['a', 'b', 'c', 'd', 'e', 'f', 'g', 'h', 'i', 'j', 'k']"
      ]
     },
     "execution_count": 72,
     "metadata": {},
     "output_type": "execute_result"
    }
   ],
   "source": [
    "lst = list('abcdefghijk')\n",
    "lst"
   ]
  },
  {
   "cell_type": "code",
   "execution_count": 73,
   "id": "f05d6bd9-b0b8-44cc-9a5c-285a3611054d",
   "metadata": {},
   "outputs": [
    {
     "data": {
      "text/plain": [
       "['a', 'b', 'c', 'd', 'e', 'f', 'g', 'h', 'i']"
      ]
     },
     "execution_count": 73,
     "metadata": {},
     "output_type": "execute_result"
    }
   ],
   "source": [
    "lst[0:9]"
   ]
  },
  {
   "cell_type": "code",
   "execution_count": 75,
   "id": "488a1e4b-0869-41bb-86a0-1cd82d2d1866",
   "metadata": {},
   "outputs": [
    {
     "data": {
      "text/plain": [
       "['a', 'd', 'g']"
      ]
     },
     "execution_count": 75,
     "metadata": {},
     "output_type": "execute_result"
    }
   ],
   "source": [
    "lst[0:9:3]"
   ]
  },
  {
   "cell_type": "markdown",
   "id": "5aef055b-3ca2-4d5a-9183-9cc9d8508aa0",
   "metadata": {},
   "source": [
    "`-` 생략"
   ]
  },
  {
   "cell_type": "code",
   "execution_count": 85,
   "id": "65b460b5-9831-466d-8de3-7f80cbf4dd82",
   "metadata": {},
   "outputs": [
    {
     "data": {
      "text/plain": [
       "['a', 'b', 'c', 'd', 'e', 'f', 'g', 'h', 'i']"
      ]
     },
     "execution_count": 85,
     "metadata": {},
     "output_type": "execute_result"
    }
   ],
   "source": [
    "#lst[0:9]\n",
    "#lst[0:9:]\n",
    "lst[0:9:1]"
   ]
  },
  {
   "cell_type": "code",
   "execution_count": 5,
   "id": "844c2ccf-0ee4-4aaa-9516-9e7c6122086e",
   "metadata": {},
   "outputs": [
    {
     "data": {
      "text/plain": [
       "['b', 'e', 'h', 'k']"
      ]
     },
     "execution_count": 5,
     "metadata": {},
     "output_type": "execute_result"
    }
   ],
   "source": [
    "lst[1::3]"
   ]
  },
  {
   "cell_type": "code",
   "execution_count": 90,
   "id": "ce3d5ac1-39f6-47b9-8e09-2300026fc860",
   "metadata": {},
   "outputs": [
    {
     "data": {
      "text/plain": [
       "['a', 'd', 'g']"
      ]
     },
     "execution_count": 90,
     "metadata": {},
     "output_type": "execute_result"
    }
   ],
   "source": [
    "lst[:8:3]"
   ]
  },
  {
   "cell_type": "markdown",
   "id": "6495163e-f518-4de4-a0e6-d919cf17a70b",
   "metadata": {},
   "source": [
    "`# 예제1`: 짝수/홀수 원소 추출\n",
    "\n",
    "아래와 같은 문자열이 있다고 하자."
   ]
  },
  {
   "cell_type": "code",
   "execution_count": 91,
   "id": "9e060b8e-ad28-463d-83fe-23911a34d10e",
   "metadata": {},
   "outputs": [
    {
     "data": {
      "text/plain": [
       "['a', 'b', 'c', 'd', 'e', 'f', 'g', 'h', 'i', 'j', 'k']"
      ]
     },
     "execution_count": 91,
     "metadata": {},
     "output_type": "execute_result"
    }
   ],
   "source": [
    "lst = list('abcdefghijk')\n",
    "lst"
   ]
  },
  {
   "cell_type": "markdown",
   "id": "54b2b09f-5ecd-4bcb-914e-9d5b3a90e0cf",
   "metadata": {},
   "source": [
    "`index = 0,2,4, ...` 에 해당하는 원소를 출력하라."
   ]
  },
  {
   "cell_type": "code",
   "execution_count": 93,
   "id": "30719940-9389-45f9-a58d-c7b6403227f2",
   "metadata": {},
   "outputs": [
    {
     "data": {
      "text/plain": [
       "['a', 'c', 'e', 'g', 'i', 'k']"
      ]
     },
     "execution_count": 93,
     "metadata": {},
     "output_type": "execute_result"
    }
   ],
   "source": [
    "lst[::2]"
   ]
  },
  {
   "cell_type": "markdown",
   "id": "4d20fe6d-b092-4ea9-922c-bb32197926cf",
   "metadata": {},
   "source": [
    "`index = 1,4,7 ...` 에 해당하는 원소를 출력하라."
   ]
  },
  {
   "cell_type": "code",
   "execution_count": 94,
   "id": "a5775f56-cfa7-4118-b416-6228c88e1571",
   "metadata": {},
   "outputs": [
    {
     "data": {
      "text/plain": [
       "['b', 'e', 'h', 'k']"
      ]
     },
     "execution_count": 94,
     "metadata": {},
     "output_type": "execute_result"
    }
   ],
   "source": [
    "lst[1::3]"
   ]
  },
  {
   "cell_type": "markdown",
   "id": "d7eb999c-6761-4e52-8965-ad87639dc203",
   "metadata": {},
   "source": [
    "`#`\n",
    "\n",
    "`# 예제2` – 세로로..\n",
    "\n",
    "------------------------------------------------------------------------\n",
    "\n",
    "(예제2를 위한 예비학습) 문자열에서 `\\n`을 출력하면 출력시 줄바꿈이\n",
    "일어난다."
   ]
  },
  {
   "cell_type": "code",
   "execution_count": 97,
   "id": "c6932d4a-1b07-4c86-ac30-79f233b83c84",
   "metadata": {},
   "outputs": [
    {
     "name": "stdout",
     "output_type": "stream",
     "text": [
      "1행\n",
      "2행\n",
      "3행\n"
     ]
    }
   ],
   "source": [
    "print('1행\\n2행\\n3행')"
   ]
  },
  {
   "cell_type": "markdown",
   "id": "92b11b64-5dc4-4050-ad0c-ba79d2cadde4",
   "metadata": {},
   "source": [
    "예비학습 끝\n",
    "\n",
    "------------------------------------------------------------------------\n",
    "\n",
    "아래와 같은 문자열이 있다고 하자."
   ]
  },
  {
   "cell_type": "code",
   "execution_count": 99,
   "id": "74399805-c56d-4d27-ac5c-80ec6e23f4d8",
   "metadata": {},
   "outputs": [
    {
     "name": "stdout",
     "output_type": "stream",
     "text": [
      "너같이사랑스럽고\n",
      "또예쁘고도멋지고\n",
      "속훤히보이는너알\n",
      "았어그동안고마웠\n",
      "지정말정말사랑해\n"
     ]
    }
   ],
   "source": [
    "txt = '너같이사랑스럽고\\n또예쁘고도멋지고\\n속훤히보이는너알\\n았어그동안고마웠\\n지정말정말사랑해'\n",
    "print(txt)"
   ]
  },
  {
   "cell_type": "markdown",
   "id": "85f584e9-dde0-4108-b7a3-6cbf42a3283f",
   "metadata": {},
   "source": [
    "위 문자열을 세로로 읽는 코드를 작성하라. (9칸씩 점프하면서 읽으면 된다)\n",
    "\n",
    "(풀이)"
   ]
  },
  {
   "cell_type": "code",
   "execution_count": 101,
   "id": "c806fe97-30cc-414c-9f39-8021c9438ce0",
   "metadata": {},
   "outputs": [
    {
     "data": {
      "text/plain": [
       "'너또속았지'"
      ]
     },
     "execution_count": 101,
     "metadata": {},
     "output_type": "execute_result"
    }
   ],
   "source": [
    "txt[::9]"
   ]
  },
  {
   "cell_type": "markdown",
   "id": "988fdbd9-c041-491e-b042-8ab9f9db50a2",
   "metadata": {},
   "source": [
    "`#`"
   ]
  },
  {
   "cell_type": "markdown",
   "id": "ef0cc9ed-f12a-4241-bc21-c71751d25abf",
   "metadata": {},
   "source": [
    "`-` step = -1 이면?"
   ]
  },
  {
   "cell_type": "code",
   "execution_count": 102,
   "id": "5740ef67-561a-494a-95cf-d390e57b8404",
   "metadata": {},
   "outputs": [
    {
     "data": {
      "text/plain": [
       "['a', 'b', 'c', 'd', 'e', 'f', 'g', 'h', 'i', 'j', 'k']"
      ]
     },
     "execution_count": 102,
     "metadata": {},
     "output_type": "execute_result"
    }
   ],
   "source": [
    "lst"
   ]
  },
  {
   "cell_type": "code",
   "execution_count": 11,
   "id": "b0af2753-cf11-49ff-872a-6e51f6a8459f",
   "metadata": {},
   "outputs": [
    {
     "data": {
      "text/plain": [
       "['k', 'j', 'i', 'h', 'g', 'f', 'e', 'd', 'c', 'b', 'a']"
      ]
     },
     "execution_count": 11,
     "metadata": {},
     "output_type": "execute_result"
    }
   ],
   "source": [
    "lst[::-1]"
   ]
  },
  {
   "cell_type": "markdown",
   "id": "17e46515-0676-4b5d-8d2b-88b5ee17213f",
   "metadata": {},
   "source": [
    "`-` 스트라이딩으로 `step = -1` 옵션 주기 vs 리스트의 `.reverse()` 메소드 이용하기\n"
   ]
  },
  {
   "cell_type": "markdown",
   "id": "70bebcca-c38e-4cf1-8194-61694e9834fc",
   "metadata": {},
   "source": [
    "\n",
    "관찰1: reverse 메소드는 리스트 자체를 변화시킴"
   ]
  },
  {
   "cell_type": "code",
   "execution_count": 106,
   "id": "db4b6ce5-3cf0-4a91-8afe-4a10f56477cb",
   "metadata": {},
   "outputs": [
    {
     "data": {
      "text/plain": [
       "['a', 'b', 'c', 'd', 'e', 'f', 'g', 'h']"
      ]
     },
     "execution_count": 106,
     "metadata": {},
     "output_type": "execute_result"
    }
   ],
   "source": [
    "lst = list('abcdefgh')\n",
    "lst"
   ]
  },
  {
   "cell_type": "code",
   "execution_count": 107,
   "id": "f42d50f0-9a09-4ff1-931f-7756eb990925",
   "metadata": {},
   "outputs": [
    {
     "data": {
      "text/plain": [
       "['h', 'g', 'f', 'e', 'd', 'c', 'b', 'a']"
      ]
     },
     "execution_count": 107,
     "metadata": {},
     "output_type": "execute_result"
    }
   ],
   "source": [
    "lst.reverse()  \n",
    "lst"
   ]
  },
  {
   "cell_type": "markdown",
   "id": "d2122a70-2dda-402b-a398-8824a312a536",
   "metadata": {},
   "source": [
    "관찰2: \\[::-1\\]는 리스트는 변화시키지 않음"
   ]
  },
  {
   "cell_type": "code",
   "execution_count": 108,
   "id": "8921b83f-16fc-4432-8b56-31cbea5845df",
   "metadata": {},
   "outputs": [
    {
     "data": {
      "text/plain": [
       "['a', 'b', 'c', 'd', 'e', 'f', 'g', 'h']"
      ]
     },
     "execution_count": 108,
     "metadata": {},
     "output_type": "execute_result"
    }
   ],
   "source": [
    "lst = list('abcdefgh')\n",
    "lst"
   ]
  },
  {
   "cell_type": "code",
   "execution_count": 109,
   "id": "0ea7aa18-a95e-4e19-99fd-4280a2d8b64a",
   "metadata": {},
   "outputs": [
    {
     "data": {
      "text/plain": [
       "['h', 'g', 'f', 'e', 'd', 'c', 'b', 'a']"
      ]
     },
     "execution_count": 109,
     "metadata": {},
     "output_type": "execute_result"
    }
   ],
   "source": [
    "lst[::-1]"
   ]
  },
  {
   "cell_type": "code",
   "execution_count": 110,
   "id": "f2fc7ee2-b871-4e01-80b3-66bd0be011a3",
   "metadata": {},
   "outputs": [
    {
     "data": {
      "text/plain": [
       "['a', 'b', 'c', 'd', 'e', 'f', 'g', 'h']"
      ]
     },
     "execution_count": 110,
     "metadata": {},
     "output_type": "execute_result"
    }
   ],
   "source": [
    "lst"
   ]
  },
  {
   "cell_type": "markdown",
   "id": "08023138-1f6a-481a-a404-60ee44d71820",
   "metadata": {},
   "source": [
    "`-` -step 은 쓰기 까다롭다.\n"
   ]
  },
  {
   "cell_type": "markdown",
   "id": "30ed87b9-7ef3-4b0b-8737-0d8c045e9af2",
   "metadata": {},
   "source": [
    "(예제) 처음과 끝을 생략하지 않고 아래와 동일한 효과를 주는 코드를 만들어 보자.\n"
   ]
  },
  {
   "cell_type": "code",
   "execution_count": 17,
   "id": "9fdf60bd-8102-435f-a13c-97754910511e",
   "metadata": {},
   "outputs": [
    {
     "data": {
      "text/plain": [
       "['h', 'g', 'f', 'e', 'd', 'c', 'b', 'a']"
      ]
     },
     "execution_count": 17,
     "metadata": {},
     "output_type": "execute_result"
    }
   ],
   "source": [
    "lst[::-1]"
   ]
  },
  {
   "cell_type": "markdown",
   "id": "688cefc5-b41e-4bc4-b0a4-5cff8ebe4297",
   "metadata": {},
   "source": [
    "(풀이)\n",
    "\n",
    "결국 lst\\[?:?:-1\\]의 꼴에서 적당히 ?의 값을 채우면 된다."
   ]
  },
  {
   "cell_type": "markdown",
   "id": "8bcd94e9-9c60-493a-9b06-1511bb0f7d06",
   "metadata": {},
   "source": [
    "| None |  a  |  b  |  c  |  d  |  e  |  f  |  g  |  h  | None |\n",
    "|:----:|:---:|:---:|:---:|:---:|:---:|:---:|:---:|:---:|:----:|\n",
    "|  ?   |  0  |  1  |  2  |  3  |  4  |  5  |  6  |  7  |  8   |\n",
    "|  -9  | -8  | -7  | -6  | -5  | -4  | -3  | -2  | -1  |  ?   |"
   ]
  },
  {
   "cell_type": "code",
   "execution_count": 116,
   "id": "f7a1a471-d508-4a07-971a-f1bc00a77d41",
   "metadata": {},
   "outputs": [
    {
     "data": {
      "text/plain": [
       "['h', 'g', 'f', 'e', 'd', 'c', 'b', 'a']"
      ]
     },
     "execution_count": 116,
     "metadata": {},
     "output_type": "execute_result"
    }
   ],
   "source": [
    "lst[-1:-9:-1]"
   ]
  },
  {
   "cell_type": "markdown",
   "id": "03bd5424-55b3-4a76-b1b6-b3c6d9ff939b",
   "metadata": {},
   "source": [
    "### C. 컴프리헨션 고급 (if문이 포함된 컴프리헨션)\n",
    "\n",
    "`-` 예제: 제곱수중에서 12로 나누어 떨어지는 수만 원소로 가지는 리스트를\n",
    "만들고 싶다.\n",
    "\n",
    "-   제곱수: 1,4,9,16,25,36, …\n",
    "-   12로 나누어 떨어지는 수: 36, …\n",
    "\n",
    "(예비학습1)"
   ]
  },
  {
   "cell_type": "code",
   "execution_count": 121,
   "id": "34f50616-f0be-40c0-ba59-ef95415c7d54",
   "metadata": {},
   "outputs": [
    {
     "data": {
      "text/plain": [
       "0"
      ]
     },
     "execution_count": 121,
     "metadata": {},
     "output_type": "execute_result"
    }
   ],
   "source": [
    "12 % 4 # %는 나머지를 계산하는 연산자, 12를 4로 나누면 나머지가 0"
   ]
  },
  {
   "cell_type": "code",
   "execution_count": 122,
   "id": "25304174-8ce3-4efc-82e7-239275f66839",
   "metadata": {},
   "outputs": [
    {
     "data": {
      "text/plain": [
       "2"
      ]
     },
     "execution_count": 122,
     "metadata": {},
     "output_type": "execute_result"
    }
   ],
   "source": [
    "12 % 5 # %는 나머지를 계산하는 연산자, 12를 5로 나누면 나머지가 2"
   ]
  },
  {
   "cell_type": "markdown",
   "id": "1a10413a-b122-46a1-bba5-0aeacd2b75de",
   "metadata": {},
   "source": [
    "(예비학습2)"
   ]
  },
  {
   "cell_type": "code",
   "execution_count": 124,
   "id": "068bae6e-5810-401a-9c82-13f9f29a2218",
   "metadata": {},
   "outputs": [],
   "source": [
    "a = 2 ## a에 2를 \"대입\" 하라. "
   ]
  },
  {
   "cell_type": "code",
   "execution_count": 125,
   "id": "8e6a4754-0eb2-4581-b97e-09837a59d4ee",
   "metadata": {},
   "outputs": [
    {
     "data": {
      "text/plain": [
       "True"
      ]
     },
     "execution_count": 125,
     "metadata": {},
     "output_type": "execute_result"
    }
   ],
   "source": [
    "a == 2 # a에 들어있는 값이 2인지 \"test\"하라."
   ]
  },
  {
   "cell_type": "code",
   "execution_count": 126,
   "id": "7a69979f-7b66-4387-885b-3716f29f8200",
   "metadata": {},
   "outputs": [
    {
     "data": {
      "text/plain": [
       "False"
      ]
     },
     "execution_count": 126,
     "metadata": {},
     "output_type": "execute_result"
    }
   ],
   "source": [
    "a == 3 # a에 들어있는 값이 3인지 \"test\"하라."
   ]
  },
  {
   "cell_type": "markdown",
   "id": "0fc17aac-4795-467f-8fcb-53a397587ff9",
   "metadata": {},
   "source": [
    "(예비학습3) if문"
   ]
  },
  {
   "cell_type": "code",
   "execution_count": 131,
   "id": "27f1e2ea-04b2-46bc-b2ec-857afef7005f",
   "metadata": {},
   "outputs": [],
   "source": [
    "a = 4\n",
    "if a%2 == 0: \n",
    "    a_is='even' ## a%2==0 이 true일 경우만 실행된다. \n",
    "elif a%2 != 0:\n",
    "    a_is='odd' ## a%2==0 이 false일 경우만 실행된다. \n",
    "else:\n",
    "    a_is=\"홀짝모두아님\""
   ]
  },
  {
   "cell_type": "code",
   "execution_count": 132,
   "id": "8c6148bc-721b-4653-a4f4-220ce540cd25",
   "metadata": {},
   "outputs": [
    {
     "data": {
      "text/plain": [
       "'even'"
      ]
     },
     "execution_count": 132,
     "metadata": {},
     "output_type": "execute_result"
    }
   ],
   "source": [
    "a_is"
   ]
  },
  {
   "cell_type": "markdown",
   "id": "593df759-98ba-4c8f-862b-a23ac084b2e9",
   "metadata": {},
   "source": [
    "(풀이1) - 비어있는 리스트를 만들고 $\\to$ for문 + if문"
   ]
  },
  {
   "cell_type": "code",
   "execution_count": 139,
   "id": "fa242a02-8509-474b-a5f4-bea36d63f85b",
   "metadata": {},
   "outputs": [],
   "source": [
    "lst = [] \n",
    "for i in range(1,101):\n",
    "    if i**2 % 12 ==0:\n",
    "        lst = lst + [i**2]"
   ]
  },
  {
   "cell_type": "code",
   "execution_count": 140,
   "id": "546653d9-1e7d-4293-bf33-ede721a797d6",
   "metadata": {},
   "outputs": [
    {
     "data": {
      "text/plain": [
       "[36,\n",
       " 144,\n",
       " 324,\n",
       " 576,\n",
       " 900,\n",
       " 1296,\n",
       " 1764,\n",
       " 2304,\n",
       " 2916,\n",
       " 3600,\n",
       " 4356,\n",
       " 5184,\n",
       " 6084,\n",
       " 7056,\n",
       " 8100,\n",
       " 9216]"
      ]
     },
     "execution_count": 140,
     "metadata": {},
     "output_type": "execute_result"
    }
   ],
   "source": [
    "lst"
   ]
  },
  {
   "cell_type": "markdown",
   "id": "5c15cdef-8a42-4c6b-9771-4ebc12921fd9",
   "metadata": {},
   "source": [
    "(풀이2) - if문이 포함된 리스트컴프리헨션"
   ]
  },
  {
   "cell_type": "code",
   "execution_count": 143,
   "id": "85aa3b0a-2dcf-43a6-9904-70ab357bedd2",
   "metadata": {},
   "outputs": [
    {
     "data": {
      "text/plain": [
       "[36,\n",
       " 144,\n",
       " 324,\n",
       " 576,\n",
       " 900,\n",
       " 1296,\n",
       " 1764,\n",
       " 2304,\n",
       " 2916,\n",
       " 3600,\n",
       " 4356,\n",
       " 5184,\n",
       " 6084,\n",
       " 7056,\n",
       " 8100,\n",
       " 9216]"
      ]
     },
     "execution_count": 143,
     "metadata": {},
     "output_type": "execute_result"
    }
   ],
   "source": [
    "[i**2 for i in range(1,101) if i**2 % 12 ==0]"
   ]
  },
  {
   "cell_type": "markdown",
   "id": "9921801b-658d-403f-918b-a92ddc587cde",
   "metadata": {},
   "source": [
    "### D. 함수고급 (if문이 포함된 리턴)"
   ]
  },
  {
   "cell_type": "markdown",
   "id": "b31885c6-13c6-4f23-a856-5a77480f8f95",
   "metadata": {},
   "source": [
    "`-` 홀수/짝수를 판별하는 함수 만들기 1 -- 기본형"
   ]
  },
  {
   "cell_type": "code",
   "execution_count": 147,
   "id": "e4ad1c67-5d6e-4e21-a9a2-8b7548c771ec",
   "metadata": {},
   "outputs": [],
   "source": [
    "def test(x): \n",
    "    if x % 2 == 0: \n",
    "        return 'even'\n",
    "    else:\n",
    "        return 'odd'"
   ]
  },
  {
   "cell_type": "code",
   "execution_count": 148,
   "id": "59425a1c-283f-4d81-bbe0-eb5f1fba40da",
   "metadata": {},
   "outputs": [
    {
     "data": {
      "text/plain": [
       "'odd'"
      ]
     },
     "execution_count": 148,
     "metadata": {},
     "output_type": "execute_result"
    }
   ],
   "source": [
    "test(5)"
   ]
  },
  {
   "cell_type": "markdown",
   "id": "a21b9c8c-36f9-4ec2-8031-ecfa60e85bbe",
   "metadata": {},
   "source": [
    "(사용)"
   ]
  },
  {
   "cell_type": "code",
   "execution_count": 30,
   "id": "289f6520-999a-450d-bb03-4def4d32977b",
   "metadata": {},
   "outputs": [
    {
     "data": {
      "text/plain": [
       "['odd', 'even', 'odd', 'even', 'odd', 'even', 'odd', 'even', 'odd', 'even']"
      ]
     },
     "execution_count": 30,
     "metadata": {},
     "output_type": "execute_result"
    }
   ],
   "source": [
    "[test(l) for l in list(range(1,11))]"
   ]
  },
  {
   "cell_type": "markdown",
   "id": "45b1dab2-e335-4e50-958d-2998038c221a",
   "metadata": {},
   "source": [
    "`-` 홀수/짝수를 판별하는 함수 만들기 2 -- 응용"
   ]
  },
  {
   "cell_type": "code",
   "execution_count": 156,
   "id": "660250c2-f4f1-4336-b08f-5454265fc746",
   "metadata": {},
   "outputs": [],
   "source": [
    "def test(x): \n",
    "    return \"even\" if x%2 ==0 else \"odd\""
   ]
  },
  {
   "cell_type": "markdown",
   "id": "508a2424-e7c7-4b80-9d1c-3490c230f55f",
   "metadata": {},
   "source": [
    "(사용)"
   ]
  },
  {
   "cell_type": "code",
   "execution_count": 33,
   "id": "b6fdc2cc-93ee-443c-ac8b-5ae273474e8d",
   "metadata": {},
   "outputs": [
    {
     "data": {
      "text/plain": [
       "['odd', 'even', 'odd', 'even', 'odd', 'even', 'odd', 'even', 'odd', 'even']"
      ]
     },
     "execution_count": 33,
     "metadata": {},
     "output_type": "execute_result"
    }
   ],
   "source": [
    "[test(l) for l in list(range(1,11))]"
   ]
  },
  {
   "cell_type": "markdown",
   "id": "7a76a29f-a6af-43ce-af81-bb56c2fec0db",
   "metadata": {},
   "source": [
    "### E. len함수\n"
   ]
  },
  {
   "cell_type": "markdown",
   "id": "797a7e0a-8e1f-4ef8-a1be-513bbd2ed887",
   "metadata": {},
   "source": [
    "\n",
    "`-` 0차원 자료형은 len함수가 동작하지 않음"
   ]
  },
  {
   "cell_type": "code",
   "execution_count": 172,
   "id": "1efdff21-ed1b-4d58-8817-5a0459246917",
   "metadata": {},
   "outputs": [
    {
     "ename": "TypeError",
     "evalue": "object of type 'int' has no len()",
     "output_type": "error",
     "traceback": [
      "\u001b[31m---------------------------------------------------------------------------\u001b[39m",
      "\u001b[31mTypeError\u001b[39m                                 Traceback (most recent call last)",
      "\u001b[36mCell\u001b[39m\u001b[36m \u001b[39m\u001b[32mIn[172]\u001b[39m\u001b[32m, line 2\u001b[39m\n\u001b[32m      1\u001b[39m a=\u001b[32m1\u001b[39m \n\u001b[32m----> \u001b[39m\u001b[32m2\u001b[39m \u001b[38;5;28;43mlen\u001b[39;49m\u001b[43m(\u001b[49m\u001b[43ma\u001b[49m\u001b[43m)\u001b[49m\n",
      "\u001b[31mTypeError\u001b[39m: object of type 'int' has no len()"
     ]
    }
   ],
   "source": [
    "a=1 \n",
    "len(a)"
   ]
  },
  {
   "cell_type": "code",
   "execution_count": 173,
   "id": "dee054c7-6434-4602-9d40-dff20c658065",
   "metadata": {},
   "outputs": [
    {
     "ename": "TypeError",
     "evalue": "object of type 'bool' has no len()",
     "output_type": "error",
     "traceback": [
      "\u001b[31m---------------------------------------------------------------------------\u001b[39m",
      "\u001b[31mTypeError\u001b[39m                                 Traceback (most recent call last)",
      "\u001b[36mCell\u001b[39m\u001b[36m \u001b[39m\u001b[32mIn[173]\u001b[39m\u001b[32m, line 2\u001b[39m\n\u001b[32m      1\u001b[39m a=\u001b[38;5;28;01mTrue\u001b[39;00m\n\u001b[32m----> \u001b[39m\u001b[32m2\u001b[39m \u001b[38;5;28;43mlen\u001b[39;49m\u001b[43m(\u001b[49m\u001b[43ma\u001b[49m\u001b[43m)\u001b[49m\n",
      "\u001b[31mTypeError\u001b[39m: object of type 'bool' has no len()"
     ]
    }
   ],
   "source": [
    "a=True\n",
    "len(a)"
   ]
  },
  {
   "cell_type": "code",
   "execution_count": 174,
   "id": "f599a968-a6be-4db0-bfa3-1fe4fed11a16",
   "metadata": {},
   "outputs": [
    {
     "ename": "TypeError",
     "evalue": "object of type 'float' has no len()",
     "output_type": "error",
     "traceback": [
      "\u001b[31m---------------------------------------------------------------------------\u001b[39m",
      "\u001b[31mTypeError\u001b[39m                                 Traceback (most recent call last)",
      "\u001b[36mCell\u001b[39m\u001b[36m \u001b[39m\u001b[32mIn[174]\u001b[39m\u001b[32m, line 2\u001b[39m\n\u001b[32m      1\u001b[39m a=\u001b[32m3.14\u001b[39m\n\u001b[32m----> \u001b[39m\u001b[32m2\u001b[39m \u001b[38;5;28;43mlen\u001b[39;49m\u001b[43m(\u001b[49m\u001b[43ma\u001b[49m\u001b[43m)\u001b[49m\n",
      "\u001b[31mTypeError\u001b[39m: object of type 'float' has no len()"
     ]
    }
   ],
   "source": [
    "a=3.14\n",
    "len(a)"
   ]
  },
  {
   "cell_type": "markdown",
   "id": "04a7a17f-c68c-4ee5-b04e-eec9a7c6b16b",
   "metadata": {},
   "source": [
    "> note: 이것이 어떠한 수학적인 의미를 가지거나 0차원의 본질적진리를\n",
    "> 뜻하는 것은 아님. R에서는 1,3.14,TRUE의 길이가 1로 존재함."
   ]
  },
  {
   "cell_type": "markdown",
   "id": "1ee9420e-eb76-4f20-a7b2-e40b09e42feb",
   "metadata": {},
   "source": [
    "`-` 1차원 자료형은 len함수가 동작"
   ]
  },
  {
   "cell_type": "code",
   "execution_count": 175,
   "id": "91aedbf1-ff98-43a3-834d-8606e14781e2",
   "metadata": {},
   "outputs": [
    {
     "data": {
      "text/plain": [
       "6"
      ]
     },
     "execution_count": 175,
     "metadata": {},
     "output_type": "execute_result"
    }
   ],
   "source": [
    "a='guebin'\n",
    "len(a)"
   ]
  },
  {
   "cell_type": "code",
   "execution_count": 176,
   "id": "1bbdabcf-6e00-4349-8d89-c1e6e8e33c2d",
   "metadata": {},
   "outputs": [
    {
     "data": {
      "text/plain": [
       "6"
      ]
     },
     "execution_count": 176,
     "metadata": {},
     "output_type": "execute_result"
    }
   ],
   "source": [
    "a=[1,2,3,4,5,6]\n",
    "len(a)"
   ]
  },
  {
   "cell_type": "code",
   "execution_count": 177,
   "id": "a64635d4-72d4-42d3-9078-debcb1a49d12",
   "metadata": {},
   "outputs": [
    {
     "data": {
      "text/plain": [
       "6"
      ]
     },
     "execution_count": 177,
     "metadata": {},
     "output_type": "execute_result"
    }
   ],
   "source": [
    "a=1,2,3,4,5,6 \n",
    "len(a)"
   ]
  },
  {
   "cell_type": "code",
   "execution_count": 178,
   "id": "92afcca2-2a74-40ac-a395-41c488ea7abb",
   "metadata": {},
   "outputs": [
    {
     "data": {
      "text/plain": [
       "10"
      ]
     },
     "execution_count": 178,
     "metadata": {},
     "output_type": "execute_result"
    }
   ],
   "source": [
    "a=range(10)\n",
    "len(a)"
   ]
  },
  {
   "cell_type": "markdown",
   "id": "8b1d15cf-492e-4a35-b956-c2a28a7d3531",
   "metadata": {},
   "source": [
    "`-` 길이가 1인 1차원 자료형과 0차원 자료형은 다른것임"
   ]
  },
  {
   "cell_type": "code",
   "execution_count": 179,
   "id": "f77c5f3d-db3a-4e87-b0b4-8c2d8f78f382",
   "metadata": {},
   "outputs": [
    {
     "data": {
      "text/plain": [
       "1"
      ]
     },
     "execution_count": 179,
     "metadata": {},
     "output_type": "execute_result"
    }
   ],
   "source": [
    "a='g'\n",
    "len(a)"
   ]
  },
  {
   "cell_type": "code",
   "execution_count": 180,
   "id": "6eb2422b-57be-401b-b0f0-9f0be00cf2a5",
   "metadata": {},
   "outputs": [
    {
     "data": {
      "text/plain": [
       "1"
      ]
     },
     "execution_count": 180,
     "metadata": {},
     "output_type": "execute_result"
    }
   ],
   "source": [
    "a=[1]\n",
    "len(a)"
   ]
  },
  {
   "cell_type": "code",
   "execution_count": 181,
   "id": "d3f898dc-3a54-4ed8-8b91-eb2907d5333e",
   "metadata": {},
   "outputs": [
    {
     "data": {
      "text/plain": [
       "1"
      ]
     },
     "execution_count": 181,
     "metadata": {},
     "output_type": "execute_result"
    }
   ],
   "source": [
    "a=(1,)\n",
    "len(a)"
   ]
  },
  {
   "cell_type": "code",
   "execution_count": 182,
   "id": "21bd6727-a8eb-4d56-bdcf-ab04c5c30244",
   "metadata": {},
   "outputs": [
    {
     "data": {
      "text/plain": [
       "1"
      ]
     },
     "execution_count": 182,
     "metadata": {},
     "output_type": "execute_result"
    }
   ],
   "source": [
    "a=range(1)\n",
    "len(a)"
   ]
  },
  {
   "cell_type": "markdown",
   "id": "b5209870-36d5-483b-8ee8-058b29373ed8",
   "metadata": {},
   "source": [
    "`-` 길이가 0인 1차원 자료형도 존재함"
   ]
  },
  {
   "cell_type": "code",
   "execution_count": 192,
   "id": "3eeb270f-bd90-44d2-b866-fdbc7a9de350",
   "metadata": {},
   "outputs": [
    {
     "data": {
      "text/plain": [
       "0"
      ]
     },
     "execution_count": 192,
     "metadata": {},
     "output_type": "execute_result"
    }
   ],
   "source": [
    "a=''\n",
    "len(a)"
   ]
  },
  {
   "cell_type": "code",
   "execution_count": 193,
   "id": "feb64f21-c6ec-4a65-a933-8b4ed270a7d8",
   "metadata": {},
   "outputs": [
    {
     "data": {
      "text/plain": [
       "0"
      ]
     },
     "execution_count": 193,
     "metadata": {},
     "output_type": "execute_result"
    }
   ],
   "source": [
    "a=[]\n",
    "len(a)"
   ]
  },
  {
   "cell_type": "code",
   "execution_count": 197,
   "id": "c7030b65-c228-467d-a659-964b51cdce0f",
   "metadata": {},
   "outputs": [
    {
     "data": {
      "text/plain": [
       "0"
      ]
     },
     "execution_count": 197,
     "metadata": {},
     "output_type": "execute_result"
    }
   ],
   "source": [
    "a=()\n",
    "len(a)"
   ]
  },
  {
   "cell_type": "code",
   "execution_count": 195,
   "id": "d471b78c-e9be-4b51-af4b-07716d91ea48",
   "metadata": {},
   "outputs": [
    {
     "data": {
      "text/plain": [
       "0"
      ]
     },
     "execution_count": 195,
     "metadata": {},
     "output_type": "execute_result"
    }
   ],
   "source": [
    "a=range(0)\n",
    "len(a)"
   ]
  },
  {
   "cell_type": "markdown",
   "id": "dc764cdd-6c59-4947-829e-f2430608e9af",
   "metadata": {},
   "source": [
    "## 2. 집합 기본내용"
   ]
  },
  {
   "cell_type": "markdown",
   "id": "8fcc2bfe-1ef0-42a3-ae03-e801174085fa",
   "metadata": {},
   "source": [
    "### A. 선언 "
   ]
  },
  {
   "cell_type": "code",
   "execution_count": 203,
   "id": "aeff25b4-fb41-4434-b19d-b99adcbc2729",
   "metadata": {},
   "outputs": [
    {
     "data": {
      "text/plain": [
       "{'desktop', 'notebook'}"
      ]
     },
     "execution_count": 203,
     "metadata": {},
     "output_type": "execute_result"
    }
   ],
   "source": [
    "wishlist={'notebook','desktop'}\n",
    "wishlist"
   ]
  },
  {
   "cell_type": "markdown",
   "id": "73a999c5-c7cb-4055-b706-6d1b030a4ad7",
   "metadata": {},
   "source": [
    "### B. 연산 "
   ]
  },
  {
   "cell_type": "markdown",
   "id": "36686d43-f23e-4454-a534-cbefd32e1c5c",
   "metadata": {},
   "source": [
    "`-` in 연산자  "
   ]
  },
  {
   "cell_type": "code",
   "execution_count": 204,
   "id": "f234b110-91ed-4d4c-94de-3b07eb852d42",
   "metadata": {},
   "outputs": [
    {
     "data": {
      "text/plain": [
       "{'desktop', 'ipad', 'notebook'}"
      ]
     },
     "execution_count": 204,
     "metadata": {},
     "output_type": "execute_result"
    }
   ],
   "source": [
    "wishlist={'desktop', 'ipad', 'notebook'}\n",
    "wishlist"
   ]
  },
  {
   "cell_type": "code",
   "execution_count": 205,
   "id": "724ac050-ad52-4da2-abe6-1ea472b39c94",
   "metadata": {},
   "outputs": [
    {
     "data": {
      "text/plain": [
       "True"
      ]
     },
     "execution_count": 205,
     "metadata": {},
     "output_type": "execute_result"
    }
   ],
   "source": [
    "'notebook' in wishlist"
   ]
  },
  {
   "cell_type": "markdown",
   "id": "5aa08fd5-fbdd-4d18-8284-c0681cedf546",
   "metadata": {},
   "source": [
    "`-` 합집합, 교집합, 차집합"
   ]
  },
  {
   "cell_type": "code",
   "execution_count": 206,
   "id": "8e7f6ce6-f3d5-4509-bc05-0163bc055ffb",
   "metadata": {},
   "outputs": [],
   "source": [
    "day1 = {'notebook','desktop'}\n",
    "day2 = {'notebook','ipad'}"
   ]
  },
  {
   "cell_type": "code",
   "execution_count": 207,
   "id": "5e6ff1b2-56ca-4159-bc06-1f2dcfd8788f",
   "metadata": {},
   "outputs": [
    {
     "data": {
      "text/plain": [
       "{'desktop', 'ipad', 'notebook'}"
      ]
     },
     "execution_count": 207,
     "metadata": {},
     "output_type": "execute_result"
    }
   ],
   "source": [
    "day1 | day2 # 합집합"
   ]
  },
  {
   "cell_type": "code",
   "execution_count": 208,
   "id": "10c9afd7-78fc-4392-8103-8a6fc3e6f61b",
   "metadata": {},
   "outputs": [
    {
     "data": {
      "text/plain": [
       "{'notebook'}"
      ]
     },
     "execution_count": 208,
     "metadata": {},
     "output_type": "execute_result"
    }
   ],
   "source": [
    "day1 & day2 # 교집합"
   ]
  },
  {
   "cell_type": "code",
   "execution_count": 211,
   "id": "4c48e8a2-a25c-4aba-9d40-c5e3acd3b43a",
   "metadata": {},
   "outputs": [
    {
     "data": {
      "text/plain": [
       "{'desktop'}"
      ]
     },
     "execution_count": 211,
     "metadata": {},
     "output_type": "execute_result"
    }
   ],
   "source": [
    "day1 - day2 # 차집합 "
   ]
  },
  {
   "cell_type": "code",
   "execution_count": 212,
   "id": "1b9a2273-9c8d-4c66-a16a-26f55cd2a589",
   "metadata": {},
   "outputs": [
    {
     "data": {
      "text/plain": [
       "{'ipad'}"
      ]
     },
     "execution_count": 212,
     "metadata": {},
     "output_type": "execute_result"
    }
   ],
   "source": [
    "day2 - day1 # 차집합"
   ]
  },
  {
   "cell_type": "markdown",
   "id": "69618a16-b8b0-4541-a91b-e5cbeef8dc6c",
   "metadata": {},
   "source": [
    "`-` 부분집합 "
   ]
  },
  {
   "cell_type": "code",
   "execution_count": 135,
   "id": "fd96fda3-c8d4-4f94-83ca-724dd197415a",
   "metadata": {},
   "outputs": [],
   "source": [
    "day1 = {'notebook', 'desktop'}\n",
    "day2 = day1 | {'ipad'} "
   ]
  },
  {
   "cell_type": "code",
   "execution_count": 140,
   "id": "8f815f2c-0bca-41e0-a348-71e3a74bd785",
   "metadata": {},
   "outputs": [
    {
     "data": {
      "text/plain": [
       "True"
      ]
     },
     "execution_count": 140,
     "metadata": {},
     "output_type": "execute_result"
    }
   ],
   "source": [
    "day1 < day2  # day1는 day2의 부분집합인가? "
   ]
  },
  {
   "cell_type": "code",
   "execution_count": 215,
   "id": "31f34377-f338-4355-a151-8dcf0501d825",
   "metadata": {},
   "outputs": [
    {
     "data": {
      "text/plain": [
       "False"
      ]
     },
     "execution_count": 215,
     "metadata": {},
     "output_type": "execute_result"
    }
   ],
   "source": [
    "day2 < day1"
   ]
  },
  {
   "cell_type": "markdown",
   "id": "6dd6623c-fffb-4e0f-9eaf-983c98ebec0d",
   "metadata": {},
   "source": [
    "### C. for문과 set "
   ]
  },
  {
   "cell_type": "code",
   "execution_count": 217,
   "id": "eeed6a6b-956b-4060-91c1-36f46e36438c",
   "metadata": {},
   "outputs": [],
   "source": [
    "day1 = {'notebook', 'desktop'}\n",
    "day2 = {'notebook', 'ipad'}"
   ]
  },
  {
   "cell_type": "code",
   "execution_count": 229,
   "id": "360c3231-abf3-40b1-acf7-f88054726c69",
   "metadata": {},
   "outputs": [
    {
     "name": "stdout",
     "output_type": "stream",
     "text": [
      "desktop\n",
      "notebook\n",
      "ipad\n"
     ]
    }
   ],
   "source": [
    "for i in day1|day2: \n",
    "    print(i)"
   ]
  },
  {
   "cell_type": "markdown",
   "id": "36cef087-7574-4e65-84ff-fb8f0d2ff569",
   "metadata": {},
   "source": [
    "### D. set 컴프리헨션 "
   ]
  },
  {
   "cell_type": "markdown",
   "id": "935ef6a8-3f4d-488e-b4e0-c3ab75362cb6",
   "metadata": {},
   "source": [
    "`-` 예시1"
   ]
  },
  {
   "cell_type": "code",
   "execution_count": 236,
   "id": "b3f60c19-2261-49e2-aec2-d048f1ff925e",
   "metadata": {},
   "outputs": [
    {
     "data": {
      "text/plain": [
       "{1, 2, 3, 4, 5}"
      ]
     },
     "execution_count": 236,
     "metadata": {},
     "output_type": "execute_result"
    }
   ],
   "source": [
    "lst = [1,2,1,1,3,4,5]\n",
    "{l for l in lst}"
   ]
  },
  {
   "cell_type": "markdown",
   "id": "9e2b3621-bf35-426a-a77e-aa69ad85a546",
   "metadata": {},
   "source": [
    "### E. 유니크한 원소"
   ]
  },
  {
   "cell_type": "markdown",
   "id": "3d9ec937-330e-4159-8189-32054631473d",
   "metadata": {},
   "source": [
    "`-` 예제1: 아래의 list는 모두 몇 종류의 문자로 이루어져 있는가? "
   ]
  },
  {
   "cell_type": "code",
   "execution_count": 237,
   "id": "5d8341da-80f1-4992-9d07-8428a8a06b10",
   "metadata": {},
   "outputs": [],
   "source": [
    "lst=list('asdfasssdfdsasdfasdfasdfasdf')"
   ]
  },
  {
   "cell_type": "markdown",
   "id": "c4f7ccee-4b07-4690-b3c1-c72acef80f70",
   "metadata": {},
   "source": [
    "(풀이)"
   ]
  },
  {
   "cell_type": "code",
   "execution_count": 238,
   "id": "e63c0777-ede9-43f2-a48a-42719d258623",
   "metadata": {},
   "outputs": [
    {
     "data": {
      "text/plain": [
       "{'a', 'd', 'f', 's'}"
      ]
     },
     "execution_count": 238,
     "metadata": {},
     "output_type": "execute_result"
    }
   ],
   "source": [
    "set(lst)"
   ]
  },
  {
   "cell_type": "code",
   "execution_count": 239,
   "id": "c48b9f33-087d-422c-8c65-7645b245f9fe",
   "metadata": {},
   "outputs": [
    {
     "data": {
      "text/plain": [
       "4"
      ]
     },
     "execution_count": 239,
     "metadata": {},
     "output_type": "execute_result"
    }
   ],
   "source": [
    "len(set(lst))"
   ]
  },
  {
   "cell_type": "markdown",
   "id": "8268b9d2-d09d-48bd-9717-f58fe838f882",
   "metadata": {},
   "source": [
    "`-` 예제2: 아래의 txt에서 어떠한 종류의 문자가 각각 몇번씩 사용되었는지 빈도를 구하는 코드를 작성하라. "
   ]
  },
  {
   "cell_type": "code",
   "execution_count": 240,
   "id": "00e27fc3-5b37-4e29-bae2-fd904df6a863",
   "metadata": {},
   "outputs": [
    {
     "data": {
      "text/plain": [
       "'asdkflkjahsdlkjfhlaksglkjdhflkgjhlskdfjhglkajhsdlkfjhalsdkf'"
      ]
     },
     "execution_count": 240,
     "metadata": {},
     "output_type": "execute_result"
    }
   ],
   "source": [
    "txt = 'asdkflkjahsdlkjfhlaksglkjdhflkgjhlskdfjhglkajhsdlkfjhalsdkf'\n",
    "txt"
   ]
  },
  {
   "cell_type": "markdown",
   "id": "339ec7ca-619d-444b-82fd-a0b2fd2ef4b1",
   "metadata": {},
   "source": [
    "(풀이)"
   ]
  },
  {
   "cell_type": "code",
   "execution_count": 255,
   "id": "d1ab4700-a8e4-4b40-8565-0e6e4780f34f",
   "metadata": {},
   "outputs": [
    {
     "data": {
      "text/plain": [
       "[('f', 6),\n",
       " ('d', 6),\n",
       " ('g', 3),\n",
       " ('h', 7),\n",
       " ('j', 7),\n",
       " ('k', 10),\n",
       " ('l', 9),\n",
       " ('s', 6),\n",
       " ('a', 5)]"
      ]
     },
     "execution_count": 255,
     "metadata": {},
     "output_type": "execute_result"
    }
   ],
   "source": [
    "[(s,list(txt).count(s)) for s in set(txt)]"
   ]
  },
  {
   "cell_type": "markdown",
   "id": "ad132bd6-2e4b-4f14-8589-5dc9ceb685c2",
   "metadata": {},
   "source": [
    "## 3. 연습문제 "
   ]
  },
  {
   "cell_type": "markdown",
   "id": "777faa71-6481-421d-a610-08c2213ccfd1",
   "metadata": {},
   "source": [
    "`# 우영우` "
   ]
  },
  {
   "cell_type": "markdown",
   "id": "8462d78a-8b42-4552-aaef-38b10d41381c",
   "metadata": {},
   "source": [
    "앞으로 읽어도 뒤로 읽어도 동일한 단어이면 true 그렇지 않으면 false를 리턴하는 함수 `solution`를 구현하라. 아래는 이러한 함수 `solution`를\n",
    "사용한 예시이다."
   ]
  },
  {
   "cell_type": "code",
   "execution_count": 62,
   "id": "a7dfb822-7f80-434a-87e0-7a8604704b55",
   "metadata": {},
   "outputs": [],
   "source": [
    "lst1 = ['기러기', '토마토', '스위스', '인도인', '별똥별', '우영우', '파이썬']\n",
    "lst2 = ['level', 'radar', 'noon', 'deified', 'rotor', 'python']"
   ]
  },
  {
   "cell_type": "code",
   "execution_count": 64,
   "id": "104eb1e7-4cb8-495f-a5f7-7c4a0a3d5439",
   "metadata": {},
   "outputs": [
    {
     "data": {
      "text/plain": [
       "[True, True, True, True, True, True, False]"
      ]
     },
     "execution_count": 64,
     "metadata": {},
     "output_type": "execute_result"
    }
   ],
   "source": [
    "[solution(l) for l in lst1]"
   ]
  },
  {
   "cell_type": "code",
   "execution_count": 65,
   "id": "d6250551-a9c6-438f-9325-445d15a146c6",
   "metadata": {},
   "outputs": [
    {
     "data": {
      "text/plain": [
       "[True, True, True, True, True, False]"
      ]
     },
     "execution_count": 65,
     "metadata": {},
     "output_type": "execute_result"
    }
   ],
   "source": [
    "[solution(l) for l in lst2]"
   ]
  },
  {
   "cell_type": "markdown",
   "id": "6ac48d0d-f2b2-4bfb-b797-eb6a9ffbfa97",
   "metadata": {},
   "source": [
    "(풀이)"
   ]
  },
  {
   "cell_type": "code",
   "execution_count": 289,
   "id": "3c8a2084-7784-4401-8514-e75b21bcf77e",
   "metadata": {},
   "outputs": [],
   "source": [
    "def solution(x):\n",
    "    return x == x[::-1] "
   ]
  },
  {
   "cell_type": "code",
   "execution_count": 290,
   "id": "8e741a8f-eda5-469f-97eb-d4e2a6e5c3d2",
   "metadata": {},
   "outputs": [
    {
     "data": {
      "text/plain": [
       "[True, True, True, True, True, True, False]"
      ]
     },
     "execution_count": 290,
     "metadata": {},
     "output_type": "execute_result"
    }
   ],
   "source": [
    "[solution(l) for l in lst1]"
   ]
  },
  {
   "cell_type": "code",
   "execution_count": 291,
   "id": "2c5f9119-12d3-4d07-b2f3-268954766ad2",
   "metadata": {},
   "outputs": [
    {
     "data": {
      "text/plain": [
       "[True, True, True, True, True, False]"
      ]
     },
     "execution_count": 291,
     "metadata": {},
     "output_type": "execute_result"
    }
   ],
   "source": [
    "[solution(l) for l in lst2]"
   ]
  },
  {
   "cell_type": "markdown",
   "id": "58676652-39dc-484c-91ea-73bafc942c4d",
   "metadata": {},
   "source": [
    "`# 피보나치수열` -- (1)-(4)"
   ]
  },
  {
   "cell_type": "markdown",
   "id": "f5be05fc-186d-4b80-9498-c596983d3b04",
   "metadata": {},
   "source": [
    "`(1)` `for` 문을 사용하여 아래와 같은 수열을 정의하라.\n",
    "($a_1,\\dots,a_{100}$ 까지 선언할 것)\n",
    "\n",
    "-   $a_1=a_2=1$\n",
    "-   $a_{n} = a_{n-1} + a_{n-2}$ where $n\\geq 3$"
   ]
  },
  {
   "cell_type": "markdown",
   "id": "6fc872f5-d12a-45b2-ad2a-bad1f6310e67",
   "metadata": {},
   "source": [
    "``` python\n",
    "## 정답은 아래와 같음\n",
    "[1, 1, 2, 3, 5, 8, 13, 21, 34, 55, 89, 144, 233, 377, 610, 987,\n",
    " 1597, 2584, 4181, 6765, 10946, 17711, 28657, 46368, 75025, 121393,\n",
    " 196418, 317811, 514229, 832040, 1346269, 2178309, 3524578, 5702887,\n",
    " 9227465, 14930352, 24157817, 39088169, 63245986, 102334155,\n",
    " 165580141, 267914296, 433494437, 701408733, 1134903170, 1836311903,\n",
    " 2971215073, 4807526976, 7778742049, 12586269025, 20365011074,\n",
    " 32951280099, 53316291173, 86267571272, 139583862445, 225851433717,\n",
    " 365435296162, 591286729879, 956722026041, 1548008755920,\n",
    " 2504730781961, 4052739537881, 6557470319842, 10610209857723,\n",
    " 17167680177565, 27777890035288, 44945570212853, 72723460248141,\n",
    " 117669030460994, 190392490709135, 308061521170129, 498454011879264,\n",
    " 806515533049393, 1304969544928657, 2111485077978050,\n",
    " 3416454622906707, 5527939700884757, 8944394323791464,\n",
    " 14472334024676221, 23416728348467685, 37889062373143906,\n",
    " 61305790721611591, 99194853094755497, 160500643816367088,\n",
    " 259695496911122585, 420196140727489673, 679891637638612258,\n",
    " 1100087778366101931, 1779979416004714189, 2880067194370816120,\n",
    " 4660046610375530309, 7540113804746346429, 12200160415121876738,\n",
    " 19740274219868223167, 31940434634990099905, 51680708854858323072,\n",
    " 83621143489848422977, 135301852344706746049, 218922995834555169026,\n",
    " 354224848179261915075]\n",
    "```"
   ]
  },
  {
   "cell_type": "markdown",
   "id": "7f062dff-3193-4b7f-9c9b-46373cabdbb2",
   "metadata": {},
   "source": [
    "(풀이)"
   ]
  },
  {
   "cell_type": "code",
   "execution_count": 303,
   "id": "849d44bc-24d4-4b53-8b71-e48e955883b3",
   "metadata": {},
   "outputs": [],
   "source": [
    "lst = [1,1] \n",
    "for i in range(98):\n",
    "    lst.append(sum(lst[-2:]))"
   ]
  },
  {
   "cell_type": "markdown",
   "id": "8502626e-b22f-4d63-8c1f-5dccf76d9b63",
   "metadata": {},
   "source": [
    "`(2)` (1)의 결과로 나온 숫자들의 자리수를 카운트하는 파이썬코드를 리스트 컴프리헨션을 이용하여 구현하라."
   ]
  },
  {
   "cell_type": "markdown",
   "id": "b0ece902-e9d8-4026-94df-5a2aab87e729",
   "metadata": {},
   "source": [
    "``` python\n",
    "## 답은 아래와 같다. \n",
    "[ 1,  1,  1,  1,  1,  1,  2,  2,  2,  2,  2,  3,  3,  3,  3,  3,  4,\n",
    "  4,  4,  4,  5,  5,  5,  5,  5,  6,  6,  6,  6,  6,  7,  7,  7,  7,\n",
    "  7,  8,  8,  8,  8,  9,  9,  9,  9,  9, 10, 10, 10, 10, 10, 11, 11,\n",
    "  11, 11, 11, 12, 12, 12, 12, 12, 13, 13, 13, 13, 14, 14, 14, 14, 14,\n",
    "  15, 15, 15, 15, 15, 16, 16, 16, 16, 16, 17, 17, 17, 17, 17, 18, 18,\n",
    "  18, 18, 19, 19, 19, 19, 19, 20, 20, 20, 20, 20, 21, 21, 21 ]\n",
    "```"
   ]
  },
  {
   "cell_type": "markdown",
   "id": "bd45ce69-e495-4873-b554-6d8ded166bff",
   "metadata": {},
   "source": [
    "**hint** 아래의 코드를 이용할 것"
   ]
  },
  {
   "cell_type": "code",
   "execution_count": 47,
   "id": "f1b0b039-f0a6-45aa-959f-c60a1e3a4d0b",
   "metadata": {},
   "outputs": [],
   "source": [
    "len(str(2584)), len(str(354224848179261915075))"
   ]
  },
  {
   "cell_type": "markdown",
   "id": "be84670c-1a26-4ecc-824c-e0d46b2b52f7",
   "metadata": {},
   "source": [
    "(풀이)"
   ]
  },
  {
   "cell_type": "code",
   "execution_count": 312,
   "id": "6a9a33cf-5d2a-410e-98f6-9db920d9826e",
   "metadata": {},
   "outputs": [],
   "source": [
    "cnt = [len(str(i)) for i in lst] \n",
    "#cnt "
   ]
  },
  {
   "cell_type": "markdown",
   "id": "61ee0c3a-f6df-4284-96f6-2f46f298e143",
   "metadata": {},
   "source": [
    "`(3)` (1)의 결과로 나온 값의 유일한 숫자의 수를 카운트하는 파이썬코드를 리스트 컴프리헨션을 이용하여 구현하라. (여기에서 17711 은 유일한 숫자가 “1,7” 2개이며, 10946은 유일한 숫자가 “1,0,9,4,6” 5개 이다."
   ]
  },
  {
   "cell_type": "markdown",
   "id": "3c636c62-8d71-42fd-b517-8ef5dc38dd8f",
   "metadata": {},
   "source": [
    "**hint** 아래의 코드를 활용할 것"
   ]
  },
  {
   "cell_type": "code",
   "execution_count": 49,
   "id": "9da1e98f-516c-4fe0-8abb-dae6e670f652",
   "metadata": {},
   "outputs": [
    {
     "data": {
      "text/plain": [
       "6"
      ]
     },
     "execution_count": 49,
     "metadata": {},
     "output_type": "execute_result"
    }
   ],
   "source": [
    "len(set(str(9227465)))"
   ]
  },
  {
   "cell_type": "markdown",
   "id": "f95ee78c-927e-43ae-b1a7-8f9999052100",
   "metadata": {},
   "source": [
    "``` python\n",
    "## 답은 아래와 같다. \n",
    "[ 1,  1,  1,  1,  1,  1,  2,  2,  2,  1,  2,  2,  2,  2,  3,  3,  4,\n",
    "  4,  3,  3,  5,  2,  5,  4,  4,  4,  5,  4,  5,  5,  6,  7,  6,  5,\n",
    "  6,  7,  6,  6,  7,  6,  6,  6,  4,  6,  6,  6,  7,  8,  6,  7,  8,\n",
    "  7,  7,  6,  8,  7,  7,  7,  8,  8, 10,  9, 10,  9,  6,  7,  9,  8,\n",
    "  7,  8,  9,  9,  8, 10,  8,  9,  8,  8,  7,  8,  9,  8,  8,  8,  7,\n",
    "  9,  8,  7,  7,  9,  8, 10,  9,  9,  7,  9,  8, 10,  9, 10 ]\n",
    "```"
   ]
  },
  {
   "cell_type": "markdown",
   "id": "eff24ef9-d051-4330-b6e1-7462bc0db5a0",
   "metadata": {},
   "source": [
    "(풀이)"
   ]
  },
  {
   "cell_type": "code",
   "execution_count": 322,
   "id": "2ab15fd2-bf6b-4820-81c8-c6e26e7dc8b5",
   "metadata": {},
   "outputs": [],
   "source": [
    "cnt = [len(set(str(l))) for l in lst]\n",
    "#cnt "
   ]
  },
  {
   "cell_type": "markdown",
   "id": "4b00280c-0e8e-43f5-ae1f-e5c9ad62151f",
   "metadata": {},
   "source": [
    "`(4)` (1)의 결과로 나온 숫자들 중 짝수에 해당하는 숫자가 몇개인지 카운트하는 코드를 작성하라. 코드 작성시 `if`가 포함된 리스트컴프리헨션을 이용하라. "
   ]
  },
  {
   "cell_type": "markdown",
   "id": "dc47675f-0200-43d1-abec-5d87bb41c0c9",
   "metadata": {},
   "source": [
    "(풀이)"
   ]
  },
  {
   "cell_type": "code",
   "execution_count": 333,
   "id": "1c18ae7e-8b30-4f90-9214-1ac2483bf810",
   "metadata": {},
   "outputs": [
    {
     "data": {
      "text/plain": [
       "33"
      ]
     },
     "execution_count": 333,
     "metadata": {},
     "output_type": "execute_result"
    }
   ],
   "source": [
    "len([l for l in lst if l%2  == 0])"
   ]
  },
  {
   "cell_type": "markdown",
   "id": "5751a3a2-934d-4c19-bf48-ff9e7a51e978",
   "metadata": {},
   "source": [
    "---"
   ]
  },
  {
   "cell_type": "markdown",
   "id": "9c3849a7-f1ff-47cb-9760-3437dbea1ff0",
   "metadata": {},
   "source": [
    "## 4. 숙제 "
   ]
  },
  {
   "cell_type": "markdown",
   "id": "312b950b-b26c-4c1c-84f1-f118c41c2607",
   "metadata": {},
   "source": [
    "$[1^2,2^2,\\dots,100^2]$ 중에서 32으로 나누어 떨어지는 수를 모두 구하여라. "
   ]
  },
  {
   "cell_type": "code",
   "execution_count": 262,
   "id": "07645cd4-fa2e-472e-b24d-274d73cb3c87",
   "metadata": {},
   "outputs": [
    {
     "data": {
      "text/plain": [
       "[64, 256, 576, 1024, 1600, 2304, 3136, 4096, 5184, 6400, 7744, 9216]"
      ]
     },
     "execution_count": 262,
     "metadata": {},
     "output_type": "execute_result"
    }
   ],
   "source": [
    "# hint: 답은 아래와 같이 나옴\n",
    "[64, 256, 576, 1024, 1600, 2304, 3136, 4096, 5184, 6400, 7744, 9216]"
   ]
  },
  {
   "cell_type": "code",
   "execution_count": 338,
   "id": "b209981e-da9a-4bde-b1de-e63205f22c4b",
   "metadata": {},
   "outputs": [
    {
     "data": {
      "text/plain": [
       "[64, 256, 576, 1024, 1600, 2304, 3136, 4096, 5184, 6400, 7744, 9216]"
      ]
     },
     "execution_count": 338,
     "metadata": {},
     "output_type": "execute_result"
    }
   ],
   "source": [
    "[i**2 for i in range(1,101) if (i**2 % 32 ) ==0 ]"
   ]
  }
 ],
 "metadata": {
  "kernelspec": {
   "display_name": "Python 3 (ipykernel)",
   "language": "python",
   "name": "python3"
  },
  "language_info": {
   "codemirror_mode": {
    "name": "ipython",
    "version": 3
   },
   "file_extension": ".py",
   "mimetype": "text/x-python",
   "name": "python",
   "nbconvert_exporter": "python",
   "pygments_lexer": "ipython3",
   "version": "3.13.2"
  }
 },
 "nbformat": 4,
 "nbformat_minor": 5
}
