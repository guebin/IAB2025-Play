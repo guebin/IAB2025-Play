{
 "cells": [
  {
   "cell_type": "raw",
   "id": "7038fb0a-9def-494b-a669-05958c39b87c",
   "metadata": {
    "vscode": {
     "languageId": "raw"
    }
   },
   "source": [
    "---\n",
    "title: \"06wk-2: [Python] -- dict, set\"\n",
    "author: \"최규빈\"\n",
    "date: \"04/01/2025\"\n",
    "draft: true\n",
    "---"
   ]
  },
  {
   "cell_type": "markdown",
   "id": "4dbaa2b3-861f-41f9-9c13-e26efab8f387",
   "metadata": {},
   "source": [
    "## 4. 잡기술 (하지만 유용해)\n"
   ]
  },
  {
   "cell_type": "markdown",
   "id": "2763223d-87c2-4e10-84dc-2b112f863b6a",
   "metadata": {},
   "source": [
    "### A. 인덱싱고급 (스트라이딩)\n"
   ]
  },
  {
   "cell_type": "markdown",
   "id": "1fffedaf-b7ec-411a-9d45-0e6948a583e7",
   "metadata": {},
   "source": [
    "\n",
    "`-` 스트라이딩 \\[start:end:step\\]"
   ]
  },
  {
   "cell_type": "code",
   "execution_count": null,
   "id": "9dd4f4ba-cb11-4037-b7c4-d316cf6e8242",
   "metadata": {},
   "outputs": [],
   "source": [
    "lst = list('abcdefghijk')\n",
    "lst"
   ]
  },
  {
   "cell_type": "code",
   "execution_count": null,
   "id": "a2a674e8-8f6c-4885-ae42-7eb8153b0747",
   "metadata": {},
   "outputs": [],
   "source": [
    "len(lst)"
   ]
  },
  {
   "cell_type": "code",
   "execution_count": 255,
   "id": "f05d6bd9-b0b8-44cc-9a5c-285a3611054d",
   "metadata": {},
   "outputs": [],
   "source": [
    "lst[0:9:2]"
   ]
  },
  {
   "cell_type": "markdown",
   "id": "5aef055b-3ca2-4d5a-9183-9cc9d8508aa0",
   "metadata": {},
   "source": [
    "`-` 생략"
   ]
  },
  {
   "cell_type": "code",
   "execution_count": 22,
   "id": "65b460b5-9831-466d-8de3-7f80cbf4dd82",
   "metadata": {},
   "outputs": [],
   "source": [
    "lst[0:9]\n",
    "#lst[0:9:]\n",
    "#lst[0:9:1]"
   ]
  },
  {
   "cell_type": "code",
   "execution_count": 256,
   "id": "844c2ccf-0ee4-4aaa-9516-9e7c6122086e",
   "metadata": {},
   "outputs": [],
   "source": [
    "lst[1::3]"
   ]
  },
  {
   "cell_type": "code",
   "execution_count": 257,
   "id": "ce3d5ac1-39f6-47b9-8e09-2300026fc860",
   "metadata": {},
   "outputs": [],
   "source": [
    "lst[:8:3]"
   ]
  },
  {
   "cell_type": "markdown",
   "id": "6495163e-f518-4de4-a0e6-d919cf17a70b",
   "metadata": {},
   "source": [
    "`# 예제1`: 짝수/홀수 원소 추출\n",
    "\n",
    "아래와 같은 문자열이 있다고 하자."
   ]
  },
  {
   "cell_type": "code",
   "execution_count": 26,
   "id": "9e060b8e-ad28-463d-83fe-23911a34d10e",
   "metadata": {},
   "outputs": [],
   "source": [
    "lst = list('abcdefghijk')\n",
    "lst"
   ]
  },
  {
   "cell_type": "markdown",
   "id": "54b2b09f-5ecd-4bcb-914e-9d5b3a90e0cf",
   "metadata": {},
   "source": [
    "`index = 0,2,4, ...` 에 해당하는 원소를 출력하라."
   ]
  },
  {
   "cell_type": "code",
   "execution_count": null,
   "id": "30719940-9389-45f9-a58d-c7b6403227f2",
   "metadata": {},
   "outputs": [],
   "source": []
  },
  {
   "cell_type": "markdown",
   "id": "4d20fe6d-b092-4ea9-922c-bb32197926cf",
   "metadata": {},
   "source": [
    "`index = 1,4,7 ...` 에 해당하는 원소를 출력하라."
   ]
  },
  {
   "cell_type": "code",
   "execution_count": null,
   "id": "a5775f56-cfa7-4118-b416-6228c88e1571",
   "metadata": {},
   "outputs": [],
   "source": []
  },
  {
   "cell_type": "markdown",
   "id": "d7eb999c-6761-4e52-8965-ad87639dc203",
   "metadata": {},
   "source": [
    "`#`\n",
    "\n",
    "`# 예제2` – 세로로..\n",
    "\n",
    "------------------------------------------------------------------------\n",
    "\n",
    "(예제2를 위한 예비학습) 문자열에서 `\\n`을 출력하면 출력시 줄바꿈이\n",
    "일어난다."
   ]
  },
  {
   "cell_type": "code",
   "execution_count": 264,
   "id": "c6932d4a-1b07-4c86-ac30-79f233b83c84",
   "metadata": {},
   "outputs": [
    {
     "name": "stdout",
     "output_type": "stream",
     "text": [
      "1행\n",
      "2행\n",
      "3행"
     ]
    }
   ],
   "source": [
    "print('1행\\n2행\\n3행')"
   ]
  },
  {
   "cell_type": "markdown",
   "id": "92b11b64-5dc4-4050-ad0c-ba79d2cadde4",
   "metadata": {},
   "source": [
    "예비학습 끝\n",
    "\n",
    "------------------------------------------------------------------------\n",
    "\n",
    "아래와 같은 문자열이 있다고 하자."
   ]
  },
  {
   "cell_type": "code",
   "execution_count": 265,
   "id": "74399805-c56d-4d27-ac5c-80ec6e23f4d8",
   "metadata": {},
   "outputs": [
    {
     "name": "stdout",
     "output_type": "stream",
     "text": [
      "너같이사랑스럽고\n",
      "또예쁘고도멋지고\n",
      "속훤히보이는너알\n",
      "았어그동안고마웠\n",
      "지정말정말사랑해"
     ]
    }
   ],
   "source": [
    "txt = '너같이사랑스럽고\\n또예쁘고도멋지고\\n속훤히보이는너알\\n았어그동안고마웠\\n지정말정말사랑해'\n",
    "print(txt)"
   ]
  },
  {
   "cell_type": "markdown",
   "id": "85f584e9-dde0-4108-b7a3-6cbf42a3283f",
   "metadata": {},
   "source": [
    "위 문자열을 세로로 읽는 코드를 작성하라. (9칸씩 점프하면서 읽으면 된다)\n",
    "\n",
    "(풀이)"
   ]
  },
  {
   "cell_type": "code",
   "execution_count": null,
   "id": "c806fe97-30cc-414c-9f39-8021c9438ce0",
   "metadata": {},
   "outputs": [],
   "source": []
  },
  {
   "cell_type": "code",
   "execution_count": null,
   "id": "cf933d59-6c31-47ea-ba64-74aa6c6e6bee",
   "metadata": {},
   "outputs": [],
   "source": []
  },
  {
   "cell_type": "markdown",
   "id": "0facb774-2d72-4a46-94c9-95e920529273",
   "metadata": {},
   "source": [
    "`#`\n",
    "\n",
    "`-` step = -1 이면?"
   ]
  },
  {
   "cell_type": "code",
   "execution_count": 268,
   "id": "5740ef67-561a-494a-95cf-d390e57b8404",
   "metadata": {},
   "outputs": [],
   "source": [
    "lst"
   ]
  },
  {
   "cell_type": "code",
   "execution_count": 270,
   "id": "b0af2753-cf11-49ff-872a-6e51f6a8459f",
   "metadata": {},
   "outputs": [],
   "source": [
    "lst[::-1]"
   ]
  },
  {
   "cell_type": "markdown",
   "id": "17e46515-0676-4b5d-8d2b-88b5ee17213f",
   "metadata": {},
   "source": [
    "`-` 스트라이딩으로 `step = -1` 옵션 주기 vs 리스트의 `.reverse()` 메소드 이용하기\n"
   ]
  },
  {
   "cell_type": "markdown",
   "id": "70bebcca-c38e-4cf1-8194-61694e9834fc",
   "metadata": {},
   "source": [
    "\n",
    "관찰1: reverse 메소드는 리스트 자체를 변화시킴"
   ]
  },
  {
   "cell_type": "code",
   "execution_count": 281,
   "id": "db4b6ce5-3cf0-4a91-8afe-4a10f56477cb",
   "metadata": {},
   "outputs": [],
   "source": [
    "lst = list('abcdefgh')\n",
    "lst"
   ]
  },
  {
   "cell_type": "code",
   "execution_count": 282,
   "id": "f42d50f0-9a09-4ff1-931f-7756eb990925",
   "metadata": {},
   "outputs": [],
   "source": [
    "lst.reverse()  \n",
    "lst"
   ]
  },
  {
   "cell_type": "markdown",
   "id": "d2122a70-2dda-402b-a398-8824a312a536",
   "metadata": {},
   "source": [
    "관찰2: \\[::-1\\]는 리스트는 변화시키지 않음"
   ]
  },
  {
   "cell_type": "code",
   "execution_count": 2,
   "id": "8921b83f-16fc-4432-8b56-31cbea5845df",
   "metadata": {},
   "outputs": [
    {
     "data": {
      "text/plain": [
       "['a', 'b', 'c', 'd', 'e', 'f', 'g', 'h']"
      ]
     },
     "execution_count": 2,
     "metadata": {},
     "output_type": "execute_result"
    }
   ],
   "source": [
    "lst = list('abcdefgh')\n",
    "lst"
   ]
  },
  {
   "cell_type": "code",
   "execution_count": 3,
   "id": "0ea7aa18-a95e-4e19-99fd-4280a2d8b64a",
   "metadata": {},
   "outputs": [
    {
     "data": {
      "text/plain": [
       "['h', 'g', 'f', 'e', 'd', 'c', 'b', 'a']"
      ]
     },
     "execution_count": 3,
     "metadata": {},
     "output_type": "execute_result"
    }
   ],
   "source": [
    "lst[::-1]"
   ]
  },
  {
   "cell_type": "code",
   "execution_count": 4,
   "id": "f2fc7ee2-b871-4e01-80b3-66bd0be011a3",
   "metadata": {},
   "outputs": [
    {
     "data": {
      "text/plain": [
       "['a', 'b', 'c', 'd', 'e', 'f', 'g', 'h']"
      ]
     },
     "execution_count": 4,
     "metadata": {},
     "output_type": "execute_result"
    }
   ],
   "source": [
    "lst"
   ]
  },
  {
   "cell_type": "markdown",
   "id": "08023138-1f6a-481a-a404-60ee44d71820",
   "metadata": {},
   "source": [
    "`-` -step 은 쓰기 까다롭다.\n"
   ]
  },
  {
   "cell_type": "markdown",
   "id": "30ed87b9-7ef3-4b0b-8737-0d8c045e9af2",
   "metadata": {},
   "source": [
    "(예제) 처음과 끝을 생략하지 않고 아래와 동일한 효과를 주는 코드를 만들어 보자.\n"
   ]
  },
  {
   "cell_type": "code",
   "execution_count": 8,
   "id": "9fdf60bd-8102-435f-a13c-97754910511e",
   "metadata": {},
   "outputs": [
    {
     "data": {
      "text/plain": [
       "['h', 'g', 'f', 'e', 'd', 'c', 'b', 'a']"
      ]
     },
     "execution_count": 8,
     "metadata": {},
     "output_type": "execute_result"
    }
   ],
   "source": [
    "lst[::-1]"
   ]
  },
  {
   "cell_type": "markdown",
   "id": "688cefc5-b41e-4bc4-b0a4-5cff8ebe4297",
   "metadata": {},
   "source": [
    "(풀이)\n",
    "\n",
    "결국 lst\\[?:?:-1\\]의 꼴에서 적당히 ?의 값을 채우면 된다."
   ]
  },
  {
   "cell_type": "markdown",
   "id": "8bcd94e9-9c60-493a-9b06-1511bb0f7d06",
   "metadata": {},
   "source": [
    "| None |  a  |  b  |  c  |  d  |  e  |  f  |  g  |  h  | None |\n",
    "|:----:|:---:|:---:|:---:|:---:|:---:|:---:|:---:|:---:|:----:|\n",
    "|  ?   |  0  |  1  |  2  |  3  |  4  |  5  |  6  |  7  |  8   |\n",
    "|  -9  | -8  | -7  | -6  | -5  | -4  | -3  | -2  | -1  |  ?   |"
   ]
  },
  {
   "cell_type": "markdown",
   "id": "03bd5424-55b3-4a76-b1b6-b3c6d9ff939b",
   "metadata": {},
   "source": [
    "### C. 컴프리헨션 고급 (if문이 포함된 컴프리헨션)\n",
    "\n",
    "`-` 예제: 제곱수중에서 12로 나누어 떨어지는 수만 원소로 가지는 리스트를\n",
    "만들고 싶다.\n",
    "\n",
    "-   제곱수: 1,4,9,16,25,36, …\n",
    "-   12로 나누어 떨어지는 수: 36, …\n",
    "\n",
    "(예비학습1)"
   ]
  },
  {
   "cell_type": "code",
   "execution_count": null,
   "id": "34f50616-f0be-40c0-ba59-ef95415c7d54",
   "metadata": {},
   "outputs": [],
   "source": [
    "12 % 4 # %는 나머지를 계산하는 연산자, 12를 4로 나누면 나머지가 0"
   ]
  },
  {
   "cell_type": "code",
   "execution_count": null,
   "id": "25304174-8ce3-4efc-82e7-239275f66839",
   "metadata": {},
   "outputs": [],
   "source": [
    "12 % 5 # %는 나머지를 계산하는 연산자, 12를 5로 나누면 나머지가 2"
   ]
  },
  {
   "cell_type": "markdown",
   "id": "1a10413a-b122-46a1-bba5-0aeacd2b75de",
   "metadata": {},
   "source": [
    "(예비학습2)"
   ]
  },
  {
   "cell_type": "code",
   "execution_count": null,
   "id": "068bae6e-5810-401a-9c82-13f9f29a2218",
   "metadata": {},
   "outputs": [],
   "source": [
    "a = 2 ## a에 2를 \"대입\" 하라. "
   ]
  },
  {
   "cell_type": "code",
   "execution_count": null,
   "id": "8e6a4754-0eb2-4581-b97e-09837a59d4ee",
   "metadata": {},
   "outputs": [],
   "source": [
    "a == 2 # a에 들어있는 값이 2인지 \"test\"하라."
   ]
  },
  {
   "cell_type": "code",
   "execution_count": null,
   "id": "7a69979f-7b66-4387-885b-3716f29f8200",
   "metadata": {},
   "outputs": [],
   "source": [
    "a == 3 # a에 들어있는 값이 3인지 \"test\"하라."
   ]
  },
  {
   "cell_type": "markdown",
   "id": "0fc17aac-4795-467f-8fcb-53a397587ff9",
   "metadata": {},
   "source": [
    "(예비학습3) if문"
   ]
  },
  {
   "cell_type": "code",
   "execution_count": null,
   "id": "27f1e2ea-04b2-46bc-b2ec-857afef7005f",
   "metadata": {},
   "outputs": [],
   "source": [
    "a= 3 \n",
    "if a%2 == 0: \n",
    "    a_is='even' ## a%2==0 이 true일 경우만 실행된다. \n",
    "else:\n",
    "    a_is='odd' ## a%2==0 이 false일 경우만 실행된다. "
   ]
  },
  {
   "cell_type": "code",
   "execution_count": null,
   "id": "a1f6e24d-82bc-4ac9-8d66-dc9ffa4c646e",
   "metadata": {},
   "outputs": [],
   "source": [
    "a,a_is"
   ]
  },
  {
   "cell_type": "markdown",
   "id": "593df759-98ba-4c8f-862b-a23ac084b2e9",
   "metadata": {},
   "source": [
    "(풀이1) - 비어있는 리스트를 만들고 $\\to$ for문 + if문"
   ]
  },
  {
   "cell_type": "code",
   "execution_count": null,
   "id": "ee6a4bef-bca7-4283-87b3-8c4e55d7d763",
   "metadata": {},
   "outputs": [],
   "source": [
    "lst = list()\n",
    "for i in range(1,101): \n",
    "    if i**2 % 12 == 0:\n",
    "        lst.append(i**2)"
   ]
  },
  {
   "cell_type": "code",
   "execution_count": null,
   "id": "546653d9-1e7d-4293-bf33-ede721a797d6",
   "metadata": {},
   "outputs": [],
   "source": [
    "lst"
   ]
  },
  {
   "cell_type": "markdown",
   "id": "5c15cdef-8a42-4c6b-9771-4ebc12921fd9",
   "metadata": {},
   "source": [
    "(풀이2) - if문이 포함된 리스트컴프리헨션"
   ]
  },
  {
   "cell_type": "code",
   "execution_count": null,
   "id": "656d2209-57be-4633-ba45-69fd8671cfe6",
   "metadata": {},
   "outputs": [],
   "source": [
    "[i**2 for i in range(1,101) if i**2 % 12 == 0]"
   ]
  },
  {
   "cell_type": "markdown",
   "id": "fa689234-72f9-46b1-a2ae-74c26183d459",
   "metadata": {},
   "source": [
    "### D. 함수고급 (if문이 포함된 리턴)\n",
    "\n",
    "`-` 홀수/짝수를 판별하는 함수 만들기 1"
   ]
  },
  {
   "cell_type": "code",
   "execution_count": 9,
   "id": "e4ad1c67-5d6e-4e21-a9a2-8b7548c771ec",
   "metadata": {},
   "outputs": [],
   "source": [
    "def test(x): \n",
    "    if x % 2 == 0: \n",
    "        return 'even'\n",
    "    else:\n",
    "        return 'odd'"
   ]
  },
  {
   "cell_type": "code",
   "execution_count": 10,
   "id": "59425a1c-283f-4d81-bbe0-eb5f1fba40da",
   "metadata": {},
   "outputs": [
    {
     "data": {
      "text/plain": [
       "'odd'"
      ]
     },
     "execution_count": 10,
     "metadata": {},
     "output_type": "execute_result"
    }
   ],
   "source": [
    "test(5)"
   ]
  },
  {
   "cell_type": "markdown",
   "id": "a21b9c8c-36f9-4ec2-8031-ecfa60e85bbe",
   "metadata": {},
   "source": [
    "(사용)"
   ]
  },
  {
   "cell_type": "code",
   "execution_count": 11,
   "id": "289f6520-999a-450d-bb03-4def4d32977b",
   "metadata": {},
   "outputs": [
    {
     "data": {
      "text/plain": [
       "['odd', 'even', 'odd', 'even', 'odd', 'even', 'odd', 'even', 'odd', 'even']"
      ]
     },
     "execution_count": 11,
     "metadata": {},
     "output_type": "execute_result"
    }
   ],
   "source": [
    "[test(l) for l in list(range(1,11))]"
   ]
  },
  {
   "cell_type": "markdown",
   "id": "45b1dab2-e335-4e50-958d-2998038c221a",
   "metadata": {},
   "source": [
    "`-` 홀수/짝수를 판별하는 함수 만들기 2"
   ]
  },
  {
   "cell_type": "code",
   "execution_count": 12,
   "id": "2eca0ec6-717e-4110-94a0-483e58799c9a",
   "metadata": {},
   "outputs": [],
   "source": [
    "def test(x):\n",
    "    return 'even' if x % 2 == 0 else 'odd'"
   ]
  },
  {
   "cell_type": "code",
   "execution_count": 13,
   "id": "d811f63d-28b9-4cbe-912d-ca4107a69bc3",
   "metadata": {},
   "outputs": [
    {
     "data": {
      "text/plain": [
       "'even'"
      ]
     },
     "execution_count": 13,
     "metadata": {},
     "output_type": "execute_result"
    }
   ],
   "source": [
    "test(4)"
   ]
  },
  {
   "cell_type": "markdown",
   "id": "508a2424-e7c7-4b80-9d1c-3490c230f55f",
   "metadata": {},
   "source": [
    "(사용)"
   ]
  },
  {
   "cell_type": "code",
   "execution_count": 14,
   "id": "b6fdc2cc-93ee-443c-ac8b-5ae273474e8d",
   "metadata": {},
   "outputs": [
    {
     "data": {
      "text/plain": [
       "['odd', 'even', 'odd', 'even', 'odd', 'even', 'odd', 'even', 'odd', 'even']"
      ]
     },
     "execution_count": 14,
     "metadata": {},
     "output_type": "execute_result"
    }
   ],
   "source": [
    "[test(l) for l in list(range(1,11))]"
   ]
  },
  {
   "cell_type": "markdown",
   "id": "7a76a29f-a6af-43ce-af81-bb56c2fec0db",
   "metadata": {},
   "source": [
    "### E. len함수\n"
   ]
  },
  {
   "cell_type": "markdown",
   "id": "797a7e0a-8e1f-4ef8-a1be-513bbd2ed887",
   "metadata": {},
   "source": [
    "\n",
    "`-` 0차원 자료형은 len함수가 동작하지 않음"
   ]
  },
  {
   "cell_type": "code",
   "execution_count": 302,
   "id": "1efdff21-ed1b-4d58-8817-5a0459246917",
   "metadata": {},
   "outputs": [],
   "source": [
    "a=1 \n",
    "len(a)"
   ]
  },
  {
   "cell_type": "code",
   "execution_count": 303,
   "id": "dee054c7-6434-4602-9d40-dff20c658065",
   "metadata": {},
   "outputs": [],
   "source": [
    "a=True\n",
    "len(a)"
   ]
  },
  {
   "cell_type": "code",
   "execution_count": 304,
   "id": "f599a968-a6be-4db0-bfa3-1fe4fed11a16",
   "metadata": {},
   "outputs": [],
   "source": [
    "a=3.14\n",
    "len(a)"
   ]
  },
  {
   "cell_type": "markdown",
   "id": "6c9eb6c4-4acf-4399-a7b8-34fcb2b5eed2",
   "metadata": {},
   "source": [
    "> note: 이것이 어떠한 수학적인 의미를 가지거나 0차원의 본질적진리를\n",
    "> 뜻하는 것은 아님. R에서는 1,3.14,TRUE의 길이가 1로 존재함.\n",
    "\n",
    "`-` 1차원 자료형은 len함수가 동작"
   ]
  },
  {
   "cell_type": "code",
   "execution_count": 305,
   "id": "91aedbf1-ff98-43a3-834d-8606e14781e2",
   "metadata": {},
   "outputs": [],
   "source": [
    "a='guebin'\n",
    "len(a)"
   ]
  },
  {
   "cell_type": "code",
   "execution_count": 306,
   "id": "1bbdabcf-6e00-4349-8d89-c1e6e8e33c2d",
   "metadata": {},
   "outputs": [],
   "source": [
    "a=[1,2,3,4,5,6]\n",
    "len(a)"
   ]
  },
  {
   "cell_type": "code",
   "execution_count": 307,
   "id": "a64635d4-72d4-42d3-9078-debcb1a49d12",
   "metadata": {},
   "outputs": [],
   "source": [
    "a=1,2,3,4,5,6 \n",
    "len(a)"
   ]
  },
  {
   "cell_type": "code",
   "execution_count": 309,
   "id": "92afcca2-2a74-40ac-a395-41c488ea7abb",
   "metadata": {},
   "outputs": [],
   "source": [
    "a=range(10)\n",
    "len(a)"
   ]
  },
  {
   "cell_type": "markdown",
   "id": "8b1d15cf-492e-4a35-b956-c2a28a7d3531",
   "metadata": {},
   "source": [
    "`-` 길이가 1인 1차원 자료형과 0차원 자료형은 다른것임"
   ]
  },
  {
   "cell_type": "code",
   "execution_count": 310,
   "id": "f77c5f3d-db3a-4e87-b0b4-8c2d8f78f382",
   "metadata": {},
   "outputs": [],
   "source": [
    "a='g'\n",
    "len(a)"
   ]
  },
  {
   "cell_type": "code",
   "execution_count": 311,
   "id": "6eb2422b-57be-401b-b0f0-9f0be00cf2a5",
   "metadata": {},
   "outputs": [],
   "source": [
    "a=[1]\n",
    "len(a)"
   ]
  },
  {
   "cell_type": "code",
   "execution_count": 312,
   "id": "d3f898dc-3a54-4ed8-8b91-eb2907d5333e",
   "metadata": {},
   "outputs": [],
   "source": [
    "a=(1,)\n",
    "len(a)"
   ]
  },
  {
   "cell_type": "code",
   "execution_count": 313,
   "id": "21bd6727-a8eb-4d56-bdcf-ab04c5c30244",
   "metadata": {},
   "outputs": [],
   "source": [
    "a=range(1)\n",
    "len(a)"
   ]
  },
  {
   "cell_type": "markdown",
   "id": "b5209870-36d5-483b-8ee8-058b29373ed8",
   "metadata": {},
   "source": [
    "`-` 길이가 0인 1차원 자료형도 존재함"
   ]
  },
  {
   "cell_type": "code",
   "execution_count": 315,
   "id": "3eeb270f-bd90-44d2-b866-fdbc7a9de350",
   "metadata": {},
   "outputs": [],
   "source": [
    "a=''\n",
    "len(a)"
   ]
  },
  {
   "cell_type": "code",
   "execution_count": 316,
   "id": "feb64f21-c6ec-4a65-a933-8b4ed270a7d8",
   "metadata": {},
   "outputs": [],
   "source": [
    "a=[]\n",
    "len(a)"
   ]
  },
  {
   "cell_type": "code",
   "execution_count": 317,
   "id": "c7030b65-c228-467d-a659-964b51cdce0f",
   "metadata": {},
   "outputs": [],
   "source": [
    "a=()\n",
    "len(a)"
   ]
  },
  {
   "cell_type": "code",
   "execution_count": 318,
   "id": "d471b78c-e9be-4b51-af4b-07716d91ea48",
   "metadata": {},
   "outputs": [],
   "source": [
    "a=range(0)\n",
    "len(a)"
   ]
  },
  {
   "cell_type": "markdown",
   "id": "d7a56a44-9b96-4939-938d-4e31453e085b",
   "metadata": {},
   "source": [
    "# 5. `dict`\n",
    "\n",
    "## A. intro: str, list, tuple 정리\n",
    "\n",
    "`-` str, list, tuple은 모두 시퀀스형이라는 공통점이 있다. $\\to$ 원소의\n",
    "위치번호로 인덱싱이 가능"
   ]
  },
  {
   "cell_type": "code",
   "execution_count": 104,
   "id": "ad10b370-397b-4bfb-87bc-70ccd89a586d",
   "metadata": {},
   "outputs": [],
   "source": [
    "lst = [1,2,3,4]"
   ]
  },
  {
   "cell_type": "code",
   "execution_count": 105,
   "id": "967766e6-7dff-4e87-b361-3f8a27a22fe6",
   "metadata": {},
   "outputs": [],
   "source": [
    "lst[0] # 위치번호=0"
   ]
  },
  {
   "cell_type": "code",
   "execution_count": 106,
   "id": "1d2a1650-612b-407a-b041-ab8923843bc5",
   "metadata": {},
   "outputs": [],
   "source": [
    "lst[-1] # 위치번호=-1"
   ]
  },
  {
   "cell_type": "markdown",
   "id": "ab52fb44-cc15-4f33-951d-03234ac453bb",
   "metadata": {},
   "source": [
    "`-` str, list, tuple은 차이점도 존재함. 잠깐 정리해보자.\n",
    "\n",
    "***시퀀스형의 카테고리***\n",
    "\n",
    "-   컨테니어형: list, tuple\n",
    "-   균일형: str\n",
    "-   가변형: list\n",
    "-   불변형: tuple, str\n",
    "\n",
    "***표로 정리하면***\n",
    "\n",
    "|        | 컨테니어형 | 균일형 |\n",
    "|:------:|:----------:|:------:|\n",
    "| 가변형 |    list    |   .    |\n",
    "| 불변형 |   tuple    |  str   |\n",
    "\n",
    "`-` 시퀀스형이 아닌 1차원 자료형도 있을까? 원소의 위치번호로 인덱싱이\n",
    "불가능한 자료형\n",
    "\n",
    "`-` 왜 이런게 필요할까?\n",
    "\n",
    "-   벡터에서 원소를 뽑는것은 정보의 모임에서 정보를 검색하는 것과 같다.\n",
    "-   정보를 `순서`대로 나열한뒤에 그 `순서`를 이용하여 검색하는 방법은\n",
    "    유용하다.\n",
    "-   하지만 경우에 따라서는 `키워드`를 기억해서 그 `키워드`를 바탕으로\n",
    "    정보에 접근하는 방법이 유용할 수 있다.\n",
    "\n",
    "***카카오톡 대화내용검색***\n",
    "\n",
    "(상황1) `오늘아침`에 와이프가 `뭔가`를 카톡으로 부탁했었음. 그런데 그\n",
    "뭔가가 기억안남.\n",
    "\n",
    "(상황2) `방학전에` 동료교수과 `개강이후 저녁약속`을 카톡으로 잡았었음.\n",
    "그런데 그게 언제인지 기억안남.\n",
    "\n",
    "`-` 순서대로 정리된 자료를 검색할때는 시퀀스형이 유리하다. 그런데\n",
    "키워드로 검색하고 싶을 경우는 딕셔너리 타입이 유리하다.\n",
    "\n",
    "## B. 선언\n",
    "\n",
    "`-` 방법1: 가장 일반적"
   ]
  },
  {
   "cell_type": "code",
   "execution_count": 1,
   "id": "3c6bbe9a-05bf-4a62-bb1b-c27ba8b77b5f",
   "metadata": {},
   "outputs": [],
   "source": [
    "dct = {'guebin':49, 'hanni':80}\n",
    "dct"
   ]
  },
  {
   "cell_type": "markdown",
   "id": "42f426df-7deb-4b5f-84f3-945b91be73fe",
   "metadata": {},
   "source": [
    "`-` 방법2: `dict()` 이용"
   ]
  },
  {
   "cell_type": "code",
   "execution_count": 3,
   "id": "3fdee70d-799e-4e00-8fff-a04802983afe",
   "metadata": {},
   "outputs": [],
   "source": [
    "dct = dict(guebin=49, hanni=80)\n",
    "dct"
   ]
  },
  {
   "cell_type": "markdown",
   "id": "7aec43c7-9a4b-4d86-ac21-65ba18560b12",
   "metadata": {},
   "source": [
    "`-` 방법3: 중첩된 리스트를 만든 뒤에 형태변환"
   ]
  },
  {
   "cell_type": "code",
   "execution_count": 7,
   "id": "f00a2e2a-af48-4189-9642-1c98b458dec8",
   "metadata": {},
   "outputs": [],
   "source": [
    "_lst = [['guebin',49],['hanni',80]]\n",
    "_lst "
   ]
  },
  {
   "cell_type": "code",
   "execution_count": 8,
   "id": "97c1e9d4-3fc1-46cc-bdb3-60b1a42c9d5f",
   "metadata": {},
   "outputs": [],
   "source": [
    "dict(_lst)"
   ]
  },
  {
   "cell_type": "markdown",
   "id": "3c68c3a8-8bdc-47c4-a506-b072f65460a6",
   "metadata": {},
   "source": [
    "`-` 방법4: 중첩된 튜플을 만든 뒤에 형태변환"
   ]
  },
  {
   "cell_type": "code",
   "execution_count": 9,
   "id": "120d04d2-d6fd-4a04-8777-44416ddbe6ac",
   "metadata": {},
   "outputs": [],
   "source": [
    "_tpl = ('guebin',49), ('hanni',80)\n",
    "_tpl"
   ]
  },
  {
   "cell_type": "code",
   "execution_count": 10,
   "id": "5bc39452-e339-4a0a-8c25-0eda7dba869e",
   "metadata": {},
   "outputs": [],
   "source": [
    "dict(_tpl)"
   ]
  },
  {
   "cell_type": "markdown",
   "id": "fbe040a3-bfcf-41a2-b08c-559285289606",
   "metadata": {},
   "source": [
    "## C. 원소추출\n",
    "\n",
    "`-` 원소의 위치로 추출할 수 없고, key로 추출해야 한다."
   ]
  },
  {
   "cell_type": "code",
   "execution_count": 11,
   "id": "645089aa-04f7-41f2-a890-c0d389f02cfe",
   "metadata": {},
   "outputs": [],
   "source": [
    "dct = {'guebin':49, 'hanni':80}\n",
    "dct"
   ]
  },
  {
   "cell_type": "markdown",
   "id": "0d5e0316-3a6e-46b4-88a6-4c7088383f0e",
   "metadata": {},
   "source": [
    "guebin의 점수를 추출하고 싶다면?"
   ]
  },
  {
   "cell_type": "code",
   "execution_count": 119,
   "id": "dc325e04-569e-4115-b84f-66d5d26bb85e",
   "metadata": {},
   "outputs": [],
   "source": [
    "dct['guebin']"
   ]
  },
  {
   "cell_type": "markdown",
   "id": "de0e0cc3-3157-4da2-bdcd-def20adaf995",
   "metadata": {},
   "source": [
    "`-` 만약에 dict가 아니라 list로 정보를 저장했다면?\n",
    "\n",
    "(예제) 아래와 같은 리스트에서 guebin의 점수를 추출하고 싶다면?"
   ]
  },
  {
   "cell_type": "code",
   "execution_count": 16,
   "id": "9c205e8f-6db6-48f5-ac3c-c77d71a98389",
   "metadata": {},
   "outputs": [],
   "source": [
    "lst=[['guebin',49],['hanni',80]]\n",
    "lst"
   ]
  },
  {
   "cell_type": "markdown",
   "id": "90fe5597-4759-42ee-9efc-6e868972a211",
   "metadata": {},
   "source": [
    "(풀이1)"
   ]
  },
  {
   "cell_type": "code",
   "execution_count": 120,
   "id": "ccd99bdb-021d-44dc-988e-7aba1a9ef66b",
   "metadata": {},
   "outputs": [],
   "source": [
    "lst[0][1] # guebin의 점수를 출력하란 의미"
   ]
  },
  {
   "cell_type": "markdown",
   "id": "39b3e00b-6c4e-49bd-8eab-72b5f37c6e9d",
   "metadata": {},
   "source": [
    "(풀이2) – 진짜 최악"
   ]
  },
  {
   "cell_type": "code",
   "execution_count": 129,
   "id": "30313e7e-a0da-418a-9c4a-581beff6efea",
   "metadata": {},
   "outputs": [],
   "source": [
    "[lst[i][1] for i in range(len(lst)) if lst[i][0] == 'guebin']"
   ]
  },
  {
   "cell_type": "markdown",
   "id": "8b6f7cf8-a946-4aa1-89d8-10bf79193783",
   "metadata": {},
   "source": [
    "(풀이3) – 덜 최악"
   ]
  },
  {
   "cell_type": "code",
   "execution_count": 132,
   "id": "009ca3fa-08bc-4d11-bd80-a298a86cab38",
   "metadata": {},
   "outputs": [],
   "source": [
    "[score for name,score in lst if name == 'guebin']"
   ]
  },
  {
   "cell_type": "markdown",
   "id": "ea656083-8f1c-429c-81b0-f8a61869104f",
   "metadata": {},
   "source": [
    "`-` ’guebin’의 점수를 추출하는 코드 비교"
   ]
  },
  {
   "cell_type": "code",
   "execution_count": 52,
   "id": "4d3fac1a-f3b7-4b1a-acdb-959a0ea677eb",
   "metadata": {},
   "outputs": [],
   "source": [
    "dct['guebin'] # 코드1: 단순하고, 가독성있음"
   ]
  },
  {
   "cell_type": "code",
   "execution_count": 40,
   "id": "1209e7e6-3726-4160-a02e-e63c37de7a3f",
   "metadata": {},
   "outputs": [],
   "source": [
    "lst[0][1] # 코드2: 단순하지만, 가독성이 있는건 아님, 확장성이 없음"
   ]
  },
  {
   "cell_type": "code",
   "execution_count": 54,
   "id": "8d14e7ee-2a0e-447f-a781-caef8d77857a",
   "metadata": {},
   "outputs": [],
   "source": [
    "[lst[i][1] for i in range(len(lst)) if lst[i][0] =='guebin'] # 코드3: 단순하지도 않고, 가독성도 없음."
   ]
  },
  {
   "cell_type": "code",
   "execution_count": 55,
   "id": "166da32f-6f46-4064-9d6e-bfe785c21a55",
   "metadata": {},
   "outputs": [],
   "source": [
    "[score for name,score in lst if name=='guebin' ] # 코드4: 단순하지 않지만, 가독성은 있음"
   ]
  },
  {
   "cell_type": "markdown",
   "id": "2979db59-9ebc-4d60-8d80-463b221af112",
   "metadata": {},
   "source": [
    "## D. 원소추가, 변경, 삭제"
   ]
  },
  {
   "cell_type": "code",
   "execution_count": 48,
   "id": "29790cca-72fc-4da5-98cc-06228a4acd8e",
   "metadata": {},
   "outputs": [],
   "source": [
    "dct={'guebin':49, 'hanni':80}\n",
    "dct"
   ]
  },
  {
   "cell_type": "markdown",
   "id": "576e875f-2b7e-4f72-9c1e-e0b4822293e2",
   "metadata": {},
   "source": [
    "`-` 원소에 접근: guebin의 점수 출력"
   ]
  },
  {
   "cell_type": "code",
   "execution_count": 50,
   "id": "f2736f40-2d07-4cfc-ae32-37f53be5353e",
   "metadata": {},
   "outputs": [],
   "source": [
    "dct['guebin']"
   ]
  },
  {
   "cell_type": "markdown",
   "id": "47264759-73bc-40fd-87b1-264d653905cf",
   "metadata": {},
   "source": [
    "`-` 추가: hynn학생의 점수를 추가"
   ]
  },
  {
   "cell_type": "code",
   "execution_count": 51,
   "id": "a929b061-e11f-4c63-aae2-ef15f7ae90e9",
   "metadata": {},
   "outputs": [],
   "source": [
    "dct['hynn'] = 99"
   ]
  },
  {
   "cell_type": "code",
   "execution_count": 52,
   "id": "921b768a-48ba-4e7b-acad-fe3a07e826ee",
   "metadata": {},
   "outputs": [],
   "source": [
    "dct"
   ]
  },
  {
   "cell_type": "markdown",
   "id": "dce6cc8f-89ab-45ab-b225-f1f02f250274",
   "metadata": {},
   "source": [
    "`-` 변경: hanni의 점수를 변경"
   ]
  },
  {
   "cell_type": "code",
   "execution_count": 53,
   "id": "45f396ee-40fb-4533-8762-55884bb20c63",
   "metadata": {},
   "outputs": [],
   "source": [
    "dct['hanni'] = 100 "
   ]
  },
  {
   "cell_type": "code",
   "execution_count": 54,
   "id": "c9998248-5f74-4be0-9113-493f2ca84e2d",
   "metadata": {},
   "outputs": [],
   "source": [
    "dct"
   ]
  },
  {
   "cell_type": "markdown",
   "id": "69d01177-3256-4c8c-87c7-9224c9ceee21",
   "metadata": {},
   "source": [
    "`-` 삭제\n",
    "\n",
    "(방법1)"
   ]
  },
  {
   "cell_type": "code",
   "execution_count": 57,
   "id": "c29292f0-0d0c-4f30-8180-3a5596d20180",
   "metadata": {},
   "outputs": [],
   "source": [
    "dct={'guebin':49, 'hanni':80, 'hynn':99}\n",
    "del dct['guebin']  \n",
    "dct"
   ]
  },
  {
   "cell_type": "markdown",
   "id": "74219f66-87fa-48db-b033-1f823f552d13",
   "metadata": {},
   "source": [
    "(방법2)"
   ]
  },
  {
   "cell_type": "code",
   "execution_count": 58,
   "id": "9f0dfbde-4a55-41d4-881b-1ce20223802c",
   "metadata": {},
   "outputs": [],
   "source": [
    "dct={'guebin':49, 'hanni':80, 'hynn':99} \n",
    "dct.pop('guebin')"
   ]
  },
  {
   "cell_type": "code",
   "execution_count": 59,
   "id": "4aaa9372-5c85-4f3b-aef4-ba48ef561e22",
   "metadata": {},
   "outputs": [],
   "source": [
    "dct"
   ]
  },
  {
   "cell_type": "markdown",
   "id": "1a8889c5-e922-4f63-a5b7-47df1d787021",
   "metadata": {},
   "source": [
    "`-` 참고로 리스트였다면 이러한 삭제작업역시 비효율적이었을 것임"
   ]
  },
  {
   "cell_type": "code",
   "execution_count": 60,
   "id": "da57cc1b-2b90-45c7-ab8a-64cbd75bb20c",
   "metadata": {},
   "outputs": [],
   "source": [
    "lst = [['guebin',49],['hanni',80],['hynn',99]] \n",
    "lst"
   ]
  },
  {
   "cell_type": "markdown",
   "id": "d13daa61-a218-498f-9051-095e600ef617",
   "metadata": {},
   "source": [
    "guebin의 점수를 삭제하려면?"
   ]
  },
  {
   "cell_type": "code",
   "execution_count": 150,
   "id": "923c361d-c4e0-45d5-9e0b-25f89acc280c",
   "metadata": {},
   "outputs": [],
   "source": [
    "[[name,score] for name,score in lst if name != 'guebin']"
   ]
  },
  {
   "cell_type": "markdown",
   "id": "9f2b63da-ff2a-4d72-9943-e529d0a69a19",
   "metadata": {},
   "source": [
    "## E. 연산\n",
    "\n",
    "`-` 하나있어요.."
   ]
  },
  {
   "cell_type": "code",
   "execution_count": 69,
   "id": "5154d44b-f15c-42d9-a6ca-0aad954545f0",
   "metadata": {},
   "outputs": [],
   "source": [
    "dct = {'guebin':49, 'hanni':80} \n",
    "dct"
   ]
  },
  {
   "cell_type": "code",
   "execution_count": 82,
   "id": "90d4cbbb-d9e0-4d50-9c59-6abd94386185",
   "metadata": {},
   "outputs": [],
   "source": [
    "'guebin' in dct"
   ]
  },
  {
   "cell_type": "code",
   "execution_count": 71,
   "id": "8a942848-c906-4e8e-baf9-aaa40be5eec2",
   "metadata": {},
   "outputs": [],
   "source": [
    "'hanni' in dct"
   ]
  },
  {
   "cell_type": "code",
   "execution_count": 72,
   "id": "09891bc2-c930-40f3-abe5-2ca64f659d3f",
   "metadata": {},
   "outputs": [],
   "source": [
    "'hynn' in dct"
   ]
  },
  {
   "cell_type": "markdown",
   "id": "1ef50b61-3dcb-461c-a36b-4d227fe1fc0d",
   "metadata": {},
   "source": [
    "`-` in은 사실 다른자료형도 가능했음\n",
    "\n",
    "(관찰1)"
   ]
  },
  {
   "cell_type": "code",
   "execution_count": 73,
   "id": "ff31dd5c-c8aa-4f6f-a1d8-6d34656dd27e",
   "metadata": {},
   "outputs": [],
   "source": [
    "'a' in 'guebin' "
   ]
  },
  {
   "cell_type": "code",
   "execution_count": 74,
   "id": "10d94cea-1f21-49d6-848e-7e4a78674f94",
   "metadata": {},
   "outputs": [],
   "source": [
    "'b' in 'guebin' "
   ]
  },
  {
   "cell_type": "code",
   "execution_count": 75,
   "id": "765b57e7-bab0-4e78-ae32-fa1b54cd14e0",
   "metadata": {},
   "outputs": [],
   "source": [
    "'c' in 'guebin' "
   ]
  },
  {
   "cell_type": "markdown",
   "id": "3b9ab82e-08ad-434f-9ba5-614cd5ad593f",
   "metadata": {},
   "source": [
    "(관찰2)"
   ]
  },
  {
   "cell_type": "code",
   "execution_count": 76,
   "id": "6654038b-31b8-4709-a58d-633b49614ff2",
   "metadata": {},
   "outputs": [],
   "source": [
    "tpl = 1,2,3 \n",
    "tpl"
   ]
  },
  {
   "cell_type": "code",
   "execution_count": 77,
   "id": "989a1edf-a065-4678-8bf0-b1a9ad131361",
   "metadata": {},
   "outputs": [],
   "source": [
    "1 in tpl"
   ]
  },
  {
   "cell_type": "code",
   "execution_count": 78,
   "id": "788cd309-748c-4627-87d7-2263daa0f350",
   "metadata": {},
   "outputs": [],
   "source": [
    "4 in tpl"
   ]
  },
  {
   "cell_type": "markdown",
   "id": "80274155-b52a-493f-b4fa-d80f73aab17a",
   "metadata": {},
   "source": [
    "(관찰3)"
   ]
  },
  {
   "cell_type": "code",
   "execution_count": 79,
   "id": "983622e3-d6b7-4dbf-813e-e103d929d4b7",
   "metadata": {},
   "outputs": [],
   "source": [
    "lst = [['guebin',49],['hanni',80],['hynn',99]] \n",
    "lst"
   ]
  },
  {
   "cell_type": "code",
   "execution_count": 80,
   "id": "08bfad65-618c-4752-830c-b90028d9403f",
   "metadata": {},
   "outputs": [],
   "source": [
    "['guebin',49] in lst"
   ]
  },
  {
   "cell_type": "markdown",
   "id": "3e563df1-b568-47ff-9641-1ebebe837848",
   "metadata": {},
   "source": [
    "`-` in연산자가 dict형에 사용되면 key를 기준으로 True, False를 판단한다.\n",
    "\n",
    "## F. 딕셔너리 특수기능\n",
    "\n",
    "**(pop)**"
   ]
  },
  {
   "cell_type": "code",
   "execution_count": 85,
   "id": "e8a08772-e62c-48ee-940b-f5e533ead071",
   "metadata": {},
   "outputs": [],
   "source": [
    "dct = {'guebin':49, 'hanni':80} \n",
    "dct.pop('hanni')\n",
    "dct"
   ]
  },
  {
   "cell_type": "markdown",
   "id": "2c0cf696-4c34-402f-adf5-02fcb744eac5",
   "metadata": {},
   "source": [
    "**(get)**"
   ]
  },
  {
   "cell_type": "code",
   "execution_count": 86,
   "id": "9853c3aa-7214-46ca-b46a-4ae3ef60cd22",
   "metadata": {},
   "outputs": [],
   "source": [
    "dct = {'guebin':49, 'hanni':80} \n",
    "dct"
   ]
  },
  {
   "cell_type": "code",
   "execution_count": 87,
   "id": "512f6830-18e3-40bc-a118-01f2f49e27d3",
   "metadata": {},
   "outputs": [],
   "source": [
    "dct.get('guebin') "
   ]
  },
  {
   "cell_type": "markdown",
   "id": "838ffe62-b3a3-4f48-b623-79da83fda52d",
   "metadata": {},
   "source": [
    "아래와 같은 기능"
   ]
  },
  {
   "cell_type": "code",
   "execution_count": 88,
   "id": "e45e0a2a-6c90-4419-b6cb-f5f5466b175b",
   "metadata": {},
   "outputs": [],
   "source": [
    "dct['guebin']"
   ]
  },
  {
   "cell_type": "markdown",
   "id": "0dc4c6ab-caf8-4ab5-a6ea-00981746b181",
   "metadata": {},
   "source": [
    "미묘한 차이점이 존재함"
   ]
  },
  {
   "cell_type": "code",
   "execution_count": 89,
   "id": "31fcebc7-f2ca-4cbf-b467-9c6140739991",
   "metadata": {},
   "outputs": [],
   "source": [
    "dct['hynn'] # hynn이 없어서 키에러 출력, 그런 key는 없다.. "
   ]
  },
  {
   "cell_type": "code",
   "execution_count": 90,
   "id": "171ada76-57c2-4355-94b5-63531e1592f7",
   "metadata": {},
   "outputs": [],
   "source": [
    "dct.get('hynn') # hynn이 없으면 아무것도 출력안함 "
   ]
  },
  {
   "cell_type": "markdown",
   "id": "53537448-7901-4ddc-86ac-1fd0dd57d683",
   "metadata": {},
   "source": [
    "**(keys,values,items)**"
   ]
  },
  {
   "cell_type": "code",
   "execution_count": 110,
   "id": "b0aed48e-271e-4c16-9a5f-0aa0b79bf7f9",
   "metadata": {},
   "outputs": [
    {
     "name": "stdout",
     "output_type": "stream",
     "text": [
      "guebin 49\n",
      "hanni 80"
     ]
    }
   ],
   "source": [
    "for k,v in dct.items():\n",
    "    print(k,v)"
   ]
  },
  {
   "cell_type": "markdown",
   "id": "2e6f6cd3-ba42-4fc2-91f9-a1ab3189f6cd",
   "metadata": {},
   "source": [
    "`-` .keys()는 딕셔너리의 키를 리턴한다."
   ]
  },
  {
   "cell_type": "code",
   "execution_count": 94,
   "id": "99bcc87d-5a28-4dd9-a7a2-879fab389dab",
   "metadata": {},
   "outputs": [],
   "source": [
    "dct = {'guebin':49, 'hanni':80} \n",
    "dct"
   ]
  },
  {
   "cell_type": "code",
   "execution_count": 95,
   "id": "26f2492e-41cb-4d9f-92d0-b9328ea3a4e6",
   "metadata": {},
   "outputs": [],
   "source": [
    "_keys=dct.keys()\n",
    "_keys"
   ]
  },
  {
   "cell_type": "code",
   "execution_count": 96,
   "id": "b5e0e7b2-9d0e-47cc-a9c0-025d0f4e967d",
   "metadata": {},
   "outputs": [],
   "source": [
    "type(_keys) # 리턴된 자료형은 이상한것임"
   ]
  },
  {
   "cell_type": "code",
   "execution_count": 97,
   "id": "0a30b67f-aedb-482b-b277-d8bf42d94b74",
   "metadata": {},
   "outputs": [],
   "source": [
    "list(_keys) # 아무튼 그 이상한 자료형도 리스트화 가능 "
   ]
  },
  {
   "cell_type": "markdown",
   "id": "0d89fe14-4f0a-4775-b950-ced891affaab",
   "metadata": {},
   "source": [
    "`-` .values()는 딕셔너리의 값들을 리턴한다."
   ]
  },
  {
   "cell_type": "code",
   "execution_count": 86,
   "id": "f0eada93-9f6e-40ba-a9bf-0f45321f5fc3",
   "metadata": {},
   "outputs": [],
   "source": [
    "_values = dct.values()\n",
    "_values "
   ]
  },
  {
   "cell_type": "code",
   "execution_count": 87,
   "id": "77238122-2b91-434b-bf11-bbd6348a4618",
   "metadata": {},
   "outputs": [],
   "source": [
    "type(_values)"
   ]
  },
  {
   "cell_type": "code",
   "execution_count": 88,
   "id": "44ec7f9a-70da-4f8b-b531-717f470acbd4",
   "metadata": {},
   "outputs": [],
   "source": [
    "list(_values)"
   ]
  },
  {
   "cell_type": "markdown",
   "id": "f4c0a921-893f-4071-bdbb-007340df9b6d",
   "metadata": {},
   "source": [
    "`-` .items()는 딕셔너리의 (키,값)을 리턴한다."
   ]
  },
  {
   "cell_type": "code",
   "execution_count": 89,
   "id": "abbc8835-cf88-4b7c-85ee-9936dcd4adfc",
   "metadata": {},
   "outputs": [],
   "source": [
    "_items = dct.items()\n",
    "_items "
   ]
  },
  {
   "cell_type": "code",
   "execution_count": 90,
   "id": "337312a6-de3d-4028-8a73-23d7aaeeb062",
   "metadata": {},
   "outputs": [],
   "source": [
    "type(_items)"
   ]
  },
  {
   "cell_type": "code",
   "execution_count": 91,
   "id": "09fc9689-a957-45d6-b2de-ff97ebdb02ad",
   "metadata": {},
   "outputs": [],
   "source": [
    "list(_items)"
   ]
  },
  {
   "cell_type": "markdown",
   "id": "56365fc2-696a-4d69-8252-141019e50e66",
   "metadata": {},
   "source": [
    "## G. for문과 dict ($\\star$)"
   ]
  },
  {
   "cell_type": "code",
   "execution_count": 7,
   "id": "5274b50f-2101-4840-a3d7-5f8cba45846d",
   "metadata": {
    "tags": []
   },
   "outputs": [],
   "source": [
    "dct = {'guebin': 49, 'hanni': 80}\n",
    "dct"
   ]
  },
  {
   "cell_type": "markdown",
   "id": "785315a7-7340-4b2f-b761-bc848736d17e",
   "metadata": {},
   "source": [
    "(예시1)"
   ]
  },
  {
   "cell_type": "code",
   "execution_count": 8,
   "id": "4ffe8ad3-2229-4c07-b54b-80fc6b9ee5b2",
   "metadata": {
    "tags": []
   },
   "outputs": [
    {
     "name": "stdout",
     "output_type": "stream",
     "text": [
      "guebin\n",
      "hanni"
     ]
    }
   ],
   "source": [
    "for k in dct.keys():\n",
    "    print(k)"
   ]
  },
  {
   "cell_type": "code",
   "execution_count": 9,
   "id": "6f3d4e73-90a5-4a90-a8d3-8d6f912b5db5",
   "metadata": {
    "tags": []
   },
   "outputs": [
    {
     "name": "stdout",
     "output_type": "stream",
     "text": [
      "guebin\n",
      "hanni"
     ]
    }
   ],
   "source": [
    "for k in dct:\n",
    "    print(k)"
   ]
  },
  {
   "cell_type": "markdown",
   "id": "faddc4da-0691-490f-bdbc-b587e5d3b9cc",
   "metadata": {},
   "source": [
    "-   딕셔너리 그자체도 for문에 넣을 수 있다. 그때는 딕셔너리의 key가\n",
    "    반복된다.\n",
    "-   결과를 보면 dct 대신에 dct.keys()와 list(dct)를 넣었을때와 결과가\n",
    "    같다.\n",
    "\n",
    "> Note: list(dct) 하면 key만 리턴된다.\n",
    "\n",
    "(예시2)"
   ]
  },
  {
   "cell_type": "code",
   "execution_count": 10,
   "id": "d35dd246-28c3-46d2-9ecd-387ba28b318e",
   "metadata": {
    "tags": []
   },
   "outputs": [
    {
     "name": "stdout",
     "output_type": "stream",
     "text": [
      "49\n",
      "80"
     ]
    }
   ],
   "source": [
    "for v in dct.values():\n",
    "    print(v)"
   ]
  },
  {
   "cell_type": "markdown",
   "id": "7c963c47-bee4-4266-a82b-3d2eb0b50e20",
   "metadata": {},
   "source": [
    "(예시3)"
   ]
  },
  {
   "cell_type": "code",
   "execution_count": 11,
   "id": "2ff9a87d-ab8e-46ca-94ef-74099a7dfead",
   "metadata": {
    "tags": []
   },
   "outputs": [
    {
     "name": "stdout",
     "output_type": "stream",
     "text": [
      "('guebin', 49)\n",
      "('hanni', 80)"
     ]
    }
   ],
   "source": [
    "for i in dct.items():\n",
    "    print(i)"
   ]
  },
  {
   "cell_type": "markdown",
   "id": "6cc41dc0-d7a1-474f-b0cf-ccc31174058c",
   "metadata": {},
   "source": [
    "(예시4)"
   ]
  },
  {
   "cell_type": "code",
   "execution_count": 12,
   "id": "9c523cdd-1cfb-49db-b9f4-0c996642a3b6",
   "metadata": {
    "tags": []
   },
   "outputs": [
    {
     "name": "stdout",
     "output_type": "stream",
     "text": [
      "guebin 49\n",
      "hanni 80"
     ]
    }
   ],
   "source": [
    "for k,v in dct.items():\n",
    "    print(k,v)"
   ]
  },
  {
   "cell_type": "markdown",
   "id": "7b0444bc-b002-4595-bfbf-564ad5b32e6c",
   "metadata": {},
   "source": [
    "(예시5) – {}의 중간고사 점수는 {}점 입니다."
   ]
  },
  {
   "cell_type": "code",
   "execution_count": 13,
   "id": "beaaf4ed-55d1-48f4-bd6c-7cd3cf1f867d",
   "metadata": {
    "tags": []
   },
   "outputs": [
    {
     "name": "stdout",
     "output_type": "stream",
     "text": [
      "guebin의 중간고사 점수는 49점 입니다.\n",
      "hanni의 중간고사 점수는 80점 입니다."
     ]
    }
   ],
   "source": [
    "for name,score in dct.items():\n",
    "    print(f'{name}의 중간고사 점수는 {score}점 입니다.')"
   ]
  },
  {
   "cell_type": "markdown",
   "id": "95d6d002-31d3-41c5-a5b1-1f48e5f0437b",
   "metadata": {},
   "source": [
    "## H. dict에서 key혹은 value만 뽑아내기\n",
    "\n",
    "`-` 예제: 아래의 dict에서 key만 뽑아내고 싶다."
   ]
  },
  {
   "cell_type": "code",
   "execution_count": 98,
   "id": "53b36e0d-567c-459a-ba02-0a1a200eb9f2",
   "metadata": {},
   "outputs": [],
   "source": [
    "dct = {'guebin':49, 'hanni':80} "
   ]
  },
  {
   "cell_type": "markdown",
   "id": "646d63b8-7260-4f90-9764-80b868e84fd3",
   "metadata": {},
   "source": [
    "(풀이1)"
   ]
  },
  {
   "cell_type": "code",
   "execution_count": 99,
   "id": "43984ca9-e066-4355-bdf2-3fc077e8e202",
   "metadata": {},
   "outputs": [],
   "source": [
    "list(dct)"
   ]
  },
  {
   "cell_type": "markdown",
   "id": "2032acfb-0d51-46d4-91f6-454216fad330",
   "metadata": {},
   "source": [
    "(풀이2)"
   ]
  },
  {
   "cell_type": "code",
   "execution_count": 100,
   "id": "87b96d84-076c-487f-baf0-79b81f5a7a16",
   "metadata": {},
   "outputs": [],
   "source": [
    "list(dct.keys())"
   ]
  },
  {
   "cell_type": "markdown",
   "id": "3c0398f6-5d38-4a8a-919b-6809bc43d1ca",
   "metadata": {},
   "source": [
    "(풀이3)"
   ]
  },
  {
   "cell_type": "code",
   "execution_count": 101,
   "id": "2499c17f-e648-4d07-92c8-b939c096a950",
   "metadata": {},
   "outputs": [],
   "source": [
    "[k for k in dct]"
   ]
  },
  {
   "cell_type": "markdown",
   "id": "bb937855-4f16-458f-8f86-f9b3b9b5fd1b",
   "metadata": {},
   "source": [
    "(풀이4)"
   ]
  },
  {
   "cell_type": "code",
   "execution_count": 102,
   "id": "af9faf60-db33-40b0-adf6-f4f880bee1ee",
   "metadata": {},
   "outputs": [],
   "source": [
    "[k for k,v in dct.items()]"
   ]
  },
  {
   "cell_type": "markdown",
   "id": "00972011-ed43-4a63-b82a-7a575f744f63",
   "metadata": {},
   "source": [
    "`-` 예제: 아래의 dict에서 value만 뽑아내고 싶다."
   ]
  },
  {
   "cell_type": "code",
   "execution_count": 103,
   "id": "41312b1a-2f76-4171-b887-e0dc76d355d7",
   "metadata": {},
   "outputs": [],
   "source": [
    "dct = {'guebin':49, 'hanni':80} "
   ]
  },
  {
   "cell_type": "markdown",
   "id": "5a5b37bf-67be-41d3-b12a-213301d07625",
   "metadata": {},
   "source": [
    "(풀이1)"
   ]
  },
  {
   "cell_type": "code",
   "execution_count": 104,
   "id": "99c4da25-0495-4c4e-92fe-6542fe5fcdf8",
   "metadata": {},
   "outputs": [],
   "source": [
    "list(dct.values())"
   ]
  },
  {
   "cell_type": "markdown",
   "id": "e4d2d911-c7f5-4ef7-a0dd-9a5a54ee6f61",
   "metadata": {},
   "source": [
    "(풀이2)"
   ]
  },
  {
   "cell_type": "code",
   "execution_count": 105,
   "id": "9a5ac834-c4e5-4731-bead-4057394c2625",
   "metadata": {},
   "outputs": [],
   "source": [
    "[dct[k] for k in dct]"
   ]
  },
  {
   "cell_type": "markdown",
   "id": "6a001f09-9007-45ad-9674-e49e65516a63",
   "metadata": {},
   "source": [
    "(풀이3)"
   ]
  },
  {
   "cell_type": "code",
   "execution_count": 106,
   "id": "16b2ca12-d91f-4f77-b94e-408a21874c84",
   "metadata": {},
   "outputs": [],
   "source": [
    "[v for v in dct.values()]"
   ]
  },
  {
   "cell_type": "markdown",
   "id": "a8acb7b7-84b9-460c-a27a-486611b8ad91",
   "metadata": {},
   "source": [
    "(풀이4)"
   ]
  },
  {
   "cell_type": "code",
   "execution_count": 107,
   "id": "65cb7aba-f1f6-45aa-925a-913c7b4bf5d3",
   "metadata": {},
   "outputs": [],
   "source": [
    "[v for k,v in dct.items()]"
   ]
  },
  {
   "cell_type": "markdown",
   "id": "4c3a934f-d62d-4b8c-be98-c9ba8f9fded5",
   "metadata": {},
   "source": [
    "# 6. 딕셔너리를 이용한 치환 ($\\star$)\n",
    "\n",
    "## A. 바꿔치기\n",
    "\n",
    "`# 예제1` – 아래와 같은 리스트를 고려하자."
   ]
  },
  {
   "cell_type": "code",
   "execution_count": 106,
   "id": "d98e0fd7-9f14-434a-be9c-fa1bba94b8bd",
   "metadata": {},
   "outputs": [],
   "source": [
    "lst = ['딸기','사과','바나나','딸기','사과','오토바이','자동차','버스','기차','오토바이','자동차']"
   ]
  },
  {
   "cell_type": "markdown",
   "id": "8a5bd9cf-ffee-4475-a550-6725f32f72b3",
   "metadata": {},
   "source": [
    "다음의 맵핑규칙에 따라서 위의 리스트의 원소를 바꾸어라.\n",
    "\n",
    "|  변환전  | 변환후 |\n",
    "|:--------:|:------:|\n",
    "|   딸기   |  과일  |\n",
    "|   사과   |  과일  |\n",
    "|  바나나  |  과일  |\n",
    "| 오토바이 |  탈것  |\n",
    "|  자동차  |  탈것  |\n",
    "|   버스   |  탈것  |\n",
    "|   기차   |  탈것  |\n",
    "\n",
    "`(풀이1)` – `elif`를 한번 써본정도의 의미. 추천하는 풀이 X"
   ]
  },
  {
   "cell_type": "code",
   "execution_count": 108,
   "id": "c32e7a7f-9143-47f9-85a0-0846fc1697a9",
   "metadata": {},
   "outputs": [],
   "source": [
    "lst2 = []\n",
    "for l in lst:\n",
    "    if l=='딸기':\n",
    "        lst2.append('과일')\n",
    "    elif l=='사과':\n",
    "        lst2.append('과일')\n",
    "    elif l=='바나나':\n",
    "        lst2.append('과일')\n",
    "    elif l=='오토바이':\n",
    "        lst2.append('탈것')\n",
    "    elif l=='자동차':\n",
    "        lst2.append('탈것')\n",
    "    elif l=='버스':\n",
    "        lst2.append('탈것')\n",
    "    else:\n",
    "        lst2.append('탈것')        "
   ]
  },
  {
   "cell_type": "code",
   "execution_count": 110,
   "id": "d0e4e17b-623d-42c5-8008-90908bc66adb",
   "metadata": {},
   "outputs": [],
   "source": [
    "lst,lst2"
   ]
  },
  {
   "cell_type": "markdown",
   "id": "7b4e02b4-adc0-46dc-a490-0c4179919e04",
   "metadata": {},
   "source": [
    "`(풀이2)` – 코드는 쉽고 편함. dct를 만들기 힘듦."
   ]
  },
  {
   "cell_type": "code",
   "execution_count": 114,
   "id": "cebf5bc6-2ef0-4380-baeb-ab8dd80483e6",
   "metadata": {},
   "outputs": [],
   "source": [
    "dct = {'딸기':'과일','사과':'과일','바나나':'과일','오토바이':'탈것','자동차':'탈것','버스':'탈것','기차':'탈것'}\n",
    "dct"
   ]
  },
  {
   "cell_type": "code",
   "execution_count": 116,
   "id": "8316aea0-4f35-42d3-829c-f8922e5b420a",
   "metadata": {},
   "outputs": [],
   "source": [
    "[dct[l] for l in lst]"
   ]
  },
  {
   "cell_type": "markdown",
   "id": "8dc868cf-cb2d-4c01-ba67-bd307bb1c228",
   "metadata": {},
   "source": [
    "`(풀이3)` – 코드가 매우 어려움. dct를 만들기 쉬움."
   ]
  },
  {
   "cell_type": "code",
   "execution_count": 117,
   "id": "cf132578-2040-4b7a-ad5e-5c48d8d11e50",
   "metadata": {},
   "outputs": [],
   "source": [
    "dct = {'과일':['딸기','사과','바나나'], '탈것':['오토바이','자동차','버스','기차']}\n",
    "dct"
   ]
  },
  {
   "cell_type": "code",
   "execution_count": 118,
   "id": "eb2cdb9d-117d-40ea-b9a7-3cc9b6b082b8",
   "metadata": {},
   "outputs": [],
   "source": [
    "lst"
   ]
  },
  {
   "cell_type": "code",
   "execution_count": 125,
   "id": "51c2254b-be7c-4507-a352-f2ca1884150d",
   "metadata": {},
   "outputs": [],
   "source": [
    "[k for l in lst for k in dct if l in dct[k]]"
   ]
  },
  {
   "cell_type": "markdown",
   "id": "cdc3c28f-70e5-4c7d-8eb9-82ddd7d1fc6c",
   "metadata": {},
   "source": [
    "`#`\n",
    "\n",
    "`# 예제2` – 아래와 같은 리스트가 있다고 하자."
   ]
  },
  {
   "cell_type": "code",
   "execution_count": 126,
   "id": "1601300b-0eb7-48f7-a8f0-d70f3a1a1391",
   "metadata": {},
   "outputs": [],
   "source": [
    "lst = list('abcd'*2+'bbb')\n",
    "lst"
   ]
  },
  {
   "cell_type": "markdown",
   "id": "5d2fec2b-6f66-47d5-8bc4-20d41a54032c",
   "metadata": {},
   "source": [
    "아래의 규칙에 의하여 lst의 각 원소의 값을 바꾸고 싶다고 하자. 이를\n",
    "구현하는 코드를 작성하라.\n",
    "\n",
    "| 변환전 |   변환후    |\n",
    "|:------:|:-----------:|\n",
    "|  ‘a’   | \\[1,0,0,0\\] |\n",
    "|  ‘b’   | \\[0,1,0,0\\] |\n",
    "|  ‘c’   | \\[0,0,1,0\\] |\n",
    "|  ‘d’   | \\[0,0,0,1\\] |\n",
    "\n",
    "`(풀이)`"
   ]
  },
  {
   "cell_type": "code",
   "execution_count": 128,
   "id": "84be347a-850c-41c4-bf41-c20a5e90170b",
   "metadata": {},
   "outputs": [],
   "source": [
    "dct = {'a':[1,0,0,0], 'b':[0,1,0,0], 'c':[0,0,1,0], 'd':[0,0,0,1]}\n",
    "dct"
   ]
  },
  {
   "cell_type": "code",
   "execution_count": 130,
   "id": "56b0ccbd-e2e2-4ad9-ad72-fdd3e267ac89",
   "metadata": {},
   "outputs": [],
   "source": [
    "[dct[l] for l in lst]"
   ]
  },
  {
   "cell_type": "markdown",
   "id": "90810275-b899-4b34-bdcd-bbdbe4baf438",
   "metadata": {},
   "source": [
    "`# 예제3` – 예제2을 역변환하라. 즉 아래의 리스트를"
   ]
  },
  {
   "cell_type": "code",
   "execution_count": 136,
   "id": "831eae0f-9c81-4b43-a6f8-dbebd9a0f9ae",
   "metadata": {},
   "outputs": [],
   "source": [
    "lst2= [[1, 0, 0, 0],\n",
    "       [0, 1, 0, 0],\n",
    "       [0, 0, 1, 0],\n",
    "       [0, 0, 0, 1],\n",
    "       [1, 0, 0, 0],\n",
    "       [0, 1, 0, 0],\n",
    "       [0, 0, 1, 0],\n",
    "       [0, 0, 0, 1],\n",
    "       [0, 1, 0, 0],\n",
    "       [0, 1, 0, 0],\n",
    "       [0, 1, 0, 0]]"
   ]
  },
  {
   "cell_type": "markdown",
   "id": "2f971d9f-dda5-429e-b096-e4a87f6177e6",
   "metadata": {},
   "source": [
    "아래와 같이 바꾸라."
   ]
  },
  {
   "cell_type": "code",
   "execution_count": 137,
   "id": "063aa41b-7811-4bbf-aec9-c41294937687",
   "metadata": {},
   "outputs": [],
   "source": [
    "['a', 'b', 'c', 'd', 'a', 'b', 'c', 'd', 'b', 'b', 'b']"
   ]
  },
  {
   "cell_type": "markdown",
   "id": "3378a853-8ce3-4a12-92ea-7a3e43edbd7f",
   "metadata": {},
   "source": [
    "`(풀이)` – 실패"
   ]
  },
  {
   "cell_type": "code",
   "execution_count": 145,
   "id": "61a4fc2e-d8a6-413f-b257-6d43d96439f6",
   "metadata": {},
   "outputs": [],
   "source": [
    "dct = {[1,0,0,0]:'a', [0,1,0,0]:'b', [0,0,1,0]:'c', [0,0,0,1]:'d'}\n",
    "dct"
   ]
  },
  {
   "cell_type": "markdown",
   "id": "dc7387a4-fc83-4ce5-8663-8fff3dfe5cbd",
   "metadata": {},
   "source": [
    "dct의 key에 대응하는것은 불변형만 가능\n",
    "\n",
    "`(풀이1)`"
   ]
  },
  {
   "cell_type": "code",
   "execution_count": 132,
   "id": "36ef94f5-c50b-47fd-a00a-a05c8c8629ab",
   "metadata": {},
   "outputs": [],
   "source": [
    "dct = {(1,0,0,0):'a', (0,1,0,0):'b', (0,0,1,0):'c', (0,0,0,1):'d'}\n",
    "dct"
   ]
  },
  {
   "cell_type": "code",
   "execution_count": 144,
   "id": "dec1c03c-6f32-4159-98d1-f58d1729d63d",
   "metadata": {},
   "outputs": [],
   "source": [
    "[dct[tuple(l)] for l in lst2]"
   ]
  },
  {
   "cell_type": "markdown",
   "id": "80230108-6c7a-4bb0-ac9a-e1bfbfff66e0",
   "metadata": {},
   "source": [
    "`(풀이2)`"
   ]
  },
  {
   "cell_type": "code",
   "execution_count": 146,
   "id": "3caa4412-fd1b-4c21-a49d-b1c22fdde5e8",
   "metadata": {},
   "outputs": [],
   "source": [
    "dct = {'a':[1,0,0,0], 'b':[0,1,0,0], 'c':[0,0,1,0], 'd':[0,0,0,1]} # 예제2의 dct"
   ]
  },
  {
   "cell_type": "code",
   "execution_count": 148,
   "id": "4f776beb-e97e-48f1-9028-98954ee605bb",
   "metadata": {},
   "outputs": [],
   "source": [
    "[k for l in lst2 for k in dct if dct[k]==l]"
   ]
  },
  {
   "cell_type": "markdown",
   "id": "af7e3070-ef9f-49f0-8fcd-397918283a87",
   "metadata": {},
   "source": [
    "## B. 연습문제\n",
    "\n",
    "`# 문제`. 아래와 같은 맵핑을 고려하자.\n",
    "\n",
    "| 문자 | 숫자 |\n",
    "|:----:|:----:|\n",
    "|  a   |  0   |\n",
    "|  b   |  1   |\n",
    "\n",
    "이를 딕셔너리로 표현하면 아래와 같다."
   ]
  },
  {
   "cell_type": "code",
   "execution_count": 151,
   "id": "75a69810-8c7d-4aea-b7b4-c348215d9784",
   "metadata": {},
   "outputs": [],
   "source": [
    "dct = {'a':0, 'b':1} "
   ]
  },
  {
   "cell_type": "markdown",
   "id": "0b118ba1-da1d-444e-a8af-9df259e86ff1",
   "metadata": {},
   "source": [
    "위 규칙에 따라서 아래의 리스트의 원소를 문자로 각각 변환하라."
   ]
  },
  {
   "cell_type": "code",
   "execution_count": 150,
   "id": "b2053956-8f61-4c58-88fe-494f1ebb7050",
   "metadata": {},
   "outputs": [],
   "source": [
    "lst = [1, 0, 1, 0, 1, 0, 1, 1, 1, 1, 0, 0, 1, 0, 1]"
   ]
  },
  {
   "cell_type": "markdown",
   "id": "5a0e4b4d-105d-4515-8f52-dfdf08327ef7",
   "metadata": {},
   "source": [
    "``` python\n",
    "# 출력은 아래와 같아야 한다. \n",
    "['b', 'a', 'b', 'a', 'b', 'a', 'b', 'b', 'b', 'b', 'a', 'a', 'b', 'a', 'b']\n",
    "```\n",
    "\n",
    "`(풀이)`"
   ]
  },
  {
   "cell_type": "code",
   "execution_count": 154,
   "id": "dbfe2e8a-399f-46df-a6ef-06d0d45a9596",
   "metadata": {},
   "outputs": [],
   "source": [
    "[k for l in lst for k in dct if l == dct[k]]"
   ]
  },
  {
   "cell_type": "markdown",
   "id": "a218fb2a-a029-486a-aee3-32b8797fd17b",
   "metadata": {},
   "source": [
    "`# 문제`. 아래와 같은 맵핑을 고려하자.\n",
    "\n",
    "|     월     |   의미   |\n",
    "|:----------:|:--------:|\n",
    "|    1,2     | 겨울방학 |\n",
    "|  3,4,5,6   |  1학기   |\n",
    "|    7,8     | 여름방학 |\n",
    "| 9,10,11,12 |  2학기   |\n",
    "\n",
    "이러한 규칙에 맞게 아래의 리스트를 적절한 문자열로 변환하라."
   ]
  },
  {
   "cell_type": "code",
   "execution_count": 155,
   "id": "3b6860d1-37db-4871-a851-0c2b4c7bce86",
   "metadata": {},
   "outputs": [],
   "source": [
    "month = [1,2,2,3,4,5,6,7,8,9,9,10,11,12] "
   ]
  },
  {
   "cell_type": "markdown",
   "id": "29a09a23-dd08-4971-984a-984493402702",
   "metadata": {},
   "source": [
    "``` python\n",
    "## 출력은 아래와 같아야 한다. \n",
    "['겨울방학', '겨울방학', '겨울방학', '1학기', '1학기', '1학기', '1학기', '여름방학', '여름방학', '2학기', '2학기', '2학기', '2학기', '2학기']\n",
    "```\n",
    "\n",
    "`(풀이1)` – 좀 더 추천함"
   ]
  },
  {
   "cell_type": "code",
   "execution_count": 175,
   "id": "5c68e569-7fc2-4957-af5b-1b9aba1659bc",
   "metadata": {},
   "outputs": [],
   "source": [
    "dct = {'겨울방학':range(1,3), '1학기':range(3,7), '여름방학':range(7,9), '2학기':range(9,13)}"
   ]
  },
  {
   "cell_type": "code",
   "execution_count": 177,
   "id": "691a906d-d60d-43ab-afaf-2c908278f6fd",
   "metadata": {},
   "outputs": [],
   "source": [
    "[k for m in month for k in dct if m in dct[k]]"
   ]
  },
  {
   "cell_type": "markdown",
   "id": "22b0c2ce-998e-4eb0-8987-b58e22cff0ca",
   "metadata": {},
   "source": [
    "`(풀이2)` – 추천안함"
   ]
  },
  {
   "cell_type": "code",
   "execution_count": 165,
   "id": "059a7f95-1f80-4adc-a9bd-5bf9572d9745",
   "metadata": {},
   "outputs": [],
   "source": [
    "dct = {1:'겨울방학',2:'겨울방학',3:'1학기',4:'1학기',5:'1학기',6:'1학기',7:'여름방학',8:'여름방학',9:'2학기',10:'2학기',11:'2학기',12:'2학기'}"
   ]
  },
  {
   "cell_type": "code",
   "execution_count": 167,
   "id": "606eb025-2466-4bf3-9364-81bff079a53e",
   "metadata": {},
   "outputs": [],
   "source": [
    "[dct[m] for m in month]"
   ]
  },
  {
   "cell_type": "markdown",
   "id": "c8f4aeb6-1d87-4314-a71c-9f73265a2770",
   "metadata": {},
   "source": [
    "`##` – 합성변환\n",
    "\n",
    "아래와 같은 맵핑을 고려하자.\n",
    "\n",
    "(규칙1)\n",
    "\n",
    "|   문자   | 숫자 |\n",
    "|:--------:|:----:|\n",
    "|  바나나  |  0   |\n",
    "|   사과   |  1   |\n",
    "| 오토바이 |  2   |\n",
    "|  자동차  |  3   |\n",
    "|  자전거  |  4   |\n",
    "\n",
    "(규칙2)\n",
    "\n",
    "|  아이템  | 카테고리 |\n",
    "|:--------:|:--------:|\n",
    "|  바나나  |   과일   |\n",
    "|   사과   |   과일   |\n",
    "| 오토바이 |   탈것   |\n",
    "|  자동차  |   탈것   |\n",
    "|  자전거  |   탈것   |\n",
    "\n",
    "각각의 규칙을 나타내는 딕셔너리는 아래와 같이 선언되어있다고 하자."
   ]
  },
  {
   "cell_type": "code",
   "execution_count": 178,
   "id": "fe2b2c74-e420-42ca-9a25-68d1eb5ce40a",
   "metadata": {},
   "outputs": [],
   "source": [
    "dct1 = {'바나나':0, '사과':1, '오토바이':2, '자동차':3, '자전거':4} \n",
    "dct2 = {'과일':['바나나','사과'], '탈것':['오토바이','자동차','자전거']} "
   ]
  },
  {
   "cell_type": "markdown",
   "id": "0afdbc61-340a-4672-8506-77bde77f20f3",
   "metadata": {},
   "source": [
    "`# 문제`. 규칙1를 이용하여 아래와 같은 리스트를 변환하는 함수를 구현하고\n",
    "그 함수를 `f`라 선언하라.\n",
    "\n",
    "``` python\n",
    "# 입력 \n",
    "[0,1,0,1,4]\n",
    "\n",
    "# 출력 \n",
    "['바나나', '사과', '바나나', '사과', '자전거']\n",
    "```\n",
    "\n",
    "(사용예시)"
   ]
  },
  {
   "cell_type": "code",
   "execution_count": 202,
   "id": "2c4c0d35-cbb4-42c5-96ab-4ebbaab22b75",
   "metadata": {},
   "outputs": [],
   "source": [
    "f([0,1,0,1,4])"
   ]
  },
  {
   "cell_type": "markdown",
   "id": "e4d60a1b-f984-41dd-9e49-14fa80ccf7b8",
   "metadata": {},
   "source": [
    "`(풀이)`"
   ]
  },
  {
   "cell_type": "code",
   "execution_count": 189,
   "id": "7dc2d6c0-cfa9-4b85-bb0d-5257b1386959",
   "metadata": {},
   "outputs": [],
   "source": [
    "f = lambda lst: [k for l in lst for k in dct1 if l == dct1[k]]"
   ]
  },
  {
   "cell_type": "code",
   "execution_count": 190,
   "id": "de88381f-9a5e-4f9c-b11f-19320ff0fcd5",
   "metadata": {},
   "outputs": [],
   "source": [
    "f([0,1,0,1,4])"
   ]
  },
  {
   "cell_type": "markdown",
   "id": "8fb635de-8c13-4bf3-a732-eacdfd60e5e6",
   "metadata": {},
   "source": [
    "`# 문제`. 규칙2를 이용하여 아래와 같이 리스트를 변환하는 함수를 구현하고\n",
    "그 함수를 `g`라고 선언하라.\n",
    "\n",
    "``` python\n",
    "# 입력 \n",
    "['바나나','바나나','바나나','자동차']\n",
    "\n",
    "# 출력 \n",
    "['과일','과일','과일','탈것']\n",
    "```\n",
    "\n",
    "(사용예시)"
   ]
  },
  {
   "cell_type": "code",
   "execution_count": 201,
   "id": "ff425dbd-d23c-45f0-8c60-386bf2027ca9",
   "metadata": {},
   "outputs": [],
   "source": [
    "g(['바나나','바나나','바나나','자동차'])"
   ]
  },
  {
   "cell_type": "markdown",
   "id": "3567ea1a-7f11-432d-a249-d67f8fef6f01",
   "metadata": {},
   "source": [
    "`(풀이)`"
   ]
  },
  {
   "cell_type": "code",
   "execution_count": 195,
   "id": "c6ba2ba7-da44-497b-8efb-04d7006437e1",
   "metadata": {},
   "outputs": [],
   "source": [
    "g = lambda lst: [k for l in lst for k in dct2 if l in dct2[k]]"
   ]
  },
  {
   "cell_type": "code",
   "execution_count": 196,
   "id": "e37cf985-ea09-45e9-9e99-4d18f534a203",
   "metadata": {},
   "outputs": [],
   "source": [
    "g(['바나나','바나나','바나나','자동차'])"
   ]
  },
  {
   "cell_type": "markdown",
   "id": "71d774ba-cf01-42a6-a666-b6b5cff084d8",
   "metadata": {},
   "source": [
    "`# 문제`. 규칙1-2를 이용하여 아래와 같은 숫자로 이루어진 입력을 ‘과일’,\n",
    "‘탈것’ 중 하나로 바꾸는 코드를 구현하라.\n",
    "\n",
    "``` python\n",
    "# 입력 \n",
    "[0,1,0,1,3,4,2,2,3,4,1,0]\n",
    "\n",
    "# 출력 \n",
    "['과일', '과일', '과일', '과일', '탈것', '탈것', '탈것', '탈것', '탈것', '탈것', '과일', '과일']\n",
    "```\n",
    "\n",
    "**hint** $g(f(x))$ 를 이용하라.\n",
    "\n",
    "`(풀이)`"
   ]
  },
  {
   "cell_type": "code",
   "execution_count": 198,
   "id": "d606541b-8de6-40dc-9a44-e9e48e207291",
   "metadata": {},
   "outputs": [],
   "source": [
    "g(f([0,1,0,1,3,4,2,2,3,4,1,0]))"
   ]
  },
  {
   "cell_type": "markdown",
   "id": "dc764cdd-6c59-4947-829e-f2430608e9af",
   "metadata": {},
   "source": [
    "# 집합 기본내용"
   ]
  },
  {
   "cell_type": "markdown",
   "id": "8fcc2bfe-1ef0-42a3-ae03-e801174085fa",
   "metadata": {},
   "source": [
    "## 선언 "
   ]
  },
  {
   "cell_type": "code",
   "execution_count": 250,
   "id": "aeff25b4-fb41-4434-b19d-b99adcbc2729",
   "metadata": {},
   "outputs": [
    {
     "data": {
      "text/plain": [
       "{'desktop', 'notebook'}"
      ]
     },
     "execution_count": 250,
     "metadata": {},
     "output_type": "execute_result"
    }
   ],
   "source": [
    "wishlist={'notebook','desktop'}\n",
    "wishlist"
   ]
  },
  {
   "cell_type": "markdown",
   "id": "de6e0d15-0215-4dd5-ac37-1b21ed554023",
   "metadata": {},
   "source": [
    "## 원소추출 "
   ]
  },
  {
   "cell_type": "markdown",
   "id": "e4fff955-2992-42e0-a21e-5244485ed0c7",
   "metadata": {},
   "source": [
    "`-` 일단 인덱스로는 못합니다. "
   ]
  },
  {
   "cell_type": "code",
   "execution_count": 251,
   "id": "e07d7876-48cb-48b7-b462-541da77ba3bb",
   "metadata": {},
   "outputs": [
    {
     "ename": "TypeError",
     "evalue": "'set' object is not subscriptable",
     "output_type": "error",
     "traceback": [
      "\u001b[0;31m---------------------------------------------------------------------------\u001b[0m",
      "\u001b[0;31mTypeError\u001b[0m                                 Traceback (most recent call last)",
      "Cell \u001b[0;32mIn[251], line 2\u001b[0m\n\u001b[1;32m      1\u001b[0m wishlist\u001b[38;5;241m=\u001b[39m{\u001b[38;5;124m'\u001b[39m\u001b[38;5;124mnotebook\u001b[39m\u001b[38;5;124m'\u001b[39m,\u001b[38;5;124m'\u001b[39m\u001b[38;5;124mdesktop\u001b[39m\u001b[38;5;124m'\u001b[39m}\n\u001b[0;32m----> 2\u001b[0m \u001b[43mwishlist\u001b[49m\u001b[43m[\u001b[49m\u001b[38;5;241;43m0\u001b[39;49m\u001b[43m]\u001b[49m\n",
      "\u001b[0;31mTypeError\u001b[0m: 'set' object is not subscriptable"
     ]
    }
   ],
   "source": [
    "wishlist={'notebook','desktop'}\n",
    "wishlist[0]"
   ]
  },
  {
   "cell_type": "markdown",
   "id": "f29fc020-bf3c-429b-8688-f01a06028f27",
   "metadata": {},
   "source": [
    "`-` 딱히 하는 방법이 없어요.. 그리고 이걸 하는 의미가 없어요.. (원소에 접근해서 뭐하려고??)"
   ]
  },
  {
   "cell_type": "markdown",
   "id": "87e65f5a-140b-40f7-b7b3-f73752a68de0",
   "metadata": {},
   "source": [
    "## 원소추가 "
   ]
  },
  {
   "cell_type": "markdown",
   "id": "b4e8c8b3-dc39-4dc4-8340-bce9cfef7f22",
   "metadata": {},
   "source": [
    "`-` 이건 의미가 있음"
   ]
  },
  {
   "cell_type": "code",
   "execution_count": 252,
   "id": "c9435feb-7eac-4fa8-ac64-d72447cfdb60",
   "metadata": {},
   "outputs": [
    {
     "data": {
      "text/plain": [
       "{'desktop', 'notebook'}"
      ]
     },
     "execution_count": 252,
     "metadata": {},
     "output_type": "execute_result"
    }
   ],
   "source": [
    "wishlist={'notebook','desktop'} \n",
    "wishlist"
   ]
  },
  {
   "cell_type": "code",
   "execution_count": 253,
   "id": "07540507-1311-4953-a00e-06850714f179",
   "metadata": {},
   "outputs": [
    {
     "data": {
      "text/plain": [
       "{'desktop', 'ipad', 'notebook'}"
      ]
     },
     "execution_count": 253,
     "metadata": {},
     "output_type": "execute_result"
    }
   ],
   "source": [
    "wishlist.add('ipad')\n",
    "wishlist"
   ]
  },
  {
   "cell_type": "code",
   "execution_count": 254,
   "id": "535f0e7a-7c3f-43b3-ac53-7ee67dc5d8aa",
   "metadata": {},
   "outputs": [
    {
     "data": {
      "text/plain": [
       "{'desktop', 'ipad', 'notebook'}"
      ]
     },
     "execution_count": 254,
     "metadata": {},
     "output_type": "execute_result"
    }
   ],
   "source": [
    "wishlist.add('notebook') # 이미 원소로 있는건 추가되지 않음. \n",
    "wishlist"
   ]
  },
  {
   "cell_type": "markdown",
   "id": "97b39a22-bda2-45b2-8dca-9074e67f53ba",
   "metadata": {},
   "source": [
    "## 원소삭제 "
   ]
  },
  {
   "cell_type": "code",
   "execution_count": 203,
   "id": "86250f38-0b52-4d34-9364-628e08815d6b",
   "metadata": {},
   "outputs": [
    {
     "data": {
      "text/plain": [
       "{'desktop', 'ipad', 'notebook'}"
      ]
     },
     "execution_count": 203,
     "metadata": {},
     "output_type": "execute_result"
    }
   ],
   "source": [
    "wishlist={'desktop', 'ipad', 'notebook'}\n",
    "wishlist"
   ]
  },
  {
   "cell_type": "code",
   "execution_count": 204,
   "id": "4f1c5d21-5d12-4784-bfc3-a9f93ddc966c",
   "metadata": {},
   "outputs": [],
   "source": [
    "wishlist.remove('notebook')"
   ]
  },
  {
   "cell_type": "code",
   "execution_count": 205,
   "id": "a82f325e-afb1-4d64-9a60-c259c69428fb",
   "metadata": {},
   "outputs": [
    {
     "data": {
      "text/plain": [
       "{'desktop', 'ipad'}"
      ]
     },
     "execution_count": 205,
     "metadata": {},
     "output_type": "execute_result"
    }
   ],
   "source": [
    "wishlist"
   ]
  },
  {
   "cell_type": "markdown",
   "id": "73a999c5-c7cb-4055-b706-6d1b030a4ad7",
   "metadata": {},
   "source": [
    "## 연산 "
   ]
  },
  {
   "cell_type": "markdown",
   "id": "36686d43-f23e-4454-a534-cbefd32e1c5c",
   "metadata": {},
   "source": [
    "`-` in 연산자  "
   ]
  },
  {
   "cell_type": "code",
   "execution_count": 206,
   "id": "f234b110-91ed-4d4c-94de-3b07eb852d42",
   "metadata": {},
   "outputs": [
    {
     "data": {
      "text/plain": [
       "{'desktop', 'ipad', 'notebook'}"
      ]
     },
     "execution_count": 206,
     "metadata": {},
     "output_type": "execute_result"
    }
   ],
   "source": [
    "wishlist={'desktop', 'ipad', 'notebook'}\n",
    "wishlist"
   ]
  },
  {
   "cell_type": "code",
   "execution_count": 207,
   "id": "724ac050-ad52-4da2-abe6-1ea472b39c94",
   "metadata": {},
   "outputs": [
    {
     "data": {
      "text/plain": [
       "True"
      ]
     },
     "execution_count": 207,
     "metadata": {},
     "output_type": "execute_result"
    }
   ],
   "source": [
    "'notebook' in wishlist"
   ]
  },
  {
   "cell_type": "markdown",
   "id": "b5f8af92-981f-4678-8d9e-f385adcadd6a",
   "metadata": {},
   "source": [
    "- 참고로 `in`연산자는 집합에서만 쓰는것은 아님 "
   ]
  },
  {
   "cell_type": "markdown",
   "id": "5aa08fd5-fbdd-4d18-8284-c0681cedf546",
   "metadata": {},
   "source": [
    "`-` 합집합, 교집합, 차집합"
   ]
  },
  {
   "cell_type": "code",
   "execution_count": 208,
   "id": "8e7f6ce6-f3d5-4509-bc05-0163bc055ffb",
   "metadata": {},
   "outputs": [],
   "source": [
    "day1 = {'notebook','desktop'}\n",
    "day2 = {'notebook','ipad'}"
   ]
  },
  {
   "cell_type": "code",
   "execution_count": 209,
   "id": "5e6ff1b2-56ca-4159-bc06-1f2dcfd8788f",
   "metadata": {},
   "outputs": [
    {
     "data": {
      "text/plain": [
       "{'desktop', 'ipad', 'notebook'}"
      ]
     },
     "execution_count": 209,
     "metadata": {},
     "output_type": "execute_result"
    }
   ],
   "source": [
    "day1 | day2 # 합집합"
   ]
  },
  {
   "cell_type": "code",
   "execution_count": 210,
   "id": "10c9afd7-78fc-4392-8103-8a6fc3e6f61b",
   "metadata": {},
   "outputs": [
    {
     "data": {
      "text/plain": [
       "{'notebook'}"
      ]
     },
     "execution_count": 210,
     "metadata": {},
     "output_type": "execute_result"
    }
   ],
   "source": [
    "day1 & day2 # 교집합"
   ]
  },
  {
   "cell_type": "code",
   "execution_count": 211,
   "id": "4c48e8a2-a25c-4aba-9d40-c5e3acd3b43a",
   "metadata": {},
   "outputs": [
    {
     "data": {
      "text/plain": [
       "{'desktop'}"
      ]
     },
     "execution_count": 211,
     "metadata": {},
     "output_type": "execute_result"
    }
   ],
   "source": [
    "day1 - day2 # 차집합 "
   ]
  },
  {
   "cell_type": "code",
   "execution_count": 212,
   "id": "1b9a2273-9c8d-4c66-a16a-26f55cd2a589",
   "metadata": {},
   "outputs": [
    {
     "data": {
      "text/plain": [
       "{'ipad'}"
      ]
     },
     "execution_count": 212,
     "metadata": {},
     "output_type": "execute_result"
    }
   ],
   "source": [
    "day2 - day1 # 차집합"
   ]
  },
  {
   "cell_type": "markdown",
   "id": "69618a16-b8b0-4541-a91b-e5cbeef8dc6c",
   "metadata": {},
   "source": [
    "`-` 부분집합 "
   ]
  },
  {
   "cell_type": "code",
   "execution_count": 135,
   "id": "fd96fda3-c8d4-4f94-83ca-724dd197415a",
   "metadata": {},
   "outputs": [],
   "source": [
    "day1 = {'notebook', 'desktop'}\n",
    "day2 = day1 | {'ipad'} "
   ]
  },
  {
   "cell_type": "code",
   "execution_count": 140,
   "id": "8f815f2c-0bca-41e0-a348-71e3a74bd785",
   "metadata": {},
   "outputs": [
    {
     "data": {
      "text/plain": [
       "True"
      ]
     },
     "execution_count": 140,
     "metadata": {},
     "output_type": "execute_result"
    }
   ],
   "source": [
    "day1 < day2  # day1는 day2의 부분집합인가? "
   ]
  },
  {
   "cell_type": "code",
   "execution_count": 215,
   "id": "31f34377-f338-4355-a151-8dcf0501d825",
   "metadata": {},
   "outputs": [
    {
     "data": {
      "text/plain": [
       "False"
      ]
     },
     "execution_count": 215,
     "metadata": {},
     "output_type": "execute_result"
    }
   ],
   "source": [
    "day2 < day1"
   ]
  },
  {
   "cell_type": "markdown",
   "id": "fb65a518-834d-496d-b647-d9a7561d5317",
   "metadata": {
    "tags": []
   },
   "source": [
    "## 집합 특수기능"
   ]
  },
  {
   "cell_type": "markdown",
   "id": "58ade2cf-b406-45e1-ab1f-e75bba2bbcc2",
   "metadata": {},
   "source": [
    "`-` 합집합 "
   ]
  },
  {
   "cell_type": "code",
   "execution_count": 216,
   "id": "ec6aab6c-2bc2-46fc-adb4-1e1955ede773",
   "metadata": {},
   "outputs": [],
   "source": [
    "day1 = {'notebook', 'desktop'}\n",
    "day2 = {'notebook','ipad'}"
   ]
  },
  {
   "cell_type": "code",
   "execution_count": 217,
   "id": "ba6ecca1-791b-41f8-baf3-59b8ab52da55",
   "metadata": {},
   "outputs": [
    {
     "data": {
      "text/plain": [
       "{'desktop', 'ipad', 'notebook'}"
      ]
     },
     "execution_count": 217,
     "metadata": {},
     "output_type": "execute_result"
    }
   ],
   "source": [
    "day1.union(day2)"
   ]
  },
  {
   "cell_type": "markdown",
   "id": "5048ed2e-191b-4b50-9285-1d6aa9366cfd",
   "metadata": {},
   "source": [
    "`-` 나머지 메소드는 스스로 찾아보세요 "
   ]
  },
  {
   "cell_type": "markdown",
   "id": "6dd6623c-fffb-4e0f-9eaf-983c98ebec0d",
   "metadata": {},
   "source": [
    "## for문과 set "
   ]
  },
  {
   "cell_type": "code",
   "execution_count": 142,
   "id": "eeed6a6b-956b-4060-91c1-36f46e36438c",
   "metadata": {},
   "outputs": [],
   "source": [
    "day1 = {'notebook', 'desktop'}\n",
    "day2 = {'notebook', 'ipad'}"
   ]
  },
  {
   "cell_type": "code",
   "execution_count": 219,
   "id": "360c3231-abf3-40b1-acf7-f88054726c69",
   "metadata": {},
   "outputs": [
    {
     "name": "stdout",
     "output_type": "stream",
     "text": [
      "notebook\n",
      "ipad\n",
      "desktop\n"
     ]
    }
   ],
   "source": [
    "for i in day1|day2: \n",
    "    print(i)"
   ]
  },
  {
   "cell_type": "markdown",
   "id": "7516ed29-c258-458b-9343-9c6cf8b3d015",
   "metadata": {},
   "source": [
    "# 집합 고급내용 "
   ]
  },
  {
   "cell_type": "markdown",
   "id": "36cef087-7574-4e65-84ff-fb8f0d2ff569",
   "metadata": {},
   "source": [
    "## set 컴프리헨션 "
   ]
  },
  {
   "cell_type": "markdown",
   "id": "935ef6a8-3f4d-488e-b4e0-c3ab75362cb6",
   "metadata": {},
   "source": [
    "`-` 예시1"
   ]
  },
  {
   "cell_type": "code",
   "execution_count": 146,
   "id": "b3f60c19-2261-49e2-aec2-d048f1ff925e",
   "metadata": {},
   "outputs": [
    {
     "data": {
      "text/plain": [
       "{1, 2, 3, 4, 5}"
      ]
     },
     "execution_count": 146,
     "metadata": {},
     "output_type": "execute_result"
    }
   ],
   "source": [
    "lst = [1,2,1,1,3,4,5]\n",
    "{l for l in lst}"
   ]
  },
  {
   "cell_type": "markdown",
   "id": "9e2b3621-bf35-426a-a77e-aa69ad85a546",
   "metadata": {},
   "source": [
    "## 유니크한 원소"
   ]
  },
  {
   "cell_type": "markdown",
   "id": "3d9ec937-330e-4159-8189-32054631473d",
   "metadata": {},
   "source": [
    "`-` 예제1: 아래의 list는 모두 몇 종류의 문자로 이루어져 있는가? "
   ]
  },
  {
   "cell_type": "code",
   "execution_count": 165,
   "id": "5d8341da-80f1-4992-9d07-8428a8a06b10",
   "metadata": {},
   "outputs": [],
   "source": [
    "lst=list('asdfasssdfdsasdfasdfasdfasdf')"
   ]
  },
  {
   "cell_type": "markdown",
   "id": "c4f7ccee-4b07-4690-b3c1-c72acef80f70",
   "metadata": {},
   "source": [
    "(풀이)"
   ]
  },
  {
   "cell_type": "code",
   "execution_count": 166,
   "id": "e63c0777-ede9-43f2-a48a-42719d258623",
   "metadata": {},
   "outputs": [
    {
     "data": {
      "text/plain": [
       "{'a', 'd', 'f', 's'}"
      ]
     },
     "execution_count": 166,
     "metadata": {},
     "output_type": "execute_result"
    }
   ],
   "source": [
    "set(lst)"
   ]
  },
  {
   "cell_type": "code",
   "execution_count": 167,
   "id": "c48b9f33-087d-422c-8c65-7645b245f9fe",
   "metadata": {},
   "outputs": [
    {
     "data": {
      "text/plain": [
       "4"
      ]
     },
     "execution_count": 167,
     "metadata": {},
     "output_type": "execute_result"
    }
   ],
   "source": [
    "len(set(lst))"
   ]
  },
  {
   "cell_type": "markdown",
   "id": "8268b9d2-d09d-48bd-9717-f58fe838f882",
   "metadata": {},
   "source": [
    "`-` 예제2: 아래의 txt에서 어떠한 종류의 문자가 각각 몇번씩 사용되었는지 빈도를 구하는 코드를 작성하라. "
   ]
  },
  {
   "cell_type": "code",
   "execution_count": 168,
   "id": "00e27fc3-5b37-4e29-bae2-fd904df6a863",
   "metadata": {},
   "outputs": [
    {
     "data": {
      "text/plain": [
       "'asdkflkjahsdlkjfhlaksglkjdhflkgjhlskdfjhglkajhsdlkfjhalsdkf'"
      ]
     },
     "execution_count": 168,
     "metadata": {},
     "output_type": "execute_result"
    }
   ],
   "source": [
    "txt = 'asdkflkjahsdlkjfhlaksglkjdhflkgjhlskdfjhglkajhsdlkfjhalsdkf'\n",
    "txt"
   ]
  },
  {
   "cell_type": "markdown",
   "id": "339ec7ca-619d-444b-82fd-a0b2fd2ef4b1",
   "metadata": {},
   "source": [
    "(풀이)"
   ]
  },
  {
   "cell_type": "code",
   "execution_count": 176,
   "id": "dfbc86fb-2316-48f9-8a9e-7bac47071dae",
   "metadata": {},
   "outputs": [
    {
     "data": {
      "text/plain": [
       "{'s': 6, 'a': 5, 'g': 3, 'k': 10, 'j': 7, 'h': 7, 'd': 6, 'l': 9, 'f': 6}"
      ]
     },
     "execution_count": 176,
     "metadata": {},
     "output_type": "execute_result"
    }
   ],
   "source": [
    "{k:list(txt).count(k) for k in set(txt)}"
   ]
  }
 ],
 "metadata": {
  "kernelspec": {
   "display_name": "Python 3 (ipykernel)",
   "language": "python",
   "name": "python3"
  },
  "language_info": {
   "codemirror_mode": {
    "name": "ipython",
    "version": 3
   },
   "file_extension": ".py",
   "mimetype": "text/x-python",
   "name": "python",
   "nbconvert_exporter": "python",
   "pygments_lexer": "ipython3",
   "version": "3.13.2"
  }
 },
 "nbformat": 4,
 "nbformat_minor": 5
}
