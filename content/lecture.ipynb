{
 "cells": [
  {
   "cell_type": "raw",
   "id": "74e1b404-54b4-4ad6-b8a4-8def4cacc482",
   "metadata": {
    "vscode": {
     "languageId": "raw"
    }
   },
   "source": [
    "---\n",
    "title: \"lecture\"\n",
    "author: \"최규빈\"\n",
    "date: \"04/21/2025\"\n",
    "draft: true\n",
    "---"
   ]
  },
  {
   "cell_type": "code",
   "execution_count": 11,
   "id": "02d1bda8-ac96-4430-908f-f53eff617d46",
   "metadata": {},
   "outputs": [],
   "source": [
    "import numpy as np\n",
    "import matplotlib.pyplot as plt"
   ]
  },
  {
   "cell_type": "markdown",
   "id": "a2226545-12d0-4534-a26e-1e38f7031323",
   "metadata": {},
   "source": [
    "## 1. numpy 중요문법"
   ]
  },
  {
   "cell_type": "markdown",
   "id": "138afcb5-93d1-487a-b7e3-2263e929cec8",
   "metadata": {},
   "source": [
    "### A. 선언 "
   ]
  },
  {
   "cell_type": "markdown",
   "id": "376653b3-e956-4e7b-9459-6f20bdab6d0f",
   "metadata": {},
   "source": [
    "`# 예제1` -- 리스트를 직접입력 $\\to$ 형태변환 "
   ]
  },
  {
   "cell_type": "code",
   "execution_count": 30,
   "id": "b263a77a-2825-4bcd-abd1-3ef43d1ec564",
   "metadata": {},
   "outputs": [
    {
     "data": {
      "text/plain": [
       "array([1, 2, 3])"
      ]
     },
     "execution_count": 30,
     "metadata": {},
     "output_type": "execute_result"
    }
   ],
   "source": [
    "x = np.array([1,2,3])\n",
    "x"
   ]
  },
  {
   "cell_type": "markdown",
   "id": "6a5c9fd5-d309-4235-a6cf-d78d330d7c28",
   "metadata": {},
   "source": [
    "`# 예제2`  -- 수열 1,2,3,...,100 만들기 "
   ]
  },
  {
   "cell_type": "code",
   "execution_count": 37,
   "id": "6bf2293f-5245-43d4-a690-c7b97e6016ac",
   "metadata": {},
   "outputs": [
    {
     "data": {
      "text/plain": [
       "array([  1,   2,   3,   4,   5,   6,   7,   8,   9,  10,  11,  12,  13,\n",
       "        14,  15,  16,  17,  18,  19,  20,  21,  22,  23,  24,  25,  26,\n",
       "        27,  28,  29,  30,  31,  32,  33,  34,  35,  36,  37,  38,  39,\n",
       "        40,  41,  42,  43,  44,  45,  46,  47,  48,  49,  50,  51,  52,\n",
       "        53,  54,  55,  56,  57,  58,  59,  60,  61,  62,  63,  64,  65,\n",
       "        66,  67,  68,  69,  70,  71,  72,  73,  74,  75,  76,  77,  78,\n",
       "        79,  80,  81,  82,  83,  84,  85,  86,  87,  88,  89,  90,  91,\n",
       "        92,  93,  94,  95,  96,  97,  98,  99, 100])"
      ]
     },
     "execution_count": 37,
     "metadata": {},
     "output_type": "execute_result"
    }
   ],
   "source": [
    "np.array(range(1,101))"
   ]
  },
  {
   "cell_type": "code",
   "execution_count": 38,
   "id": "8aa7cf27-6a3c-4d0e-bc82-5f45ba76eeb7",
   "metadata": {},
   "outputs": [
    {
     "data": {
      "text/plain": [
       "array([  1,   2,   3,   4,   5,   6,   7,   8,   9,  10,  11,  12,  13,\n",
       "        14,  15,  16,  17,  18,  19,  20,  21,  22,  23,  24,  25,  26,\n",
       "        27,  28,  29,  30,  31,  32,  33,  34,  35,  36,  37,  38,  39,\n",
       "        40,  41,  42,  43,  44,  45,  46,  47,  48,  49,  50,  51,  52,\n",
       "        53,  54,  55,  56,  57,  58,  59,  60,  61,  62,  63,  64,  65,\n",
       "        66,  67,  68,  69,  70,  71,  72,  73,  74,  75,  76,  77,  78,\n",
       "        79,  80,  81,  82,  83,  84,  85,  86,  87,  88,  89,  90,  91,\n",
       "        92,  93,  94,  95,  96,  97,  98,  99, 100])"
      ]
     },
     "execution_count": 38,
     "metadata": {},
     "output_type": "execute_result"
    }
   ],
   "source": [
    "np.arange(1,101)"
   ]
  },
  {
   "cell_type": "markdown",
   "id": "5429162b-b5f0-437b-8cdf-de7b15c3732a",
   "metadata": {},
   "source": [
    "`# 예제3` -- 수열 1,1,1,...,1 만들기 혹은 0,0,0,...,0 만들기"
   ]
  },
  {
   "cell_type": "code",
   "execution_count": 56,
   "id": "c8bc2476-dee6-4490-bcf4-2a9c01200fff",
   "metadata": {},
   "outputs": [
    {
     "data": {
      "text/plain": [
       "array([1., 1., 1., 1., 1., 1., 1., 1., 1., 1., 1., 1., 1., 1., 1., 1., 1.,\n",
       "       1., 1., 1., 1., 1., 1., 1., 1., 1., 1., 1., 1., 1., 1., 1., 1., 1.,\n",
       "       1., 1., 1., 1., 1., 1., 1., 1., 1., 1., 1., 1., 1., 1., 1., 1., 1.,\n",
       "       1., 1., 1., 1., 1., 1., 1., 1., 1., 1., 1., 1., 1., 1., 1., 1., 1.,\n",
       "       1., 1., 1., 1., 1., 1., 1., 1., 1., 1., 1., 1., 1., 1., 1., 1., 1.,\n",
       "       1., 1., 1., 1., 1., 1., 1., 1., 1., 1., 1., 1., 1., 1., 1.])"
      ]
     },
     "execution_count": 56,
     "metadata": {},
     "output_type": "execute_result"
    }
   ],
   "source": [
    "np.ones(100)"
   ]
  },
  {
   "cell_type": "code",
   "execution_count": 55,
   "id": "9cce50b8-7a9e-4028-a97a-f3554042d727",
   "metadata": {},
   "outputs": [
    {
     "data": {
      "text/plain": [
       "array([0., 0., 0., 0., 0., 0., 0., 0., 0., 0.])"
      ]
     },
     "execution_count": 55,
     "metadata": {},
     "output_type": "execute_result"
    }
   ],
   "source": [
    "np.zeros(10)"
   ]
  },
  {
   "cell_type": "markdown",
   "id": "7c874e0b-5b23-4dfd-b9e1-4e5e9d69844a",
   "metadata": {},
   "source": [
    "`# 예제4` -- 수열 0.1, 0.2, ...., 1.0 만들기 "
   ]
  },
  {
   "cell_type": "code",
   "execution_count": 63,
   "id": "189d7c48-f09a-4ab3-8542-5e436c9259e0",
   "metadata": {},
   "outputs": [
    {
     "data": {
      "text/plain": [
       "array([0.1, 0.2, 0.3, 0.4, 0.5, 0.6, 0.7, 0.8, 0.9, 1. ])"
      ]
     },
     "execution_count": 63,
     "metadata": {},
     "output_type": "execute_result"
    }
   ],
   "source": [
    "np.linspace(0.1, 1.0, 10)"
   ]
  },
  {
   "cell_type": "code",
   "execution_count": 58,
   "id": "d9e2ea5d-a7fd-4a4f-bc55-9fac61826edf",
   "metadata": {},
   "outputs": [
    {
     "data": {
      "text/plain": [
       "array([0.1, 0.2, 0.3, 0.4, 0.5, 0.6, 0.7, 0.8, 0.9, 1. ])"
      ]
     },
     "execution_count": 58,
     "metadata": {},
     "output_type": "execute_result"
    }
   ],
   "source": [
    "np.arange(1,11) / 10"
   ]
  },
  {
   "cell_type": "code",
   "execution_count": 70,
   "id": "d75785b2-a226-4e83-946f-dea38e6ada5a",
   "metadata": {},
   "outputs": [
    {
     "data": {
      "text/plain": [
       "array([0.1, 0.2, 0.3, 0.4, 0.5, 0.6, 0.7, 0.8, 0.9, 1. ])"
      ]
     },
     "execution_count": 70,
     "metadata": {},
     "output_type": "execute_result"
    }
   ],
   "source": [
    "np.arange(0.1, 1.1, 0.1)"
   ]
  },
  {
   "cell_type": "markdown",
   "id": "a112e49e-3bc1-4c73-ae21-5f950304ae57",
   "metadata": {},
   "source": [
    "`# 예제5` -- 표준정규분포에서 난수생성 "
   ]
  },
  {
   "cell_type": "code",
   "execution_count": 90,
   "id": "d0c592d7-0c10-4920-b441-e9821b8bac43",
   "metadata": {},
   "outputs": [
    {
     "data": {
      "text/plain": [
       "array([ 0.63999094,  0.88612022, -1.0669658 , -0.37545709,  0.13713132,\n",
       "        1.74396856, -0.76896607,  0.79637754, -1.38446077, -0.62810566])"
      ]
     },
     "execution_count": 90,
     "metadata": {},
     "output_type": "execute_result"
    }
   ],
   "source": [
    "np.random.normal(size=10)"
   ]
  },
  {
   "cell_type": "code",
   "execution_count": 91,
   "id": "03a8242b-5205-473b-88f3-12f3781ee026",
   "metadata": {},
   "outputs": [
    {
     "data": {
      "text/plain": [
       "array([0.48543731, 0.48535705, 0.46677356, 0.35678881, 0.28247887,\n",
       "       0.61917983, 0.94275329, 0.91956613, 0.3352364 , 0.69781889])"
      ]
     },
     "execution_count": 91,
     "metadata": {},
     "output_type": "execute_result"
    }
   ],
   "source": [
    "np.random.rand(10)"
   ]
  },
  {
   "cell_type": "markdown",
   "id": "f64afa1c-1485-4f98-bf04-ec59c474ee00",
   "metadata": {},
   "source": [
    "`# 예제6` -- 0~1사이의 난수생성 "
   ]
  },
  {
   "cell_type": "code",
   "execution_count": 92,
   "id": "a0432ea4-e8d5-4282-a29c-583f90bddb45",
   "metadata": {},
   "outputs": [
    {
     "data": {
      "text/plain": [
       "array([0.53467699, 0.35790844, 0.26439325, 0.17385196, 0.57558766,\n",
       "       0.87321323, 0.24747884, 0.39109478, 0.49785881, 0.24940051])"
      ]
     },
     "execution_count": 92,
     "metadata": {},
     "output_type": "execute_result"
    }
   ],
   "source": [
    "np.random.rand(10)"
   ]
  },
  {
   "cell_type": "markdown",
   "id": "a1bbdfd0-d639-4d1b-9526-003f534877ec",
   "metadata": {},
   "source": [
    "`# 예제7` -- 0,1,2,3,4 사이의 정수"
   ]
  },
  {
   "cell_type": "code",
   "execution_count": 114,
   "id": "8edc1831-5c5e-4034-9a8b-91c78a2aa0e8",
   "metadata": {},
   "outputs": [
    {
     "data": {
      "text/plain": [
       "array([1, 1, 2, 0, 0, 0, 4, 4, 1, 1, 3, 4, 2, 1, 0, 2, 3, 0, 3, 2, 2, 1,\n",
       "       1, 4, 1, 3, 2, 3, 3, 0, 0, 0, 4, 0, 2, 0, 0, 0, 0, 1, 2, 2, 0, 4,\n",
       "       1, 4, 4, 3, 1, 0, 1, 4, 2, 1, 3, 4, 3, 2, 0, 0, 1, 3, 0, 2, 3, 0,\n",
       "       4, 0, 2, 1, 1, 0, 3, 1, 4, 2, 3, 3, 0, 3, 4, 3, 4, 4, 0, 2, 0, 2,\n",
       "       2, 1, 2, 3, 0, 0, 2, 2, 0, 4, 0, 3])"
      ]
     },
     "execution_count": 114,
     "metadata": {},
     "output_type": "execute_result"
    }
   ],
   "source": [
    "np.random.randint(low=0, high=5, size=100)"
   ]
  },
  {
   "cell_type": "markdown",
   "id": "7a274c95-4452-4718-bb78-30c2049fde5c",
   "metadata": {},
   "source": [
    "### B. 연산 "
   ]
  },
  {
   "cell_type": "markdown",
   "id": "2ccede23-3c65-4832-aec8-1d0070be9b12",
   "metadata": {},
   "source": [
    "`# 예제1` -- 평균"
   ]
  },
  {
   "cell_type": "code",
   "execution_count": 115,
   "id": "b8a2e70e-901e-44cb-8d4b-552e5d570908",
   "metadata": {},
   "outputs": [
    {
     "data": {
      "text/plain": [
       "array([-1,  0,  1,  2])"
      ]
     },
     "execution_count": 115,
     "metadata": {},
     "output_type": "execute_result"
    }
   ],
   "source": [
    "x = np.array([-1,0,1,2])\n",
    "x"
   ]
  },
  {
   "cell_type": "markdown",
   "id": "fdcc5c6a-7925-4aad-87d6-9394d26fd162",
   "metadata": {},
   "source": [
    "아래를 계산하라. "
   ]
  },
  {
   "cell_type": "markdown",
   "id": "5a86af36-9521-4444-93ef-7e9524a77184",
   "metadata": {},
   "source": [
    "$$\\bar{x} = \\frac{1}{n}\\sum_{i=1}^{n}x_i$$"
   ]
  },
  {
   "cell_type": "markdown",
   "id": "ba2bb40f-3ca1-4808-8aa2-24562729d214",
   "metadata": {},
   "source": [
    "(풀이)"
   ]
  },
  {
   "cell_type": "code",
   "execution_count": 127,
   "id": "a979f86e-3fcb-4e81-bf3a-61190cfe0dca",
   "metadata": {},
   "outputs": [
    {
     "data": {
      "text/plain": [
       "np.float64(0.5)"
      ]
     },
     "execution_count": 127,
     "metadata": {},
     "output_type": "execute_result"
    }
   ],
   "source": [
    "sum(x) / len(x)"
   ]
  },
  {
   "cell_type": "code",
   "execution_count": 132,
   "id": "21233d58-777d-4bb8-ae34-06a791a82639",
   "metadata": {},
   "outputs": [
    {
     "data": {
      "text/plain": [
       "np.float64(0.5)"
      ]
     },
     "execution_count": 132,
     "metadata": {},
     "output_type": "execute_result"
    }
   ],
   "source": [
    "np.sum(x) / len(x)"
   ]
  },
  {
   "cell_type": "code",
   "execution_count": 137,
   "id": "1d9f8b4d-b7c9-468a-ab16-315d3d965269",
   "metadata": {},
   "outputs": [
    {
     "data": {
      "text/plain": [
       "np.float64(0.5)"
      ]
     },
     "execution_count": 137,
     "metadata": {},
     "output_type": "execute_result"
    }
   ],
   "source": [
    "x.sum() / len(x)"
   ]
  },
  {
   "cell_type": "code",
   "execution_count": 118,
   "id": "db4fda7b-437a-44cd-90ec-62d3b6c0e344",
   "metadata": {},
   "outputs": [
    {
     "data": {
      "text/plain": [
       "np.float64(0.5)"
      ]
     },
     "execution_count": 118,
     "metadata": {},
     "output_type": "execute_result"
    }
   ],
   "source": [
    "np.mean(x)"
   ]
  },
  {
   "cell_type": "code",
   "execution_count": 120,
   "id": "919bb20c-d0cc-4688-95dd-607098be1213",
   "metadata": {},
   "outputs": [
    {
     "data": {
      "text/plain": [
       "np.float64(0.5)"
      ]
     },
     "execution_count": 120,
     "metadata": {},
     "output_type": "execute_result"
    }
   ],
   "source": [
    "x.mean()"
   ]
  },
  {
   "cell_type": "markdown",
   "id": "d2509940-1c86-4c39-9d0e-9f99784ced76",
   "metadata": {},
   "source": [
    "`#`"
   ]
  },
  {
   "cell_type": "markdown",
   "id": "87c36547-4835-42d7-a419-c791d8fb09bf",
   "metadata": {},
   "source": [
    "`# 예제2`  -- 분산"
   ]
  },
  {
   "cell_type": "code",
   "execution_count": 138,
   "id": "b9ffd080-c2ae-47c5-9895-8a93d9829504",
   "metadata": {},
   "outputs": [
    {
     "data": {
      "text/plain": [
       "array([ 0.31313979,  0.42801967,  0.07141947, ...,  1.15136579,\n",
       "       -0.53223794,  1.07261678], shape=(10000,))"
      ]
     },
     "execution_count": 138,
     "metadata": {},
     "output_type": "execute_result"
    }
   ],
   "source": [
    "x = np.random.randn(10000)\n",
    "x"
   ]
  },
  {
   "cell_type": "markdown",
   "id": "23ae1c90-b5fd-4067-b00a-a1bd24687d18",
   "metadata": {},
   "source": [
    "아래를 계산하라. \n",
    "\n",
    "$$\\frac{1}{n-1}\\sum_{i=1}^{n}(x_i-\\bar{x})^2, \\quad \\bar{x} = \\frac{1}{n}\\sum_{i=1}^{n}x_i$$"
   ]
  },
  {
   "cell_type": "markdown",
   "id": "8192ea70-1c5e-4892-a944-7f6729894ef2",
   "metadata": {},
   "source": [
    "(풀이)"
   ]
  },
  {
   "cell_type": "code",
   "execution_count": 144,
   "id": "1c7dfe7e-894e-44be-a7b6-948a8894684f",
   "metadata": {},
   "outputs": [
    {
     "data": {
      "text/plain": [
       "np.float64(0.9997719972456344)"
      ]
     },
     "execution_count": 144,
     "metadata": {},
     "output_type": "execute_result"
    }
   ],
   "source": [
    "np.sum((x - x.mean())**2) / (len(x)-1)"
   ]
  },
  {
   "cell_type": "markdown",
   "id": "8290486d-f3f2-452e-bbb0-5661b5d5a2fa",
   "metadata": {},
   "source": [
    "`#`"
   ]
  },
  {
   "cell_type": "markdown",
   "id": "bf3a2192-42e7-4ed5-bd6f-67abb841fc37",
   "metadata": {},
   "source": [
    "`# 예제3`"
   ]
  },
  {
   "cell_type": "code",
   "execution_count": 146,
   "id": "d8f40f83-ae32-42b8-8e79-d74650b427c4",
   "metadata": {},
   "outputs": [],
   "source": [
    "x = np.random.randn(10)\n",
    "y = np.random.randn(10)"
   ]
  },
  {
   "cell_type": "markdown",
   "id": "3a817546-edb1-4f7d-9142-74141a90375f",
   "metadata": {},
   "source": [
    "아래를 계산하라. "
   ]
  },
  {
   "cell_type": "markdown",
   "id": "27f2c1a8-d8f9-4fc2-a09f-d3382c7dbdd4",
   "metadata": {},
   "source": [
    "$$\\sum_{i=1}^{n} x_i y_i$$"
   ]
  },
  {
   "cell_type": "markdown",
   "id": "c2173c04-ac2e-4da5-8b93-916d426a3542",
   "metadata": {},
   "source": [
    "(풀이)"
   ]
  },
  {
   "cell_type": "code",
   "execution_count": 152,
   "id": "2c0f3da9-44fb-40d6-bd01-dab550ff029d",
   "metadata": {},
   "outputs": [
    {
     "data": {
      "text/plain": [
       "np.float64(-0.0745472941430606)"
      ]
     },
     "execution_count": 152,
     "metadata": {},
     "output_type": "execute_result"
    }
   ],
   "source": [
    "np.sum(x*y)"
   ]
  },
  {
   "cell_type": "markdown",
   "id": "90e94171-51a4-4f49-8b8e-3553af146e6b",
   "metadata": {},
   "source": [
    "`#`"
   ]
  },
  {
   "cell_type": "markdown",
   "id": "161f6a7d-70db-4f7f-a058-5e62dbbfaa21",
   "metadata": {},
   "source": [
    "### C. max, argmax, min, argmin"
   ]
  },
  {
   "cell_type": "markdown",
   "id": "3ee9d335-01ce-4d97-9733-c65357062c17",
   "metadata": {},
   "source": [
    "`# 예제1` -- 최소값과 최대값"
   ]
  },
  {
   "cell_type": "code",
   "execution_count": 155,
   "id": "644e5d7b-2316-467c-aa28-dbdb87bc6504",
   "metadata": {},
   "outputs": [
    {
     "data": {
      "text/plain": [
       "array([ 0.1,  0.2,  0.3,  0.4,  0.5,  0.6,  0.7,  0.8,  0.9,  1. ,  1.1,\n",
       "        1.2,  1.3,  1.4,  1.5,  1.6,  1.7,  1.8,  1.9,  2. ,  2.1,  2.2,\n",
       "        2.3,  2.4,  2.5,  2.6,  2.7,  2.8,  2.9,  3. ,  3.1,  3.2,  3.3,\n",
       "        3.4,  3.5,  3.6,  3.7,  3.8,  3.9,  4. ,  4.1,  4.2,  4.3,  4.4,\n",
       "        4.5,  4.6,  4.7,  4.8,  4.9,  5. ,  5.1,  5.2,  5.3,  5.4,  5.5,\n",
       "        5.6,  5.7,  5.8,  5.9,  6. ,  6.1,  6.2,  6.3,  6.4,  6.5,  6.6,\n",
       "        6.7,  6.8,  6.9,  7. ,  7.1,  7.2,  7.3,  7.4,  7.5,  7.6,  7.7,\n",
       "        7.8,  7.9,  8. ,  8.1,  8.2,  8.3,  8.4,  8.5,  8.6,  8.7,  8.8,\n",
       "        8.9,  9. ,  9.1,  9.2,  9.3,  9.4,  9.5,  9.6,  9.7,  9.8,  9.9,\n",
       "       10. ])"
      ]
     },
     "execution_count": 155,
     "metadata": {},
     "output_type": "execute_result"
    }
   ],
   "source": [
    "x = np.arange(1,101)/10\n",
    "x"
   ]
  },
  {
   "cell_type": "markdown",
   "id": "a156df96-82ed-4f71-a65d-bcea092313bb",
   "metadata": {},
   "source": [
    "최대값과 최소값을 계산하라. "
   ]
  },
  {
   "cell_type": "markdown",
   "id": "4991dde5-9f8d-44d8-82e5-a06d5a947033",
   "metadata": {},
   "source": [
    "(풀이)"
   ]
  },
  {
   "cell_type": "code",
   "execution_count": 161,
   "id": "c1ddcced-6b7b-48d0-95da-c36349fd88d7",
   "metadata": {},
   "outputs": [
    {
     "data": {
      "text/plain": [
       "(np.float64(0.1), np.float64(0.1), np.float64(0.1))"
      ]
     },
     "execution_count": 161,
     "metadata": {},
     "output_type": "execute_result"
    }
   ],
   "source": [
    "np.min(x), x.min(), min(x)"
   ]
  },
  {
   "cell_type": "code",
   "execution_count": 165,
   "id": "47a03f4e-4e77-460c-b86e-e075d64a7114",
   "metadata": {},
   "outputs": [
    {
     "data": {
      "text/plain": [
       "(np.float64(10.0), np.float64(10.0), np.float64(10.0))"
      ]
     },
     "execution_count": 165,
     "metadata": {},
     "output_type": "execute_result"
    }
   ],
   "source": [
    "np.max(x), x.max(), max(x)"
   ]
  },
  {
   "cell_type": "markdown",
   "id": "e00f9fa9-5c7d-4df0-835b-bb5297536662",
   "metadata": {},
   "source": [
    "`#`"
   ]
  },
  {
   "cell_type": "markdown",
   "id": "e99e5450-4990-4e96-86a3-a84ac2cc7e6d",
   "metadata": {},
   "source": [
    "`# 예제2` -- 최소값이 위치한 인덱스, 최대값이 위치한 인덱스"
   ]
  },
  {
   "cell_type": "code",
   "execution_count": 166,
   "id": "91e97917-00df-4894-9c27-4c5f29ecbdf9",
   "metadata": {},
   "outputs": [
    {
     "data": {
      "text/plain": [
       "array([ 1,  2, -3,  5,  0])"
      ]
     },
     "execution_count": 166,
     "metadata": {},
     "output_type": "execute_result"
    }
   ],
   "source": [
    "x = np.array([1,2,-3,5,0])\n",
    "x"
   ]
  },
  {
   "cell_type": "markdown",
   "id": "1621feba-9597-44e5-95c8-3a149549ada4",
   "metadata": {},
   "source": [
    "최대값과 최소값이 위치한 인덱스를 찾아라. "
   ]
  },
  {
   "cell_type": "markdown",
   "id": "6812136d-86b9-42b5-9f8a-18b5015a6500",
   "metadata": {},
   "source": [
    "(풀이)"
   ]
  },
  {
   "cell_type": "code",
   "execution_count": 171,
   "id": "318c37f1-142c-4776-80e1-6b816e2ef358",
   "metadata": {},
   "outputs": [
    {
     "data": {
      "text/plain": [
       "(np.int64(2), np.int64(2))"
      ]
     },
     "execution_count": 171,
     "metadata": {},
     "output_type": "execute_result"
    }
   ],
   "source": [
    "np.argmin(x), x.argmin()"
   ]
  },
  {
   "cell_type": "code",
   "execution_count": 174,
   "id": "06a48949-3f9a-4558-aa0e-ac99a53f381e",
   "metadata": {},
   "outputs": [
    {
     "data": {
      "text/plain": [
       "(np.int64(3), np.int64(3))"
      ]
     },
     "execution_count": 174,
     "metadata": {},
     "output_type": "execute_result"
    }
   ],
   "source": [
    "np.argmax(x), x.argmax()"
   ]
  },
  {
   "cell_type": "markdown",
   "id": "e9d97c0a-7f17-49c6-a132-58ba1f44d8ec",
   "metadata": {},
   "source": [
    "`#`"
   ]
  },
  {
   "cell_type": "markdown",
   "id": "58a29a15-c7a9-4ca9-8746-e94978e44f2f",
   "metadata": {},
   "source": [
    "`# 예제3` -- 평균과 가장 가까운값 "
   ]
  },
  {
   "cell_type": "code",
   "execution_count": 175,
   "id": "0b7e1580-3808-462c-ad9b-7e58c01e3ea3",
   "metadata": {},
   "outputs": [
    {
     "data": {
      "text/plain": [
       "array([-0.26766261,  0.19982864,  0.42399218, ...,  2.13772316,\n",
       "        0.0507584 , -0.84801245], shape=(10000,))"
      ]
     },
     "execution_count": 175,
     "metadata": {},
     "output_type": "execute_result"
    }
   ],
   "source": [
    "x = np.random.randn(10000)\n",
    "x"
   ]
  },
  {
   "cell_type": "markdown",
   "id": "6ea47003-61aa-4014-9726-bec8565c5b41",
   "metadata": {},
   "source": [
    "평균과 가장 가까운 값을 구하라. "
   ]
  },
  {
   "cell_type": "markdown",
   "id": "a9007c89-a507-4b26-8c8b-62dc77e639d1",
   "metadata": {},
   "source": [
    "(풀이)"
   ]
  },
  {
   "cell_type": "code",
   "execution_count": 177,
   "id": "bd475349-9bfa-4e26-8e22-0f4eccd689d3",
   "metadata": {},
   "outputs": [
    {
     "data": {
      "text/plain": [
       "np.float64(-0.00593222216257571)"
      ]
     },
     "execution_count": 177,
     "metadata": {},
     "output_type": "execute_result"
    }
   ],
   "source": [
    "x.mean()"
   ]
  },
  {
   "cell_type": "code",
   "execution_count": 182,
   "id": "b1aec7a9-3318-480f-9ca8-4745065f7076",
   "metadata": {},
   "outputs": [
    {
     "data": {
      "text/plain": [
       "np.int64(5069)"
      ]
     },
     "execution_count": 182,
     "metadata": {},
     "output_type": "execute_result"
    }
   ],
   "source": [
    "np.abs(x - x.mean()).argmin()"
   ]
  },
  {
   "cell_type": "code",
   "execution_count": 183,
   "id": "931ce439-b993-48e5-908c-afee124fa315",
   "metadata": {},
   "outputs": [
    {
     "data": {
      "text/plain": [
       "np.float64(-0.006013892355208624)"
      ]
     },
     "execution_count": 183,
     "metadata": {},
     "output_type": "execute_result"
    }
   ],
   "source": [
    "x[5069]"
   ]
  },
  {
   "cell_type": "markdown",
   "id": "cde8c94d-47fc-45b2-99e0-06e3ce2ece3e",
   "metadata": {},
   "source": [
    "`#`"
   ]
  },
  {
   "cell_type": "markdown",
   "id": "5868b4d5-4010-4e64-9e1f-11abc105e4ef",
   "metadata": {},
   "source": [
    "`# 예제5` `~` 연산 "
   ]
  },
  {
   "cell_type": "code",
   "execution_count": 189,
   "id": "83972b05-4ced-4409-8508-8c6b97805bf3",
   "metadata": {},
   "outputs": [
    {
     "data": {
      "text/plain": [
       "array([ True, False,  True, False,  True, False,  True, False,  True,\n",
       "       False])"
      ]
     },
     "execution_count": 189,
     "metadata": {},
     "output_type": "execute_result"
    }
   ],
   "source": [
    "x = np.array([True,False]*5)\n",
    "x"
   ]
  },
  {
   "cell_type": "markdown",
   "id": "212f6031-60f2-4f56-b5c3-e7a276ecccea",
   "metadata": {},
   "source": [
    "위의 array에서 True를 False로 그리고 False를 True로 바꾸어라. "
   ]
  },
  {
   "cell_type": "markdown",
   "id": "4e760737-f874-4751-94d4-262210a42f24",
   "metadata": {},
   "source": [
    "(풀이)"
   ]
  },
  {
   "cell_type": "code",
   "execution_count": 191,
   "id": "9ca09f60-b540-483e-bf7a-a11ee2a17a71",
   "metadata": {},
   "outputs": [
    {
     "data": {
      "text/plain": [
       "array([False,  True, False,  True, False,  True, False,  True, False,\n",
       "        True])"
      ]
     },
     "execution_count": 191,
     "metadata": {},
     "output_type": "execute_result"
    }
   ],
   "source": [
    "~x"
   ]
  },
  {
   "cell_type": "markdown",
   "id": "682a6865-b3b0-4589-aec8-d350dd91150f",
   "metadata": {},
   "source": [
    "### D. 인덱싱 "
   ]
  },
  {
   "cell_type": "markdown",
   "id": "178e5f57-8a7d-4757-8cf8-c92f284af6f7",
   "metadata": {},
   "source": [
    "`# 예제1` -- 일반적인 인덱싱"
   ]
  },
  {
   "cell_type": "code",
   "execution_count": 192,
   "id": "6af9ad03-b6e0-4f8a-8fcf-9aa24c185e9b",
   "metadata": {},
   "outputs": [
    {
     "data": {
      "text/plain": [
       "array([0.59630868, 0.36965091, 0.55052066, 0.43073621, 0.37603208])"
      ]
     },
     "execution_count": 192,
     "metadata": {},
     "output_type": "execute_result"
    }
   ],
   "source": [
    "x = np.random.rand(5)\n",
    "x"
   ]
  },
  {
   "cell_type": "code",
   "execution_count": 194,
   "id": "14835b22-5702-4f05-9134-46b9e0f001f1",
   "metadata": {},
   "outputs": [
    {
     "data": {
      "text/plain": [
       "np.float64(0.5963086827681903)"
      ]
     },
     "execution_count": 194,
     "metadata": {},
     "output_type": "execute_result"
    }
   ],
   "source": [
    "x[0]"
   ]
  },
  {
   "cell_type": "code",
   "execution_count": 195,
   "id": "9cf24256-f398-4f86-8af2-0c67c98a069f",
   "metadata": {},
   "outputs": [
    {
     "data": {
      "text/plain": [
       "array([0.59630868, 0.36965091])"
      ]
     },
     "execution_count": 195,
     "metadata": {},
     "output_type": "execute_result"
    }
   ],
   "source": [
    "x[:2]"
   ]
  },
  {
   "cell_type": "code",
   "execution_count": 196,
   "id": "b04390cf-e6c8-4b3c-9580-92da978f8c7a",
   "metadata": {},
   "outputs": [
    {
     "data": {
      "text/plain": [
       "array([0.43073621, 0.37603208])"
      ]
     },
     "execution_count": 196,
     "metadata": {},
     "output_type": "execute_result"
    }
   ],
   "source": [
    "x[-2:]"
   ]
  },
  {
   "cell_type": "markdown",
   "id": "726387ef-d474-4fdf-afb5-59f731b1b68c",
   "metadata": {},
   "source": [
    "`#`"
   ]
  },
  {
   "cell_type": "markdown",
   "id": "c40e18f3-41d6-4580-b204-6938f355f296",
   "metadata": {},
   "source": [
    "`# 예제2` -- 스트라이딩"
   ]
  },
  {
   "cell_type": "code",
   "execution_count": 197,
   "id": "7abd0f84-8851-48f5-88b9-bd4efc921e59",
   "metadata": {},
   "outputs": [
    {
     "data": {
      "text/plain": [
       "array([  1,   2,   3,   4,   5,   6,   7,   8,   9,  10,  11,  12,  13,\n",
       "        14,  15,  16,  17,  18,  19,  20,  21,  22,  23,  24,  25,  26,\n",
       "        27,  28,  29,  30,  31,  32,  33,  34,  35,  36,  37,  38,  39,\n",
       "        40,  41,  42,  43,  44,  45,  46,  47,  48,  49,  50,  51,  52,\n",
       "        53,  54,  55,  56,  57,  58,  59,  60,  61,  62,  63,  64,  65,\n",
       "        66,  67,  68,  69,  70,  71,  72,  73,  74,  75,  76,  77,  78,\n",
       "        79,  80,  81,  82,  83,  84,  85,  86,  87,  88,  89,  90,  91,\n",
       "        92,  93,  94,  95,  96,  97,  98,  99, 100])"
      ]
     },
     "execution_count": 197,
     "metadata": {},
     "output_type": "execute_result"
    }
   ],
   "source": [
    "x = np.arange(1,101)\n",
    "x"
   ]
  },
  {
   "cell_type": "code",
   "execution_count": 204,
   "id": "338ad2c0-54a5-407b-8378-b5465ac72987",
   "metadata": {},
   "outputs": [
    {
     "data": {
      "text/plain": [
       "array([ 1,  3,  5,  7,  9, 11, 13, 15, 17, 19, 21, 23, 25, 27, 29, 31, 33,\n",
       "       35, 37, 39, 41, 43, 45, 47, 49, 51, 53, 55, 57, 59, 61, 63, 65, 67,\n",
       "       69, 71, 73, 75, 77, 79, 81, 83, 85, 87, 89, 91, 93, 95, 97, 99])"
      ]
     },
     "execution_count": 204,
     "metadata": {},
     "output_type": "execute_result"
    }
   ],
   "source": [
    "x[::2]"
   ]
  },
  {
   "cell_type": "code",
   "execution_count": 205,
   "id": "ab182ec1-6338-4dd5-a5fd-53ff8db744e6",
   "metadata": {},
   "outputs": [
    {
     "data": {
      "text/plain": [
       "array([  2,   4,   6,   8,  10,  12,  14,  16,  18,  20,  22,  24,  26,\n",
       "        28,  30,  32,  34,  36,  38,  40,  42,  44,  46,  48,  50,  52,\n",
       "        54,  56,  58,  60,  62,  64,  66,  68,  70,  72,  74,  76,  78,\n",
       "        80,  82,  84,  86,  88,  90,  92,  94,  96,  98, 100])"
      ]
     },
     "execution_count": 205,
     "metadata": {},
     "output_type": "execute_result"
    }
   ],
   "source": [
    "x[1::2]"
   ]
  },
  {
   "cell_type": "code",
   "execution_count": 206,
   "id": "bdffa657-1e51-4a60-ae8d-2455cd540fe5",
   "metadata": {},
   "outputs": [
    {
     "data": {
      "text/plain": [
       "array([ 3,  6,  9, 12, 15, 18, 21, 24, 27, 30, 33, 36, 39, 42, 45, 48, 51,\n",
       "       54, 57, 60, 63, 66, 69, 72, 75, 78, 81, 84, 87, 90, 93, 96, 99])"
      ]
     },
     "execution_count": 206,
     "metadata": {},
     "output_type": "execute_result"
    }
   ],
   "source": [
    "x[2::3]"
   ]
  },
  {
   "cell_type": "markdown",
   "id": "e430bef3-e962-4679-a0d2-4fc73fe6c1bb",
   "metadata": {},
   "source": [
    "`#`"
   ]
  },
  {
   "cell_type": "markdown",
   "id": "a110b6f8-b5d5-46a5-8fba-91f35feff93a",
   "metadata": {},
   "source": [
    "`# 예제3` -- True/False 를 이용한 인덱싱 "
   ]
  },
  {
   "cell_type": "code",
   "execution_count": 210,
   "id": "a6516eb8-b377-4680-a872-d0795a313907",
   "metadata": {},
   "outputs": [
    {
     "data": {
      "text/plain": [
       "array([ 0.82045771, -0.26450737,  2.18595844, -1.07529209, -0.70678497,\n",
       "       -0.0642393 , -0.27223974,  0.24289743,  0.82903608, -0.74138662])"
      ]
     },
     "execution_count": 210,
     "metadata": {},
     "output_type": "execute_result"
    }
   ],
   "source": [
    "x = np.random.randn(10)\n",
    "x"
   ]
  },
  {
   "cell_type": "markdown",
   "id": "839d5aa2-9d6e-4860-9a8d-57fc9ef41514",
   "metadata": {},
   "source": [
    "`x>0`을 만족하는 원소를 출력하라. "
   ]
  },
  {
   "cell_type": "markdown",
   "id": "5c4a4fe8-420a-4d69-b69f-ac43fbf1ad2a",
   "metadata": {},
   "source": [
    "(풀이)"
   ]
  },
  {
   "cell_type": "code",
   "execution_count": 212,
   "id": "2c503797-a530-4881-b94b-a64592fb9e5d",
   "metadata": {},
   "outputs": [
    {
     "data": {
      "text/plain": [
       "array([0.82045771, 2.18595844, 0.24289743, 0.82903608])"
      ]
     },
     "execution_count": 212,
     "metadata": {},
     "output_type": "execute_result"
    }
   ],
   "source": [
    "x[x>0]"
   ]
  },
  {
   "cell_type": "markdown",
   "id": "f138414c-ee41-43b7-8018-a4c314379f92",
   "metadata": {},
   "source": [
    "*아래는 동작하지 않음을 주의하자*"
   ]
  },
  {
   "cell_type": "code",
   "execution_count": 216,
   "id": "1992ff72-13d4-4478-a372-7c135ea49d2b",
   "metadata": {},
   "outputs": [
    {
     "data": {
      "text/plain": [
       "array([1, 0, 1, 0, 0, 0, 0, 1, 1, 0])"
      ]
     },
     "execution_count": 216,
     "metadata": {},
     "output_type": "execute_result"
    }
   ],
   "source": [
    "(x>0)*1"
   ]
  },
  {
   "cell_type": "code",
   "execution_count": 215,
   "id": "9771fd19-7a74-48a9-8209-3beea9069b8d",
   "metadata": {},
   "outputs": [
    {
     "data": {
      "text/plain": [
       "array([-0.26450737,  0.82045771, -0.26450737,  0.82045771,  0.82045771,\n",
       "        0.82045771,  0.82045771, -0.26450737, -0.26450737,  0.82045771])"
      ]
     },
     "execution_count": 215,
     "metadata": {},
     "output_type": "execute_result"
    }
   ],
   "source": [
    "x[(x>0)*1]"
   ]
  },
  {
   "cell_type": "markdown",
   "id": "4b6863d9-4fdc-4d3f-a657-0fda2d2a9803",
   "metadata": {},
   "source": [
    "`#`"
   ]
  },
  {
   "cell_type": "markdown",
   "id": "0f2f7958-37b0-41a5-b2c7-4d7f4b22dade",
   "metadata": {},
   "source": [
    "## 2. 시각화 "
   ]
  },
  {
   "cell_type": "markdown",
   "id": "5a8178e8-4eaa-4aa6-a220-25e9bd1b6508",
   "metadata": {},
   "source": [
    "### A. 기본시각화"
   ]
  },
  {
   "cell_type": "markdown",
   "id": "3ea8304f-7353-42bc-a308-d42ef4d9b6a0",
   "metadata": {},
   "source": [
    "`# 예제1` -- scatter plot "
   ]
  },
  {
   "cell_type": "code",
   "execution_count": 232,
   "id": "b4f398b4-fc6d-4ecc-860c-06a7529ddc53",
   "metadata": {},
   "outputs": [],
   "source": [
    "x = [1,2,3,4]\n",
    "y = [1,3,2,-1]"
   ]
  },
  {
   "cell_type": "code",
   "execution_count": 233,
   "id": "d9f5f46c-4ed9-46ec-a399-33770d17ff4a",
   "metadata": {},
   "outputs": [
    {
     "data": {
      "text/plain": [
       "[<matplotlib.lines.Line2D at 0x772cc504d1d0>]"
      ]
     },
     "execution_count": 233,
     "metadata": {},
     "output_type": "execute_result"
    },
    {
     "data": {
      "image/png": "[encoded data removed]",
      "text/plain": [
       "<Figure size 640x480 with 1 Axes>"
      ]
     },
     "metadata": {},
     "output_type": "display_data"
    }
   ],
   "source": [
    "plt.plot(x,y,'o')"
   ]
  },
  {
   "cell_type": "markdown",
   "id": "b86d97ff-0fc4-4382-8635-ddda4446a11b",
   "metadata": {},
   "source": [
    "`#`"
   ]
  },
  {
   "cell_type": "markdown",
   "id": "1c15a06f-8fae-46f0-8c75-bfbab0d8c33e",
   "metadata": {},
   "source": [
    "`# 예제2` -- dot-conneted plot "
   ]
  },
  {
   "cell_type": "code",
   "execution_count": 234,
   "id": "b925dfd4-9363-46a9-b1e9-2671a2510859",
   "metadata": {},
   "outputs": [],
   "source": [
    "x = [1,2,3,4]\n",
    "y = [1,3,2,-1]"
   ]
  },
  {
   "cell_type": "code",
   "execution_count": 240,
   "id": "d03b8a7f-3210-4421-89c9-e5ce734f14f9",
   "metadata": {},
   "outputs": [
    {
     "data": {
      "text/plain": [
       "[<matplotlib.lines.Line2D at 0x772cc5b03c50>]"
      ]
     },
     "execution_count": 240,
     "metadata": {},
     "output_type": "execute_result"
    },
    {
     "data": {
      "image/png": "[encoded data removed]",
      "text/plain": [
       "<Figure size 640x480 with 1 Axes>"
      ]
     },
     "metadata": {},
     "output_type": "display_data"
    }
   ],
   "source": [
    "plt.plot(x,y,'o--')"
   ]
  },
  {
   "cell_type": "markdown",
   "id": "9fe21dc5-7667-4a73-b56c-07c6b4855aa7",
   "metadata": {},
   "source": [
    "`#`"
   ]
  },
  {
   "cell_type": "markdown",
   "id": "2e8fe838-571b-4441-a80c-c93f4b949223",
   "metadata": {},
   "source": [
    "`# 예제3` -- line plot "
   ]
  },
  {
   "cell_type": "code",
   "execution_count": 234,
   "id": "2bfffe87-bc57-440e-b9bf-61f815245bf4",
   "metadata": {},
   "outputs": [],
   "source": [
    "x = [1,2,3,4]\n",
    "y = [1,3,2,-1]"
   ]
  },
  {
   "cell_type": "code",
   "execution_count": 242,
   "id": "c886cbcc-69a9-43b1-8081-aaacf1a11f1e",
   "metadata": {},
   "outputs": [
    {
     "data": {
      "text/plain": [
       "[<matplotlib.lines.Line2D at 0x772cc5b43390>]"
      ]
     },
     "execution_count": 242,
     "metadata": {},
     "output_type": "execute_result"
    },
    {
     "data": {
      "image/png": "[encoded data removed]",
      "text/plain": [
       "<Figure size 640x480 with 1 Axes>"
      ]
     },
     "metadata": {},
     "output_type": "display_data"
    }
   ],
   "source": [
    "plt.plot(x,y)"
   ]
  },
  {
   "cell_type": "code",
   "execution_count": 249,
   "id": "83aa2c08-4a40-4cdf-a023-40d9a8f3d865",
   "metadata": {},
   "outputs": [
    {
     "data": {
      "text/plain": [
       "[<matplotlib.lines.Line2D at 0x772cc5961950>]"
      ]
     },
     "execution_count": 249,
     "metadata": {},
     "output_type": "execute_result"
    },
    {
     "data": {
      "image/png": "[encoded data removed]",
      "text/plain": [
       "<Figure size 640x480 with 1 Axes>"
      ]
     },
     "metadata": {},
     "output_type": "display_data"
    }
   ],
   "source": [
    "plt.plot(x,y,'--')"
   ]
  },
  {
   "cell_type": "markdown",
   "id": "46c87650-24a2-42d5-bb4b-24d561ce2822",
   "metadata": {},
   "source": [
    "`#`"
   ]
  },
  {
   "cell_type": "markdown",
   "id": "4a1296da-7be4-4898-a403-ef8aabcf97be",
   "metadata": {},
   "source": [
    "`# 예제4` -- $-2<x<2$ 에서 $y=x^2$ 그리기 "
   ]
  },
  {
   "cell_type": "code",
   "execution_count": 259,
   "id": "200968b2-5e82-4bc0-93c5-ff120d282db0",
   "metadata": {},
   "outputs": [],
   "source": [
    "x = np.linspace(-2,2,101)\n",
    "y = x**2 "
   ]
  },
  {
   "cell_type": "code",
   "execution_count": 261,
   "id": "efe7068b-9af8-422e-bcc7-577de9a8e30d",
   "metadata": {},
   "outputs": [
    {
     "data": {
      "text/plain": [
       "[<matplotlib.lines.Line2D at 0x772cc5710f50>]"
      ]
     },
     "execution_count": 261,
     "metadata": {},
     "output_type": "execute_result"
    },
    {
     "data": {
      "image/png": "[encoded data removed]",
      "text/plain": [
       "<Figure size 640x480 with 1 Axes>"
      ]
     },
     "metadata": {},
     "output_type": "display_data"
    }
   ],
   "source": [
    "plt.plot(x,y)"
   ]
  },
  {
   "cell_type": "markdown",
   "id": "c63cdb6d-a7a9-4ed3-a220-70a2e81d6aca",
   "metadata": {},
   "source": [
    "`#`"
   ]
  },
  {
   "cell_type": "markdown",
   "id": "88ec711a-269c-4159-82af-8e6a7e64fa11",
   "metadata": {},
   "source": [
    "### B. 겹쳐서 그리기 "
   ]
  },
  {
   "cell_type": "markdown",
   "id": "5f772922-863e-4dd5-870f-65eec5dbc77a",
   "metadata": {},
   "source": [
    "`# 예제1` -- $-5<x<5$ 에서 $\\cos(x), \\sin(x)$  겹쳐서 그리기 "
   ]
  },
  {
   "cell_type": "code",
   "execution_count": 270,
   "id": "edfbfa1c-04a8-45a2-adcb-9459a3e0216c",
   "metadata": {},
   "outputs": [
    {
     "data": {
      "text/plain": [
       "[<matplotlib.lines.Line2D at 0x772cc467ee90>]"
      ]
     },
     "execution_count": 270,
     "metadata": {},
     "output_type": "execute_result"
    },
    {
     "data": {
      "image/png": "[encoded data removed]",
      "text/plain": [
       "<Figure size 640x480 with 1 Axes>"
      ]
     },
     "metadata": {},
     "output_type": "display_data"
    }
   ],
   "source": [
    "x = np.linspace(-5,5,101)\n",
    "plt.plot(x,np.cos(x))\n",
    "plt.plot(x,np.sin(x))"
   ]
  },
  {
   "cell_type": "markdown",
   "id": "a9fa24f8-197a-4709-9854-167a54944f43",
   "metadata": {},
   "source": [
    "`#`"
   ]
  },
  {
   "cell_type": "markdown",
   "id": "5602a66d-f445-4480-a493-c9aad952fa0a",
   "metadata": {},
   "source": [
    "`# 예제2` -- $1<x<3$ 에서 $3^{x-8} = \\big(\\frac{1}{27}\\big)^x$ 의 교점의 수를 구하라. "
   ]
  },
  {
   "cell_type": "code",
   "execution_count": 275,
   "id": "c3b6c181-c379-4bc1-8da7-82a90248a56e",
   "metadata": {},
   "outputs": [
    {
     "data": {
      "text/plain": [
       "[<matplotlib.lines.Line2D at 0x772cc453e0d0>]"
      ]
     },
     "execution_count": 275,
     "metadata": {},
     "output_type": "execute_result"
    },
    {
     "data": {
      "image/png": "[encoded data removed]",
      "text/plain": [
       "<Figure size 640x480 with 1 Axes>"
      ]
     },
     "metadata": {},
     "output_type": "display_data"
    }
   ],
   "source": [
    "x = np.linspace(1,3,101)\n",
    "plt.plot(x, 3**(x-8))\n",
    "plt.plot(x, (1/27)**x)"
   ]
  },
  {
   "cell_type": "markdown",
   "id": "330d724c-7739-4d9e-885d-24f9a2e021ae",
   "metadata": {},
   "source": [
    "교점은 1개임. "
   ]
  },
  {
   "cell_type": "markdown",
   "id": "1a96ef8f-a476-4762-9c35-9cc0a10b21a0",
   "metadata": {},
   "source": [
    "`#`"
   ]
  },
  {
   "cell_type": "markdown",
   "id": "c7f25926-88c1-4c02-8818-443f5c19c309",
   "metadata": {},
   "source": [
    "`# 예제3` -- $5<x<10$ 에서 $3^{x-8} =2$  의 교점의 수를 구하라. "
   ]
  },
  {
   "cell_type": "code",
   "execution_count": 279,
   "id": "b8ffb228-c363-49fb-a0cd-4ec388c5f789",
   "metadata": {},
   "outputs": [
    {
     "data": {
      "text/plain": [
       "[<matplotlib.lines.Line2D at 0x772cc45dbc50>]"
      ]
     },
     "execution_count": 279,
     "metadata": {},
     "output_type": "execute_result"
    },
    {
     "data": {
      "image/png": "[encoded data removed]",
      "text/plain": [
       "<Figure size 640x480 with 1 Axes>"
      ]
     },
     "metadata": {},
     "output_type": "display_data"
    }
   ],
   "source": [
    "x = np.linspace(5,10,101)\n",
    "plt.plot(x, 3**(x-8))\n",
    "plt.plot(x,x*0+2)"
   ]
  },
  {
   "cell_type": "markdown",
   "id": "12609f22-41ab-4795-9efa-07671e11e3fe",
   "metadata": {},
   "source": [
    "교점은 1개 있음"
   ]
  },
  {
   "cell_type": "markdown",
   "id": "9226170c-60af-4668-8d95-c54dd00a43e3",
   "metadata": {},
   "source": [
    "`#`"
   ]
  },
  {
   "cell_type": "markdown",
   "id": "d1444647-8eb5-4ddc-a37b-e14b9257ed3a",
   "metadata": {},
   "source": [
    "## 3. old lecture notes"
   ]
  },
  {
   "cell_type": "markdown",
   "id": "9088e1f4-e810-46e0-87be-e39bdbcc8aea",
   "metadata": {},
   "source": [
    "`-` R입문 (2021)\n",
    "\n",
    "- <https://guebin.github.io/IR2021/>"
   ]
  },
  {
   "cell_type": "markdown",
   "id": "60322465-3a3d-4ddb-97ac-cc92a2e5ac92",
   "metadata": {},
   "source": [
    "`-` Python 입문/프로그래밍 (2022,2023,2024)\n",
    "\n",
    "- <https://guebin.github.io/IP2022/>\n",
    "- <https://guebin.github.io/PP2023/>\n",
    "- <https://guebin.github.io/PP2024/> "
   ]
  }
 ],
 "metadata": {
  "kernelspec": {
   "display_name": "Python 3 (ipykernel)",
   "language": "python",
   "name": "python3"
  },
  "language_info": {
   "codemirror_mode": {
    "name": "ipython",
    "version": 3
   },
   "file_extension": ".py",
   "mimetype": "text/x-python",
   "name": "python",
   "nbconvert_exporter": "python",
   "pygments_lexer": "ipython3",
   "version": "3.13.2"
  }
 },
 "nbformat": 4,
 "nbformat_minor": 5
}
