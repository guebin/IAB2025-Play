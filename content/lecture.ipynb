{
 "cells": [
  {
   "cell_type": "raw",
   "id": "74e1b404-54b4-4ad6-b8a4-8def4cacc482",
   "metadata": {
    "vscode": {
     "languageId": "raw"
    }
   },
   "source": [
    "---\n",
    "title: \"lecture\"\n",
    "author: \"최규빈\"\n",
    "date: \"04/21/2025\"\n",
    "draft: true\n",
    "---"
   ]
  },
  {
   "cell_type": "code",
   "execution_count": 82,
   "id": "7ce5df9d-94f9-4532-83f5-38b1331f45d9",
   "metadata": {},
   "outputs": [],
   "source": [
    "# {{<video https://youtu.be/playlist?list=PLQqh36zP38-xL9_gg11A8st3V9nFualx5&si=WwlBF9TCYEsEg16c>}}"
   ]
  },
  {
   "cell_type": "markdown",
   "id": "a2764888-8cfe-47e4-b9b9-a7f66eac6a3c",
   "metadata": {},
   "source": [
    "## 1. mpg자료 "
   ]
  },
  {
   "cell_type": "code",
   "execution_count": 19,
   "id": "b6f54cf1-77c7-42ce-ba0d-a6e4d299c4f4",
   "metadata": {},
   "outputs": [],
   "source": [
    "library(tidyverse)\n",
    "df = mpg"
   ]
  },
  {
   "cell_type": "markdown",
   "id": "d5cb88bf-6a6e-4b1b-aa28-892b5f4e9f5c",
   "metadata": {},
   "source": [
    "`-` 칼럼이름들 출력 "
   ]
  },
  {
   "cell_type": "code",
   "execution_count": 21,
   "id": "4a0c8d9c-5ee9-472b-8a0e-734607faf487",
   "metadata": {},
   "outputs": [
    {
     "data": {
      "text/plain": [
       " [1] \"manufacturer\" \"model\"        \"displ\"        \"year\"         \"cyl\"         \n",
       " [6] \"trans\"        \"drv\"          \"cty\"          \"hwy\"          \"fl\"          \n",
       "[11] \"class\"       "
      ]
     },
     "metadata": {},
     "output_type": "display_data"
    }
   ],
   "source": [
    "names(df)"
   ]
  },
  {
   "cell_type": "markdown",
   "id": "f114b44a-281f-4faa-99c8-0f769b106398",
   "metadata": {},
   "source": [
    "`-` 칼럼설명 "
   ]
  },
  {
   "cell_type": "markdown",
   "id": "b27b32b7-6060-4981-a2fc-42293b765b72",
   "metadata": {},
   "source": [
    "| 칼럼 이름      | 설명                                           | 예시 값            |\n",
    "|----------------|------------------------------------------------|---------------------|\n",
    "| manufacturer   | 제조사 이름                                     | audi, ford          |\n",
    "| model          | 자동차 모델명                                   | a4, f150 pickup 4wd |\n",
    "| displ          | 배기량 (liters)                                 | 1.8, 5.3            |\n",
    "| year           | 제조 연도                                       | 1999, 2008          |\n",
    "| cyl            | 실린더 수                                       | 4, 6, 8             |\n",
    "| trans          | 변속기 종류 (수동/자동 + 단수)                 | auto(l5), manual(m6)|\n",
    "| drv            | 구동 방식 (f: 전륜, r: 후륜, 4: 사륜)           | f, r, 4             |\n",
    "| cty            | 도심 연비 (miles per gallon)                   | 18, 21              |\n",
    "| hwy            | 고속도로 연비 (miles per gallon)               | 26, 30              |\n",
    "| fl             | 연료 종류 (p: premium, r: regular, e: ethanol) | p, r, e             |\n",
    "| class          | 차량 분류 (차량 유형)                          | suv, compact        |"
   ]
  },
  {
   "cell_type": "markdown",
   "id": "141c41db-5db5-4803-a961-73e649a38dd1",
   "metadata": {},
   "source": [
    "## 2. 시각화 예시 "
   ]
  },
  {
   "cell_type": "markdown",
   "id": "79e390dc-951f-4276-969e-cc15fc5a6332",
   "metadata": {},
   "source": [
    "`#예시1`  \n",
    "\n",
    "- geom_point: `x=displ`, `y=hwy`"
   ]
  },
  {
   "cell_type": "code",
   "execution_count": null,
   "id": "add33511-6e65-4493-8c5f-ff9c990e8dee",
   "metadata": {},
   "outputs": [],
   "source": []
  },
  {
   "cell_type": "code",
   "execution_count": null,
   "id": "79af0013-505a-48e4-b634-b37b5148be03",
   "metadata": {},
   "outputs": [],
   "source": []
  },
  {
   "cell_type": "markdown",
   "id": "bbb30501-7182-46a9-9566-642fc59d9893",
   "metadata": {},
   "source": [
    "`#`"
   ]
  },
  {
   "cell_type": "markdown",
   "id": "721bb9cc-92b3-4a6a-b6c6-3119d96990fc",
   "metadata": {},
   "source": [
    "`# 예시2` \n",
    "\n",
    "- geom_point: `x=displ`, `y=hwy`\n",
    "- geom_line: `x=displ`, `y=hwy`"
   ]
  },
  {
   "cell_type": "code",
   "execution_count": null,
   "id": "27b63a8d-674a-4c28-883d-39a5891eeca3",
   "metadata": {},
   "outputs": [],
   "source": []
  },
  {
   "cell_type": "code",
   "execution_count": null,
   "id": "78e8d103-33f1-4518-918a-33f7211d8661",
   "metadata": {},
   "outputs": [],
   "source": []
  },
  {
   "cell_type": "markdown",
   "id": "0830fea9-d716-4b58-b6e4-e1064529f19d",
   "metadata": {},
   "source": [
    "`#`"
   ]
  },
  {
   "cell_type": "markdown",
   "id": "e5abab2b-be6a-4ff0-8ada-e2331096d2be",
   "metadata": {},
   "source": [
    "`# 예시3` -- \n",
    "\n",
    "- geom_point:  `x=displ`, `y=hwy`\n",
    "- geom_line:  `x=displ`, `y=hwy`\n",
    "- geom_smooth: `x=displ`, `y=hwy`"
   ]
  },
  {
   "cell_type": "code",
   "execution_count": null,
   "id": "ede001d3-3481-47bc-86c8-e973e93e2f96",
   "metadata": {},
   "outputs": [],
   "source": []
  },
  {
   "cell_type": "code",
   "execution_count": null,
   "id": "5f50278f-786f-4cb7-88c9-a2464ca6af12",
   "metadata": {},
   "outputs": [],
   "source": []
  },
  {
   "cell_type": "markdown",
   "id": "f7fa17ee-0f29-4519-99d7-b8110999c43a",
   "metadata": {},
   "source": [
    "`#`"
   ]
  },
  {
   "cell_type": "markdown",
   "id": "33bf90f7-fda2-42e7-ae6c-8956fbca31bd",
   "metadata": {},
   "source": [
    "`# 예시4` \n",
    "\n",
    "- geom_point: `x=displ`, `y=hwy`\n",
    "- geom_smooth: `x=displ`, `y=hwy`"
   ]
  },
  {
   "cell_type": "code",
   "execution_count": null,
   "id": "099f6b71-0c71-4dd4-aa74-95e2ae9c05ad",
   "metadata": {},
   "outputs": [],
   "source": []
  },
  {
   "cell_type": "code",
   "execution_count": null,
   "id": "e369916a-b06d-4d6e-a868-cb72023ac436",
   "metadata": {},
   "outputs": [],
   "source": []
  },
  {
   "cell_type": "markdown",
   "id": "6727fefc-7cd7-43f3-ae18-eb58a1f9c1da",
   "metadata": {},
   "source": [
    "`#`"
   ]
  },
  {
   "cell_type": "markdown",
   "id": "4d885360-8721-47c7-a053-30635192a133",
   "metadata": {},
   "source": [
    "`# 예시5` \n",
    "\n",
    "- geom_point: `x=displ`, `y=hwy`, `color=drv`\n",
    "- geom_smooth: `x=displ`, `y=hwy`"
   ]
  },
  {
   "cell_type": "code",
   "execution_count": null,
   "id": "f454cf6d-2c94-4eab-8834-8418125a5847",
   "metadata": {},
   "outputs": [],
   "source": []
  },
  {
   "cell_type": "code",
   "execution_count": null,
   "id": "e3af9075-6a01-4fe1-93a5-e1dbba74c30e",
   "metadata": {},
   "outputs": [],
   "source": []
  },
  {
   "cell_type": "markdown",
   "id": "b0ec68b6-a7bc-4d39-8f4c-869a8c909a17",
   "metadata": {},
   "source": [
    "`#`"
   ]
  },
  {
   "cell_type": "markdown",
   "id": "0f39b840-ad51-4fc4-a269-a89a65371eb0",
   "metadata": {},
   "source": [
    "`# 예시6` \n",
    "\n",
    "- geom_point: `x=displ`, `y=hwy`, `color=drv`\n",
    "- geom_smooth: `x=displ`, `y=hwy`, `color=drv`"
   ]
  },
  {
   "cell_type": "code",
   "execution_count": null,
   "id": "98802e61-c9b8-4ebc-ba3f-deed8e845f40",
   "metadata": {},
   "outputs": [],
   "source": []
  },
  {
   "cell_type": "code",
   "execution_count": null,
   "id": "deb1686a-3433-4edb-8c32-3cd032df2c56",
   "metadata": {},
   "outputs": [],
   "source": []
  },
  {
   "cell_type": "markdown",
   "id": "b3536c15-82ad-46de-b13d-45dc19cbc6ed",
   "metadata": {},
   "source": [
    "`#`"
   ]
  },
  {
   "cell_type": "markdown",
   "id": "b8c2e6a7-cb40-483f-8e10-98e1b591acf6",
   "metadata": {},
   "source": [
    "`# 예시7` \n",
    "\n",
    "- geom_point: `x=displ`, `y=hwy`, `shape=drv`\n",
    "- geom_smooth: `x=displ`, `y=hwy`, `lty=drv`"
   ]
  },
  {
   "cell_type": "code",
   "execution_count": null,
   "id": "c33c54d9-b2c0-47d6-aea9-260909e2518f",
   "metadata": {},
   "outputs": [],
   "source": []
  },
  {
   "cell_type": "code",
   "execution_count": null,
   "id": "ba658a7a-302b-4605-9095-5d34bd35116b",
   "metadata": {},
   "outputs": [],
   "source": []
  },
  {
   "cell_type": "markdown",
   "id": "a0462b2b-410e-4860-9b4a-2a8b67e3d03a",
   "metadata": {},
   "source": [
    "`#`"
   ]
  },
  {
   "cell_type": "markdown",
   "id": "4427b81a-3299-4bac-b0ef-158c00831416",
   "metadata": {},
   "source": [
    "`# 예시8` \n",
    "\n",
    "- geom_point: `x=displ`, `y=hwy`, `shape=drv`, `manufacturer=color`\n",
    "- geom_smooth: `x=displ`, `y=hwy`, `lty=drv`"
   ]
  },
  {
   "cell_type": "code",
   "execution_count": null,
   "id": "144068d0-b286-4763-8f9e-55554d10fa0a",
   "metadata": {},
   "outputs": [],
   "source": []
  },
  {
   "cell_type": "markdown",
   "id": "e68a4cd5-5e2f-46f7-a3d7-ccd6e233a756",
   "metadata": {},
   "source": [
    "`#`"
   ]
  },
  {
   "cell_type": "markdown",
   "id": "39f32573-4ea9-4ab5-af90-e0e403c766e5",
   "metadata": {},
   "source": [
    "`# 예시9` \n",
    "\n",
    "- geom_point: `x=displ`, `y=hwy`, `color=drv`\n",
    "- geom_smooth: `x=displ`, `y=hwy`, `color=drv`\n",
    "- geom_smooth: `x=displ`, `y=hwy`"
   ]
  },
  {
   "cell_type": "code",
   "execution_count": null,
   "id": "95085e1d-6b25-4375-b69a-217e79649f7f",
   "metadata": {},
   "outputs": [],
   "source": []
  },
  {
   "cell_type": "code",
   "execution_count": null,
   "id": "63691379-63bd-4603-9231-89217f381dce",
   "metadata": {},
   "outputs": [],
   "source": []
  },
  {
   "cell_type": "markdown",
   "id": "c31c98e6-96d1-4b0f-a94c-7a2f32a09e17",
   "metadata": {},
   "source": [
    "`#`"
   ]
  },
  {
   "cell_type": "markdown",
   "id": "0e2fbdf5-9d57-4701-b530-3f102ae61af8",
   "metadata": {},
   "source": [
    "`# 예시10` \n",
    "\n",
    "- geom_point: `x=displ`, `y=hwy`, `color=drv` \n",
    "- geom_smooth: `x=displ`, `y=hwy`, `color=drv` // `lty=2`, `alpha=0.2`\n",
    "- geom_smooth: `x=displ`, `y=hwy` // `color=\"black\"`"
   ]
  },
  {
   "cell_type": "code",
   "execution_count": null,
   "id": "38de5b9c-d121-4efb-bab3-a018b44202d1",
   "metadata": {},
   "outputs": [],
   "source": []
  },
  {
   "cell_type": "code",
   "execution_count": null,
   "id": "fd2dd4e4-cdda-4d73-b051-f43132a62ab2",
   "metadata": {},
   "outputs": [],
   "source": []
  },
  {
   "cell_type": "markdown",
   "id": "fefda278-a4aa-4830-bb96-222028486169",
   "metadata": {},
   "source": [
    "`#`"
   ]
  },
  {
   "cell_type": "markdown",
   "id": "cd3d46f7-0f56-49b8-8ff2-cb5e2a4ab66e",
   "metadata": {},
   "source": [
    "`# 예시11` \n",
    "\n",
    "- geom_point: `x=displ`, `y=hwy`, `color=drv`, `size=cyl` // `alpha=0.2`\n",
    "- geom_smooth: `x=displ`, `y=hwy`, `color=drv` // `lty=2`, `alpha=0.2`\n",
    "- geom_smooth: `x=displ`, `y=hwy` // `color=\"black\"`"
   ]
  },
  {
   "cell_type": "code",
   "execution_count": null,
   "id": "382a1c97-c2a7-479a-a646-5cd2f5a5ff20",
   "metadata": {},
   "outputs": [],
   "source": []
  },
  {
   "cell_type": "code",
   "execution_count": null,
   "id": "e9f68d0e-012b-4314-aa4f-9ca19f572741",
   "metadata": {},
   "outputs": [],
   "source": []
  },
  {
   "cell_type": "markdown",
   "id": "6d6cfba3-01a5-4b91-9c3c-d80801a27f00",
   "metadata": {},
   "source": [
    "`#`"
   ]
  }
 ],
 "metadata": {
  "kernelspec": {
   "display_name": "Python 3 (ipykernel)",
   "language": "python",
   "name": "python3"
  },
  "language_info": {
   "codemirror_mode": {
    "name": "ipython",
    "version": 3
   },
   "file_extension": ".py",
   "mimetype": "text/x-python",
   "name": "python",
   "nbconvert_exporter": "python",
   "pygments_lexer": "ipython3",
   "version": "3.13.2"
  }
 },
 "nbformat": 4,
 "nbformat_minor": 5
}
