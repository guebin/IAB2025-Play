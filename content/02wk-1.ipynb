{
  "cells": [
    {
      "cell_type": "raw",
      "id": "a27a79ab-4e69-4d9c-a5ba-c9bcfb17c870",
      "metadata": {
        "id": "87b5cded-346b-4915-acf5-b5ec93a5207d",
        "vscode": {
          "languageId": "raw"
        }
      },
      "source": [
        "---\n",
        "title: \"02wk-1: 문제풀, Bool 자료형과 조건판단, 벡터인덱싱, 조건문과 반복문 // 숙제\"\n",
        "author: \"최규빈\"\n",
        "date: \"03/11/2025\"\n",
        "draft: false\n",
        "---"
      ]
    },
    {
      "cell_type": "markdown",
      "id": "b246ef00-1711-4c11-8f0f-19f39578e426",
      "metadata": {},
      "source": [
        "## 1. 문제풀이"
      ]
    },
    {
      "cell_type": "markdown",
      "id": "2a960dab-0eb5-4373-86f9-10b38f00220c",
      "metadata": {},
      "source": [
        "**`2024수능-19`.** 함수 $f(x) = \\sin \\frac{\\pi}{4} x$ 할 때, $0 < x < 16$에서 부등식  \n",
        "\n",
        "$$\n",
        "f(2+x) f(2-x) < \\frac{1}{4}\n",
        "$$\n",
        "\n",
        "을 만족시키는 모든 자연수 $x$의 값의 합을 구하시오. **[3점]**"
      ]
    },
    {
      "cell_type": "markdown",
      "id": "5148f623-00e4-4004-a98d-37f6d7b814fe",
      "metadata": {},
      "source": [
        "(풀이1)"
      ]
    },
    {
      "cell_type": "code",
      "execution_count": 19,
      "id": "6743bdc2-c35b-4b7a-9de6-23c99038a541",
      "metadata": {
        "trusted": true,
        "vscode": {
          "languageId": "r"
        }
      },
      "outputs": [],
      "source": [
        "f = function(x){\n",
        "   sin(pi/4 *x) \n",
        "}"
      ]
    },
    {
      "cell_type": "code",
      "execution_count": 20,
      "id": "5b49b2b7-ad04-4b9d-abed-7a36753db35e",
      "metadata": {
        "trusted": true,
        "vscode": {
          "languageId": "r"
        }
      },
      "outputs": [
        {
          "data": {
            "text/plain": [
              "[1] 0.5"
            ]
          },
          "execution_count": 20,
          "metadata": {},
          "output_type": "execute_result"
        }
      ],
      "source": [
        "x=1\n",
        "f(2+x)*f(2-x)"
      ]
    },
    {
      "cell_type": "markdown",
      "id": "990bbe45-1598-41b0-8904-a5fc501fe257",
      "metadata": {},
      "source": [
        "..."
      ]
    },
    {
      "cell_type": "code",
      "execution_count": 21,
      "id": "bb5a875e-fb8e-4d8b-b6fe-9eb646348fe2",
      "metadata": {
        "trusted": true,
        "vscode": {
          "languageId": "r"
        }
      },
      "outputs": [
        {
          "data": {
            "text/plain": [
              "[1] 0.5"
            ]
          },
          "execution_count": 21,
          "metadata": {},
          "output_type": "execute_result"
        }
      ],
      "source": [
        "x=15\n",
        "f(2+x)*f(2-x)"
      ]
    },
    {
      "cell_type": "markdown",
      "id": "32d6e333-b585-49d1-aef6-0a59fc7c8328",
      "metadata": {},
      "source": [
        "(풀이2)"
      ]
    },
    {
      "cell_type": "code",
      "execution_count": 19,
      "id": "9de9d3ae-f050-4ece-a9a1-c7632a5fb288",
      "metadata": {
        "trusted": true,
        "vscode": {
          "languageId": "r"
        }
      },
      "outputs": [],
      "source": [
        "f = function(x){\n",
        "   sin(pi/4 *x) \n",
        "}"
      ]
    },
    {
      "cell_type": "code",
      "execution_count": 34,
      "id": "bd93dc62-534e-4b8b-96f4-ede899847887",
      "metadata": {
        "trusted": true,
        "vscode": {
          "languageId": "r"
        }
      },
      "outputs": [
        {
          "data": {
            "text/plain": [
              " [1]  1  2  3  4  5  6  7  8  9 10 11 12 13 14 15"
            ]
          },
          "execution_count": 34,
          "metadata": {},
          "output_type": "execute_result"
        }
      ],
      "source": [
        "x = 1:15\n",
        "x"
      ]
    },
    {
      "cell_type": "code",
      "execution_count": 36,
      "id": "5b98bea3-3ef2-4ae8-91ca-c2b5aa865e2e",
      "metadata": {
        "trusted": true,
        "vscode": {
          "languageId": "r"
        }
      },
      "outputs": [
        {
          "data": {
            "text/plain": [
              "[1] 1 5 2 3"
            ]
          },
          "execution_count": 36,
          "metadata": {},
          "output_type": "execute_result"
        }
      ],
      "source": [
        "y = c(1,5,2,3)\n",
        "y"
      ]
    },
    {
      "cell_type": "code",
      "execution_count": 35,
      "id": "41a278b8-fa6c-47ef-a4ed-06633b6317af",
      "metadata": {
        "trusted": true,
        "vscode": {
          "languageId": "r"
        }
      },
      "outputs": [
        {
          "data": {
            "text/plain": [
              " [1] FALSE  TRUE FALSE FALSE FALSE  TRUE FALSE FALSE FALSE  TRUE FALSE FALSE\n",
              "[13] FALSE  TRUE FALSE"
            ]
          },
          "execution_count": 35,
          "metadata": {},
          "output_type": "execute_result"
        }
      ],
      "source": [
        "f(2+x) * f(2-x) < 1/4"
      ]
    },
    {
      "cell_type": "code",
      "execution_count": 48,
      "id": "f02741fe-7f17-40b9-8c8f-e4a8991506bc",
      "metadata": {
        "trusted": true,
        "vscode": {
          "languageId": "r"
        }
      },
      "outputs": [
        {
          "data": {
            "text/plain": [
              "[1]  2  6 10 14"
            ]
          },
          "execution_count": 48,
          "metadata": {},
          "output_type": "execute_result"
        }
      ],
      "source": [
        "x[f(2+x) * f(2-x) < 1/4]"
      ]
    },
    {
      "cell_type": "code",
      "execution_count": 49,
      "id": "761792e9-6c82-4edc-a5c2-77fc2ed9cd50",
      "metadata": {
        "trusted": true,
        "vscode": {
          "languageId": "r"
        }
      },
      "outputs": [
        {
          "data": {
            "text/plain": [
              "[1] 32"
            ]
          },
          "execution_count": 49,
          "metadata": {},
          "output_type": "execute_result"
        }
      ],
      "source": [
        "sum(x[f(2+x) * f(2-x) < 1/4])"
      ]
    },
    {
      "cell_type": "markdown",
      "id": "bf764838-a5e0-4f0c-98a5-6e03605792c2",
      "metadata": {},
      "source": [
        "(풀이3)"
      ]
    },
    {
      "cell_type": "code",
      "execution_count": 96,
      "id": "8f08d5c5-52cd-4f08-9a95-517a573938cc",
      "metadata": {
        "trusted": true,
        "vscode": {
          "languageId": "r"
        }
      },
      "outputs": [
        {
          "data": {
            "text/plain": [
              "[1] 32"
            ]
          },
          "execution_count": 96,
          "metadata": {},
          "output_type": "execute_result"
        }
      ],
      "source": [
        "s = 0 \n",
        "for(x in 1:15){\n",
        "    if(f(2+x)*f(2-x) < 1/4){\n",
        "        s = s+x\n",
        "    }\n",
        "}\n",
        "s"
      ]
    },
    {
      "cell_type": "markdown",
      "id": "9099389b-3646-44e6-884a-66e4c2c271cd",
      "metadata": {},
      "source": [
        "## 2. Bool 자료형과 조건판단"
      ]
    },
    {
      "cell_type": "markdown",
      "id": "aa2a197c-aeaa-46b2-9eb5-a32c928156f6",
      "metadata": {},
      "source": [
        "`-` 예시1"
      ]
    },
    {
      "cell_type": "code",
      "execution_count": 97,
      "id": "90411ade-f20a-4750-a60b-add84a2081a7",
      "metadata": {
        "trusted": true,
        "vscode": {
          "languageId": "r"
        }
      },
      "outputs": [
        {
          "data": {
            "text/plain": [
              "[1] FALSE"
            ]
          },
          "execution_count": 97,
          "metadata": {},
          "output_type": "execute_result"
        }
      ],
      "source": [
        "2>3"
      ]
    },
    {
      "cell_type": "markdown",
      "id": "10a1d3cc-afd7-4a74-80f3-0f748c5e5949",
      "metadata": {},
      "source": [
        "`-` 예시2"
      ]
    },
    {
      "cell_type": "code",
      "execution_count": 99,
      "id": "bf0edc54-c7d9-45d2-8bb2-7b707c355b58",
      "metadata": {
        "trusted": true,
        "vscode": {
          "languageId": "r"
        }
      },
      "outputs": [
        {
          "data": {
            "text/plain": [
              "[1] 1 2 3 4 5"
            ]
          },
          "execution_count": 99,
          "metadata": {},
          "output_type": "execute_result"
        }
      ],
      "source": [
        "x = 1:5\n",
        "x"
      ]
    },
    {
      "cell_type": "code",
      "execution_count": 101,
      "id": "db4a44c4-b57d-4ea3-ba27-5dd0e8836f49",
      "metadata": {
        "trusted": true,
        "vscode": {
          "languageId": "r"
        }
      },
      "outputs": [
        {
          "data": {
            "text/plain": [
              "[1] FALSE FALSE FALSE  TRUE  TRUE"
            ]
          },
          "execution_count": 101,
          "metadata": {},
          "output_type": "execute_result"
        }
      ],
      "source": [
        "x>3"
      ]
    },
    {
      "cell_type": "code",
      "execution_count": 102,
      "id": "ed40645d-6096-4913-9737-a9760ad801b5",
      "metadata": {
        "trusted": true,
        "vscode": {
          "languageId": "r"
        }
      },
      "outputs": [
        {
          "data": {
            "text/plain": [
              "[1]  TRUE  TRUE  TRUE  TRUE FALSE"
            ]
          },
          "execution_count": 102,
          "metadata": {},
          "output_type": "execute_result"
        }
      ],
      "source": [
        "x<5"
      ]
    },
    {
      "cell_type": "code",
      "execution_count": 103,
      "id": "080c8169-2f10-454f-af43-8ff7b5cfb068",
      "metadata": {
        "trusted": true,
        "vscode": {
          "languageId": "r"
        }
      },
      "outputs": [
        {
          "data": {
            "text/plain": [
              "[1] FALSE FALSE  TRUE  TRUE  TRUE"
            ]
          },
          "execution_count": 103,
          "metadata": {},
          "output_type": "execute_result"
        }
      ],
      "source": [
        "x>=3"
      ]
    },
    {
      "cell_type": "code",
      "execution_count": 104,
      "id": "5295e55d-2407-42f5-8006-3106682e35cc",
      "metadata": {
        "trusted": true,
        "vscode": {
          "languageId": "r"
        }
      },
      "outputs": [
        {
          "data": {
            "text/plain": [
              "[1] TRUE TRUE TRUE TRUE TRUE"
            ]
          },
          "execution_count": 104,
          "metadata": {},
          "output_type": "execute_result"
        }
      ],
      "source": [
        "x<=5"
      ]
    },
    {
      "cell_type": "code",
      "execution_count": 105,
      "id": "6d5f5749-9028-4900-a2f7-0034ffae68f6",
      "metadata": {
        "trusted": true,
        "vscode": {
          "languageId": "r"
        }
      },
      "outputs": [
        {
          "data": {
            "text/plain": [
              "[1] FALSE FALSE  TRUE FALSE FALSE"
            ]
          },
          "execution_count": 105,
          "metadata": {},
          "output_type": "execute_result"
        }
      ],
      "source": [
        "x==3"
      ]
    },
    {
      "cell_type": "markdown",
      "id": "0304d0a3-e409-4802-a54e-c4355c40be10",
      "metadata": {},
      "source": [
        "## 3. 벡터인덱싱 "
      ]
    },
    {
      "cell_type": "markdown",
      "id": "0321f1b8-04b2-4b38-8a4d-69f04b5e78d9",
      "metadata": {},
      "source": [
        "### A. 번호로 뽑는 방법"
      ]
    },
    {
      "cell_type": "markdown",
      "id": "82dd7c1f-9742-44df-b6d0-026b1aa74686",
      "metadata": {},
      "source": [
        "> 벡터의 원소에 순서대로 번호를 매겨서 뽑는 방식 "
      ]
    },
    {
      "cell_type": "markdown",
      "id": "8ddb9f65-30b1-414e-a50d-16b6c28e90a3",
      "metadata": {},
      "source": [
        "`# 예제1`-- 첫 원소를 뽑고싶다. "
      ]
    },
    {
      "cell_type": "code",
      "execution_count": 107,
      "id": "225963d7-92d9-4d33-8c69-8e4d64e6d45a",
      "metadata": {
        "trusted": true,
        "vscode": {
          "languageId": "r"
        }
      },
      "outputs": [
        {
          "data": {
            "text/plain": [
              "[1]  1  2 -2  4  5 -5  6"
            ]
          },
          "execution_count": 107,
          "metadata": {},
          "output_type": "execute_result"
        }
      ],
      "source": [
        "x<-c(1,2,-2,4,5,-5,6)\n",
        "x"
      ]
    },
    {
      "cell_type": "code",
      "execution_count": 108,
      "id": "71ad5ccf-8c25-4820-98fd-d689b98888bd",
      "metadata": {
        "trusted": true,
        "vscode": {
          "languageId": "r"
        }
      },
      "outputs": [
        {
          "data": {
            "text/plain": [
              "[1] 1"
            ]
          },
          "execution_count": 108,
          "metadata": {},
          "output_type": "execute_result"
        }
      ],
      "source": [
        "x[1]"
      ]
    },
    {
      "cell_type": "markdown",
      "id": "3c94d549-8e02-4d6e-85ab-3a456c355293",
      "metadata": {},
      "source": [
        "`#`"
      ]
    },
    {
      "cell_type": "markdown",
      "id": "1108b621-fa5f-4caa-9c79-50db6a77585a",
      "metadata": {},
      "source": [
        "`# 예제2` -- 세번째 원소를 뽑고싶다. "
      ]
    },
    {
      "cell_type": "code",
      "execution_count": 109,
      "id": "927e5b69-3f95-4fa3-afa7-80b4a942e511",
      "metadata": {
        "trusted": true,
        "vscode": {
          "languageId": "r"
        }
      },
      "outputs": [
        {
          "data": {
            "text/plain": [
              "[1]  1  2 -2  4  5 -5  6"
            ]
          },
          "execution_count": 109,
          "metadata": {},
          "output_type": "execute_result"
        }
      ],
      "source": [
        "x<-c(1,2,-2,4,5,-5,6)\n",
        "x"
      ]
    },
    {
      "cell_type": "code",
      "execution_count": 110,
      "id": "985634a2-979e-4f97-ac48-12d9bcf79e4a",
      "metadata": {
        "trusted": true,
        "vscode": {
          "languageId": "r"
        }
      },
      "outputs": [
        {
          "data": {
            "text/plain": [
              "[1] -2"
            ]
          },
          "execution_count": 110,
          "metadata": {},
          "output_type": "execute_result"
        }
      ],
      "source": [
        "x[3]"
      ]
    },
    {
      "cell_type": "markdown",
      "id": "5de882b7-1048-4234-9957-d8aaa5612167",
      "metadata": {},
      "source": [
        "`#`"
      ]
    },
    {
      "cell_type": "markdown",
      "id": "1dc35f0a-d2e3-488e-b813-59f5b17b7158",
      "metadata": {},
      "source": [
        "`# 예제3` -- 첫번째부터 세번째까지의 원소를 뽑고싶다. "
      ]
    },
    {
      "cell_type": "code",
      "execution_count": 111,
      "id": "8f027599-9a2d-486b-bd65-67a917275329",
      "metadata": {
        "trusted": true,
        "vscode": {
          "languageId": "r"
        }
      },
      "outputs": [
        {
          "data": {
            "text/plain": [
              "[1]  1  2 -2  4  5 -5  6"
            ]
          },
          "execution_count": 111,
          "metadata": {},
          "output_type": "execute_result"
        }
      ],
      "source": [
        "x<-c(1,2,-2,4,5,-5,6)\n",
        "x"
      ]
    },
    {
      "cell_type": "code",
      "execution_count": 119,
      "id": "dbf54330-d66c-4a3a-835b-70ce786e4933",
      "metadata": {
        "trusted": true,
        "vscode": {
          "languageId": "r"
        }
      },
      "outputs": [
        {
          "data": {
            "text/plain": [
              "[1]  1  2 -2"
            ]
          },
          "execution_count": 119,
          "metadata": {},
          "output_type": "execute_result"
        }
      ],
      "source": [
        "x[1:3]"
      ]
    },
    {
      "cell_type": "code",
      "execution_count": 120,
      "id": "e56e9a07-93e9-4cad-bf45-c1da57f9b3a1",
      "metadata": {
        "trusted": true,
        "vscode": {
          "languageId": "r"
        }
      },
      "outputs": [
        {
          "data": {
            "text/plain": [
              "[1]  1  2 -2"
            ]
          },
          "execution_count": 120,
          "metadata": {},
          "output_type": "execute_result"
        }
      ],
      "source": [
        "x[c(1,2,3)]"
      ]
    },
    {
      "cell_type": "markdown",
      "id": "3ea1b27f-cfed-41e5-9bea-9881e1f561dd",
      "metadata": {},
      "source": [
        "`#`"
      ]
    },
    {
      "cell_type": "markdown",
      "id": "b7297a20-bc7f-460f-8ceb-cda77d705374",
      "metadata": {},
      "source": [
        "`# 예제4` -- 2,5,6 번째의 원소를 뽑고싶다면? "
      ]
    },
    {
      "cell_type": "code",
      "execution_count": 122,
      "id": "5b7b7a4a-9858-4c0c-a82e-6f7ea27a1094",
      "metadata": {
        "trusted": true,
        "vscode": {
          "languageId": "r"
        }
      },
      "outputs": [
        {
          "data": {
            "text/plain": [
              "[1]  1  2 -2  4  5 -5  6"
            ]
          },
          "execution_count": 122,
          "metadata": {},
          "output_type": "execute_result"
        }
      ],
      "source": [
        "x<-c(1,2,-2,4,5,-5,6)\n",
        "x"
      ]
    },
    {
      "cell_type": "code",
      "execution_count": 123,
      "id": "dc714293-844f-47a2-b323-032c69fafc01",
      "metadata": {
        "trusted": true,
        "vscode": {
          "languageId": "r"
        }
      },
      "outputs": [
        {
          "data": {
            "text/plain": [
              "[1]  2  5 -5"
            ]
          },
          "execution_count": 123,
          "metadata": {},
          "output_type": "execute_result"
        }
      ],
      "source": [
        "x[c(2,5,6)]"
      ]
    },
    {
      "cell_type": "markdown",
      "id": "9758302e-e9e7-4153-bb0b-9ef9da5cbd6d",
      "metadata": {},
      "source": [
        "`#`"
      ]
    },
    {
      "cell_type": "markdown",
      "id": "e2460d9a-560f-490e-8817-9122b6310353",
      "metadata": {},
      "source": [
        "`# 예제5` -- 3번째 원소를 제외하고 호출 "
      ]
    },
    {
      "cell_type": "code",
      "execution_count": 124,
      "id": "4862f0bb-41f5-4f87-b137-5cf8771b742d",
      "metadata": {
        "trusted": true,
        "vscode": {
          "languageId": "r"
        }
      },
      "outputs": [
        {
          "data": {
            "text/plain": [
              "[1]  1  2 -2  4  5 -5  6"
            ]
          },
          "execution_count": 124,
          "metadata": {},
          "output_type": "execute_result"
        }
      ],
      "source": [
        "x<-c(1,2,-2,4,5,-5,6)\n",
        "x"
      ]
    },
    {
      "cell_type": "code",
      "execution_count": 125,
      "id": "513d22d5-8e6c-47e8-922f-19354705bc2f",
      "metadata": {
        "trusted": true,
        "vscode": {
          "languageId": "r"
        }
      },
      "outputs": [
        {
          "data": {
            "text/plain": [
              "[1]  1  2  4  5 -5  6"
            ]
          },
          "execution_count": 125,
          "metadata": {},
          "output_type": "execute_result"
        }
      ],
      "source": [
        "x[c(1,2,4,5,6,7)]"
      ]
    },
    {
      "cell_type": "code",
      "execution_count": 127,
      "id": "c081ccf6-3d15-496d-abd2-027fc31b3fce",
      "metadata": {
        "trusted": true,
        "vscode": {
          "languageId": "r"
        }
      },
      "outputs": [
        {
          "data": {
            "text/plain": [
              "[1]  1  2  4  5 -5  6"
            ]
          },
          "execution_count": 127,
          "metadata": {},
          "output_type": "execute_result"
        }
      ],
      "source": [
        "x[-3]"
      ]
    },
    {
      "cell_type": "markdown",
      "id": "abec1fba-077c-45c2-91df-d21a3a89b512",
      "metadata": {},
      "source": [
        "`# 예제6` -- 3,4번째의 원소를 제외하고 호출 "
      ]
    },
    {
      "cell_type": "code",
      "execution_count": 135,
      "id": "66d1af5f-5695-4777-899a-d7938ee6141a",
      "metadata": {
        "trusted": true,
        "vscode": {
          "languageId": "r"
        }
      },
      "outputs": [
        {
          "data": {
            "text/plain": [
              "[1]  1  2  5 -5  6"
            ]
          },
          "execution_count": 135,
          "metadata": {},
          "output_type": "execute_result"
        }
      ],
      "source": [
        "x[c(-3,-4)]"
      ]
    },
    {
      "cell_type": "code",
      "execution_count": 136,
      "id": "99a0bf08-688a-47a7-bfdb-f70384a76e5d",
      "metadata": {
        "trusted": true,
        "vscode": {
          "languageId": "r"
        }
      },
      "outputs": [
        {
          "data": {
            "text/plain": [
              "[1]  1  2  5 -5  6"
            ]
          },
          "execution_count": 136,
          "metadata": {},
          "output_type": "execute_result"
        }
      ],
      "source": [
        "x[-(3:4)]"
      ]
    },
    {
      "cell_type": "markdown",
      "id": "c4edf704-b4bc-4e89-afa4-7b1fd88d9223",
      "metadata": {},
      "source": [
        "### B. 조건으로 뽑는 방법 "
      ]
    },
    {
      "cell_type": "markdown",
      "id": "f3c33a5f-e043-48de-8381-4e8c3585161d",
      "metadata": {},
      "source": [
        "> 어떠한 조건을 주고, 그 조건에 만족하는 원소 (혹은 만족하지 않는 원소)를 뽑는 방식"
      ]
    },
    {
      "cell_type": "markdown",
      "id": "6a51b777-12cc-40f5-925f-2205ac50311b",
      "metadata": {},
      "source": [
        "`# 예제1` -- 양수의 원소를 뽑는다. "
      ]
    },
    {
      "cell_type": "code",
      "execution_count": 137,
      "id": "192f8b37-c6a1-49e3-8d09-dbfa4a4cf17d",
      "metadata": {
        "trusted": true,
        "vscode": {
          "languageId": "r"
        }
      },
      "outputs": [
        {
          "data": {
            "text/plain": [
              "[1]  1  2 -2  4  5 -5  6"
            ]
          },
          "execution_count": 137,
          "metadata": {},
          "output_type": "execute_result"
        }
      ],
      "source": [
        "x<-c(1,2,-2,4,5,-5,6)\n",
        "x"
      ]
    },
    {
      "cell_type": "code",
      "execution_count": 141,
      "id": "2e8ef2a0-644f-455c-8699-ba790b497da2",
      "metadata": {
        "trusted": true,
        "vscode": {
          "languageId": "r"
        }
      },
      "outputs": [
        {
          "data": {
            "text/plain": [
              "[1]  TRUE  TRUE FALSE  TRUE  TRUE FALSE  TRUE"
            ]
          },
          "execution_count": 141,
          "metadata": {},
          "output_type": "execute_result"
        }
      ],
      "source": [
        "x>0"
      ]
    },
    {
      "cell_type": "code",
      "execution_count": 142,
      "id": "8612821f-b2fa-4ce7-b3df-ed75f55bd8c7",
      "metadata": {
        "trusted": true,
        "vscode": {
          "languageId": "r"
        }
      },
      "outputs": [
        {
          "data": {
            "text/plain": [
              "[1] 1 2 4 5 6"
            ]
          },
          "execution_count": 142,
          "metadata": {},
          "output_type": "execute_result"
        }
      ],
      "source": [
        "x[x>0]"
      ]
    },
    {
      "cell_type": "markdown",
      "id": "cd9eda2e-06e2-4bed-ab59-1cbfd2079fe5",
      "metadata": {},
      "source": [
        "`#`"
      ]
    },
    {
      "cell_type": "markdown",
      "id": "609b3db0-b78a-40bf-b73f-6a3f9b1f0af6",
      "metadata": {},
      "source": [
        "`# 예제2` -- 3보다 큰 원소를 뽑는 방법"
      ]
    },
    {
      "cell_type": "code",
      "execution_count": 143,
      "id": "3c08cb91-ef0c-4b91-87d0-ae4222f51594",
      "metadata": {
        "trusted": true,
        "vscode": {
          "languageId": "r"
        }
      },
      "outputs": [
        {
          "data": {
            "text/plain": [
              "[1]  1  2 -2  4  5 -5  6"
            ]
          },
          "execution_count": 143,
          "metadata": {},
          "output_type": "execute_result"
        }
      ],
      "source": [
        "x<-c(1,2,-2,4,5,-5,6)\n",
        "x"
      ]
    },
    {
      "cell_type": "code",
      "execution_count": 149,
      "id": "236dc6b4-6904-48f8-865e-a2d94b6fa98b",
      "metadata": {
        "trusted": true,
        "vscode": {
          "languageId": "r"
        }
      },
      "outputs": [
        {
          "data": {
            "text/plain": [
              "[1] 4 5 6"
            ]
          },
          "execution_count": 149,
          "metadata": {},
          "output_type": "execute_result"
        }
      ],
      "source": [
        "x[x>3]"
      ]
    },
    {
      "cell_type": "markdown",
      "id": "9369b587-6a1a-4ca0-b362-a2bae83bae6c",
      "metadata": {},
      "source": [
        "`#`"
      ]
    },
    {
      "cell_type": "markdown",
      "id": "02fb07e8-9cc5-4b5c-ba00-e48ab3a0c5cc",
      "metadata": {},
      "source": [
        "`# 예제3` -- 3번째 원소를 뽑는방법"
      ]
    },
    {
      "cell_type": "code",
      "execution_count": 150,
      "id": "2a3ffc52-01d4-4d34-a2f2-b3dcc6d9d656",
      "metadata": {
        "trusted": true,
        "vscode": {
          "languageId": "r"
        }
      },
      "outputs": [
        {
          "data": {
            "text/plain": [
              "[1]  1  2 -2  4  5 -5  6"
            ]
          },
          "execution_count": 150,
          "metadata": {},
          "output_type": "execute_result"
        }
      ],
      "source": [
        "x<-c(1,2,-2,4,5,-5,6)\n",
        "x"
      ]
    },
    {
      "cell_type": "code",
      "execution_count": 152,
      "id": "56e7d374-e7d6-4ebf-b354-5ebc5263f7fa",
      "metadata": {
        "trusted": true,
        "vscode": {
          "languageId": "r"
        }
      },
      "outputs": [
        {
          "data": {
            "text/plain": [
              "[1] FALSE FALSE  TRUE FALSE FALSE FALSE FALSE"
            ]
          },
          "execution_count": 152,
          "metadata": {},
          "output_type": "execute_result"
        }
      ],
      "source": [
        "arr = c(FALSE, FALSE, TRUE, FALSE, FALSE, FALSE, FALSE)\n",
        "arr"
      ]
    },
    {
      "cell_type": "code",
      "execution_count": 153,
      "id": "a657150e-2e09-4ff6-ba21-5745cc49d464",
      "metadata": {
        "trusted": true,
        "vscode": {
          "languageId": "r"
        }
      },
      "outputs": [
        {
          "data": {
            "text/plain": [
              "[1] -2"
            ]
          },
          "execution_count": 153,
          "metadata": {},
          "output_type": "execute_result"
        }
      ],
      "source": [
        "x[arr]"
      ]
    },
    {
      "cell_type": "markdown",
      "id": "2c916f8a-0c2a-492e-aa8c-923d7e420fed",
      "metadata": {},
      "source": [
        "`#`"
      ]
    },
    {
      "cell_type": "markdown",
      "id": "34d4c685-d534-4d42-ab95-18b71f716d48",
      "metadata": {},
      "source": [
        "`# 예제4` -- 값이 -2인 원소를 뽑아라. "
      ]
    },
    {
      "cell_type": "code",
      "execution_count": 154,
      "id": "c8084914-277b-4122-994b-6c3add9afdfb",
      "metadata": {
        "trusted": true,
        "vscode": {
          "languageId": "r"
        }
      },
      "outputs": [
        {
          "data": {
            "text/plain": [
              "[1]  1  2 -2  4  5 -5  6"
            ]
          },
          "execution_count": 154,
          "metadata": {},
          "output_type": "execute_result"
        }
      ],
      "source": [
        "x<-c(1,2,-2,4,5,-5,6)\n",
        "x"
      ]
    },
    {
      "cell_type": "code",
      "execution_count": 157,
      "id": "30c86d57-6f7e-4d77-9f06-8b8c88187b94",
      "metadata": {
        "trusted": true,
        "vscode": {
          "languageId": "r"
        }
      },
      "outputs": [
        {
          "data": {
            "text/plain": [
              "[1] -2"
            ]
          },
          "execution_count": 157,
          "metadata": {},
          "output_type": "execute_result"
        }
      ],
      "source": [
        "x[x == -2]"
      ]
    },
    {
      "cell_type": "markdown",
      "id": "ccdc6483-c681-446e-8ac3-3f4e33b0da02",
      "metadata": {},
      "source": [
        "`#` "
      ]
    },
    {
      "cell_type": "markdown",
      "id": "49a0c423-2680-49cf-8370-e16856c3e26a",
      "metadata": {},
      "source": [
        "`# 예제5` -- 값이 -1.5와 가장 가까운 원소를 뽑아라. "
      ]
    },
    {
      "cell_type": "code",
      "execution_count": 162,
      "id": "30b4f079-5ac7-4de8-a2a1-c50ec415bffd",
      "metadata": {
        "trusted": true,
        "vscode": {
          "languageId": "r"
        }
      },
      "outputs": [
        {
          "data": {
            "text/plain": [
              "[1]  2.5  3.5 -0.5  5.5  6.5 -3.5  7.5"
            ]
          },
          "execution_count": 162,
          "metadata": {},
          "output_type": "execute_result"
        }
      ],
      "source": [
        "x - (-1.5)"
      ]
    },
    {
      "cell_type": "code",
      "execution_count": 163,
      "id": "e4777284-0e34-49b9-9ff4-12eac8cd0e15",
      "metadata": {
        "trusted": true,
        "vscode": {
          "languageId": "r"
        }
      },
      "outputs": [
        {
          "data": {
            "text/plain": [
              "[1] 2.5 3.5 0.5 5.5 6.5 3.5 7.5"
            ]
          },
          "execution_count": 163,
          "metadata": {},
          "output_type": "execute_result"
        }
      ],
      "source": [
        "abs(x - (-1.5))"
      ]
    },
    {
      "cell_type": "code",
      "execution_count": 164,
      "id": "3820cd95-18a7-4bf9-8224-54ba4163c6ea",
      "metadata": {
        "trusted": true,
        "vscode": {
          "languageId": "r"
        }
      },
      "outputs": [
        {
          "data": {
            "text/plain": [
              "[1] 0.5"
            ]
          },
          "execution_count": 164,
          "metadata": {},
          "output_type": "execute_result"
        }
      ],
      "source": [
        "min(abs(x - (-1.5)))"
      ]
    },
    {
      "cell_type": "code",
      "execution_count": 167,
      "id": "370fe93b-7619-4ace-aec7-e516983b52a5",
      "metadata": {
        "trusted": true,
        "vscode": {
          "languageId": "r"
        }
      },
      "outputs": [
        {
          "data": {
            "text/plain": [
              "[1] FALSE FALSE  TRUE FALSE FALSE FALSE FALSE"
            ]
          },
          "execution_count": 167,
          "metadata": {},
          "output_type": "execute_result"
        }
      ],
      "source": [
        "abs(x - (-1.5)) == min(abs(x - (-1.5)))"
      ]
    },
    {
      "cell_type": "code",
      "execution_count": 169,
      "id": "896cb3e1-2eca-434c-a6b7-0a51b8667ff1",
      "metadata": {
        "trusted": true,
        "vscode": {
          "languageId": "r"
        }
      },
      "outputs": [
        {
          "data": {
            "text/plain": [
              "[1] -2"
            ]
          },
          "execution_count": 169,
          "metadata": {},
          "output_type": "execute_result"
        }
      ],
      "source": [
        "x[abs(x - (-1.5)) == min(abs(x - (-1.5)))]"
      ]
    },
    {
      "cell_type": "markdown",
      "id": "ff5603ef-cdf9-4bde-8835-b5d2beaaae7c",
      "metadata": {},
      "source": [
        "`#` "
      ]
    },
    {
      "cell_type": "markdown",
      "id": "bb0ed14d-7594-4a19-b115-c7b90ebba77c",
      "metadata": {},
      "source": [
        "`# 예제6` -- 값이 0.5와 가장 가까운 원소를 뽑아라."
      ]
    },
    {
      "cell_type": "code",
      "execution_count": 180,
      "id": "7955ea93-88cd-413c-b200-4d9fbe96750b",
      "metadata": {
        "trusted": true,
        "vscode": {
          "languageId": "r"
        }
      },
      "outputs": [
        {
          "data": {
            "text/plain": [
              "  [1] -0.311304729  0.196110860 -0.191987399  0.632793486  0.407982410\n",
              "  [6]  0.864718044 -0.352966617 -1.406632984  0.930323376 -0.211177345\n",
              " [11]  0.174489842 -1.038388188 -1.130694552  0.162414718  0.857153460\n",
              " [16]  0.405123384  0.026784113 -1.026959835 -0.462168583 -0.375374318\n",
              " [21]  1.591985359 -0.064623494  0.478029165 -0.045583822  2.478326033\n",
              " [26]  0.331902286  0.499881633  0.119367202  0.007451714  0.725801470\n",
              " [31]  0.656933182  0.073287602 -1.415772205 -0.477024858  1.221302265\n",
              " [36] -0.398021993  0.546331883 -0.324018146  0.330657882 -0.360152774\n",
              " [41]  1.331364124 -0.672527606 -0.437897514  1.105811374 -0.232983468\n",
              " [46]  0.793021899 -0.618798438 -0.654156632  1.826482099 -0.409432487\n",
              " [51]  1.081860665  0.657260779  0.338851369  0.051188750  0.133293222\n",
              " [56] -2.143363730 -0.932413327  1.259017917  0.560828441  0.549731458\n",
              " [61]  0.374222028  1.212201517 -0.766937380  0.738233964 -0.213323397\n",
              " [66]  0.449868009  0.834543548  1.008085221 -1.548439118 -0.162223345\n",
              " [71] -0.294176392 -2.081089322  0.744885524  0.859101047  0.325550519\n",
              " [76] -0.504631524 -0.053201153 -2.081642005  0.063341785 -0.032805806\n",
              " [81]  0.890016964 -2.011684049  0.615605307  0.611636798 -1.394488649\n",
              " [86] -0.665951804 -0.638994227  1.245491526  1.603119132 -1.859557340\n",
              " [91] -1.349329167 -0.168900117  1.378241904 -0.663119091  0.016505925\n",
              " [96] -0.808047477 -0.008849918 -1.174490950 -0.385805036  0.008856681"
            ]
          },
          "execution_count": 180,
          "metadata": {},
          "output_type": "execute_result"
        }
      ],
      "source": [
        "x = rnorm(100)\n",
        "x"
      ]
    },
    {
      "cell_type": "code",
      "execution_count": 185,
      "id": "29be426e-afce-4b62-83f2-c5ec66d52045",
      "metadata": {
        "trusted": true,
        "vscode": {
          "languageId": "r"
        }
      },
      "outputs": [
        {
          "data": {
            "text/plain": [
              "[1] 0.4998816"
            ]
          },
          "execution_count": 185,
          "metadata": {},
          "output_type": "execute_result"
        }
      ],
      "source": [
        "x[abs(x - 0.5) == min(abs(x - 0.5))]"
      ]
    },
    {
      "cell_type": "markdown",
      "id": "2d2abb7e-c7a6-4084-8c40-9bc9b4617d5b",
      "metadata": {},
      "source": [
        "`#`"
      ]
    },
    {
      "cell_type": "markdown",
      "id": "17b48955-b899-46d7-85fb-2cb606c1d782",
      "metadata": {},
      "source": [
        "## 4. 조건문과 반복문 "
      ]
    },
    {
      "cell_type": "markdown",
      "id": "fe93fd24-ab08-4157-875d-040f263c384a",
      "metadata": {},
      "source": [
        "### A. 조건문 "
      ]
    },
    {
      "cell_type": "markdown",
      "id": "490b92ff-1b9d-48fe-bcbc-2a9062e37c17",
      "metadata": {},
      "source": [
        "`-` 예시1"
      ]
    },
    {
      "cell_type": "code",
      "execution_count": 189,
      "id": "6268425d-7b0e-431e-afff-3af6ec9fafdd",
      "metadata": {
        "trusted": true,
        "vscode": {
          "languageId": "r"
        }
      },
      "outputs": [
        {
          "name": "stdout",
          "output_type": "stream",
          "text": [
            "[1] \"음수\"\n"
          ]
        }
      ],
      "source": [
        "x = -3\n",
        "if(x>0){\n",
        "    print(\"양수\")\n",
        "}else if(x<0){\n",
        "    print(\"음수\")\n",
        "}else{\n",
        "    print(\"0\")\n",
        "}"
      ]
    },
    {
      "cell_type": "markdown",
      "id": "1e3c4275-e58f-4e8a-aae3-d4ae8c4ad038",
      "metadata": {},
      "source": [
        "```R\n",
        "x = 0  \n",
        "만약, x>0 이면, \n",
        "    print(\"양수\")\n",
        "그렇지않고, 만약 x<0 이면,\n",
        "    print(\"음수\")\n",
        "그외의 모든 경우는\n",
        "    print(\"0\") \n",
        "```"
      ]
    },
    {
      "cell_type": "markdown",
      "id": "72ca6d98-07b3-4e11-9192-05fcd389c6bf",
      "metadata": {},
      "source": [
        "### B. 반복문 "
      ]
    },
    {
      "cell_type": "markdown",
      "id": "df3c023c-39e5-4e9d-84e9-104093ed715f",
      "metadata": {},
      "source": [
        "`-` 예시1"
      ]
    },
    {
      "cell_type": "code",
      "execution_count": 194,
      "id": "c90e586b-1c8f-44cc-a45b-55b6d6cf7b62",
      "metadata": {
        "trusted": true,
        "vscode": {
          "languageId": "r"
        }
      },
      "outputs": [
        {
          "name": "stdout",
          "output_type": "stream",
          "text": [
            "[1] 1\n",
            "[1] 2\n",
            "[1] 3\n",
            "[1] 4\n",
            "[1] 5\n",
            "[1] 6\n",
            "[1] 7\n",
            "[1] 8\n",
            "[1] 9\n",
            "[1] 10\n"
          ]
        }
      ],
      "source": [
        "for(x in 1:10){\n",
        "    print(x)\n",
        "}"
      ]
    },
    {
      "cell_type": "markdown",
      "id": "ab909872-305a-49f1-a3fc-70fdf08ceebe",
      "metadata": {},
      "source": [
        "`-` 예시2"
      ]
    },
    {
      "cell_type": "code",
      "execution_count": 195,
      "id": "8e9bb06b-b407-4d8e-8822-e1bab5b63c4b",
      "metadata": {
        "trusted": true,
        "vscode": {
          "languageId": "r"
        }
      },
      "outputs": [
        {
          "name": "stdout",
          "output_type": "stream",
          "text": [
            "[1] 1\n",
            "[1] 4\n",
            "[1] 9\n",
            "[1] 16\n",
            "[1] 25\n",
            "[1] 36\n",
            "[1] 49\n",
            "[1] 64\n",
            "[1] 81\n",
            "[1] 100\n"
          ]
        }
      ],
      "source": [
        "for(x in 1:10){\n",
        "    print(x^2)\n",
        "}"
      ]
    },
    {
      "cell_type": "markdown",
      "id": "a48a249c-5ecf-48fa-9f02-80826b319031",
      "metadata": {},
      "source": [
        "`-` 예시3 -- $1,4,9,\\dots,100$ 에서 $20$보다 크고 $80$보다 작은 수를 출력 "
      ]
    },
    {
      "cell_type": "code",
      "execution_count": 215,
      "id": "6ed57849-24b7-4311-9a4b-7ff732a53ce3",
      "metadata": {
        "trusted": true,
        "vscode": {
          "languageId": "r"
        }
      },
      "outputs": [
        {
          "name": "stdout",
          "output_type": "stream",
          "text": [
            "[1] 25\n",
            "[1] 36\n",
            "[1] 49\n",
            "[1] 64\n"
          ]
        }
      ],
      "source": [
        "for(x in 1:10){\n",
        "    if( (x^2>20)*(x^2<80) ){\n",
        "        print(x^2)\n",
        "    }\n",
        "}"
      ]
    },
    {
      "cell_type": "markdown",
      "id": "a8423e8a-4789-44a3-83a7-c91e1ef522cf",
      "metadata": {},
      "source": [
        "## 5. 숙제"
      ]
    },
    {
      "cell_type": "markdown",
      "id": "41d02ed9-a2d9-41ae-b8ec-e388cc4e47f4",
      "metadata": {},
      "source": [
        "`1`. 아래와 같은 벡터 `x` 를 선언하였다고 하자. "
      ]
    },
    {
      "cell_type": "code",
      "execution_count": 229,
      "id": "c2a256ac-1dfd-453a-ba5b-cf5da5c51aa4",
      "metadata": {
        "trusted": true,
        "vscode": {
          "languageId": "r"
        }
      },
      "outputs": [
        {
          "data": {
            "text/plain": [
              " [1]  0.4553673 -0.7687380  1.1783003  0.4023584 -0.4353551  0.1719379\n",
              " [7]  0.7200204 -2.3899837  1.6949456 -0.3216081"
            ]
          },
          "execution_count": 229,
          "metadata": {},
          "output_type": "execute_result"
        }
      ],
      "source": [
        "set.seed(43053)\n",
        "x = rnorm(10)\n",
        "x"
      ]
    },
    {
      "cell_type": "markdown",
      "id": "9bbd0de4-1d39-4f1f-8624-03c9b2f8c2c5",
      "metadata": {},
      "source": [
        "값이 -0.1 보다 크고 0.5 보다 작은 원소들의 합을 구하여라. "
      ]
    },
    {
      "cell_type": "markdown",
      "id": "9ca4c9dd-e25a-429a-b8b2-31e77bd934a6",
      "metadata": {},
      "source": [
        "`2`. `for`를 이용하여 1부터 100까지 더하는 코드를 작성하여라. "
      ]
    }
  ],
  "metadata": {
    "kernelspec": {
      "display_name": "R (webR)",
      "language": "R",
      "name": "webR"
    },
    "language_info": {
      "file_extension": ".R",
      "mimetype": "text/x-rsrc",
      "name": "R",
      "version": "4.3.3"
    }
  },
  "nbformat": 4,
  "nbformat_minor": 5
}
