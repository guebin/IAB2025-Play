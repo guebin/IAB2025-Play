{
 "cells": [
  {
   "cell_type": "raw",
   "id": "a27a79ab-4e69-4d9c-a5ba-c9bcfb17c870",
   "metadata": {
    "id": "87b5cded-346b-4915-acf5-b5ec93a5207d"
   },
   "source": [
    "---\n",
    "title: \"02wk-1: 문제풀이 I, Bool 자료형과 조건판단, 벡터인덱싱, 조건문과 반복문, 문제풀이 II\"\n",
    "author: \"최규빈\"\n",
    "date: \"03/11/2025\"\n",
    "draft: false\n",
    "---"
   ]
  },
  {
   "cell_type": "markdown",
   "id": "b246ef00-1711-4c11-8f0f-19f39578e426",
   "metadata": {},
   "source": [
    "## 1. 문제풀이 I"
   ]
  },
  {
   "cell_type": "markdown",
   "id": "2a960dab-0eb5-4373-86f9-10b38f00220c",
   "metadata": {},
   "source": [
    "**`2024수능-19`.** 함수 $f(x) = \\sin \\frac{\\pi}{4} x$ 할 때, $0 < x < 16$에서 부등식  \n",
    "\n",
    "$$\n",
    "f(2+x) f(2-x) < \\frac{1}{4}\n",
    "$$\n",
    "\n",
    "을 만족시키는 모든 자연수 $x$의 값의 합을 구하시오. **[3점]**"
   ]
  },
  {
   "cell_type": "markdown",
   "id": "5148f623-00e4-4004-a98d-37f6d7b814fe",
   "metadata": {},
   "source": [
    "(풀이1)"
   ]
  },
  {
   "cell_type": "code",
   "execution_count": 1,
   "id": "2084602d-ff09-4e1d-8a20-28165912dbf2",
   "metadata": {},
   "outputs": [
    {
     "data": {
      "text/html": [
       "0.5"
      ],
      "text/latex": [
       "0.5"
      ],
      "text/markdown": [
       "0.5"
      ],
      "text/plain": [
       "[1] 0.5"
      ]
     },
     "metadata": {},
     "output_type": "display_data"
    }
   ],
   "source": [
    "x=1\n",
    "sin(pi/4*(2+x)) * sin(pi/4*(2-x))"
   ]
  },
  {
   "cell_type": "markdown",
   "id": "9696a592-5516-4e4c-a930-818fcd2ee93e",
   "metadata": {},
   "source": [
    "..."
   ]
  },
  {
   "cell_type": "code",
   "execution_count": 31,
   "id": "0a5012b9-cc3d-4c15-9a6d-adb4f40d325e",
   "metadata": {},
   "outputs": [
    {
     "data": {
      "text/html": [
       "0.5"
      ],
      "text/latex": [
       "0.5"
      ],
      "text/markdown": [
       "0.5"
      ],
      "text/plain": [
       "[1] 0.5"
      ]
     },
     "metadata": {},
     "output_type": "display_data"
    }
   ],
   "source": [
    "x=15\n",
    "sin(pi/4*(2+x)) * sin(pi/4*(2-x))"
   ]
  },
  {
   "cell_type": "markdown",
   "id": "32d6e333-b585-49d1-aef6-0a59fc7c8328",
   "metadata": {},
   "source": [
    "(풀이2)"
   ]
  },
  {
   "cell_type": "code",
   "execution_count": 33,
   "id": "3f87ddae-c044-492c-87bc-fbac1fb74610",
   "metadata": {},
   "outputs": [],
   "source": [
    "x = 1:15"
   ]
  },
  {
   "cell_type": "code",
   "execution_count": 34,
   "id": "952d57c2-2fae-4c93-9f75-ed711ec06d45",
   "metadata": {},
   "outputs": [],
   "source": [
    "f = function(x){\n",
    "    sin(pi/4*x)\n",
    "}"
   ]
  },
  {
   "cell_type": "code",
   "execution_count": 35,
   "id": "14475fc3-db64-4e83-b0ea-79abf114791c",
   "metadata": {},
   "outputs": [
    {
     "data": {
      "text/html": [
       "<style>\n",
       ".list-inline {list-style: none; margin:0; padding: 0}\n",
       ".list-inline>li {display: inline-block}\n",
       ".list-inline>li:not(:last-child)::after {content: \"\\00b7\"; padding: 0 .5ex}\n",
       "</style>\n",
       "<ol class=list-inline><li>2</li><li>6</li><li>10</li><li>14</li></ol>\n"
      ],
      "text/latex": [
       "\\begin{enumerate*}\n",
       "\\item 2\n",
       "\\item 6\n",
       "\\item 10\n",
       "\\item 14\n",
       "\\end{enumerate*}\n"
      ],
      "text/markdown": [
       "1. 2\n",
       "2. 6\n",
       "3. 10\n",
       "4. 14\n",
       "\n",
       "\n"
      ],
      "text/plain": [
       "[1]  2  6 10 14"
      ]
     },
     "metadata": {},
     "output_type": "display_data"
    }
   ],
   "source": [
    "x[f(2+x)*f(2-x) < 1/4]"
   ]
  },
  {
   "cell_type": "code",
   "execution_count": 36,
   "id": "008b67fa-446b-4b6c-b695-4b836d34d37b",
   "metadata": {},
   "outputs": [
    {
     "data": {
      "text/html": [
       "32"
      ],
      "text/latex": [
       "32"
      ],
      "text/markdown": [
       "32"
      ],
      "text/plain": [
       "[1] 32"
      ]
     },
     "metadata": {},
     "output_type": "display_data"
    }
   ],
   "source": [
    "sum(x[f(2+x)*f(2-x) < 1/4])"
   ]
  },
  {
   "cell_type": "markdown",
   "id": "bf764838-a5e0-4f0c-98a5-6e03605792c2",
   "metadata": {},
   "source": [
    "(풀이3)"
   ]
  },
  {
   "cell_type": "code",
   "execution_count": 106,
   "id": "886d970b-e110-4649-a109-513a7a42f7c3",
   "metadata": {},
   "outputs": [
    {
     "name": "stdout",
     "output_type": "stream",
     "text": [
      "[1] 0.5\n",
      "[1] 0\n",
      "[1] 0.5\n",
      "[1] 1\n",
      "[1] 0.5\n",
      "[1] 2.99952e-32\n",
      "[1] 0.5\n",
      "[1] 1\n",
      "[1] 0.5\n",
      "[1] 8.998559e-32\n",
      "[1] 0.5\n",
      "[1] 1\n",
      "[1] 0.5\n",
      "[1] 1.799712e-31\n",
      "[1] 0.5\n"
     ]
    }
   ],
   "source": [
    "s = 0 \n",
    "for(x in 1:15){\n",
    "    print(f(2+x)*f(2-x))\n",
    "}"
   ]
  },
  {
   "cell_type": "code",
   "execution_count": 105,
   "id": "8ae7aeb9-abad-4a81-b037-80e65c4e00c3",
   "metadata": {},
   "outputs": [
    {
     "name": "stdout",
     "output_type": "stream",
     "text": [
      "[1] FALSE\n",
      "[1] TRUE\n",
      "[1] FALSE\n",
      "[1] FALSE\n",
      "[1] FALSE\n",
      "[1] TRUE\n",
      "[1] FALSE\n",
      "[1] FALSE\n",
      "[1] FALSE\n",
      "[1] TRUE\n",
      "[1] FALSE\n",
      "[1] FALSE\n",
      "[1] FALSE\n",
      "[1] TRUE\n",
      "[1] FALSE\n"
     ]
    }
   ],
   "source": [
    "s = 0 \n",
    "for(x in 1:15){\n",
    "    print(f(2+x)*f(2-x) < 1/4)\n",
    "}"
   ]
  },
  {
   "cell_type": "code",
   "execution_count": 108,
   "id": "5a9c4c69-fb22-4e96-91eb-f41e846b1348",
   "metadata": {},
   "outputs": [
    {
     "name": "stdout",
     "output_type": "stream",
     "text": [
      "[1] 2\n",
      "[1] 6\n",
      "[1] 10\n",
      "[1] 14\n"
     ]
    }
   ],
   "source": [
    "s = 0 \n",
    "for(x in 1:15){\n",
    "    if(f(2+x)*f(2-x) < 1/4){\n",
    "        print(x)\n",
    "    }\n",
    "}"
   ]
  },
  {
   "cell_type": "code",
   "execution_count": 110,
   "id": "8f08d5c5-52cd-4f08-9a95-517a573938cc",
   "metadata": {},
   "outputs": [
    {
     "data": {
      "text/html": [
       "32"
      ],
      "text/latex": [
       "32"
      ],
      "text/markdown": [
       "32"
      ],
      "text/plain": [
       "[1] 32"
      ]
     },
     "metadata": {},
     "output_type": "display_data"
    }
   ],
   "source": [
    "s = 0 \n",
    "for(x in 1:15){\n",
    "    if(f(2+x)*f(2-x) < 1/4){\n",
    "        s = s+x\n",
    "    }\n",
    "}\n",
    "s"
   ]
  },
  {
   "cell_type": "markdown",
   "id": "9099389b-3646-44e6-884a-66e4c2c271cd",
   "metadata": {},
   "source": [
    "## 2. Bool 자료형과 조건판단"
   ]
  },
  {
   "cell_type": "markdown",
   "id": "aa2a197c-aeaa-46b2-9eb5-a32c928156f6",
   "metadata": {},
   "source": [
    "`-` 예시1"
   ]
  },
  {
   "cell_type": "code",
   "execution_count": 44,
   "id": "90411ade-f20a-4750-a60b-add84a2081a7",
   "metadata": {},
   "outputs": [
    {
     "data": {
      "text/html": [
       "FALSE"
      ],
      "text/latex": [
       "FALSE"
      ],
      "text/markdown": [
       "FALSE"
      ],
      "text/plain": [
       "[1] FALSE"
      ]
     },
     "metadata": {},
     "output_type": "display_data"
    }
   ],
   "source": [
    "2>3"
   ]
  },
  {
   "cell_type": "markdown",
   "id": "10a1d3cc-afd7-4a74-80f3-0f748c5e5949",
   "metadata": {},
   "source": [
    "`-` 예시2"
   ]
  },
  {
   "cell_type": "code",
   "execution_count": 45,
   "id": "bf0edc54-c7d9-45d2-8bb2-7b707c355b58",
   "metadata": {},
   "outputs": [
    {
     "data": {
      "text/html": [
       "<style>\n",
       ".list-inline {list-style: none; margin:0; padding: 0}\n",
       ".list-inline>li {display: inline-block}\n",
       ".list-inline>li:not(:last-child)::after {content: \"\\00b7\"; padding: 0 .5ex}\n",
       "</style>\n",
       "<ol class=list-inline><li>FALSE</li><li>FALSE</li><li>FALSE</li><li>TRUE</li><li>TRUE</li></ol>\n"
      ],
      "text/latex": [
       "\\begin{enumerate*}\n",
       "\\item FALSE\n",
       "\\item FALSE\n",
       "\\item FALSE\n",
       "\\item TRUE\n",
       "\\item TRUE\n",
       "\\end{enumerate*}\n"
      ],
      "text/markdown": [
       "1. FALSE\n",
       "2. FALSE\n",
       "3. FALSE\n",
       "4. TRUE\n",
       "5. TRUE\n",
       "\n",
       "\n"
      ],
      "text/plain": [
       "[1] FALSE FALSE FALSE  TRUE  TRUE"
      ]
     },
     "metadata": {},
     "output_type": "display_data"
    }
   ],
   "source": [
    "x = 1:5\n",
    "x>3"
   ]
  },
  {
   "cell_type": "code",
   "execution_count": 46,
   "id": "ed40645d-6096-4913-9737-a9760ad801b5",
   "metadata": {},
   "outputs": [
    {
     "data": {
      "text/html": [
       "<style>\n",
       ".list-inline {list-style: none; margin:0; padding: 0}\n",
       ".list-inline>li {display: inline-block}\n",
       ".list-inline>li:not(:last-child)::after {content: \"\\00b7\"; padding: 0 .5ex}\n",
       "</style>\n",
       "<ol class=list-inline><li>TRUE</li><li>TRUE</li><li>TRUE</li><li>TRUE</li><li>FALSE</li></ol>\n"
      ],
      "text/latex": [
       "\\begin{enumerate*}\n",
       "\\item TRUE\n",
       "\\item TRUE\n",
       "\\item TRUE\n",
       "\\item TRUE\n",
       "\\item FALSE\n",
       "\\end{enumerate*}\n"
      ],
      "text/markdown": [
       "1. TRUE\n",
       "2. TRUE\n",
       "3. TRUE\n",
       "4. TRUE\n",
       "5. FALSE\n",
       "\n",
       "\n"
      ],
      "text/plain": [
       "[1]  TRUE  TRUE  TRUE  TRUE FALSE"
      ]
     },
     "metadata": {},
     "output_type": "display_data"
    }
   ],
   "source": [
    "x<5"
   ]
  },
  {
   "cell_type": "code",
   "execution_count": 47,
   "id": "080c8169-2f10-454f-af43-8ff7b5cfb068",
   "metadata": {},
   "outputs": [
    {
     "data": {
      "text/html": [
       "<style>\n",
       ".list-inline {list-style: none; margin:0; padding: 0}\n",
       ".list-inline>li {display: inline-block}\n",
       ".list-inline>li:not(:last-child)::after {content: \"\\00b7\"; padding: 0 .5ex}\n",
       "</style>\n",
       "<ol class=list-inline><li>FALSE</li><li>FALSE</li><li>TRUE</li><li>TRUE</li><li>TRUE</li></ol>\n"
      ],
      "text/latex": [
       "\\begin{enumerate*}\n",
       "\\item FALSE\n",
       "\\item FALSE\n",
       "\\item TRUE\n",
       "\\item TRUE\n",
       "\\item TRUE\n",
       "\\end{enumerate*}\n"
      ],
      "text/markdown": [
       "1. FALSE\n",
       "2. FALSE\n",
       "3. TRUE\n",
       "4. TRUE\n",
       "5. TRUE\n",
       "\n",
       "\n"
      ],
      "text/plain": [
       "[1] FALSE FALSE  TRUE  TRUE  TRUE"
      ]
     },
     "metadata": {},
     "output_type": "display_data"
    }
   ],
   "source": [
    "x>=3"
   ]
  },
  {
   "cell_type": "code",
   "execution_count": 48,
   "id": "5295e55d-2407-42f5-8006-3106682e35cc",
   "metadata": {},
   "outputs": [
    {
     "data": {
      "text/html": [
       "<style>\n",
       ".list-inline {list-style: none; margin:0; padding: 0}\n",
       ".list-inline>li {display: inline-block}\n",
       ".list-inline>li:not(:last-child)::after {content: \"\\00b7\"; padding: 0 .5ex}\n",
       "</style>\n",
       "<ol class=list-inline><li>TRUE</li><li>TRUE</li><li>TRUE</li><li>TRUE</li><li>TRUE</li></ol>\n"
      ],
      "text/latex": [
       "\\begin{enumerate*}\n",
       "\\item TRUE\n",
       "\\item TRUE\n",
       "\\item TRUE\n",
       "\\item TRUE\n",
       "\\item TRUE\n",
       "\\end{enumerate*}\n"
      ],
      "text/markdown": [
       "1. TRUE\n",
       "2. TRUE\n",
       "3. TRUE\n",
       "4. TRUE\n",
       "5. TRUE\n",
       "\n",
       "\n"
      ],
      "text/plain": [
       "[1] TRUE TRUE TRUE TRUE TRUE"
      ]
     },
     "metadata": {},
     "output_type": "display_data"
    }
   ],
   "source": [
    "x<=5"
   ]
  },
  {
   "cell_type": "code",
   "execution_count": 49,
   "id": "6d5f5749-9028-4900-a2f7-0034ffae68f6",
   "metadata": {},
   "outputs": [
    {
     "data": {
      "text/html": [
       "<style>\n",
       ".list-inline {list-style: none; margin:0; padding: 0}\n",
       ".list-inline>li {display: inline-block}\n",
       ".list-inline>li:not(:last-child)::after {content: \"\\00b7\"; padding: 0 .5ex}\n",
       "</style>\n",
       "<ol class=list-inline><li>FALSE</li><li>FALSE</li><li>TRUE</li><li>FALSE</li><li>FALSE</li></ol>\n"
      ],
      "text/latex": [
       "\\begin{enumerate*}\n",
       "\\item FALSE\n",
       "\\item FALSE\n",
       "\\item TRUE\n",
       "\\item FALSE\n",
       "\\item FALSE\n",
       "\\end{enumerate*}\n"
      ],
      "text/markdown": [
       "1. FALSE\n",
       "2. FALSE\n",
       "3. TRUE\n",
       "4. FALSE\n",
       "5. FALSE\n",
       "\n",
       "\n"
      ],
      "text/plain": [
       "[1] FALSE FALSE  TRUE FALSE FALSE"
      ]
     },
     "metadata": {},
     "output_type": "display_data"
    }
   ],
   "source": [
    "x==3"
   ]
  },
  {
   "cell_type": "markdown",
   "id": "0304d0a3-e409-4802-a54e-c4355c40be10",
   "metadata": {},
   "source": [
    "## 3. 벡터인덱싱 "
   ]
  },
  {
   "cell_type": "markdown",
   "id": "0321f1b8-04b2-4b38-8a4d-69f04b5e78d9",
   "metadata": {},
   "source": [
    "### A. 번호로 뽑는 방법"
   ]
  },
  {
   "cell_type": "markdown",
   "id": "82dd7c1f-9742-44df-b6d0-026b1aa74686",
   "metadata": {},
   "source": [
    "> 벡터의 원소에 순서대로 번호를 매겨서 뽑는 방식 "
   ]
  },
  {
   "cell_type": "markdown",
   "id": "8ddb9f65-30b1-414e-a50d-16b6c28e90a3",
   "metadata": {},
   "source": [
    "`# 예제1`-- 첫 원소를 뽑고싶다. "
   ]
  },
  {
   "cell_type": "code",
   "execution_count": 51,
   "id": "225963d7-92d9-4d33-8c69-8e4d64e6d45a",
   "metadata": {},
   "outputs": [
    {
     "data": {
      "text/html": [
       "<style>\n",
       ".list-inline {list-style: none; margin:0; padding: 0}\n",
       ".list-inline>li {display: inline-block}\n",
       ".list-inline>li:not(:last-child)::after {content: \"\\00b7\"; padding: 0 .5ex}\n",
       "</style>\n",
       "<ol class=list-inline><li>1</li><li>2</li><li>-2</li><li>4</li><li>5</li><li>-5</li><li>6</li></ol>\n"
      ],
      "text/latex": [
       "\\begin{enumerate*}\n",
       "\\item 1\n",
       "\\item 2\n",
       "\\item -2\n",
       "\\item 4\n",
       "\\item 5\n",
       "\\item -5\n",
       "\\item 6\n",
       "\\end{enumerate*}\n"
      ],
      "text/markdown": [
       "1. 1\n",
       "2. 2\n",
       "3. -2\n",
       "4. 4\n",
       "5. 5\n",
       "6. -5\n",
       "7. 6\n",
       "\n",
       "\n"
      ],
      "text/plain": [
       "[1]  1  2 -2  4  5 -5  6"
      ]
     },
     "metadata": {},
     "output_type": "display_data"
    }
   ],
   "source": [
    "x<-c(1,2,-2,4,5,-5,6)\n",
    "x"
   ]
  },
  {
   "cell_type": "code",
   "execution_count": 52,
   "id": "71ad5ccf-8c25-4820-98fd-d689b98888bd",
   "metadata": {},
   "outputs": [
    {
     "data": {
      "text/html": [
       "1"
      ],
      "text/latex": [
       "1"
      ],
      "text/markdown": [
       "1"
      ],
      "text/plain": [
       "[1] 1"
      ]
     },
     "metadata": {},
     "output_type": "display_data"
    }
   ],
   "source": [
    "x[1]"
   ]
  },
  {
   "cell_type": "markdown",
   "id": "3c94d549-8e02-4d6e-85ab-3a456c355293",
   "metadata": {},
   "source": [
    "`#`"
   ]
  },
  {
   "cell_type": "markdown",
   "id": "1108b621-fa5f-4caa-9c79-50db6a77585a",
   "metadata": {},
   "source": [
    "`# 예제2` -- 세번째 원소를 뽑고싶다. "
   ]
  },
  {
   "cell_type": "code",
   "execution_count": 53,
   "id": "927e5b69-3f95-4fa3-afa7-80b4a942e511",
   "metadata": {},
   "outputs": [
    {
     "data": {
      "text/html": [
       "<style>\n",
       ".list-inline {list-style: none; margin:0; padding: 0}\n",
       ".list-inline>li {display: inline-block}\n",
       ".list-inline>li:not(:last-child)::after {content: \"\\00b7\"; padding: 0 .5ex}\n",
       "</style>\n",
       "<ol class=list-inline><li>1</li><li>2</li><li>-2</li><li>4</li><li>5</li><li>-5</li><li>6</li></ol>\n"
      ],
      "text/latex": [
       "\\begin{enumerate*}\n",
       "\\item 1\n",
       "\\item 2\n",
       "\\item -2\n",
       "\\item 4\n",
       "\\item 5\n",
       "\\item -5\n",
       "\\item 6\n",
       "\\end{enumerate*}\n"
      ],
      "text/markdown": [
       "1. 1\n",
       "2. 2\n",
       "3. -2\n",
       "4. 4\n",
       "5. 5\n",
       "6. -5\n",
       "7. 6\n",
       "\n",
       "\n"
      ],
      "text/plain": [
       "[1]  1  2 -2  4  5 -5  6"
      ]
     },
     "metadata": {},
     "output_type": "display_data"
    }
   ],
   "source": [
    "x<-c(1,2,-2,4,5,-5,6)\n",
    "x"
   ]
  },
  {
   "cell_type": "code",
   "execution_count": 54,
   "id": "985634a2-979e-4f97-ac48-12d9bcf79e4a",
   "metadata": {},
   "outputs": [
    {
     "data": {
      "text/html": [
       "-2"
      ],
      "text/latex": [
       "-2"
      ],
      "text/markdown": [
       "-2"
      ],
      "text/plain": [
       "[1] -2"
      ]
     },
     "metadata": {},
     "output_type": "display_data"
    }
   ],
   "source": [
    "x[3]"
   ]
  },
  {
   "cell_type": "markdown",
   "id": "5de882b7-1048-4234-9957-d8aaa5612167",
   "metadata": {},
   "source": [
    "`#`"
   ]
  },
  {
   "cell_type": "markdown",
   "id": "1dc35f0a-d2e3-488e-b813-59f5b17b7158",
   "metadata": {},
   "source": [
    "`# 예제3` -- 첫번째부터 세번째까지의 원소를 뽑고싶다. "
   ]
  },
  {
   "cell_type": "code",
   "execution_count": 55,
   "id": "8f027599-9a2d-486b-bd65-67a917275329",
   "metadata": {},
   "outputs": [
    {
     "data": {
      "text/html": [
       "<style>\n",
       ".list-inline {list-style: none; margin:0; padding: 0}\n",
       ".list-inline>li {display: inline-block}\n",
       ".list-inline>li:not(:last-child)::after {content: \"\\00b7\"; padding: 0 .5ex}\n",
       "</style>\n",
       "<ol class=list-inline><li>1</li><li>2</li><li>-2</li><li>4</li><li>5</li><li>-5</li><li>6</li></ol>\n"
      ],
      "text/latex": [
       "\\begin{enumerate*}\n",
       "\\item 1\n",
       "\\item 2\n",
       "\\item -2\n",
       "\\item 4\n",
       "\\item 5\n",
       "\\item -5\n",
       "\\item 6\n",
       "\\end{enumerate*}\n"
      ],
      "text/markdown": [
       "1. 1\n",
       "2. 2\n",
       "3. -2\n",
       "4. 4\n",
       "5. 5\n",
       "6. -5\n",
       "7. 6\n",
       "\n",
       "\n"
      ],
      "text/plain": [
       "[1]  1  2 -2  4  5 -5  6"
      ]
     },
     "metadata": {},
     "output_type": "display_data"
    }
   ],
   "source": [
    "x<-c(1,2,-2,4,5,-5,6)\n",
    "x"
   ]
  },
  {
   "cell_type": "code",
   "execution_count": 56,
   "id": "dbf54330-d66c-4a3a-835b-70ce786e4933",
   "metadata": {},
   "outputs": [
    {
     "data": {
      "text/html": [
       "<style>\n",
       ".list-inline {list-style: none; margin:0; padding: 0}\n",
       ".list-inline>li {display: inline-block}\n",
       ".list-inline>li:not(:last-child)::after {content: \"\\00b7\"; padding: 0 .5ex}\n",
       "</style>\n",
       "<ol class=list-inline><li>1</li><li>2</li><li>-2</li></ol>\n"
      ],
      "text/latex": [
       "\\begin{enumerate*}\n",
       "\\item 1\n",
       "\\item 2\n",
       "\\item -2\n",
       "\\end{enumerate*}\n"
      ],
      "text/markdown": [
       "1. 1\n",
       "2. 2\n",
       "3. -2\n",
       "\n",
       "\n"
      ],
      "text/plain": [
       "[1]  1  2 -2"
      ]
     },
     "metadata": {},
     "output_type": "display_data"
    }
   ],
   "source": [
    "x[1:3]"
   ]
  },
  {
   "cell_type": "code",
   "execution_count": 31,
   "id": "e56e9a07-93e9-4cad-bf45-c1da57f9b3a1",
   "metadata": {},
   "outputs": [
    {
     "data": {
      "text/plain": [
       "[1]  1  2 -2"
      ]
     },
     "metadata": {},
     "output_type": "display_data"
    }
   ],
   "source": [
    "x[c(1,2,3)]"
   ]
  },
  {
   "cell_type": "markdown",
   "id": "3ea1b27f-cfed-41e5-9bea-9881e1f561dd",
   "metadata": {},
   "source": [
    "`#`"
   ]
  },
  {
   "cell_type": "markdown",
   "id": "b7297a20-bc7f-460f-8ceb-cda77d705374",
   "metadata": {},
   "source": [
    "`# 예제4` -- 2,5,6 번째의 원소를 뽑고싶다면? "
   ]
  },
  {
   "cell_type": "code",
   "execution_count": 57,
   "id": "5b7b7a4a-9858-4c0c-a82e-6f7ea27a1094",
   "metadata": {},
   "outputs": [
    {
     "data": {
      "text/html": [
       "<style>\n",
       ".list-inline {list-style: none; margin:0; padding: 0}\n",
       ".list-inline>li {display: inline-block}\n",
       ".list-inline>li:not(:last-child)::after {content: \"\\00b7\"; padding: 0 .5ex}\n",
       "</style>\n",
       "<ol class=list-inline><li>1</li><li>2</li><li>-2</li><li>4</li><li>5</li><li>-5</li><li>6</li></ol>\n"
      ],
      "text/latex": [
       "\\begin{enumerate*}\n",
       "\\item 1\n",
       "\\item 2\n",
       "\\item -2\n",
       "\\item 4\n",
       "\\item 5\n",
       "\\item -5\n",
       "\\item 6\n",
       "\\end{enumerate*}\n"
      ],
      "text/markdown": [
       "1. 1\n",
       "2. 2\n",
       "3. -2\n",
       "4. 4\n",
       "5. 5\n",
       "6. -5\n",
       "7. 6\n",
       "\n",
       "\n"
      ],
      "text/plain": [
       "[1]  1  2 -2  4  5 -5  6"
      ]
     },
     "metadata": {},
     "output_type": "display_data"
    }
   ],
   "source": [
    "x<-c(1,2,-2,4,5,-5,6)\n",
    "x"
   ]
  },
  {
   "cell_type": "code",
   "execution_count": 58,
   "id": "dc714293-844f-47a2-b323-032c69fafc01",
   "metadata": {},
   "outputs": [
    {
     "data": {
      "text/html": [
       "<style>\n",
       ".list-inline {list-style: none; margin:0; padding: 0}\n",
       ".list-inline>li {display: inline-block}\n",
       ".list-inline>li:not(:last-child)::after {content: \"\\00b7\"; padding: 0 .5ex}\n",
       "</style>\n",
       "<ol class=list-inline><li>2</li><li>5</li><li>-5</li></ol>\n"
      ],
      "text/latex": [
       "\\begin{enumerate*}\n",
       "\\item 2\n",
       "\\item 5\n",
       "\\item -5\n",
       "\\end{enumerate*}\n"
      ],
      "text/markdown": [
       "1. 2\n",
       "2. 5\n",
       "3. -5\n",
       "\n",
       "\n"
      ],
      "text/plain": [
       "[1]  2  5 -5"
      ]
     },
     "metadata": {},
     "output_type": "display_data"
    }
   ],
   "source": [
    "x[c(2,5,6)]"
   ]
  },
  {
   "cell_type": "markdown",
   "id": "9758302e-e9e7-4153-bb0b-9ef9da5cbd6d",
   "metadata": {},
   "source": [
    "`#`"
   ]
  },
  {
   "cell_type": "markdown",
   "id": "e2460d9a-560f-490e-8817-9122b6310353",
   "metadata": {},
   "source": [
    "`# 예제5` -- 3번째 원소를 제외하고 호출 "
   ]
  },
  {
   "cell_type": "code",
   "execution_count": 59,
   "id": "4862f0bb-41f5-4f87-b137-5cf8771b742d",
   "metadata": {},
   "outputs": [
    {
     "data": {
      "text/html": [
       "<style>\n",
       ".list-inline {list-style: none; margin:0; padding: 0}\n",
       ".list-inline>li {display: inline-block}\n",
       ".list-inline>li:not(:last-child)::after {content: \"\\00b7\"; padding: 0 .5ex}\n",
       "</style>\n",
       "<ol class=list-inline><li>1</li><li>2</li><li>-2</li><li>4</li><li>5</li><li>-5</li><li>6</li></ol>\n"
      ],
      "text/latex": [
       "\\begin{enumerate*}\n",
       "\\item 1\n",
       "\\item 2\n",
       "\\item -2\n",
       "\\item 4\n",
       "\\item 5\n",
       "\\item -5\n",
       "\\item 6\n",
       "\\end{enumerate*}\n"
      ],
      "text/markdown": [
       "1. 1\n",
       "2. 2\n",
       "3. -2\n",
       "4. 4\n",
       "5. 5\n",
       "6. -5\n",
       "7. 6\n",
       "\n",
       "\n"
      ],
      "text/plain": [
       "[1]  1  2 -2  4  5 -5  6"
      ]
     },
     "metadata": {},
     "output_type": "display_data"
    }
   ],
   "source": [
    "x<-c(1,2,-2,4,5,-5,6)\n",
    "x"
   ]
  },
  {
   "cell_type": "code",
   "execution_count": 60,
   "id": "c081ccf6-3d15-496d-abd2-027fc31b3fce",
   "metadata": {},
   "outputs": [
    {
     "data": {
      "text/html": [
       "<style>\n",
       ".list-inline {list-style: none; margin:0; padding: 0}\n",
       ".list-inline>li {display: inline-block}\n",
       ".list-inline>li:not(:last-child)::after {content: \"\\00b7\"; padding: 0 .5ex}\n",
       "</style>\n",
       "<ol class=list-inline><li>1</li><li>2</li><li>4</li><li>5</li><li>-5</li><li>6</li></ol>\n"
      ],
      "text/latex": [
       "\\begin{enumerate*}\n",
       "\\item 1\n",
       "\\item 2\n",
       "\\item 4\n",
       "\\item 5\n",
       "\\item -5\n",
       "\\item 6\n",
       "\\end{enumerate*}\n"
      ],
      "text/markdown": [
       "1. 1\n",
       "2. 2\n",
       "3. 4\n",
       "4. 5\n",
       "5. -5\n",
       "6. 6\n",
       "\n",
       "\n"
      ],
      "text/plain": [
       "[1]  1  2  4  5 -5  6"
      ]
     },
     "metadata": {},
     "output_type": "display_data"
    }
   ],
   "source": [
    "x[-3]"
   ]
  },
  {
   "cell_type": "markdown",
   "id": "abec1fba-077c-45c2-91df-d21a3a89b512",
   "metadata": {},
   "source": [
    "`# 예제6` -- 3,4번째의 원소를 제외하고 호출 "
   ]
  },
  {
   "cell_type": "code",
   "execution_count": 61,
   "id": "66d1af5f-5695-4777-899a-d7938ee6141a",
   "metadata": {},
   "outputs": [
    {
     "data": {
      "text/html": [
       "<style>\n",
       ".list-inline {list-style: none; margin:0; padding: 0}\n",
       ".list-inline>li {display: inline-block}\n",
       ".list-inline>li:not(:last-child)::after {content: \"\\00b7\"; padding: 0 .5ex}\n",
       "</style>\n",
       "<ol class=list-inline><li>1</li><li>2</li><li>5</li><li>-5</li><li>6</li></ol>\n"
      ],
      "text/latex": [
       "\\begin{enumerate*}\n",
       "\\item 1\n",
       "\\item 2\n",
       "\\item 5\n",
       "\\item -5\n",
       "\\item 6\n",
       "\\end{enumerate*}\n"
      ],
      "text/markdown": [
       "1. 1\n",
       "2. 2\n",
       "3. 5\n",
       "4. -5\n",
       "5. 6\n",
       "\n",
       "\n"
      ],
      "text/plain": [
       "[1]  1  2  5 -5  6"
      ]
     },
     "metadata": {},
     "output_type": "display_data"
    }
   ],
   "source": [
    "x[c(-3,-4)]"
   ]
  },
  {
   "cell_type": "code",
   "execution_count": 62,
   "id": "99a0bf08-688a-47a7-bfdb-f70384a76e5d",
   "metadata": {},
   "outputs": [
    {
     "data": {
      "text/html": [
       "<style>\n",
       ".list-inline {list-style: none; margin:0; padding: 0}\n",
       ".list-inline>li {display: inline-block}\n",
       ".list-inline>li:not(:last-child)::after {content: \"\\00b7\"; padding: 0 .5ex}\n",
       "</style>\n",
       "<ol class=list-inline><li>1</li><li>2</li><li>5</li><li>-5</li><li>6</li></ol>\n"
      ],
      "text/latex": [
       "\\begin{enumerate*}\n",
       "\\item 1\n",
       "\\item 2\n",
       "\\item 5\n",
       "\\item -5\n",
       "\\item 6\n",
       "\\end{enumerate*}\n"
      ],
      "text/markdown": [
       "1. 1\n",
       "2. 2\n",
       "3. 5\n",
       "4. -5\n",
       "5. 6\n",
       "\n",
       "\n"
      ],
      "text/plain": [
       "[1]  1  2  5 -5  6"
      ]
     },
     "metadata": {},
     "output_type": "display_data"
    }
   ],
   "source": [
    "x[-(3:4)]"
   ]
  },
  {
   "cell_type": "markdown",
   "id": "c4edf704-b4bc-4e89-afa4-7b1fd88d9223",
   "metadata": {},
   "source": [
    "### B. 조건으로 뽑는 방법 "
   ]
  },
  {
   "cell_type": "markdown",
   "id": "f3c33a5f-e043-48de-8381-4e8c3585161d",
   "metadata": {},
   "source": [
    "> 어떠한 조건을 주고, 그 조건에 만족하는 원소 (혹은 만족하지 않는 원소)를 뽑는 방식"
   ]
  },
  {
   "cell_type": "markdown",
   "id": "6a51b777-12cc-40f5-925f-2205ac50311b",
   "metadata": {},
   "source": [
    "`# 예제1` -- 양수의 원소를 뽑는다. "
   ]
  },
  {
   "cell_type": "code",
   "execution_count": 63,
   "id": "192f8b37-c6a1-49e3-8d09-dbfa4a4cf17d",
   "metadata": {},
   "outputs": [
    {
     "data": {
      "text/html": [
       "<style>\n",
       ".list-inline {list-style: none; margin:0; padding: 0}\n",
       ".list-inline>li {display: inline-block}\n",
       ".list-inline>li:not(:last-child)::after {content: \"\\00b7\"; padding: 0 .5ex}\n",
       "</style>\n",
       "<ol class=list-inline><li>1</li><li>2</li><li>-2</li><li>4</li><li>5</li><li>-5</li><li>6</li></ol>\n"
      ],
      "text/latex": [
       "\\begin{enumerate*}\n",
       "\\item 1\n",
       "\\item 2\n",
       "\\item -2\n",
       "\\item 4\n",
       "\\item 5\n",
       "\\item -5\n",
       "\\item 6\n",
       "\\end{enumerate*}\n"
      ],
      "text/markdown": [
       "1. 1\n",
       "2. 2\n",
       "3. -2\n",
       "4. 4\n",
       "5. 5\n",
       "6. -5\n",
       "7. 6\n",
       "\n",
       "\n"
      ],
      "text/plain": [
       "[1]  1  2 -2  4  5 -5  6"
      ]
     },
     "metadata": {},
     "output_type": "display_data"
    }
   ],
   "source": [
    "x<-c(1,2,-2,4,5,-5,6)\n",
    "x"
   ]
  },
  {
   "cell_type": "code",
   "execution_count": 64,
   "id": "2e8ef2a0-644f-455c-8699-ba790b497da2",
   "metadata": {},
   "outputs": [
    {
     "data": {
      "text/html": [
       "<style>\n",
       ".list-inline {list-style: none; margin:0; padding: 0}\n",
       ".list-inline>li {display: inline-block}\n",
       ".list-inline>li:not(:last-child)::after {content: \"\\00b7\"; padding: 0 .5ex}\n",
       "</style>\n",
       "<ol class=list-inline><li>TRUE</li><li>TRUE</li><li>FALSE</li><li>TRUE</li><li>TRUE</li><li>FALSE</li><li>TRUE</li></ol>\n"
      ],
      "text/latex": [
       "\\begin{enumerate*}\n",
       "\\item TRUE\n",
       "\\item TRUE\n",
       "\\item FALSE\n",
       "\\item TRUE\n",
       "\\item TRUE\n",
       "\\item FALSE\n",
       "\\item TRUE\n",
       "\\end{enumerate*}\n"
      ],
      "text/markdown": [
       "1. TRUE\n",
       "2. TRUE\n",
       "3. FALSE\n",
       "4. TRUE\n",
       "5. TRUE\n",
       "6. FALSE\n",
       "7. TRUE\n",
       "\n",
       "\n"
      ],
      "text/plain": [
       "[1]  TRUE  TRUE FALSE  TRUE  TRUE FALSE  TRUE"
      ]
     },
     "metadata": {},
     "output_type": "display_data"
    }
   ],
   "source": [
    "x>0"
   ]
  },
  {
   "cell_type": "code",
   "execution_count": 38,
   "id": "8612821f-b2fa-4ce7-b3df-ed75f55bd8c7",
   "metadata": {},
   "outputs": [
    {
     "data": {
      "text/plain": [
       "[1] 1 2 4 5 6"
      ]
     },
     "metadata": {},
     "output_type": "display_data"
    }
   ],
   "source": [
    "x[x>0]"
   ]
  },
  {
   "cell_type": "markdown",
   "id": "cd9eda2e-06e2-4bed-ab59-1cbfd2079fe5",
   "metadata": {},
   "source": [
    "`#`"
   ]
  },
  {
   "cell_type": "markdown",
   "id": "609b3db0-b78a-40bf-b73f-6a3f9b1f0af6",
   "metadata": {},
   "source": [
    "`# 예제2` -- 3보다 큰 원소를 뽑는 방법"
   ]
  },
  {
   "cell_type": "code",
   "execution_count": 65,
   "id": "3c08cb91-ef0c-4b91-87d0-ae4222f51594",
   "metadata": {},
   "outputs": [
    {
     "data": {
      "text/html": [
       "<style>\n",
       ".list-inline {list-style: none; margin:0; padding: 0}\n",
       ".list-inline>li {display: inline-block}\n",
       ".list-inline>li:not(:last-child)::after {content: \"\\00b7\"; padding: 0 .5ex}\n",
       "</style>\n",
       "<ol class=list-inline><li>1</li><li>2</li><li>-2</li><li>4</li><li>5</li><li>-5</li><li>6</li></ol>\n"
      ],
      "text/latex": [
       "\\begin{enumerate*}\n",
       "\\item 1\n",
       "\\item 2\n",
       "\\item -2\n",
       "\\item 4\n",
       "\\item 5\n",
       "\\item -5\n",
       "\\item 6\n",
       "\\end{enumerate*}\n"
      ],
      "text/markdown": [
       "1. 1\n",
       "2. 2\n",
       "3. -2\n",
       "4. 4\n",
       "5. 5\n",
       "6. -5\n",
       "7. 6\n",
       "\n",
       "\n"
      ],
      "text/plain": [
       "[1]  1  2 -2  4  5 -5  6"
      ]
     },
     "metadata": {},
     "output_type": "display_data"
    }
   ],
   "source": [
    "x<-c(1,2,-2,4,5,-5,6)\n",
    "x"
   ]
  },
  {
   "cell_type": "code",
   "execution_count": 66,
   "id": "236dc6b4-6904-48f8-865e-a2d94b6fa98b",
   "metadata": {},
   "outputs": [
    {
     "data": {
      "text/html": [
       "<style>\n",
       ".list-inline {list-style: none; margin:0; padding: 0}\n",
       ".list-inline>li {display: inline-block}\n",
       ".list-inline>li:not(:last-child)::after {content: \"\\00b7\"; padding: 0 .5ex}\n",
       "</style>\n",
       "<ol class=list-inline><li>4</li><li>5</li><li>6</li></ol>\n"
      ],
      "text/latex": [
       "\\begin{enumerate*}\n",
       "\\item 4\n",
       "\\item 5\n",
       "\\item 6\n",
       "\\end{enumerate*}\n"
      ],
      "text/markdown": [
       "1. 4\n",
       "2. 5\n",
       "3. 6\n",
       "\n",
       "\n"
      ],
      "text/plain": [
       "[1] 4 5 6"
      ]
     },
     "metadata": {},
     "output_type": "display_data"
    }
   ],
   "source": [
    "x[x>3]"
   ]
  },
  {
   "cell_type": "markdown",
   "id": "9369b587-6a1a-4ca0-b362-a2bae83bae6c",
   "metadata": {},
   "source": [
    "`#`"
   ]
  },
  {
   "cell_type": "markdown",
   "id": "02fb07e8-9cc5-4b5c-ba00-e48ab3a0c5cc",
   "metadata": {},
   "source": [
    "`# 예제3` -- 3번째 원소를 뽑는방법"
   ]
  },
  {
   "cell_type": "code",
   "execution_count": 69,
   "id": "2a3ffc52-01d4-4d34-a2f2-b3dcc6d9d656",
   "metadata": {},
   "outputs": [
    {
     "data": {
      "text/html": [
       "<style>\n",
       ".list-inline {list-style: none; margin:0; padding: 0}\n",
       ".list-inline>li {display: inline-block}\n",
       ".list-inline>li:not(:last-child)::after {content: \"\\00b7\"; padding: 0 .5ex}\n",
       "</style>\n",
       "<ol class=list-inline><li>1</li><li>2</li><li>-2</li><li>4</li><li>5</li><li>-5</li><li>6</li></ol>\n"
      ],
      "text/latex": [
       "\\begin{enumerate*}\n",
       "\\item 1\n",
       "\\item 2\n",
       "\\item -2\n",
       "\\item 4\n",
       "\\item 5\n",
       "\\item -5\n",
       "\\item 6\n",
       "\\end{enumerate*}\n"
      ],
      "text/markdown": [
       "1. 1\n",
       "2. 2\n",
       "3. -2\n",
       "4. 4\n",
       "5. 5\n",
       "6. -5\n",
       "7. 6\n",
       "\n",
       "\n"
      ],
      "text/plain": [
       "[1]  1  2 -2  4  5 -5  6"
      ]
     },
     "metadata": {},
     "output_type": "display_data"
    }
   ],
   "source": [
    "x<-c(1,2,-2,4,5,-5,6)\n",
    "x"
   ]
  },
  {
   "cell_type": "code",
   "execution_count": 70,
   "id": "56e7d374-e7d6-4ebf-b354-5ebc5263f7fa",
   "metadata": {},
   "outputs": [
    {
     "data": {
      "text/html": [
       "<style>\n",
       ".list-inline {list-style: none; margin:0; padding: 0}\n",
       ".list-inline>li {display: inline-block}\n",
       ".list-inline>li:not(:last-child)::after {content: \"\\00b7\"; padding: 0 .5ex}\n",
       "</style>\n",
       "<ol class=list-inline><li>FALSE</li><li>FALSE</li><li>TRUE</li><li>FALSE</li><li>FALSE</li><li>FALSE</li><li>FALSE</li></ol>\n"
      ],
      "text/latex": [
       "\\begin{enumerate*}\n",
       "\\item FALSE\n",
       "\\item FALSE\n",
       "\\item TRUE\n",
       "\\item FALSE\n",
       "\\item FALSE\n",
       "\\item FALSE\n",
       "\\item FALSE\n",
       "\\end{enumerate*}\n"
      ],
      "text/markdown": [
       "1. FALSE\n",
       "2. FALSE\n",
       "3. TRUE\n",
       "4. FALSE\n",
       "5. FALSE\n",
       "6. FALSE\n",
       "7. FALSE\n",
       "\n",
       "\n"
      ],
      "text/plain": [
       "[1] FALSE FALSE  TRUE FALSE FALSE FALSE FALSE"
      ]
     },
     "metadata": {},
     "output_type": "display_data"
    }
   ],
   "source": [
    "arr = c(FALSE, FALSE, TRUE, FALSE, FALSE, FALSE, FALSE)\n",
    "arr"
   ]
  },
  {
   "cell_type": "code",
   "execution_count": 68,
   "id": "a657150e-2e09-4ff6-ba21-5745cc49d464",
   "metadata": {},
   "outputs": [
    {
     "data": {
      "text/html": [
       "-2"
      ],
      "text/latex": [
       "-2"
      ],
      "text/markdown": [
       "-2"
      ],
      "text/plain": [
       "[1] -2"
      ]
     },
     "metadata": {},
     "output_type": "display_data"
    }
   ],
   "source": [
    "x[arr]"
   ]
  },
  {
   "cell_type": "markdown",
   "id": "2c916f8a-0c2a-492e-aa8c-923d7e420fed",
   "metadata": {},
   "source": [
    "`#`"
   ]
  },
  {
   "cell_type": "markdown",
   "id": "34d4c685-d534-4d42-ab95-18b71f716d48",
   "metadata": {},
   "source": [
    "`# 예제4` -- 값이 -2인 원소를 뽑아라. "
   ]
  },
  {
   "cell_type": "code",
   "execution_count": 71,
   "id": "c8084914-277b-4122-994b-6c3add9afdfb",
   "metadata": {},
   "outputs": [
    {
     "data": {
      "text/html": [
       "<style>\n",
       ".list-inline {list-style: none; margin:0; padding: 0}\n",
       ".list-inline>li {display: inline-block}\n",
       ".list-inline>li:not(:last-child)::after {content: \"\\00b7\"; padding: 0 .5ex}\n",
       "</style>\n",
       "<ol class=list-inline><li>1</li><li>2</li><li>-2</li><li>4</li><li>5</li><li>-5</li><li>6</li></ol>\n"
      ],
      "text/latex": [
       "\\begin{enumerate*}\n",
       "\\item 1\n",
       "\\item 2\n",
       "\\item -2\n",
       "\\item 4\n",
       "\\item 5\n",
       "\\item -5\n",
       "\\item 6\n",
       "\\end{enumerate*}\n"
      ],
      "text/markdown": [
       "1. 1\n",
       "2. 2\n",
       "3. -2\n",
       "4. 4\n",
       "5. 5\n",
       "6. -5\n",
       "7. 6\n",
       "\n",
       "\n"
      ],
      "text/plain": [
       "[1]  1  2 -2  4  5 -5  6"
      ]
     },
     "metadata": {},
     "output_type": "display_data"
    }
   ],
   "source": [
    "x<-c(1,2,-2,4,5,-5,6)\n",
    "x"
   ]
  },
  {
   "cell_type": "code",
   "execution_count": 72,
   "id": "30c86d57-6f7e-4d77-9f06-8b8c88187b94",
   "metadata": {},
   "outputs": [
    {
     "data": {
      "text/html": [
       "-2"
      ],
      "text/latex": [
       "-2"
      ],
      "text/markdown": [
       "-2"
      ],
      "text/plain": [
       "[1] -2"
      ]
     },
     "metadata": {},
     "output_type": "display_data"
    }
   ],
   "source": [
    "x[x == -2]"
   ]
  },
  {
   "cell_type": "markdown",
   "id": "ccdc6483-c681-446e-8ac3-3f4e33b0da02",
   "metadata": {},
   "source": [
    "`#` "
   ]
  },
  {
   "cell_type": "markdown",
   "id": "49a0c423-2680-49cf-8370-e16856c3e26a",
   "metadata": {},
   "source": [
    "`# 예제4` -- 값이 -1.5와 가장 가까운 원소를 뽑아라. "
   ]
  },
  {
   "cell_type": "code",
   "execution_count": 73,
   "id": "ba4d4afd-422b-49a4-8194-d28438ff7013",
   "metadata": {},
   "outputs": [
    {
     "data": {
      "text/html": [
       "<style>\n",
       ".list-inline {list-style: none; margin:0; padding: 0}\n",
       ".list-inline>li {display: inline-block}\n",
       ".list-inline>li:not(:last-child)::after {content: \"\\00b7\"; padding: 0 .5ex}\n",
       "</style>\n",
       "<ol class=list-inline><li>1</li><li>2</li><li>-2</li><li>4</li><li>5</li><li>-5</li><li>6</li></ol>\n"
      ],
      "text/latex": [
       "\\begin{enumerate*}\n",
       "\\item 1\n",
       "\\item 2\n",
       "\\item -2\n",
       "\\item 4\n",
       "\\item 5\n",
       "\\item -5\n",
       "\\item 6\n",
       "\\end{enumerate*}\n"
      ],
      "text/markdown": [
       "1. 1\n",
       "2. 2\n",
       "3. -2\n",
       "4. 4\n",
       "5. 5\n",
       "6. -5\n",
       "7. 6\n",
       "\n",
       "\n"
      ],
      "text/plain": [
       "[1]  1  2 -2  4  5 -5  6"
      ]
     },
     "metadata": {},
     "output_type": "display_data"
    }
   ],
   "source": [
    "x<-c(1,2,-2,4,5,-5,6)\n",
    "x"
   ]
  },
  {
   "cell_type": "code",
   "execution_count": 88,
   "id": "2fa8c11e-7a9d-4458-9eb8-f2ddd2336751",
   "metadata": {},
   "outputs": [
    {
     "data": {
      "text/html": [
       "<style>\n",
       ".list-inline {list-style: none; margin:0; padding: 0}\n",
       ".list-inline>li {display: inline-block}\n",
       ".list-inline>li:not(:last-child)::after {content: \"\\00b7\"; padding: 0 .5ex}\n",
       "</style>\n",
       "<ol class=list-inline><li>FALSE</li><li>FALSE</li><li>TRUE</li><li>FALSE</li><li>FALSE</li><li>FALSE</li><li>FALSE</li></ol>\n"
      ],
      "text/latex": [
       "\\begin{enumerate*}\n",
       "\\item FALSE\n",
       "\\item FALSE\n",
       "\\item TRUE\n",
       "\\item FALSE\n",
       "\\item FALSE\n",
       "\\item FALSE\n",
       "\\item FALSE\n",
       "\\end{enumerate*}\n"
      ],
      "text/markdown": [
       "1. FALSE\n",
       "2. FALSE\n",
       "3. TRUE\n",
       "4. FALSE\n",
       "5. FALSE\n",
       "6. FALSE\n",
       "7. FALSE\n",
       "\n",
       "\n"
      ],
      "text/plain": [
       "[1] FALSE FALSE  TRUE FALSE FALSE FALSE FALSE"
      ]
     },
     "metadata": {},
     "output_type": "display_data"
    }
   ],
   "source": [
    "abs(x+1.5) == min(abs(x+1.5))"
   ]
  },
  {
   "cell_type": "code",
   "execution_count": 89,
   "id": "501c4ca9-6ad2-457e-ae1a-3d19dcb917dc",
   "metadata": {},
   "outputs": [
    {
     "data": {
      "text/html": [
       "-2"
      ],
      "text/latex": [
       "-2"
      ],
      "text/markdown": [
       "-2"
      ],
      "text/plain": [
       "[1] -2"
      ]
     },
     "metadata": {},
     "output_type": "display_data"
    }
   ],
   "source": [
    "x[abs(x+1.5) == min(abs(x+1.5))]"
   ]
  },
  {
   "cell_type": "markdown",
   "id": "ff5603ef-cdf9-4bde-8835-b5d2beaaae7c",
   "metadata": {},
   "source": [
    "`#` "
   ]
  },
  {
   "cell_type": "markdown",
   "id": "bb0ed14d-7594-4a19-b115-c7b90ebba77c",
   "metadata": {},
   "source": [
    "`# 예제5` -- 값이 0.5와 가장 가까운 원소를 뽑아라."
   ]
  },
  {
   "cell_type": "code",
   "execution_count": 92,
   "id": "c97b1ef1-b7b5-48e7-888b-4b52e25e4183",
   "metadata": {},
   "outputs": [],
   "source": [
    "x = rnorm(100)"
   ]
  },
  {
   "cell_type": "code",
   "execution_count": 94,
   "id": "88f8e99f-3d30-40cb-abf8-68eb3dc81ae6",
   "metadata": {},
   "outputs": [
    {
     "data": {
      "text/html": [
       "0.00530379035796191"
      ],
      "text/latex": [
       "0.00530379035796191"
      ],
      "text/markdown": [
       "0.00530379035796191"
      ],
      "text/plain": [
       "[1] 0.00530379"
      ]
     },
     "metadata": {},
     "output_type": "display_data"
    }
   ],
   "source": [
    "min(abs(x - 0.5))"
   ]
  },
  {
   "cell_type": "code",
   "execution_count": 97,
   "id": "b3efcb64-3263-4285-b543-d23b4bf63e2a",
   "metadata": {},
   "outputs": [
    {
     "data": {
      "text/html": [
       "0.505303790357962"
      ],
      "text/latex": [
       "0.505303790357962"
      ],
      "text/markdown": [
       "0.505303790357962"
      ],
      "text/plain": [
       "[1] 0.5053038"
      ]
     },
     "metadata": {},
     "output_type": "display_data"
    }
   ],
   "source": [
    "x[abs(x - 0.5) == min(abs(x - 0.5))]"
   ]
  },
  {
   "cell_type": "markdown",
   "id": "2d2abb7e-c7a6-4084-8c40-9bc9b4617d5b",
   "metadata": {},
   "source": [
    "`#`"
   ]
  },
  {
   "cell_type": "markdown",
   "id": "17b48955-b899-46d7-85fb-2cb606c1d782",
   "metadata": {},
   "source": [
    "## 4. 조건문과 반복문 "
   ]
  },
  {
   "cell_type": "markdown",
   "id": "fe93fd24-ab08-4157-875d-040f263c384a",
   "metadata": {},
   "source": [
    "### A. 조건문 "
   ]
  },
  {
   "cell_type": "markdown",
   "id": "490b92ff-1b9d-48fe-bcbc-2a9062e37c17",
   "metadata": {},
   "source": [
    "`-` 예시1"
   ]
  },
  {
   "cell_type": "code",
   "execution_count": 192,
   "id": "6268425d-7b0e-431e-afff-3af6ec9fafdd",
   "metadata": {},
   "outputs": [
    {
     "name": "stdout",
     "output_type": "stream",
     "text": [
      "[1] \"0\"\n"
     ]
    }
   ],
   "source": [
    "x = 0 \n",
    "if(x>0){\n",
    "    print(\"양수\")\n",
    "}else if(x<0){\n",
    "    print(\"음수\")\n",
    "}else{\n",
    "    print(\"0\")\n",
    "}"
   ]
  },
  {
   "cell_type": "markdown",
   "id": "72ca6d98-07b3-4e11-9192-05fcd389c6bf",
   "metadata": {},
   "source": [
    "### B. 반복문 "
   ]
  },
  {
   "cell_type": "markdown",
   "id": "df3c023c-39e5-4e9d-84e9-104093ed715f",
   "metadata": {},
   "source": [
    "`-` 예시1"
   ]
  },
  {
   "cell_type": "code",
   "execution_count": 193,
   "id": "c90e586b-1c8f-44cc-a45b-55b6d6cf7b62",
   "metadata": {},
   "outputs": [
    {
     "name": "stdout",
     "output_type": "stream",
     "text": [
      "[1] 1\n",
      "[1] 2\n",
      "[1] 3\n",
      "[1] 4\n",
      "[1] 5\n",
      "[1] 6\n",
      "[1] 7\n",
      "[1] 8\n",
      "[1] 9\n",
      "[1] 10\n"
     ]
    }
   ],
   "source": [
    "for(x in 1:10){\n",
    "    print(x)\n",
    "}"
   ]
  },
  {
   "cell_type": "markdown",
   "id": "ab909872-305a-49f1-a3fc-70fdf08ceebe",
   "metadata": {},
   "source": [
    "`-` 예시2"
   ]
  },
  {
   "cell_type": "code",
   "execution_count": 195,
   "id": "8e9bb06b-b407-4d8e-8822-e1bab5b63c4b",
   "metadata": {},
   "outputs": [
    {
     "name": "stdout",
     "output_type": "stream",
     "text": [
      "[1] 1\n",
      "[1] 4\n",
      "[1] 9\n",
      "[1] 16\n",
      "[1] 25\n",
      "[1] 36\n",
      "[1] 49\n",
      "[1] 64\n",
      "[1] 81\n",
      "[1] 100\n"
     ]
    }
   ],
   "source": [
    "for(x in 1:10){\n",
    "    print(x^2)\n",
    "}"
   ]
  },
  {
   "cell_type": "markdown",
   "id": "a48a249c-5ecf-48fa-9f02-80826b319031",
   "metadata": {},
   "source": [
    "`-` 예시3"
   ]
  },
  {
   "cell_type": "code",
   "execution_count": 196,
   "id": "6ed57849-24b7-4311-9a4b-7ff732a53ce3",
   "metadata": {},
   "outputs": [
    {
     "name": "stdout",
     "output_type": "stream",
     "text": [
      "[1] 25\n",
      "[1] 36\n",
      "[1] 49\n",
      "[1] 64\n"
     ]
    }
   ],
   "source": [
    "for(x in 1:10){\n",
    "    if( (x^2>20)*(x^2<80) ){\n",
    "        print(x^2)\n",
    "    }\n",
    "}"
   ]
  },
  {
   "cell_type": "markdown",
   "id": "53b2a8b5-36f1-43f1-8765-84ea849727a6",
   "metadata": {},
   "source": [
    "## 5. 문제풀이 II"
   ]
  },
  {
   "cell_type": "markdown",
   "id": "5f406001-54b3-4b8a-96c8-cbeedf0c6f1b",
   "metadata": {},
   "source": [
    "`2010(나)6월평가원-4`. 실수 $a$ 가  \n",
    "$$\n",
    "\\frac{2^a + 2^{-a}}{2^a - 2^{-a}} = -2\n",
    "$$\n",
    "를 만족시킬 때, $4^a + 4^{-a}$ 의 값은?\n",
    "\n",
    "1. $ \\frac{5}{2} $  \n",
    "2. $ \\frac{10}{3} $  \n",
    "3. $ \\frac{17}{4} $  \n",
    "4. $ \\frac{26}{5} $  \n",
    "5. $ \\frac{37}{6} $"
   ]
  },
  {
   "cell_type": "markdown",
   "id": "381559e8-ecc4-4604-b39e-772f6c2c61e8",
   "metadata": {},
   "source": [
    "(풀이)"
   ]
  },
  {
   "cell_type": "code",
   "execution_count": 112,
   "id": "82025833-6ad8-4c37-94a2-07a98386db1f",
   "metadata": {},
   "outputs": [],
   "source": [
    "f = function(a){\n",
    "    (2^a + 2^(-a))/(2^a - 2^(-a))\n",
    "}                "
   ]
  },
  {
   "cell_type": "code",
   "execution_count": 123,
   "id": "ce606a2c-931e-4f8e-99c4-99d3dc36a8d2",
   "metadata": {},
   "outputs": [
    {
     "data": {
      "image/png": "[encoded data removed]",
      "text/plain": [
       "plot without title"
      ]
     },
     "metadata": {
      "image/png": {
       "height": 420,
       "width": 420
      }
     },
     "output_type": "display_data"
    }
   ],
   "source": [
    "a = -50:50/10\n",
    "plot(a,f(a))\n",
    "abline(h=-2,col=2)"
   ]
  },
  {
   "cell_type": "code",
   "execution_count": 146,
   "id": "b1ba2088-03de-4925-8f6e-e59470f5ed96",
   "metadata": {},
   "outputs": [
    {
     "data": {
      "image/png": "[encoded data removed]",
      "text/plain": [
       "plot without title"
      ]
     },
     "metadata": {
      "image/png": {
       "height": 420,
       "width": 420
      }
     },
     "output_type": "display_data"
    }
   ],
   "source": [
    "a = seq(from=-2,to=-0.1,by=0.0001)\n",
    "plot(a,f(a),type='l')\n",
    "abline(h=-2,col=2)"
   ]
  },
  {
   "cell_type": "code",
   "execution_count": 147,
   "id": "89ecc4d6-bced-4165-af7d-75b2ccc32114",
   "metadata": {},
   "outputs": [
    {
     "data": {
      "text/html": [
       "-0.7925"
      ],
      "text/latex": [
       "-0.7925"
      ],
      "text/markdown": [
       "-0.7925"
      ],
      "text/plain": [
       "[1] -0.7925"
      ]
     },
     "metadata": {},
     "output_type": "display_data"
    }
   ],
   "source": [
    "a[abs(f(a)+2) == min(abs(f(a)+2))]"
   ]
  },
  {
   "cell_type": "code",
   "execution_count": 151,
   "id": "565e9ea4-f333-41ee-b25c-ba2bfff49990",
   "metadata": {},
   "outputs": [
    {
     "data": {
      "text/html": [
       "-1.99996101223429"
      ],
      "text/latex": [
       "-1.99996101223429"
      ],
      "text/markdown": [
       "-1.99996101223429"
      ],
      "text/plain": [
       "[1] -1.999961"
      ]
     },
     "metadata": {},
     "output_type": "display_data"
    }
   ],
   "source": [
    "f(-0.7925)"
   ]
  },
  {
   "cell_type": "code",
   "execution_count": 152,
   "id": "4cbdfb6b-7d29-4132-a20a-c6c066d1ca91",
   "metadata": {},
   "outputs": [
    {
     "data": {
      "text/html": [
       "3.33340264784444"
      ],
      "text/latex": [
       "3.33340264784444"
      ],
      "text/markdown": [
       "3.33340264784444"
      ],
      "text/plain": [
       "[1] 3.333403"
      ]
     },
     "metadata": {},
     "output_type": "display_data"
    }
   ],
   "source": [
    "4^(-0.7925)+4^(0.7925)"
   ]
  },
  {
   "cell_type": "code",
   "execution_count": 153,
   "id": "5a41b232-fe5a-4798-be9a-33addd2e4d74",
   "metadata": {},
   "outputs": [
    {
     "data": {
      "text/html": [
       "<style>\n",
       ".list-inline {list-style: none; margin:0; padding: 0}\n",
       ".list-inline>li {display: inline-block}\n",
       ".list-inline>li:not(:last-child)::after {content: \"\\00b7\"; padding: 0 .5ex}\n",
       "</style>\n",
       "<ol class=list-inline><li>2.5</li><li>3.33333333333333</li><li>4.25</li><li>5.2</li><li>6.16666666666667</li></ol>\n"
      ],
      "text/latex": [
       "\\begin{enumerate*}\n",
       "\\item 2.5\n",
       "\\item 3.33333333333333\n",
       "\\item 4.25\n",
       "\\item 5.2\n",
       "\\item 6.16666666666667\n",
       "\\end{enumerate*}\n"
      ],
      "text/markdown": [
       "1. 2.5\n",
       "2. 3.33333333333333\n",
       "3. 4.25\n",
       "4. 5.2\n",
       "5. 6.16666666666667\n",
       "\n",
       "\n"
      ],
      "text/plain": [
       "[1] 2.500000 3.333333 4.250000 5.200000 6.166667"
      ]
     },
     "metadata": {},
     "output_type": "display_data"
    }
   ],
   "source": [
    "c(5/2, 10/3, 17/4, 26/5, 37/6)"
   ]
  },
  {
   "cell_type": "markdown",
   "id": "1d114b4b-7f70-4cf1-8f06-751a7e10fc58",
   "metadata": {},
   "source": [
    "`2024수능-16`. 방정식 $3^{x-8} = \\left(\\frac{1}{27}\\right)^x$ 을 만족시키는 실수 $x$의 값을 구하시오. **[3점]**"
   ]
  },
  {
   "cell_type": "markdown",
   "id": "4548e45f-ba18-476d-ba7c-d726180ebf9d",
   "metadata": {},
   "source": [
    "(풀이)"
   ]
  },
  {
   "cell_type": "code",
   "execution_count": 163,
   "id": "5ceb64ec-32bf-4221-a974-2721560cf1e4",
   "metadata": {},
   "outputs": [
    {
     "data": {
      "image/png": "[encoded data removed]",
      "text/plain": [
       "plot without title"
      ]
     },
     "metadata": {
      "image/png": {
       "height": 420,
       "width": 420
      }
     },
     "output_type": "display_data"
    }
   ],
   "source": [
    "x = seq(from = -5, to = 5, by=0.1)\n",
    "plot(x,3^(x-8),type='l')\n",
    "lines(x,(1/27)^x,col=2)"
   ]
  },
  {
   "cell_type": "code",
   "execution_count": 171,
   "id": "c99f7993-f5d2-4b97-b983-863c97136552",
   "metadata": {},
   "outputs": [
    {
     "data": {
      "text/html": [
       "2"
      ],
      "text/latex": [
       "2"
      ],
      "text/markdown": [
       "2"
      ],
      "text/plain": [
       "[1] 2"
      ]
     },
     "metadata": {},
     "output_type": "display_data"
    }
   ],
   "source": [
    "x[(abs(3^(x-8) - (1/27)^x)) == min(abs(3^(x-8) - (1/27)^x))]"
   ]
  },
  {
   "cell_type": "markdown",
   "id": "d3da85c8-82dd-4597-b751-3e308c693edd",
   "metadata": {},
   "source": [
    "`2021(가)9월평가원-10`. 수열 $\\{a_n\\}$은 $a_1 = 12$이고, 모든 자연수 $n$에 대하여  \n",
    "$$\n",
    "a_{n+1} + a_n = (-1)^{n+1} \\times n\n",
    "$$\n",
    "을 만족시킨다. $a_k > a_1$인 자연수 $k$의 최소값은?\n",
    "\n",
    "1. 2  \n",
    "2. 4  \n",
    "3. 6  \n",
    "4. 8  \n",
    "5. 10"
   ]
  },
  {
   "cell_type": "markdown",
   "id": "274adc6c-0fad-490b-960c-678cd057326e",
   "metadata": {},
   "source": [
    "(풀이1)"
   ]
  },
  {
   "cell_type": "code",
   "execution_count": 178,
   "id": "01118827-86df-4109-8be0-4699aaa9a21f",
   "metadata": {},
   "outputs": [
    {
     "name": "stdout",
     "output_type": "stream",
     "text": [
      "[1] -11\n",
      "[1] 9\n",
      "[1] -6\n",
      "[1] 2\n",
      "[1] 3\n",
      "[1] -9\n",
      "[1] 16\n",
      "[1] -24\n",
      "[1] 33\n",
      "[1] -43\n"
     ]
    }
   ],
   "source": [
    "a = 12\n",
    "for(n in 1:10){\n",
    "    a = (-1)^(n+1) * n - a\n",
    "    print(a)\n",
    "}"
   ]
  },
  {
   "cell_type": "markdown",
   "id": "e45cd14d-c65c-4e99-a2d7-8c68a366310a",
   "metadata": {},
   "source": [
    "(풀이2)"
   ]
  },
  {
   "cell_type": "code",
   "execution_count": 186,
   "id": "62b195b2-f762-4127-8bfe-565cfaba3da0",
   "metadata": {},
   "outputs": [
    {
     "data": {
      "text/html": [
       "<style>\n",
       ".list-inline {list-style: none; margin:0; padding: 0}\n",
       ".list-inline>li {display: inline-block}\n",
       ".list-inline>li:not(:last-child)::after {content: \"\\00b7\"; padding: 0 .5ex}\n",
       "</style>\n",
       "<ol class=list-inline><li>12</li><li>-11</li><li>9</li><li>-6</li><li>2</li><li>3</li><li>-9</li><li>16</li><li>-24</li><li>33</li><li>-43</li></ol>\n"
      ],
      "text/latex": [
       "\\begin{enumerate*}\n",
       "\\item 12\n",
       "\\item -11\n",
       "\\item 9\n",
       "\\item -6\n",
       "\\item 2\n",
       "\\item 3\n",
       "\\item -9\n",
       "\\item 16\n",
       "\\item -24\n",
       "\\item 33\n",
       "\\item -43\n",
       "\\end{enumerate*}\n"
      ],
      "text/markdown": [
       "1. 12\n",
       "2. -11\n",
       "3. 9\n",
       "4. -6\n",
       "5. 2\n",
       "6. 3\n",
       "7. -9\n",
       "8. 16\n",
       "9. -24\n",
       "10. 33\n",
       "11. -43\n",
       "\n",
       "\n"
      ],
      "text/plain": [
       " [1]  12 -11   9  -6   2   3  -9  16 -24  33 -43"
      ]
     },
     "metadata": {},
     "output_type": "display_data"
    }
   ],
   "source": [
    "a = c()\n",
    "a[1]=12\n",
    "for(n in 1:10){\n",
    "    a[n+1] = (-1)^(n+1) * n - a[n]\n",
    "}\n",
    "a"
   ]
  },
  {
   "cell_type": "code",
   "execution_count": 189,
   "id": "6d9db6c8-25b3-4f96-80fe-9119cc541b3d",
   "metadata": {},
   "outputs": [
    {
     "data": {
      "text/html": [
       "<style>\n",
       ".list-inline {list-style: none; margin:0; padding: 0}\n",
       ".list-inline>li {display: inline-block}\n",
       ".list-inline>li:not(:last-child)::after {content: \"\\00b7\"; padding: 0 .5ex}\n",
       "</style>\n",
       "<ol class=list-inline><li>8</li><li>10</li></ol>\n"
      ],
      "text/latex": [
       "\\begin{enumerate*}\n",
       "\\item 8\n",
       "\\item 10\n",
       "\\end{enumerate*}\n"
      ],
      "text/markdown": [
       "1. 8\n",
       "2. 10\n",
       "\n",
       "\n"
      ],
      "text/plain": [
       "[1]  8 10"
      ]
     },
     "metadata": {},
     "output_type": "display_data"
    }
   ],
   "source": [
    "(1:10)[a>12]"
   ]
  }
 ],
 "metadata": {
  "kernelspec": {
   "display_name": "R",
   "language": "R",
   "name": "ir"
  },
  "language_info": {
   "codemirror_mode": "r",
   "file_extension": ".r",
   "mimetype": "text/x-r-source",
   "name": "R",
   "pygments_lexer": "r",
   "version": "4.4.2"
  }
 },
 "nbformat": 4,
 "nbformat_minor": 5
}
