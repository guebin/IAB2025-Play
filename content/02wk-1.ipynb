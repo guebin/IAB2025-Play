{
 "cells": [
  {
   "cell_type": "raw",
   "id": "a27a79ab-4e69-4d9c-a5ba-c9bcfb17c870",
   "metadata": {
    "id": "87b5cded-346b-4915-acf5-b5ec93a5207d"
   },
   "source": [
    "---\n",
    "title: \"02wk-1: xxx\"\n",
    "author: \"최규빈\"\n",
    "date: \"03/11/2025\"\n",
    "draft: true\n",
    "---"
   ]
  },
  {
   "cell_type": "markdown",
   "id": "2a960dab-0eb5-4373-86f9-10b38f00220c",
   "metadata": {},
   "source": [
    "**`2024수능-19`.** 함수 $f(x) = \\sin \\frac{\\pi}{4} x$ 할 때, $0 < x < 16$에서 부등식  \n",
    "\n",
    "$$\n",
    "f(2+x) f(2-x) < \\frac{1}{4}\n",
    "$$\n",
    "\n",
    "을 만족시키는 모든 자연수 $x$의 값의 합을 구하시오. **[3점]**"
   ]
  },
  {
   "cell_type": "markdown",
   "id": "5148f623-00e4-4004-a98d-37f6d7b814fe",
   "metadata": {},
   "source": [
    "(풀이1)"
   ]
  },
  {
   "cell_type": "code",
   "execution_count": 112,
   "id": "2084602d-ff09-4e1d-8a20-28165912dbf2",
   "metadata": {},
   "outputs": [
    {
     "data": {
      "text/html": [
       "0.5"
      ],
      "text/latex": [
       "0.5"
      ],
      "text/markdown": [
       "0.5"
      ],
      "text/plain": [
       "[1] 0.5"
      ]
     },
     "metadata": {},
     "output_type": "display_data"
    }
   ],
   "source": [
    "x=1\n",
    "sin(pi/4*(2+x)) * sin(pi/4*(2-x))"
   ]
  },
  {
   "cell_type": "markdown",
   "id": "2870970e-c41c-4146-8b15-24a79f1a260f",
   "metadata": {},
   "source": [
    "(풀이2)"
   ]
  },
  {
   "cell_type": "code",
   "execution_count": 116,
   "id": "1aec6c85-c631-4abb-8937-9a008a3f849a",
   "metadata": {},
   "outputs": [],
   "source": [
    "f = function(x){\n",
    "    sin(pi/4*x)\n",
    "}"
   ]
  },
  {
   "cell_type": "code",
   "execution_count": 115,
   "id": "4683fc60-e3a7-49d6-95da-77b636c14248",
   "metadata": {},
   "outputs": [
    {
     "data": {
      "text/html": [
       "0.5"
      ],
      "text/latex": [
       "0.5"
      ],
      "text/markdown": [
       "0.5"
      ],
      "text/plain": [
       "[1] 0.5"
      ]
     },
     "metadata": {},
     "output_type": "display_data"
    }
   ],
   "source": [
    "x=1\n",
    "f(2+x)*f(2-x)"
   ]
  },
  {
   "cell_type": "markdown",
   "id": "32d6e333-b585-49d1-aef6-0a59fc7c8328",
   "metadata": {},
   "source": [
    "(풀이3)"
   ]
  },
  {
   "cell_type": "code",
   "execution_count": 117,
   "id": "3f87ddae-c044-492c-87bc-fbac1fb74610",
   "metadata": {},
   "outputs": [],
   "source": [
    "x = 1:15"
   ]
  },
  {
   "cell_type": "code",
   "execution_count": 121,
   "id": "14475fc3-db64-4e83-b0ea-79abf114791c",
   "metadata": {},
   "outputs": [
    {
     "data": {
      "text/html": [
       "<style>\n",
       ".list-inline {list-style: none; margin:0; padding: 0}\n",
       ".list-inline>li {display: inline-block}\n",
       ".list-inline>li:not(:last-child)::after {content: \"\\00b7\"; padding: 0 .5ex}\n",
       "</style>\n",
       "<ol class=list-inline><li>2</li><li>6</li><li>10</li><li>14</li></ol>\n"
      ],
      "text/latex": [
       "\\begin{enumerate*}\n",
       "\\item 2\n",
       "\\item 6\n",
       "\\item 10\n",
       "\\item 14\n",
       "\\end{enumerate*}\n"
      ],
      "text/markdown": [
       "1. 2\n",
       "2. 6\n",
       "3. 10\n",
       "4. 14\n",
       "\n",
       "\n"
      ],
      "text/plain": [
       "[1]  2  6 10 14"
      ]
     },
     "metadata": {},
     "output_type": "display_data"
    }
   ],
   "source": [
    "x[f(2+x)*f(2-x) < 0.25]"
   ]
  }
 ],
 "metadata": {
  "kernelspec": {
   "display_name": "Python 3 (ipykernel)",
   "language": "python",
   "name": "python3"
  },
  "language_info": {
   "codemirror_mode": {
    "name": "ipython",
    "version": 3
   },
   "file_extension": ".py",
   "mimetype": "text/x-python",
   "name": "python",
   "nbconvert_exporter": "python",
   "pygments_lexer": "ipython3",
   "version": "3.10.16"
  }
 },
 "nbformat": 4,
 "nbformat_minor": 5
}
