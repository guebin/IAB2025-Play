{
  "metadata": {
    "kernelspec": {
      "name": "webR",
      "display_name": "R (webR)",
      "language": "R"
    },
    "language_info": {
      "name": "R",
      "version": "4.3.3",
      "mimetype": "text/x-rsrc",
      "file_extension": ".R"
    }
  },
  "nbformat_minor": 4,
  "nbformat": 4,
  "cells": [
    {
      "cell_type": "raw",
      "source": "---\ntitle: \"04wk-2: 벡터와 행렬의 결합, 벡터관련 연산, 자료의 변환 // 숙제\"\nauthor: \"최규빈\"\ndate: \"03/27/2025\"\ndraft: false\n---",
      "metadata": {
        "vscode": {
          "languageId": "raw"
        }
      }
    },
    {
      "cell_type": "markdown",
      "source": "{{<video https://youtu.be/playlist?list=PLQqh36zP38-ykLSHbfcQj5J02t4X-q_JW&si=oXe2a7axdfdLlsxD >}}",
      "metadata": {}
    },
    {
      "cell_type": "markdown",
      "source": "## 1. 벡터와 행렬의 결합",
      "metadata": {}
    },
    {
      "cell_type": "markdown",
      "source": "`# 예제1` ",
      "metadata": {}
    },
    {
      "cell_type": "code",
      "source": "x <- c(1,2,3)\ny <- c(1,2,3,4)",
      "metadata": {
        "trusted": true
      },
      "outputs": [],
      "execution_count": 2
    },
    {
      "cell_type": "code",
      "source": "c(x,y)",
      "metadata": {
        "trusted": true
      },
      "outputs": [
        {
          "execution_count": 6,
          "output_type": "execute_result",
          "data": {
            "text/plain": [
              "[1] 1 2 3 1 2 3 4"
            ]
          },
          "metadata": {}
        }
      ],
      "execution_count": 6
    },
    {
      "cell_type": "code",
      "source": "c(y,x)",
      "metadata": {
        "trusted": true
      },
      "outputs": [
        {
          "execution_count": 7,
          "output_type": "execute_result",
          "data": {
            "text/plain": [
              "[1] 1 2 3 4 1 2 3"
            ]
          },
          "metadata": {}
        }
      ],
      "execution_count": 7
    },
    {
      "cell_type": "code",
      "source": "c(-1,x)",
      "metadata": {
        "trusted": true
      },
      "outputs": [
        {
          "execution_count": 8,
          "output_type": "execute_result",
          "data": {
            "text/plain": [
              "[1] -1  1  2  3"
            ]
          },
          "metadata": {}
        }
      ],
      "execution_count": 8
    },
    {
      "cell_type": "code",
      "source": "c(x,2,2,2,y)",
      "metadata": {},
      "outputs": [
        {
          "data": {
            "text/plain": [
              " [1] 1 2 3 2 2 2 1 2 3 4"
            ]
          },
          "metadata": {},
          "output_type": "display_data"
        }
      ],
      "execution_count": 34
    },
    {
      "cell_type": "markdown",
      "source": "- c는 사실 `결합하라`라는 의미를 가짐 ",
      "metadata": {}
    },
    {
      "cell_type": "markdown",
      "source": "`#`",
      "metadata": {}
    },
    {
      "cell_type": "markdown",
      "source": "`# 예제2` -- 차원이 맞지 않을 경우 ",
      "metadata": {}
    },
    {
      "cell_type": "code",
      "source": "x<-c(1,2,3,4)\ny<-c(1,2)\ncbind(x,y)",
      "metadata": {
        "trusted": true
      },
      "outputs": [
        {
          "execution_count": 65,
          "output_type": "execute_result",
          "data": {
            "text/plain": [
              "     x y\n[1,] 1 1\n[2,] 2 2\n[3,] 3 1\n[4,] 4 2"
            ]
          },
          "metadata": {}
        }
      ],
      "execution_count": 65
    },
    {
      "cell_type": "code",
      "source": "x<-c(1,2,3,4)\ncbind(1,x)",
      "metadata": {
        "trusted": true
      },
      "outputs": [
        {
          "execution_count": 14,
          "output_type": "execute_result",
          "data": {
            "text/plain": [
              "       x\n[1,] 1 1\n[2,] 1 2\n[3,] 1 3\n[4,] 1 4"
            ]
          },
          "metadata": {}
        }
      ],
      "execution_count": 14
    },
    {
      "cell_type": "code",
      "source": "x<-c(1,2,3,4)\ny<-c(1,2)\nrbind(x,y)",
      "metadata": {
        "trusted": true
      },
      "outputs": [
        {
          "execution_count": 15,
          "output_type": "execute_result",
          "data": {
            "text/plain": [
              "  [,1] [,2] [,3] [,4]\nx    1    2    3    4\ny    1    2    1    2"
            ]
          },
          "metadata": {}
        }
      ],
      "execution_count": 15
    },
    {
      "cell_type": "markdown",
      "source": "`#`",
      "metadata": {}
    },
    {
      "cell_type": "markdown",
      "source": "`# 예제3`",
      "metadata": {}
    },
    {
      "cell_type": "code",
      "source": "x<-c(1,2,3)\ny<-c(4,5)",
      "metadata": {
        "trusted": true
      },
      "outputs": [],
      "execution_count": 16
    },
    {
      "cell_type": "code",
      "source": "cbind(1,c(x,y))",
      "metadata": {
        "trusted": true
      },
      "outputs": [
        {
          "execution_count": 21,
          "output_type": "execute_result",
          "data": {
            "text/plain": [
              "     [,1] [,2]\n[1,]    1    1\n[2,]    1    2\n[3,]    1    3\n[4,]    1    4\n[5,]    1    5"
            ]
          },
          "metadata": {}
        }
      ],
      "execution_count": 21
    },
    {
      "cell_type": "markdown",
      "source": "`#`",
      "metadata": {}
    },
    {
      "cell_type": "markdown",
      "source": "`# 예제4`",
      "metadata": {}
    },
    {
      "cell_type": "code",
      "source": "X<-rbind(1:5,6:10)\ny<-c(1,2)",
      "metadata": {
        "trusted": true
      },
      "outputs": [],
      "execution_count": 22
    },
    {
      "cell_type": "code",
      "source": "cbind(X,y,y,X)",
      "metadata": {
        "trusted": true
      },
      "outputs": [
        {
          "execution_count": 36,
          "output_type": "execute_result",
          "data": {
            "text/plain": [
              "                y y           \n[1,] 1 2 3 4  5 1 1 1 2 3 4  5\n[2,] 6 7 8 9 10 2 2 6 7 8 9 10"
            ]
          },
          "metadata": {}
        }
      ],
      "execution_count": 36
    },
    {
      "cell_type": "markdown",
      "source": "`*` 이름을 지우기 위해서는 아래와 같이 하면 된다.",
      "metadata": {}
    },
    {
      "cell_type": "code",
      "source": "mat = cbind(X,y,y,X)\ncolnames(mat)= NULL \nmat",
      "metadata": {
        "trusted": true
      },
      "outputs": [
        {
          "execution_count": 52,
          "output_type": "execute_result",
          "data": {
            "text/plain": [
              "     [,1] [,2] [,3] [,4] [,5] [,6] [,7] [,8] [,9] [,10] [,11] [,12]\n[1,]    1    2    3    4    5    1    1    1    2     3     4     5\n[2,]    6    7    8    9   10    2    2    6    7     8     9    10"
            ]
          },
          "metadata": {}
        }
      ],
      "execution_count": 52
    },
    {
      "cell_type": "markdown",
      "source": "`#`",
      "metadata": {}
    },
    {
      "cell_type": "markdown",
      "source": "`# 예제5`",
      "metadata": {}
    },
    {
      "cell_type": "code",
      "source": "X<-rbind(1:5,6:10)\nrbind(X,1)",
      "metadata": {
        "trusted": true
      },
      "outputs": [
        {
          "execution_count": 53,
          "output_type": "execute_result",
          "data": {
            "text/plain": [
              "     [,1] [,2] [,3] [,4] [,5]\n[1,]    1    2    3    4    5\n[2,]    6    7    8    9   10\n[3,]    1    1    1    1    1"
            ]
          },
          "metadata": {}
        }
      ],
      "execution_count": 53
    },
    {
      "cell_type": "markdown",
      "source": "`#`",
      "metadata": {}
    },
    {
      "cell_type": "markdown",
      "source": "`# 예제6`",
      "metadata": {}
    },
    {
      "cell_type": "code",
      "source": "X <- rbind(1:5,6:10,1:5)\nY <- cbind(1:3,4:6,7:9)",
      "metadata": {
        "trusted": true
      },
      "outputs": [],
      "execution_count": 56
    },
    {
      "cell_type": "code",
      "source": "cbind(X,Y)",
      "metadata": {
        "trusted": true
      },
      "outputs": [
        {
          "execution_count": 60,
          "output_type": "execute_result",
          "data": {
            "text/plain": [
              "     [,1] [,2] [,3] [,4] [,5] [,6] [,7] [,8]\n[1,]    1    2    3    4    5    1    4    7\n[2,]    6    7    8    9   10    2    5    8\n[3,]    1    2    3    4    5    3    6    9"
            ]
          },
          "metadata": {}
        }
      ],
      "execution_count": 60
    },
    {
      "cell_type": "code",
      "source": "rbind(X,Y)",
      "metadata": {
        "trusted": true
      },
      "outputs": [
        {
          "name": "stderr",
          "output_type": "stream",
          "text": "Error: Error in rbind(X, Y): number of columns of matrices must match (see arg 2)\n"
        }
      ],
      "execution_count": 64
    },
    {
      "cell_type": "markdown",
      "source": "`#`",
      "metadata": {}
    },
    {
      "cell_type": "markdown",
      "source": "## 2. 벡터관련 연산 ",
      "metadata": {}
    },
    {
      "cell_type": "markdown",
      "source": "`# 예제1`",
      "metadata": {}
    },
    {
      "cell_type": "code",
      "source": "c(1,2,6) %in% c(1,2,3,4)",
      "metadata": {
        "trusted": true
      },
      "outputs": [
        {
          "execution_count": 74,
          "output_type": "execute_result",
          "data": {
            "text/plain": [
              "[1]  TRUE  TRUE FALSE"
            ]
          },
          "metadata": {}
        }
      ],
      "execution_count": 74
    },
    {
      "cell_type": "markdown",
      "source": "`#`",
      "metadata": {}
    },
    {
      "cell_type": "markdown",
      "source": "`# 예제2`",
      "metadata": {}
    },
    {
      "cell_type": "code",
      "source": "union(c(1,1,2,2),c(2,3,4))",
      "metadata": {},
      "outputs": [
        {
          "data": {
            "text/plain": [
              "[1] 1 2 3 4"
            ]
          },
          "metadata": {},
          "output_type": "display_data"
        }
      ],
      "execution_count": 77
    },
    {
      "cell_type": "markdown",
      "source": "`#`",
      "metadata": {}
    },
    {
      "cell_type": "markdown",
      "source": "`# 예제3`",
      "metadata": {}
    },
    {
      "cell_type": "code",
      "source": "intersect(1:5,2:6)",
      "metadata": {
        "trusted": true
      },
      "outputs": [
        {
          "execution_count": 77,
          "output_type": "execute_result",
          "data": {
            "text/plain": [
              "[1] 2 3 4 5"
            ]
          },
          "metadata": {}
        }
      ],
      "execution_count": 77
    },
    {
      "cell_type": "markdown",
      "source": "`#`",
      "metadata": {}
    },
    {
      "cell_type": "markdown",
      "source": "## 3. 자료의변환 ",
      "metadata": {}
    },
    {
      "cell_type": "markdown",
      "source": "`# motivating ex` -- 20부터 30까지의 정수중 홀수를 출력하라",
      "metadata": {}
    },
    {
      "cell_type": "code",
      "source": "x = 20:30\nx",
      "metadata": {
        "trusted": true
      },
      "outputs": [
        {
          "execution_count": 92,
          "output_type": "execute_result",
          "data": {
            "text/plain": [
              " [1] 20 21 22 23 24 25 26 27 28 29 30"
            ]
          },
          "metadata": {}
        }
      ],
      "execution_count": 92
    },
    {
      "cell_type": "code",
      "source": "x %% 2",
      "metadata": {
        "trusted": true
      },
      "outputs": [
        {
          "execution_count": 103,
          "output_type": "execute_result",
          "data": {
            "text/plain": [
              " [1] 0 1 0 1 0 1 0 1 0 1 0"
            ]
          },
          "metadata": {}
        }
      ],
      "execution_count": 103
    },
    {
      "cell_type": "code",
      "source": "as.logical(x %% 2)",
      "metadata": {
        "trusted": true
      },
      "outputs": [
        {
          "execution_count": 99,
          "output_type": "execute_result",
          "data": {
            "text/plain": [
              " [1] FALSE  TRUE FALSE  TRUE FALSE  TRUE FALSE  TRUE FALSE  TRUE FALSE"
            ]
          },
          "metadata": {}
        }
      ],
      "execution_count": 99
    },
    {
      "cell_type": "code",
      "source": "x[as.logical(x %% 2)]",
      "metadata": {
        "trusted": true
      },
      "outputs": [
        {
          "execution_count": 100,
          "output_type": "execute_result",
          "data": {
            "text/plain": [
              "[1] 21 23 25 27 29"
            ]
          },
          "metadata": {}
        }
      ],
      "execution_count": 100
    },
    {
      "cell_type": "markdown",
      "source": "`#`",
      "metadata": {}
    },
    {
      "cell_type": "markdown",
      "source": "`# 예제1`",
      "metadata": {}
    },
    {
      "cell_type": "code",
      "source": "x = \"123\"\nx",
      "metadata": {
        "trusted": true
      },
      "outputs": [
        {
          "execution_count": 114,
          "output_type": "execute_result",
          "data": {
            "text/plain": [
              "[1] \"123\""
            ]
          },
          "metadata": {}
        }
      ],
      "execution_count": 114
    },
    {
      "cell_type": "code",
      "source": "as.numeric(x) # as.double(x) 와 동일",
      "metadata": {
        "trusted": true
      },
      "outputs": [
        {
          "execution_count": 119,
          "output_type": "execute_result",
          "data": {
            "text/plain": [
              "[1] 123"
            ]
          },
          "metadata": {}
        }
      ],
      "execution_count": 119
    },
    {
      "cell_type": "code",
      "source": "as.logical(x)",
      "metadata": {
        "trusted": true
      },
      "outputs": [
        {
          "execution_count": 120,
          "output_type": "execute_result",
          "data": {
            "text/plain": [
              "[1] NA"
            ]
          },
          "metadata": {}
        }
      ],
      "execution_count": 120
    },
    {
      "cell_type": "markdown",
      "source": "`#`",
      "metadata": {}
    },
    {
      "cell_type": "markdown",
      "source": "`# 예제2`",
      "metadata": {}
    },
    {
      "cell_type": "code",
      "source": "x = \"1.23\"",
      "metadata": {
        "trusted": true
      },
      "outputs": [],
      "execution_count": 122
    },
    {
      "cell_type": "code",
      "source": "as.numeric(x) # as.double(x) 와 동일",
      "metadata": {
        "trusted": true
      },
      "outputs": [
        {
          "execution_count": 125,
          "output_type": "execute_result",
          "data": {
            "text/plain": [
              "[1] 1.23"
            ]
          },
          "metadata": {}
        }
      ],
      "execution_count": 125
    },
    {
      "cell_type": "code",
      "source": "as.logical(x)",
      "metadata": {
        "trusted": true
      },
      "outputs": [
        {
          "execution_count": 126,
          "output_type": "execute_result",
          "data": {
            "text/plain": [
              "[1] NA"
            ]
          },
          "metadata": {}
        }
      ],
      "execution_count": 126
    },
    {
      "cell_type": "markdown",
      "source": "`#`",
      "metadata": {}
    },
    {
      "cell_type": "markdown",
      "source": "`# 예제3`",
      "metadata": {}
    },
    {
      "cell_type": "code",
      "source": "x = 3.14",
      "metadata": {
        "trusted": true
      },
      "outputs": [],
      "execution_count": 127
    },
    {
      "cell_type": "code",
      "source": "as.character(x)",
      "metadata": {
        "trusted": true
      },
      "outputs": [
        {
          "execution_count": 128,
          "output_type": "execute_result",
          "data": {
            "text/plain": [
              "[1] \"3.14\""
            ]
          },
          "metadata": {}
        }
      ],
      "execution_count": 128
    },
    {
      "cell_type": "code",
      "source": "as.logical(x)",
      "metadata": {
        "trusted": true
      },
      "outputs": [
        {
          "execution_count": 129,
          "output_type": "execute_result",
          "data": {
            "text/plain": [
              "[1] TRUE"
            ]
          },
          "metadata": {}
        }
      ],
      "execution_count": 129
    },
    {
      "cell_type": "markdown",
      "source": "`#`",
      "metadata": {}
    },
    {
      "cell_type": "markdown",
      "source": "`# 예제4`",
      "metadata": {}
    },
    {
      "cell_type": "code",
      "source": "x = 0",
      "metadata": {
        "trusted": true
      },
      "outputs": [],
      "execution_count": 130
    },
    {
      "cell_type": "code",
      "source": "as.character(x)",
      "metadata": {
        "trusted": true
      },
      "outputs": [
        {
          "execution_count": 131,
          "output_type": "execute_result",
          "data": {
            "text/plain": [
              "[1] \"0\""
            ]
          },
          "metadata": {}
        }
      ],
      "execution_count": 131
    },
    {
      "cell_type": "code",
      "source": "as.logical(x)",
      "metadata": {
        "trusted": true
      },
      "outputs": [
        {
          "execution_count": 132,
          "output_type": "execute_result",
          "data": {
            "text/plain": [
              "[1] FALSE"
            ]
          },
          "metadata": {}
        }
      ],
      "execution_count": 132
    },
    {
      "cell_type": "markdown",
      "source": "`#`",
      "metadata": {}
    },
    {
      "cell_type": "markdown",
      "source": "`# 예제5`",
      "metadata": {}
    },
    {
      "cell_type": "code",
      "source": "x = -5:5\nx",
      "metadata": {
        "trusted": true
      },
      "outputs": [
        {
          "execution_count": 133,
          "output_type": "execute_result",
          "data": {
            "text/plain": [
              " [1] -5 -4 -3 -2 -1  0  1  2  3  4  5"
            ]
          },
          "metadata": {}
        }
      ],
      "execution_count": 133
    },
    {
      "cell_type": "code",
      "source": "as.character(x)",
      "metadata": {
        "trusted": true
      },
      "outputs": [
        {
          "execution_count": 134,
          "output_type": "execute_result",
          "data": {
            "text/plain": [
              " [1] \"-5\" \"-4\" \"-3\" \"-2\" \"-1\" \"0\"  \"1\"  \"2\"  \"3\"  \"4\"  \"5\" "
            ]
          },
          "metadata": {}
        }
      ],
      "execution_count": 134
    },
    {
      "cell_type": "code",
      "source": "as.logical(x)",
      "metadata": {
        "trusted": true
      },
      "outputs": [
        {
          "execution_count": 135,
          "output_type": "execute_result",
          "data": {
            "text/plain": [
              " [1]  TRUE  TRUE  TRUE  TRUE  TRUE FALSE  TRUE  TRUE  TRUE  TRUE  TRUE"
            ]
          },
          "metadata": {}
        }
      ],
      "execution_count": 135
    },
    {
      "cell_type": "markdown",
      "source": "`#`",
      "metadata": {}
    },
    {
      "cell_type": "markdown",
      "source": "`# 예제6` ",
      "metadata": {}
    },
    {
      "cell_type": "code",
      "source": "x = -1:1\nx",
      "metadata": {
        "trusted": true
      },
      "outputs": [
        {
          "execution_count": 141,
          "output_type": "execute_result",
          "data": {
            "text/plain": [
              "[1] -1  0  1"
            ]
          },
          "metadata": {}
        }
      ],
      "execution_count": 141
    },
    {
      "cell_type": "code",
      "source": "as.matrix(x)",
      "metadata": {
        "trusted": true
      },
      "outputs": [
        {
          "execution_count": 142,
          "output_type": "execute_result",
          "data": {
            "text/plain": [
              "     [,1]\n[1,]   -1\n[2,]    0\n[3,]    1"
            ]
          },
          "metadata": {}
        }
      ],
      "execution_count": 142
    },
    {
      "cell_type": "markdown",
      "source": "`#`",
      "metadata": {}
    },
    {
      "cell_type": "markdown",
      "source": "`# 예제7`",
      "metadata": {}
    },
    {
      "cell_type": "code",
      "source": "x = cbind(-1:1)\nx",
      "metadata": {
        "trusted": true
      },
      "outputs": [
        {
          "execution_count": 143,
          "output_type": "execute_result",
          "data": {
            "text/plain": [
              "     [,1]\n[1,]   -1\n[2,]    0\n[3,]    1"
            ]
          },
          "metadata": {}
        }
      ],
      "execution_count": 143
    },
    {
      "cell_type": "code",
      "source": "as.vector(x)",
      "metadata": {
        "trusted": true
      },
      "outputs": [
        {
          "execution_count": 147,
          "output_type": "execute_result",
          "data": {
            "text/plain": [
              "[1] -1  0  1"
            ]
          },
          "metadata": {}
        }
      ],
      "execution_count": 147
    },
    {
      "cell_type": "markdown",
      "source": "`#`",
      "metadata": {}
    },
    {
      "cell_type": "markdown",
      "source": "`# 예제8`",
      "metadata": {}
    },
    {
      "cell_type": "code",
      "source": "x = rbind(-1:1)\nx",
      "metadata": {
        "trusted": true
      },
      "outputs": [
        {
          "execution_count": 149,
          "output_type": "execute_result",
          "data": {
            "text/plain": [
              "     [,1] [,2] [,3]\n[1,]   -1    0    1"
            ]
          },
          "metadata": {}
        }
      ],
      "execution_count": 149
    },
    {
      "cell_type": "code",
      "source": "as.vector(x)",
      "metadata": {
        "trusted": true
      },
      "outputs": [
        {
          "execution_count": 150,
          "output_type": "execute_result",
          "data": {
            "text/plain": [
              "[1] -1  0  1"
            ]
          },
          "metadata": {}
        }
      ],
      "execution_count": 150
    },
    {
      "cell_type": "markdown",
      "source": "`#`",
      "metadata": {}
    },
    {
      "cell_type": "markdown",
      "source": "`# 예제9`",
      "metadata": {}
    },
    {
      "cell_type": "code",
      "source": "x = cbind(c(1,2),c(3,4))\nx",
      "metadata": {
        "trusted": true
      },
      "outputs": [
        {
          "execution_count": 151,
          "output_type": "execute_result",
          "data": {
            "text/plain": [
              "     [,1] [,2]\n[1,]    1    3\n[2,]    2    4"
            ]
          },
          "metadata": {}
        }
      ],
      "execution_count": 151
    },
    {
      "cell_type": "code",
      "source": "as.vector(x)",
      "metadata": {
        "trusted": true
      },
      "outputs": [
        {
          "execution_count": 152,
          "output_type": "execute_result",
          "data": {
            "text/plain": [
              "[1] 1 2 3 4"
            ]
          },
          "metadata": {}
        }
      ],
      "execution_count": 152
    },
    {
      "cell_type": "markdown",
      "source": "`#`",
      "metadata": {}
    },
    {
      "cell_type": "markdown",
      "source": "`# 예제10`",
      "metadata": {}
    },
    {
      "cell_type": "code",
      "source": "x = c(1,2,4,3)\nx",
      "metadata": {
        "trusted": true
      },
      "outputs": [
        {
          "execution_count": 156,
          "output_type": "execute_result",
          "data": {
            "text/plain": [
              "[1] 1 2 4 3"
            ]
          },
          "metadata": {}
        }
      ],
      "execution_count": 156
    },
    {
      "cell_type": "code",
      "source": "as.logical(as.matrix(x))",
      "metadata": {
        "trusted": true
      },
      "outputs": [
        {
          "execution_count": 157,
          "output_type": "execute_result",
          "data": {
            "text/plain": [
              "[1] TRUE TRUE TRUE TRUE"
            ]
          },
          "metadata": {}
        }
      ],
      "execution_count": 157
    },
    {
      "cell_type": "code",
      "source": "as.matrix(as.logical(x))",
      "metadata": {
        "trusted": true
      },
      "outputs": [
        {
          "execution_count": 166,
          "output_type": "execute_result",
          "data": {
            "text/plain": [
              "     [,1]\n[1,] TRUE\n[2,] TRUE\n[3,] TRUE\n[4,] TRUE"
            ]
          },
          "metadata": {}
        }
      ],
      "execution_count": 166
    },
    {
      "cell_type": "markdown",
      "source": "`#`",
      "metadata": {}
    },
    {
      "cell_type": "markdown",
      "source": "## 4. 숙제",
      "metadata": {}
    },
    {
      "cell_type": "markdown",
      "source": "`1`. 아래와 같은 벡터가 있다고 하자. ",
      "metadata": {}
    },
    {
      "cell_type": "code",
      "source": "x <- -5:0 \ny <- 1:5 ",
      "metadata": {
        "trusted": true
      },
      "outputs": [],
      "execution_count": 168
    },
    {
      "cell_type": "markdown",
      "source": "두 벡터를 이용하여 아래와 같은 벡터를 만들라. ",
      "metadata": {}
    },
    {
      "cell_type": "code",
      "source": "# 출력예시 ",
      "metadata": {
        "trusted": true
      },
      "outputs": [
        {
          "execution_count": 172,
          "output_type": "execute_result",
          "data": {
            "text/plain": [
              " [1] -5 -4 -3 -2 -1  0  1  2  3  4  5"
            ]
          },
          "metadata": {}
        }
      ],
      "execution_count": 172
    },
    {
      "cell_type": "markdown",
      "source": "`2`. 아래와 같은 벡터가 있다고 하자. ",
      "metadata": {}
    },
    {
      "cell_type": "code",
      "source": "x <- c(1,0,1,1,0)\nx",
      "metadata": {
        "trusted": true
      },
      "outputs": [
        {
          "execution_count": 175,
          "output_type": "execute_result",
          "data": {
            "text/plain": [
              "[1] 1 0 1 1 0"
            ]
          },
          "metadata": {}
        }
      ],
      "execution_count": 175
    },
    {
      "cell_type": "markdown",
      "source": "1을 TRUE로 0을 FALSE로 바꾸라. 즉 아래의 결과를 얻어라. ",
      "metadata": {}
    },
    {
      "cell_type": "code",
      "source": "# 출력예시",
      "metadata": {
        "trusted": true
      },
      "outputs": [
        {
          "execution_count": 176,
          "output_type": "execute_result",
          "data": {
            "text/plain": [
              "[1]  TRUE FALSE  TRUE  TRUE FALSE"
            ]
          },
          "metadata": {}
        }
      ],
      "execution_count": 176
    }
  ]
}