{
 "cells": [
  {
   "cell_type": "raw",
   "id": "752a9976-0913-4067-9efe-cfbf88b28f2e",
   "metadata": {
    "vscode": {
     "languageId": "raw"
    }
   },
   "source": [
    "---\n",
    "title: \"05wk-2: [Python] -- str, list\"\n",
    "author: \"최규빈\"\n",
    "date: \"04/01/2025\"\n",
    "draft: false\n",
    "---"
   ]
  },
  {
   "cell_type": "markdown",
   "id": "85f2e8e9-ce6e-465c-a8a8-40ebe55bfb0f",
   "metadata": {},
   "source": [
    "# 1. str -- 고급"
   ]
  },
  {
   "cell_type": "markdown",
   "id": "605e0773-fefe-4744-a2e2-d4a62a2b4a60",
   "metadata": {},
   "source": [
    "## A. `fstring`\n",
    "\n",
    "`-` 예제1"
   ]
  },
  {
   "cell_type": "code",
   "execution_count": 14,
   "id": "f3438202-80ee-4dd6-a2d9-59f01b013ec1",
   "metadata": {
    "tags": []
   },
   "outputs": [
    {
     "name": "stdout",
     "output_type": "stream",
     "text": [
      "a+b = 3\n"
     ]
    }
   ],
   "source": [
    "a=1\n",
    "b=2\n",
    "print(f'a+b = {a+b}')"
   ]
  },
  {
   "cell_type": "markdown",
   "id": "ede43f38-dedd-4cbb-b753-3eacbbaa13ce",
   "metadata": {},
   "source": [
    "`-` 예제2"
   ]
  },
  {
   "cell_type": "code",
   "execution_count": 15,
   "id": "4de7e095-37f9-4df6-8f20-472dd62a2d02",
   "metadata": {
    "tags": []
   },
   "outputs": [
    {
     "name": "stdout",
     "output_type": "stream",
     "text": [
      "a*b = 6.28\n"
     ]
    }
   ],
   "source": [
    "a=2\n",
    "b=3.141592\n",
    "print(f'a*b = {a*b:.2f}')"
   ]
  },
  {
   "cell_type": "markdown",
   "id": "70589004-5b9c-453b-abb9-fbe1f89bc882",
   "metadata": {},
   "source": [
    "`-` 예제3"
   ]
  },
  {
   "cell_type": "code",
   "execution_count": 16,
   "id": "56d3147d-e635-4652-8e53-3f52863519f2",
   "metadata": {
    "tags": []
   },
   "outputs": [
    {
     "name": "stdout",
     "output_type": "stream",
     "text": [
      "2a = 6.28\t3a = 9.42\n"
     ]
    }
   ],
   "source": [
    "a=3.141592\n",
    "print(f'2a = {2*a:.2f}\\t3a = {3*a:.2f}')"
   ]
  },
  {
   "cell_type": "markdown",
   "id": "db80e9ab-0105-4ef9-a8e7-9ce8044e42b3",
   "metadata": {},
   "source": [
    "`-` 예제4"
   ]
  },
  {
   "cell_type": "code",
   "execution_count": 17,
   "id": "31589d52-b192-4fb8-9bb8-9e7e90d93ca8",
   "metadata": {
    "tags": []
   },
   "outputs": [],
   "source": [
    "lst = ['장하니','최다호','주성재','이슬기']"
   ]
  },
  {
   "cell_type": "code",
   "execution_count": 18,
   "id": "69505169-3637-451a-814f-8a4dd04dc958",
   "metadata": {
    "tags": []
   },
   "outputs": [
    {
     "data": {
      "text/plain": [
       "['장하니학생 안녕하세요, 통계학과 최규빈 교수입니다. 다름이 아니라 전공진로설계관련 상담일자를 잡고자 메일을 보냈습니다.',\n",
       " '최다호학생 안녕하세요, 통계학과 최규빈 교수입니다. 다름이 아니라 전공진로설계관련 상담일자를 잡고자 메일을 보냈습니다.',\n",
       " '주성재학생 안녕하세요, 통계학과 최규빈 교수입니다. 다름이 아니라 전공진로설계관련 상담일자를 잡고자 메일을 보냈습니다.',\n",
       " '이슬기학생 안녕하세요, 통계학과 최규빈 교수입니다. 다름이 아니라 전공진로설계관련 상담일자를 잡고자 메일을 보냈습니다.']"
      ]
     },
     "execution_count": 18,
     "metadata": {},
     "output_type": "execute_result"
    }
   ],
   "source": [
    "[f'{l}학생 안녕하세요, 통계학과 최규빈 교수입니다. 다름이 아니라 전공진로설계관련 상담일자를 잡고자 메일을 보냈습니다.' for l in lst]"
   ]
  },
  {
   "cell_type": "markdown",
   "id": "4b7563db-93a8-4392-a4d9-bf80420915a1",
   "metadata": {},
   "source": [
    "## B. string과 `for`문\n",
    "\n",
    "`-` 예제1"
   ]
  },
  {
   "cell_type": "code",
   "execution_count": 19,
   "id": "332dd7a4-de31-4729-8105-a7c5308ebda4",
   "metadata": {
    "tags": []
   },
   "outputs": [
    {
     "name": "stdout",
     "output_type": "stream",
     "text": [
      "jj\n",
      "bb\n",
      "nn\n",
      "uu\n"
     ]
    }
   ],
   "source": [
    "for s in 'jbnu':\n",
    "    print(2*s)"
   ]
  },
  {
   "cell_type": "markdown",
   "id": "879023da-f512-4301-99d2-9802dcb8dfc5",
   "metadata": {},
   "source": [
    "`-` 예제2"
   ]
  },
  {
   "cell_type": "code",
   "execution_count": 20,
   "id": "a55df14d-fbd1-41e5-9935-d6fe410a9b17",
   "metadata": {
    "tags": []
   },
   "outputs": [
    {
     "data": {
      "text/plain": [
       "['jjjj', 'bbbb', 'nnnn', 'uuuu']"
      ]
     },
     "execution_count": 20,
     "metadata": {},
     "output_type": "execute_result"
    }
   ],
   "source": [
    "[s*4 for s in 'jbnu']"
   ]
  },
  {
   "cell_type": "markdown",
   "id": "22eb33cd-3445-4a42-b9bc-059c459a0eb4",
   "metadata": {},
   "source": [
    "## C. `in` 연산자"
   ]
  },
  {
   "cell_type": "code",
   "execution_count": 21,
   "id": "2511eb65-ead0-4790-890b-d7211949f2c9",
   "metadata": {
    "tags": []
   },
   "outputs": [],
   "source": [
    "s = 'jbnu'"
   ]
  },
  {
   "cell_type": "code",
   "execution_count": 22,
   "id": "6993b791-a61e-43e2-a758-00fe29505490",
   "metadata": {
    "tags": []
   },
   "outputs": [
    {
     "data": {
      "text/plain": [
       "True"
      ]
     },
     "execution_count": 22,
     "metadata": {},
     "output_type": "execute_result"
    }
   ],
   "source": [
    "'b' in s"
   ]
  },
  {
   "cell_type": "code",
   "execution_count": 23,
   "id": "5c44446a-e29b-4c31-b072-93da6216ea3b",
   "metadata": {
    "tags": []
   },
   "outputs": [
    {
     "data": {
      "text/plain": [
       "False"
      ]
     },
     "execution_count": 23,
     "metadata": {},
     "output_type": "execute_result"
    }
   ],
   "source": [
    "'c' in s"
   ]
  },
  {
   "cell_type": "code",
   "execution_count": 24,
   "id": "9b6524f5-1f43-4647-b866-1a38462692f3",
   "metadata": {
    "tags": []
   },
   "outputs": [
    {
     "data": {
      "text/plain": [
       "True"
      ]
     },
     "execution_count": 24,
     "metadata": {},
     "output_type": "execute_result"
    }
   ],
   "source": [
    "'jb' in s"
   ]
  },
  {
   "cell_type": "code",
   "execution_count": 25,
   "id": "ac2ca4bb-b735-4952-82c2-a308cfe8443e",
   "metadata": {
    "tags": []
   },
   "outputs": [
    {
     "data": {
      "text/plain": [
       "False"
      ]
     },
     "execution_count": 25,
     "metadata": {},
     "output_type": "execute_result"
    }
   ],
   "source": [
    "'jn' in s"
   ]
  },
  {
   "cell_type": "markdown",
   "id": "3b82bda4-81ce-444c-b3c3-c748074484d6",
   "metadata": {},
   "source": [
    "## D. `split`과 `join`"
   ]
  },
  {
   "cell_type": "markdown",
   "id": "f8da35d1-19d9-4f50-8812-728f9bdeb35d",
   "metadata": {},
   "source": [
    "`-` 예제1"
   ]
  },
  {
   "cell_type": "code",
   "execution_count": 26,
   "id": "7f3fa69e-b63b-43a4-af8d-d7c5ad7c15fe",
   "metadata": {},
   "outputs": [
    {
     "data": {
      "text/plain": [
       "'2021.08.14'"
      ]
     },
     "execution_count": 26,
     "metadata": {},
     "output_type": "execute_result"
    }
   ],
   "source": [
    "'2021.08.14'"
   ]
  },
  {
   "cell_type": "code",
   "execution_count": 27,
   "id": "d215fe1a-b8c2-4a12-a36e-bf8953693b7f",
   "metadata": {},
   "outputs": [
    {
     "data": {
      "text/plain": [
       "['2021', '08', '14']"
      ]
     },
     "execution_count": 27,
     "metadata": {},
     "output_type": "execute_result"
    }
   ],
   "source": [
    "'2021.08.14'.split('.')"
   ]
  },
  {
   "cell_type": "markdown",
   "id": "bb5e1f3a-43d1-4541-b76c-4f526969a95e",
   "metadata": {},
   "source": [
    "`-` 예제2"
   ]
  },
  {
   "cell_type": "code",
   "execution_count": 28,
   "id": "3f790025-92d3-4474-af85-8a073e1b4814",
   "metadata": {},
   "outputs": [
    {
     "data": {
      "text/plain": [
       "'asdfasdf'"
      ]
     },
     "execution_count": 28,
     "metadata": {},
     "output_type": "execute_result"
    }
   ],
   "source": [
    "'asdf'*2"
   ]
  },
  {
   "cell_type": "code",
   "execution_count": 29,
   "id": "35357bdd-7bdb-434d-b0ea-06aced4278c0",
   "metadata": {},
   "outputs": [
    {
     "data": {
      "text/plain": [
       "['asd', 'asd', '']"
      ]
     },
     "execution_count": 29,
     "metadata": {},
     "output_type": "execute_result"
    }
   ],
   "source": [
    "('asdf'*2).split('f')"
   ]
  },
  {
   "cell_type": "markdown",
   "id": "d0e6c030-1c79-4dfa-afff-987c195ffadd",
   "metadata": {},
   "source": [
    "`-` 예제3"
   ]
  },
  {
   "cell_type": "code",
   "execution_count": 30,
   "id": "358bdbf2-d2e1-49f3-abd8-8054f754f30d",
   "metadata": {},
   "outputs": [
    {
     "data": {
      "text/plain": [
       "'a-s-d-f'"
      ]
     },
     "execution_count": 30,
     "metadata": {},
     "output_type": "execute_result"
    }
   ],
   "source": [
    "'-'.join('asdf')"
   ]
  },
  {
   "cell_type": "markdown",
   "id": "bb257bf8-fe50-4ffd-a963-e3fe8426d435",
   "metadata": {},
   "source": [
    "`-` 예제4"
   ]
  },
  {
   "cell_type": "code",
   "execution_count": 31,
   "id": "47c95c58-82cd-44b6-88f2-443ddece0ffb",
   "metadata": {},
   "outputs": [
    {
     "data": {
      "text/plain": [
       "'a-s-d-f'"
      ]
     },
     "execution_count": 31,
     "metadata": {},
     "output_type": "execute_result"
    }
   ],
   "source": [
    "'-'.join(['a','s','d','f'])"
   ]
  },
  {
   "cell_type": "markdown",
   "id": "6a7746b5-6d62-4b6d-b521-7eb3cff681ba",
   "metadata": {},
   "source": [
    "# 2. `list`\n",
    "\n",
    "## A. 선언\n",
    "\n",
    "`-` 리스트의 선언"
   ]
  },
  {
   "cell_type": "code",
   "execution_count": 32,
   "id": "edc6cc62-c780-497c-b7df-4a65b5ed2abc",
   "metadata": {
    "tags": []
   },
   "outputs": [],
   "source": [
    "a= [1,2,3,22] "
   ]
  },
  {
   "cell_type": "markdown",
   "id": "743f5bda-24f3-4675-becd-bfba66bdcc1a",
   "metadata": {},
   "source": [
    "`-` 비어있는 리스트의 선언"
   ]
  },
  {
   "cell_type": "code",
   "execution_count": 33,
   "id": "5870fb47-6585-4e61-b2ec-9d2c24cda23f",
   "metadata": {
    "tags": []
   },
   "outputs": [
    {
     "data": {
      "text/plain": [
       "[]"
      ]
     },
     "execution_count": 33,
     "metadata": {},
     "output_type": "execute_result"
    }
   ],
   "source": [
    "a= []\n",
    "a"
   ]
  },
  {
   "cell_type": "code",
   "execution_count": 34,
   "id": "ec94c6cf-2053-4664-b33b-a7e1f5b71668",
   "metadata": {
    "tags": []
   },
   "outputs": [
    {
     "data": {
      "text/plain": [
       "[]"
      ]
     },
     "execution_count": 34,
     "metadata": {},
     "output_type": "execute_result"
    }
   ],
   "source": [
    "a= list()\n",
    "a"
   ]
  },
  {
   "cell_type": "markdown",
   "id": "4193270a-b659-432d-95d7-927ba3f2cb68",
   "metadata": {},
   "source": [
    "## B. 연산\n",
    "\n",
    "`-` 더하기연산"
   ]
  },
  {
   "cell_type": "code",
   "execution_count": 35,
   "id": "07dcf4b1-ebc1-423d-9942-5fd0c75eed81",
   "metadata": {
    "tags": []
   },
   "outputs": [
    {
     "data": {
      "text/plain": [
       "[1, 2, 3, -3, 4, 5]"
      ]
     },
     "execution_count": 35,
     "metadata": {},
     "output_type": "execute_result"
    }
   ],
   "source": [
    "[1,2,3] + [-3,4,5]"
   ]
  },
  {
   "cell_type": "markdown",
   "id": "06d69553-5f32-42e2-b440-4e8b8806be44",
   "metadata": {},
   "source": [
    "-   우리의 예상과 다른 결과가 나옴 $\\to$ 파이썬은 R처럼 자체적으로 좋은\n",
    "    계산기능을 내장하고 있지 않음.\n",
    "\n",
    "`-` 브로드캐스팅과 같이 R에서는 당연히 가능했던 기능을 사용할 수 없음."
   ]
  },
  {
   "cell_type": "code",
   "execution_count": 36,
   "id": "538182e5-1c1a-4c0f-9257-551f5aac9aeb",
   "metadata": {
    "tags": []
   },
   "outputs": [
    {
     "ename": "TypeError",
     "evalue": "can only concatenate list (not \"int\") to list",
     "output_type": "error",
     "traceback": [
      "\u001b[31m---------------------------------------------------------------------------\u001b[39m",
      "\u001b[31mTypeError\u001b[39m                                 Traceback (most recent call last)",
      "\u001b[36mCell\u001b[39m\u001b[36m \u001b[39m\u001b[32mIn[36]\u001b[39m\u001b[32m, line 1\u001b[39m\n\u001b[32m----> \u001b[39m\u001b[32m1\u001b[39m \u001b[43m[\u001b[49m\u001b[32;43m1\u001b[39;49m\u001b[43m,\u001b[49m\u001b[32;43m2\u001b[39;49m\u001b[43m,\u001b[49m\u001b[32;43m3\u001b[39;49m\u001b[43m,\u001b[49m\u001b[32;43m4\u001b[39;49m\u001b[43m,\u001b[49m\u001b[32;43m5\u001b[39;49m\u001b[43m]\u001b[49m\u001b[43m \u001b[49m\u001b[43m+\u001b[49m\u001b[43m \u001b[49m\u001b[32;43m1\u001b[39;49m \n",
      "\u001b[31mTypeError\u001b[39m: can only concatenate list (not \"int\") to list"
     ]
    }
   ],
   "source": [
    "[1,2,3,4,5] + 1 "
   ]
  },
  {
   "cell_type": "markdown",
   "id": "6d9aad25-4d49-4813-b935-ae86bf8a830b",
   "metadata": {},
   "source": [
    "`-` 뺄셈은 정의되지 않음"
   ]
  },
  {
   "cell_type": "code",
   "execution_count": 37,
   "id": "b1de7f3e-3412-4344-b65e-154509e2d69f",
   "metadata": {
    "tags": []
   },
   "outputs": [
    {
     "ename": "TypeError",
     "evalue": "unsupported operand type(s) for -: 'list' and 'list'",
     "output_type": "error",
     "traceback": [
      "\u001b[31m---------------------------------------------------------------------------\u001b[39m",
      "\u001b[31mTypeError\u001b[39m                                 Traceback (most recent call last)",
      "\u001b[36mCell\u001b[39m\u001b[36m \u001b[39m\u001b[32mIn[37]\u001b[39m\u001b[32m, line 2\u001b[39m\n\u001b[32m      1\u001b[39m a= [\u001b[32m1\u001b[39m,\u001b[32m2\u001b[39m,\u001b[32m1\u001b[39m,\u001b[32m2\u001b[39m]\n\u001b[32m----> \u001b[39m\u001b[32m2\u001b[39m \u001b[43ma\u001b[49m\u001b[43m-\u001b[49m\u001b[43m[\u001b[49m\u001b[32;43m1\u001b[39;49m\u001b[43m,\u001b[49m\u001b[32;43m2\u001b[39;49m\u001b[43m]\u001b[49m\n",
      "\u001b[31mTypeError\u001b[39m: unsupported operand type(s) for -: 'list' and 'list'"
     ]
    }
   ],
   "source": [
    "a= [1,2,1,2]\n",
    "a-[1,2]"
   ]
  },
  {
   "cell_type": "markdown",
   "id": "e2a367e2-d5ba-4f6b-a58b-da5da369cf67",
   "metadata": {},
   "source": [
    "`-` 곱하기는 정의가능"
   ]
  },
  {
   "cell_type": "code",
   "execution_count": 38,
   "id": "6f73656a-27f6-40a1-8db1-43c880a9e603",
   "metadata": {
    "tags": []
   },
   "outputs": [
    {
     "data": {
      "text/plain": [
       "[1, 2, 1, 2, 1, 2]"
      ]
     },
     "execution_count": 38,
     "metadata": {},
     "output_type": "execute_result"
    }
   ],
   "source": [
    "[1,2]*3"
   ]
  },
  {
   "cell_type": "markdown",
   "id": "0e2836b7-b663-48e4-be8d-69b9a607cba1",
   "metadata": {},
   "source": [
    "`-` 나눗셈은 정의되지 않음"
   ]
  },
  {
   "cell_type": "code",
   "execution_count": 39,
   "id": "76d9c721-06e0-4949-9257-ffae7a40c0e3",
   "metadata": {
    "tags": []
   },
   "outputs": [
    {
     "ename": "TypeError",
     "evalue": "unsupported operand type(s) for /: 'list' and 'int'",
     "output_type": "error",
     "traceback": [
      "\u001b[31m---------------------------------------------------------------------------\u001b[39m",
      "\u001b[31mTypeError\u001b[39m                                 Traceback (most recent call last)",
      "\u001b[36mCell\u001b[39m\u001b[36m \u001b[39m\u001b[32mIn[39]\u001b[39m\u001b[32m, line 1\u001b[39m\n\u001b[32m----> \u001b[39m\u001b[32m1\u001b[39m \u001b[43m[\u001b[49m\u001b[32;43m1\u001b[39;49m\u001b[43m,\u001b[49m\u001b[32;43m2\u001b[39;49m\u001b[43m,\u001b[49m\u001b[32;43m1\u001b[39;49m\u001b[43m,\u001b[49m\u001b[32;43m2\u001b[39;49m\u001b[43m,\u001b[49m\u001b[32;43m1\u001b[39;49m\u001b[43m,\u001b[49m\u001b[32;43m2\u001b[39;49m\u001b[43m]\u001b[49m\u001b[43m \u001b[49m\u001b[43m/\u001b[49m\u001b[32;43m3\u001b[39;49m\n",
      "\u001b[31mTypeError\u001b[39m: unsupported operand type(s) for /: 'list' and 'int'"
     ]
    }
   ],
   "source": [
    "[1,2,1,2,1,2] /3"
   ]
  },
  {
   "cell_type": "markdown",
   "id": "de3c1fa6-11dc-4575-bbce-69c17204f764",
   "metadata": {},
   "source": [
    "`-` 더하기와 곱하기는 원소의 추가와 반복추가를 의미하지만 그렇다고 해서\n",
    "뺄셈과 나눗셈이 원소의 삭제를 의미하는것은 아님\n",
    "\n",
    "`-` 더하기와 곱하기가 원소의 추가와 반복추가를 의미하여 편리할때도\n",
    "있긴하지만, 우리는 산술적인 `+`, `*` 를 원하는 경우도 있다. 이럴 경우는\n",
    "어떻게 할 수 있을까?\n",
    "\n",
    "(예제)"
   ]
  },
  {
   "cell_type": "code",
   "execution_count": 41,
   "id": "d09b5332-7e31-4e69-ad37-c3b608b4a61b",
   "metadata": {
    "tags": []
   },
   "outputs": [],
   "source": [
    "a=[1,2]\n",
    "b=[3,4]"
   ]
  },
  {
   "cell_type": "markdown",
   "id": "f86a4c69-3882-4176-ae35-d97210885fcb",
   "metadata": {},
   "source": [
    "a+b = \\[4,6\\] 이 되도록 하려면?\n",
    "\n",
    "(풀이1)"
   ]
  },
  {
   "cell_type": "code",
   "execution_count": 42,
   "id": "dbe81ba4-3d41-472d-9cc3-0afb7aae3a53",
   "metadata": {},
   "outputs": [
    {
     "data": {
      "text/plain": [
       "[4, 6]"
      ]
     },
     "execution_count": 42,
     "metadata": {},
     "output_type": "execute_result"
    }
   ],
   "source": [
    "[a[0]+b[0],a[1]+b[1]]"
   ]
  },
  {
   "cell_type": "markdown",
   "id": "9aa8dd38-e643-4371-88d2-4ae89cb33ceb",
   "metadata": {},
   "source": [
    "풀이가 가능한 이유? a,b는 리스트이지만 a\\[0\\], a\\[1\\], b\\[0\\], b\\[1\\] 은\n",
    "각각 인트형임. 인트형은 + 연산이 가능했음.\n",
    "\n",
    "(풀이2)\n",
    "\n",
    "numpy 패키지 (파이썬의 여러 수치연산들을 담당하는 라이브러리)\n",
    "\n",
    "-   이러한 벡터연산은 누구나 필요로 하는 연산임.\n",
    "-   내가 아니더라도 누군가가 프로그램화 해놓았을 것임.\n",
    "-   그 누군가가 자신이 만든 코드를 잘 정리하여 무료로 배포했을 수도\n",
    "    있음. (패키지를 배포한다고 표현)\n",
    "-   그 패키지를 우리는 가져와서 설치한뒤 사용하기만 하면된다.\n",
    "\n",
    "설치된 패키지를 사용하는 방법\n",
    "\n",
    "-   `import numpy` 한뒤에 `numpy.??`로 기능을 사용\n",
    "-   `import numpy as np` 한뒤에 `np.??`로 기능을 사용"
   ]
  },
  {
   "cell_type": "code",
   "execution_count": 52,
   "id": "82e7f53a-83a0-47e1-8962-4598774fab43",
   "metadata": {
    "tags": []
   },
   "outputs": [],
   "source": [
    "import numpy "
   ]
  },
  {
   "cell_type": "code",
   "execution_count": 53,
   "id": "1173d339-6d29-4a10-bd15-bbde9870b8e4",
   "metadata": {
    "tags": []
   },
   "outputs": [],
   "source": [
    "a=[1,2]\n",
    "b=[3,4]"
   ]
  },
  {
   "cell_type": "code",
   "execution_count": 54,
   "id": "7cdef1fa-c2d6-4cfd-a09f-811a67814eae",
   "metadata": {
    "tags": []
   },
   "outputs": [],
   "source": [
    "aa = numpy.array(a)\n",
    "bb = numpy.array(b)"
   ]
  },
  {
   "cell_type": "code",
   "execution_count": 55,
   "id": "675673db-fb4b-46e9-8d81-ef04d9d6eb28",
   "metadata": {},
   "outputs": [
    {
     "data": {
      "text/plain": [
       "array([4, 6])"
      ]
     },
     "execution_count": 55,
     "metadata": {},
     "output_type": "execute_result"
    }
   ],
   "source": [
    "aa+bb"
   ]
  },
  {
   "cell_type": "markdown",
   "id": "9e6cf958-a2d2-4574-a172-d5244ba5cd5c",
   "metadata": {},
   "source": [
    "여러가지 연산 가능 (마치 R처럼 쓸 수 있음)"
   ]
  },
  {
   "cell_type": "code",
   "execution_count": 56,
   "id": "da8fae0d-74a8-4b23-b2db-a45659189104",
   "metadata": {
    "tags": []
   },
   "outputs": [
    {
     "data": {
      "text/plain": [
       "array([2, 4])"
      ]
     },
     "execution_count": 56,
     "metadata": {},
     "output_type": "execute_result"
    }
   ],
   "source": [
    "2*aa"
   ]
  },
  {
   "cell_type": "code",
   "execution_count": 57,
   "id": "991988b6-c6c5-41bd-80e6-55c019382348",
   "metadata": {
    "tags": []
   },
   "outputs": [
    {
     "data": {
      "text/plain": [
       "array([3, 5])"
      ]
     },
     "execution_count": 57,
     "metadata": {},
     "output_type": "execute_result"
    }
   ],
   "source": [
    "2*aa+1"
   ]
  },
  {
   "cell_type": "code",
   "execution_count": 58,
   "id": "86769124-cfea-4f1d-9923-afa1090de1fb",
   "metadata": {
    "tags": []
   },
   "outputs": [
    {
     "data": {
      "text/plain": [
       "array([6, 9])"
      ]
     },
     "execution_count": 58,
     "metadata": {},
     "output_type": "execute_result"
    }
   ],
   "source": [
    "2*aa+1+bb"
   ]
  },
  {
   "cell_type": "markdown",
   "id": "2fe86723-e1a1-4fe1-80cc-f01786cde716",
   "metadata": {},
   "source": [
    "(풀이3)"
   ]
  },
  {
   "cell_type": "code",
   "execution_count": 59,
   "id": "47f7c2fe-dbd5-48fa-b692-54b9fc07da02",
   "metadata": {
    "tags": []
   },
   "outputs": [],
   "source": [
    "import numpy as np ## 설치가 되어있는 numpy라는 패키지를 쓰겠음. 그런데 numpy말고 np라는 이름으로 쓰겠음"
   ]
  },
  {
   "cell_type": "code",
   "execution_count": 60,
   "id": "637a3d36-ecde-4f0b-806d-4de19f14832b",
   "metadata": {
    "tags": []
   },
   "outputs": [
    {
     "data": {
      "text/plain": [
       "array([4, 6])"
      ]
     },
     "execution_count": 60,
     "metadata": {},
     "output_type": "execute_result"
    }
   ],
   "source": [
    "np.array(a)+np.array(b)"
   ]
  },
  {
   "cell_type": "markdown",
   "id": "90f6238b-d9b1-43c1-8122-45034bafbbe1",
   "metadata": {},
   "source": [
    "## C. 인덱싱\n",
    "\n",
    "`-` str형과 동일한 방식"
   ]
  },
  {
   "cell_type": "code",
   "execution_count": 61,
   "id": "3bceec38-47ac-4a2c-9d3f-90c8343b19c2",
   "metadata": {
    "tags": []
   },
   "outputs": [],
   "source": [
    "a=[11,22,33,44,55] # 0 -4 -3 -2 -1"
   ]
  },
  {
   "cell_type": "code",
   "execution_count": 62,
   "id": "bf51d277-96b1-4244-ba63-35701091acbb",
   "metadata": {
    "tags": []
   },
   "outputs": [
    {
     "data": {
      "text/plain": [
       "[44, 55]"
      ]
     },
     "execution_count": 62,
     "metadata": {},
     "output_type": "execute_result"
    }
   ],
   "source": [
    "a[-2:] # 끝의 2개의 원소를 뽑음 "
   ]
  },
  {
   "cell_type": "markdown",
   "id": "2ad97da9-80ec-4c7c-b25b-217734194a32",
   "metadata": {},
   "source": [
    "## D. 콘테이너형 객체로서의 리스트\n",
    "\n",
    "`-` 리스트의 원소는 int, float 따위만 가능한 것이 아니다. (리스트는\n",
    "컨테이너형 객체이므로)"
   ]
  },
  {
   "cell_type": "code",
   "execution_count": 63,
   "id": "774ae731-4a7a-4777-8dfa-f3d6fd267279",
   "metadata": {
    "tags": []
   },
   "outputs": [
    {
     "data": {
      "text/plain": [
       "[1, 3.14, True, 'a', [1, 2], (1, 2), {'name': 'iu', 'age': 27}, {1, 2, 3}]"
      ]
     },
     "execution_count": 63,
     "metadata": {},
     "output_type": "execute_result"
    }
   ],
   "source": [
    "lst = [1,3.14,True,'a',[1,2], \n",
    "       (1,2),{'name':'iu','age':27},{1,2,3}]\n",
    "lst"
   ]
  },
  {
   "cell_type": "code",
   "execution_count": 64,
   "id": "342ba495-9800-4745-869b-1e6a3965a370",
   "metadata": {
    "tags": []
   },
   "outputs": [
    {
     "data": {
      "text/plain": [
       "[int, float, bool, str, list, tuple, dict, set]"
      ]
     },
     "execution_count": 64,
     "metadata": {},
     "output_type": "execute_result"
    }
   ],
   "source": [
    "[type(l) for l in lst]"
   ]
  },
  {
   "cell_type": "markdown",
   "id": "9bdda8a7-ae8c-4da0-8457-302da0a0c80b",
   "metadata": {},
   "source": [
    "`-` str은 컨테이너형이 아니다."
   ]
  },
  {
   "cell_type": "code",
   "execution_count": 65,
   "id": "fc9dea24-58ce-43f6-bc25-d017f387de97",
   "metadata": {
    "tags": []
   },
   "outputs": [
    {
     "data": {
      "text/plain": [
       "'c'"
      ]
     },
     "execution_count": 65,
     "metadata": {},
     "output_type": "execute_result"
    }
   ],
   "source": [
    "'abcd'[2]"
   ]
  },
  {
   "cell_type": "markdown",
   "id": "1de9fc2a-bef6-4869-8dab-3b458fa4daba",
   "metadata": {},
   "source": [
    "-   str의 모든 원소는 문자임\n",
    "\n",
    "## E. 가변객체\n",
    "\n",
    "`-` 리스트는 원소를 수정할 수 있다. (리스트는 가변객체이므로)"
   ]
  },
  {
   "cell_type": "code",
   "execution_count": 66,
   "id": "29be248b-4068-47a7-aea6-fb5167662b03",
   "metadata": {
    "tags": []
   },
   "outputs": [
    {
     "data": {
      "text/plain": [
       "[11, 22, 33]"
      ]
     },
     "execution_count": 66,
     "metadata": {},
     "output_type": "execute_result"
    }
   ],
   "source": [
    "a=[11,22,33]\n",
    "a"
   ]
  },
  {
   "cell_type": "code",
   "execution_count": 67,
   "id": "254bbc8e-07b3-41d8-9b82-4830eb781828",
   "metadata": {
    "tags": []
   },
   "outputs": [],
   "source": [
    "a[0] = -77"
   ]
  },
  {
   "cell_type": "code",
   "execution_count": 68,
   "id": "b89fab3d-69e5-42fb-80c9-49c3117eb219",
   "metadata": {
    "tags": []
   },
   "outputs": [
    {
     "data": {
      "text/plain": [
       "[-77, 22, 33]"
      ]
     },
     "execution_count": 68,
     "metadata": {},
     "output_type": "execute_result"
    }
   ],
   "source": [
    "a"
   ]
  },
  {
   "cell_type": "markdown",
   "id": "5bfee696-b733-4e79-aa51-b54f413c1d1f",
   "metadata": {},
   "source": [
    "`-` 원소수정은 당연한 기능같은데 이것이 불가능한 경우도 있다.\n",
    "\n",
    "(가능한경우)"
   ]
  },
  {
   "cell_type": "code",
   "execution_count": 69,
   "id": "eca48e75-e283-4759-acca-cd16d357f701",
   "metadata": {
    "tags": []
   },
   "outputs": [
    {
     "data": {
      "text/plain": [
       "['g', 'u', 'e', 'b', 'i', 'n']"
      ]
     },
     "execution_count": 69,
     "metadata": {},
     "output_type": "execute_result"
    }
   ],
   "source": [
    "a=['g','u','e','b','i','n']\n",
    "a"
   ]
  },
  {
   "cell_type": "code",
   "execution_count": 70,
   "id": "f7f36fa7-b773-4644-af66-b2990d8387d1",
   "metadata": {
    "tags": []
   },
   "outputs": [],
   "source": [
    "a[0] = 'G'"
   ]
  },
  {
   "cell_type": "code",
   "execution_count": 71,
   "id": "94ba4c7b-bf84-4f90-be85-ea34d5c4edb9",
   "metadata": {
    "tags": []
   },
   "outputs": [
    {
     "data": {
      "text/plain": [
       "['G', 'u', 'e', 'b', 'i', 'n']"
      ]
     },
     "execution_count": 71,
     "metadata": {},
     "output_type": "execute_result"
    }
   ],
   "source": [
    "a"
   ]
  },
  {
   "cell_type": "markdown",
   "id": "63007d6b-d50e-45b2-927e-7273edb81d7e",
   "metadata": {},
   "source": [
    "(불가능한경우)"
   ]
  },
  {
   "cell_type": "code",
   "execution_count": 72,
   "id": "b5a6df20-685b-467c-9973-71cd192c87e1",
   "metadata": {
    "tags": []
   },
   "outputs": [
    {
     "data": {
      "text/plain": [
       "'guebin'"
      ]
     },
     "execution_count": 72,
     "metadata": {},
     "output_type": "execute_result"
    }
   ],
   "source": [
    "a='guebin'\n",
    "a"
   ]
  },
  {
   "cell_type": "code",
   "execution_count": 73,
   "id": "5347e9ad-dda3-48aa-9585-cd8d974bff9e",
   "metadata": {},
   "outputs": [
    {
     "data": {
      "text/plain": [
       "'g'"
      ]
     },
     "execution_count": 73,
     "metadata": {},
     "output_type": "execute_result"
    }
   ],
   "source": [
    "a[0]"
   ]
  },
  {
   "cell_type": "code",
   "execution_count": 74,
   "id": "24b6e3ff-c0cd-430f-b9a6-5da3f432a785",
   "metadata": {
    "tags": []
   },
   "outputs": [
    {
     "ename": "TypeError",
     "evalue": "'str' object does not support item assignment",
     "output_type": "error",
     "traceback": [
      "\u001b[31m---------------------------------------------------------------------------\u001b[39m",
      "\u001b[31mTypeError\u001b[39m                                 Traceback (most recent call last)",
      "\u001b[36mCell\u001b[39m\u001b[36m \u001b[39m\u001b[32mIn[74]\u001b[39m\u001b[32m, line 1\u001b[39m\n\u001b[32m----> \u001b[39m\u001b[32m1\u001b[39m \u001b[43ma\u001b[49m\u001b[43m[\u001b[49m\u001b[32;43m0\u001b[39;49m\u001b[43m]\u001b[49m=\u001b[33m'\u001b[39m\u001b[33mG\u001b[39m\u001b[33m'\u001b[39m\n",
      "\u001b[31mTypeError\u001b[39m: 'str' object does not support item assignment"
     ]
    }
   ],
   "source": [
    "a[0]='G'"
   ]
  },
  {
   "cell_type": "markdown",
   "id": "937f6be7-6cbf-429c-a830-1cbbd19e07b4",
   "metadata": {},
   "source": [
    "## F. 리스트의 원소 삭제\n",
    "\n",
    "(예제1) del을 이용한 원소삭제\n",
    "\n",
    "아래와 같이 문자로 된 리스트를 선언하자."
   ]
  },
  {
   "cell_type": "code",
   "execution_count": 75,
   "id": "8eaaa7f2-5df2-4967-a73c-06b20e4eef16",
   "metadata": {
    "tags": []
   },
   "outputs": [
    {
     "data": {
      "text/plain": [
       "['g', 'u', 'e', 'b', 'i', 'n']"
      ]
     },
     "execution_count": 75,
     "metadata": {},
     "output_type": "execute_result"
    }
   ],
   "source": [
    "a=['g','u','e','b','i','n']\n",
    "a"
   ]
  },
  {
   "cell_type": "markdown",
   "id": "275df07d-b42d-4df5-8580-ce3123436508",
   "metadata": {},
   "source": [
    "***사실 더 쉽게 선언할 수 있음***"
   ]
  },
  {
   "cell_type": "code",
   "execution_count": 76,
   "id": "ce20d9e8-1f5b-484c-9849-a7b3b4bff910",
   "metadata": {},
   "outputs": [
    {
     "data": {
      "text/plain": [
       "['g', 'u', 'e', 'b', 'i', 'n']"
      ]
     },
     "execution_count": 76,
     "metadata": {},
     "output_type": "execute_result"
    }
   ],
   "source": [
    "list('guebin')"
   ]
  },
  {
   "cell_type": "markdown",
   "id": "b36e8cf3-b013-4212-b88f-f737d39c0d6d",
   "metadata": {},
   "source": [
    "첫번째 원소를 삭제하고 싶다면?"
   ]
  },
  {
   "cell_type": "code",
   "execution_count": 77,
   "id": "e56e4c17-f86c-41f1-a709-3b0e583d692b",
   "metadata": {
    "tags": []
   },
   "outputs": [
    {
     "data": {
      "text/plain": [
       "['u', 'e', 'b', 'i', 'n']"
      ]
     },
     "execution_count": 77,
     "metadata": {},
     "output_type": "execute_result"
    }
   ],
   "source": [
    "del a[0]\n",
    "a"
   ]
  },
  {
   "cell_type": "markdown",
   "id": "b1a7deb8-d52b-48f8-a162-ec2e95c434e1",
   "metadata": {},
   "source": [
    "이 상태에서 다시 첫번째 원소를 삭제한다면?"
   ]
  },
  {
   "cell_type": "code",
   "execution_count": 78,
   "id": "bae99a87-721e-498c-99ce-5132f3d58dd8",
   "metadata": {
    "tags": []
   },
   "outputs": [
    {
     "data": {
      "text/plain": [
       "['e', 'b', 'i', 'n']"
      ]
     },
     "execution_count": 78,
     "metadata": {},
     "output_type": "execute_result"
    }
   ],
   "source": [
    "del a[0]\n",
    "a"
   ]
  },
  {
   "cell_type": "markdown",
   "id": "b19cde58-6334-4751-9ac7-bdd1ed94bc31",
   "metadata": {},
   "source": [
    "(예제2) pop을 이용한 원소삭제"
   ]
  },
  {
   "cell_type": "code",
   "execution_count": 79,
   "id": "faa2419f-3476-4254-8a18-d11af296b43f",
   "metadata": {
    "tags": []
   },
   "outputs": [
    {
     "data": {
      "text/plain": [
       "['g', 'u', 'e', 'b', 'i', 'n']"
      ]
     },
     "execution_count": 79,
     "metadata": {},
     "output_type": "execute_result"
    }
   ],
   "source": [
    "a=list('guebin')\n",
    "a"
   ]
  },
  {
   "cell_type": "code",
   "execution_count": 80,
   "id": "b7c07065-b248-4a7c-8cc7-95266a66decd",
   "metadata": {
    "tags": []
   },
   "outputs": [
    {
     "data": {
      "text/plain": [
       "'g'"
      ]
     },
     "execution_count": 80,
     "metadata": {},
     "output_type": "execute_result"
    }
   ],
   "source": [
    "a.pop(0)"
   ]
  },
  {
   "cell_type": "code",
   "execution_count": 81,
   "id": "44aea265-b430-43a7-8d65-f50580f25d2e",
   "metadata": {
    "tags": []
   },
   "outputs": [
    {
     "data": {
      "text/plain": [
       "'u'"
      ]
     },
     "execution_count": 81,
     "metadata": {},
     "output_type": "execute_result"
    }
   ],
   "source": [
    "a.pop(0)"
   ]
  },
  {
   "cell_type": "code",
   "execution_count": 82,
   "id": "ea20ce02-df64-4d0f-a6e3-192a4c04887b",
   "metadata": {
    "tags": []
   },
   "outputs": [
    {
     "data": {
      "text/plain": [
       "['e', 'b', 'i', 'n']"
      ]
     },
     "execution_count": 82,
     "metadata": {},
     "output_type": "execute_result"
    }
   ],
   "source": [
    "a"
   ]
  },
  {
   "cell_type": "markdown",
   "id": "46451486-54c2-4075-a546-018e77250f33",
   "metadata": {},
   "source": [
    "(예제3) remove를 이용한 원소삭제"
   ]
  },
  {
   "cell_type": "code",
   "execution_count": 83,
   "id": "6adf5bfc-9906-4e14-b45c-b36c2846f7c0",
   "metadata": {
    "tags": []
   },
   "outputs": [
    {
     "data": {
      "text/plain": [
       "['g', 'u', 'e', 'b', 'i', 'n']"
      ]
     },
     "execution_count": 83,
     "metadata": {},
     "output_type": "execute_result"
    }
   ],
   "source": [
    "a=list('guebin')\n",
    "a"
   ]
  },
  {
   "cell_type": "code",
   "execution_count": 84,
   "id": "7a7f44b4-89cb-4465-b436-63f95329f49c",
   "metadata": {
    "tags": []
   },
   "outputs": [
    {
     "data": {
      "text/plain": [
       "['g', 'u', 'e', 'i', 'n']"
      ]
     },
     "execution_count": 84,
     "metadata": {},
     "output_type": "execute_result"
    }
   ],
   "source": [
    "a.remove('b')\n",
    "a"
   ]
  },
  {
   "cell_type": "markdown",
   "id": "ad456647-06c4-49c8-82f5-3b76ed356a28",
   "metadata": {},
   "source": [
    "## G. 리스트 원소 추가\n",
    "\n",
    "(예제) 비어있는 리스트를 만들고 원소 0,1,2를 차례로 추가하여 보자.\n",
    "\n",
    "(풀이1) `+` 연산이용"
   ]
  },
  {
   "cell_type": "code",
   "execution_count": 85,
   "id": "88f548b9-9638-4250-b239-1428efe10ff0",
   "metadata": {
    "tags": []
   },
   "outputs": [
    {
     "data": {
      "text/plain": [
       "[]"
      ]
     },
     "execution_count": 85,
     "metadata": {},
     "output_type": "execute_result"
    }
   ],
   "source": [
    "a=[]\n",
    "a"
   ]
  },
  {
   "cell_type": "code",
   "execution_count": 86,
   "id": "b4460852-9400-4914-a0fe-77a47aa56907",
   "metadata": {
    "tags": []
   },
   "outputs": [
    {
     "data": {
      "text/plain": [
       "[0]"
      ]
     },
     "execution_count": 86,
     "metadata": {},
     "output_type": "execute_result"
    }
   ],
   "source": [
    "a= a+[0]\n",
    "a"
   ]
  },
  {
   "cell_type": "code",
   "execution_count": 87,
   "id": "35aec053-93a3-4a04-b56d-5367b4e2446a",
   "metadata": {
    "tags": []
   },
   "outputs": [
    {
     "data": {
      "text/plain": [
       "[0, 1]"
      ]
     },
     "execution_count": 87,
     "metadata": {},
     "output_type": "execute_result"
    }
   ],
   "source": [
    "a= a+[1] # a = [0]+[1]\n",
    "a"
   ]
  },
  {
   "cell_type": "code",
   "execution_count": 88,
   "id": "981e983a-be46-45c5-ae7f-b23b604cb0c9",
   "metadata": {
    "tags": []
   },
   "outputs": [
    {
     "data": {
      "text/plain": [
       "[0, 1, 2]"
      ]
     },
     "execution_count": 88,
     "metadata": {},
     "output_type": "execute_result"
    }
   ],
   "source": [
    "a= a+[2] # a = [0,1] + [2]\n",
    "a"
   ]
  },
  {
   "cell_type": "markdown",
   "id": "c9514c40-8efa-4a5c-bf14-e15dfdf8bb98",
   "metadata": {},
   "source": [
    "(풀이2) `+=` 이용"
   ]
  },
  {
   "cell_type": "code",
   "execution_count": 89,
   "id": "cee123d8-1cd0-4fc7-ac99-a076dab967c2",
   "metadata": {
    "tags": []
   },
   "outputs": [
    {
     "data": {
      "text/plain": [
       "[0, 1, 2]"
      ]
     },
     "execution_count": 89,
     "metadata": {},
     "output_type": "execute_result"
    }
   ],
   "source": [
    "a=[]\n",
    "a+=[0]\n",
    "a+=[1] \n",
    "a+=[2] \n",
    "a"
   ]
  },
  {
   "cell_type": "markdown",
   "id": "f08bec69-e3f3-48c6-ac0e-038d5a0f3c4b",
   "metadata": {},
   "source": [
    "-   반복되는 문자를 제거하고 연산의 순서를 바꾼다.\n",
    "\n",
    "(풀이3) 리스트 특수기능 `.append()`를 이용"
   ]
  },
  {
   "cell_type": "code",
   "execution_count": 90,
   "id": "cfd45e3c-7bf7-45ed-b12e-7e88d9ea7393",
   "metadata": {
    "tags": []
   },
   "outputs": [],
   "source": [
    "a=[] "
   ]
  },
  {
   "cell_type": "code",
   "execution_count": 91,
   "id": "089c85e9-1f44-49a7-9a55-f63b5d5de05d",
   "metadata": {
    "tags": []
   },
   "outputs": [
    {
     "data": {
      "text/plain": [
       "[0, 1, 2]"
      ]
     },
     "execution_count": 91,
     "metadata": {},
     "output_type": "execute_result"
    }
   ],
   "source": [
    "a.append(0)\n",
    "a.append(1)\n",
    "a.append(2)\n",
    "a"
   ]
  },
  {
   "cell_type": "markdown",
   "id": "05af39b9-7092-4e44-bf5e-96ce88e369a9",
   "metadata": {},
   "source": [
    "`-` 아래는 불가능하다."
   ]
  },
  {
   "cell_type": "code",
   "execution_count": 92,
   "id": "db0a7038-56e9-4e63-82e9-88d7b60b1afb",
   "metadata": {
    "tags": []
   },
   "outputs": [
    {
     "ename": "AttributeError",
     "evalue": "'NoneType' object has no attribute 'append'",
     "output_type": "error",
     "traceback": [
      "\u001b[31m---------------------------------------------------------------------------\u001b[39m",
      "\u001b[31mAttributeError\u001b[39m                            Traceback (most recent call last)",
      "\u001b[36mCell\u001b[39m\u001b[36m \u001b[39m\u001b[32mIn[92]\u001b[39m\u001b[32m, line 1\u001b[39m\n\u001b[32m----> \u001b[39m\u001b[32m1\u001b[39m \u001b[43ma\u001b[49m\u001b[43m.\u001b[49m\u001b[43mappend\u001b[49m\u001b[43m(\u001b[49m\u001b[32;43m0\u001b[39;49m\u001b[43m)\u001b[49m\u001b[43m.\u001b[49m\u001b[43mappend\u001b[49m(\u001b[32m1\u001b[39m).append(\u001b[32m2\u001b[39m)\n",
      "\u001b[31mAttributeError\u001b[39m: 'NoneType' object has no attribute 'append'"
     ]
    }
   ],
   "source": [
    "a.append(0).append(1).append(2)"
   ]
  },
  {
   "cell_type": "code",
   "execution_count": 93,
   "id": "0c31e355-89f1-498e-b28c-a93ee6c48b38",
   "metadata": {},
   "outputs": [
    {
     "ename": "TypeError",
     "evalue": "list.append() takes exactly one argument (3 given)",
     "output_type": "error",
     "traceback": [
      "\u001b[31m---------------------------------------------------------------------------\u001b[39m",
      "\u001b[31mTypeError\u001b[39m                                 Traceback (most recent call last)",
      "\u001b[36mCell\u001b[39m\u001b[36m \u001b[39m\u001b[32mIn[93]\u001b[39m\u001b[32m, line 1\u001b[39m\n\u001b[32m----> \u001b[39m\u001b[32m1\u001b[39m \u001b[43ma\u001b[49m\u001b[43m.\u001b[49m\u001b[43mappend\u001b[49m\u001b[43m(\u001b[49m\u001b[32;43m0\u001b[39;49m\u001b[43m,\u001b[49m\u001b[32;43m1\u001b[39;49m\u001b[43m,\u001b[49m\u001b[32;43m2\u001b[39;49m\u001b[43m)\u001b[49m\n",
      "\u001b[31mTypeError\u001b[39m: list.append() takes exactly one argument (3 given)"
     ]
    }
   ],
   "source": [
    "a.append(0,1,2)"
   ]
  },
  {
   "cell_type": "markdown",
   "id": "4b1e9612-8082-49c4-aa8d-375c871cb37c",
   "metadata": {},
   "source": [
    "## H. `a+[4]`와 `a.append(4)`의 차이점은?\n",
    "\n",
    "(관찰1)"
   ]
  },
  {
   "cell_type": "code",
   "execution_count": 94,
   "id": "16081345-5e58-48b6-b0c6-57cd1195b002",
   "metadata": {
    "tags": []
   },
   "outputs": [
    {
     "data": {
      "text/plain": [
       "[1, 2, 3, 4]"
      ]
     },
     "execution_count": 94,
     "metadata": {},
     "output_type": "execute_result"
    }
   ],
   "source": [
    "a=[1,2,3]\n",
    "a+[4] ## 리스트 a와 리스트 [4]의 연산결과를 알려줘 "
   ]
  },
  {
   "cell_type": "code",
   "execution_count": 95,
   "id": "cc34adf7-1491-44db-9b49-dec692bd4978",
   "metadata": {
    "tags": []
   },
   "outputs": [
    {
     "data": {
      "text/plain": [
       "[1, 2, 3]"
      ]
     },
     "execution_count": 95,
     "metadata": {},
     "output_type": "execute_result"
    }
   ],
   "source": [
    "a ## a는 그대로임. 변화없음 "
   ]
  },
  {
   "cell_type": "markdown",
   "id": "a2063130-db64-45a8-9806-994c665a39d9",
   "metadata": {},
   "source": [
    "(관찰2)"
   ]
  },
  {
   "cell_type": "code",
   "execution_count": 96,
   "id": "e5906002-f777-4f4c-a0b7-55ea4dd55b3e",
   "metadata": {
    "tags": []
   },
   "outputs": [],
   "source": [
    "a=[1,2,3]\n",
    "a.append(4)"
   ]
  },
  {
   "cell_type": "code",
   "execution_count": 97,
   "id": "45627fe7-6276-4bbb-808b-e8d55df6fa61",
   "metadata": {
    "tags": []
   },
   "outputs": [
    {
     "data": {
      "text/plain": [
       "[1, 2, 3, 4]"
      ]
     },
     "execution_count": 97,
     "metadata": {},
     "output_type": "execute_result"
    }
   ],
   "source": [
    "a ## a자체가 변화함 "
   ]
  },
  {
   "cell_type": "markdown",
   "id": "e5cff8a0-2390-4328-ada1-54de7ebfde7b",
   "metadata": {},
   "source": [
    "비슷해보이지만 굉장히 미묘한 차이가 있음\n",
    "\n",
    "`a.append(4)`: `a`에 4를 append하라 $\\to$ `a`가 변함\n",
    "\n",
    "`a+[4]`: `a`와 `[4]`를 연산하라\n",
    "\n",
    "## I. 리스트 특수기능\n",
    "\n",
    "**(append)**"
   ]
  },
  {
   "cell_type": "code",
   "execution_count": 98,
   "id": "0df4aa53-c737-4a5d-b30b-5a851a7ae769",
   "metadata": {},
   "outputs": [
    {
     "data": {
      "text/plain": [
       "\u001b[31mSignature:\u001b[39m a.append(object, /)\n",
       "\u001b[31mDocstring:\u001b[39m Append object to the end of the list.\n",
       "\u001b[31mType:\u001b[39m      builtin_function_or_method"
      ]
     },
     "metadata": {},
     "output_type": "display_data"
    }
   ],
   "source": [
    "a=[1,2,3,4]\n",
    "a.append?"
   ]
  },
  {
   "cell_type": "code",
   "execution_count": 99,
   "id": "f9a6d1d2-d643-449a-97fc-d1376a0076c3",
   "metadata": {},
   "outputs": [
    {
     "data": {
      "text/plain": [
       "[1, 2, 3, 4, 5]"
      ]
     },
     "execution_count": 99,
     "metadata": {},
     "output_type": "execute_result"
    }
   ],
   "source": [
    "a.append(5)\n",
    "a"
   ]
  },
  {
   "cell_type": "markdown",
   "id": "fb752aba-7d90-42ba-b647-7dda76662393",
   "metadata": {},
   "source": [
    "**(clear)**"
   ]
  },
  {
   "cell_type": "code",
   "execution_count": 100,
   "id": "2bb1fe05-1feb-4c10-83c6-6046f4f04c53",
   "metadata": {},
   "outputs": [
    {
     "data": {
      "text/plain": [
       "\u001b[31mSignature:\u001b[39m a.clear()\n",
       "\u001b[31mDocstring:\u001b[39m Remove all items from list.\n",
       "\u001b[31mType:\u001b[39m      builtin_function_or_method"
      ]
     },
     "metadata": {},
     "output_type": "display_data"
    }
   ],
   "source": [
    "a=[1,2,3,4]\n",
    "a.clear?"
   ]
  },
  {
   "cell_type": "code",
   "execution_count": 101,
   "id": "1c5c2f35-45f6-4937-8ac4-c5c0dfb15fce",
   "metadata": {},
   "outputs": [
    {
     "data": {
      "text/plain": [
       "[]"
      ]
     },
     "execution_count": 101,
     "metadata": {},
     "output_type": "execute_result"
    }
   ],
   "source": [
    "a.clear()\n",
    "a"
   ]
  },
  {
   "cell_type": "markdown",
   "id": "76e04ab5-7b6e-40b9-b76f-a7ad51b8c38f",
   "metadata": {},
   "source": [
    "**(copy)**"
   ]
  },
  {
   "cell_type": "code",
   "execution_count": 102,
   "id": "2cab71e7-0c06-454e-b07d-37b3c336d7f9",
   "metadata": {},
   "outputs": [
    {
     "data": {
      "text/plain": [
       "\u001b[31mSignature:\u001b[39m a.copy()\n",
       "\u001b[31mDocstring:\u001b[39m Return a shallow copy of the list.\n",
       "\u001b[31mType:\u001b[39m      builtin_function_or_method"
      ]
     },
     "metadata": {},
     "output_type": "display_data"
    }
   ],
   "source": [
    "a=[1,2,3,4]\n",
    "a.copy?"
   ]
  },
  {
   "cell_type": "code",
   "execution_count": 103,
   "id": "89a26a79-91df-4d3d-9545-242c5f56f264",
   "metadata": {},
   "outputs": [
    {
     "data": {
      "text/plain": [
       "[1, 2, 3, 4]"
      ]
     },
     "execution_count": 103,
     "metadata": {},
     "output_type": "execute_result"
    }
   ],
   "source": [
    "b=a.copy()\n",
    "b"
   ]
  },
  {
   "cell_type": "markdown",
   "id": "21eb4e7e-2f1e-4fb6-985a-42f0edecab47",
   "metadata": {},
   "source": [
    "**(count)**"
   ]
  },
  {
   "cell_type": "code",
   "execution_count": 104,
   "id": "a2e50780-4855-4b38-8b06-ee349f03d914",
   "metadata": {
    "tags": []
   },
   "outputs": [
    {
     "data": {
      "text/plain": [
       "\u001b[31mSignature:\u001b[39m a.count(value, /)\n",
       "\u001b[31mDocstring:\u001b[39m Return number of occurrences of value.\n",
       "\u001b[31mType:\u001b[39m      builtin_function_or_method"
      ]
     },
     "metadata": {},
     "output_type": "display_data"
    }
   ],
   "source": [
    "a=['a','a','b','b','b','c']\n",
    "a.count?"
   ]
  },
  {
   "cell_type": "code",
   "execution_count": 105,
   "id": "22005f55-f28a-4fb9-a800-0a11c1c333da",
   "metadata": {
    "tags": []
   },
   "outputs": [
    {
     "data": {
      "text/plain": [
       "2"
      ]
     },
     "execution_count": 105,
     "metadata": {},
     "output_type": "execute_result"
    }
   ],
   "source": [
    "a.count('a')"
   ]
  },
  {
   "cell_type": "code",
   "execution_count": 106,
   "id": "2d8a41a8-539c-4317-91c5-28bc4ad2fdac",
   "metadata": {
    "tags": []
   },
   "outputs": [
    {
     "data": {
      "text/plain": [
       "3"
      ]
     },
     "execution_count": 106,
     "metadata": {},
     "output_type": "execute_result"
    }
   ],
   "source": [
    "a.count('b')"
   ]
  },
  {
   "cell_type": "code",
   "execution_count": 107,
   "id": "9ccdb3c8-9a55-4585-8d3d-b42ac90f3314",
   "metadata": {
    "tags": []
   },
   "outputs": [
    {
     "data": {
      "text/plain": [
       "1"
      ]
     },
     "execution_count": 107,
     "metadata": {},
     "output_type": "execute_result"
    }
   ],
   "source": [
    "a.count('c')"
   ]
  },
  {
   "cell_type": "markdown",
   "id": "22bc9658-db00-4a4a-90ff-48dbfce0bbe4",
   "metadata": {},
   "source": [
    "**(extend)**"
   ]
  },
  {
   "cell_type": "code",
   "execution_count": 108,
   "id": "1e3a650c-e875-42f0-8517-71c7daf6b907",
   "metadata": {
    "tags": []
   },
   "outputs": [],
   "source": [
    "a=[1,2,3,4]\n",
    "b=[-1,-2,-3,-4]"
   ]
  },
  {
   "cell_type": "code",
   "execution_count": 109,
   "id": "583dd572-7a99-4e9a-bf88-716f80274d06",
   "metadata": {},
   "outputs": [
    {
     "data": {
      "text/plain": [
       "[1, 2, 3, 4, -1, -2, -3, -4]"
      ]
     },
     "execution_count": 109,
     "metadata": {},
     "output_type": "execute_result"
    }
   ],
   "source": [
    "a.extend(b)\n",
    "a"
   ]
  },
  {
   "cell_type": "code",
   "execution_count": 110,
   "id": "4f931791-e264-4cd1-ab18-8feb8ca0d1bd",
   "metadata": {
    "tags": []
   },
   "outputs": [],
   "source": [
    "a=[1,2,3,4]\n",
    "b=[-1,-2,-3,-4]"
   ]
  },
  {
   "cell_type": "code",
   "execution_count": 111,
   "id": "30944a31-5448-4fc6-b3ad-38cc653cb798",
   "metadata": {
    "tags": []
   },
   "outputs": [],
   "source": [
    "a.append(b)"
   ]
  },
  {
   "cell_type": "code",
   "execution_count": 112,
   "id": "6294a621-28ed-45a4-b3cd-e93e65d5744b",
   "metadata": {
    "tags": []
   },
   "outputs": [
    {
     "data": {
      "text/plain": [
       "[1, 2, 3, 4, [-1, -2, -3, -4]]"
      ]
     },
     "execution_count": 112,
     "metadata": {},
     "output_type": "execute_result"
    }
   ],
   "source": [
    "a"
   ]
  },
  {
   "cell_type": "markdown",
   "id": "29eae375-9476-4b1e-9ef3-b46c0efb713b",
   "metadata": {},
   "source": [
    "**(index)**"
   ]
  },
  {
   "cell_type": "code",
   "execution_count": 113,
   "id": "666cd13c-9239-485d-908a-fcbbdb593f7d",
   "metadata": {},
   "outputs": [
    {
     "data": {
      "text/plain": [
       "\u001b[31mSignature:\u001b[39m a.index(value, start=\u001b[32m0\u001b[39m, stop=\u001b[32m9223372036854775807\u001b[39m, /)\n",
       "\u001b[31mDocstring:\u001b[39m\n",
       "Return first index of value.\n",
       "\n",
       "Raises ValueError if the value is not present.\n",
       "\u001b[31mType:\u001b[39m      builtin_function_or_method"
      ]
     },
     "metadata": {},
     "output_type": "display_data"
    }
   ],
   "source": [
    "a=[11,22,'a',True, 22,'a']\n",
    "a.index?"
   ]
  },
  {
   "cell_type": "code",
   "execution_count": 114,
   "id": "73a699ab-85c6-4ac5-9a1a-fd248b613234",
   "metadata": {},
   "outputs": [
    {
     "data": {
      "text/plain": [
       "0"
      ]
     },
     "execution_count": 114,
     "metadata": {},
     "output_type": "execute_result"
    }
   ],
   "source": [
    "a.index(11)"
   ]
  },
  {
   "cell_type": "code",
   "execution_count": 115,
   "id": "aca01893-f546-4d99-8dba-474f0fe8ad69",
   "metadata": {},
   "outputs": [
    {
     "data": {
      "text/plain": [
       "1"
      ]
     },
     "execution_count": 115,
     "metadata": {},
     "output_type": "execute_result"
    }
   ],
   "source": [
    "a.index(22)"
   ]
  },
  {
   "cell_type": "code",
   "execution_count": 116,
   "id": "0e75b317-24f0-499b-b1e4-57351c2dce30",
   "metadata": {},
   "outputs": [
    {
     "data": {
      "text/plain": [
       "2"
      ]
     },
     "execution_count": 116,
     "metadata": {},
     "output_type": "execute_result"
    }
   ],
   "source": [
    "a.index('a')"
   ]
  },
  {
   "cell_type": "code",
   "execution_count": 117,
   "id": "559c0d24-007f-4670-af86-61816509b7f6",
   "metadata": {},
   "outputs": [
    {
     "data": {
      "text/plain": [
       "3"
      ]
     },
     "execution_count": 117,
     "metadata": {},
     "output_type": "execute_result"
    }
   ],
   "source": [
    "a.index(True)"
   ]
  },
  {
   "cell_type": "markdown",
   "id": "99702b2c-01c0-4c1c-ae4f-83e86dfca0b7",
   "metadata": {},
   "source": [
    "**(insert)**"
   ]
  },
  {
   "cell_type": "code",
   "execution_count": 118,
   "id": "58d2ce7c-a5d7-4de5-93d1-7c9f2f4d3ff9",
   "metadata": {},
   "outputs": [
    {
     "data": {
      "text/plain": [
       "\u001b[31mSignature:\u001b[39m a.insert(index, object, /)\n",
       "\u001b[31mDocstring:\u001b[39m Insert object before index.\n",
       "\u001b[31mType:\u001b[39m      builtin_function_or_method"
      ]
     },
     "metadata": {},
     "output_type": "display_data"
    }
   ],
   "source": [
    "a=[1,2,3]\n",
    "a.insert?"
   ]
  },
  {
   "cell_type": "code",
   "execution_count": 119,
   "id": "5fc5bb9a-c399-4f13-b44c-8270f92145d8",
   "metadata": {},
   "outputs": [
    {
     "data": {
      "text/plain": [
       "[1, 88, 2, 3]"
      ]
     },
     "execution_count": 119,
     "metadata": {},
     "output_type": "execute_result"
    }
   ],
   "source": [
    "a.insert(1,88) \n",
    "a"
   ]
  },
  {
   "cell_type": "markdown",
   "id": "b9d765e7-1e1f-4295-a03a-7e63d6f59a01",
   "metadata": {},
   "source": [
    "**(pop)**"
   ]
  },
  {
   "cell_type": "code",
   "execution_count": 120,
   "id": "0fe10e93-8a27-4a8a-9880-231e7fd1d9c7",
   "metadata": {},
   "outputs": [
    {
     "data": {
      "text/plain": [
       "\u001b[31mSignature:\u001b[39m a.pop(index=-\u001b[32m1\u001b[39m, /)\n",
       "\u001b[31mDocstring:\u001b[39m\n",
       "Remove and return item at index (default last).\n",
       "\n",
       "Raises IndexError if list is empty or index is out of range.\n",
       "\u001b[31mType:\u001b[39m      builtin_function_or_method"
      ]
     },
     "metadata": {},
     "output_type": "display_data"
    }
   ],
   "source": [
    "a=['a',1,2,'d']\n",
    "a.pop?"
   ]
  },
  {
   "cell_type": "code",
   "execution_count": 121,
   "id": "bf7f454b-99b9-47d9-8607-7fd9d41c76a7",
   "metadata": {},
   "outputs": [
    {
     "data": {
      "text/plain": [
       "'d'"
      ]
     },
     "execution_count": 121,
     "metadata": {},
     "output_type": "execute_result"
    }
   ],
   "source": [
    "a.pop() # index=-1 이므로 마지막원소가 나타남"
   ]
  },
  {
   "cell_type": "code",
   "execution_count": 122,
   "id": "5ce40fd0-41f9-4ee4-a8da-9810d665cf55",
   "metadata": {},
   "outputs": [
    {
     "data": {
      "text/plain": [
       "['a', 1, 2]"
      ]
     },
     "execution_count": 122,
     "metadata": {},
     "output_type": "execute_result"
    }
   ],
   "source": [
    "a # a는 마지막 원소가 사라진 상태"
   ]
  },
  {
   "cell_type": "code",
   "execution_count": 123,
   "id": "8f0e3a90-ba90-49f0-8387-b4f7e8ebdbd6",
   "metadata": {},
   "outputs": [
    {
     "data": {
      "text/plain": [
       "'a'"
      ]
     },
     "execution_count": 123,
     "metadata": {},
     "output_type": "execute_result"
    }
   ],
   "source": [
    "a.pop(0) # index=0 이므로 첫번쨰 원소가 나타남"
   ]
  },
  {
   "cell_type": "code",
   "execution_count": 124,
   "id": "209c0400-1c9a-4612-b2c9-2a07ce8beb44",
   "metadata": {},
   "outputs": [
    {
     "data": {
      "text/plain": [
       "[1, 2]"
      ]
     },
     "execution_count": 124,
     "metadata": {},
     "output_type": "execute_result"
    }
   ],
   "source": [
    "a # a에는 첫번째 원소가 사라진 상태"
   ]
  },
  {
   "cell_type": "markdown",
   "id": "fc6e174c-306c-4a71-b7a9-fd5cfd5b03e1",
   "metadata": {},
   "source": [
    "**(remove)**"
   ]
  },
  {
   "cell_type": "code",
   "execution_count": 125,
   "id": "b303f3ca-b9e3-4964-a655-bc8c7e5de4de",
   "metadata": {},
   "outputs": [
    {
     "data": {
      "text/plain": [
       "\u001b[31mSignature:\u001b[39m a.remove(value, /)\n",
       "\u001b[31mDocstring:\u001b[39m\n",
       "Remove first occurrence of value.\n",
       "\n",
       "Raises ValueError if the value is not present.\n",
       "\u001b[31mType:\u001b[39m      builtin_function_or_method"
      ]
     },
     "metadata": {},
     "output_type": "display_data"
    }
   ],
   "source": [
    "a=['a',2,3,'d']\n",
    "a.remove?"
   ]
  },
  {
   "cell_type": "code",
   "execution_count": 126,
   "id": "8c0e3da5-174b-4b2f-85fe-b700a7294f17",
   "metadata": {},
   "outputs": [],
   "source": [
    "a.remove('d')"
   ]
  },
  {
   "cell_type": "code",
   "execution_count": 127,
   "id": "0f5c8b2b-a91b-4a34-99e8-e9a93535923b",
   "metadata": {},
   "outputs": [
    {
     "data": {
      "text/plain": [
       "['a', 2, 3]"
      ]
     },
     "execution_count": 127,
     "metadata": {},
     "output_type": "execute_result"
    }
   ],
   "source": [
    "a"
   ]
  },
  {
   "cell_type": "code",
   "execution_count": 128,
   "id": "e8edd85f-2529-41cd-bf9e-d9f6014920e7",
   "metadata": {},
   "outputs": [],
   "source": [
    "a.remove('a')"
   ]
  },
  {
   "cell_type": "code",
   "execution_count": 129,
   "id": "ed5843ea-0a33-4d52-9f43-58535fb9d39f",
   "metadata": {},
   "outputs": [
    {
     "data": {
      "text/plain": [
       "[2, 3]"
      ]
     },
     "execution_count": 129,
     "metadata": {},
     "output_type": "execute_result"
    }
   ],
   "source": [
    "a"
   ]
  },
  {
   "cell_type": "markdown",
   "id": "7eec1e76-5289-4d5c-b3ce-822c54d276f7",
   "metadata": {},
   "source": [
    "**(reverse)**"
   ]
  },
  {
   "cell_type": "code",
   "execution_count": 130,
   "id": "8bc04abd-84cc-45c9-a465-2abe3af5d67c",
   "metadata": {},
   "outputs": [
    {
     "data": {
      "text/plain": [
       "\u001b[31mSignature:\u001b[39m a.reverse()\n",
       "\u001b[31mDocstring:\u001b[39m Reverse *IN PLACE*.\n",
       "\u001b[31mType:\u001b[39m      builtin_function_or_method"
      ]
     },
     "metadata": {},
     "output_type": "display_data"
    }
   ],
   "source": [
    "a=[1,2,3,4]\n",
    "a.reverse?"
   ]
  },
  {
   "cell_type": "code",
   "execution_count": 131,
   "id": "550e3fb4-1819-4dd8-915b-c551972b4815",
   "metadata": {},
   "outputs": [
    {
     "data": {
      "text/plain": [
       "[4, 3, 2, 1]"
      ]
     },
     "execution_count": 131,
     "metadata": {},
     "output_type": "execute_result"
    }
   ],
   "source": [
    "a.reverse()\n",
    "a"
   ]
  },
  {
   "cell_type": "markdown",
   "id": "a93f89d3-dde0-44fe-8f50-961866279568",
   "metadata": {},
   "source": [
    "**(sort)**"
   ]
  },
  {
   "cell_type": "code",
   "execution_count": 132,
   "id": "2ad24951-f833-4059-a56b-473a33954d1a",
   "metadata": {},
   "outputs": [
    {
     "data": {
      "text/plain": [
       "\u001b[31mSignature:\u001b[39m a.sort(*, key=\u001b[38;5;28;01mNone\u001b[39;00m, reverse=\u001b[38;5;28;01mFalse\u001b[39;00m)\n",
       "\u001b[31mDocstring:\u001b[39m\n",
       "Sort the list in ascending order and return None.\n",
       "\n",
       "The sort is in-place (i.e. the list itself is modified) and stable (i.e. the\n",
       "order of two equal elements is maintained).\n",
       "\n",
       "If a key function is given, apply it once to each list item and sort them,\n",
       "ascending or descending, according to their function values.\n",
       "\n",
       "The reverse flag can be set to sort in descending order.\n",
       "\u001b[31mType:\u001b[39m      builtin_function_or_method"
      ]
     },
     "metadata": {},
     "output_type": "display_data"
    }
   ],
   "source": [
    "a=[1,3,2,4]\n",
    "a.sort?"
   ]
  },
  {
   "cell_type": "code",
   "execution_count": 133,
   "id": "62a3ad03-04e8-4a13-9012-bd581e528ab7",
   "metadata": {},
   "outputs": [
    {
     "data": {
      "text/plain": [
       "[1, 2, 3, 4]"
      ]
     },
     "execution_count": 133,
     "metadata": {},
     "output_type": "execute_result"
    }
   ],
   "source": [
    "a.sort()\n",
    "a"
   ]
  },
  {
   "cell_type": "markdown",
   "id": "c82b9aed-d672-43de-a5d3-9fc9bf3d42a0",
   "metadata": {},
   "source": [
    "(다른예제들)"
   ]
  },
  {
   "cell_type": "code",
   "execution_count": 134,
   "id": "f8f59b27-b4f9-479f-8fb4-b6ce18cdcb46",
   "metadata": {},
   "outputs": [
    {
     "data": {
      "text/plain": [
       "['g', 'u', 'e', 'b', 'i', 'n']"
      ]
     },
     "execution_count": 134,
     "metadata": {},
     "output_type": "execute_result"
    }
   ],
   "source": [
    "a=list('guebin')\n",
    "a"
   ]
  },
  {
   "cell_type": "code",
   "execution_count": 135,
   "id": "1ea037e5-824e-4b6d-95f6-3196c7b9eca0",
   "metadata": {},
   "outputs": [
    {
     "data": {
      "text/plain": [
       "['b', 'e', 'g', 'i', 'n', 'u']"
      ]
     },
     "execution_count": 135,
     "metadata": {},
     "output_type": "execute_result"
    }
   ],
   "source": [
    "a.sort()\n",
    "a"
   ]
  },
  {
   "cell_type": "code",
   "execution_count": 136,
   "id": "9f2ffcad-f103-42fb-b994-2050a5428c31",
   "metadata": {},
   "outputs": [
    {
     "data": {
      "text/plain": [
       "['u', 'n', 'i', 'g', 'e', 'b']"
      ]
     },
     "execution_count": 136,
     "metadata": {},
     "output_type": "execute_result"
    }
   ],
   "source": [
    "a.sort(reverse=True)\n",
    "a"
   ]
  },
  {
   "cell_type": "markdown",
   "id": "5ed5bce7-da23-44e4-8d6c-540ea78174e0",
   "metadata": {},
   "source": [
    "## J. 중첩리스트\n",
    "\n",
    "`-` 리스트는 리스트를 원소로 받을 수 있으므로 아래와 같이 중첩된\n",
    "리스트를 만들 수 있다."
   ]
  },
  {
   "cell_type": "code",
   "execution_count": 137,
   "id": "b167da02-4fdf-40bd-a97a-42cbeeb90d27",
   "metadata": {
    "tags": []
   },
   "outputs": [
    {
     "data": {
      "text/plain": [
       "[[1, 2, 3], [4, 5, 6], [7, 8, 9]]"
      ]
     },
     "execution_count": 137,
     "metadata": {},
     "output_type": "execute_result"
    }
   ],
   "source": [
    "A = [[1,2,3],\n",
    "     [4,5,6],\n",
    "     [7,8,9]]\n",
    "A"
   ]
  },
  {
   "cell_type": "markdown",
   "id": "9c9353a1-c9e9-46d0-bfd3-8921587cd43f",
   "metadata": {},
   "source": [
    "`-` A는 1차원인 벡터가 아니라 2차원인 매트릭스로 이해할 수 있다.\n",
    "구체적으로는 아래와 같은 매트릭스로 이해할 수 있다\n",
    "\n",
    "$$\\bf{A}=\\begin{bmatrix}\n",
    "1 & 2 & 3 \\\\ \n",
    "4 & 5 & 6 \\\\ \n",
    "7 & 8 & 9 \n",
    "\\end{bmatrix}$$\n",
    "\n",
    "`-` A에서 (2,1)의 원소를 뽑고싶다 = 4를 뽑고싶다"
   ]
  },
  {
   "cell_type": "code",
   "execution_count": 138,
   "id": "bd3d2edd-c2b1-4e65-b8e7-4367c84dde60",
   "metadata": {
    "tags": []
   },
   "outputs": [
    {
     "ename": "TypeError",
     "evalue": "list indices must be integers or slices, not tuple",
     "output_type": "error",
     "traceback": [
      "\u001b[31m---------------------------------------------------------------------------\u001b[39m",
      "\u001b[31mTypeError\u001b[39m                                 Traceback (most recent call last)",
      "\u001b[36mCell\u001b[39m\u001b[36m \u001b[39m\u001b[32mIn[138]\u001b[39m\u001b[32m, line 1\u001b[39m\n\u001b[32m----> \u001b[39m\u001b[32m1\u001b[39m \u001b[43mA\u001b[49m\u001b[43m[\u001b[49m\u001b[32;43m1\u001b[39;49m\u001b[43m,\u001b[49m\u001b[32;43m0\u001b[39;49m\u001b[43m]\u001b[49m \u001b[38;5;66;03m# R에서는 이게 가능했죠\u001b[39;00m\n",
      "\u001b[31mTypeError\u001b[39m: list indices must be integers or slices, not tuple"
     ]
    }
   ],
   "source": [
    "A[1,0] # R에서는 이게 가능했죠"
   ]
  },
  {
   "cell_type": "markdown",
   "id": "64cdadd7-a8ab-4839-8776-13ff740c8a81",
   "metadata": {},
   "source": [
    "-   실패"
   ]
  },
  {
   "cell_type": "code",
   "execution_count": 139,
   "id": "8d45d7ad-916e-49ae-b270-eca3299c349f",
   "metadata": {
    "tags": []
   },
   "outputs": [
    {
     "data": {
      "text/plain": [
       "4"
      ]
     },
     "execution_count": 139,
     "metadata": {},
     "output_type": "execute_result"
    }
   ],
   "source": [
    "A[1][0]"
   ]
  },
  {
   "cell_type": "markdown",
   "id": "9c9d18b7-2c27-42ae-b020-3af190bd0d28",
   "metadata": {},
   "source": [
    "-   성공\n",
    "\n",
    "`-` 성공의 이유를 분석해보자."
   ]
  },
  {
   "cell_type": "code",
   "execution_count": 140,
   "id": "a0771502-a148-451b-9fcc-7c056ad8f071",
   "metadata": {},
   "outputs": [
    {
     "data": {
      "text/plain": [
       "[[1, 2, 3], [4, 5, 6], [7, 8, 9]]"
      ]
     },
     "execution_count": 140,
     "metadata": {},
     "output_type": "execute_result"
    }
   ],
   "source": [
    "A"
   ]
  },
  {
   "cell_type": "code",
   "execution_count": 141,
   "id": "e5d90caa-ca2a-41a5-ba60-4fede3f42383",
   "metadata": {},
   "outputs": [
    {
     "data": {
      "text/plain": [
       "[4, 5, 6]"
      ]
     },
     "execution_count": 141,
     "metadata": {},
     "output_type": "execute_result"
    }
   ],
   "source": [
    "A[1]"
   ]
  },
  {
   "cell_type": "code",
   "execution_count": 142,
   "id": "866c435f-7f51-4f97-89bd-04e2eaa6951b",
   "metadata": {},
   "outputs": [
    {
     "data": {
      "text/plain": [
       "4"
      ]
     },
     "execution_count": 142,
     "metadata": {},
     "output_type": "execute_result"
    }
   ],
   "source": [
    "A[1][0]"
   ]
  },
  {
   "cell_type": "markdown",
   "id": "2f7c8960-3635-4452-a4b2-89bc3b033007",
   "metadata": {},
   "source": [
    "`-` 매트릭스는 아니지만 매트릭스 같음!\n",
    "\n",
    "-   1차원 배열을 다차원 배열로 확장할 수 있는 기본 아이디어를 제공함\n",
    "\n",
    "## K. 리스트 컴프리헨션 연습\n",
    "\n",
    "`-` 예제1: 리스트 컴프리헨션을 이용하여 아래와 같은 리스트를 만들어라."
   ]
  },
  {
   "cell_type": "code",
   "execution_count": 143,
   "id": "cfdfc8c4-877a-4c41-a951-0b395edb0a55",
   "metadata": {},
   "outputs": [
    {
     "data": {
      "text/plain": [
       "['SSSS', 'PPPP', 'AAAA', 'MMMM']"
      ]
     },
     "execution_count": 143,
     "metadata": {},
     "output_type": "execute_result"
    }
   ],
   "source": [
    "['SSSS','PPPP','AAAA','MMMM']"
   ]
  },
  {
   "cell_type": "markdown",
   "id": "c1890b3d-dd08-48dc-b5b8-d9db76c8671a",
   "metadata": {},
   "source": [
    "(풀이)"
   ]
  },
  {
   "cell_type": "code",
   "execution_count": 144,
   "id": "8760f249-f500-445d-b3f1-b4b730314497",
   "metadata": {},
   "outputs": [
    {
     "data": {
      "text/plain": [
       "['SSSS', 'PPPP', 'AAAA', 'MMMM']"
      ]
     },
     "execution_count": 144,
     "metadata": {},
     "output_type": "execute_result"
    }
   ],
   "source": [
    "[s*4 for s in 'SPAM']"
   ]
  },
  {
   "cell_type": "markdown",
   "id": "0fcecb77-d684-471e-b595-3f668078a4b4",
   "metadata": {},
   "source": [
    "`-` 예제2: 리스트컴프리헨션을 이용하여 아래와 같은 리스트를 만들어라."
   ]
  },
  {
   "cell_type": "code",
   "execution_count": 145,
   "id": "cf942173-58af-41af-adcc-8c81c0e29dac",
   "metadata": {},
   "outputs": [
    {
     "data": {
      "text/plain": [
       "['X1', 'X2', 'X3', 'Y1', 'Y2', 'Y3']"
      ]
     },
     "execution_count": 145,
     "metadata": {},
     "output_type": "execute_result"
    }
   ],
   "source": [
    "['X1','X2','X3','Y1','Y2','Y3']"
   ]
  },
  {
   "cell_type": "markdown",
   "id": "cfac3d37-4d36-4a03-b2a2-b284f166726b",
   "metadata": {},
   "source": [
    "(풀이1)"
   ]
  },
  {
   "cell_type": "code",
   "execution_count": 146,
   "id": "4f4d24be-396b-4fbe-b099-bcb791291941",
   "metadata": {
    "tags": []
   },
   "outputs": [],
   "source": [
    "import itertools"
   ]
  },
  {
   "cell_type": "code",
   "execution_count": 147,
   "id": "27785289-d1f6-42d4-a3ad-fb95905b8bce",
   "metadata": {
    "tags": []
   },
   "outputs": [
    {
     "data": {
      "text/plain": [
       "['X1', 'X2', 'X3', 'Y1', 'Y2', 'Y3']"
      ]
     },
     "execution_count": 147,
     "metadata": {},
     "output_type": "execute_result"
    }
   ],
   "source": [
    "[i+j for i,j in itertools.product('XY','123')]"
   ]
  },
  {
   "cell_type": "markdown",
   "id": "d92f724f-51e6-439e-901a-670671636952",
   "metadata": {},
   "source": [
    "(풀이2)"
   ]
  },
  {
   "cell_type": "code",
   "execution_count": 148,
   "id": "e7d95b00-33a2-4822-b153-2f741c8ac26b",
   "metadata": {
    "tags": []
   },
   "outputs": [
    {
     "data": {
      "text/plain": [
       "['X1', 'X2', 'X3', 'Y1', 'Y2', 'Y3']"
      ]
     },
     "execution_count": 148,
     "metadata": {},
     "output_type": "execute_result"
    }
   ],
   "source": [
    "[i+j for i in 'XY' for j in '123']"
   ]
  },
  {
   "cell_type": "markdown",
   "id": "9506042f-31df-4753-b8a5-af3bef433cd8",
   "metadata": {},
   "source": [
    "`-` 예제: 리스트컴프리헨션을 이용하여 아래와 같은 리스트를 만들어라."
   ]
  },
  {
   "cell_type": "code",
   "execution_count": 149,
   "id": "61f24bdb-2a82-4d30-92af-0f209b23f10a",
   "metadata": {},
   "outputs": [
    {
     "data": {
      "text/plain": [
       "['stat1', 'stat2', 'stat3', 'math1', 'math2', 'math3']"
      ]
     },
     "execution_count": 149,
     "metadata": {},
     "output_type": "execute_result"
    }
   ],
   "source": [
    "['stat1', 'stat2', 'stat3', 'math1', 'math2', 'math3']"
   ]
  },
  {
   "cell_type": "markdown",
   "id": "1c076318-d36c-4149-8257-07591de95227",
   "metadata": {},
   "source": [
    "(풀이1)"
   ]
  },
  {
   "cell_type": "code",
   "execution_count": 150,
   "id": "585115ff-c0eb-4d28-a37a-ef91d8bf1800",
   "metadata": {
    "tags": []
   },
   "outputs": [
    {
     "data": {
      "text/plain": [
       "['stat1', 'stat2', 'stat3', 'math1', 'math2', 'math3']"
      ]
     },
     "execution_count": 150,
     "metadata": {},
     "output_type": "execute_result"
    }
   ],
   "source": [
    "[i+j for i,j in itertools.product(['stat','math'], '123')]"
   ]
  },
  {
   "cell_type": "markdown",
   "id": "b73961da-b7f0-46e1-9479-08487ab39c9e",
   "metadata": {},
   "source": [
    "(풀이2)"
   ]
  },
  {
   "cell_type": "code",
   "execution_count": 151,
   "id": "a19a8028-6f02-4f50-bda9-2b5f67e297bb",
   "metadata": {
    "tags": []
   },
   "outputs": [
    {
     "data": {
      "text/plain": [
       "['stat1', 'stat2', 'stat3', 'math1', 'math2', 'math3']"
      ]
     },
     "execution_count": 151,
     "metadata": {},
     "output_type": "execute_result"
    }
   ],
   "source": [
    "[i+j for i in ['stat','math'] for j in '123']"
   ]
  },
  {
   "cell_type": "markdown",
   "id": "703367e9-786d-4109-a279-b838b5c8ef9d",
   "metadata": {},
   "source": [
    "(다른풀이) 비어있는 리스트를 만들고 for문을 쓰면 좀 복잡해진다."
   ]
  },
  {
   "cell_type": "code",
   "execution_count": 152,
   "id": "c326dd82-3c17-4554-a779-26dffb65a3cc",
   "metadata": {
    "tags": []
   },
   "outputs": [
    {
     "data": {
      "text/plain": [
       "['stat1', 'stat2', 'stat3', 'math1', 'math2', 'math3']"
      ]
     },
     "execution_count": 152,
     "metadata": {},
     "output_type": "execute_result"
    }
   ],
   "source": [
    "lst = [] \n",
    "for x in ['stat','math']: \n",
    "    for y in '123': \n",
    "        lst.append(x+y)\n",
    "lst"
   ]
  },
  {
   "cell_type": "code",
   "execution_count": 153,
   "id": "35d74232-8bbd-4c0f-b8fe-7bd068029419",
   "metadata": {
    "tags": []
   },
   "outputs": [
    {
     "data": {
      "text/plain": [
       "['stat1', 'stat2', 'stat3', 'math1', 'math2', 'math3']"
      ]
     },
     "execution_count": 153,
     "metadata": {},
     "output_type": "execute_result"
    }
   ],
   "source": [
    "lst = [] \n",
    "for x in ['stat','math']: \n",
    "    for y in '123': \n",
    "        lst = lst + [x+y]\n",
    "lst"
   ]
  },
  {
   "cell_type": "markdown",
   "id": "31cb4cff-a4ef-4084-9b31-12226142c915",
   "metadata": {},
   "source": [
    "`-` 예제: 리스트컴프리헨션과 문자열 `'jbnu'`를 이용하여 아래와 같은\n",
    "리스트를 만들어라."
   ]
  },
  {
   "cell_type": "code",
   "execution_count": 154,
   "id": "63abc3ca-9e50-4d10-9dc0-d41588824ce6",
   "metadata": {},
   "outputs": [
    {
     "data": {
      "text/plain": [
       "['j', 'b', 'n', 'u']"
      ]
     },
     "execution_count": 154,
     "metadata": {},
     "output_type": "execute_result"
    }
   ],
   "source": [
    "['j','b','n','u']"
   ]
  },
  {
   "cell_type": "markdown",
   "id": "b24223e2-c1cf-4ad0-9a1d-d05bb452fa9e",
   "metadata": {},
   "source": [
    "(풀이)"
   ]
  },
  {
   "cell_type": "code",
   "execution_count": 155,
   "id": "636686b9-cc9a-4b07-a44f-818707cd56ac",
   "metadata": {
    "tags": []
   },
   "outputs": [
    {
     "data": {
      "text/plain": [
       "['j', 'b', 'n', 'u']"
      ]
     },
     "execution_count": 155,
     "metadata": {},
     "output_type": "execute_result"
    }
   ],
   "source": [
    "[s for s in 'jbnu']"
   ]
  },
  {
   "cell_type": "markdown",
   "id": "b142cdb7-305c-4fed-9f95-f4503e6f29bd",
   "metadata": {},
   "source": [
    "(다른풀이) 아래와 같이 풀면 된다는것은 알고 있음"
   ]
  },
  {
   "cell_type": "code",
   "execution_count": 156,
   "id": "7a62bd5b-4dd5-4456-9bf0-946b8e52010c",
   "metadata": {
    "tags": []
   },
   "outputs": [
    {
     "data": {
      "text/plain": [
       "['j', 'b', 'n', 'u']"
      ]
     },
     "execution_count": 156,
     "metadata": {},
     "output_type": "execute_result"
    }
   ],
   "source": [
    "list('jbnu')"
   ]
  },
  {
   "cell_type": "markdown",
   "id": "9c65c148-a63c-48c0-ace1-26ae957091fb",
   "metadata": {},
   "source": [
    "`-` 예제: 리스트컴프리헨션을 이용하여 아래와 같은 리스트를 만들어라."
   ]
  },
  {
   "cell_type": "code",
   "execution_count": 157,
   "id": "710367db-3b05-44be-9c75-ecdf94547c2d",
   "metadata": {},
   "outputs": [
    {
     "data": {
      "text/plain": [
       "['X1', 'X2', 'X3', 'X4', 'X5', 'X6', 'X7', 'X8', 'X9', 'X10', 'X11', 'X12']"
      ]
     },
     "execution_count": 157,
     "metadata": {},
     "output_type": "execute_result"
    }
   ],
   "source": [
    "['X1', 'X2', 'X3', 'X4', 'X5', 'X6', 'X7', 'X8', 'X9', 'X10', 'X11', 'X12']"
   ]
  },
  {
   "cell_type": "markdown",
   "id": "f3a4f375-bd78-4431-bd29-13fbe558fb76",
   "metadata": {},
   "source": [
    "(풀이)"
   ]
  },
  {
   "cell_type": "code",
   "execution_count": 158,
   "id": "fe6668eb-1c05-498b-9553-0c96d3a00d09",
   "metadata": {
    "tags": []
   },
   "outputs": [
    {
     "data": {
      "text/plain": [
       "['X1', 'X2', 'X3', 'X4', 'X5', 'X6', 'X7', 'X8', 'X9', 'X10', 'X11', 'X12']"
      ]
     },
     "execution_count": 158,
     "metadata": {},
     "output_type": "execute_result"
    }
   ],
   "source": [
    "['X'+str(i) for i in range(1,13)]"
   ]
  },
  {
   "cell_type": "markdown",
   "id": "00431e87-2b14-4fce-b34f-09775568b4ce",
   "metadata": {},
   "source": [
    "## L. 리스트 컴프리헨션과 for문의 미묘한 차이\n",
    "\n",
    "(경우1)"
   ]
  },
  {
   "cell_type": "code",
   "execution_count": 159,
   "id": "34ec3891-0a72-4c2e-8a70-bd2073754a6a",
   "metadata": {
    "tags": []
   },
   "outputs": [
    {
     "data": {
      "text/plain": [
       "['j', 'b', 'n', 'u']"
      ]
     },
     "execution_count": 159,
     "metadata": {},
     "output_type": "execute_result"
    }
   ],
   "source": [
    "x=777 \n",
    "lst = [] \n",
    "for x in 'jbnu': \n",
    "    lst = lst + [x]\n",
    "lst    "
   ]
  },
  {
   "cell_type": "code",
   "execution_count": 160,
   "id": "6d386ce3-fb40-43d5-9347-6e251908d125",
   "metadata": {
    "tags": []
   },
   "outputs": [
    {
     "data": {
      "text/plain": [
       "'u'"
      ]
     },
     "execution_count": 160,
     "metadata": {},
     "output_type": "execute_result"
    }
   ],
   "source": [
    "x"
   ]
  },
  {
   "cell_type": "markdown",
   "id": "82500915-61aa-4a26-a4ea-9c9bfa0a40a4",
   "metadata": {},
   "source": [
    "(경우2)"
   ]
  },
  {
   "cell_type": "code",
   "execution_count": 161,
   "id": "d0c719bc-e4a0-4080-be58-7f1c0041f920",
   "metadata": {},
   "outputs": [
    {
     "data": {
      "text/plain": [
       "['j', 'b', 'n', 'u']"
      ]
     },
     "execution_count": 161,
     "metadata": {},
     "output_type": "execute_result"
    }
   ],
   "source": [
    "x=777\n",
    "lst = [x for x in 'jbnu'] \n",
    "lst "
   ]
  },
  {
   "cell_type": "code",
   "execution_count": 162,
   "id": "43443c27-1bcb-43bb-a14f-977c79fdb7ca",
   "metadata": {},
   "outputs": [
    {
     "data": {
      "text/plain": [
       "777"
      ]
     },
     "execution_count": 162,
     "metadata": {},
     "output_type": "execute_result"
    }
   ],
   "source": [
    "x"
   ]
  },
  {
   "cell_type": "markdown",
   "id": "0fb72804-dc73-4eda-9f6a-fe6dce413f67",
   "metadata": {},
   "source": [
    "> 진짜 미묘하게 다르죠?\n",
    "## M. 연습문제들"
   ]
  },
  {
   "cell_type": "markdown",
   "id": "1f339923-5a77-4055-aebb-5be8a78f3e87",
   "metadata": {},
   "source": [
    "`# 문제`. 길이가 0인 리스트를 만들어라. (비어있는 리스트를 만들어라)"
   ]
  },
  {
   "cell_type": "markdown",
   "id": "9aa8b09c-3ab2-48f8-a965-55f06cdbd1fd",
   "metadata": {},
   "source": [
    "(풀이)"
   ]
  },
  {
   "cell_type": "code",
   "execution_count": null,
   "id": "ac600c0b-c868-4137-9d6b-a70dde391f0e",
   "metadata": {},
   "outputs": [],
   "source": []
  },
  {
   "cell_type": "code",
   "execution_count": null,
   "id": "eea644b9-79b1-43c0-98d5-ec1d1f0a8601",
   "metadata": {},
   "outputs": [],
   "source": []
  },
  {
   "cell_type": "markdown",
   "id": "0ce7b67d-9f30-459e-9722-b3e8fa190d2d",
   "metadata": {},
   "source": [
    "`# 문제`. 다음의 실행값 중 가장 큰 숫자가 나오는 보기를 골라라. (에러가 나는 코드는 정답에서 제외함)\n",
    "\n",
    "``` python\n",
    "(a) len(3.14) \n",
    "(b) len([3.14]) \n",
    "(c) len('3.14') \n",
    "```"
   ]
  },
  {
   "cell_type": "markdown",
   "id": "02a20e70-0a99-4e09-949f-bc08906cfa68",
   "metadata": {},
   "source": [
    "(풀이)"
   ]
  },
  {
   "cell_type": "code",
   "execution_count": null,
   "id": "786f80f9-e39c-4ae0-9516-97f266717e41",
   "metadata": {},
   "outputs": [],
   "source": []
  },
  {
   "cell_type": "code",
   "execution_count": null,
   "id": "16743d52-a591-4356-a9f6-5d300a676454",
   "metadata": {},
   "outputs": [],
   "source": []
  },
  {
   "cell_type": "markdown",
   "id": "c0dc20aa-0b1e-4568-87c2-e085d7b842d5",
   "metadata": {},
   "source": [
    "`# 문제`. 리스트자료형의 `+`와 `*` 연산을 이용하여 아래와 같은 list를\n",
    "생성하라."
   ]
  },
  {
   "cell_type": "code",
   "execution_count": 192,
   "id": "2bc05a52-ba2e-4f63-8c4d-1496327855b4",
   "metadata": {},
   "outputs": [
    {
     "data": {
      "text/plain": [
       "[1, 2, 2, 3, 3, 3, 4, 4, 4, 4, 5, 5, 5, 5, 5]"
      ]
     },
     "execution_count": 192,
     "metadata": {},
     "output_type": "execute_result"
    }
   ],
   "source": [
    "[1, 2, 2, 3, 3, 3, 4, 4, 4, 4, 5, 5, 5, 5, 5]"
   ]
  },
  {
   "cell_type": "markdown",
   "id": "acff2e5e-f302-4395-98cb-b57b992a18cd",
   "metadata": {},
   "source": [
    "**hint:** 아래의 코드를 관찰해보세요"
   ]
  },
  {
   "cell_type": "code",
   "execution_count": 193,
   "id": "c55a1868-5a6e-419b-a71c-e0f5952de745",
   "metadata": {},
   "outputs": [
    {
     "data": {
      "text/plain": [
       "[1, 2, 2]"
      ]
     },
     "execution_count": 193,
     "metadata": {},
     "output_type": "execute_result"
    }
   ],
   "source": [
    "[1]*1+[2]*2 "
   ]
  },
  {
   "cell_type": "markdown",
   "id": "ec716f31-8155-4bc6-b835-842dd8866ee8",
   "metadata": {},
   "source": [
    "(풀이)"
   ]
  },
  {
   "cell_type": "code",
   "execution_count": null,
   "id": "5f85a57a-6d2f-42ef-a9fe-47dac802f8ae",
   "metadata": {},
   "outputs": [],
   "source": []
  },
  {
   "cell_type": "code",
   "execution_count": null,
   "id": "13491db9-8fdb-49d4-9028-a30250305e7e",
   "metadata": {},
   "outputs": [],
   "source": []
  },
  {
   "cell_type": "markdown",
   "id": "5d3ada10-e1c0-4012-9125-bde2037b13d3",
   "metadata": {},
   "source": [
    "`# 문제`. 다음과 같은 리스트를 고려하자."
   ]
  },
  {
   "cell_type": "code",
   "execution_count": 194,
   "id": "b4193e3b-8d4f-4142-b543-22eaee0aeb34",
   "metadata": {
    "tags": []
   },
   "outputs": [
    {
     "data": {
      "text/plain": [
       "[80, 60, 80, 90, 55, 85, 95, 100, 35, 70, 75, 65, 95]"
      ]
     },
     "execution_count": 194,
     "metadata": {},
     "output_type": "execute_result"
    }
   ],
   "source": [
    "x = [80,60,80,90,55,85,95,100,35,70,75,65,95]\n",
    "x"
   ]
  },
  {
   "cell_type": "markdown",
   "id": "307d52fa-d9a1-4cc8-b53a-33bed0f99c5a",
   "metadata": {},
   "source": [
    "이를 수식으로 표현하면 아래와 같다.\n",
    "\n",
    "${\\bf x} = [x_1,\\dots,x_{13}]=[80,60,80,90,55,85,95,100,35,70,75,65,95]$\n",
    "\n",
    "리스트의 원소중 “$x_i>80$” 의 조건을 만족하는 원소는 모두 몇개인가?"
   ]
  },
  {
   "cell_type": "markdown",
   "id": "a2f555ad-caa2-470d-b868-96bf3f74ff57",
   "metadata": {},
   "source": [
    "(풀이)"
   ]
  },
  {
   "cell_type": "code",
   "execution_count": null,
   "id": "b6fd81db-8edc-4eb9-be05-e3fb7a8cfd06",
   "metadata": {},
   "outputs": [],
   "source": []
  },
  {
   "cell_type": "code",
   "execution_count": null,
   "id": "b30d63b5-20b2-419c-abf8-84f0e0332b97",
   "metadata": {},
   "outputs": [],
   "source": []
  },
  {
   "cell_type": "markdown",
   "id": "9b60c186-255e-4744-964a-54af22dae303",
   "metadata": {},
   "source": [
    "`# 문제`. 다음과 같은 리스트를 고려하자."
   ]
  },
  {
   "cell_type": "code",
   "execution_count": 174,
   "id": "da0231c7-757d-46c7-9564-94e81ca94704",
   "metadata": {},
   "outputs": [
    {
     "data": {
      "text/plain": [
       "['A', 'B', 'C', 'D', 'A', 'A', 'B', 'A', 'F', 'C', 'C', 'C', 'A']"
      ]
     },
     "execution_count": 174,
     "metadata": {},
     "output_type": "execute_result"
    }
   ],
   "source": [
    "['A','B','C','D','A','A','B','A','F','C','C','C','A']"
   ]
  },
  {
   "cell_type": "markdown",
   "id": "da8b4e60-556f-472f-b96a-64ce1c798f1a",
   "metadata": {},
   "source": [
    "이 리스트에서 ‘A’ 혹은 ’B’의 숫자는 모두 몇개인가?"
   ]
  },
  {
   "cell_type": "code",
   "execution_count": null,
   "id": "0e729e4b-99e6-42e8-93ec-c8076eef1393",
   "metadata": {},
   "outputs": [],
   "source": []
  },
  {
   "cell_type": "code",
   "execution_count": null,
   "id": "283e1a33-2658-4baf-9eb9-f806384bd4fa",
   "metadata": {},
   "outputs": [],
   "source": []
  },
  {
   "cell_type": "code",
   "execution_count": null,
   "id": "6d849daf-19c9-449d-a4f1-89d05899226b",
   "metadata": {},
   "outputs": [],
   "source": []
  },
  {
   "cell_type": "markdown",
   "id": "a9db0032-88ba-4702-a764-3768bdd53e37",
   "metadata": {},
   "source": [
    "`# 문제`. 아래와 같은 문자열이 있다고 하자."
   ]
  },
  {
   "cell_type": "code",
   "execution_count": 177,
   "id": "cd754b05-3d32-4ccc-872f-5ee54dcd1954",
   "metadata": {
    "tags": []
   },
   "outputs": [],
   "source": [
    "test_arr = 'ssh-rsa AAAAB3NzaC1yc2EAAAABIwAAAQEAklOUpkDHrfHY17SbrmTIpNLTGK9Tjom/BWDSUGPl+nafzlHDTYW7hdI4yZ5ew18JH4JW9jbhUFrviQzM7xlELEVf4h9lFX5QVkbPppSwg0cda3Pbv7kOdJ/MTyBlWXFCR+HAo3FXRitBqxiX1nKhXpHAZsMciLq8V6RjsNAQwdsdMFvSlVK/7XAt3FaoJoAsncM1Q9x5+3V0Ww68/eIFmb1zuUFljQJKprrX88XypNDvjYNby6vw/Pb0rwert/EnmZ+AW4OZPnTPI89ZPmVMLuayrD2cE86Z/il8b+gw3r3+1nKatmIkjn2so1d01QraTlMqVSsbxNrRFi9wrf+M7Q== schacon@mylaptop.local'"
   ]
  },
  {
   "cell_type": "markdown",
   "id": "700721ec-1148-4b6c-bc61-e0d827c92f82",
   "metadata": {},
   "source": [
    "이 문자열에서 대문자의 수를 count하라."
   ]
  },
  {
   "cell_type": "markdown",
   "id": "882fa013-ea40-42bd-99df-eebf75f10de1",
   "metadata": {},
   "source": [
    "**hint: `str` 자료형의 특수기능 `.isupper()` 를 이용할 것**"
   ]
  },
  {
   "cell_type": "markdown",
   "id": "588c459e-ccb8-4b00-890d-b280097b233f",
   "metadata": {},
   "source": [
    "(풀이)"
   ]
  },
  {
   "cell_type": "code",
   "execution_count": null,
   "id": "99f6e1e7-b54c-42a2-b0ae-98279495cc89",
   "metadata": {},
   "outputs": [],
   "source": []
  },
  {
   "cell_type": "code",
   "execution_count": null,
   "id": "319479d2-e3bd-4ff9-8d8f-81f566319b6b",
   "metadata": {},
   "outputs": [],
   "source": []
  },
  {
   "cell_type": "markdown",
   "id": "0aab2233-424c-4442-8649-3e9c749ce400",
   "metadata": {},
   "source": [
    "`# 문제`. 리스트컴프리헨션을 이용하여 아래와 같은 리스트를 생성하라.\n",
    "\n",
    "    ['a',\n",
    "     'aa',\n",
    "     'aaa',\n",
    "     'aaaa',\n",
    "     'aaaaa',\n",
    "     'aaaaaa',\n",
    "     'aaaaaaa',\n",
    "     'aaaaaaaa',\n",
    "     'aaaaaaaaa',\n",
    "     'aaaaaaaaaa'] <- a가 10개있음"
   ]
  },
  {
   "cell_type": "markdown",
   "id": "6bbe4309-ea5f-4b89-885a-c649ca010780",
   "metadata": {},
   "source": [
    "(풀이)"
   ]
  },
  {
   "cell_type": "code",
   "execution_count": null,
   "id": "2d01562c-8043-4c6e-ac9a-eaf845c6f391",
   "metadata": {},
   "outputs": [],
   "source": []
  },
  {
   "cell_type": "code",
   "execution_count": null,
   "id": "ec545120-30a5-4331-a1b9-cea59ee49465",
   "metadata": {},
   "outputs": [],
   "source": []
  },
  {
   "cell_type": "markdown",
   "id": "77ec1df5-ed92-45af-a04a-1aa38bc08efd",
   "metadata": {},
   "source": [
    "`# 문제`. 아래와 같은 리스트를 관찰하라."
   ]
  },
  {
   "cell_type": "code",
   "execution_count": 180,
   "id": "59ec34a5-7dd0-4604-a24e-832ecd7656db",
   "metadata": {
    "tags": []
   },
   "outputs": [],
   "source": [
    "lst = ['2022/09/21','2022/10/30','2022/12/25','2023/01/01','2023/01/31','2023/03/20']"
   ]
  },
  {
   "cell_type": "markdown",
   "id": "5e18aadb-4564-4907-8197-ee89c73db631",
   "metadata": {},
   "source": [
    "이러한 리스트를 아래와 같은 리스트로 변환하는 코드를 작성하라."
   ]
  },
  {
   "cell_type": "code",
   "execution_count": 181,
   "id": "8aba55ae-4357-4e33-a35d-ea3bf9683e62",
   "metadata": {
    "tags": []
   },
   "outputs": [
    {
     "data": {
      "text/plain": [
       "['2022-09-21',\n",
       " '2022-10-30',\n",
       " '2022-12-25',\n",
       " '2023-01-01',\n",
       " '2023-01-31',\n",
       " '2023-03-20']"
      ]
     },
     "execution_count": 181,
     "metadata": {},
     "output_type": "execute_result"
    }
   ],
   "source": [
    "['2022-09-21', '2022-10-30', '2022-12-25', '2023-01-01', '2023-01-31', '2023-03-20']"
   ]
  },
  {
   "cell_type": "markdown",
   "id": "291705d9-db9e-44f7-9d06-125cbd73cb64",
   "metadata": {},
   "source": [
    "**hint: string의 `.replace()`기능과 리스트 컴프리헨션의 응용**\n",
    "\n",
    "(풀이)"
   ]
  },
  {
   "cell_type": "code",
   "execution_count": null,
   "id": "c8c87e7d-c2e6-4ed4-886d-e227c7938137",
   "metadata": {},
   "outputs": [],
   "source": []
  },
  {
   "cell_type": "code",
   "execution_count": null,
   "id": "583d1ef8-c076-4b54-99dc-f419ed091909",
   "metadata": {},
   "outputs": [],
   "source": []
  },
  {
   "cell_type": "markdown",
   "id": "5a13908d-019f-45ca-a001-d3ed5c5ea31e",
   "metadata": {},
   "source": [
    "`# 문제`. 아래와 같이 하나의 특수문자로 이루어진 리스트를 고려하자."
   ]
  },
  {
   "cell_type": "code",
   "execution_count": 186,
   "id": "e8a66bd2-179f-4f92-96ea-bd3f6c2b3bc2",
   "metadata": {
    "tags": []
   },
   "outputs": [],
   "source": [
    "block = ['■'] "
   ]
  },
  {
   "cell_type": "markdown",
   "id": "00a2ef47-a7ee-4a47-946a-f12f2c98bfe9",
   "metadata": {},
   "source": [
    "이를 이용하여 아래와 같은 결과를 출력하라."
   ]
  },
  {
   "cell_type": "code",
   "execution_count": 187,
   "id": "e5b3f1e0-8c15-40e3-b29d-72b06344fc02",
   "metadata": {
    "tags": []
   },
   "outputs": [
    {
     "data": {
      "text/plain": [
       "'■-■-■-■-■-■-■-■-■-■'"
      ]
     },
     "execution_count": 187,
     "metadata": {},
     "output_type": "execute_result"
    }
   ],
   "source": [
    "'■-■-■-■-■-■-■-■-■-■' # 여기에서 '■'는 모두 10개 있음"
   ]
  },
  {
   "cell_type": "markdown",
   "id": "8e9f0786-5c37-437f-8b2f-a61e350f6e0d",
   "metadata": {},
   "source": [
    "(풀이)"
   ]
  },
  {
   "cell_type": "code",
   "execution_count": null,
   "id": "3815c86d-b2e3-4d59-9758-0958b3f73b67",
   "metadata": {},
   "outputs": [],
   "source": []
  },
  {
   "cell_type": "code",
   "execution_count": null,
   "id": "ae69386e-0abf-4d78-95b3-3b36c6ece166",
   "metadata": {},
   "outputs": [],
   "source": []
  }
 ],
 "metadata": {
  "kernelspec": {
   "display_name": "Python 3 (ipykernel)",
   "language": "python",
   "name": "python3"
  },
  "language_info": {
   "codemirror_mode": {
    "name": "ipython",
    "version": 3
   },
   "file_extension": ".py",
   "mimetype": "text/x-python",
   "name": "python",
   "nbconvert_exporter": "python",
   "pygments_lexer": "ipython3",
   "version": "3.13.2"
  }
 },
 "nbformat": 4,
 "nbformat_minor": 5
}
