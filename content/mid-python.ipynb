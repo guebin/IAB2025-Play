{
 "cells": [
  {
   "cell_type": "raw",
   "id": "c0736d60-50ad-4f7c-a396-c015a34155af",
   "metadata": {
    "vscode": {
     "languageId": "raw"
    }
   },
   "source": [
    "---\n",
    "title: \"중간고사 - Python\"\n",
    "author: \"최규빈\"\n",
    "date: \"05/08/2025\"\n",
    "draft: false\n",
    "---"
   ]
  },
  {
   "cell_type": "code",
   "execution_count": 4,
   "id": "809caeb9-1f94-46f8-9bc5-8761e95fe745",
   "metadata": {},
   "outputs": [],
   "source": [
    "import numpy as np\n",
    "import matplotlib.pyplot as plt"
   ]
  },
  {
   "cell_type": "markdown",
   "id": "4aaf7eb8-8cb7-40d3-abaf-7fcd0b5c293c",
   "metadata": {},
   "source": [
    "## 1. 기본문법 -- 10점 "
   ]
  },
  {
   "cell_type": "markdown",
   "id": "661a6ac3-091d-47c3-9fd2-431d56f5f698",
   "metadata": {},
   "source": [
    "`(1)` 아래와 같이 두 변수 a,b에 값이 저장되어있다. 두 값을 임시변수 없이 교환하라. "
   ]
  },
  {
   "cell_type": "code",
   "execution_count": 13,
   "id": "f3da1a63-774c-4093-9a64-d5c432ab03a4",
   "metadata": {},
   "outputs": [],
   "source": [
    "a = 10 \n",
    "b = 5"
   ]
  },
  {
   "cell_type": "markdown",
   "id": "aacad318-d56d-4caa-bd3f-60d7b5530620",
   "metadata": {},
   "source": [
    "`(2)` 컴프리헨션을 이용하여 아래와 같은 수열을 생성하라. "
   ]
  },
  {
   "cell_type": "markdown",
   "id": "f1ea23dd-b8bd-4f7b-a582-7a14c06f58b6",
   "metadata": {},
   "source": [
    "$$x_n = [2,4,6,\\dots,100]$$"
   ]
  },
  {
   "cell_type": "markdown",
   "id": "5e9cd033-734e-4e5b-a98b-254605313c0f",
   "metadata": {},
   "source": [
    "`(3)` 아래와 같은 수열을 고려하자. "
   ]
  },
  {
   "cell_type": "code",
   "execution_count": 24,
   "id": "5b190858-42fc-4a74-8c65-024184ab80df",
   "metadata": {},
   "outputs": [
    {
     "data": {
      "text/plain": [
       "array([-0.23821509,  0.57162727,  0.11575414,  0.17799491, -0.19623315,\n",
       "       -0.86258475, -1.60482998,  0.73842897,  0.4646222 , -0.13338644])"
      ]
     },
     "execution_count": 24,
     "metadata": {},
     "output_type": "execute_result"
    }
   ],
   "source": [
    "x = np.random.randn(10)\n",
    "x"
   ]
  },
  {
   "cell_type": "markdown",
   "id": "9475bc13-6840-45f9-b6e7-5ff97e841ece",
   "metadata": {},
   "source": [
    "`x`의 각 원소가 양수인지 음수인지 판단하여 아래와 같은 list `y` 만들어라. "
   ]
  },
  {
   "cell_type": "code",
   "execution_count": 27,
   "id": "45c37221-83ea-409d-8201-232cf6759cab",
   "metadata": {},
   "outputs": [
    {
     "data": {
      "text/plain": [
       "['음수', '양수', '양수', '양수', '음수', '음수', '음수', '양수', '양수', '음수']"
      ]
     },
     "execution_count": 27,
     "metadata": {},
     "output_type": "execute_result"
    }
   ],
   "source": [
    "['음수', '양수', '양수', '양수', '음수', '음수', '음수', '양수', '양수', '음수']"
   ]
  },
  {
   "cell_type": "markdown",
   "id": "1e44cd17-b8f3-42eb-806e-e06c0f23bb14",
   "metadata": {},
   "source": [
    "`(4)`"
   ]
  },
  {
   "cell_type": "markdown",
   "id": "1da35aa2-00ea-4821-aff9-71d5459012c2",
   "metadata": {},
   "source": [
    "`(5)`"
   ]
  },
  {
   "cell_type": "markdown",
   "id": "dc72cd44-be8f-484d-8b3c-5ad0b6af66d6",
   "metadata": {},
   "source": [
    "## 2. 겹쳐서 그리기 -- 10점"
   ]
  },
  {
   "cell_type": "markdown",
   "id": "a927744f-99a2-421c-b78d-d82900523a1e",
   "metadata": {},
   "source": [
    "`(1)` $-2<x<2$ 에서 $\\cos(2x)$ 의 그래프와 $\\frac{1}{3}x-1$의 그래프를 겹쳐 그려라. "
   ]
  },
  {
   "cell_type": "code",
   "execution_count": null,
   "id": "a9e04bad-06e7-4e63-a48a-538e45311098",
   "metadata": {},
   "outputs": [],
   "source": []
  },
  {
   "cell_type": "markdown",
   "id": "1180b350-edce-4ad6-9a7d-82d20f7ddac8",
   "metadata": {},
   "source": [
    "`(2)` "
   ]
  },
  {
   "cell_type": "code",
   "execution_count": null,
   "id": "91ff89ea-6e34-4694-a555-e5087c64bed9",
   "metadata": {},
   "outputs": [],
   "source": []
  },
  {
   "cell_type": "markdown",
   "id": "22457840-6586-454e-b6ce-ab26c81039a6",
   "metadata": {},
   "source": [
    "`#`"
   ]
  },
  {
   "cell_type": "markdown",
   "id": "a243fb38-d4fa-4c20-8888-17484e138721",
   "metadata": {},
   "source": [
    "## 3. Oxford-III -- 30점"
   ]
  },
  {
   "cell_type": "markdown",
   "id": "5f01ffe5-99c0-43a8-96bc-cb6893223632",
   "metadata": {},
   "source": [
    "`Oxford-III`: //\n",
    "[reference](https://www.robots.ox.ac.uk/~vgg/data/pets/)\n",
    "\n",
    "아래는 이미지 파일명을 불러오는 코드이다."
   ]
  },
  {
   "cell_type": "code",
   "execution_count": 1,
   "id": "8a67a526-4757-4d37-9928-b0167534b50b",
   "metadata": {
    "tags": []
   },
   "outputs": [],
   "source": [
    "import requests\n",
    "url = 'https://raw.githubusercontent.com/guebin/PP2023/main/posts/01_PythonBasic/Oxford-IIIT.txt'\n",
    "txt = requests.get(url).content.decode()\n",
    "flist = txt.split()"
   ]
  },
  {
   "attachments": {},
   "cell_type": "markdown",
   "id": "ec21c897-e323-40dc-934c-9d17ae219547",
   "metadata": {},
   "source": [
    "`(1)` 각 이미지파일명은 아래와 같은 규칙으로 저장되어 있다.\n",
    "\n",
    "- 파일명의 첫글자가 대문자이면 고양이를 의미하고 첫글자가 소문자이면 강아지를 의미한다.\n",
    "\n",
    "고양이와 강아지는 각각 몇개의 종이 있는가? "
   ]
  },
  {
   "cell_type": "markdown",
   "id": "19013d60-ce57-4620-b703-f6ce24131e21",
   "metadata": {},
   "source": [
    "`(2)`"
   ]
  },
  {
   "cell_type": "markdown",
   "id": "eb469f08-3fdf-4248-9f7a-d9cda0e09ac9",
   "metadata": {},
   "source": [
    "`(3)`"
   ]
  }
 ],
 "metadata": {
  "kernelspec": {
   "display_name": "Python 3 (ipykernel)",
   "language": "python",
   "name": "python3"
  },
  "language_info": {
   "codemirror_mode": {
    "name": "ipython",
    "version": 3
   },
   "file_extension": ".py",
   "mimetype": "text/x-python",
   "name": "python",
   "nbconvert_exporter": "python",
   "pygments_lexer": "ipython3",
   "version": "3.13.2"
  }
 },
 "nbformat": 4,
 "nbformat_minor": 5
}
