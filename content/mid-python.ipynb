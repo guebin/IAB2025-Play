{
 "cells": [
  {
   "cell_type": "raw",
   "id": "c0736d60-50ad-4f7c-a396-c015a34155af",
   "metadata": {
    "vscode": {
     "languageId": "raw"
    }
   },
   "source": [
    "---\n",
    "title: \"중간고사 - Python\"\n",
    "author: \"최규빈\"\n",
    "date: \"05/08/2025\"\n",
    "draft: false\n",
    "---"
   ]
  },
  {
   "cell_type": "code",
   "execution_count": 22,
   "id": "809caeb9-1f94-46f8-9bc5-8761e95fe745",
   "metadata": {},
   "outputs": [],
   "source": [
    "import numpy as np\n",
    "import matplotlib.pyplot as plt"
   ]
  },
  {
   "cell_type": "markdown",
   "id": "4aaf7eb8-8cb7-40d3-abaf-7fcd0b5c293c",
   "metadata": {},
   "source": [
    "## 1. 기본문법 -- 10점 "
   ]
  },
  {
   "cell_type": "markdown",
   "id": "661a6ac3-091d-47c3-9fd2-431d56f5f698",
   "metadata": {},
   "source": [
    "`(1)` 아래와 같이 두 변수 a,b에 값이 저장되어있다. 두 값을 임시변수 없이 교환하라. -- 2점"
   ]
  },
  {
   "cell_type": "code",
   "execution_count": 2,
   "id": "e3ae561f-9032-4b44-ae76-15f9322dc389",
   "metadata": {},
   "outputs": [],
   "source": [
    "a = 1 \n",
    "b = 2"
   ]
  },
  {
   "cell_type": "markdown",
   "id": "aacad318-d56d-4caa-bd3f-60d7b5530620",
   "metadata": {},
   "source": [
    "`(2)` 컴프리헨션을 이용하여 아래와 같은 수열을 생성하라.  -- 2점"
   ]
  },
  {
   "cell_type": "markdown",
   "id": "f1ea23dd-b8bd-4f7b-a582-7a14c06f58b6",
   "metadata": {},
   "source": [
    "$$x_n = [3,6,9,\\dots,30]$$"
   ]
  },
  {
   "cell_type": "markdown",
   "id": "07c4bc86-c8c8-4e44-beb3-42c6715b8f3a",
   "metadata": {},
   "source": [
    "`(3)` 짝수가 입력으로오면 \"짝수\" 를 리턴하고 홀수가 입력으로 오면 \"홀수\"를 리턴하는 함수를 구현하라. 아래는 구현된 함수를 사용한 예시이다. -- 2점"
   ]
  },
  {
   "cell_type": "code",
   "execution_count": 14,
   "id": "f4361ef4-8854-45ad-85aa-d1f08dca963a",
   "metadata": {},
   "outputs": [
    {
     "data": {
      "text/plain": [
       "'짝수'"
      ]
     },
     "execution_count": 14,
     "metadata": {},
     "output_type": "execute_result"
    }
   ],
   "source": [
    "func(2)"
   ]
  },
  {
   "cell_type": "code",
   "execution_count": 15,
   "id": "297b9b5b-30b8-4581-b408-e0df020188f6",
   "metadata": {},
   "outputs": [
    {
     "data": {
      "text/plain": [
       "'홀수'"
      ]
     },
     "execution_count": 15,
     "metadata": {},
     "output_type": "execute_result"
    }
   ],
   "source": [
    "func(3)"
   ]
  },
  {
   "cell_type": "markdown",
   "id": "7055c1c3-d21b-440c-8d10-b87c9bd46741",
   "metadata": {},
   "source": [
    "`(4)` (2)에서 만든 $x_n$에 (3)의 함수를 적용하여 각 원소가 짝수인지 홀수인지 판단한뒤 그 결과를 아래와 같은 리스트로 만들어라. -- 2점"
   ]
  },
  {
   "cell_type": "code",
   "execution_count": 20,
   "id": "1ca27051-9148-435b-b11b-2324de517474",
   "metadata": {},
   "outputs": [
    {
     "data": {
      "text/plain": [
       "['홀수', '짝수', '홀수', '짝수', '홀수', '짝수', '홀수', '짝수', '홀수', '짝수']"
      ]
     },
     "execution_count": 20,
     "metadata": {},
     "output_type": "execute_result"
    }
   ],
   "source": [
    "['홀수', '짝수', '홀수', '짝수', '홀수', '짝수', '홀수', '짝수', '홀수', '짝수']"
   ]
  },
  {
   "cell_type": "markdown",
   "id": "5e9cd033-734e-4e5b-a98b-254605313c0f",
   "metadata": {},
   "source": [
    "`(5)` 아래와 같은 array가 있다고 하자.  -- 2점"
   ]
  },
  {
   "cell_type": "code",
   "execution_count": 23,
   "id": "5b190858-42fc-4a74-8c65-024184ab80df",
   "metadata": {},
   "outputs": [],
   "source": [
    "x = np.random.randn(100)\n",
    "y = np.random.randn(100)"
   ]
  },
  {
   "cell_type": "markdown",
   "id": "9475bc13-6840-45f9-b6e7-5ff97e841ece",
   "metadata": {},
   "source": [
    "$x_i > y_i$ 를 만족하는 원소는 몇개있는가? "
   ]
  },
  {
   "cell_type": "markdown",
   "id": "dc72cd44-be8f-484d-8b3c-5ad0b6af66d6",
   "metadata": {},
   "source": [
    "## 2. 겹쳐서 그리기 -- 10점"
   ]
  },
  {
   "cell_type": "markdown",
   "id": "a927744f-99a2-421c-b78d-d82900523a1e",
   "metadata": {},
   "source": [
    "`(1)` $-2<x<2$ 에서 $\\cos(2x)$ 의 그래프와 $\\frac{1}{20}x+0.5$의 그래프를 겹쳐 그려라. 교점의 수가 몇개인가? -- 2점"
   ]
  },
  {
   "cell_type": "markdown",
   "id": "1180b350-edce-4ad6-9a7d-82d20f7ddac8",
   "metadata": {},
   "source": [
    "`(2)` $-2<x<2$ 에서 $\\cos(2x)$ 의 그래프와 $\\frac{1}{20}x+k$의 그래프를 겹쳐 그렸을때 두 그래프가 많은 교점을 갖도록 상수 $k$의 값을 적절히 선택하라. (\"교점의 수$\\times$2\" 를 점수로 인정, 최대 8점까지 획득가능) -- 8점"
   ]
  },
  {
   "cell_type": "markdown",
   "id": "22457840-6586-454e-b6ce-ab26c81039a6",
   "metadata": {},
   "source": [
    "`#`"
   ]
  },
  {
   "cell_type": "markdown",
   "id": "a243fb38-d4fa-4c20-8888-17484e138721",
   "metadata": {},
   "source": [
    "## 3. Oxford-III -- 30점"
   ]
  },
  {
   "cell_type": "markdown",
   "id": "63949c61-9d29-47e3-8f25-ad5ede7a4aa4",
   "metadata": {},
   "source": [
    "> (1), (2) 를 풀지않고 바로 (3)만 풀어도 정답으로 인정함 "
   ]
  },
  {
   "cell_type": "markdown",
   "id": "5f01ffe5-99c0-43a8-96bc-cb6893223632",
   "metadata": {},
   "source": [
    "`Oxford-III`: //\n",
    "[reference](https://www.robots.ox.ac.uk/~vgg/data/pets/)\n",
    "\n",
    "아래는 이미지 파일명을 불러오는 코드이다."
   ]
  },
  {
   "cell_type": "code",
   "execution_count": 217,
   "id": "8a67a526-4757-4d37-9928-b0167534b50b",
   "metadata": {
    "tags": []
   },
   "outputs": [],
   "source": [
    "import requests\n",
    "url = 'https://raw.githubusercontent.com/guebin/PP2023/main/posts/01_PythonBasic/Oxford-IIIT.txt'\n",
    "txt = requests.get(url).content.decode()\n",
    "flist = txt.split()"
   ]
  },
  {
   "cell_type": "code",
   "execution_count": 218,
   "id": "669ca66c-5138-4052-ab7b-4266457a82f6",
   "metadata": {},
   "outputs": [
    {
     "data": {
      "text/plain": [
       "['Abyssinian_1.jpg',\n",
       " 'Abyssinian_10.jpg',\n",
       " 'Abyssinian_100.jpg',\n",
       " 'Abyssinian_100.mat',\n",
       " 'Abyssinian_101.jpg',\n",
       " 'Abyssinian_101.mat',\n",
       " 'Abyssinian_102.jpg',\n",
       " 'Abyssinian_102.mat',\n",
       " 'Abyssinian_103.jpg',\n",
       " 'Abyssinian_104.jpg']"
      ]
     },
     "execution_count": 218,
     "metadata": {},
     "output_type": "execute_result"
    }
   ],
   "source": [
    "flist[:10]"
   ]
  },
  {
   "attachments": {},
   "cell_type": "markdown",
   "id": "ec21c897-e323-40dc-934c-9d17ae219547",
   "metadata": {},
   "source": [
    "`(1)` 각 이미지파일명은 아래와 같은 규칙으로 저장되어 있다. -- 10점\n",
    "\n",
    "- 파일명의 첫글자가 대문자이면 고양이를 의미하고 첫글자가 소문자이면 강아지를 의미한다.\n",
    "\n",
    "이와 같은 규칙을 명확하게 하기 위하여 고양이일 경우 앞에 파일명의 앞에 \"고양이_\" 를 붙이고 강아지일 경우 \"강아지_\"를 붙이고 싶다. 이를 구현하는 코드를 작성하라. "
   ]
  },
  {
   "cell_type": "code",
   "execution_count": 219,
   "id": "9dcd745a-064b-40e1-a469-0b2fc821450a",
   "metadata": {},
   "outputs": [
    {
     "data": {
      "text/plain": [
       "['고양이_Abyssinian_1.jpg',\n",
       " '고양이_Abyssinian_10.jpg',\n",
       " '고양이_Abyssinian_100.jpg',\n",
       " '고양이_Abyssinian_100.mat',\n",
       " '고양이_Abyssinian_101.jpg',\n",
       " '고양이_Abyssinian_101.mat',\n",
       " '고양이_Abyssinian_102.jpg',\n",
       " '고양이_Abyssinian_102.mat',\n",
       " '고양이_Abyssinian_103.jpg',\n",
       " '고양이_Abyssinian_104.jpg']"
      ]
     },
     "execution_count": 219,
     "metadata": {},
     "output_type": "execute_result"
    }
   ],
   "source": [
    "# 출력예시\n",
    "flist[:10]"
   ]
  },
  {
   "cell_type": "markdown",
   "id": "a859e8b4-3dfb-41cb-a53d-ecdadf19e185",
   "metadata": {},
   "source": [
    "`(2)` 아래의 딕셔너리를 이용하여 (1)에서 얻은 리스트의 각 원소에 해당하는 종의 이름을 한글로 바꾸는 함수를 구현하라.  -- 10점"
   ]
  },
  {
   "cell_type": "code",
   "execution_count": 220,
   "id": "dba7cde3-ca7c-4d86-8bb5-86cb266a27ed",
   "metadata": {},
   "outputs": [],
   "source": [
    "breed_ko_dict = {\n",
    "    'Abyssinian': '아비시니안',\n",
    "    'Bengal': '벵갈',\n",
    "    'Birman': '버만',\n",
    "    'Bombay': '봄베이',\n",
    "    'British_Shorthair': '브리티시쇼트헤어',\n",
    "    'Egyptian_Mau': '이집션마우',\n",
    "    'Maine_Coon': '메인쿤',\n",
    "    'Persian': '페르시안',\n",
    "    'Ragdoll': '랙돌',\n",
    "    'Russian_Blue': '러시안블루',\n",
    "    'Siamese': '샴',\n",
    "    'Sphynx': '스핑크스',\n",
    "    'american_bulldog': '아메리칸불도그',\n",
    "    'american_pit_bull_terrier': '아메리칸핏불테리어',\n",
    "    'basset_hound': '바셋하운드',\n",
    "    'beagle': '비글',\n",
    "    'boxer': '복서',\n",
    "    'chihuahua': '치와와',\n",
    "    'english_cocker_spaniel': '잉글리시코커스패니얼',\n",
    "    'english_setter': '잉글리시세터',\n",
    "    'german_shorthaired': '저먼쇼트헤어드포인터',\n",
    "    'great_pyrenees': '그레이트피레니즈',\n",
    "    'havanese': '하바니즈',\n",
    "    'japanese_chin': '재패니즈친',\n",
    "    'keeshond': '키스혼드',\n",
    "    'leonberger': '레온버거',\n",
    "    'miniature_pinscher': '미니어처핀셔',\n",
    "    'newfoundland': '뉴펀들랜드',\n",
    "    'pomeranian': '포메라니안',\n",
    "    'pug': '퍼그',\n",
    "    'saint_bernard': '세인트버나드',\n",
    "    'samoyed': '사모예드',\n",
    "    'scottish_terrier': '스코티시테리어',\n",
    "    'shiba_inu': '시바이누',\n",
    "    'staffordshire_bull_terrier': '스태퍼드셔불테리어',\n",
    "    'wheaten_terrier': '휘튼테리어',\n",
    "    'yorkshire_terrier': '요크셔테리어'\n",
    "}"
   ]
  },
  {
   "cell_type": "markdown",
   "id": "16c4d985-f51d-4db8-9a44-1ab270ef03e5",
   "metadata": {},
   "source": [
    "구현예시는 아래와 같다. "
   ]
  },
  {
   "cell_type": "code",
   "execution_count": 221,
   "id": "9dbbd2dc-ce2a-4ead-b9dc-43a1d965263d",
   "metadata": {},
   "outputs": [
    {
     "data": {
      "text/plain": [
       "'강아지_스코티시테리어_98.jpg'"
      ]
     },
     "execution_count": 221,
     "metadata": {},
     "output_type": "execute_result"
    }
   ],
   "source": [
    "# 출력예시1\n",
    "func( '강아지_scottish_terrier_98.jpg')"
   ]
  },
  {
   "cell_type": "code",
   "execution_count": 222,
   "id": "b53b027f-0b85-4f34-9e4b-5fd6833739e1",
   "metadata": {},
   "outputs": [
    {
     "data": {
      "text/plain": [
       "'고양이_브리티시쇼트헤어_97.jpg'"
      ]
     },
     "execution_count": 222,
     "metadata": {},
     "output_type": "execute_result"
    }
   ],
   "source": [
    "# 출력예시2\n",
    "func('고양이_British_Shorthair_97.jpg')"
   ]
  },
  {
   "cell_type": "markdown",
   "id": "2b5dc0b5-ba79-453f-a6e0-2dbe21140d35",
   "metadata": {},
   "source": [
    "**hint** 아래의 코드를 관찰하라."
   ]
  },
  {
   "cell_type": "code",
   "execution_count": 223,
   "id": "f8e9e8c5-cd72-4579-9e69-3325fe990696",
   "metadata": {},
   "outputs": [],
   "source": [
    "fname_list = ['강아지', 'english', 'cocker', 'spaniel', '97.jpg']"
   ]
  },
  {
   "cell_type": "code",
   "execution_count": 224,
   "id": "2ab5ca15-3815-4f09-a840-44b24f0f46b2",
   "metadata": {},
   "outputs": [
    {
     "data": {
      "text/plain": [
       "['english', 'cocker', 'spaniel', '97.jpg']"
      ]
     },
     "execution_count": 224,
     "metadata": {},
     "output_type": "execute_result"
    }
   ],
   "source": [
    "fname_list[1:]"
   ]
  },
  {
   "cell_type": "code",
   "execution_count": 225,
   "id": "6a7950e1-3f7d-4227-b9fd-6d606cc9ea45",
   "metadata": {},
   "outputs": [
    {
     "data": {
      "text/plain": [
       "['english', 'cocker', 'spaniel']"
      ]
     },
     "execution_count": 225,
     "metadata": {},
     "output_type": "execute_result"
    }
   ],
   "source": [
    "fname_list[1:][:-1]"
   ]
  },
  {
   "cell_type": "code",
   "execution_count": 226,
   "id": "a2d59ebd-f28b-4a90-bec7-e298d37f365b",
   "metadata": {},
   "outputs": [
    {
     "data": {
      "text/plain": [
       "'english_cocker_spaniel'"
      ]
     },
     "execution_count": 226,
     "metadata": {},
     "output_type": "execute_result"
    }
   ],
   "source": [
    "\"_\".join(fname_list[1:][:-1])"
   ]
  },
  {
   "cell_type": "markdown",
   "id": "354a528b-3c03-4676-9fa3-785fe2743bb2",
   "metadata": {},
   "source": [
    "`(3)` (2)에서 구현한 함수를 이용하여 flist의 모든 원소를 바꾸어라. "
   ]
  },
  {
   "cell_type": "code",
   "execution_count": 229,
   "id": "dfdfe7d5-a600-43ba-a903-5462884311e9",
   "metadata": {},
   "outputs": [
    {
     "data": {
      "text/plain": [
       "['고양이_아비시니안_1.jpg',\n",
       " '고양이_아비시니안_97.jpg',\n",
       " '고양이_벵갈_97.jpg',\n",
       " '고양이_버만_97.jpg',\n",
       " '고양이_봄베이_97.jpg',\n",
       " '고양이_브리티시쇼트헤어_97.jpg',\n",
       " '고양이_이집션마우_97.jpg',\n",
       " '고양이_메인쿤_97.jpg',\n",
       " '고양이_페르시안_97.jpg',\n",
       " '고양이_랙돌_97.jpg',\n",
       " '고양이_러시안블루_97.jpg',\n",
       " '고양이_샴_97.jpg',\n",
       " '고양이_스핑크스_96.jpg',\n",
       " '강아지_아메리칸불도그_97.jpg',\n",
       " '강아지_아메리칸핏불테리어_97.jpg',\n",
       " '강아지_바셋하운드_97.jpg',\n",
       " '강아지_비글_97.jpg',\n",
       " '강아지_복서_97.jpg',\n",
       " '강아지_치와와_97.jpg',\n",
       " '강아지_잉글리시코커스패니얼_97.jpg',\n",
       " '강아지_잉글리시세터_97.jpg',\n",
       " '강아지_저먼쇼트헤어드포인터_97.jpg',\n",
       " '강아지_그레이트피레니즈_97.jpg',\n",
       " '강아지_하바니즈_97.jpg',\n",
       " '강아지_재패니즈친_97.jpg',\n",
       " '강아지_키스혼드_97.jpg',\n",
       " '강아지_레온버거_97.jpg',\n",
       " '강아지_미니어처핀셔_97.jpg',\n",
       " '강아지_뉴펀들랜드_97.jpg',\n",
       " '강아지_포메라니안_97.jpg',\n",
       " '강아지_퍼그_97.jpg',\n",
       " '강아지_세인트버나드_97.jpg',\n",
       " '강아지_사모예드_97.jpg',\n",
       " '강아지_스코티시테리어_98.jpg',\n",
       " '강아지_시바이누_98.jpg',\n",
       " '강아지_휘튼테리어_105.jpg',\n",
       " '강아지_요크셔테리어_105.jpg']"
      ]
     },
     "execution_count": 229,
     "metadata": {},
     "output_type": "execute_result"
    }
   ],
   "source": [
    "# 출력예시\n",
    "flist[::200]"
   ]
  }
 ],
 "metadata": {
  "kernelspec": {
   "display_name": "Python 3 (ipykernel)",
   "language": "python",
   "name": "python3"
  },
  "language_info": {
   "codemirror_mode": {
    "name": "ipython",
    "version": 3
   },
   "file_extension": ".py",
   "mimetype": "text/x-python",
   "name": "python",
   "nbconvert_exporter": "python",
   "pygments_lexer": "ipython3",
   "version": "3.13.2"
  }
 },
 "nbformat": 4,
 "nbformat_minor": 5
}
