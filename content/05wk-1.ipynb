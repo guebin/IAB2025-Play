{
 "cells": [
  {
   "cell_type": "raw",
   "id": "565382b8-9c87-4b61-a849-b234a6d7b892",
   "metadata": {
    "vscode": {
     "languageId": "raw"
    }
   },
   "source": [
    "---\n",
    "title: \"05wk-1: [Python] -- int, float, bool, str\"\n",
    "author: \"최규빈\"\n",
    "date: \"04/01/2025\"\n",
    "draft: false\n",
    "---"
   ]
  },
  {
   "cell_type": "markdown",
   "id": "33efd068-47d0-42a6-81df-f730da1bc95a",
   "metadata": {},
   "source": [
    "## 1. Intro "
   ]
  },
  {
   "cell_type": "markdown",
   "id": "38815d7f-46ae-46d8-aea0-6f84075f382f",
   "metadata": {},
   "source": [
    "`-` 파이썬의 기본자료형은 int, float, bool, str, list, tuple, dict, set 등이 있다.\n",
    "\n",
    "- 0차원 자료형: int, float, bool \n",
    "- 1차원 자료형: str, list, tuple, dict, set"
   ]
  },
  {
   "cell_type": "markdown",
   "id": "1f1a10d2-1b82-4b73-a4a1-da4b6c96915b",
   "metadata": {},
   "source": [
    "## 2. int, float, bool "
   ]
  },
  {
   "cell_type": "markdown",
   "id": "d197e189-2404-4218-9d5a-1a4263933b21",
   "metadata": {},
   "source": [
    "`-` int형 "
   ]
  },
  {
   "cell_type": "code",
   "execution_count": 14,
   "id": "ac24cdeb-7a0d-46ee-a63f-ee4a08231e43",
   "metadata": {
    "vscode": {
     "languageId": "python"
    }
   },
   "outputs": [],
   "source": [
    "a=100"
   ]
  },
  {
   "cell_type": "code",
   "execution_count": 15,
   "id": "8186242d-92e5-440a-869a-afde4bb9813e",
   "metadata": {
    "vscode": {
     "languageId": "python"
    }
   },
   "outputs": [
    {
     "data": {
      "text/plain": [
       "int"
      ]
     },
     "execution_count": 15,
     "metadata": {},
     "output_type": "execute_result"
    }
   ],
   "source": [
    "type(a)"
   ]
  },
  {
   "cell_type": "markdown",
   "id": "5795b562-2c17-4bab-b983-d41d9926f28f",
   "metadata": {},
   "source": [
    "`-` float형 "
   ]
  },
  {
   "cell_type": "code",
   "execution_count": 7,
   "id": "f62edfbb-7012-4f37-9fcd-c57a22030a9c",
   "metadata": {
    "vscode": {
     "languageId": "python"
    }
   },
   "outputs": [
    {
     "data": {
      "text/plain": [
       "3.5999999999999996"
      ]
     },
     "execution_count": 7,
     "metadata": {},
     "output_type": "execute_result"
    }
   ],
   "source": [
    "a=1.2*3\n",
    "a"
   ]
  },
  {
   "cell_type": "code",
   "execution_count": 19,
   "id": "8c5293b9-7436-44f4-a3cf-e9ff71c85229",
   "metadata": {
    "vscode": {
     "languageId": "python"
    }
   },
   "outputs": [
    {
     "data": {
      "text/plain": [
       "float"
      ]
     },
     "execution_count": 19,
     "metadata": {},
     "output_type": "execute_result"
    }
   ],
   "source": [
    "type(a)"
   ]
  },
  {
   "cell_type": "code",
   "execution_count": 20,
   "id": "b8685703-0552-438b-8014-91c77d8da0ed",
   "metadata": {
    "vscode": {
     "languageId": "python"
    }
   },
   "outputs": [
    {
     "data": {
      "text/plain": [
       "\u001b[0;31mType:\u001b[0m        float\n",
       "\u001b[0;31mString form:\u001b[0m 3.5999999999999996\n",
       "\u001b[0;31mDocstring:\u001b[0m   Convert a string or number to a floating point number, if possible.\n"
      ]
     },
     "metadata": {},
     "output_type": "display_data"
    }
   ],
   "source": [
    "a?"
   ]
  },
  {
   "cell_type": "markdown",
   "id": "afcfb2c4-355e-4792-b765-a18200679d73",
   "metadata": {},
   "source": [
    "`-` bool형 "
   ]
  },
  {
   "cell_type": "code",
   "execution_count": 52,
   "id": "40c6e97e-fb6a-487f-b5f5-b312d995052b",
   "metadata": {
    "vscode": {
     "languageId": "python"
    }
   },
   "outputs": [],
   "source": [
    "a=True ## 숫자1으로 생각할 수 있음 \n",
    "b=False ## 숫자0으로 생각할 수 있음"
   ]
  },
  {
   "cell_type": "code",
   "execution_count": 24,
   "id": "541854b7-2c3d-4e1e-ae92-4f8f9758eb8f",
   "metadata": {
    "vscode": {
     "languageId": "python"
    }
   },
   "outputs": [
    {
     "data": {
      "text/plain": [
       "bool"
      ]
     },
     "execution_count": 24,
     "metadata": {},
     "output_type": "execute_result"
    }
   ],
   "source": [
    "type(a)"
   ]
  },
  {
   "cell_type": "code",
   "execution_count": 25,
   "id": "cb9abc54-2af9-46ed-a6a7-d429eaf6f417",
   "metadata": {
    "vscode": {
     "languageId": "python"
    }
   },
   "outputs": [
    {
     "data": {
      "text/plain": [
       "bool"
      ]
     },
     "execution_count": 25,
     "metadata": {},
     "output_type": "execute_result"
    }
   ],
   "source": [
    "type(b)"
   ]
  },
  {
   "cell_type": "code",
   "execution_count": 27,
   "id": "db5fc78e-e955-4410-9ba3-569b491079d7",
   "metadata": {
    "vscode": {
     "languageId": "python"
    }
   },
   "outputs": [
    {
     "data": {
      "text/plain": [
       "\u001b[0;31mType:\u001b[0m        bool\n",
       "\u001b[0;31mString form:\u001b[0m True\n",
       "\u001b[0;31mDocstring:\u001b[0m  \n",
       "bool(x) -> bool\n",
       "\n",
       "Returns True when the argument x is true, False otherwise.\n",
       "The builtins True and False are the only two instances of the class bool.\n",
       "The class bool is a subclass of the class int, and cannot be subclassed.\n"
      ]
     },
     "metadata": {},
     "output_type": "display_data"
    }
   ],
   "source": [
    "a?"
   ]
  },
  {
   "cell_type": "code",
   "execution_count": 28,
   "id": "ba42e8a4-1487-4371-980b-8c6b27b18d70",
   "metadata": {
    "vscode": {
     "languageId": "python"
    }
   },
   "outputs": [
    {
     "data": {
      "text/plain": [
       "\u001b[0;31mType:\u001b[0m        bool\n",
       "\u001b[0;31mString form:\u001b[0m False\n",
       "\u001b[0;31mDocstring:\u001b[0m  \n",
       "bool(x) -> bool\n",
       "\n",
       "Returns True when the argument x is true, False otherwise.\n",
       "The builtins True and False are the only two instances of the class bool.\n",
       "The class bool is a subclass of the class int, and cannot be subclassed.\n"
      ]
     },
     "metadata": {},
     "output_type": "display_data"
    }
   ],
   "source": [
    "b?"
   ]
  },
  {
   "cell_type": "markdown",
   "id": "d4e9495f-5cfd-40f6-86db-02f946231e5f",
   "metadata": {},
   "source": [
    "`-` bool형의 연산 "
   ]
  },
  {
   "cell_type": "code",
   "execution_count": 15,
   "id": "1a5b7c3e-9c49-4151-aae8-93bf369977c2",
   "metadata": {
    "vscode": {
     "languageId": "python"
    }
   },
   "outputs": [],
   "source": [
    "a=True ## 1\n",
    "b=False ## 0 "
   ]
  },
  {
   "cell_type": "code",
   "execution_count": 66,
   "id": "61867443-142d-4c57-ad0d-2975dd693f35",
   "metadata": {
    "vscode": {
     "languageId": "python"
    }
   },
   "outputs": [
    {
     "data": {
      "text/plain": [
       "1"
      ]
     },
     "execution_count": 66,
     "metadata": {},
     "output_type": "execute_result"
    }
   ],
   "source": [
    "a+b"
   ]
  },
  {
   "cell_type": "code",
   "execution_count": 67,
   "id": "9d274a6f-dfed-4931-bb16-e20b74952a9e",
   "metadata": {
    "vscode": {
     "languageId": "python"
    }
   },
   "outputs": [
    {
     "data": {
      "text/plain": [
       "0"
      ]
     },
     "execution_count": 67,
     "metadata": {},
     "output_type": "execute_result"
    }
   ],
   "source": [
    "a*b "
   ]
  },
  {
   "cell_type": "markdown",
   "id": "0cb7dd17-fa13-4d02-89e7-27ec8396c306",
   "metadata": {},
   "source": [
    "`-` complex형 "
   ]
  },
  {
   "cell_type": "code",
   "execution_count": 20,
   "id": "2da82c75-a2e6-453c-9293-28b73853d5d6",
   "metadata": {
    "vscode": {
     "languageId": "python"
    }
   },
   "outputs": [],
   "source": [
    "a=1+2j\n",
    "b=2-2j"
   ]
  },
  {
   "cell_type": "code",
   "execution_count": 21,
   "id": "54d2c757-7bec-4b80-9b5a-12097714cbd0",
   "metadata": {
    "vscode": {
     "languageId": "python"
    }
   },
   "outputs": [
    {
     "data": {
      "text/plain": [
       "complex"
      ]
     },
     "execution_count": 21,
     "metadata": {},
     "output_type": "execute_result"
    }
   ],
   "source": [
    "type(a)"
   ]
  },
  {
   "cell_type": "code",
   "execution_count": 22,
   "id": "8e4ddb18-8937-451e-861f-1b23f2ceb029",
   "metadata": {
    "vscode": {
     "languageId": "python"
    }
   },
   "outputs": [
    {
     "data": {
      "text/plain": [
       "complex"
      ]
     },
     "execution_count": 22,
     "metadata": {},
     "output_type": "execute_result"
    }
   ],
   "source": [
    "type(b)"
   ]
  },
  {
   "cell_type": "code",
   "execution_count": 23,
   "id": "55957e08-5f5c-45f0-91cb-5cacb92fc276",
   "metadata": {
    "vscode": {
     "languageId": "python"
    }
   },
   "outputs": [
    {
     "data": {
      "text/plain": [
       "\u001b[0;31mType:\u001b[0m        complex\n",
       "\u001b[0;31mString form:\u001b[0m (1+2j)\n",
       "\u001b[0;31mDocstring:\u001b[0m  \n",
       "Create a complex number from a real part and an optional imaginary part.\n",
       "\n",
       "This is equivalent to (real + imag*1j) where imag defaults to 0.\n"
      ]
     },
     "metadata": {},
     "output_type": "display_data"
    }
   ],
   "source": [
    "a?"
   ]
  },
  {
   "cell_type": "code",
   "execution_count": 24,
   "id": "2de2f5fb-6dca-4fd5-88d3-3cdcaa6349e6",
   "metadata": {
    "vscode": {
     "languageId": "python"
    }
   },
   "outputs": [
    {
     "data": {
      "text/plain": [
       "\u001b[0;31mType:\u001b[0m        complex\n",
       "\u001b[0;31mString form:\u001b[0m (2-2j)\n",
       "\u001b[0;31mDocstring:\u001b[0m  \n",
       "Create a complex number from a real part and an optional imaginary part.\n",
       "\n",
       "This is equivalent to (real + imag*1j) where imag defaults to 0.\n"
      ]
     },
     "metadata": {},
     "output_type": "display_data"
    }
   ],
   "source": [
    "b?"
   ]
  },
  {
   "cell_type": "code",
   "execution_count": 25,
   "id": "7138bac2-edf4-42af-9d69-fc2369e1e076",
   "metadata": {
    "vscode": {
     "languageId": "python"
    }
   },
   "outputs": [],
   "source": [
    "c=a+b"
   ]
  },
  {
   "cell_type": "code",
   "execution_count": 26,
   "id": "2d0eeba9-48ca-4cd5-bc6a-7864025c9146",
   "metadata": {
    "vscode": {
     "languageId": "python"
    }
   },
   "outputs": [
    {
     "data": {
      "text/plain": [
       "(3+0j)"
      ]
     },
     "execution_count": 26,
     "metadata": {},
     "output_type": "execute_result"
    }
   ],
   "source": [
    "c"
   ]
  },
  {
   "cell_type": "markdown",
   "id": "8276c8a2-6822-459b-aa74-93471af41911",
   "metadata": {},
   "source": [
    "`-` 형태변환: float $\\to$ int "
   ]
  },
  {
   "cell_type": "markdown",
   "id": "c14b58c2-907d-47ea-a5e7-3fc5567a34d8",
   "metadata": {},
   "source": [
    "(예시1)"
   ]
  },
  {
   "cell_type": "code",
   "execution_count": 27,
   "id": "34b67157-9a92-43c7-8a19-22b63be7aa37",
   "metadata": {
    "vscode": {
     "languageId": "python"
    }
   },
   "outputs": [
    {
     "data": {
      "text/plain": [
       "float"
      ]
     },
     "execution_count": 27,
     "metadata": {},
     "output_type": "execute_result"
    }
   ],
   "source": [
    "a=3.0\n",
    "type(a)"
   ]
  },
  {
   "cell_type": "code",
   "execution_count": 28,
   "id": "87761340-0ef3-4f14-8732-cf8310a7a58a",
   "metadata": {
    "vscode": {
     "languageId": "python"
    }
   },
   "outputs": [],
   "source": [
    "a=int(a)"
   ]
  },
  {
   "cell_type": "code",
   "execution_count": 29,
   "id": "e7bd7492-7196-491c-8189-b0a203daa823",
   "metadata": {
    "vscode": {
     "languageId": "python"
    }
   },
   "outputs": [
    {
     "data": {
      "text/plain": [
       "int"
      ]
     },
     "execution_count": 29,
     "metadata": {},
     "output_type": "execute_result"
    }
   ],
   "source": [
    "type(a)"
   ]
  },
  {
   "cell_type": "markdown",
   "id": "eb457546-f7ce-4816-a192-8388c032f0cb",
   "metadata": {},
   "source": [
    "(예시2) 이경우는 정보의 손실이 발생 "
   ]
  },
  {
   "cell_type": "code",
   "execution_count": 30,
   "id": "eba8e267-4671-4185-a2ca-c305dbe4340b",
   "metadata": {
    "vscode": {
     "languageId": "python"
    }
   },
   "outputs": [
    {
     "data": {
      "text/plain": [
       "3"
      ]
     },
     "execution_count": 30,
     "metadata": {},
     "output_type": "execute_result"
    }
   ],
   "source": [
    "a=3.14 \n",
    "int(a)"
   ]
  },
  {
   "cell_type": "markdown",
   "id": "7d5f39d9-6b19-45f7-86f8-6f5ac4c5fb31",
   "metadata": {},
   "source": [
    "`-` 형태변환: int $\\to$ float"
   ]
  },
  {
   "cell_type": "code",
   "execution_count": 39,
   "id": "be53878d-dffb-4add-bd5e-c070b384ef96",
   "metadata": {
    "vscode": {
     "languageId": "python"
    }
   },
   "outputs": [
    {
     "data": {
      "text/plain": [
       "int"
      ]
     },
     "execution_count": 39,
     "metadata": {},
     "output_type": "execute_result"
    }
   ],
   "source": [
    "a=3\n",
    "type(a)"
   ]
  },
  {
   "cell_type": "code",
   "execution_count": 40,
   "id": "269bd553-4468-488d-82fd-61cf315f8c4c",
   "metadata": {
    "vscode": {
     "languageId": "python"
    }
   },
   "outputs": [
    {
     "data": {
      "text/plain": [
       "float"
      ]
     },
     "execution_count": 40,
     "metadata": {},
     "output_type": "execute_result"
    }
   ],
   "source": [
    "a=float(a)\n",
    "type(a)"
   ]
  },
  {
   "cell_type": "markdown",
   "id": "525c4baa-1297-4912-8d5b-ee59dd3e1ee3",
   "metadata": {},
   "source": [
    "`-` 형태변환: bool $\\to$ int/float, int/float $\\to$ bool "
   ]
  },
  {
   "cell_type": "markdown",
   "id": "92a7293f-bd5b-4aea-a59f-4e16f91553d0",
   "metadata": {},
   "source": [
    "(예시1)"
   ]
  },
  {
   "cell_type": "code",
   "execution_count": 41,
   "id": "8b211aa0-615c-48ca-92cc-2690e7153398",
   "metadata": {
    "vscode": {
     "languageId": "python"
    }
   },
   "outputs": [
    {
     "data": {
      "text/plain": [
       "bool"
      ]
     },
     "execution_count": 41,
     "metadata": {},
     "output_type": "execute_result"
    }
   ],
   "source": [
    "a=True\n",
    "type(a)"
   ]
  },
  {
   "cell_type": "code",
   "execution_count": 42,
   "id": "a40b25a6-5b52-4df0-b067-26101d46b166",
   "metadata": {
    "vscode": {
     "languageId": "python"
    }
   },
   "outputs": [
    {
     "data": {
      "text/plain": [
       "1"
      ]
     },
     "execution_count": 42,
     "metadata": {},
     "output_type": "execute_result"
    }
   ],
   "source": [
    "int(a)"
   ]
  },
  {
   "cell_type": "code",
   "execution_count": 43,
   "id": "6a07f63b-ca1f-4712-8ee1-bb714a83a5bd",
   "metadata": {
    "vscode": {
     "languageId": "python"
    }
   },
   "outputs": [
    {
     "data": {
      "text/plain": [
       "1.0"
      ]
     },
     "execution_count": 43,
     "metadata": {},
     "output_type": "execute_result"
    }
   ],
   "source": [
    "float(a)"
   ]
  },
  {
   "cell_type": "markdown",
   "id": "4c76c955-e6c1-4638-b817-500f3c76e37a",
   "metadata": {},
   "source": [
    "(예시2)"
   ]
  },
  {
   "cell_type": "code",
   "execution_count": 59,
   "id": "f9939f7e-3e31-4214-a8e1-a69585f72fc5",
   "metadata": {
    "vscode": {
     "languageId": "python"
    }
   },
   "outputs": [
    {
     "data": {
      "text/plain": [
       "True"
      ]
     },
     "execution_count": 59,
     "metadata": {},
     "output_type": "execute_result"
    }
   ],
   "source": [
    "a=1 \n",
    "bool(a)"
   ]
  },
  {
   "cell_type": "code",
   "execution_count": 60,
   "id": "666e7893-ce07-4159-8ed8-16bf86e55376",
   "metadata": {
    "vscode": {
     "languageId": "python"
    }
   },
   "outputs": [
    {
     "data": {
      "text/plain": [
       "False"
      ]
     },
     "execution_count": 60,
     "metadata": {},
     "output_type": "execute_result"
    }
   ],
   "source": [
    "a=0\n",
    "bool(a)"
   ]
  },
  {
   "cell_type": "markdown",
   "id": "f8f21a55-b7e4-4934-8045-de06466bddb2",
   "metadata": {},
   "source": [
    "(예시3)"
   ]
  },
  {
   "cell_type": "code",
   "execution_count": 61,
   "id": "da2d5bc7-9856-44e1-a9ae-53a38dd97d86",
   "metadata": {
    "vscode": {
     "languageId": "python"
    }
   },
   "outputs": [
    {
     "data": {
      "text/plain": [
       "True"
      ]
     },
     "execution_count": 61,
     "metadata": {},
     "output_type": "execute_result"
    }
   ],
   "source": [
    "a=1.0\n",
    "bool(a)"
   ]
  },
  {
   "cell_type": "code",
   "execution_count": 62,
   "id": "f7d332ad-cedd-4afb-9978-47fb58343bf1",
   "metadata": {
    "vscode": {
     "languageId": "python"
    }
   },
   "outputs": [
    {
     "data": {
      "text/plain": [
       "False"
      ]
     },
     "execution_count": 62,
     "metadata": {},
     "output_type": "execute_result"
    }
   ],
   "source": [
    "a=0.0\n",
    "bool(a)"
   ]
  },
  {
   "cell_type": "markdown",
   "id": "e07a763b-92f5-41b2-af56-0d836a090593",
   "metadata": {},
   "source": [
    "`-` 이상한 형태변환도 가능하다. (이런것도 바꿔주나 싶은것도 바꿔줌) "
   ]
  },
  {
   "cell_type": "code",
   "execution_count": 75,
   "id": "5886c034-1ea6-403c-9049-b2f466bb2861",
   "metadata": {
    "vscode": {
     "languageId": "python"
    }
   },
   "outputs": [
    {
     "data": {
      "text/plain": [
       "True"
      ]
     },
     "execution_count": 75,
     "metadata": {},
     "output_type": "execute_result"
    }
   ],
   "source": [
    "bool(-3.14)"
   ]
  },
  {
   "cell_type": "markdown",
   "id": "f216b7bd-a59f-4f56-8693-5325f468df4f",
   "metadata": {},
   "source": [
    "- 저는 이런 코드를 의도적으로 사용하지 않아요.. "
   ]
  },
  {
   "cell_type": "code",
   "execution_count": 74,
   "id": "ce304d33-c871-4431-b3f5-7fcb6da3ba03",
   "metadata": {
    "vscode": {
     "languageId": "python"
    }
   },
   "outputs": [
    {
     "data": {
      "text/plain": [
       "3"
      ]
     },
     "execution_count": 74,
     "metadata": {},
     "output_type": "execute_result"
    }
   ],
   "source": [
    "int(3.14)"
   ]
  },
  {
   "cell_type": "markdown",
   "id": "9ea8d178-0ea0-47fa-bd77-a9bd383f1159",
   "metadata": {},
   "source": [
    "`-` 형태변환이 항상가능한것도 아님 "
   ]
  },
  {
   "cell_type": "code",
   "execution_count": 78,
   "id": "49009709-ee12-403c-ba9d-a8076b7831e0",
   "metadata": {
    "vscode": {
     "languageId": "python"
    }
   },
   "outputs": [
    {
     "ename": "TypeError",
     "evalue": "can't convert complex to float",
     "output_type": "error",
     "traceback": [
      "\u001b[0;31m---------------------------------------------------------------------------\u001b[0m",
      "\u001b[0;31mTypeError\u001b[0m                                 Traceback (most recent call last)",
      "Input \u001b[0;32mIn [78]\u001b[0m, in \u001b[0;36m<module>\u001b[0;34m\u001b[0m\n\u001b[0;32m----> 1\u001b[0m \u001b[38;5;28;43mfloat\u001b[39;49m\u001b[43m(\u001b[49m\u001b[38;5;241;43m3\u001b[39;49m\u001b[38;5;241;43m+\u001b[39;49m\u001b[38;5;241;43m0\u001b[39;49m\u001b[43mj\u001b[49m\u001b[43m)\u001b[49m\n",
      "\u001b[0;31mTypeError\u001b[0m: can't convert complex to float"
     ]
    }
   ],
   "source": [
    "float(3+0j) # 사실상 3+0j=3 이므로 float으로 형변환하면 3.0이 되어야 할 것 같은데 변환불가능하다. "
   ]
  },
  {
   "cell_type": "markdown",
   "id": "252a1d07-7d27-482f-88a5-0a7712a5c372",
   "metadata": {},
   "source": [
    "`-` 암묵적형변환 (implicit) "
   ]
  },
  {
   "cell_type": "markdown",
   "id": "111ffc10-9337-480f-8c15-55de058b42f1",
   "metadata": {},
   "source": [
    "(예비학습) implicit의 의미 \n",
    "\n",
    "- 추운날씨 -> 보일러좀 틀자! (explicit) / 오늘 날씨 좀 추운 것 같지 않아? (implicit) \n",
    "- 짜장면 먹을래? -> 싫어! (explicit) / 난 어제 짜장면 먹었는데.. (implicit)"
   ]
  },
  {
   "cell_type": "markdown",
   "id": "991e8548-f99c-4e8c-b037-8f57b62778cc",
   "metadata": {},
   "source": [
    "(예제) "
   ]
  },
  {
   "cell_type": "code",
   "execution_count": 50,
   "id": "c9e04ff0-cce1-4d3b-9317-e6127875b578",
   "metadata": {
    "vscode": {
     "languageId": "python"
    }
   },
   "outputs": [
    {
     "data": {
      "text/plain": [
       "1"
      ]
     },
     "execution_count": 50,
     "metadata": {},
     "output_type": "execute_result"
    }
   ],
   "source": [
    "True * 1 # 1을 곱할건데 너 계속 True로 있을꺼야? "
   ]
  },
  {
   "cell_type": "code",
   "execution_count": 82,
   "id": "320cb3ad-b3e4-46de-9d05-cdd94af7e0c5",
   "metadata": {
    "vscode": {
     "languageId": "python"
    }
   },
   "outputs": [
    {
     "data": {
      "text/plain": [
       "1.0"
      ]
     },
     "execution_count": 82,
     "metadata": {},
     "output_type": "execute_result"
    }
   ],
   "source": [
    "1 * 1.0 # 1.0을 곱할건데 너 계속 int로 있을꺼야? "
   ]
  },
  {
   "cell_type": "code",
   "execution_count": 84,
   "id": "b7289181-cb52-4ed7-8f14-585144941032",
   "metadata": {
    "vscode": {
     "languageId": "python"
    }
   },
   "outputs": [
    {
     "data": {
      "text/plain": [
       "2"
      ]
     },
     "execution_count": 84,
     "metadata": {},
     "output_type": "execute_result"
    }
   ],
   "source": [
    "True+True # +연산을 할건데 계속 True로 있을꺼야? "
   ]
  },
  {
   "cell_type": "markdown",
   "id": "e8c0c30c-29ac-46b4-9994-389c5d25f3da",
   "metadata": {},
   "source": [
    "## 3. str 기본내용 "
   ]
  },
  {
   "cell_type": "markdown",
   "id": "d69c8cde-9e12-4bda-ba7c-b707482b2956",
   "metadata": {},
   "source": [
    "### A. 선언 "
   ]
  },
  {
   "cell_type": "markdown",
   "id": "87e48e74-0804-4d2b-a7ab-ae1deacd3afc",
   "metadata": {},
   "source": [
    "`-` 예시1"
   ]
  },
  {
   "cell_type": "code",
   "execution_count": 85,
   "id": "e128d2f9-73de-4717-a47c-100a97ab4dd0",
   "metadata": {},
   "outputs": [],
   "source": [
    "a='guebin'"
   ]
  },
  {
   "cell_type": "code",
   "execution_count": 86,
   "id": "350a46b3-1bf8-402d-8c78-7b9bd7be1515",
   "metadata": {},
   "outputs": [
    {
     "data": {
      "text/plain": [
       "'guebin'"
      ]
     },
     "execution_count": 86,
     "metadata": {},
     "output_type": "execute_result"
    }
   ],
   "source": [
    "a"
   ]
  },
  {
   "cell_type": "markdown",
   "id": "1110d150-e642-49c3-81d5-cc97548e99ac",
   "metadata": {},
   "source": [
    "`-` 예시2"
   ]
  },
  {
   "cell_type": "code",
   "execution_count": 9,
   "id": "52d702ec-1b4c-47b6-84ff-74d31ef5cab8",
   "metadata": {},
   "outputs": [],
   "source": [
    "a=\"guebin\""
   ]
  },
  {
   "cell_type": "code",
   "execution_count": 2,
   "id": "db628d81-16b5-425a-8cb9-a804c91b8655",
   "metadata": {},
   "outputs": [
    {
     "data": {
      "text/plain": [
       "'guebin'"
      ]
     },
     "execution_count": 2,
     "metadata": {},
     "output_type": "execute_result"
    }
   ],
   "source": [
    "a"
   ]
  },
  {
   "cell_type": "markdown",
   "id": "bab1733b-62bc-4891-a186-ee960ec540bc",
   "metadata": {},
   "source": [
    "### B. 연산"
   ]
  },
  {
   "cell_type": "markdown",
   "id": "4c572c9d-d750-4538-bfd3-695056f7d7b0",
   "metadata": {},
   "source": [
    "`-` 더하기(+)연산 "
   ]
  },
  {
   "cell_type": "code",
   "execution_count": 87,
   "id": "49b3c9e9-3b4f-40cd-bd44-361f128eb558",
   "metadata": {},
   "outputs": [],
   "source": [
    "a='X'\n",
    "b='2'"
   ]
  },
  {
   "cell_type": "code",
   "execution_count": 91,
   "id": "3cba8c9e-d3e8-475b-a0b3-0cd0f08413e8",
   "metadata": {},
   "outputs": [
    {
     "data": {
      "text/plain": [
       "'X2'"
      ]
     },
     "execution_count": 91,
     "metadata": {},
     "output_type": "execute_result"
    }
   ],
   "source": [
    "c=a+b\n",
    "c"
   ]
  },
  {
   "cell_type": "markdown",
   "id": "ae68fe60-6f36-4d9f-b078-8b6dc60f94b8",
   "metadata": {},
   "source": [
    "`-` 빼기(-)연산 "
   ]
  },
  {
   "cell_type": "code",
   "execution_count": 92,
   "id": "d61f36c3-6e3a-4613-8963-25cfd7633a6c",
   "metadata": {},
   "outputs": [
    {
     "ename": "TypeError",
     "evalue": "unsupported operand type(s) for -: 'str' and 'str'",
     "output_type": "error",
     "traceback": [
      "\u001b[0;31m---------------------------------------------------------------------------\u001b[0m",
      "\u001b[0;31mTypeError\u001b[0m                                 Traceback (most recent call last)",
      "Input \u001b[0;32mIn [92]\u001b[0m, in \u001b[0;36m<module>\u001b[0;34m\u001b[0m\n\u001b[1;32m      1\u001b[0m a\u001b[38;5;241m=\u001b[39m\u001b[38;5;124m'\u001b[39m\u001b[38;5;124mX2\u001b[39m\u001b[38;5;124m'\u001b[39m\n\u001b[1;32m      2\u001b[0m b\u001b[38;5;241m=\u001b[39m\u001b[38;5;124m'\u001b[39m\u001b[38;5;124m2\u001b[39m\u001b[38;5;124m'\u001b[39m\n\u001b[0;32m----> 3\u001b[0m \u001b[43ma\u001b[49m\u001b[38;5;241;43m-\u001b[39;49m\u001b[43mb\u001b[49m\n",
      "\u001b[0;31mTypeError\u001b[0m: unsupported operand type(s) for -: 'str' and 'str'"
     ]
    }
   ],
   "source": [
    "a='X2'\n",
    "b='2'\n",
    "a-b"
   ]
  },
  {
   "cell_type": "markdown",
   "id": "e7f0f68b-3db8-4737-a87c-1e051acbf722",
   "metadata": {},
   "source": [
    "- 이런건 없다. "
   ]
  },
  {
   "cell_type": "markdown",
   "id": "bd5dfdb8-a447-4b5e-8ad4-dd81d31dd2a1",
   "metadata": {},
   "source": [
    "`-` 곱하기(*)연산"
   ]
  },
  {
   "cell_type": "code",
   "execution_count": 61,
   "id": "23ed5ede-179b-4c33-b4a8-c8d9b3e056d8",
   "metadata": {},
   "outputs": [],
   "source": [
    "a='X'"
   ]
  },
  {
   "cell_type": "code",
   "execution_count": 94,
   "id": "fb6309b8-f942-405e-b7f1-393a61a36181",
   "metadata": {},
   "outputs": [
    {
     "data": {
      "text/plain": [
       "'XXX'"
      ]
     },
     "execution_count": 94,
     "metadata": {},
     "output_type": "execute_result"
    }
   ],
   "source": [
    "a+a+a"
   ]
  },
  {
   "cell_type": "code",
   "execution_count": 95,
   "id": "736a396f-bf0b-450b-a1cc-56250f15f72c",
   "metadata": {},
   "outputs": [
    {
     "data": {
      "text/plain": [
       "'XXX'"
      ]
     },
     "execution_count": 95,
     "metadata": {},
     "output_type": "execute_result"
    }
   ],
   "source": [
    "a*3 # a*3 = a+a+a = 'X'+'X+'X'"
   ]
  },
  {
   "cell_type": "markdown",
   "id": "4248192a-30a6-4e12-89d0-9e660d7072ae",
   "metadata": {},
   "source": [
    "아래도 가능하다. "
   ]
  },
  {
   "cell_type": "code",
   "execution_count": 96,
   "id": "d528ccb5-d7a4-47a3-8de0-eb14cbd720bb",
   "metadata": {},
   "outputs": [
    {
     "data": {
      "text/plain": [
       "'XXX'"
      ]
     },
     "execution_count": 96,
     "metadata": {},
     "output_type": "execute_result"
    }
   ],
   "source": [
    "3*a"
   ]
  },
  {
   "cell_type": "markdown",
   "id": "7da4797f-e6f3-4ba3-a8a9-da9441d6a62a",
   "metadata": {},
   "source": [
    "그리고 아래도 가능하다. "
   ]
  },
  {
   "cell_type": "code",
   "execution_count": 97,
   "id": "54e19950-365a-45e7-b83e-675baf2d1cb6",
   "metadata": {},
   "outputs": [
    {
     "data": {
      "text/plain": [
       "'XXX'"
      ]
     },
     "execution_count": 97,
     "metadata": {},
     "output_type": "execute_result"
    }
   ],
   "source": [
    "a='X'\n",
    "b=3 \n",
    "a*b"
   ]
  },
  {
   "cell_type": "markdown",
   "id": "d26631b5-6713-4f69-8e6e-ac7d3905d3cd",
   "metadata": {},
   "source": [
    "대신에 의미상 맞지 않는 것은 수행되지 않고 에러가 난다. "
   ]
  },
  {
   "cell_type": "code",
   "execution_count": 69,
   "id": "68417fa2-4885-4a14-aec1-57c9e4c9717f",
   "metadata": {},
   "outputs": [
    {
     "data": {
      "text/plain": [
       "'XY'"
      ]
     },
     "execution_count": 69,
     "metadata": {},
     "output_type": "execute_result"
    }
   ],
   "source": [
    "a='X'\n",
    "b='Y'\n",
    "a+b"
   ]
  },
  {
   "cell_type": "code",
   "execution_count": 70,
   "id": "31a35724-52f0-48b2-b4f4-c51ed7509743",
   "metadata": {},
   "outputs": [
    {
     "ename": "TypeError",
     "evalue": "can't multiply sequence by non-int of type 'str'",
     "output_type": "error",
     "traceback": [
      "\u001b[0;31m---------------------------------------------------------------------------\u001b[0m",
      "\u001b[0;31mTypeError\u001b[0m                                 Traceback (most recent call last)",
      "Cell \u001b[0;32mIn[70], line 1\u001b[0m\n\u001b[0;32m----> 1\u001b[0m \u001b[43ma\u001b[49m\u001b[38;5;241;43m*\u001b[39;49m\u001b[43mb\u001b[49m\n",
      "\u001b[0;31mTypeError\u001b[0m: can't multiply sequence by non-int of type 'str'"
     ]
    }
   ],
   "source": [
    "a*b"
   ]
  },
  {
   "cell_type": "markdown",
   "id": "d4fe3e28-2d72-4199-9377-44336e032376",
   "metadata": {},
   "source": [
    "`-` 나눗셈(/)연산 "
   ]
  },
  {
   "cell_type": "code",
   "execution_count": 72,
   "id": "51976ab1-f533-43ff-beb5-6146a16d650a",
   "metadata": {},
   "outputs": [],
   "source": [
    "a='XX'"
   ]
  },
  {
   "cell_type": "code",
   "execution_count": 73,
   "id": "81c147ca-8674-43fb-ba0c-648cee35b2f7",
   "metadata": {},
   "outputs": [
    {
     "ename": "TypeError",
     "evalue": "unsupported operand type(s) for /: 'str' and 'int'",
     "output_type": "error",
     "traceback": [
      "\u001b[0;31m---------------------------------------------------------------------------\u001b[0m",
      "\u001b[0;31mTypeError\u001b[0m                                 Traceback (most recent call last)",
      "Cell \u001b[0;32mIn[73], line 1\u001b[0m\n\u001b[0;32m----> 1\u001b[0m \u001b[43ma\u001b[49m\u001b[38;5;241;43m/\u001b[39;49m\u001b[38;5;241;43m2\u001b[39;49m\n",
      "\u001b[0;31mTypeError\u001b[0m: unsupported operand type(s) for /: 'str' and 'int'"
     ]
    }
   ],
   "source": [
    "a/2"
   ]
  },
  {
   "cell_type": "markdown",
   "id": "8cbdc1ae-e815-4a7f-ac56-2817d5730309",
   "metadata": {},
   "source": [
    "- 이런건 없다.. "
   ]
  },
  {
   "cell_type": "markdown",
   "id": "b3d0d681-61ca-4c21-88d7-9e96c6554c2c",
   "metadata": {},
   "source": [
    "### C. 인덱싱"
   ]
  },
  {
   "cell_type": "markdown",
   "id": "fc2893b9-a28e-4f7c-8f9a-250be09aa4c0",
   "metadata": {},
   "source": [
    "`-` str은 하나의 벡터 문자가 여러개 있는 형태라고 생각하면 된다. "
   ]
  },
  {
   "cell_type": "code",
   "execution_count": 89,
   "id": "e8987bf1-bffd-44c0-b19e-c4664a6a451f",
   "metadata": {},
   "outputs": [],
   "source": [
    "a='guebin'"
   ]
  },
  {
   "cell_type": "code",
   "execution_count": 90,
   "id": "f3c56c97-dea0-4272-99e6-def623ffbd83",
   "metadata": {},
   "outputs": [
    {
     "data": {
      "text/plain": [
       "'guebin'"
      ]
     },
     "execution_count": 90,
     "metadata": {},
     "output_type": "execute_result"
    }
   ],
   "source": [
    "a"
   ]
  },
  {
   "cell_type": "markdown",
   "id": "7c3316f1-3de4-4558-8fef-94f70dc63d16",
   "metadata": {},
   "source": [
    "- 6개의 칸에 글씨가 하나씩 들어가 있음. "
   ]
  },
  {
   "cell_type": "markdown",
   "id": "e658ff54-72c9-4f0f-9023-ce8ffd772c73",
   "metadata": {},
   "source": [
    "`-` 대괄호 `[]`안에 숫자를 넣는 방식으로 벡터의 원소를 호출할 수 있다. (주의: 인덱스가 0부터 시작함) "
   ]
  },
  {
   "cell_type": "code",
   "execution_count": 77,
   "id": "2f34fd08-ab07-4e32-a7f8-a3d7108e6b26",
   "metadata": {},
   "outputs": [
    {
     "data": {
      "text/plain": [
       "'g'"
      ]
     },
     "execution_count": 77,
     "metadata": {},
     "output_type": "execute_result"
    }
   ],
   "source": [
    "a[0] #첫번째원소"
   ]
  },
  {
   "cell_type": "code",
   "execution_count": 78,
   "id": "9066bf2f-60a2-42a3-adbd-5461b6bcb4e5",
   "metadata": {},
   "outputs": [
    {
     "data": {
      "text/plain": [
       "'u'"
      ]
     },
     "execution_count": 78,
     "metadata": {},
     "output_type": "execute_result"
    }
   ],
   "source": [
    "a[1] #두번째원소 "
   ]
  },
  {
   "cell_type": "markdown",
   "id": "5c9c7929-7120-4d69-99d6-b3b9212ed05b",
   "metadata": {},
   "source": [
    "마지막원소는 -1로 호출할 수도 있다. "
   ]
  },
  {
   "cell_type": "code",
   "execution_count": 114,
   "id": "62637246-df7a-4d5d-9ef0-955277535a00",
   "metadata": {},
   "outputs": [
    {
     "data": {
      "text/plain": [
       "'n'"
      ]
     },
     "execution_count": 114,
     "metadata": {},
     "output_type": "execute_result"
    }
   ],
   "source": [
    "a[-1]"
   ]
  },
  {
   "cell_type": "markdown",
   "id": "bb2720fc-a273-423e-bcfb-1d0c70337f97",
   "metadata": {},
   "source": [
    "마지막에서 2번째 원소는 -2로 호출가능하다. "
   ]
  },
  {
   "cell_type": "code",
   "execution_count": 115,
   "id": "1a020f0d-d979-4e4b-863d-fd6e21781d21",
   "metadata": {},
   "outputs": [
    {
     "data": {
      "text/plain": [
       "'i'"
      ]
     },
     "execution_count": 115,
     "metadata": {},
     "output_type": "execute_result"
    }
   ],
   "source": [
    "a[-2]"
   ]
  },
  {
   "cell_type": "markdown",
   "id": "086738da-193a-4316-a0f4-7435c57760b9",
   "metadata": {},
   "source": [
    "`-` 요약하면 아래와 같은 방식으로 호출가능함. "
   ]
  },
  {
   "cell_type": "markdown",
   "id": "bbc75f31-8f56-46f8-929f-b69ae6adedf0",
   "metadata": {},
   "source": [
    "|g|u|e|b|i|n|\n",
    "|:-:|:-:|:-:|:-:|:-:|:-:|\n",
    "|0|1|2|3|4|5|\n",
    "|0|-5|-4|-3|-2|-1|"
   ]
  },
  {
   "cell_type": "code",
   "execution_count": 95,
   "id": "d1f96f27-26e2-4418-9ced-e6df11cc37c6",
   "metadata": {},
   "outputs": [
    {
     "data": {
      "text/plain": [
       "'i'"
      ]
     },
     "execution_count": 95,
     "metadata": {},
     "output_type": "execute_result"
    }
   ],
   "source": [
    "a[4]"
   ]
  },
  {
   "cell_type": "code",
   "execution_count": 96,
   "id": "ad83afa1-04a0-4e5c-9afd-6a7cf2d74621",
   "metadata": {},
   "outputs": [
    {
     "data": {
      "text/plain": [
       "'i'"
      ]
     },
     "execution_count": 96,
     "metadata": {},
     "output_type": "execute_result"
    }
   ],
   "source": [
    "a[-2]"
   ]
  },
  {
   "cell_type": "code",
   "execution_count": 97,
   "id": "e025a1f8-17e1-482c-9152-00c57a4464fa",
   "metadata": {},
   "outputs": [
    {
     "data": {
      "text/plain": [
       "'e'"
      ]
     },
     "execution_count": 97,
     "metadata": {},
     "output_type": "execute_result"
    }
   ],
   "source": [
    "a[-4]"
   ]
  },
  {
   "cell_type": "markdown",
   "id": "fe48ce2b-5ba5-4cc0-a07a-c755501a9fbd",
   "metadata": {},
   "source": [
    "`-` `:`을 이용하여 여러개의 원소를 호출할 수 있음. "
   ]
  },
  {
   "cell_type": "code",
   "execution_count": 98,
   "id": "73da99e5-2fcb-46e2-98ad-6d12a7b738e3",
   "metadata": {},
   "outputs": [],
   "source": [
    "a='guebin'"
   ]
  },
  {
   "cell_type": "code",
   "execution_count": 102,
   "id": "7c4d2378-edab-4566-805b-571d1772994d",
   "metadata": {},
   "outputs": [
    {
     "data": {
      "text/plain": [
       "'gue'"
      ]
     },
     "execution_count": 102,
     "metadata": {},
     "output_type": "execute_result"
    }
   ],
   "source": [
    "a[0:3] # a[0],a[1],a[2],a[3]이 아니라 a[0],a[1],a[2]까지만 뽑힌다. 즉 마지막의 3은 호출되지 않는다. "
   ]
  },
  {
   "cell_type": "code",
   "execution_count": 103,
   "id": "d97f62af-d7e3-4656-b6e9-f7a22871d4de",
   "metadata": {},
   "outputs": [
    {
     "data": {
      "text/plain": [
       "'ue'"
      ]
     },
     "execution_count": 103,
     "metadata": {},
     "output_type": "execute_result"
    }
   ],
   "source": [
    "a[1:3] # a[1], a[2] 만 호출 // start=1,  stop=3 "
   ]
  },
  {
   "cell_type": "markdown",
   "id": "0751740f-8576-4004-823c-7f3d4fee634d",
   "metadata": {},
   "source": [
    "index=1부터 시작해서 마지막원소까지 호출하려면? "
   ]
  },
  {
   "cell_type": "code",
   "execution_count": 153,
   "id": "f3b9904c-bd9b-4287-b3ce-b4f3162b6287",
   "metadata": {},
   "outputs": [],
   "source": [
    "a='guebin'"
   ]
  },
  {
   "cell_type": "code",
   "execution_count": 130,
   "id": "997f0d15-785f-4868-993e-1461a1fd2b75",
   "metadata": {},
   "outputs": [
    {
     "data": {
      "text/plain": [
       "'n'"
      ]
     },
     "execution_count": 130,
     "metadata": {},
     "output_type": "execute_result"
    }
   ],
   "source": [
    "a[5] # guebin의 마지막원소 'n'이 출려 "
   ]
  },
  {
   "cell_type": "code",
   "execution_count": 135,
   "id": "2f7e7e1c-5689-4b2a-b4b0-5abb45698a11",
   "metadata": {},
   "outputs": [
    {
     "data": {
      "text/plain": [
       "'uebi'"
      ]
     },
     "execution_count": 135,
     "metadata": {},
     "output_type": "execute_result"
    }
   ],
   "source": [
    "a[1:5] # 5는 포함되지 않으므로 틀림"
   ]
  },
  {
   "cell_type": "code",
   "execution_count": 136,
   "id": "0eed7abb-b86d-4ee6-b995-a125b74d10d6",
   "metadata": {},
   "outputs": [
    {
     "data": {
      "text/plain": [
       "'uebin'"
      ]
     },
     "execution_count": 136,
     "metadata": {},
     "output_type": "execute_result"
    }
   ],
   "source": [
    "a[1:6] # 정답"
   ]
  },
  {
   "cell_type": "markdown",
   "id": "4df0aaa4-eb43-4238-8fd5-64f483af0e76",
   "metadata": {},
   "source": [
    "안 헷갈리는 방법은 없을까? 생략한다. "
   ]
  },
  {
   "cell_type": "code",
   "execution_count": 140,
   "id": "0db1ca87-1484-42a8-bfe6-fc9fbf66e303",
   "metadata": {},
   "outputs": [
    {
     "data": {
      "text/plain": [
       "'uebin'"
      ]
     },
     "execution_count": 140,
     "metadata": {},
     "output_type": "execute_result"
    }
   ],
   "source": [
    "a[1:]"
   ]
  },
  {
   "cell_type": "markdown",
   "id": "0619a4f3-aab0-4c7b-822d-e14b1e0494e4",
   "metadata": {},
   "source": [
    "`-` 생략의 응용1"
   ]
  },
  {
   "cell_type": "code",
   "execution_count": 160,
   "id": "65aeadaf-a6b1-4e5c-8dd0-1a9547563c24",
   "metadata": {},
   "outputs": [
    {
     "data": {
      "text/plain": [
       "'k-pop'"
      ]
     },
     "execution_count": 160,
     "metadata": {},
     "output_type": "execute_result"
    }
   ],
   "source": [
    "a='k-pop' \n",
    "a"
   ]
  },
  {
   "cell_type": "code",
   "execution_count": 159,
   "id": "9393d6e6-aea5-4325-ae7f-e81f90409c5e",
   "metadata": {},
   "outputs": [
    {
     "data": {
      "text/plain": [
       "'pop'"
      ]
     },
     "execution_count": 159,
     "metadata": {},
     "output_type": "execute_result"
    }
   ],
   "source": [
    "a[2:5]"
   ]
  },
  {
   "cell_type": "code",
   "execution_count": 160,
   "id": "259908e4-da6c-46f0-9654-bfb40414fd97",
   "metadata": {},
   "outputs": [
    {
     "data": {
      "text/plain": [
       "'pop'"
      ]
     },
     "execution_count": 160,
     "metadata": {},
     "output_type": "execute_result"
    }
   ],
   "source": [
    "a[2:]"
   ]
  },
  {
   "cell_type": "markdown",
   "id": "84692616-5e76-4410-a8a3-a841a45533e6",
   "metadata": {},
   "source": [
    "`-` 생략의 응용2"
   ]
  },
  {
   "cell_type": "code",
   "execution_count": 168,
   "id": "d9b18acd-fba9-4293-a1a3-d75a28c00aad",
   "metadata": {},
   "outputs": [
    {
     "data": {
      "text/plain": [
       "'k-pop'"
      ]
     },
     "execution_count": 168,
     "metadata": {},
     "output_type": "execute_result"
    }
   ],
   "source": [
    "a='k-pop'\n",
    "a"
   ]
  },
  {
   "cell_type": "code",
   "execution_count": 173,
   "id": "ca568122-ddf9-48af-a0ac-c1d39293f727",
   "metadata": {},
   "outputs": [
    {
     "data": {
      "text/plain": [
       "'k-'"
      ]
     },
     "execution_count": 173,
     "metadata": {},
     "output_type": "execute_result"
    }
   ],
   "source": [
    "a[0:2] # a[0],a[1]"
   ]
  },
  {
   "cell_type": "code",
   "execution_count": 174,
   "id": "3a216674-8d8a-4251-af2b-38e9ebab4675",
   "metadata": {},
   "outputs": [
    {
     "data": {
      "text/plain": [
       "'k-'"
      ]
     },
     "execution_count": 174,
     "metadata": {},
     "output_type": "execute_result"
    }
   ],
   "source": [
    "a[:2] # a[0],a[1] "
   ]
  },
  {
   "cell_type": "markdown",
   "id": "25b12919-41d3-4f67-b455-02b7a65f2cbe",
   "metadata": {},
   "source": [
    "`-` 생략의 응용3"
   ]
  },
  {
   "cell_type": "code",
   "execution_count": 175,
   "id": "ada1a085-c424-4a9c-b4f3-a6ff2631c13a",
   "metadata": {},
   "outputs": [
    {
     "data": {
      "text/plain": [
       "'k-pop'"
      ]
     },
     "execution_count": 175,
     "metadata": {},
     "output_type": "execute_result"
    }
   ],
   "source": [
    "a='k-pop'\n",
    "a"
   ]
  },
  {
   "cell_type": "code",
   "execution_count": 176,
   "id": "c760e686-5d37-4571-9db7-7de4e67efa2c",
   "metadata": {},
   "outputs": [
    {
     "data": {
      "text/plain": [
       "'k-pop'"
      ]
     },
     "execution_count": 176,
     "metadata": {},
     "output_type": "execute_result"
    }
   ],
   "source": [
    "a[0:5] # a[0],...,a[4]"
   ]
  },
  {
   "cell_type": "code",
   "execution_count": 177,
   "id": "3578dc24-4247-456e-ad2a-fb5667fb5b86",
   "metadata": {},
   "outputs": [
    {
     "data": {
      "text/plain": [
       "'k-pop'"
      ]
     },
     "execution_count": 177,
     "metadata": {},
     "output_type": "execute_result"
    }
   ],
   "source": [
    "a[:]"
   ]
  },
  {
   "cell_type": "markdown",
   "id": "d7a8b4aa-449b-49f3-97d6-edc9e293b25d",
   "metadata": {},
   "source": [
    "### D. str 특수기능 "
   ]
  },
  {
   "cell_type": "markdown",
   "id": "8527dca3-2158-458f-bfc6-e2c782536963",
   "metadata": {},
   "source": [
    "`-` 파이썬의 변수는 단순히 정보를 담는 그릇이 아니다. 유용한 기능을 제공하는 경우가 있다. "
   ]
  },
  {
   "cell_type": "code",
   "execution_count": 135,
   "id": "4fa93a57-2028-47d8-87c4-b95754d82663",
   "metadata": {},
   "outputs": [
    {
     "data": {
      "text/plain": [
       "'ABCD'"
      ]
     },
     "execution_count": 135,
     "metadata": {},
     "output_type": "execute_result"
    }
   ],
   "source": [
    "a='ABCD' # a라는 변수는 'ABCD'라는 정보를 담는 그릇의 역할만 하지 않고, 특화된 어떠한 기능도 제공한다. \n",
    "a"
   ]
  },
  {
   "cell_type": "code",
   "execution_count": 140,
   "id": "032ad75b-5c53-4e9d-9582-36e4ce13b4dd",
   "metadata": {},
   "outputs": [
    {
     "data": {
      "text/plain": [
       "'abcd'"
      ]
     },
     "execution_count": 140,
     "metadata": {},
     "output_type": "execute_result"
    }
   ],
   "source": [
    "a.lower() # a.lower()를 쓰면 a의 모든 문자를 소문자로 바꾸는 기능을 제공, lower(a)라고 읽자!"
   ]
  },
  {
   "cell_type": "markdown",
   "id": "10746a9d-3adb-4cd2-ac1e-baf6f1a508a0",
   "metadata": {},
   "source": [
    "여기에서 lower()는 문자열에 특화된 기능임. 따라서 당연히 아래는 불가능 "
   ]
  },
  {
   "cell_type": "code",
   "execution_count": 194,
   "id": "2758bfbe-b160-41a4-873e-950a0f242fe9",
   "metadata": {},
   "outputs": [
    {
     "ename": "AttributeError",
     "evalue": "'float' object has no attribute 'lower'",
     "output_type": "error",
     "traceback": [
      "\u001b[0;31m---------------------------------------------------------------------------\u001b[0m",
      "\u001b[0;31mAttributeError\u001b[0m                            Traceback (most recent call last)",
      "Input \u001b[0;32mIn [194]\u001b[0m, in \u001b[0;36m<module>\u001b[0;34m\u001b[0m\n\u001b[1;32m      1\u001b[0m a\u001b[38;5;241m=\u001b[39m\u001b[38;5;241m3.14\u001b[39m\n\u001b[0;32m----> 2\u001b[0m \u001b[43ma\u001b[49m\u001b[38;5;241;43m.\u001b[39;49m\u001b[43mlower\u001b[49m()\n",
      "\u001b[0;31mAttributeError\u001b[0m: 'float' object has no attribute 'lower'"
     ]
    }
   ],
   "source": [
    "a=3.14\n",
    "a.lower() # lower(a)"
   ]
  },
  {
   "cell_type": "markdown",
   "id": "0594bb6f-d56a-457c-8a09-386bda95368a",
   "metadata": {},
   "source": [
    "`-` 자료형에 특화된 기능(=함수)을 확인하는 방법? `a.`+ `tab` 으로 목록 확인 가능 "
   ]
  },
  {
   "cell_type": "code",
   "execution_count": 193,
   "id": "fe378323-c52e-4866-8a19-fa9163a1a951",
   "metadata": {},
   "outputs": [],
   "source": [
    "a='guebin'"
   ]
  },
  {
   "cell_type": "code",
   "execution_count": 194,
   "id": "58f967f2-d42c-4ad6-b0a8-289c9db872fb",
   "metadata": {},
   "outputs": [
    {
     "data": {
      "text/plain": [
       "\u001b[0;31mSignature:\u001b[0m \u001b[0ma\u001b[0m\u001b[0;34m.\u001b[0m\u001b[0mupper\u001b[0m\u001b[0;34m(\u001b[0m\u001b[0;34m)\u001b[0m\u001b[0;34m\u001b[0m\u001b[0;34m\u001b[0m\u001b[0m\n",
       "\u001b[0;31mDocstring:\u001b[0m Return a copy of the string converted to uppercase.\n",
       "\u001b[0;31mType:\u001b[0m      builtin_function_or_method"
      ]
     },
     "metadata": {},
     "output_type": "display_data"
    }
   ],
   "source": [
    "a.upper?"
   ]
  },
  {
   "cell_type": "code",
   "execution_count": 195,
   "id": "06d1a032-ffcb-4b71-bbdb-0a1d15cd4f03",
   "metadata": {},
   "outputs": [
    {
     "data": {
      "text/plain": [
       "'GUEBIN'"
      ]
     },
     "execution_count": 195,
     "metadata": {},
     "output_type": "execute_result"
    }
   ],
   "source": [
    "a.upper() # upper(a) "
   ]
  },
  {
   "cell_type": "code",
   "execution_count": 143,
   "id": "e6169258-12a9-4c2d-a7f2-030743aead33",
   "metadata": {},
   "outputs": [
    {
     "data": {
      "text/plain": [
       "'Guebin'"
      ]
     },
     "execution_count": 143,
     "metadata": {},
     "output_type": "execute_result"
    }
   ],
   "source": [
    "a.capitalize() # capitalize(a) "
   ]
  },
  {
   "cell_type": "code",
   "execution_count": 4,
   "id": "7aeefab8-a53f-4d63-896a-5d00ba97a7a8",
   "metadata": {},
   "outputs": [],
   "source": [
    "a='asdf'"
   ]
  },
  {
   "cell_type": "code",
   "execution_count": 5,
   "id": "7e0c312f-98dc-41d2-a673-a6d4831dfd82",
   "metadata": {},
   "outputs": [
    {
     "data": {
      "text/plain": [
       "'asDf'"
      ]
     },
     "execution_count": 5,
     "metadata": {},
     "output_type": "execute_result"
    }
   ],
   "source": [
    "a.replace(\"d\",\"D\")"
   ]
  },
  {
   "cell_type": "markdown",
   "id": "a0bcaeb3-ca7c-47a3-a6f2-3c46f287478b",
   "metadata": {},
   "source": [
    "`-` 문자열에 대한 다른 내용들은 추후에 다루겠음. "
   ]
  },
  {
   "cell_type": "markdown",
   "id": "5f1a8649-1124-48a7-9aad-488aaf5583c4",
   "metadata": {},
   "source": [
    "`-` 마음의눈: `a.f()` 형태를 읽는 팁\n",
    "\n",
    "- `a.f()`는 `f(a)`로 생각하면 편리함. \n",
    "- `a.f(2)`는 `f(a,2)`로 생각하면 편리함. \n",
    "- 이런점에서 R `%>%` 연산자와 비슷하다고 생각할 수 있다. (약간 다르긴함) "
   ]
  },
  {
   "cell_type": "markdown",
   "id": "c86ee1e5-f85f-42ad-9ccf-68c238b0df2c",
   "metadata": {},
   "source": [
    "`-` 사실 `.`은 좀 더 다양한 상황에서 쓰일 수 있다. `변수이름.함수이름()` 의 형태가 아니라 \n",
    "\n",
    "- `패지키이름.함수이름()`\n",
    "- `패키지이름.변수이름` \n",
    "- `패키지이름.패키지이름.함수이름()` \n",
    "- ... \n",
    "\n",
    "와 같이 다양한 형태가 가능하다. 근본적인 공통점은 `.`을 기준으로 `상위개념.하위개념` 으로 이해하는 것이 좋다. "
   ]
  },
  {
   "cell_type": "markdown",
   "id": "cd0baf46-acc2-4ea9-a927-7dac970e94b1",
   "metadata": {},
   "source": [
    "### E. len"
   ]
  },
  {
   "cell_type": "markdown",
   "id": "3f7a0531-cbc7-402c-b4a2-69f2c6e0776c",
   "metadata": {},
   "source": [
    "`-` `len`함수 소개: 원소의 갯수를 알려주는 함수. "
   ]
  },
  {
   "cell_type": "code",
   "execution_count": 206,
   "id": "7a4fa316-dbf3-4d25-88a9-47dc96a8cde5",
   "metadata": {},
   "outputs": [
    {
     "data": {
      "text/plain": [
       "4"
      ]
     },
     "execution_count": 206,
     "metadata": {},
     "output_type": "execute_result"
    }
   ],
   "source": [
    "a='ABCD' \n",
    "len(a)"
   ]
  },
  {
   "cell_type": "markdown",
   "id": "4b58a1a0-066d-40c5-8ae5-f6c561c11a42",
   "metadata": {},
   "source": [
    "`-` 참고: len은 0차원 변수형에서는 동작하지 않고 1차원 변수형에서만 동작한다. "
   ]
  },
  {
   "cell_type": "markdown",
   "id": "b1467614-b46d-4e68-a007-420cd1dd7000",
   "metadata": {},
   "source": [
    "(0차원) `len` 함수가 동작하지 않음."
   ]
  },
  {
   "cell_type": "code",
   "execution_count": 209,
   "id": "4339aa27-d1d9-4560-ba67-e96453314adc",
   "metadata": {},
   "outputs": [],
   "source": [
    "a=3.14"
   ]
  },
  {
   "cell_type": "code",
   "execution_count": 210,
   "id": "94a7da9c-3831-4612-b2f8-8dd1a6046124",
   "metadata": {},
   "outputs": [
    {
     "ename": "TypeError",
     "evalue": "object of type 'float' has no len()",
     "output_type": "error",
     "traceback": [
      "\u001b[0;31m---------------------------------------------------------------------------\u001b[0m",
      "\u001b[0;31mTypeError\u001b[0m                                 Traceback (most recent call last)",
      "Cell \u001b[0;32mIn[210], line 1\u001b[0m\n\u001b[0;32m----> 1\u001b[0m \u001b[38;5;28;43mlen\u001b[39;49m\u001b[43m(\u001b[49m\u001b[43ma\u001b[49m\u001b[43m)\u001b[49m\n",
      "\u001b[0;31mTypeError\u001b[0m: object of type 'float' has no len()"
     ]
    }
   ],
   "source": [
    "len(a)"
   ]
  },
  {
   "cell_type": "code",
   "execution_count": 211,
   "id": "e0a6afac-a5f9-4c7c-9051-ee60bf740be2",
   "metadata": {},
   "outputs": [],
   "source": [
    "b=True"
   ]
  },
  {
   "cell_type": "code",
   "execution_count": 212,
   "id": "d3e9025b-329c-4e9a-a8f2-ce2ac76ea8c0",
   "metadata": {},
   "outputs": [
    {
     "ename": "TypeError",
     "evalue": "object of type 'bool' has no len()",
     "output_type": "error",
     "traceback": [
      "\u001b[0;31m---------------------------------------------------------------------------\u001b[0m",
      "\u001b[0;31mTypeError\u001b[0m                                 Traceback (most recent call last)",
      "Cell \u001b[0;32mIn[212], line 1\u001b[0m\n\u001b[0;32m----> 1\u001b[0m \u001b[38;5;28;43mlen\u001b[39;49m\u001b[43m(\u001b[49m\u001b[43mb\u001b[49m\u001b[43m)\u001b[49m\n",
      "\u001b[0;31mTypeError\u001b[0m: object of type 'bool' has no len()"
     ]
    }
   ],
   "source": [
    "len(b)"
   ]
  },
  {
   "cell_type": "markdown",
   "id": "0233a310-02a4-4b30-a8e4-9dca7f0d8558",
   "metadata": {},
   "source": [
    "(1차원) `len` 함수가 잘 동작함. "
   ]
  },
  {
   "cell_type": "code",
   "execution_count": 213,
   "id": "d1076f5c-3279-4609-8b31-2b5dcd4ac892",
   "metadata": {},
   "outputs": [
    {
     "data": {
      "text/plain": [
       "4"
      ]
     },
     "execution_count": 213,
     "metadata": {},
     "output_type": "execute_result"
    }
   ],
   "source": [
    "a='3.14'\n",
    "len(a)"
   ]
  },
  {
   "cell_type": "code",
   "execution_count": 214,
   "id": "3d4e37b7-2ba9-435b-a2e2-5668b9786b62",
   "metadata": {},
   "outputs": [],
   "source": [
    "b=[1,2,3]"
   ]
  },
  {
   "cell_type": "code",
   "execution_count": 215,
   "id": "6fbda7b5-ca01-43dd-8b9b-4f889d2b6be0",
   "metadata": {},
   "outputs": [
    {
     "data": {
      "text/plain": [
       "3"
      ]
     },
     "execution_count": 215,
     "metadata": {},
     "output_type": "execute_result"
    }
   ],
   "source": [
    "len(b)"
   ]
  },
  {
   "cell_type": "markdown",
   "id": "af3ae773-be60-41c5-a901-9993e31321ca",
   "metadata": {},
   "source": [
    "## 4. 숙제"
   ]
  },
  {
   "cell_type": "markdown",
   "id": "3da339f7-d03f-4e22-9f1e-ec286b4f4e04",
   "metadata": {},
   "source": [
    "`1`. 아래와 같은 문자열이 있다고 하자."
   ]
  },
  {
   "cell_type": "code",
   "execution_count": 26,
   "id": "4cda11c7-d997-40e5-be9e-916a73380ee5",
   "metadata": {},
   "outputs": [
    {
     "data": {
      "text/plain": [
       "'Jeonbuk National University'"
      ]
     },
     "execution_count": 26,
     "metadata": {},
     "output_type": "execute_result"
    }
   ],
   "source": [
    "a = 'Jeonbuk National University'\n",
    "a"
   ]
  },
  {
   "cell_type": "markdown",
   "id": "e83e499e-ac92-43dd-945c-bda0a294e361",
   "metadata": {},
   "source": [
    "적당한 인덱싱을 통하여 출력결과가 아래와 같도록 하라."
   ]
  },
  {
   "cell_type": "code",
   "execution_count": 19,
   "id": "4b47508d-3c35-470a-9a89-4272ebea6ed3",
   "metadata": {},
   "outputs": [
    {
     "data": {
      "text/plain": [
       "'University'"
      ]
     },
     "execution_count": 19,
     "metadata": {},
     "output_type": "execute_result"
    }
   ],
   "source": [
    "'University'"
   ]
  },
  {
   "cell_type": "markdown",
   "id": "aa6782e1-b868-434b-a858-6faac1df6f96",
   "metadata": {},
   "source": [
    "* hint: University는 10글자이다."
   ]
  },
  {
   "cell_type": "markdown",
   "id": "c5ddf136-1c3b-4449-95a5-d03d6cf9a597",
   "metadata": {},
   "source": [
    "`2`. 아래와 같은 문자열이 있다고 하자."
   ]
  },
  {
   "cell_type": "code",
   "execution_count": 25,
   "id": "ecc0b231-a375-4035-aadb-ea9cf3f8b4b8",
   "metadata": {},
   "outputs": [
    {
     "data": {
      "text/plain": [
       "'ASDF'"
      ]
     },
     "execution_count": 25,
     "metadata": {},
     "output_type": "execute_result"
    }
   ],
   "source": [
    "a = 'ASDF'\n",
    "a"
   ]
  },
  {
   "cell_type": "markdown",
   "id": "bca8e46e-beb1-47e3-b046-4f45f34652c0",
   "metadata": {},
   "source": [
    "출력결과가 아래와 같도록 하는 코드를 작성하라. (lower 함수를 이용할 것)"
   ]
  },
  {
   "cell_type": "code",
   "execution_count": 21,
   "id": "aed605d5-dfe0-440c-8426-b33479ee477d",
   "metadata": {},
   "outputs": [
    {
     "data": {
      "text/plain": [
       "'asdf'"
      ]
     },
     "execution_count": 21,
     "metadata": {},
     "output_type": "execute_result"
    }
   ],
   "source": [
    "'asdf'"
   ]
  },
  {
   "cell_type": "markdown",
   "id": "42e6b3ca-0cb6-4e24-acd7-7ad9a32933ff",
   "metadata": {},
   "source": [
    "`3`. 아래와 같은 문자열을 고려하라. "
   ]
  },
  {
   "cell_type": "code",
   "execution_count": 24,
   "id": "da44badd-39b2-4c3f-9cbf-3f8316b49276",
   "metadata": {},
   "outputs": [
    {
     "data": {
      "text/plain": [
       "'2021. 01. 05.'"
      ]
     },
     "execution_count": 24,
     "metadata": {},
     "output_type": "execute_result"
    }
   ],
   "source": [
    "a = '2021. 01. 05.'\n",
    "a"
   ]
  },
  {
   "cell_type": "markdown",
   "id": "55681977-0a4c-4971-9838-1a15e9f90d29",
   "metadata": {},
   "source": [
    "띄어쓰기를 제거하는 코드를 구현하라. 즉 출력결과가 아래와 같도록 만드는 코드를 구현하라. (`.replace()` 를 이용할 것)"
   ]
  },
  {
   "cell_type": "code",
   "execution_count": 23,
   "id": "5ac02567-0d56-4dc9-9f2a-5b6bbac8836a",
   "metadata": {},
   "outputs": [
    {
     "data": {
      "text/plain": [
       "'2021.01.05.'"
      ]
     },
     "execution_count": 23,
     "metadata": {},
     "output_type": "execute_result"
    }
   ],
   "source": [
    "'2021.01.05.'"
   ]
  }
 ],
 "metadata": {
  "kernelspec": {
   "display_name": "Python 3 (ipykernel)",
   "language": "python",
   "name": "python3"
  },
  "language_info": {
   "codemirror_mode": {
    "name": "ipython",
    "version": 3
   },
   "file_extension": ".py",
   "mimetype": "text/x-python",
   "name": "python",
   "nbconvert_exporter": "python",
   "pygments_lexer": "ipython3",
   "version": "3.13.2"
  }
 },
 "nbformat": 4,
 "nbformat_minor": 5
}
