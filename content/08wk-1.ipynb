{
 "cells": [
  {
   "cell_type": "raw",
   "id": "74e1b404-54b4-4ad6-b8a4-8def4cacc482",
   "metadata": {
    "vscode": {
     "languageId": "raw"
    }
   },
   "source": [
    "---\n",
    "title: \"08wk-1: [Python] -- 네오와 프로도, 딕셔너리를 이용한 치환\"\n",
    "author: \"최규빈\"\n",
    "date: \"04/21/2025\"\n",
    "draft: false\n",
    "---"
   ]
  },
  {
   "cell_type": "code",
   "execution_count": 183,
   "id": "409b95c5-427e-4c59-b0e6-01c5242a7e4f",
   "metadata": {},
   "outputs": [],
   "source": [
    "# {{<video https://youtu.be/playlist?list=PLQqh36zP38-xlMJPOl9X5hXk3uG40e_3y&si=zTAWSTEEvACV1X_9>}}"
   ]
  },
  {
   "cell_type": "markdown",
   "id": "5213bba6-bd41-454f-b52d-aa58700fc62b",
   "metadata": {
    "tags": []
   },
   "source": [
    "## 1. 네오와 프로도"
   ]
  },
  {
   "cell_type": "markdown",
   "id": "16b9555e-1cd4-44a8-9ddb-567e74a2e414",
   "metadata": {},
   "source": [
    "> 카카오 채용연계형 인턴쉽 기출문제"
   ]
  },
  {
   "cell_type": "markdown",
   "id": "007f9721-7fba-42dc-a744-dcb1d7ec55d4",
   "metadata": {},
   "source": [
    "ref: <https://school.programmers.co.kr/learn/courses/30/lessons/81301?language=python3>"
   ]
  },
  {
   "cell_type": "markdown",
   "id": "0525b489-047f-43cd-b089-edf31f713205",
   "metadata": {},
   "source": [
    "네오와 프로도가 숫자놀이를 하고 있습니다. 네오가 프로도에게 숫자를 건넬 때 일부 자릿수를 영단어로 바꾼 카드를 건네주면 프로도는 원래 숫자를 찾는 게임입니다. 다음은 숫자의 일부 자릿수를 영단어로 바꾸는 예시입니다.\n",
    "\n",
    "```\n",
    "1478 --> \"one4seveneight\"\n",
    "234567 --> \"23four5six7\"\n",
    "10203 --> \"1zerotwozero3\"\n",
    "```\n",
    "\n",
    "이렇게 숫자의 일부 자릿수가 영단어로 바뀌어졌거나, 혹은 바뀌지 않고 그대로인 문자열 s가 매개변수로 주어집니다. s가 의미하는 원래 숫자를 return 하도록 `solution` 함수를 완성해주세요.\n",
    "\n",
    "참고로 각 숫자에 대응되는 영단어는 다음 표와 같습니다.\n",
    "\n",
    "|숫자| 영단어|\n",
    "|:-:|:-:|\n",
    "|0|\tzero|\n",
    "|1|\tone|\n",
    "|2|\ttwo|\n",
    "|3|\tthree|\n",
    "|4|\tfour|\n",
    "|5|\tfive|\n",
    "|6|\tsix|\n",
    "|7|\tseven|\n",
    "|8|\teight|\n",
    "|9|\tnine|\n",
    "\n",
    "`-` 제한사항\n",
    "\n",
    "- 1 ≤ s의 길이 ≤ 50\n",
    "- s가 \"zero\" 또는 \"0\"으로 시작하는 경우는 주어지지 않습니다.\n",
    "- return 값이 1 이상 2,000,000,000 이하의 정수가 되는 올바른 입력만 s로 주어집니다.\n",
    "\n",
    "\n",
    "`-` 입출력 예\n",
    "\n",
    "|s|result|\n",
    "|:-:|:-:\n",
    "|\"one4seveneight\"|\t1478|\n",
    "|\"23four5six7\"|\t234567|\n",
    "|\"2three45sixseven\"| 234567|\n",
    "|\"123\"|\t123|\n",
    "\n",
    "`-` 입출력 예 설명\n",
    "\n",
    "- 입출력 예 #1 -- 문제 예시와 같습니다.\n",
    "- 입출력 예 #2 -- 문제 예시와 같습니다.\n",
    "- 입출력 예 #3 -- \"three\"는 3, \"six\"는 6, \"seven\"은 7에 대응되기 때문에 정답은 입출력 예 #2와 같은 234567이 됩니다. 입출력 예 #2와 #3과 같이 같은 정답을 가리키는 문자열이 여러 가지가 나올 수 있습니다.\n",
    "- 입출력 예 #4 -- s에는 영단어로 바뀐 부분이 없습니다."
   ]
  },
  {
   "cell_type": "markdown",
   "id": "8a514fa0-7970-44d0-9032-46df4a4593ab",
   "metadata": {},
   "source": [
    "`(풀이)`"
   ]
  },
  {
   "cell_type": "code",
   "execution_count": 184,
   "id": "821196d6-cbed-4adc-a1b2-e4c94fa0fa43",
   "metadata": {},
   "outputs": [],
   "source": [
    "def solution(s):\n",
    "    dct = {\n",
    "        'zero': '0',\n",
    "        'one': '1',\n",
    "        'two': '2',\n",
    "        'three': '3',\n",
    "        'four': '4',\n",
    "        'five': '5',\n",
    "        'six': '6',\n",
    "        'seven': '7',\n",
    "        'eight': '8',\n",
    "        'nine': '9'\n",
    "    }\n",
    "    for k,v in dct.items():\n",
    "        s = s.replace(k,v)    \n",
    "    return s "
   ]
  },
  {
   "cell_type": "code",
   "execution_count": 185,
   "id": "cd0bbfb2-dcaa-4b74-82f9-53d74ccbe0d7",
   "metadata": {},
   "outputs": [
    {
     "data": {
      "text/plain": [
       "'1478'"
      ]
     },
     "execution_count": 185,
     "metadata": {},
     "output_type": "execute_result"
    }
   ],
   "source": [
    "solution(\"one4seveneight\")"
   ]
  },
  {
   "cell_type": "code",
   "execution_count": 186,
   "id": "5358ed1b-1304-433f-85c6-939dcc966d60",
   "metadata": {},
   "outputs": [
    {
     "data": {
      "text/plain": [
       "'234567'"
      ]
     },
     "execution_count": 186,
     "metadata": {},
     "output_type": "execute_result"
    }
   ],
   "source": [
    "solution(\"23four5six7\")"
   ]
  },
  {
   "cell_type": "code",
   "execution_count": 187,
   "id": "7268956e-6921-4394-a3c5-01f9f6afb1a0",
   "metadata": {},
   "outputs": [
    {
     "data": {
      "text/plain": [
       "'234567'"
      ]
     },
     "execution_count": 187,
     "metadata": {},
     "output_type": "execute_result"
    }
   ],
   "source": [
    "solution(\"2three45sixseven\")"
   ]
  },
  {
   "cell_type": "code",
   "execution_count": 188,
   "id": "edba14f3-987e-474c-b22b-2d91ffe3c0b7",
   "metadata": {},
   "outputs": [
    {
     "data": {
      "text/plain": [
       "'123'"
      ]
     },
     "execution_count": 188,
     "metadata": {},
     "output_type": "execute_result"
    }
   ],
   "source": [
    "solution(\"123\")"
   ]
  },
  {
   "cell_type": "markdown",
   "id": "51c70e57-590e-4b82-a411-f86c0dd44bbc",
   "metadata": {},
   "source": [
    "## 2. 딕셔너리를 이용한 치환 ($\\star$)"
   ]
  },
  {
   "cell_type": "markdown",
   "id": "4a90aa07-e03f-41cc-bc3e-423c35a978ee",
   "metadata": {},
   "source": [
    "`# 예제1` -- 아래와 같은 리스트를 고려하자. "
   ]
  },
  {
   "cell_type": "code",
   "execution_count": 189,
   "id": "81c871af-b683-43e1-8ddc-38f307f6be99",
   "metadata": {},
   "outputs": [],
   "source": [
    "lst = ['딸기','사과','바나나','딸기','사과','오토바이','자동차','버스','기차','오토바이','자동차']"
   ]
  },
  {
   "cell_type": "markdown",
   "id": "61608b26-e682-437f-aef8-95bf8d7bc20b",
   "metadata": {},
   "source": [
    "다음의 맵핑규칙에 따라서 위의 리스트의 원소를 바꾸어라. "
   ]
  },
  {
   "cell_type": "markdown",
   "id": "49dee4cf-8320-4830-a717-e16edd0dd1ca",
   "metadata": {},
   "source": [
    "|변환전|변환후|\n",
    "|:-:|:-:|\n",
    "|딸기|과일|\n",
    "|사과|과일|\n",
    "|바나나|과일|\n",
    "|오토바이|탈것|\n",
    "|자동차|탈것|\n",
    "|버스|탈것|\n",
    "|기차|탈것|"
   ]
  },
  {
   "cell_type": "markdown",
   "id": "93d88ca9-d7df-4dc9-beee-7446c92e63d4",
   "metadata": {},
   "source": [
    "`(풀이1)` -- `elif`를 사용"
   ]
  },
  {
   "cell_type": "code",
   "execution_count": 190,
   "id": "c974e46d-5b52-44b7-9514-bdbcd4d1344e",
   "metadata": {},
   "outputs": [],
   "source": [
    "lst2 = []\n",
    "for l in lst:\n",
    "    if l=='딸기':\n",
    "        lst2.append('과일')\n",
    "    elif l=='사과':\n",
    "        lst2.append('과일')\n",
    "    elif l=='바나나':\n",
    "        lst2.append('과일')\n",
    "    elif l=='오토바이':\n",
    "        lst2.append('탈것')\n",
    "    elif l=='자동차':\n",
    "        lst2.append('탈것')\n",
    "    elif l=='버스':\n",
    "        lst2.append('탈것')\n",
    "    else:\n",
    "        lst2.append('탈것')        "
   ]
  },
  {
   "cell_type": "code",
   "execution_count": 191,
   "id": "d768a2b8-8008-4f17-99a1-675ff961f134",
   "metadata": {},
   "outputs": [
    {
     "data": {
      "text/plain": [
       "(['딸기', '사과', '바나나', '딸기', '사과', '오토바이', '자동차', '버스', '기차', '오토바이', '자동차'],\n",
       " ['과일', '과일', '과일', '과일', '과일', '탈것', '탈것', '탈것', '탈것', '탈것', '탈것'])"
      ]
     },
     "execution_count": 191,
     "metadata": {},
     "output_type": "execute_result"
    }
   ],
   "source": [
    "lst,lst2"
   ]
  },
  {
   "cell_type": "markdown",
   "id": "5f009b56-a571-4d86-a957-ea07e10874be",
   "metadata": {},
   "source": [
    "`(풀이2)` -- dct사용1"
   ]
  },
  {
   "cell_type": "code",
   "execution_count": 192,
   "id": "786f5e09-6e47-44c9-88b7-cc91af8d1204",
   "metadata": {},
   "outputs": [
    {
     "data": {
      "text/plain": [
       "{'딸기': '과일',\n",
       " '사과': '과일',\n",
       " '바나나': '과일',\n",
       " '오토바이': '탈것',\n",
       " '자동차': '탈것',\n",
       " '버스': '탈것',\n",
       " '기차': '탈것'}"
      ]
     },
     "execution_count": 192,
     "metadata": {},
     "output_type": "execute_result"
    }
   ],
   "source": [
    "dct = {'딸기':'과일','사과':'과일','바나나':'과일','오토바이':'탈것','자동차':'탈것','버스':'탈것','기차':'탈것'}\n",
    "dct"
   ]
  },
  {
   "cell_type": "code",
   "execution_count": 193,
   "id": "ca1a3278-c60f-467d-ad32-9f44c1d2db8a",
   "metadata": {},
   "outputs": [
    {
     "data": {
      "text/plain": [
       "['과일', '과일', '과일', '과일', '과일', '탈것', '탈것', '탈것', '탈것', '탈것', '탈것']"
      ]
     },
     "execution_count": 193,
     "metadata": {},
     "output_type": "execute_result"
    }
   ],
   "source": [
    "[dct[l] for l in lst]"
   ]
  },
  {
   "cell_type": "markdown",
   "id": "a0757a2e-5c2e-479e-8145-d18a271dfc7a",
   "metadata": {},
   "source": [
    "`(풀이3)` -- dct사용2"
   ]
  },
  {
   "cell_type": "code",
   "execution_count": 194,
   "id": "d09acc96-4867-49c0-ad3c-933919c8db94",
   "metadata": {},
   "outputs": [
    {
     "data": {
      "text/plain": [
       "{'과일': ['딸기', '사과', '바나나'], '탈것': ['오토바이', '자동차', '버스', '기차']}"
      ]
     },
     "execution_count": 194,
     "metadata": {},
     "output_type": "execute_result"
    }
   ],
   "source": [
    "dct = {'과일':['딸기','사과','바나나'], '탈것':['오토바이','자동차','버스','기차']}\n",
    "dct"
   ]
  },
  {
   "cell_type": "code",
   "execution_count": 195,
   "id": "73ff5d25-4bdb-457d-ad4a-39dc3c2e387b",
   "metadata": {},
   "outputs": [
    {
     "data": {
      "text/plain": [
       "['딸기', '사과', '바나나', '딸기', '사과', '오토바이', '자동차', '버스', '기차', '오토바이', '자동차']"
      ]
     },
     "execution_count": 195,
     "metadata": {},
     "output_type": "execute_result"
    }
   ],
   "source": [
    "lst"
   ]
  },
  {
   "cell_type": "code",
   "execution_count": 196,
   "id": "f59373da-9caf-4149-a68c-1ebcf4f419c1",
   "metadata": {},
   "outputs": [
    {
     "data": {
      "text/plain": [
       "['과일', '과일', '과일', '과일', '과일', '탈것', '탈것', '탈것', '탈것', '탈것', '탈것']"
      ]
     },
     "execution_count": 196,
     "metadata": {},
     "output_type": "execute_result"
    }
   ],
   "source": [
    "[k for l in lst for k in dct if l in dct[k]]"
   ]
  },
  {
   "cell_type": "markdown",
   "id": "82f38fc8-b2c8-47f3-acd5-482ea2f13f6b",
   "metadata": {},
   "source": [
    "`#`"
   ]
  }
 ],
 "metadata": {
  "kernelspec": {
   "display_name": "Python 3 (ipykernel)",
   "language": "python",
   "name": "python3"
  },
  "language_info": {
   "codemirror_mode": {
    "name": "ipython",
    "version": 3
   },
   "file_extension": ".py",
   "mimetype": "text/x-python",
   "name": "python",
   "nbconvert_exporter": "python",
   "pygments_lexer": "ipython3",
   "version": "3.13.2"
  }
 },
 "nbformat": 4,
 "nbformat_minor": 5
}
