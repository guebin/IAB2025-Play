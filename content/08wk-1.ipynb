{
 "cells": [
  {
   "cell_type": "raw",
   "id": "74e1b404-54b4-4ad6-b8a4-8def4cacc482",
   "metadata": {
    "vscode": {
     "languageId": "raw"
    }
   },
   "source": [
    "---\n",
    "title: \"08wk-1: [Python] -- 네오와 프로도, 딕셔너리를 이용한 치환 // 숙제\"\n",
    "author: \"최규빈\"\n",
    "date: \"04/22/2025\"\n",
    "draft: false\n",
    "---"
   ]
  },
  {
   "cell_type": "markdown",
   "id": "c3498e1b-f22e-4620-9005-1c829c819f9d",
   "metadata": {},
   "source": [
    "{{<video https://youtu.be/playlist?list=PLQqh36zP38-yFRHsInL2QwR65X9mha4eQ&si=oob_5p7HBE80_2rN>}}"
   ]
  },
  {
   "cell_type": "markdown",
   "id": "07753d9c-437c-4c9c-9ace-f60873d40704",
   "metadata": {
    "tags": []
   },
   "source": [
    "## 1. 네오와 프로도"
   ]
  },
  {
   "cell_type": "markdown",
   "id": "6d6c62e0-dcff-4810-b9f1-413b6e9c5cbf",
   "metadata": {},
   "source": [
    "> 카카오 채용연계형 인턴쉽 기출문제"
   ]
  },
  {
   "cell_type": "markdown",
   "id": "9cb735b0-300f-4a82-b310-7ea960a73733",
   "metadata": {},
   "source": [
    "ref: <https://school.programmers.co.kr/learn/courses/30/lessons/81301?language=python3>"
   ]
  },
  {
   "cell_type": "markdown",
   "id": "2528743e-c8d8-4b57-81bb-1b572850ea6a",
   "metadata": {},
   "source": [
    "네오와 프로도가 숫자놀이를 하고 있습니다. 네오가 프로도에게 숫자를 건넬 때 일부 자릿수를 영단어로 바꾼 카드를 건네주면 프로도는 원래 숫자를 찾는 게임입니다. 다음은 숫자의 일부 자릿수를 영단어로 바꾸는 예시입니다.\n",
    "\n",
    "```\n",
    "1478 --> \"one4seveneight\"\n",
    "234567 --> \"23four5six7\"\n",
    "10203 --> \"1zerotwozero3\"\n",
    "```\n",
    "\n",
    "이렇게 숫자의 일부 자릿수가 영단어로 바뀌어졌거나, 혹은 바뀌지 않고 그대로인 문자열 s가 매개변수로 주어집니다. s가 의미하는 원래 숫자를 return 하도록 `solution` 함수를 완성해주세요.\n",
    "\n",
    "참고로 각 숫자에 대응되는 영단어는 다음 표와 같습니다.\n",
    "\n",
    "|숫자| 영단어|\n",
    "|:-:|:-:|\n",
    "|0|\tzero|\n",
    "|1|\tone|\n",
    "|2|\ttwo|\n",
    "|3|\tthree|\n",
    "|4|\tfour|\n",
    "|5|\tfive|\n",
    "|6|\tsix|\n",
    "|7|\tseven|\n",
    "|8|\teight|\n",
    "|9|\tnine|\n",
    "\n",
    "`-` 제한사항\n",
    "\n",
    "- 1 ≤ s의 길이 ≤ 50\n",
    "- s가 \"zero\" 또는 \"0\"으로 시작하는 경우는 주어지지 않습니다.\n",
    "- return 값이 1 이상 2,000,000,000 이하의 정수가 되는 올바른 입력만 s로 주어집니다.\n",
    "\n",
    "\n",
    "`-` 입출력 예\n",
    "\n",
    "|s|result|\n",
    "|:-:|:-:\n",
    "|\"one4seveneight\"|\t1478|\n",
    "|\"23four5six7\"|\t234567|\n",
    "|\"2three45sixseven\"| 234567|\n",
    "|\"123\"|\t123|\n",
    "\n",
    "`-` 입출력 예 설명\n",
    "\n",
    "- 입출력 예 #1 -- 문제 예시와 같습니다.\n",
    "- 입출력 예 #2 -- 문제 예시와 같습니다.\n",
    "- 입출력 예 #3 -- \"three\"는 3, \"six\"는 6, \"seven\"은 7에 대응되기 때문에 정답은 입출력 예 #2와 같은 234567이 됩니다. 입출력 예 #2와 #3과 같이 같은 정답을 가리키는 문자열이 여러 가지가 나올 수 있습니다.\n",
    "- 입출력 예 #4 -- s에는 영단어로 바뀐 부분이 없습니다."
   ]
  },
  {
   "cell_type": "markdown",
   "id": "1e2b5427-622a-4727-8db7-84b0b5c126e8",
   "metadata": {},
   "source": [
    "`(풀이)`"
   ]
  },
  {
   "cell_type": "code",
   "execution_count": 53,
   "id": "3b80acd6-1113-4f61-a47c-27d7c9088eec",
   "metadata": {},
   "outputs": [],
   "source": [
    "def solution(s):\n",
    "    dct = {\n",
    "        \"one\":\"1\",\n",
    "        \"two\":\"2\",\n",
    "        \"three\":\"3\",\n",
    "        \"four\":\"4\",\n",
    "        \"five\":\"5\",\n",
    "        \"six\":\"6\",\n",
    "        \"seven\":\"7\",\n",
    "        \"eight\":\"8\",\n",
    "        \"nine\":\"9\",\n",
    "        \"zero\":\"0\",\n",
    "    }    \n",
    "    for k,v in dct.items():\n",
    "        s = s.replace(k,v)\n",
    "    return int(s)    "
   ]
  },
  {
   "cell_type": "code",
   "execution_count": 54,
   "id": "72791c04-c09b-48a8-b934-cfa0d780300f",
   "metadata": {},
   "outputs": [
    {
     "data": {
      "text/plain": [
       "1478"
      ]
     },
     "execution_count": 54,
     "metadata": {},
     "output_type": "execute_result"
    }
   ],
   "source": [
    "solution(\"one4seveneight\")"
   ]
  },
  {
   "cell_type": "code",
   "execution_count": 55,
   "id": "ef9dc303-e710-4679-bf32-30aa4139b48d",
   "metadata": {},
   "outputs": [
    {
     "data": {
      "text/plain": [
       "123"
      ]
     },
     "execution_count": 55,
     "metadata": {},
     "output_type": "execute_result"
    }
   ],
   "source": [
    "solution(\"123\")"
   ]
  },
  {
   "cell_type": "markdown",
   "id": "84ee3e46-ade2-463a-a9ea-0ddf8c4b6ed2",
   "metadata": {},
   "source": [
    "## 2. 딕셔너리를 이용한 치환 ($\\star$)"
   ]
  },
  {
   "cell_type": "markdown",
   "id": "834f99c8-af93-4273-bd25-2a84f3e66d8c",
   "metadata": {},
   "source": [
    "`# 예제` -- 아래와 같은 리스트를 고려하자. "
   ]
  },
  {
   "cell_type": "code",
   "execution_count": 56,
   "id": "738fd9ff-71c8-409c-a1f9-5090951c5a79",
   "metadata": {},
   "outputs": [],
   "source": [
    "lst = ['딸기','사과','바나나','딸기','사과','오토바이','자동차','버스','기차','오토바이','자동차']"
   ]
  },
  {
   "cell_type": "markdown",
   "id": "2abd2393-e09b-4f26-881a-ac6ac4064dfd",
   "metadata": {},
   "source": [
    "다음의 맵핑규칙에 따라서 위의 리스트의 원소를 바꾸어라. "
   ]
  },
  {
   "cell_type": "markdown",
   "id": "ff887674-1571-4434-8089-aa8ac4795aa7",
   "metadata": {},
   "source": [
    "|변환전|변환후|\n",
    "|:-:|:-:|\n",
    "|딸기|과일|\n",
    "|사과|과일|\n",
    "|바나나|과일|\n",
    "|오토바이|탈것|\n",
    "|자동차|탈것|\n",
    "|버스|탈것|\n",
    "|기차|탈것|"
   ]
  },
  {
   "cell_type": "markdown",
   "id": "a12a4d50-504d-4b9a-b0b7-fb1abe891c4f",
   "metadata": {},
   "source": [
    "`(풀이1)` -- `elif`를 사용"
   ]
  },
  {
   "cell_type": "code",
   "execution_count": 57,
   "id": "f7be9cb6-2433-446d-b1a5-082a4b07fda3",
   "metadata": {},
   "outputs": [],
   "source": [
    "lst2 = []\n",
    "for l in lst:\n",
    "    if l=='딸기':\n",
    "        lst2.append('과일')\n",
    "    elif l=='사과':\n",
    "        lst2.append('과일')\n",
    "    elif l=='바나나':\n",
    "        lst2.append('과일')\n",
    "    elif l=='오토바이':\n",
    "        lst2.append('탈것')\n",
    "    elif l=='자동차':\n",
    "        lst2.append('탈것')\n",
    "    elif l=='버스':\n",
    "        lst2.append('탈것')\n",
    "    else:\n",
    "        lst2.append('탈것')        "
   ]
  },
  {
   "cell_type": "code",
   "execution_count": 58,
   "id": "999c8df6-e6c2-4efb-8752-e605aa5e5c93",
   "metadata": {},
   "outputs": [
    {
     "data": {
      "text/plain": [
       "(['딸기', '사과', '바나나', '딸기', '사과', '오토바이', '자동차', '버스', '기차', '오토바이', '자동차'],\n",
       " ['과일', '과일', '과일', '과일', '과일', '탈것', '탈것', '탈것', '탈것', '탈것', '탈것'])"
      ]
     },
     "execution_count": 58,
     "metadata": {},
     "output_type": "execute_result"
    }
   ],
   "source": [
    "lst,lst2"
   ]
  },
  {
   "cell_type": "markdown",
   "id": "7a3cabd8-e4f7-4dd5-92f1-e38503e2d49b",
   "metadata": {},
   "source": [
    "`(풀이2)` -- dct사용1"
   ]
  },
  {
   "cell_type": "code",
   "execution_count": 63,
   "id": "205fbd80-aece-4794-9f2c-ec93b9aaedf0",
   "metadata": {},
   "outputs": [],
   "source": [
    "dct = {'딸기':'과일', '사과':'과일', '바나나':'과일', '오토바이':'탈것', '자동차':'탈것', '버스':'탈것', '기차':'탈것'}"
   ]
  },
  {
   "cell_type": "code",
   "execution_count": 70,
   "id": "905a91c8-0757-4214-bb45-ad78242c2005",
   "metadata": {},
   "outputs": [
    {
     "data": {
      "text/plain": [
       "['과일', '과일', '과일', '과일', '과일', '탈것', '탈것', '탈것', '탈것', '탈것', '탈것']"
      ]
     },
     "execution_count": 70,
     "metadata": {},
     "output_type": "execute_result"
    }
   ],
   "source": [
    "lst2 = [dct[l] for l in lst]\n",
    "lst2"
   ]
  },
  {
   "cell_type": "markdown",
   "id": "2a75d3c4-8abe-4257-8cf2-5629b8c5bbe5",
   "metadata": {},
   "source": [
    "`(풀이3)` -- dct사용2"
   ]
  },
  {
   "cell_type": "code",
   "execution_count": 75,
   "id": "0036ad5b-db8f-4ada-867e-da20ee95b598",
   "metadata": {},
   "outputs": [
    {
     "data": {
      "text/plain": [
       "['딸기', '사과', '바나나']"
      ]
     },
     "execution_count": 75,
     "metadata": {},
     "output_type": "execute_result"
    }
   ],
   "source": [
    "dct = {'탈것': ['오토바이', '자동차', '버스', '기차'], '과일':['딸기','사과','바나나']}\n",
    "dct['과일']"
   ]
  },
  {
   "cell_type": "code",
   "execution_count": 90,
   "id": "fc989021-c925-46ae-8ccb-a6d59d7eeb0f",
   "metadata": {},
   "outputs": [],
   "source": [
    "lst2 = [k for l in lst for k,v in dct.items() if l in v]"
   ]
  },
  {
   "cell_type": "code",
   "execution_count": 93,
   "id": "1e133cc2-05d1-486c-80f1-a4029d7cd963",
   "metadata": {},
   "outputs": [
    {
     "data": {
      "text/plain": [
       "(['딸기', '사과', '바나나', '딸기', '사과', '오토바이', '자동차', '버스', '기차', '오토바이', '자동차'],\n",
       " ['과일', '과일', '과일', '과일', '과일', '탈것', '탈것', '탈것', '탈것', '탈것', '탈것'])"
      ]
     },
     "execution_count": 93,
     "metadata": {},
     "output_type": "execute_result"
    }
   ],
   "source": [
    "lst, lst2"
   ]
  },
  {
   "cell_type": "markdown",
   "id": "6c638dc9-dee1-4014-80b7-778c40dba2dd",
   "metadata": {},
   "source": [
    "`#`"
   ]
  },
  {
   "cell_type": "markdown",
   "id": "3e10b491-aa79-4937-a4a4-c8ded604f7f5",
   "metadata": {},
   "source": [
    "## 3. 숙제"
   ]
  },
  {
   "cell_type": "markdown",
   "id": "922fbe3c-4b44-4fe3-b6f0-bb93dda62e7e",
   "metadata": {},
   "source": [
    "아래와 같은 리스트가 있다고 하자. "
   ]
  },
  {
   "cell_type": "code",
   "execution_count": 210,
   "id": "76c036e9-b06f-4924-b649-63fe7b50519a",
   "metadata": {},
   "outputs": [
    {
     "data": {
      "text/plain": [
       "['a', 'b', 'c', 'd', 'a', 'b', 'c', 'd', 'b', 'b', 'b']"
      ]
     },
     "execution_count": 210,
     "metadata": {},
     "output_type": "execute_result"
    }
   ],
   "source": [
    "lst = list('abcd'*2+'bbb')\n",
    "lst"
   ]
  },
  {
   "cell_type": "markdown",
   "id": "884ff657-2245-442f-a99f-99c7ccf2a1ad",
   "metadata": {},
   "source": [
    "`(1)` 아래의 규칙에 의하여 lst의 각 원소의 값을 바꾸고 싶다고 하자. 이를 구현하는 코드를 작성하라. "
   ]
  },
  {
   "cell_type": "markdown",
   "id": "217744cb-95ee-4644-9954-33d74113f341",
   "metadata": {},
   "source": [
    "|변환전|변환후|\n",
    "|:-:|:-:|\n",
    "|'a'|[1,0,0,0]|\n",
    "|'b'|[0,1,0,0]|\n",
    "|'c'|[0,0,1,0]|\n",
    "|'d'|[0,0,0,1]|"
   ]
  },
  {
   "cell_type": "markdown",
   "id": "460d9b23-dd73-4c6c-a60e-acdd064aea9f",
   "metadata": {},
   "source": [
    "`(2)` (1)을 역변환하라. 즉 아래의 리스트를 "
   ]
  },
  {
   "cell_type": "code",
   "execution_count": 213,
   "id": "06b43fe6-4ea7-432b-b594-b1201e0f86e2",
   "metadata": {},
   "outputs": [],
   "source": [
    "lst2= [\n",
    "    [1, 0, 0, 0],\n",
    "    [0, 1, 0, 0],\n",
    "    [0, 0, 1, 0],\n",
    "    [0, 0, 0, 1],\n",
    "    [1, 0, 0, 0],\n",
    "    [0, 1, 0, 0],\n",
    "    [0, 0, 1, 0],\n",
    "    [0, 0, 0, 1],\n",
    "    [0, 1, 0, 0],\n",
    "    [0, 1, 0, 0],\n",
    "    [0, 1, 0, 0]\n",
    "]"
   ]
  },
  {
   "cell_type": "markdown",
   "id": "cf151fb1-4fce-4816-8843-c5c66986471d",
   "metadata": {},
   "source": [
    "아래와 같이 바꾸라. "
   ]
  },
  {
   "cell_type": "code",
   "execution_count": 214,
   "id": "0c21a13b-c8d7-46f3-87a1-399b24b22661",
   "metadata": {},
   "outputs": [
    {
     "data": {
      "text/plain": [
       "['a', 'b', 'c', 'd', 'a', 'b', 'c', 'd', 'b', 'b', 'b']"
      ]
     },
     "execution_count": 214,
     "metadata": {},
     "output_type": "execute_result"
    }
   ],
   "source": [
    "lst"
   ]
  }
 ],
 "metadata": {
  "kernelspec": {
   "display_name": "Python 3 (ipykernel)",
   "language": "python",
   "name": "python3"
  },
  "language_info": {
   "codemirror_mode": {
    "name": "ipython",
    "version": 3
   },
   "file_extension": ".py",
   "mimetype": "text/x-python",
   "name": "python",
   "nbconvert_exporter": "python",
   "pygments_lexer": "ipython3",
   "version": "3.13.2"
  }
 },
 "nbformat": 4,
 "nbformat_minor": 5
}
