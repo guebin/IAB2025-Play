{
 "cells": [
  {
   "cell_type": "raw",
   "id": "d44a19a2-698c-4060-b699-eb1a3adc75f9",
   "metadata": {
    "vscode": {
     "languageId": "raw"
    }
   },
   "source": [
    "---\n",
    "title: \"11wk-2: [DataFrame] -- 타이타닉, Pandas 문법 (1)\"\n",
    "author: \"최규빈\"\n",
    "date: \"05/15/2025\"\n",
    "draft: false\n",
    "---"
   ]
  },
  {
   "cell_type": "code",
   "execution_count": 96,
   "id": "5c7b1f8d-7d85-42a4-8f68-85203111845c",
   "metadata": {},
   "outputs": [],
   "source": [
    "import pandas as pd\n",
    "import numpy as np\n",
    "import matplotlib.pyplot as plt"
   ]
  },
  {
   "cell_type": "markdown",
   "id": "0792ebe1-1ac4-4426-8999-75870ebaac4c",
   "metadata": {},
   "source": [
    "## 타이타닉"
   ]
  },
  {
   "cell_type": "markdown",
   "id": "d0bd6391-7de1-414a-b65a-e20489a91a06",
   "metadata": {},
   "source": [
    "### A. 영화 "
   ]
  },
  {
   "cell_type": "markdown",
   "id": "74e68350-5626-491d-8267-c229afb6e7ee",
   "metadata": {},
   "source": [
    "![](https://i.namu.wiki/i/NvEDz4YsYDjJ9jYS4K7qv8Eo5rkAEvX5MbZ72SrvdseDvrKwpYS0SN9CvH4DfEQR9SMLXtSZBo3-LXCgFnUFwSt2GIbhp1RiwdpxuOjrIVIXNpK9e6L3kgNdXmlHWXnQmIjXvJv38DlOaPiSu5wDDg.webp)"
   ]
  },
  {
   "cell_type": "markdown",
   "id": "0b55f1b1-21d5-4261-bef5-a096c58af9f0",
   "metadata": {},
   "source": [
    "ref: <https://namu.wiki/w/타이타닉(영화)>"
   ]
  },
  {
   "cell_type": "markdown",
   "id": "fbf66949-5917-41fd-af9c-a579f3e0fcb4",
   "metadata": {},
   "source": [
    "### B. 데이터 "
   ]
  },
  {
   "cell_type": "markdown",
   "id": "790f028b-c48e-4c8c-92da-71cf87f65bfe",
   "metadata": {},
   "source": [
    "`-` 데이터 불러오기 "
   ]
  },
  {
   "cell_type": "code",
   "execution_count": 97,
   "id": "b5a117c3-8410-4596-82ec-a17c0577f434",
   "metadata": {},
   "outputs": [
    {
     "data": {
      "text/html": [
       "<div>\n",
       "<style scoped>\n",
       "    .dataframe tbody tr th:only-of-type {\n",
       "        vertical-align: middle;\n",
       "    }\n",
       "\n",
       "    .dataframe tbody tr th {\n",
       "        vertical-align: top;\n",
       "    }\n",
       "\n",
       "    .dataframe thead th {\n",
       "        text-align: right;\n",
       "    }\n",
       "</style>\n",
       "<table border=\"1\" class=\"dataframe\">\n",
       "  <thead>\n",
       "    <tr style=\"text-align: right;\">\n",
       "      <th></th>\n",
       "      <th>PassengerId</th>\n",
       "      <th>Survived</th>\n",
       "      <th>Pclass</th>\n",
       "      <th>Name</th>\n",
       "      <th>Sex</th>\n",
       "      <th>Age</th>\n",
       "      <th>SibSp</th>\n",
       "      <th>Parch</th>\n",
       "      <th>Ticket</th>\n",
       "      <th>Fare</th>\n",
       "      <th>Cabin</th>\n",
       "      <th>Embarked</th>\n",
       "    </tr>\n",
       "  </thead>\n",
       "  <tbody>\n",
       "    <tr>\n",
       "      <th>0</th>\n",
       "      <td>1</td>\n",
       "      <td>0</td>\n",
       "      <td>3</td>\n",
       "      <td>Braund, Mr. Owen Harris</td>\n",
       "      <td>male</td>\n",
       "      <td>22.0</td>\n",
       "      <td>1</td>\n",
       "      <td>0</td>\n",
       "      <td>A/5 21171</td>\n",
       "      <td>7.2500</td>\n",
       "      <td>NaN</td>\n",
       "      <td>S</td>\n",
       "    </tr>\n",
       "    <tr>\n",
       "      <th>1</th>\n",
       "      <td>2</td>\n",
       "      <td>1</td>\n",
       "      <td>1</td>\n",
       "      <td>Cumings, Mrs. John Bradley (Florence Briggs Th...</td>\n",
       "      <td>female</td>\n",
       "      <td>38.0</td>\n",
       "      <td>1</td>\n",
       "      <td>0</td>\n",
       "      <td>PC 17599</td>\n",
       "      <td>71.2833</td>\n",
       "      <td>C85</td>\n",
       "      <td>C</td>\n",
       "    </tr>\n",
       "    <tr>\n",
       "      <th>2</th>\n",
       "      <td>3</td>\n",
       "      <td>1</td>\n",
       "      <td>3</td>\n",
       "      <td>Heikkinen, Miss. Laina</td>\n",
       "      <td>female</td>\n",
       "      <td>26.0</td>\n",
       "      <td>0</td>\n",
       "      <td>0</td>\n",
       "      <td>STON/O2. 3101282</td>\n",
       "      <td>7.9250</td>\n",
       "      <td>NaN</td>\n",
       "      <td>S</td>\n",
       "    </tr>\n",
       "    <tr>\n",
       "      <th>3</th>\n",
       "      <td>4</td>\n",
       "      <td>1</td>\n",
       "      <td>1</td>\n",
       "      <td>Futrelle, Mrs. Jacques Heath (Lily May Peel)</td>\n",
       "      <td>female</td>\n",
       "      <td>35.0</td>\n",
       "      <td>1</td>\n",
       "      <td>0</td>\n",
       "      <td>113803</td>\n",
       "      <td>53.1000</td>\n",
       "      <td>C123</td>\n",
       "      <td>S</td>\n",
       "    </tr>\n",
       "    <tr>\n",
       "      <th>4</th>\n",
       "      <td>5</td>\n",
       "      <td>0</td>\n",
       "      <td>3</td>\n",
       "      <td>Allen, Mr. William Henry</td>\n",
       "      <td>male</td>\n",
       "      <td>35.0</td>\n",
       "      <td>0</td>\n",
       "      <td>0</td>\n",
       "      <td>373450</td>\n",
       "      <td>8.0500</td>\n",
       "      <td>NaN</td>\n",
       "      <td>S</td>\n",
       "    </tr>\n",
       "    <tr>\n",
       "      <th>...</th>\n",
       "      <td>...</td>\n",
       "      <td>...</td>\n",
       "      <td>...</td>\n",
       "      <td>...</td>\n",
       "      <td>...</td>\n",
       "      <td>...</td>\n",
       "      <td>...</td>\n",
       "      <td>...</td>\n",
       "      <td>...</td>\n",
       "      <td>...</td>\n",
       "      <td>...</td>\n",
       "      <td>...</td>\n",
       "    </tr>\n",
       "    <tr>\n",
       "      <th>886</th>\n",
       "      <td>887</td>\n",
       "      <td>0</td>\n",
       "      <td>2</td>\n",
       "      <td>Montvila, Rev. Juozas</td>\n",
       "      <td>male</td>\n",
       "      <td>27.0</td>\n",
       "      <td>0</td>\n",
       "      <td>0</td>\n",
       "      <td>211536</td>\n",
       "      <td>13.0000</td>\n",
       "      <td>NaN</td>\n",
       "      <td>S</td>\n",
       "    </tr>\n",
       "    <tr>\n",
       "      <th>887</th>\n",
       "      <td>888</td>\n",
       "      <td>1</td>\n",
       "      <td>1</td>\n",
       "      <td>Graham, Miss. Margaret Edith</td>\n",
       "      <td>female</td>\n",
       "      <td>19.0</td>\n",
       "      <td>0</td>\n",
       "      <td>0</td>\n",
       "      <td>112053</td>\n",
       "      <td>30.0000</td>\n",
       "      <td>B42</td>\n",
       "      <td>S</td>\n",
       "    </tr>\n",
       "    <tr>\n",
       "      <th>888</th>\n",
       "      <td>889</td>\n",
       "      <td>0</td>\n",
       "      <td>3</td>\n",
       "      <td>Johnston, Miss. Catherine Helen \"Carrie\"</td>\n",
       "      <td>female</td>\n",
       "      <td>NaN</td>\n",
       "      <td>1</td>\n",
       "      <td>2</td>\n",
       "      <td>W./C. 6607</td>\n",
       "      <td>23.4500</td>\n",
       "      <td>NaN</td>\n",
       "      <td>S</td>\n",
       "    </tr>\n",
       "    <tr>\n",
       "      <th>889</th>\n",
       "      <td>890</td>\n",
       "      <td>1</td>\n",
       "      <td>1</td>\n",
       "      <td>Behr, Mr. Karl Howell</td>\n",
       "      <td>male</td>\n",
       "      <td>26.0</td>\n",
       "      <td>0</td>\n",
       "      <td>0</td>\n",
       "      <td>111369</td>\n",
       "      <td>30.0000</td>\n",
       "      <td>C148</td>\n",
       "      <td>C</td>\n",
       "    </tr>\n",
       "    <tr>\n",
       "      <th>890</th>\n",
       "      <td>891</td>\n",
       "      <td>0</td>\n",
       "      <td>3</td>\n",
       "      <td>Dooley, Mr. Patrick</td>\n",
       "      <td>male</td>\n",
       "      <td>32.0</td>\n",
       "      <td>0</td>\n",
       "      <td>0</td>\n",
       "      <td>370376</td>\n",
       "      <td>7.7500</td>\n",
       "      <td>NaN</td>\n",
       "      <td>Q</td>\n",
       "    </tr>\n",
       "  </tbody>\n",
       "</table>\n",
       "<p>891 rows × 12 columns</p>\n",
       "</div>"
      ],
      "text/plain": [
       "     PassengerId  Survived  Pclass  \\\n",
       "0              1         0       3   \n",
       "1              2         1       1   \n",
       "2              3         1       3   \n",
       "3              4         1       1   \n",
       "4              5         0       3   \n",
       "..           ...       ...     ...   \n",
       "886          887         0       2   \n",
       "887          888         1       1   \n",
       "888          889         0       3   \n",
       "889          890         1       1   \n",
       "890          891         0       3   \n",
       "\n",
       "                                                  Name     Sex   Age  SibSp  \\\n",
       "0                              Braund, Mr. Owen Harris    male  22.0      1   \n",
       "1    Cumings, Mrs. John Bradley (Florence Briggs Th...  female  38.0      1   \n",
       "2                               Heikkinen, Miss. Laina  female  26.0      0   \n",
       "3         Futrelle, Mrs. Jacques Heath (Lily May Peel)  female  35.0      1   \n",
       "4                             Allen, Mr. William Henry    male  35.0      0   \n",
       "..                                                 ...     ...   ...    ...   \n",
       "886                              Montvila, Rev. Juozas    male  27.0      0   \n",
       "887                       Graham, Miss. Margaret Edith  female  19.0      0   \n",
       "888           Johnston, Miss. Catherine Helen \"Carrie\"  female   NaN      1   \n",
       "889                              Behr, Mr. Karl Howell    male  26.0      0   \n",
       "890                                Dooley, Mr. Patrick    male  32.0      0   \n",
       "\n",
       "     Parch            Ticket     Fare Cabin Embarked  \n",
       "0        0         A/5 21171   7.2500   NaN        S  \n",
       "1        0          PC 17599  71.2833   C85        C  \n",
       "2        0  STON/O2. 3101282   7.9250   NaN        S  \n",
       "3        0            113803  53.1000  C123        S  \n",
       "4        0            373450   8.0500   NaN        S  \n",
       "..     ...               ...      ...   ...      ...  \n",
       "886      0            211536  13.0000   NaN        S  \n",
       "887      0            112053  30.0000   B42        S  \n",
       "888      2        W./C. 6607  23.4500   NaN        S  \n",
       "889      0            111369  30.0000  C148        C  \n",
       "890      0            370376   7.7500   NaN        Q  \n",
       "\n",
       "[891 rows x 12 columns]"
      ]
     },
     "execution_count": 97,
     "metadata": {},
     "output_type": "execute_result"
    }
   ],
   "source": [
    "df = pd.read_csv(\"https://raw.githubusercontent.com/guebin/IAB2025-Play/refs/heads/main/content/titanic.csv\")\n",
    "df"
   ]
  },
  {
   "cell_type": "markdown",
   "id": "d150292a-8eb3-4058-a6f4-d3133a7955b0",
   "metadata": {},
   "source": [
    "`# 예제1` -- 단순계산 "
   ]
  },
  {
   "cell_type": "markdown",
   "id": "d9e8c069-bcb3-45b5-a4b9-9034965bc485",
   "metadata": {},
   "source": [
    "`(1)` 전체 탑승객은 몇명인가? "
   ]
  },
  {
   "cell_type": "markdown",
   "id": "9c757717-90c4-4b35-86de-981b2693a7d3",
   "metadata": {},
   "source": [
    "`(2)` 전체 탐승객중 몇명이 생존하였는가? "
   ]
  },
  {
   "cell_type": "markdown",
   "id": "d911185a-655e-4d63-b05d-0c65b7e6f775",
   "metadata": {},
   "source": [
    "`(3)` 생존률을 구하라. "
   ]
  },
  {
   "cell_type": "markdown",
   "id": "3185d3fd-9767-44e6-a62b-d1b4d9bde433",
   "metadata": {},
   "source": [
    "`(4)` 탑승객중 남자는 몇명, 여자는 몇명인가? "
   ]
  },
  {
   "cell_type": "markdown",
   "id": "8878fdab-b724-4e84-ae5f-0d197bf0cc56",
   "metadata": {},
   "source": [
    "`(5)` 남자와 여자의 비율은? "
   ]
  },
  {
   "cell_type": "markdown",
   "id": "fe9b69cb-39ca-4efa-b3df-9c05286a50a1",
   "metadata": {},
   "source": [
    "`(6)` 탑승객이 탑승한 항구는 몇 종류인가? 종류별로 몇명의 승객이 탑승했는가? "
   ]
  },
  {
   "cell_type": "markdown",
   "id": "f60bbe1f-1784-4c52-ad5b-a41b1957600f",
   "metadata": {},
   "source": [
    "`#`"
   ]
  },
  {
   "cell_type": "markdown",
   "id": "bff41d53-3855-43f4-83c0-e73df8024083",
   "metadata": {},
   "source": [
    "`# 예제2` -- 그룹별 생존률 "
   ]
  },
  {
   "cell_type": "markdown",
   "id": "073f554a-271e-4998-aa82-e09604cebbad",
   "metadata": {},
   "source": [
    "`(1)` 남녀의 생존률을 각각 구하고 비교하라. "
   ]
  },
  {
   "cell_type": "markdown",
   "id": "d169ccb3-5b0d-4823-980b-77b8fa0f580d",
   "metadata": {},
   "source": [
    "`(2)` 항구별 생존률을 각각 구하고 비교하라. "
   ]
  },
  {
   "cell_type": "markdown",
   "id": "c0c8da3d-4bcb-402c-a86c-3ca9d4e0788b",
   "metadata": {},
   "source": [
    "`(3)` 항구별 Fare를 각각 구하고 비교하라. "
   ]
  },
  {
   "cell_type": "markdown",
   "id": "5fc6812f-6c9c-43cd-844a-db08cbce8733",
   "metadata": {},
   "source": [
    "`#`"
   ]
  },
  {
   "cell_type": "markdown",
   "id": "2a2b153c-cf1c-4517-b5d6-7979c537fb9c",
   "metadata": {},
   "source": [
    "`# 예제3` -- 시각화 "
   ]
  },
  {
   "cell_type": "markdown",
   "id": "71df7e5d-d718-42b9-8881-a6933a3f98c3",
   "metadata": {},
   "source": [
    "`(1)` Age에 대한 히스토그림을 그려라. "
   ]
  },
  {
   "cell_type": "markdown",
   "id": "50256559-5b0a-446f-b9f4-12b1e6bb0736",
   "metadata": {},
   "source": [
    "`(2)` 성별로 Age에 대한 히스토그램을 그려라. "
   ]
  },
  {
   "cell_type": "markdown",
   "id": "6c071d95-5134-449d-a717-eedcfb4ce60c",
   "metadata": {},
   "source": [
    "`(3)` 항구별/성별로 Age에 대한 히스토그램을 그려라. "
   ]
  },
  {
   "cell_type": "markdown",
   "id": "33167fef-c115-4f43-9b88-258ea2a6a641",
   "metadata": {},
   "source": [
    "`#`"
   ]
  },
  {
   "cell_type": "markdown",
   "id": "1ddfeb7b-41ba-4a03-8819-1b35d7a967af",
   "metadata": {},
   "source": [
    "`# 예제4` -- 그룹별 생존률 "
   ]
  },
  {
   "cell_type": "markdown",
   "id": "69a3c30d-9d26-4e0b-92e2-078b67b4b1d8",
   "metadata": {},
   "source": [
    "`(1)` 10세 미만 승객의 생존률을 구하라. "
   ]
  },
  {
   "cell_type": "markdown",
   "id": "1801aad5-ebda-4006-9587-3e45167502ce",
   "metadata": {},
   "source": [
    "`(2)` 20대 남자의 생존률을 구하라. "
   ]
  },
  {
   "cell_type": "markdown",
   "id": "a3434d5c-0851-471e-aa41-b6743f9fe418",
   "metadata": {},
   "source": [
    "## Pandas 문법 (1)"
   ]
  },
  {
   "cell_type": "markdown",
   "id": "f566dd98-a58f-4268-a97c-4415af1481d7",
   "metadata": {},
   "source": [
    "### df 만들기  "
   ]
  },
  {
   "cell_type": "code",
   "execution_count": 112,
   "id": "09d0e13e-cb08-4539-bdfe-31759f8b49a7",
   "metadata": {
    "tags": []
   },
   "outputs": [
    {
     "data": {
      "text/html": [
       "<div>\n",
       "<style scoped>\n",
       "    .dataframe tbody tr th:only-of-type {\n",
       "        vertical-align: middle;\n",
       "    }\n",
       "\n",
       "    .dataframe tbody tr th {\n",
       "        vertical-align: top;\n",
       "    }\n",
       "\n",
       "    .dataframe thead th {\n",
       "        text-align: right;\n",
       "    }\n",
       "</style>\n",
       "<table border=\"1\" class=\"dataframe\">\n",
       "  <thead>\n",
       "    <tr style=\"text-align: right;\">\n",
       "      <th></th>\n",
       "      <th>date</th>\n",
       "      <th>X1</th>\n",
       "      <th>X2</th>\n",
       "      <th>X3</th>\n",
       "      <th>X4</th>\n",
       "    </tr>\n",
       "  </thead>\n",
       "  <tbody>\n",
       "    <tr>\n",
       "      <th>0</th>\n",
       "      <td>12/30</td>\n",
       "      <td>65</td>\n",
       "      <td>55</td>\n",
       "      <td>50</td>\n",
       "      <td>40</td>\n",
       "    </tr>\n",
       "    <tr>\n",
       "      <th>1</th>\n",
       "      <td>12/31</td>\n",
       "      <td>95</td>\n",
       "      <td>100</td>\n",
       "      <td>50</td>\n",
       "      <td>80</td>\n",
       "    </tr>\n",
       "    <tr>\n",
       "      <th>2</th>\n",
       "      <td>01/01</td>\n",
       "      <td>65</td>\n",
       "      <td>90</td>\n",
       "      <td>60</td>\n",
       "      <td>30</td>\n",
       "    </tr>\n",
       "    <tr>\n",
       "      <th>3</th>\n",
       "      <td>01/02</td>\n",
       "      <td>55</td>\n",
       "      <td>80</td>\n",
       "      <td>75</td>\n",
       "      <td>80</td>\n",
       "    </tr>\n",
       "    <tr>\n",
       "      <th>4</th>\n",
       "      <td>01/03</td>\n",
       "      <td>80</td>\n",
       "      <td>30</td>\n",
       "      <td>30</td>\n",
       "      <td>100</td>\n",
       "    </tr>\n",
       "  </tbody>\n",
       "</table>\n",
       "</div>"
      ],
      "text/plain": [
       "    date  X1   X2  X3   X4\n",
       "0  12/30  65   55  50   40\n",
       "1  12/31  95  100  50   80\n",
       "2  01/01  65   90  60   30\n",
       "3  01/02  55   80  75   80\n",
       "4  01/03  80   30  30  100"
      ]
     },
     "execution_count": 112,
     "metadata": {},
     "output_type": "execute_result"
    }
   ],
   "source": [
    "dct = {'date': ['12/30','12/31','01/01','01/02','01/03'], 'X1': [65,95,65,55,80], 'X2': [55,100,90,80,30], 'X3': [50,50,60,75,30], 'X4': [40,80,30,80,100]}\n",
    "df = pd.DataFrame(dct) \n",
    "df"
   ]
  },
  {
   "cell_type": "markdown",
   "id": "937a22c5-f8f3-48a3-a918-dcb2f7497591",
   "metadata": {},
   "source": [
    "### 열의 선택 "
   ]
  },
  {
   "cell_type": "markdown",
   "id": "7f49e7e5-3a0c-40be-9ae2-f87543be4c0b",
   "metadata": {},
   "source": [
    "`-` 방법1 -- `df.`"
   ]
  },
  {
   "cell_type": "code",
   "execution_count": 91,
   "id": "19313e4e-99a1-4487-8aea-f99f60f1fb4b",
   "metadata": {
    "tags": []
   },
   "outputs": [],
   "source": [
    "# df.X1 "
   ]
  },
  {
   "cell_type": "markdown",
   "id": "e79bd981-7875-40be-b809-a936003942ff",
   "metadata": {},
   "source": [
    "`-` 방법2 -- `df[]`"
   ]
  },
  {
   "cell_type": "code",
   "execution_count": 138,
   "id": "60b78a10-ab47-46a5-9df6-d6d37450cea7",
   "metadata": {
    "tags": []
   },
   "outputs": [],
   "source": [
    "# df['X1'] # str \n",
    "# df[['X1']] # [str]\n",
    "# df[['X1','X3']] # [str,str]"
   ]
  },
  {
   "cell_type": "markdown",
   "id": "a0bc4511-fcd9-4d93-94c8-18bc4c7c8de4",
   "metadata": {},
   "source": [
    "`-` 방법3 -- `df.iloc`"
   ]
  },
  {
   "cell_type": "code",
   "execution_count": 175,
   "id": "a26bacfd-869f-40ef-a1f3-0e934b9bd801",
   "metadata": {
    "tags": []
   },
   "outputs": [],
   "source": [
    "# df.iloc[:,0] # int\n",
    "# df.iloc[:,-2:] # int:int - 슬라이싱\n",
    "# df.iloc[:,1::2] # int:int - 스트라이딩\n",
    "# df.iloc[:,[0]] # [int]\n",
    "# df.iloc[:,[0,1]] # [int,int]\n",
    "# df.iloc[:,[True,True,False,False]] # bool의 list \n",
    "# df.iloc[:,range(2)] # range"
   ]
  },
  {
   "cell_type": "markdown",
   "id": "49f3cc0d-7958-47a2-baf0-0397b828529e",
   "metadata": {},
   "source": [
    "`-` 방법4 -- `df.loc`"
   ]
  },
  {
   "cell_type": "code",
   "execution_count": 109,
   "id": "5e9ef3e2-e80a-44ac-be85-941d0faeccb0",
   "metadata": {},
   "outputs": [],
   "source": [
    "# df.loc[:,'X1'] # str\n",
    "# df.loc[:,'X1':'X3'] # 'str':'str' -- 칼럼이름으로 슬라이싱 **\n",
    "# df.loc[:,'X1'::2] # 'str':'str' -- 칼럼이름으로 스트라이딩 ** \n",
    "# df.loc[:,['X1']] # [str]\n",
    "# df.loc[:,['X1','X4']] # [str,str]\n",
    "# df.loc[:,[True,False,False,True]] # bool의 list"
   ]
  },
  {
   "cell_type": "markdown",
   "id": "a6b3e052-ff9b-425b-b18b-e5bbabb748dd",
   "metadata": {},
   "source": [
    "### 행의 선택 "
   ]
  },
  {
   "cell_type": "markdown",
   "id": "25f2524c-397f-420a-b72d-95963c52f0e8",
   "metadata": {},
   "source": [
    "`-` 방법1 -- `df[]`"
   ]
  },
  {
   "cell_type": "code",
   "execution_count": 93,
   "id": "52363317-abbc-4ecf-9342-1b67284d4e87",
   "metadata": {},
   "outputs": [],
   "source": [
    "# df[:2] # int:int -- 슬라이싱 // df.iloc[:2,:], df.iloc[:2] 와 같음\n",
    "# df[::2] # int:int -- 스트라이딩 \n",
    "# df[['12' in date for date in df.date]] # [bool,bool]\n",
    "# df[df.X1 < 70] # pd.Series([bool,bool])"
   ]
  },
  {
   "cell_type": "markdown",
   "id": "fcf00559-3ce0-4c27-92b6-a9be5445bb03",
   "metadata": {},
   "source": [
    "`-` 방법2 -- `df.loc`"
   ]
  },
  {
   "cell_type": "code",
   "execution_count": 94,
   "id": "16c40938-f7e2-458e-8f29-4aaf6d173f2d",
   "metadata": {
    "tags": []
   },
   "outputs": [],
   "source": [
    "# df.iloc[0] # int \n",
    "# df.iloc[-2:] # int:int -- 슬라이싱\n",
    "# df.iloc[1::2] # int:int -- 스트라이딩\n",
    "# df.iloc[[0]] # [int]\n",
    "# df.iloc[[0,1]] # [int,int]\n",
    "# df.iloc[['12' in date for date in df.date]] # [bool,bool]\n",
    "# df.iloc[range(2)] # range"
   ]
  },
  {
   "cell_type": "code",
   "execution_count": 92,
   "id": "cd6ef819-c81f-49b3-80f8-7a156f9ef547",
   "metadata": {
    "tags": []
   },
   "outputs": [],
   "source": [
    "# df.iloc[0,:] # int \n",
    "# df.iloc[-2:,:] # int:int -- 슬라이싱\n",
    "# df.iloc[1::2,:] # int:int -- 스트라이딩\n",
    "# df.iloc[[0],:] # [int]\n",
    "# df.iloc[[0,1],:] # [int,int]\n",
    "# df.iloc[['12' in date for date in df.date],:] # [bool,bool]\n",
    "# df.iloc[range(2),:] # range"
   ]
  },
  {
   "cell_type": "markdown",
   "id": "e9500bfb-80d4-4337-80a0-e0a1b73bc31e",
   "metadata": {},
   "source": [
    "`-` 방법3 -- `df.iloc`"
   ]
  },
  {
   "cell_type": "code",
   "execution_count": 95,
   "id": "4475f60d-f692-44e8-9227-e058ff871c56",
   "metadata": {},
   "outputs": [],
   "source": [
    "# df.loc[0] # int \n",
    "# df.loc[:2] # int:int \n",
    "# df.loc[[0,1]] # [int,int]\n",
    "# df.loc[['12' in date for date in df.date]] # [bool,bool]\n",
    "# df.loc[df.X1>70] # pd.Series([bool,bool]) "
   ]
  }
 ],
 "metadata": {
  "kernelspec": {
   "display_name": "Python 3 (ipykernel)",
   "language": "python",
   "name": "python3"
  },
  "language_info": {
   "codemirror_mode": {
    "name": "ipython",
    "version": 3
   },
   "file_extension": ".py",
   "mimetype": "text/x-python",
   "name": "python",
   "nbconvert_exporter": "python",
   "pygments_lexer": "ipython3",
   "version": "3.13.2"
  }
 },
 "nbformat": 4,
 "nbformat_minor": 5
}
