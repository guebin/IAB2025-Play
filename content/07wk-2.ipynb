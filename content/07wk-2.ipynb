{
 "cells": [
  {
   "cell_type": "raw",
   "id": "74e1b404-54b4-4ad6-b8a4-8def4cacc482",
   "metadata": {
    "vscode": {
     "languageId": "raw"
    }
   },
   "source": [
    "---\n",
    "title: \"07wk-2: [Python] -- 딕셔너리 // 숙제\"\n",
    "author: \"최규빈\"\n",
    "date: \"04/15/2025\"\n",
    "draft: false\n",
    "---"
   ]
  },
  {
   "cell_type": "markdown",
   "id": "350b6df2-913d-44c2-a915-c38e722d8ee4",
   "metadata": {},
   "source": [
    "{{<video https://youtu.be/playlist?list=PLQqh36zP38-xlMJPOl9X5hXk3uG40e_3y&si=zTAWSTEEvACV1X_9>}}"
   ]
  },
  {
   "cell_type": "markdown",
   "id": "4e6868c4-9e29-4443-9e22-61b24c1911ed",
   "metadata": {
    "tags": []
   },
   "source": [
    "## 1. 딕셔너리"
   ]
  },
  {
   "cell_type": "markdown",
   "id": "cd64636d-14d2-4243-b894-34bf9ac1b32e",
   "metadata": {},
   "source": [
    "### A. 선언 "
   ]
  },
  {
   "cell_type": "markdown",
   "id": "13ee085a-045c-4581-b655-1c388c548730",
   "metadata": {},
   "source": [
    "`-` 방법1: 가장 일반적 "
   ]
  },
  {
   "cell_type": "code",
   "execution_count": 8,
   "id": "524b1ffd-6fbe-4b0e-ad62-eb3831482340",
   "metadata": {},
   "outputs": [
    {
     "data": {
      "text/plain": [
       "{'guebin': 49, 'hanni': 80}"
      ]
     },
     "execution_count": 8,
     "metadata": {},
     "output_type": "execute_result"
    }
   ],
   "source": [
    "dct = {'guebin':49, 'hanni':80}\n",
    "dct"
   ]
  },
  {
   "cell_type": "markdown",
   "id": "b83819d6-b940-4d2c-a47c-217ccab0b8af",
   "metadata": {},
   "source": [
    "`-` 방법2: `dict()` 이용 "
   ]
  },
  {
   "cell_type": "code",
   "execution_count": 17,
   "id": "f5e29e00-1a94-41bb-9968-96b995fbde00",
   "metadata": {},
   "outputs": [
    {
     "data": {
      "text/plain": [
       "{'guebin': 49, 'hanni': 80}"
      ]
     },
     "execution_count": 17,
     "metadata": {},
     "output_type": "execute_result"
    }
   ],
   "source": [
    "dct = dict(guebin=49, hanni=80)\n",
    "dct"
   ]
  },
  {
   "cell_type": "markdown",
   "id": "3dd09f60-5c36-44cd-88e3-7eedec940510",
   "metadata": {},
   "source": [
    "`-` 방법3: 중첩된 리스트를 만든 뒤에 형태변환 "
   ]
  },
  {
   "cell_type": "code",
   "execution_count": 18,
   "id": "da8f1c00-3087-41e7-b49e-5dcae7c45d2f",
   "metadata": {},
   "outputs": [
    {
     "data": {
      "text/plain": [
       "[['guebin', 49], ['hanni', 80]]"
      ]
     },
     "execution_count": 18,
     "metadata": {},
     "output_type": "execute_result"
    }
   ],
   "source": [
    "_lst = [['guebin',49],['hanni',80]]\n",
    "_lst "
   ]
  },
  {
   "cell_type": "code",
   "execution_count": 19,
   "id": "47b649f4-42a8-451f-8578-5dc730f5cf9c",
   "metadata": {},
   "outputs": [
    {
     "data": {
      "text/plain": [
       "{'guebin': 49, 'hanni': 80}"
      ]
     },
     "execution_count": 19,
     "metadata": {},
     "output_type": "execute_result"
    }
   ],
   "source": [
    "dict(_lst)"
   ]
  },
  {
   "cell_type": "markdown",
   "id": "4f13880d-cd36-463e-ba9d-04de756582a1",
   "metadata": {},
   "source": [
    "`-` 방법4: 중첩된 튜플을 만든 뒤에 형태변환 "
   ]
  },
  {
   "cell_type": "code",
   "execution_count": 20,
   "id": "0ff8d459-b87d-4cfc-a986-43f58115d328",
   "metadata": {},
   "outputs": [
    {
     "data": {
      "text/plain": [
       "(('guebin', 49), ('hanni', 80))"
      ]
     },
     "execution_count": 20,
     "metadata": {},
     "output_type": "execute_result"
    }
   ],
   "source": [
    "_tpl = ('guebin',49), ('hanni',80)\n",
    "_tpl"
   ]
  },
  {
   "cell_type": "code",
   "execution_count": 21,
   "id": "82647d5e-1940-4af2-a3ac-8df941d46674",
   "metadata": {},
   "outputs": [
    {
     "data": {
      "text/plain": [
       "{'guebin': 49, 'hanni': 80}"
      ]
     },
     "execution_count": 21,
     "metadata": {},
     "output_type": "execute_result"
    }
   ],
   "source": [
    "dict(_tpl)"
   ]
  },
  {
   "cell_type": "markdown",
   "id": "80be616a-1739-4c1f-bf98-97633cfb0176",
   "metadata": {},
   "source": [
    "### B. 원소추출 "
   ]
  },
  {
   "cell_type": "markdown",
   "id": "fc046cb4-79dc-4b26-b8ca-2dafc50cb1de",
   "metadata": {},
   "source": [
    "`-` 원소의 위치로 추출할 수 없고, key로 추출해야 한다. "
   ]
  },
  {
   "cell_type": "code",
   "execution_count": 23,
   "id": "b47bc13c-6f67-4b14-9499-e5cd919e1cd6",
   "metadata": {},
   "outputs": [
    {
     "data": {
      "text/plain": [
       "{'guebin': 49, 'hanni': 80}"
      ]
     },
     "execution_count": 23,
     "metadata": {},
     "output_type": "execute_result"
    }
   ],
   "source": [
    "dct = {'guebin':49, 'hanni':80}\n",
    "dct"
   ]
  },
  {
   "cell_type": "markdown",
   "id": "d74860b8-1990-48ed-8f4a-d2a21c89f060",
   "metadata": {},
   "source": [
    "guebin의 점수를 추출하고 싶다면? "
   ]
  },
  {
   "cell_type": "code",
   "execution_count": 29,
   "id": "ef02626c-1499-4f3b-b62f-78e1111ef74d",
   "metadata": {},
   "outputs": [
    {
     "data": {
      "text/plain": [
       "49"
      ]
     },
     "execution_count": 29,
     "metadata": {},
     "output_type": "execute_result"
    }
   ],
   "source": [
    "dct['guebin']"
   ]
  },
  {
   "cell_type": "markdown",
   "id": "1b285ee4-ac8d-489d-a016-a70666ae5b52",
   "metadata": {},
   "source": [
    "`-` 만약에 dict가 아니라 list로 정보를 저장했다면? "
   ]
  },
  {
   "cell_type": "markdown",
   "id": "e3bcf7f7-500d-47a8-8a9d-d407ca797db4",
   "metadata": {},
   "source": [
    "(예제) 아래와 같은 리스트에서 guebin의 점수를 추출하고 싶다면? "
   ]
  },
  {
   "cell_type": "code",
   "execution_count": 44,
   "id": "93195e76-eb4e-4a57-b5c1-6c041bf942e2",
   "metadata": {},
   "outputs": [
    {
     "data": {
      "text/plain": [
       "[['guebin', 49], ['hanni', 80]]"
      ]
     },
     "execution_count": 44,
     "metadata": {},
     "output_type": "execute_result"
    }
   ],
   "source": [
    "lst=[['guebin',49],['hanni',80]]\n",
    "lst"
   ]
  },
  {
   "cell_type": "markdown",
   "id": "eba4a4b8-8143-4e3b-9783-eaf4c7ee8900",
   "metadata": {},
   "source": [
    "(풀이1)"
   ]
  },
  {
   "cell_type": "code",
   "execution_count": 45,
   "id": "43874009-5a5e-4dc4-a1c8-3902e18b69e1",
   "metadata": {},
   "outputs": [
    {
     "data": {
      "text/plain": [
       "49"
      ]
     },
     "execution_count": 45,
     "metadata": {},
     "output_type": "execute_result"
    }
   ],
   "source": [
    "lst[0][1] # guebin의 점수를 출력하란 의미"
   ]
  },
  {
   "cell_type": "markdown",
   "id": "be1a3d30-71a9-4e59-ac0e-8faf1732529a",
   "metadata": {},
   "source": [
    "(풀이2)"
   ]
  },
  {
   "cell_type": "code",
   "execution_count": 12,
   "id": "9b93c834-40c9-42ce-91b9-0218e3b8870a",
   "metadata": {},
   "outputs": [
    {
     "data": {
      "text/plain": [
       "[49]"
      ]
     },
     "execution_count": 12,
     "metadata": {},
     "output_type": "execute_result"
    }
   ],
   "source": [
    "[score for name,score in lst if name == 'guebin']"
   ]
  },
  {
   "cell_type": "markdown",
   "id": "831e96d1-8da8-4171-b71c-5278fbda05e7",
   "metadata": {},
   "source": [
    "`-` 'guebin'의 점수를 추출하는 코드 비교 "
   ]
  },
  {
   "cell_type": "code",
   "execution_count": 59,
   "id": "fe86ad24-f10a-47f6-abce-998aa3b82270",
   "metadata": {},
   "outputs": [
    {
     "data": {
      "text/plain": [
       "49"
      ]
     },
     "execution_count": 59,
     "metadata": {},
     "output_type": "execute_result"
    }
   ],
   "source": [
    "dct['guebin'] # 코드1: 단순하고, 가독성있음"
   ]
  },
  {
   "cell_type": "code",
   "execution_count": 14,
   "id": "a38ca6a2-deae-4f41-abb8-93f2a39554ac",
   "metadata": {},
   "outputs": [
    {
     "data": {
      "text/plain": [
       "49"
      ]
     },
     "execution_count": 14,
     "metadata": {},
     "output_type": "execute_result"
    }
   ],
   "source": [
    "lst[0][1] # 코드2: 단순하지만, 가독성이 있는건 아님"
   ]
  },
  {
   "cell_type": "code",
   "execution_count": 58,
   "id": "1d46b18a-290a-4d4a-8d2c-48a071254e34",
   "metadata": {},
   "outputs": [
    {
     "data": {
      "text/plain": [
       "[49]"
      ]
     },
     "execution_count": 58,
     "metadata": {},
     "output_type": "execute_result"
    }
   ],
   "source": [
    "[score for name,score in lst if name=='guebin' ] # 코드3: 단순하지 않지만, 가독성은 있음"
   ]
  },
  {
   "cell_type": "markdown",
   "id": "1e83e119-897c-4c67-99a5-6da26cea01f0",
   "metadata": {},
   "source": [
    "### C. 원소추가, 변경, 삭제"
   ]
  },
  {
   "cell_type": "code",
   "execution_count": 60,
   "id": "136159fd-88c7-4d20-baef-fd020c5faa0c",
   "metadata": {},
   "outputs": [
    {
     "data": {
      "text/plain": [
       "{'guebin': 49, 'hanni': 80}"
      ]
     },
     "execution_count": 60,
     "metadata": {},
     "output_type": "execute_result"
    }
   ],
   "source": [
    "dct={'guebin':49, 'hanni':80}\n",
    "dct"
   ]
  },
  {
   "cell_type": "markdown",
   "id": "93878fc8-c02f-4efb-b18f-90cd9bd992fb",
   "metadata": {},
   "source": [
    "`-` 원소에 접근: guebin의 점수 출력"
   ]
  },
  {
   "cell_type": "code",
   "execution_count": 61,
   "id": "2bd5d328-3bcd-41c4-a2b8-d836c89d98cc",
   "metadata": {},
   "outputs": [
    {
     "data": {
      "text/plain": [
       "49"
      ]
     },
     "execution_count": 61,
     "metadata": {},
     "output_type": "execute_result"
    }
   ],
   "source": [
    "dct['guebin']"
   ]
  },
  {
   "cell_type": "markdown",
   "id": "9c93f572-e22b-4241-929b-a32fc45f461d",
   "metadata": {},
   "source": [
    "`-` 추가: hynn학생의 점수를 추가"
   ]
  },
  {
   "cell_type": "code",
   "execution_count": 62,
   "id": "bc9f59d7-cd69-43fe-afc2-ef5a5ccc5475",
   "metadata": {},
   "outputs": [
    {
     "data": {
      "text/plain": [
       "{'guebin': 49, 'hanni': 80}"
      ]
     },
     "execution_count": 62,
     "metadata": {},
     "output_type": "execute_result"
    }
   ],
   "source": [
    "dct"
   ]
  },
  {
   "cell_type": "code",
   "execution_count": 65,
   "id": "47655af3-fa63-46c2-be60-b02059eacd8a",
   "metadata": {},
   "outputs": [],
   "source": [
    "dct['hynn'] = 99 "
   ]
  },
  {
   "cell_type": "code",
   "execution_count": 66,
   "id": "3753e6ec-9c62-413e-9771-299672ef2498",
   "metadata": {},
   "outputs": [
    {
     "data": {
      "text/plain": [
       "{'guebin': 49, 'hanni': 80, 'hynn': 99}"
      ]
     },
     "execution_count": 66,
     "metadata": {},
     "output_type": "execute_result"
    }
   ],
   "source": [
    "dct"
   ]
  },
  {
   "cell_type": "markdown",
   "id": "437fbb53-cb4d-4dcb-b37b-f47549601f55",
   "metadata": {},
   "source": [
    "`-` 변경: hanni의 점수를 변경 "
   ]
  },
  {
   "cell_type": "code",
   "execution_count": 69,
   "id": "8bc62608-2a02-482c-8921-fc31148d89e8",
   "metadata": {},
   "outputs": [],
   "source": [
    "dct['hanni'] = 100"
   ]
  },
  {
   "cell_type": "code",
   "execution_count": 70,
   "id": "81a43efc-f434-4024-9e3a-c848b49cff66",
   "metadata": {},
   "outputs": [
    {
     "data": {
      "text/plain": [
       "{'guebin': 49, 'hanni': 100, 'hynn': 99}"
      ]
     },
     "execution_count": 70,
     "metadata": {},
     "output_type": "execute_result"
    }
   ],
   "source": [
    "dct"
   ]
  },
  {
   "cell_type": "markdown",
   "id": "2c8bad07-5205-42f4-a653-ed0d5388281d",
   "metadata": {},
   "source": [
    "### D. 연산 "
   ]
  },
  {
   "cell_type": "markdown",
   "id": "f601848d-c138-4a24-8eb4-208ed36ef27d",
   "metadata": {},
   "source": [
    "`-` in연산 정도만 기억해도 좋음"
   ]
  },
  {
   "cell_type": "code",
   "execution_count": 71,
   "id": "d12e7fbb-7acd-4f4d-ad89-5a0022d79603",
   "metadata": {},
   "outputs": [
    {
     "data": {
      "text/plain": [
       "{'guebin': 49, 'hanni': 80}"
      ]
     },
     "execution_count": 71,
     "metadata": {},
     "output_type": "execute_result"
    }
   ],
   "source": [
    "dct = {'guebin':49, 'hanni':80} \n",
    "dct"
   ]
  },
  {
   "cell_type": "code",
   "execution_count": 90,
   "id": "a3352f44-3191-4a92-8800-94a740da1747",
   "metadata": {},
   "outputs": [
    {
     "data": {
      "text/plain": [
       "True"
      ]
     },
     "execution_count": 90,
     "metadata": {},
     "output_type": "execute_result"
    }
   ],
   "source": [
    "'guebin' in dct"
   ]
  },
  {
   "cell_type": "code",
   "execution_count": 77,
   "id": "e3d4d188-ecb5-443a-a423-6ee76b81cef8",
   "metadata": {},
   "outputs": [
    {
     "data": {
      "text/plain": [
       "True"
      ]
     },
     "execution_count": 77,
     "metadata": {},
     "output_type": "execute_result"
    }
   ],
   "source": [
    "'hanni' in dct"
   ]
  },
  {
   "cell_type": "code",
   "execution_count": 78,
   "id": "84d5b27a-578b-4c7c-95a7-37be4d37e758",
   "metadata": {},
   "outputs": [
    {
     "data": {
      "text/plain": [
       "False"
      ]
     },
     "execution_count": 78,
     "metadata": {},
     "output_type": "execute_result"
    }
   ],
   "source": [
    "'hynn' in dct"
   ]
  },
  {
   "cell_type": "markdown",
   "id": "844cada6-49c9-4fa5-9a13-c7677a6266b7",
   "metadata": {},
   "source": [
    "`-` in은 사실 다른자료형도 가능했음 "
   ]
  },
  {
   "cell_type": "markdown",
   "id": "93eea9a1-e494-49de-8141-771bbcc596dd",
   "metadata": {},
   "source": [
    "(관찰1)"
   ]
  },
  {
   "cell_type": "code",
   "execution_count": 79,
   "id": "d22172ca-8a81-445d-bc4d-c6dd94faf5ad",
   "metadata": {},
   "outputs": [
    {
     "data": {
      "text/plain": [
       "False"
      ]
     },
     "execution_count": 79,
     "metadata": {},
     "output_type": "execute_result"
    }
   ],
   "source": [
    "'a' in 'guebin' "
   ]
  },
  {
   "cell_type": "code",
   "execution_count": 80,
   "id": "b7c070a7-f45d-4b36-acd4-a65a4dc27057",
   "metadata": {},
   "outputs": [
    {
     "data": {
      "text/plain": [
       "True"
      ]
     },
     "execution_count": 80,
     "metadata": {},
     "output_type": "execute_result"
    }
   ],
   "source": [
    "'b' in 'guebin' "
   ]
  },
  {
   "cell_type": "code",
   "execution_count": 81,
   "id": "417b4ef0-423f-406f-b5d7-798c8307f6a4",
   "metadata": {},
   "outputs": [
    {
     "data": {
      "text/plain": [
       "False"
      ]
     },
     "execution_count": 81,
     "metadata": {},
     "output_type": "execute_result"
    }
   ],
   "source": [
    "'c' in 'guebin' "
   ]
  },
  {
   "cell_type": "markdown",
   "id": "780014bd-4ce6-4030-8acb-fadef9a8105f",
   "metadata": {},
   "source": [
    "(관찰2)"
   ]
  },
  {
   "cell_type": "code",
   "execution_count": 82,
   "id": "93954a50-d7b6-45ca-ace0-d97989598e9b",
   "metadata": {},
   "outputs": [
    {
     "data": {
      "text/plain": [
       "(1, 2, 3)"
      ]
     },
     "execution_count": 82,
     "metadata": {},
     "output_type": "execute_result"
    }
   ],
   "source": [
    "tpl = 1,2,3 \n",
    "tpl"
   ]
  },
  {
   "cell_type": "code",
   "execution_count": 83,
   "id": "363e6c55-d5d7-4e7b-8b1e-f2b81b4dbe88",
   "metadata": {},
   "outputs": [
    {
     "data": {
      "text/plain": [
       "True"
      ]
     },
     "execution_count": 83,
     "metadata": {},
     "output_type": "execute_result"
    }
   ],
   "source": [
    "1 in tpl"
   ]
  },
  {
   "cell_type": "code",
   "execution_count": 84,
   "id": "824429c8-570f-4c39-95c0-98fff37825d8",
   "metadata": {},
   "outputs": [
    {
     "data": {
      "text/plain": [
       "False"
      ]
     },
     "execution_count": 84,
     "metadata": {},
     "output_type": "execute_result"
    }
   ],
   "source": [
    "4 in tpl"
   ]
  },
  {
   "cell_type": "markdown",
   "id": "25890f05-7386-4b84-b798-6bd4beef0a87",
   "metadata": {},
   "source": [
    "(관찰3)"
   ]
  },
  {
   "cell_type": "code",
   "execution_count": 85,
   "id": "cb1b89fb-9ecb-4c6a-b716-b4a4fb2309a0",
   "metadata": {},
   "outputs": [
    {
     "data": {
      "text/plain": [
       "[['guebin', 49], ['hanni', 80], ['hynn', 99]]"
      ]
     },
     "execution_count": 85,
     "metadata": {},
     "output_type": "execute_result"
    }
   ],
   "source": [
    "lst = [['guebin',49],['hanni',80],['hynn',99]] \n",
    "lst"
   ]
  },
  {
   "cell_type": "code",
   "execution_count": 86,
   "id": "425b5d1c-0a2c-4e0b-9f05-fdba5203d439",
   "metadata": {},
   "outputs": [
    {
     "data": {
      "text/plain": [
       "True"
      ]
     },
     "execution_count": 86,
     "metadata": {},
     "output_type": "execute_result"
    }
   ],
   "source": [
    "['guebin',49] in lst"
   ]
  },
  {
   "cell_type": "markdown",
   "id": "7ee58a04-8fda-4c33-b912-5e64a9c54158",
   "metadata": {},
   "source": [
    "`-` in연산자가 dict형에 사용되면 key를 기준으로 True, False를 판단한다. "
   ]
  },
  {
   "cell_type": "markdown",
   "id": "d702e1cb-663b-4aa9-9ace-e210563618fe",
   "metadata": {},
   "source": [
    "### E. 딕셔너리 특수기능 "
   ]
  },
  {
   "cell_type": "markdown",
   "id": "ceb098ff-d323-4fae-add9-ceef53e235d0",
   "metadata": {},
   "source": [
    "**(pop)**"
   ]
  },
  {
   "cell_type": "code",
   "execution_count": 91,
   "id": "20bbd61d-88d7-4e02-8ba0-7985575c6255",
   "metadata": {},
   "outputs": [
    {
     "data": {
      "text/plain": [
       "80"
      ]
     },
     "execution_count": 91,
     "metadata": {},
     "output_type": "execute_result"
    }
   ],
   "source": [
    "dct = {'guebin':49, 'hanni':80} \n",
    "dct.pop('hanni')"
   ]
  },
  {
   "cell_type": "code",
   "execution_count": 92,
   "id": "d0d23cd8-69b7-483a-89fe-b35ba3a11646",
   "metadata": {},
   "outputs": [
    {
     "data": {
      "text/plain": [
       "{'guebin': 49}"
      ]
     },
     "execution_count": 92,
     "metadata": {},
     "output_type": "execute_result"
    }
   ],
   "source": [
    "dct"
   ]
  },
  {
   "cell_type": "markdown",
   "id": "6a82cbb9-89fd-4e87-bae5-3c2e419c8c71",
   "metadata": {},
   "source": [
    "**(get)**"
   ]
  },
  {
   "cell_type": "code",
   "execution_count": 99,
   "id": "0d25bfc4-a68c-4c40-91ea-510b112670ac",
   "metadata": {},
   "outputs": [
    {
     "data": {
      "text/plain": [
       "{'guebin': 49, 'hanni': 80}"
      ]
     },
     "execution_count": 99,
     "metadata": {},
     "output_type": "execute_result"
    }
   ],
   "source": [
    "dct = {'guebin':49, 'hanni':80} \n",
    "dct"
   ]
  },
  {
   "cell_type": "code",
   "execution_count": 100,
   "id": "8c08bb88-d6ca-4b0d-aa8e-fa0727687d6e",
   "metadata": {},
   "outputs": [
    {
     "data": {
      "text/plain": [
       "49"
      ]
     },
     "execution_count": 100,
     "metadata": {},
     "output_type": "execute_result"
    }
   ],
   "source": [
    "dct.get('guebin') "
   ]
  },
  {
   "cell_type": "markdown",
   "id": "f1fcdde9-59cc-4aa5-bbaf-36fcf205c3ca",
   "metadata": {},
   "source": [
    "아래와 같은 기능 "
   ]
  },
  {
   "cell_type": "code",
   "execution_count": 101,
   "id": "b47948a1-b446-4ab7-908b-f7b6dc08b330",
   "metadata": {},
   "outputs": [
    {
     "data": {
      "text/plain": [
       "49"
      ]
     },
     "execution_count": 101,
     "metadata": {},
     "output_type": "execute_result"
    }
   ],
   "source": [
    "dct['guebin']"
   ]
  },
  {
   "cell_type": "markdown",
   "id": "ef55fd60-6080-40bc-bc73-5c13a6d251d7",
   "metadata": {},
   "source": [
    "미묘한 차이점이 존재함 "
   ]
  },
  {
   "cell_type": "code",
   "execution_count": 102,
   "id": "0d06d0a5-4b9e-4c45-8e8e-33ff10d6f3e4",
   "metadata": {},
   "outputs": [
    {
     "ename": "KeyError",
     "evalue": "'hynn'",
     "output_type": "error",
     "traceback": [
      "\u001b[31m---------------------------------------------------------------------------\u001b[39m",
      "\u001b[31mKeyError\u001b[39m                                  Traceback (most recent call last)",
      "\u001b[36mCell\u001b[39m\u001b[36m \u001b[39m\u001b[32mIn[102]\u001b[39m\u001b[32m, line 1\u001b[39m\n\u001b[32m----> \u001b[39m\u001b[32m1\u001b[39m \u001b[43mdct\u001b[49m\u001b[43m[\u001b[49m\u001b[33;43m'\u001b[39;49m\u001b[33;43mhynn\u001b[39;49m\u001b[33;43m'\u001b[39;49m\u001b[43m]\u001b[49m \u001b[38;5;66;03m# hynn이 없어서 키에러 출력, 그런 key는 없다.. \u001b[39;00m\n",
      "\u001b[31mKeyError\u001b[39m: 'hynn'"
     ]
    }
   ],
   "source": [
    "dct['hynn'] # hynn이 없어서 키에러 출력, 그런 key는 없다.. "
   ]
  },
  {
   "cell_type": "code",
   "execution_count": 103,
   "id": "39e42e13-96c0-4060-9c69-84af7500c677",
   "metadata": {},
   "outputs": [],
   "source": [
    "dct.get('hynn') # hynn이 없으면 아무것도 출력안함 "
   ]
  },
  {
   "cell_type": "markdown",
   "id": "41fe9639-e123-4527-8f41-16b6ec8a74f8",
   "metadata": {},
   "source": [
    "**(keys,values,items)**"
   ]
  },
  {
   "cell_type": "markdown",
   "id": "4fe681f2-fe75-4671-b2da-b004a744cdd6",
   "metadata": {},
   "source": [
    "`-` .keys()는 딕셔너리의 키를 리턴한다.  "
   ]
  },
  {
   "cell_type": "code",
   "execution_count": 104,
   "id": "1da1d01c-aa56-42a2-a79e-7e40b5e11fca",
   "metadata": {},
   "outputs": [
    {
     "data": {
      "text/plain": [
       "{'guebin': 49, 'hanni': 80}"
      ]
     },
     "execution_count": 104,
     "metadata": {},
     "output_type": "execute_result"
    }
   ],
   "source": [
    "dct = {'guebin':49, 'hanni':80} \n",
    "dct"
   ]
  },
  {
   "cell_type": "code",
   "execution_count": 110,
   "id": "16273042-8786-4f14-a3b6-571fb1a5c8fb",
   "metadata": {},
   "outputs": [
    {
     "data": {
      "text/plain": [
       "dict_keys(['guebin', 'hanni'])"
      ]
     },
     "execution_count": 110,
     "metadata": {},
     "output_type": "execute_result"
    }
   ],
   "source": [
    "dct.keys()"
   ]
  },
  {
   "cell_type": "code",
   "execution_count": 111,
   "id": "2f84afe4-bd23-4b03-9956-315f3792ffb6",
   "metadata": {},
   "outputs": [
    {
     "data": {
      "text/plain": [
       "dict_keys(['guebin', 'hanni'])"
      ]
     },
     "execution_count": 111,
     "metadata": {},
     "output_type": "execute_result"
    }
   ],
   "source": [
    "keys=dct.keys()\n",
    "keys"
   ]
  },
  {
   "cell_type": "markdown",
   "id": "03a23470-2eb4-4f86-b781-222a74f65aa2",
   "metadata": {},
   "source": [
    "`-` .values()는 딕셔너리의 값들을 리턴한다. "
   ]
  },
  {
   "cell_type": "code",
   "execution_count": 112,
   "id": "745efa6c-fbe7-4221-8936-e1d0970056e5",
   "metadata": {},
   "outputs": [
    {
     "data": {
      "text/plain": [
       "dict_values([49, 80])"
      ]
     },
     "execution_count": 112,
     "metadata": {},
     "output_type": "execute_result"
    }
   ],
   "source": [
    "values = dct.values()\n",
    "values "
   ]
  },
  {
   "cell_type": "code",
   "execution_count": 114,
   "id": "00a018ae-c238-4d5d-abc2-e392c9ca5139",
   "metadata": {},
   "outputs": [
    {
     "data": {
      "text/plain": [
       "dict_values"
      ]
     },
     "execution_count": 114,
     "metadata": {},
     "output_type": "execute_result"
    }
   ],
   "source": [
    "type(values)"
   ]
  },
  {
   "cell_type": "code",
   "execution_count": 115,
   "id": "6bd15a66-918b-41a8-86b5-a5da7e723943",
   "metadata": {},
   "outputs": [
    {
     "data": {
      "text/plain": [
       "[49, 80]"
      ]
     },
     "execution_count": 115,
     "metadata": {},
     "output_type": "execute_result"
    }
   ],
   "source": [
    "list(values)"
   ]
  },
  {
   "cell_type": "markdown",
   "id": "5b0154f5-5cc8-4d98-8241-9b525b7c292d",
   "metadata": {},
   "source": [
    "`-` .items()는 딕셔너리의 (키,값)을 리턴한다. "
   ]
  },
  {
   "cell_type": "code",
   "execution_count": 118,
   "id": "c0dd9fb8-a959-4ee7-a394-5cdd2c17e53f",
   "metadata": {},
   "outputs": [
    {
     "data": {
      "text/plain": [
       "dict_items([('guebin', 49), ('hanni', 80)])"
      ]
     },
     "execution_count": 118,
     "metadata": {},
     "output_type": "execute_result"
    }
   ],
   "source": [
    "items = dct.items()\n",
    "items "
   ]
  },
  {
   "cell_type": "code",
   "execution_count": 119,
   "id": "24ecdc30-ab9f-496b-8769-ea843da297c2",
   "metadata": {},
   "outputs": [
    {
     "data": {
      "text/plain": [
       "dict_items"
      ]
     },
     "execution_count": 119,
     "metadata": {},
     "output_type": "execute_result"
    }
   ],
   "source": [
    "type(items)"
   ]
  },
  {
   "cell_type": "code",
   "execution_count": 120,
   "id": "f6f1a7b2-5b7d-4869-a667-fae8c08954b1",
   "metadata": {},
   "outputs": [
    {
     "data": {
      "text/plain": [
       "[('guebin', 49), ('hanni', 80)]"
      ]
     },
     "execution_count": 120,
     "metadata": {},
     "output_type": "execute_result"
    }
   ],
   "source": [
    "list(items)"
   ]
  },
  {
   "cell_type": "markdown",
   "id": "f6aba94e-262c-4d14-bcb1-1fcf88eaa53b",
   "metadata": {},
   "source": [
    "### F. for문과 dict ($\\star$)"
   ]
  },
  {
   "cell_type": "code",
   "execution_count": 121,
   "id": "a9006905-ce1b-4358-8828-feac075d069c",
   "metadata": {},
   "outputs": [
    {
     "data": {
      "text/plain": [
       "{'guebin': 49, 'hanni': 80}"
      ]
     },
     "execution_count": 121,
     "metadata": {},
     "output_type": "execute_result"
    }
   ],
   "source": [
    "dct = {'guebin': 49, 'hanni': 80}\n",
    "dct"
   ]
  },
  {
   "cell_type": "markdown",
   "id": "8961d68f-d8be-43ac-a3a4-f88baa302921",
   "metadata": {},
   "source": [
    "(예시1) "
   ]
  },
  {
   "cell_type": "code",
   "execution_count": 128,
   "id": "1026f243-db02-428c-a254-75548555dc1f",
   "metadata": {},
   "outputs": [
    {
     "name": "stdout",
     "output_type": "stream",
     "text": [
      "guebin\n",
      "hanni\n"
     ]
    }
   ],
   "source": [
    "for k in dct.keys():\n",
    "    print(k)"
   ]
  },
  {
   "cell_type": "code",
   "execution_count": 129,
   "id": "b0d1efb0-e413-4f48-a1b3-02ad5f8f28c5",
   "metadata": {},
   "outputs": [
    {
     "name": "stdout",
     "output_type": "stream",
     "text": [
      "guebin\n",
      "hanni\n"
     ]
    }
   ],
   "source": [
    "for k in dct:\n",
    "    print(k)"
   ]
  },
  {
   "cell_type": "code",
   "execution_count": 133,
   "id": "d19d8fc7-0299-4cc6-9ce4-766a5092fba9",
   "metadata": {},
   "outputs": [
    {
     "name": "stdout",
     "output_type": "stream",
     "text": [
      "guebin\n",
      "hanni\n"
     ]
    }
   ],
   "source": [
    "for k in dct:\n",
    "    print(k)"
   ]
  },
  {
   "cell_type": "markdown",
   "id": "6d112e18-14e7-4e9a-8125-5d59329e421c",
   "metadata": {},
   "source": [
    "(예시2)"
   ]
  },
  {
   "cell_type": "code",
   "execution_count": 138,
   "id": "e0b4a9d5-ec54-410a-a442-5e29dff7f322",
   "metadata": {},
   "outputs": [
    {
     "name": "stdout",
     "output_type": "stream",
     "text": [
      "49\n",
      "80\n"
     ]
    }
   ],
   "source": [
    "for v in dct.values():\n",
    "    print(v)"
   ]
  },
  {
   "cell_type": "markdown",
   "id": "5de74f69-80a1-4270-a1f2-8ea7a9c9a840",
   "metadata": {},
   "source": [
    "(예시3)"
   ]
  },
  {
   "cell_type": "code",
   "execution_count": 154,
   "id": "1887b89d-b9a1-4591-bc08-9e53540728aa",
   "metadata": {},
   "outputs": [
    {
     "name": "stdout",
     "output_type": "stream",
     "text": [
      "('guebin', 49)\n",
      "('hanni', 80)\n"
     ]
    }
   ],
   "source": [
    "for i in dct.items():\n",
    "    print(i)"
   ]
  },
  {
   "cell_type": "markdown",
   "id": "e10d60c1-9e3b-4954-a587-14aed3227f9a",
   "metadata": {},
   "source": [
    "(예시4)"
   ]
  },
  {
   "cell_type": "code",
   "execution_count": 155,
   "id": "441947b1-4fdc-4ae7-b1e6-18c9ac7a8558",
   "metadata": {},
   "outputs": [
    {
     "name": "stdout",
     "output_type": "stream",
     "text": [
      "guebin 49\n",
      "hanni 80\n"
     ]
    }
   ],
   "source": [
    "for k,v in dct.items(): # 다중할당\n",
    "    print(k,v)"
   ]
  },
  {
   "cell_type": "markdown",
   "id": "b1f8c3b2-1e7c-4a66-9b97-8cbb66fda0e7",
   "metadata": {},
   "source": [
    "(예시5) -- {}의 중간고사 점수는 {}점 입니다."
   ]
  },
  {
   "cell_type": "code",
   "execution_count": 162,
   "id": "caf40da5-0308-4ae9-8096-1faba87ad20e",
   "metadata": {},
   "outputs": [
    {
     "name": "stdout",
     "output_type": "stream",
     "text": [
      "guebin의 중간고사 점수는 49점 입니다.\n",
      "hanni의 중간고사 점수는 80점 입니다.\n"
     ]
    }
   ],
   "source": [
    "for k,v in dct.items():\n",
    "    print(f\"{k}의 중간고사 점수는 {v}점 입니다.\")"
   ]
  },
  {
   "cell_type": "markdown",
   "id": "b02b7916-46c6-44ef-9242-83edebe543fb",
   "metadata": {},
   "source": [
    "### G. dict에서 key혹은 value만 뽑아내기 "
   ]
  },
  {
   "cell_type": "markdown",
   "id": "128f49ac-fec5-4b55-9719-62e97ec006be",
   "metadata": {},
   "source": [
    "`-` 예제: 아래의 dict에서 key만 뽑아내고 싶다. "
   ]
  },
  {
   "cell_type": "code",
   "execution_count": 51,
   "id": "820adafa-7455-4f02-a665-95ef60b4b5c3",
   "metadata": {},
   "outputs": [],
   "source": [
    "dct = {'guebin':49, 'hanni':80} "
   ]
  },
  {
   "cell_type": "markdown",
   "id": "d2146663-ff50-40cf-8a32-71744069d2de",
   "metadata": {},
   "source": [
    "(풀이1)"
   ]
  },
  {
   "cell_type": "code",
   "execution_count": 170,
   "id": "328dbe2d-0541-4d24-86fa-fe2c1c84dbc4",
   "metadata": {},
   "outputs": [
    {
     "data": {
      "text/plain": [
       "['guebin', 'hanni']"
      ]
     },
     "execution_count": 170,
     "metadata": {},
     "output_type": "execute_result"
    }
   ],
   "source": [
    "list(dct)"
   ]
  },
  {
   "cell_type": "markdown",
   "id": "8f5fd181-c030-4afa-a8ed-752df73adff0",
   "metadata": {},
   "source": [
    "(풀이2)"
   ]
  },
  {
   "cell_type": "code",
   "execution_count": 171,
   "id": "b2c05392-507b-46cb-a63a-e6b8e40a5001",
   "metadata": {},
   "outputs": [
    {
     "data": {
      "text/plain": [
       "['guebin', 'hanni']"
      ]
     },
     "execution_count": 171,
     "metadata": {},
     "output_type": "execute_result"
    }
   ],
   "source": [
    "list(dct.keys())"
   ]
  },
  {
   "cell_type": "markdown",
   "id": "d2d7b5b0-40b5-4b1d-a45f-5df15c98e5ef",
   "metadata": {},
   "source": [
    "(풀이3)"
   ]
  },
  {
   "cell_type": "code",
   "execution_count": 174,
   "id": "1b149806-b6d2-4e1b-955d-340c5affe594",
   "metadata": {},
   "outputs": [
    {
     "data": {
      "text/plain": [
       "['guebin', 'hanni']"
      ]
     },
     "execution_count": 174,
     "metadata": {},
     "output_type": "execute_result"
    }
   ],
   "source": [
    "[k for k in dct]"
   ]
  },
  {
   "cell_type": "markdown",
   "id": "79e07ed1-91d1-4768-b200-d0bb1af1fcc1",
   "metadata": {},
   "source": [
    "(풀이4)"
   ]
  },
  {
   "cell_type": "code",
   "execution_count": 175,
   "id": "f08e1e35-8193-4987-b0c4-1d9103625cd2",
   "metadata": {},
   "outputs": [
    {
     "data": {
      "text/plain": [
       "['guebin', 'hanni']"
      ]
     },
     "execution_count": 175,
     "metadata": {},
     "output_type": "execute_result"
    }
   ],
   "source": [
    "[k for k,v in dct.items()]"
   ]
  },
  {
   "cell_type": "markdown",
   "id": "68cd002f-835f-458a-b0a8-7aea200d7a6c",
   "metadata": {},
   "source": [
    "`-` 예제: 아래의 dict에서 value만 뽑아내고 싶다. "
   ]
  },
  {
   "cell_type": "code",
   "execution_count": 56,
   "id": "cc25556a-89df-4772-9ba1-1a16db2f40b4",
   "metadata": {},
   "outputs": [],
   "source": [
    "dct = {'guebin':49, 'hanni':80} "
   ]
  },
  {
   "cell_type": "markdown",
   "id": "e7ebbdff-c3d2-4332-adcd-7dd270fc2fd0",
   "metadata": {},
   "source": [
    "(풀이1)"
   ]
  },
  {
   "cell_type": "code",
   "execution_count": 57,
   "id": "0852ccab-8e18-4327-ab7d-b29bd89e34cf",
   "metadata": {},
   "outputs": [
    {
     "data": {
      "text/plain": [
       "[49, 80]"
      ]
     },
     "execution_count": 57,
     "metadata": {},
     "output_type": "execute_result"
    }
   ],
   "source": [
    "list(dct.values())"
   ]
  },
  {
   "cell_type": "markdown",
   "id": "cd141a78-5896-4322-b15f-8b778788d6d6",
   "metadata": {},
   "source": [
    "(풀이2)"
   ]
  },
  {
   "cell_type": "code",
   "execution_count": 58,
   "id": "d09f15f4-71b4-4d32-bef8-0f35910587ae",
   "metadata": {},
   "outputs": [
    {
     "data": {
      "text/plain": [
       "[49, 80]"
      ]
     },
     "execution_count": 58,
     "metadata": {},
     "output_type": "execute_result"
    }
   ],
   "source": [
    "[dct[k] for k in dct]"
   ]
  },
  {
   "cell_type": "markdown",
   "id": "1ac0cf9e-4112-4363-b137-5bf7c3cc0420",
   "metadata": {},
   "source": [
    "(풀이3)"
   ]
  },
  {
   "cell_type": "code",
   "execution_count": 106,
   "id": "65e6b08b-a705-4906-a0f7-fe43d40cfdf7",
   "metadata": {},
   "outputs": [
    {
     "data": {
      "text/plain": [
       "[49, 80]"
      ]
     },
     "execution_count": 106,
     "metadata": {},
     "output_type": "execute_result"
    }
   ],
   "source": [
    "[v for v in dct.values()]"
   ]
  },
  {
   "cell_type": "markdown",
   "id": "d4e7e48c-4475-4ab5-91cb-25686b065c4d",
   "metadata": {},
   "source": [
    "(풀이4)"
   ]
  },
  {
   "cell_type": "code",
   "execution_count": 107,
   "id": "22fc8d22-d725-4bca-abbf-e195c470f3e4",
   "metadata": {},
   "outputs": [
    {
     "data": {
      "text/plain": [
       "[49, 80]"
      ]
     },
     "execution_count": 107,
     "metadata": {},
     "output_type": "execute_result"
    }
   ],
   "source": [
    "[v for k,v in dct.items()]"
   ]
  },
  {
   "cell_type": "markdown",
   "id": "f853ee80-8157-40b1-bda4-409cb797b298",
   "metadata": {},
   "source": [
    "## 2. 숙제 "
   ]
  },
  {
   "cell_type": "markdown",
   "id": "03bf4872-66eb-4178-9184-fecad268fe8a",
   "metadata": {},
   "source": [
    "아래는 학생들의 성적을 기록한 것이다. "
   ]
  },
  {
   "cell_type": "code",
   "execution_count": 178,
   "id": "3cd727c2-ebd0-4335-a776-3d62053e8657",
   "metadata": {},
   "outputs": [],
   "source": [
    "dct = {'iu': 50, 'guebin':20 , 'hanni':90, 'hodong':95}"
   ]
  },
  {
   "cell_type": "markdown",
   "id": "8cbc39af-ebfe-46e8-84f0-4a5054603875",
   "metadata": {},
   "source": [
    "`(1)` 채점실수로 모든 학생들의 점수를 5점씩 감점하고 싶다. 5점감점된 점수들을 정리하는 아래와 같은 dct를 만드는 코드를 제시하라. (dict 컴프리헨션이용)"
   ]
  },
  {
   "cell_type": "markdown",
   "id": "f40618b5-296a-4efe-9764-7cf1cba07b30",
   "metadata": {},
   "source": [
    "`(2)` 성적이 50점 이상인 학생들을 출력하는 코드를 제시하라. "
   ]
  }
 ],
 "metadata": {
  "kernelspec": {
   "display_name": "Python 3 (ipykernel)",
   "language": "python",
   "name": "python3"
  },
  "language_info": {
   "codemirror_mode": {
    "name": "ipython",
    "version": 3
   },
   "file_extension": ".py",
   "mimetype": "text/x-python",
   "name": "python",
   "nbconvert_exporter": "python",
   "pygments_lexer": "ipython3",
   "version": "3.13.2"
  }
 },
 "nbformat": 4,
 "nbformat_minor": 5
}
